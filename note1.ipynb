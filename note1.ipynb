{
 "cells": [
  {
   "cell_type": "markdown",
   "metadata": {},
   "source": [
    "haomeiya007\n",
    "\n",
    "2020年11月17日10:13:24\n"
   ]
  },
  {
   "cell_type": "code",
   "execution_count": 1,
   "metadata": {},
   "outputs": [
    {
     "name": "stdout",
     "output_type": "stream",
     "text": [
      "Looking in indexes: https://pypi.tuna.tsinghua.edu.cn/simple\n",
      "Collecting tensorflow==1.14\n",
      "  Downloading https://pypi.tuna.tsinghua.edu.cn/packages/de/f0/96fb2e0412ae9692dbf400e5b04432885f677ad6241c088ccc5fe7724d69/tensorflow-1.14.0-cp36-cp36m-manylinux1_x86_64.whl (109.2 MB)\n",
      "\u001b[K     |████████████████████████████████| 109.2 MB 6.3 kB/s  eta 0:00:01\n",
      "\u001b[?25hCollecting grpcio>=1.8.6\n",
      "  Downloading https://pypi.tuna.tsinghua.edu.cn/packages/06/b1/4992fae78dd6f32c8a2275ea1a2cbc4bfd882fb62076bde0af33124055e5/grpcio-1.33.2-cp36-cp36m-manylinux2014_x86_64.whl (3.8 MB)\n",
      "\u001b[K     |████████████████████████████████| 3.8 MB 230 kB/s eta 0:00:011\n",
      "\u001b[?25hCollecting protobuf>=3.6.1\n",
      "  Downloading https://pypi.tuna.tsinghua.edu.cn/packages/fe/fd/247ef25f5ec5f9acecfbc98ca3c6aaf66716cf52509aca9a93583d410493/protobuf-3.14.0-cp36-cp36m-manylinux1_x86_64.whl (1.0 MB)\n",
      "\u001b[K     |████████████████████████████████| 1.0 MB 58.3 MB/s eta 0:00:01\n",
      "\u001b[?25hCollecting tensorboard<1.15.0,>=1.14.0\n",
      "  Using cached https://pypi.tuna.tsinghua.edu.cn/packages/91/2d/2ed263449a078cd9c8a9ba50ebd50123adf1f8cfbea1492f9084169b89d9/tensorboard-1.14.0-py3-none-any.whl (3.1 MB)\n",
      "Requirement already satisfied: six>=1.10.0 in /home/xuehp/anaconda3/envs/t5_in_bert4keras/lib/python3.6/site-packages (from tensorflow==1.14) (1.15.0)\n",
      "Collecting absl-py>=0.7.0\n",
      "  Downloading https://pypi.tuna.tsinghua.edu.cn/packages/bc/58/0aa6fb779dc69cfc811df3398fcbeaeefbf18561b6e36b185df0782781cc/absl_py-0.11.0-py3-none-any.whl (127 kB)\n",
      "\u001b[K     |████████████████████████████████| 127 kB 94.7 MB/s eta 0:00:01\n",
      "\u001b[?25hCollecting tensorflow-estimator<1.15.0rc0,>=1.14.0rc0\n",
      "  Using cached https://pypi.tuna.tsinghua.edu.cn/packages/3c/d5/21860a5b11caf0678fbc8319341b0ae21a07156911132e0e71bffed0510d/tensorflow_estimator-1.14.0-py2.py3-none-any.whl (488 kB)\n",
      "Collecting astor>=0.6.0\n",
      "  Using cached https://pypi.tuna.tsinghua.edu.cn/packages/c3/88/97eef84f48fa04fbd6750e62dcceafba6c63c81b7ac1420856c8dcc0a3f9/astor-0.8.1-py2.py3-none-any.whl (27 kB)\n",
      "Requirement already satisfied: wheel>=0.26 in /home/xuehp/anaconda3/envs/t5_in_bert4keras/lib/python3.6/site-packages (from tensorflow==1.14) (0.35.1)\n",
      "Collecting keras-applications>=1.0.6\n",
      "  Using cached https://pypi.tuna.tsinghua.edu.cn/packages/71/e3/19762fdfc62877ae9102edf6342d71b28fbfd9dea3d2f96a882ce099b03f/Keras_Applications-1.0.8-py3-none-any.whl (50 kB)\n",
      "Processing /home/xuehp/.cache/pip/wheels/72/93/79/e1a52c99d70255c3f70f7d5684e12f58bf4b886b5da1a3463b/termcolor-1.1.0-py3-none-any.whl\n",
      "Collecting google-pasta>=0.1.6\n",
      "  Downloading https://pypi.tuna.tsinghua.edu.cn/packages/a3/de/c648ef6835192e6e2cc03f40b19eeda4382c49b5bafb43d88b931c4c74ac/google_pasta-0.2.0-py3-none-any.whl (57 kB)\n",
      "\u001b[K     |████████████████████████████████| 57 kB 11.8 MB/s eta 0:00:01\n",
      "\u001b[?25hCollecting numpy<2.0,>=1.14.5\n",
      "  Downloading https://pypi.tuna.tsinghua.edu.cn/packages/87/86/753182c9085ba4936c0076269a571613387cdb77ae2bf537448bfd63472c/numpy-1.19.4-cp36-cp36m-manylinux2010_x86_64.whl (14.5 MB)\n",
      "\u001b[K     |████████████████████████████████| 14.5 MB 368 kB/s eta 0:00:01\n",
      "\u001b[?25hCollecting gast>=0.2.0\n",
      "  Using cached https://pypi.tuna.tsinghua.edu.cn/packages/b6/48/583c032b79ae5b3daa02225a675aeb673e58d2cb698e78510feceb11958c/gast-0.4.0-py3-none-any.whl (9.8 kB)\n",
      "Collecting keras-preprocessing>=1.0.5\n",
      "  Using cached https://pypi.tuna.tsinghua.edu.cn/packages/79/4c/7c3275a01e12ef9368a892926ab932b33bb13d55794881e3573482b378a7/Keras_Preprocessing-1.1.2-py2.py3-none-any.whl (42 kB)\n",
      "Collecting wrapt>=1.11.1\n",
      "  Using cached https://pypi.tuna.tsinghua.edu.cn/packages/82/f7/e43cefbe88c5fd371f4cf0cf5eb3feccd07515af9fd6cf7dbf1d1793a797/wrapt-1.12.1.tar.gz (27 kB)\n",
      "Collecting markdown>=2.6.8\n",
      "  Downloading https://pypi.tuna.tsinghua.edu.cn/packages/ac/ef/24a91ca96efa0d7802dffb83ccc7a3c677027bea19ec3c9ee80be740408e/Markdown-3.3.3-py3-none-any.whl (96 kB)\n",
      "\u001b[K     |████████████████████████████████| 96 kB 7.6 MB/s  eta 0:00:01\n",
      "\u001b[?25hRequirement already satisfied: setuptools>=41.0.0 in /home/xuehp/anaconda3/envs/t5_in_bert4keras/lib/python3.6/site-packages (from tensorboard<1.15.0,>=1.14.0->tensorflow==1.14) (50.3.1.post20201107)\n",
      "Collecting werkzeug>=0.11.15\n",
      "  Downloading https://pypi.tuna.tsinghua.edu.cn/packages/cc/94/5f7079a0e00bd6863ef8f1da638721e9da21e5bacee597595b318f71d62e/Werkzeug-1.0.1-py2.py3-none-any.whl (298 kB)\n",
      "\u001b[K     |████████████████████████████████| 298 kB 369 kB/s eta 0:00:01\n",
      "\u001b[?25hCollecting h5py\n",
      "  Downloading https://pypi.tuna.tsinghua.edu.cn/packages/70/7a/e53e500335afb6b1aade11227cdf107fca54106a1dca5c9d13242a043f3b/h5py-3.1.0-cp36-cp36m-manylinux1_x86_64.whl (4.0 MB)\n",
      "\u001b[K     |████████████████████████████████| 4.0 MB 210 kB/s eta 0:00:011\n",
      "\u001b[?25hRequirement already satisfied: importlib-metadata; python_version < \"3.8\" in /home/xuehp/anaconda3/envs/t5_in_bert4keras/lib/python3.6/site-packages (from markdown>=2.6.8->tensorboard<1.15.0,>=1.14.0->tensorflow==1.14) (2.0.0)\n",
      "Collecting cached-property; python_version < \"3.8\"\n",
      "  Downloading https://pypi.tuna.tsinghua.edu.cn/packages/48/19/f2090f7dad41e225c7f2326e4cfe6fff49e57dedb5b53636c9551f86b069/cached_property-1.5.2-py2.py3-none-any.whl (7.6 kB)\n",
      "Requirement already satisfied: zipp>=0.5 in /home/xuehp/anaconda3/envs/t5_in_bert4keras/lib/python3.6/site-packages (from importlib-metadata; python_version < \"3.8\"->markdown>=2.6.8->tensorboard<1.15.0,>=1.14.0->tensorflow==1.14) (3.4.0)\n",
      "Building wheels for collected packages: wrapt\n",
      "  Building wheel for wrapt (setup.py) ... \u001b[?25ldone\n",
      "\u001b[?25h  Created wheel for wrapt: filename=wrapt-1.12.1-cp36-cp36m-linux_x86_64.whl size=66161 sha256=d1c6928e664ca41c96a23ec3264e480e851d34912e7ad3417e3b4233f6dbf459\n",
      "  Stored in directory: /home/xuehp/.cache/pip/wheels/30/64/60/93916e7d108f62ba24d58618c8672bb543bec97d71f9e4d8ab\n",
      "Successfully built wrapt\n",
      "Installing collected packages: grpcio, protobuf, markdown, numpy, absl-py, werkzeug, tensorboard, tensorflow-estimator, astor, cached-property, h5py, keras-applications, termcolor, google-pasta, gast, keras-preprocessing, wrapt, tensorflow\n",
      "Successfully installed absl-py-0.11.0 astor-0.8.1 cached-property-1.5.2 gast-0.4.0 google-pasta-0.2.0 grpcio-1.33.2 h5py-3.1.0 keras-applications-1.0.8 keras-preprocessing-1.1.2 markdown-3.3.3 numpy-1.19.4 protobuf-3.14.0 tensorboard-1.14.0 tensorflow-1.14.0 tensorflow-estimator-1.14.0 termcolor-1.1.0 werkzeug-1.0.1 wrapt-1.12.1\n"
     ]
    }
   ],
   "source": [
    "!pip install tensorflow==1.14"
   ]
  },
  {
   "cell_type": "code",
   "execution_count": 2,
   "metadata": {},
   "outputs": [
    {
     "name": "stdout",
     "output_type": "stream",
     "text": [
      "Looking in indexes: https://pypi.tuna.tsinghua.edu.cn/simple\n",
      "Collecting keras==2.3.1\n",
      "  Downloading https://pypi.tuna.tsinghua.edu.cn/packages/ad/fd/6bfe87920d7f4fd475acd28500a42482b6b84479832bdc0fe9e589a60ceb/Keras-2.3.1-py2.py3-none-any.whl (377 kB)\n",
      "\u001b[K     |████████████████████████████████| 377 kB 8.0 MB/s eta 0:00:01\n",
      "\u001b[?25hRequirement already satisfied: h5py in /home/xuehp/anaconda3/envs/t5_in_bert4keras/lib/python3.6/site-packages (from keras==2.3.1) (3.1.0)\n",
      "Collecting scipy>=0.14\n",
      "  Downloading https://pypi.tuna.tsinghua.edu.cn/packages/c8/89/63171228d5ced148f5ced50305c89e8576ffc695a90b58fe5bb602b910c2/scipy-1.5.4-cp36-cp36m-manylinux1_x86_64.whl (25.9 MB)\n",
      "\u001b[K     |████████████████████████████████| 25.9 MB 9.3 MB/s eta 0:00:01\n",
      "\u001b[?25hRequirement already satisfied: six>=1.9.0 in /home/xuehp/anaconda3/envs/t5_in_bert4keras/lib/python3.6/site-packages (from keras==2.3.1) (1.15.0)\n",
      "Requirement already satisfied: keras-applications>=1.0.6 in /home/xuehp/anaconda3/envs/t5_in_bert4keras/lib/python3.6/site-packages (from keras==2.3.1) (1.0.8)\n",
      "Requirement already satisfied: numpy>=1.9.1 in /home/xuehp/anaconda3/envs/t5_in_bert4keras/lib/python3.6/site-packages (from keras==2.3.1) (1.19.4)\n",
      "Processing /home/xuehp/.cache/pip/wheels/58/45/ba/bc549c51f296ce4a4cd936c1df4d40a8790b004dfd8da2ca4c/PyYAML-5.3.1-cp36-cp36m-linux_x86_64.whl\n",
      "Requirement already satisfied: keras-preprocessing>=1.0.5 in /home/xuehp/anaconda3/envs/t5_in_bert4keras/lib/python3.6/site-packages (from keras==2.3.1) (1.1.2)\n",
      "Requirement already satisfied: cached-property; python_version < \"3.8\" in /home/xuehp/anaconda3/envs/t5_in_bert4keras/lib/python3.6/site-packages (from h5py->keras==2.3.1) (1.5.2)\n",
      "Installing collected packages: scipy, pyyaml, keras\n",
      "Successfully installed keras-2.3.1 pyyaml-5.3.1 scipy-1.5.4\n"
     ]
    }
   ],
   "source": [
    "!pip install keras==2.3.1\n"
   ]
  },
  {
   "cell_type": "code",
   "execution_count": 3,
   "metadata": {},
   "outputs": [
    {
     "name": "stdout",
     "output_type": "stream",
     "text": [
      "Looking in indexes: https://pypi.tuna.tsinghua.edu.cn/simple\n",
      "Collecting bert4keras==0.9.1\n",
      "  Downloading https://pypi.tuna.tsinghua.edu.cn/packages/dc/c8/b7d10647a8dd84a3329df29137594e3f2ccdb110261adb0ce58d08936fe3/bert4keras-0.9.1.tar.gz (41 kB)\n",
      "\u001b[K     |████████████████████████████████| 41 kB 645 kB/s eta 0:00:011\n",
      "\u001b[?25hRequirement already satisfied: keras<=2.3.1 in /home/xuehp/anaconda3/envs/t5_in_bert4keras/lib/python3.6/site-packages (from bert4keras==0.9.1) (2.3.1)\n",
      "Requirement already satisfied: keras-preprocessing>=1.0.5 in /home/xuehp/anaconda3/envs/t5_in_bert4keras/lib/python3.6/site-packages (from keras<=2.3.1->bert4keras==0.9.1) (1.1.2)\n",
      "Requirement already satisfied: keras-applications>=1.0.6 in /home/xuehp/anaconda3/envs/t5_in_bert4keras/lib/python3.6/site-packages (from keras<=2.3.1->bert4keras==0.9.1) (1.0.8)\n",
      "Requirement already satisfied: h5py in /home/xuehp/anaconda3/envs/t5_in_bert4keras/lib/python3.6/site-packages (from keras<=2.3.1->bert4keras==0.9.1) (3.1.0)\n",
      "Requirement already satisfied: six>=1.9.0 in /home/xuehp/anaconda3/envs/t5_in_bert4keras/lib/python3.6/site-packages (from keras<=2.3.1->bert4keras==0.9.1) (1.15.0)\n",
      "Requirement already satisfied: pyyaml in /home/xuehp/anaconda3/envs/t5_in_bert4keras/lib/python3.6/site-packages (from keras<=2.3.1->bert4keras==0.9.1) (5.3.1)\n",
      "Requirement already satisfied: scipy>=0.14 in /home/xuehp/anaconda3/envs/t5_in_bert4keras/lib/python3.6/site-packages (from keras<=2.3.1->bert4keras==0.9.1) (1.5.4)\n",
      "Requirement already satisfied: numpy>=1.9.1 in /home/xuehp/anaconda3/envs/t5_in_bert4keras/lib/python3.6/site-packages (from keras<=2.3.1->bert4keras==0.9.1) (1.19.4)\n",
      "Requirement already satisfied: cached-property; python_version < \"3.8\" in /home/xuehp/anaconda3/envs/t5_in_bert4keras/lib/python3.6/site-packages (from h5py->keras<=2.3.1->bert4keras==0.9.1) (1.5.2)\n",
      "Building wheels for collected packages: bert4keras\n",
      "  Building wheel for bert4keras (setup.py) ... \u001b[?25ldone\n",
      "\u001b[?25h  Created wheel for bert4keras: filename=bert4keras-0.9.1-py3-none-any.whl size=40353 sha256=9fa78d4cb08552864fe90a6af2a91dc08bd7ca035c85eb504f484bc489d072dd\n",
      "  Stored in directory: /home/xuehp/.cache/pip/wheels/7a/cb/85/1082896671d58567370fc38dbcf2a75083ddeccda77175342e\n",
      "Successfully built bert4keras\n",
      "Installing collected packages: bert4keras\n",
      "Successfully installed bert4keras-0.9.1\n"
     ]
    }
   ],
   "source": [
    "!pip install bert4keras==0.9.1"
   ]
  },
  {
   "cell_type": "code",
   "execution_count": 4,
   "metadata": {},
   "outputs": [
    {
     "name": "stdout",
     "output_type": "stream",
     "text": [
      "Traceback (most recent call last):\r\n",
      "  File \"task_autotitle_csl.py\", line 10, in <module>\r\n",
      "    from tqdm import tqdm\r\n",
      "ModuleNotFoundError: No module named 'tqdm'\r\n"
     ]
    }
   ],
   "source": [
    "!python task_autotitle_csl.py"
   ]
  },
  {
   "cell_type": "code",
   "execution_count": 5,
   "metadata": {},
   "outputs": [
    {
     "name": "stdout",
     "output_type": "stream",
     "text": [
      "Looking in indexes: https://pypi.tuna.tsinghua.edu.cn/simple\n",
      "Collecting tqdm\n",
      "  Downloading https://pypi.tuna.tsinghua.edu.cn/packages/dc/7e/bc84ebdb47cfc1f643d026570cb24dd40c2b7a29e167ea101f1702717658/tqdm-4.52.0-py2.py3-none-any.whl (71 kB)\n",
      "\u001b[K     |████████████████████████████████| 71 kB 1.3 MB/s eta 0:00:011\n",
      "\u001b[?25hInstalling collected packages: tqdm\n",
      "Successfully installed tqdm-4.52.0\n"
     ]
    }
   ],
   "source": [
    "!pip install tqdm"
   ]
  },
  {
   "cell_type": "code",
   "execution_count": 6,
   "metadata": {},
   "outputs": [
    {
     "name": "stdout",
     "output_type": "stream",
     "text": [
      "/home/xuehp/anaconda3/envs/t5_in_bert4keras/lib/python3.6/site-packages/tensorflow/python/framework/dtypes.py:516: FutureWarning: Passing (type, 1) or '1type' as a synonym of type is deprecated; in a future version of numpy, it will be understood as (type, (1,)) / '(1,)type'.\n",
      "  _np_qint8 = np.dtype([(\"qint8\", np.int8, 1)])\n",
      "/home/xuehp/anaconda3/envs/t5_in_bert4keras/lib/python3.6/site-packages/tensorflow/python/framework/dtypes.py:517: FutureWarning: Passing (type, 1) or '1type' as a synonym of type is deprecated; in a future version of numpy, it will be understood as (type, (1,)) / '(1,)type'.\n",
      "  _np_quint8 = np.dtype([(\"quint8\", np.uint8, 1)])\n",
      "/home/xuehp/anaconda3/envs/t5_in_bert4keras/lib/python3.6/site-packages/tensorflow/python/framework/dtypes.py:518: FutureWarning: Passing (type, 1) or '1type' as a synonym of type is deprecated; in a future version of numpy, it will be understood as (type, (1,)) / '(1,)type'.\n",
      "  _np_qint16 = np.dtype([(\"qint16\", np.int16, 1)])\n",
      "/home/xuehp/anaconda3/envs/t5_in_bert4keras/lib/python3.6/site-packages/tensorflow/python/framework/dtypes.py:519: FutureWarning: Passing (type, 1) or '1type' as a synonym of type is deprecated; in a future version of numpy, it will be understood as (type, (1,)) / '(1,)type'.\n",
      "  _np_quint16 = np.dtype([(\"quint16\", np.uint16, 1)])\n",
      "/home/xuehp/anaconda3/envs/t5_in_bert4keras/lib/python3.6/site-packages/tensorflow/python/framework/dtypes.py:520: FutureWarning: Passing (type, 1) or '1type' as a synonym of type is deprecated; in a future version of numpy, it will be understood as (type, (1,)) / '(1,)type'.\n",
      "  _np_qint32 = np.dtype([(\"qint32\", np.int32, 1)])\n",
      "/home/xuehp/anaconda3/envs/t5_in_bert4keras/lib/python3.6/site-packages/tensorflow/python/framework/dtypes.py:525: FutureWarning: Passing (type, 1) or '1type' as a synonym of type is deprecated; in a future version of numpy, it will be understood as (type, (1,)) / '(1,)type'.\n",
      "  np_resource = np.dtype([(\"resource\", np.ubyte, 1)])\n",
      "/home/xuehp/anaconda3/envs/t5_in_bert4keras/lib/python3.6/site-packages/tensorboard/compat/tensorflow_stub/dtypes.py:541: FutureWarning: Passing (type, 1) or '1type' as a synonym of type is deprecated; in a future version of numpy, it will be understood as (type, (1,)) / '(1,)type'.\n",
      "  _np_qint8 = np.dtype([(\"qint8\", np.int8, 1)])\n",
      "/home/xuehp/anaconda3/envs/t5_in_bert4keras/lib/python3.6/site-packages/tensorboard/compat/tensorflow_stub/dtypes.py:542: FutureWarning: Passing (type, 1) or '1type' as a synonym of type is deprecated; in a future version of numpy, it will be understood as (type, (1,)) / '(1,)type'.\n",
      "  _np_quint8 = np.dtype([(\"quint8\", np.uint8, 1)])\n",
      "/home/xuehp/anaconda3/envs/t5_in_bert4keras/lib/python3.6/site-packages/tensorboard/compat/tensorflow_stub/dtypes.py:543: FutureWarning: Passing (type, 1) or '1type' as a synonym of type is deprecated; in a future version of numpy, it will be understood as (type, (1,)) / '(1,)type'.\n",
      "  _np_qint16 = np.dtype([(\"qint16\", np.int16, 1)])\n",
      "/home/xuehp/anaconda3/envs/t5_in_bert4keras/lib/python3.6/site-packages/tensorboard/compat/tensorflow_stub/dtypes.py:544: FutureWarning: Passing (type, 1) or '1type' as a synonym of type is deprecated; in a future version of numpy, it will be understood as (type, (1,)) / '(1,)type'.\n",
      "  _np_quint16 = np.dtype([(\"quint16\", np.uint16, 1)])\n",
      "/home/xuehp/anaconda3/envs/t5_in_bert4keras/lib/python3.6/site-packages/tensorboard/compat/tensorflow_stub/dtypes.py:545: FutureWarning: Passing (type, 1) or '1type' as a synonym of type is deprecated; in a future version of numpy, it will be understood as (type, (1,)) / '(1,)type'.\n",
      "  _np_qint32 = np.dtype([(\"qint32\", np.int32, 1)])\n",
      "/home/xuehp/anaconda3/envs/t5_in_bert4keras/lib/python3.6/site-packages/tensorboard/compat/tensorflow_stub/dtypes.py:550: FutureWarning: Passing (type, 1) or '1type' as a synonym of type is deprecated; in a future version of numpy, it will be understood as (type, (1,)) / '(1,)type'.\n",
      "  np_resource = np.dtype([(\"resource\", np.ubyte, 1)])\n",
      "Using TensorFlow backend.\n",
      "Traceback (most recent call last):\n",
      "  File \"task_autotitle_csl.py\", line 19, in <module>\n",
      "    from rouge import Rouge  # pip install rouge\n",
      "ModuleNotFoundError: No module named 'rouge'\n"
     ]
    }
   ],
   "source": [
    "!python task_autotitle_csl.py"
   ]
  },
  {
   "cell_type": "code",
   "execution_count": 7,
   "metadata": {},
   "outputs": [
    {
     "name": "stdout",
     "output_type": "stream",
     "text": [
      "Looking in indexes: https://pypi.tuna.tsinghua.edu.cn/simple\n",
      "Collecting rouge\n",
      "  Downloading https://pypi.tuna.tsinghua.edu.cn/packages/43/cc/e18e33be20971ff73a056ebdb023476b5a545e744e3fc22acd8c758f1e0d/rouge-1.0.0-py3-none-any.whl (14 kB)\n",
      "Requirement already satisfied: six in /home/xuehp/anaconda3/envs/t5_in_bert4keras/lib/python3.6/site-packages (from rouge) (1.15.0)\n",
      "Installing collected packages: rouge\n",
      "Successfully installed rouge-1.0.0\n"
     ]
    }
   ],
   "source": [
    "!pip install rouge"
   ]
  },
  {
   "cell_type": "code",
   "execution_count": 8,
   "metadata": {},
   "outputs": [
    {
     "name": "stdout",
     "output_type": "stream",
     "text": [
      "/home/xuehp/anaconda3/envs/t5_in_bert4keras/lib/python3.6/site-packages/tensorflow/python/framework/dtypes.py:516: FutureWarning: Passing (type, 1) or '1type' as a synonym of type is deprecated; in a future version of numpy, it will be understood as (type, (1,)) / '(1,)type'.\n",
      "  _np_qint8 = np.dtype([(\"qint8\", np.int8, 1)])\n",
      "/home/xuehp/anaconda3/envs/t5_in_bert4keras/lib/python3.6/site-packages/tensorflow/python/framework/dtypes.py:517: FutureWarning: Passing (type, 1) or '1type' as a synonym of type is deprecated; in a future version of numpy, it will be understood as (type, (1,)) / '(1,)type'.\n",
      "  _np_quint8 = np.dtype([(\"quint8\", np.uint8, 1)])\n",
      "/home/xuehp/anaconda3/envs/t5_in_bert4keras/lib/python3.6/site-packages/tensorflow/python/framework/dtypes.py:518: FutureWarning: Passing (type, 1) or '1type' as a synonym of type is deprecated; in a future version of numpy, it will be understood as (type, (1,)) / '(1,)type'.\n",
      "  _np_qint16 = np.dtype([(\"qint16\", np.int16, 1)])\n",
      "/home/xuehp/anaconda3/envs/t5_in_bert4keras/lib/python3.6/site-packages/tensorflow/python/framework/dtypes.py:519: FutureWarning: Passing (type, 1) or '1type' as a synonym of type is deprecated; in a future version of numpy, it will be understood as (type, (1,)) / '(1,)type'.\n",
      "  _np_quint16 = np.dtype([(\"quint16\", np.uint16, 1)])\n",
      "/home/xuehp/anaconda3/envs/t5_in_bert4keras/lib/python3.6/site-packages/tensorflow/python/framework/dtypes.py:520: FutureWarning: Passing (type, 1) or '1type' as a synonym of type is deprecated; in a future version of numpy, it will be understood as (type, (1,)) / '(1,)type'.\n",
      "  _np_qint32 = np.dtype([(\"qint32\", np.int32, 1)])\n",
      "/home/xuehp/anaconda3/envs/t5_in_bert4keras/lib/python3.6/site-packages/tensorflow/python/framework/dtypes.py:525: FutureWarning: Passing (type, 1) or '1type' as a synonym of type is deprecated; in a future version of numpy, it will be understood as (type, (1,)) / '(1,)type'.\n",
      "  np_resource = np.dtype([(\"resource\", np.ubyte, 1)])\n",
      "/home/xuehp/anaconda3/envs/t5_in_bert4keras/lib/python3.6/site-packages/tensorboard/compat/tensorflow_stub/dtypes.py:541: FutureWarning: Passing (type, 1) or '1type' as a synonym of type is deprecated; in a future version of numpy, it will be understood as (type, (1,)) / '(1,)type'.\n",
      "  _np_qint8 = np.dtype([(\"qint8\", np.int8, 1)])\n",
      "/home/xuehp/anaconda3/envs/t5_in_bert4keras/lib/python3.6/site-packages/tensorboard/compat/tensorflow_stub/dtypes.py:542: FutureWarning: Passing (type, 1) or '1type' as a synonym of type is deprecated; in a future version of numpy, it will be understood as (type, (1,)) / '(1,)type'.\n",
      "  _np_quint8 = np.dtype([(\"quint8\", np.uint8, 1)])\n",
      "/home/xuehp/anaconda3/envs/t5_in_bert4keras/lib/python3.6/site-packages/tensorboard/compat/tensorflow_stub/dtypes.py:543: FutureWarning: Passing (type, 1) or '1type' as a synonym of type is deprecated; in a future version of numpy, it will be understood as (type, (1,)) / '(1,)type'.\n",
      "  _np_qint16 = np.dtype([(\"qint16\", np.int16, 1)])\n",
      "/home/xuehp/anaconda3/envs/t5_in_bert4keras/lib/python3.6/site-packages/tensorboard/compat/tensorflow_stub/dtypes.py:544: FutureWarning: Passing (type, 1) or '1type' as a synonym of type is deprecated; in a future version of numpy, it will be understood as (type, (1,)) / '(1,)type'.\n",
      "  _np_quint16 = np.dtype([(\"quint16\", np.uint16, 1)])\n",
      "/home/xuehp/anaconda3/envs/t5_in_bert4keras/lib/python3.6/site-packages/tensorboard/compat/tensorflow_stub/dtypes.py:545: FutureWarning: Passing (type, 1) or '1type' as a synonym of type is deprecated; in a future version of numpy, it will be understood as (type, (1,)) / '(1,)type'.\n",
      "  _np_qint32 = np.dtype([(\"qint32\", np.int32, 1)])\n",
      "/home/xuehp/anaconda3/envs/t5_in_bert4keras/lib/python3.6/site-packages/tensorboard/compat/tensorflow_stub/dtypes.py:550: FutureWarning: Passing (type, 1) or '1type' as a synonym of type is deprecated; in a future version of numpy, it will be understood as (type, (1,)) / '(1,)type'.\n",
      "  np_resource = np.dtype([(\"resource\", np.ubyte, 1)])\n",
      "Using TensorFlow backend.\n",
      "Traceback (most recent call last):\n",
      "  File \"task_autotitle_csl.py\", line 20, in <module>\n",
      "    from nltk.translate.bleu_score import sentence_bleu, SmoothingFunction\n",
      "ModuleNotFoundError: No module named 'nltk'\n"
     ]
    }
   ],
   "source": [
    "!python task_autotitle_csl.py"
   ]
  },
  {
   "cell_type": "code",
   "execution_count": 9,
   "metadata": {},
   "outputs": [
    {
     "name": "stdout",
     "output_type": "stream",
     "text": [
      "Looking in indexes: https://pypi.tuna.tsinghua.edu.cn/simple\n",
      "Processing /home/xuehp/.cache/pip/wheels/40/a5/b2/19b78c255736b9161db8c7a39d7c2af80f7144fe7f516a71ed/nltk-3.5-py3-none-any.whl\n",
      "Collecting regex\n",
      "  Downloading https://pypi.tuna.tsinghua.edu.cn/packages/0d/8a/3ac62dadb767ace65a5b954265de4031a99b27148fe14b24771f5c2c2dca/regex-2020.11.13-cp36-cp36m-manylinux2014_x86_64.whl (723 kB)\n",
      "\u001b[K     |████████████████████████████████| 723 kB 429 kB/s eta 0:00:01\n",
      "\u001b[?25hCollecting click\n",
      "  Downloading https://pypi.tuna.tsinghua.edu.cn/packages/d2/3d/fa76db83bf75c4f8d338c2fd15c8d33fdd7ad23a9b5e57eb6c5de26b430e/click-7.1.2-py2.py3-none-any.whl (82 kB)\n",
      "\u001b[K     |████████████████████████████████| 82 kB 2.5 MB/s  eta 0:00:01\n",
      "\u001b[?25hCollecting joblib\n",
      "  Downloading https://pypi.tuna.tsinghua.edu.cn/packages/fc/c9/f58220ac44a1592f79a343caba12f6837f9e0c04c196176a3d66338e1ea8/joblib-0.17.0-py3-none-any.whl (301 kB)\n",
      "\u001b[K     |████████████████████████████████| 301 kB 10.1 MB/s eta 0:00:01\n",
      "\u001b[?25hRequirement already satisfied: tqdm in /home/xuehp/anaconda3/envs/t5_in_bert4keras/lib/python3.6/site-packages (from nltk) (4.52.0)\n",
      "Installing collected packages: regex, click, joblib, nltk\n",
      "Successfully installed click-7.1.2 joblib-0.17.0 nltk-3.5 regex-2020.11.13\n"
     ]
    }
   ],
   "source": [
    "!pip install nltk"
   ]
  },
  {
   "cell_type": "code",
   "execution_count": 10,
   "metadata": {},
   "outputs": [
    {
     "name": "stdout",
     "output_type": "stream",
     "text": [
      "/home/xuehp/anaconda3/envs/t5_in_bert4keras/lib/python3.6/site-packages/tensorflow/python/framework/dtypes.py:516: FutureWarning: Passing (type, 1) or '1type' as a synonym of type is deprecated; in a future version of numpy, it will be understood as (type, (1,)) / '(1,)type'.\n",
      "  _np_qint8 = np.dtype([(\"qint8\", np.int8, 1)])\n",
      "/home/xuehp/anaconda3/envs/t5_in_bert4keras/lib/python3.6/site-packages/tensorflow/python/framework/dtypes.py:517: FutureWarning: Passing (type, 1) or '1type' as a synonym of type is deprecated; in a future version of numpy, it will be understood as (type, (1,)) / '(1,)type'.\n",
      "  _np_quint8 = np.dtype([(\"quint8\", np.uint8, 1)])\n",
      "/home/xuehp/anaconda3/envs/t5_in_bert4keras/lib/python3.6/site-packages/tensorflow/python/framework/dtypes.py:518: FutureWarning: Passing (type, 1) or '1type' as a synonym of type is deprecated; in a future version of numpy, it will be understood as (type, (1,)) / '(1,)type'.\n",
      "  _np_qint16 = np.dtype([(\"qint16\", np.int16, 1)])\n",
      "/home/xuehp/anaconda3/envs/t5_in_bert4keras/lib/python3.6/site-packages/tensorflow/python/framework/dtypes.py:519: FutureWarning: Passing (type, 1) or '1type' as a synonym of type is deprecated; in a future version of numpy, it will be understood as (type, (1,)) / '(1,)type'.\n",
      "  _np_quint16 = np.dtype([(\"quint16\", np.uint16, 1)])\n",
      "/home/xuehp/anaconda3/envs/t5_in_bert4keras/lib/python3.6/site-packages/tensorflow/python/framework/dtypes.py:520: FutureWarning: Passing (type, 1) or '1type' as a synonym of type is deprecated; in a future version of numpy, it will be understood as (type, (1,)) / '(1,)type'.\n",
      "  _np_qint32 = np.dtype([(\"qint32\", np.int32, 1)])\n",
      "/home/xuehp/anaconda3/envs/t5_in_bert4keras/lib/python3.6/site-packages/tensorflow/python/framework/dtypes.py:525: FutureWarning: Passing (type, 1) or '1type' as a synonym of type is deprecated; in a future version of numpy, it will be understood as (type, (1,)) / '(1,)type'.\n",
      "  np_resource = np.dtype([(\"resource\", np.ubyte, 1)])\n",
      "/home/xuehp/anaconda3/envs/t5_in_bert4keras/lib/python3.6/site-packages/tensorboard/compat/tensorflow_stub/dtypes.py:541: FutureWarning: Passing (type, 1) or '1type' as a synonym of type is deprecated; in a future version of numpy, it will be understood as (type, (1,)) / '(1,)type'.\n",
      "  _np_qint8 = np.dtype([(\"qint8\", np.int8, 1)])\n",
      "/home/xuehp/anaconda3/envs/t5_in_bert4keras/lib/python3.6/site-packages/tensorboard/compat/tensorflow_stub/dtypes.py:542: FutureWarning: Passing (type, 1) or '1type' as a synonym of type is deprecated; in a future version of numpy, it will be understood as (type, (1,)) / '(1,)type'.\n",
      "  _np_quint8 = np.dtype([(\"quint8\", np.uint8, 1)])\n",
      "/home/xuehp/anaconda3/envs/t5_in_bert4keras/lib/python3.6/site-packages/tensorboard/compat/tensorflow_stub/dtypes.py:543: FutureWarning: Passing (type, 1) or '1type' as a synonym of type is deprecated; in a future version of numpy, it will be understood as (type, (1,)) / '(1,)type'.\n",
      "  _np_qint16 = np.dtype([(\"qint16\", np.int16, 1)])\n",
      "/home/xuehp/anaconda3/envs/t5_in_bert4keras/lib/python3.6/site-packages/tensorboard/compat/tensorflow_stub/dtypes.py:544: FutureWarning: Passing (type, 1) or '1type' as a synonym of type is deprecated; in a future version of numpy, it will be understood as (type, (1,)) / '(1,)type'.\n",
      "  _np_quint16 = np.dtype([(\"quint16\", np.uint16, 1)])\n",
      "/home/xuehp/anaconda3/envs/t5_in_bert4keras/lib/python3.6/site-packages/tensorboard/compat/tensorflow_stub/dtypes.py:545: FutureWarning: Passing (type, 1) or '1type' as a synonym of type is deprecated; in a future version of numpy, it will be understood as (type, (1,)) / '(1,)type'.\n",
      "  _np_qint32 = np.dtype([(\"qint32\", np.int32, 1)])\n",
      "/home/xuehp/anaconda3/envs/t5_in_bert4keras/lib/python3.6/site-packages/tensorboard/compat/tensorflow_stub/dtypes.py:550: FutureWarning: Passing (type, 1) or '1type' as a synonym of type is deprecated; in a future version of numpy, it will be understood as (type, (1,)) / '(1,)type'.\n",
      "  np_resource = np.dtype([(\"resource\", np.ubyte, 1)])\n",
      "Using TensorFlow backend.\n",
      "Traceback (most recent call last):\n",
      "  File \"task_autotitle_csl.py\", line 52, in <module>\n",
      "    tokenizer = SpTokenizer(spm_path, token_start=None, token_end='</s>')\n",
      "  File \"/home/xuehp/anaconda3/envs/t5_in_bert4keras/lib/python3.6/site-packages/bert4keras/tokenizers.py\", line 396, in __init__\n",
      "    import sentencepiece as spm\n",
      "ModuleNotFoundError: No module named 'sentencepiece'\n"
     ]
    }
   ],
   "source": [
    "!python task_autotitle_csl.py"
   ]
  },
  {
   "cell_type": "code",
   "execution_count": 11,
   "metadata": {},
   "outputs": [
    {
     "name": "stdout",
     "output_type": "stream",
     "text": [
      "Looking in indexes: https://pypi.tuna.tsinghua.edu.cn/simple\n",
      "Collecting sentencepiece\n",
      "  Downloading https://pypi.tuna.tsinghua.edu.cn/packages/e5/2d/6d4ca4bef9a67070fa1cac508606328329152b1df10bdf31fb6e4e727894/sentencepiece-0.1.94-cp36-cp36m-manylinux2014_x86_64.whl (1.1 MB)\n",
      "\u001b[K     |████████████████████████████████| 1.1 MB 8.0 MB/s eta 0:00:01\n",
      "\u001b[?25hInstalling collected packages: sentencepiece\n",
      "Successfully installed sentencepiece-0.1.94\n"
     ]
    }
   ],
   "source": [
    "!pip install sentencepiece"
   ]
  },
  {
   "cell_type": "code",
   "execution_count": 12,
   "metadata": {
    "scrolled": false
   },
   "outputs": [
    {
     "name": "stdout",
     "output_type": "stream",
     "text": [
      "/home/xuehp/anaconda3/envs/t5_in_bert4keras/lib/python3.6/site-packages/tensorflow/python/framework/dtypes.py:516: FutureWarning: Passing (type, 1) or '1type' as a synonym of type is deprecated; in a future version of numpy, it will be understood as (type, (1,)) / '(1,)type'.\n",
      "  _np_qint8 = np.dtype([(\"qint8\", np.int8, 1)])\n",
      "/home/xuehp/anaconda3/envs/t5_in_bert4keras/lib/python3.6/site-packages/tensorflow/python/framework/dtypes.py:517: FutureWarning: Passing (type, 1) or '1type' as a synonym of type is deprecated; in a future version of numpy, it will be understood as (type, (1,)) / '(1,)type'.\n",
      "  _np_quint8 = np.dtype([(\"quint8\", np.uint8, 1)])\n",
      "/home/xuehp/anaconda3/envs/t5_in_bert4keras/lib/python3.6/site-packages/tensorflow/python/framework/dtypes.py:518: FutureWarning: Passing (type, 1) or '1type' as a synonym of type is deprecated; in a future version of numpy, it will be understood as (type, (1,)) / '(1,)type'.\n",
      "  _np_qint16 = np.dtype([(\"qint16\", np.int16, 1)])\n",
      "/home/xuehp/anaconda3/envs/t5_in_bert4keras/lib/python3.6/site-packages/tensorflow/python/framework/dtypes.py:519: FutureWarning: Passing (type, 1) or '1type' as a synonym of type is deprecated; in a future version of numpy, it will be understood as (type, (1,)) / '(1,)type'.\n",
      "  _np_quint16 = np.dtype([(\"quint16\", np.uint16, 1)])\n",
      "/home/xuehp/anaconda3/envs/t5_in_bert4keras/lib/python3.6/site-packages/tensorflow/python/framework/dtypes.py:520: FutureWarning: Passing (type, 1) or '1type' as a synonym of type is deprecated; in a future version of numpy, it will be understood as (type, (1,)) / '(1,)type'.\n",
      "  _np_qint32 = np.dtype([(\"qint32\", np.int32, 1)])\n",
      "/home/xuehp/anaconda3/envs/t5_in_bert4keras/lib/python3.6/site-packages/tensorflow/python/framework/dtypes.py:525: FutureWarning: Passing (type, 1) or '1type' as a synonym of type is deprecated; in a future version of numpy, it will be understood as (type, (1,)) / '(1,)type'.\n",
      "  np_resource = np.dtype([(\"resource\", np.ubyte, 1)])\n",
      "/home/xuehp/anaconda3/envs/t5_in_bert4keras/lib/python3.6/site-packages/tensorboard/compat/tensorflow_stub/dtypes.py:541: FutureWarning: Passing (type, 1) or '1type' as a synonym of type is deprecated; in a future version of numpy, it will be understood as (type, (1,)) / '(1,)type'.\n",
      "  _np_qint8 = np.dtype([(\"qint8\", np.int8, 1)])\n",
      "/home/xuehp/anaconda3/envs/t5_in_bert4keras/lib/python3.6/site-packages/tensorboard/compat/tensorflow_stub/dtypes.py:542: FutureWarning: Passing (type, 1) or '1type' as a synonym of type is deprecated; in a future version of numpy, it will be understood as (type, (1,)) / '(1,)type'.\n",
      "  _np_quint8 = np.dtype([(\"quint8\", np.uint8, 1)])\n",
      "/home/xuehp/anaconda3/envs/t5_in_bert4keras/lib/python3.6/site-packages/tensorboard/compat/tensorflow_stub/dtypes.py:543: FutureWarning: Passing (type, 1) or '1type' as a synonym of type is deprecated; in a future version of numpy, it will be understood as (type, (1,)) / '(1,)type'.\n",
      "  _np_qint16 = np.dtype([(\"qint16\", np.int16, 1)])\n",
      "/home/xuehp/anaconda3/envs/t5_in_bert4keras/lib/python3.6/site-packages/tensorboard/compat/tensorflow_stub/dtypes.py:544: FutureWarning: Passing (type, 1) or '1type' as a synonym of type is deprecated; in a future version of numpy, it will be understood as (type, (1,)) / '(1,)type'.\n",
      "  _np_quint16 = np.dtype([(\"quint16\", np.uint16, 1)])\n",
      "/home/xuehp/anaconda3/envs/t5_in_bert4keras/lib/python3.6/site-packages/tensorboard/compat/tensorflow_stub/dtypes.py:545: FutureWarning: Passing (type, 1) or '1type' as a synonym of type is deprecated; in a future version of numpy, it will be understood as (type, (1,)) / '(1,)type'.\n",
      "  _np_qint32 = np.dtype([(\"qint32\", np.int32, 1)])\n",
      "/home/xuehp/anaconda3/envs/t5_in_bert4keras/lib/python3.6/site-packages/tensorboard/compat/tensorflow_stub/dtypes.py:550: FutureWarning: Passing (type, 1) or '1type' as a synonym of type is deprecated; in a future version of numpy, it will be understood as (type, (1,)) / '(1,)type'.\n",
      "  np_resource = np.dtype([(\"resource\", np.ubyte, 1)])\n",
      "Using TensorFlow backend.\n",
      "WARNING:tensorflow:From /home/xuehp/anaconda3/envs/t5_in_bert4keras/lib/python3.6/site-packages/keras/backend/tensorflow_backend.py:3170: add_dispatch_support.<locals>.wrapper (from tensorflow.python.ops.array_ops) is deprecated and will be removed in a future version.\n",
      "Instructions for updating:\n",
      "Use tf.where in 2.0, which has the same broadcast rule as np.where\n",
      "2020-11-17 10:29:55.920621: I tensorflow/core/platform/cpu_feature_guard.cc:142] Your CPU supports instructions that this TensorFlow binary was not compiled to use: AVX2 AVX512F FMA\n",
      "2020-11-17 10:29:55.926322: I tensorflow/core/platform/profile_utils/cpu_utils.cc:94] CPU Frequency: 2499995000 Hz\n",
      "2020-11-17 10:29:55.926670: I tensorflow/compiler/xla/service/service.cc:168] XLA service 0x55ed97b052c0 executing computations on platform Host. Devices:\n",
      "2020-11-17 10:29:55.926692: I tensorflow/compiler/xla/service/service.cc:175]   StreamExecutor device (0): <undefined>, <undefined>\n",
      "2020-11-17 10:29:56.567599: W tensorflow/compiler/jit/mark_for_compilation_pass.cc:1412] (One-time warning): Not using XLA:CPU for cluster because envvar TF_XLA_FLAGS=--tf_xla_cpu_global_jit was not set.  If you want XLA:CPU, either set that envvar, or use experimental_jit_scope to enable XLA:CPU.  To confirm that XLA is active, pass --vmodule=xla_compilation_cache=1 (as a proper command-line flag, not via TF_XLA_FLAGS) or set the envvar XLA_FLAGS=--xla_hlo_profile.\n",
      "Model: \"model_1\"\n",
      "__________________________________________________________________________________________________\n",
      "Layer (type)                    Output Shape         Param #     Connected to                     \n",
      "==================================================================================================\n",
      "Encoder-Input-Token (InputLayer (None, None)         0                                            \n",
      "__________________________________________________________________________________________________\n",
      "Embedding-Token (Embedding)     (None, None, 512)    16690176    Encoder-Input-Token[0][0]        \n",
      "__________________________________________________________________________________________________\n",
      "Encoder-Embedding-Dropout (Drop (None, None, 512)    0           Embedding-Token[0][0]            \n",
      "__________________________________________________________________________________________________\n",
      "Encoder-Transformer-0-MultiHead (None, None, 512)    512         Encoder-Embedding-Dropout[0][0]  \n",
      "__________________________________________________________________________________________________\n",
      "Encoder-Embedding-Relative-Posi (None, None, 6)      192         Encoder-Embedding-Dropout[0][0]  \n",
      "                                                                 Encoder-Embedding-Dropout[0][0]  \n",
      "__________________________________________________________________________________________________\n",
      "Encoder-Transformer-0-MultiHead (None, None, 512)    786432      Encoder-Transformer-0-MultiHeadSe\n",
      "                                                                 Encoder-Transformer-0-MultiHeadSe\n",
      "                                                                 Encoder-Transformer-0-MultiHeadSe\n",
      "                                                                 Encoder-Embedding-Relative-Positi\n",
      "__________________________________________________________________________________________________\n",
      "Encoder-Transformer-0-MultiHead (None, None, 512)    0           Encoder-Transformer-0-MultiHeadSe\n",
      "__________________________________________________________________________________________________\n",
      "Encoder-Transformer-0-MultiHead (None, None, 512)    0           Encoder-Embedding-Dropout[0][0]  \n",
      "                                                                 Encoder-Transformer-0-MultiHeadSe\n",
      "__________________________________________________________________________________________________\n",
      "Encoder-Transformer-0-FeedForwa (None, None, 512)    512         Encoder-Transformer-0-MultiHeadSe\n",
      "__________________________________________________________________________________________________\n",
      "Encoder-Transformer-0-FeedForwa (None, None, 512)    1572864     Encoder-Transformer-0-FeedForward\n",
      "__________________________________________________________________________________________________\n",
      "Encoder-Transformer-0-FeedForwa (None, None, 512)    0           Encoder-Transformer-0-FeedForward\n",
      "__________________________________________________________________________________________________\n",
      "Encoder-Transformer-0-FeedForwa (None, None, 512)    0           Encoder-Transformer-0-MultiHeadSe\n",
      "                                                                 Encoder-Transformer-0-FeedForward\n",
      "__________________________________________________________________________________________________\n",
      "Encoder-Transformer-1-MultiHead (None, None, 512)    512         Encoder-Transformer-0-FeedForward\n",
      "__________________________________________________________________________________________________\n",
      "Encoder-Transformer-1-MultiHead (None, None, 512)    786432      Encoder-Transformer-1-MultiHeadSe\n",
      "                                                                 Encoder-Transformer-1-MultiHeadSe\n",
      "                                                                 Encoder-Transformer-1-MultiHeadSe\n",
      "                                                                 Encoder-Embedding-Relative-Positi\n",
      "__________________________________________________________________________________________________\n",
      "Encoder-Transformer-1-MultiHead (None, None, 512)    0           Encoder-Transformer-1-MultiHeadSe\n",
      "__________________________________________________________________________________________________\n",
      "Encoder-Transformer-1-MultiHead (None, None, 512)    0           Encoder-Transformer-0-FeedForward\n",
      "                                                                 Encoder-Transformer-1-MultiHeadSe\n",
      "__________________________________________________________________________________________________\n",
      "Encoder-Transformer-1-FeedForwa (None, None, 512)    512         Encoder-Transformer-1-MultiHeadSe\n",
      "__________________________________________________________________________________________________\n",
      "Encoder-Transformer-1-FeedForwa (None, None, 512)    1572864     Encoder-Transformer-1-FeedForward\n",
      "__________________________________________________________________________________________________\n",
      "Encoder-Transformer-1-FeedForwa (None, None, 512)    0           Encoder-Transformer-1-FeedForward\n",
      "__________________________________________________________________________________________________\n",
      "Encoder-Transformer-1-FeedForwa (None, None, 512)    0           Encoder-Transformer-1-MultiHeadSe\n",
      "                                                                 Encoder-Transformer-1-FeedForward\n",
      "__________________________________________________________________________________________________\n",
      "Encoder-Transformer-2-MultiHead (None, None, 512)    512         Encoder-Transformer-1-FeedForward\n",
      "__________________________________________________________________________________________________\n",
      "Encoder-Transformer-2-MultiHead (None, None, 512)    786432      Encoder-Transformer-2-MultiHeadSe\n",
      "                                                                 Encoder-Transformer-2-MultiHeadSe\n",
      "                                                                 Encoder-Transformer-2-MultiHeadSe\n",
      "                                                                 Encoder-Embedding-Relative-Positi\n",
      "__________________________________________________________________________________________________\n",
      "Encoder-Transformer-2-MultiHead (None, None, 512)    0           Encoder-Transformer-2-MultiHeadSe\n",
      "__________________________________________________________________________________________________\n",
      "Encoder-Transformer-2-MultiHead (None, None, 512)    0           Encoder-Transformer-1-FeedForward\n",
      "                                                                 Encoder-Transformer-2-MultiHeadSe\n",
      "__________________________________________________________________________________________________\n",
      "Encoder-Transformer-2-FeedForwa (None, None, 512)    512         Encoder-Transformer-2-MultiHeadSe\n",
      "__________________________________________________________________________________________________\n",
      "Encoder-Transformer-2-FeedForwa (None, None, 512)    1572864     Encoder-Transformer-2-FeedForward\n",
      "__________________________________________________________________________________________________\n",
      "Encoder-Transformer-2-FeedForwa (None, None, 512)    0           Encoder-Transformer-2-FeedForward\n",
      "__________________________________________________________________________________________________\n",
      "Encoder-Transformer-2-FeedForwa (None, None, 512)    0           Encoder-Transformer-2-MultiHeadSe\n",
      "                                                                 Encoder-Transformer-2-FeedForward\n",
      "__________________________________________________________________________________________________\n",
      "Encoder-Transformer-3-MultiHead (None, None, 512)    512         Encoder-Transformer-2-FeedForward\n",
      "__________________________________________________________________________________________________\n",
      "Encoder-Transformer-3-MultiHead (None, None, 512)    786432      Encoder-Transformer-3-MultiHeadSe\n",
      "                                                                 Encoder-Transformer-3-MultiHeadSe\n",
      "                                                                 Encoder-Transformer-3-MultiHeadSe\n",
      "                                                                 Encoder-Embedding-Relative-Positi\n",
      "__________________________________________________________________________________________________\n",
      "Encoder-Transformer-3-MultiHead (None, None, 512)    0           Encoder-Transformer-3-MultiHeadSe\n",
      "__________________________________________________________________________________________________\n",
      "Encoder-Transformer-3-MultiHead (None, None, 512)    0           Encoder-Transformer-2-FeedForward\n",
      "                                                                 Encoder-Transformer-3-MultiHeadSe\n",
      "__________________________________________________________________________________________________\n",
      "Encoder-Transformer-3-FeedForwa (None, None, 512)    512         Encoder-Transformer-3-MultiHeadSe\n",
      "__________________________________________________________________________________________________\n",
      "Encoder-Transformer-3-FeedForwa (None, None, 512)    1572864     Encoder-Transformer-3-FeedForward\n",
      "__________________________________________________________________________________________________\n",
      "Encoder-Transformer-3-FeedForwa (None, None, 512)    0           Encoder-Transformer-3-FeedForward\n",
      "__________________________________________________________________________________________________\n",
      "Encoder-Transformer-3-FeedForwa (None, None, 512)    0           Encoder-Transformer-3-MultiHeadSe\n",
      "                                                                 Encoder-Transformer-3-FeedForward\n",
      "__________________________________________________________________________________________________\n",
      "Encoder-Transformer-4-MultiHead (None, None, 512)    512         Encoder-Transformer-3-FeedForward\n",
      "__________________________________________________________________________________________________\n",
      "Encoder-Transformer-4-MultiHead (None, None, 512)    786432      Encoder-Transformer-4-MultiHeadSe\n",
      "                                                                 Encoder-Transformer-4-MultiHeadSe\n",
      "                                                                 Encoder-Transformer-4-MultiHeadSe\n",
      "                                                                 Encoder-Embedding-Relative-Positi\n",
      "__________________________________________________________________________________________________\n",
      "Encoder-Transformer-4-MultiHead (None, None, 512)    0           Encoder-Transformer-4-MultiHeadSe\n",
      "__________________________________________________________________________________________________\n",
      "Encoder-Transformer-4-MultiHead (None, None, 512)    0           Encoder-Transformer-3-FeedForward\n",
      "                                                                 Encoder-Transformer-4-MultiHeadSe\n",
      "__________________________________________________________________________________________________\n",
      "Encoder-Transformer-4-FeedForwa (None, None, 512)    512         Encoder-Transformer-4-MultiHeadSe\n",
      "__________________________________________________________________________________________________\n",
      "Encoder-Transformer-4-FeedForwa (None, None, 512)    1572864     Encoder-Transformer-4-FeedForward\n",
      "__________________________________________________________________________________________________\n",
      "Encoder-Transformer-4-FeedForwa (None, None, 512)    0           Encoder-Transformer-4-FeedForward\n",
      "__________________________________________________________________________________________________\n",
      "Encoder-Transformer-4-FeedForwa (None, None, 512)    0           Encoder-Transformer-4-MultiHeadSe\n",
      "                                                                 Encoder-Transformer-4-FeedForward\n",
      "__________________________________________________________________________________________________\n",
      "Encoder-Transformer-5-MultiHead (None, None, 512)    512         Encoder-Transformer-4-FeedForward\n",
      "__________________________________________________________________________________________________\n",
      "Encoder-Transformer-5-MultiHead (None, None, 512)    786432      Encoder-Transformer-5-MultiHeadSe\n",
      "                                                                 Encoder-Transformer-5-MultiHeadSe\n",
      "                                                                 Encoder-Transformer-5-MultiHeadSe\n",
      "                                                                 Encoder-Embedding-Relative-Positi\n",
      "__________________________________________________________________________________________________\n",
      "Encoder-Transformer-5-MultiHead (None, None, 512)    0           Encoder-Transformer-5-MultiHeadSe\n",
      "__________________________________________________________________________________________________\n",
      "Encoder-Transformer-5-MultiHead (None, None, 512)    0           Encoder-Transformer-4-FeedForward\n",
      "                                                                 Encoder-Transformer-5-MultiHeadSe\n",
      "__________________________________________________________________________________________________\n",
      "Encoder-Transformer-5-FeedForwa (None, None, 512)    512         Encoder-Transformer-5-MultiHeadSe\n",
      "__________________________________________________________________________________________________\n",
      "Encoder-Transformer-5-FeedForwa (None, None, 512)    1572864     Encoder-Transformer-5-FeedForward\n",
      "__________________________________________________________________________________________________\n",
      "Encoder-Transformer-5-FeedForwa (None, None, 512)    0           Encoder-Transformer-5-FeedForward\n",
      "__________________________________________________________________________________________________\n",
      "Encoder-Transformer-5-FeedForwa (None, None, 512)    0           Encoder-Transformer-5-MultiHeadSe\n",
      "                                                                 Encoder-Transformer-5-FeedForward\n",
      "__________________________________________________________________________________________________\n",
      "Encoder-Transformer-6-MultiHead (None, None, 512)    512         Encoder-Transformer-5-FeedForward\n",
      "__________________________________________________________________________________________________\n",
      "Encoder-Transformer-6-MultiHead (None, None, 512)    786432      Encoder-Transformer-6-MultiHeadSe\n",
      "                                                                 Encoder-Transformer-6-MultiHeadSe\n",
      "                                                                 Encoder-Transformer-6-MultiHeadSe\n",
      "                                                                 Encoder-Embedding-Relative-Positi\n",
      "__________________________________________________________________________________________________\n",
      "Encoder-Transformer-6-MultiHead (None, None, 512)    0           Encoder-Transformer-6-MultiHeadSe\n",
      "__________________________________________________________________________________________________\n",
      "Encoder-Transformer-6-MultiHead (None, None, 512)    0           Encoder-Transformer-5-FeedForward\n",
      "                                                                 Encoder-Transformer-6-MultiHeadSe\n",
      "__________________________________________________________________________________________________\n",
      "Encoder-Transformer-6-FeedForwa (None, None, 512)    512         Encoder-Transformer-6-MultiHeadSe\n",
      "__________________________________________________________________________________________________\n",
      "Encoder-Transformer-6-FeedForwa (None, None, 512)    1572864     Encoder-Transformer-6-FeedForward\n",
      "__________________________________________________________________________________________________\n",
      "Encoder-Transformer-6-FeedForwa (None, None, 512)    0           Encoder-Transformer-6-FeedForward\n",
      "__________________________________________________________________________________________________\n",
      "Encoder-Transformer-6-FeedForwa (None, None, 512)    0           Encoder-Transformer-6-MultiHeadSe\n",
      "                                                                 Encoder-Transformer-6-FeedForward\n",
      "__________________________________________________________________________________________________\n",
      "Encoder-Transformer-7-MultiHead (None, None, 512)    512         Encoder-Transformer-6-FeedForward\n",
      "__________________________________________________________________________________________________\n",
      "Encoder-Transformer-7-MultiHead (None, None, 512)    786432      Encoder-Transformer-7-MultiHeadSe\n",
      "                                                                 Encoder-Transformer-7-MultiHeadSe\n",
      "                                                                 Encoder-Transformer-7-MultiHeadSe\n",
      "                                                                 Encoder-Embedding-Relative-Positi\n",
      "__________________________________________________________________________________________________\n",
      "Encoder-Transformer-7-MultiHead (None, None, 512)    0           Encoder-Transformer-7-MultiHeadSe\n",
      "__________________________________________________________________________________________________\n",
      "Encoder-Transformer-7-MultiHead (None, None, 512)    0           Encoder-Transformer-6-FeedForward\n",
      "                                                                 Encoder-Transformer-7-MultiHeadSe\n",
      "__________________________________________________________________________________________________\n",
      "Encoder-Transformer-7-FeedForwa (None, None, 512)    512         Encoder-Transformer-7-MultiHeadSe\n",
      "__________________________________________________________________________________________________\n",
      "Encoder-Transformer-7-FeedForwa (None, None, 512)    1572864     Encoder-Transformer-7-FeedForward\n",
      "__________________________________________________________________________________________________\n",
      "Encoder-Transformer-7-FeedForwa (None, None, 512)    0           Encoder-Transformer-7-FeedForward\n",
      "__________________________________________________________________________________________________\n",
      "Encoder-Transformer-7-FeedForwa (None, None, 512)    0           Encoder-Transformer-7-MultiHeadSe\n",
      "                                                                 Encoder-Transformer-7-FeedForward\n",
      "__________________________________________________________________________________________________\n",
      "Encoder-Output-Norm (LayerNorma (None, None, 512)    512         Encoder-Transformer-7-FeedForward\n",
      "__________________________________________________________________________________________________\n",
      "Encoder-Output-Dropout (Dropout (None, None, 512)    0           Encoder-Output-Norm[0][0]        \n",
      "__________________________________________________________________________________________________\n",
      "Decoder-Input-Token (InputLayer (None, None)         0                                            \n",
      "__________________________________________________________________________________________________\n",
      "T5_Decoder (Model)              (None, None, 32598)  58559168    Encoder-Output-Dropout[0][0]     \n",
      "                                                                 Decoder-Input-Token[0][0]        \n",
      "==================================================================================================\n",
      "Total params: 77,442,432\n",
      "Trainable params: 77,442,432\n",
      "Non-trainable params: 0\n",
      "__________________________________________________________________________________________________\n"
     ]
    },
    {
     "name": "stdout",
     "output_type": "stream",
     "text": [
      "/home/xuehp/anaconda3/envs/t5_in_bert4keras/lib/python3.6/site-packages/keras/engine/training_utils.py:819: UserWarning: Output cross_entropy_1 missing from loss dictionary. We assume this was done on purpose. The fit and evaluate APIs will not be expecting any data to be passed to cross_entropy_1.\n",
      "  'be expecting any data to be passed to {0}.'.format(name))\n",
      "WARNING:tensorflow:From /home/xuehp/anaconda3/envs/t5_in_bert4keras/lib/python3.6/site-packages/keras/backend/tensorflow_backend.py:422: The name tf.global_variables is deprecated. Please use tf.compat.v1.global_variables instead.\n",
      "\n",
      "Epoch 1/40\n",
      " 60/625 [=>............................] - ETA: 33:20 - loss: 9.5831^C\n"
     ]
    }
   ],
   "source": [
    "!python task_autotitle_csl.py"
   ]
  },
  {
   "cell_type": "code",
   "execution_count": null,
   "metadata": {},
   "outputs": [],
   "source": []
  }
 ],
 "metadata": {
  "kernelspec": {
   "display_name": "Python 3",
   "language": "python",
   "name": "python3"
  },
  "language_info": {
   "codemirror_mode": {
    "name": "ipython",
    "version": 3
   },
   "file_extension": ".py",
   "mimetype": "text/x-python",
   "name": "python",
   "nbconvert_exporter": "python",
   "pygments_lexer": "ipython3",
   "version": "3.6.12"
  }
 },
 "nbformat": 4,
 "nbformat_minor": 4
}
