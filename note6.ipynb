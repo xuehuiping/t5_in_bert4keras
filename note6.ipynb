{
 "cells": [
  {
   "cell_type": "code",
   "execution_count": 1,
   "metadata": {},
   "outputs": [
    {
     "name": "stderr",
     "output_type": "stream",
     "text": [
      "/home/xuehp/anaconda3/envs/t5_in_bert4keras/lib/python3.6/site-packages/tensorflow/python/framework/dtypes.py:516: FutureWarning: Passing (type, 1) or '1type' as a synonym of type is deprecated; in a future version of numpy, it will be understood as (type, (1,)) / '(1,)type'.\n",
      "  _np_qint8 = np.dtype([(\"qint8\", np.int8, 1)])\n",
      "/home/xuehp/anaconda3/envs/t5_in_bert4keras/lib/python3.6/site-packages/tensorflow/python/framework/dtypes.py:517: FutureWarning: Passing (type, 1) or '1type' as a synonym of type is deprecated; in a future version of numpy, it will be understood as (type, (1,)) / '(1,)type'.\n",
      "  _np_quint8 = np.dtype([(\"quint8\", np.uint8, 1)])\n",
      "/home/xuehp/anaconda3/envs/t5_in_bert4keras/lib/python3.6/site-packages/tensorflow/python/framework/dtypes.py:518: FutureWarning: Passing (type, 1) or '1type' as a synonym of type is deprecated; in a future version of numpy, it will be understood as (type, (1,)) / '(1,)type'.\n",
      "  _np_qint16 = np.dtype([(\"qint16\", np.int16, 1)])\n",
      "/home/xuehp/anaconda3/envs/t5_in_bert4keras/lib/python3.6/site-packages/tensorflow/python/framework/dtypes.py:519: FutureWarning: Passing (type, 1) or '1type' as a synonym of type is deprecated; in a future version of numpy, it will be understood as (type, (1,)) / '(1,)type'.\n",
      "  _np_quint16 = np.dtype([(\"quint16\", np.uint16, 1)])\n",
      "/home/xuehp/anaconda3/envs/t5_in_bert4keras/lib/python3.6/site-packages/tensorflow/python/framework/dtypes.py:520: FutureWarning: Passing (type, 1) or '1type' as a synonym of type is deprecated; in a future version of numpy, it will be understood as (type, (1,)) / '(1,)type'.\n",
      "  _np_qint32 = np.dtype([(\"qint32\", np.int32, 1)])\n",
      "/home/xuehp/anaconda3/envs/t5_in_bert4keras/lib/python3.6/site-packages/tensorflow/python/framework/dtypes.py:525: FutureWarning: Passing (type, 1) or '1type' as a synonym of type is deprecated; in a future version of numpy, it will be understood as (type, (1,)) / '(1,)type'.\n",
      "  np_resource = np.dtype([(\"resource\", np.ubyte, 1)])\n",
      "/home/xuehp/anaconda3/envs/t5_in_bert4keras/lib/python3.6/site-packages/tensorboard/compat/tensorflow_stub/dtypes.py:541: FutureWarning: Passing (type, 1) or '1type' as a synonym of type is deprecated; in a future version of numpy, it will be understood as (type, (1,)) / '(1,)type'.\n",
      "  _np_qint8 = np.dtype([(\"qint8\", np.int8, 1)])\n",
      "/home/xuehp/anaconda3/envs/t5_in_bert4keras/lib/python3.6/site-packages/tensorboard/compat/tensorflow_stub/dtypes.py:542: FutureWarning: Passing (type, 1) or '1type' as a synonym of type is deprecated; in a future version of numpy, it will be understood as (type, (1,)) / '(1,)type'.\n",
      "  _np_quint8 = np.dtype([(\"quint8\", np.uint8, 1)])\n",
      "/home/xuehp/anaconda3/envs/t5_in_bert4keras/lib/python3.6/site-packages/tensorboard/compat/tensorflow_stub/dtypes.py:543: FutureWarning: Passing (type, 1) or '1type' as a synonym of type is deprecated; in a future version of numpy, it will be understood as (type, (1,)) / '(1,)type'.\n",
      "  _np_qint16 = np.dtype([(\"qint16\", np.int16, 1)])\n",
      "/home/xuehp/anaconda3/envs/t5_in_bert4keras/lib/python3.6/site-packages/tensorboard/compat/tensorflow_stub/dtypes.py:544: FutureWarning: Passing (type, 1) or '1type' as a synonym of type is deprecated; in a future version of numpy, it will be understood as (type, (1,)) / '(1,)type'.\n",
      "  _np_quint16 = np.dtype([(\"quint16\", np.uint16, 1)])\n",
      "/home/xuehp/anaconda3/envs/t5_in_bert4keras/lib/python3.6/site-packages/tensorboard/compat/tensorflow_stub/dtypes.py:545: FutureWarning: Passing (type, 1) or '1type' as a synonym of type is deprecated; in a future version of numpy, it will be understood as (type, (1,)) / '(1,)type'.\n",
      "  _np_qint32 = np.dtype([(\"qint32\", np.int32, 1)])\n",
      "/home/xuehp/anaconda3/envs/t5_in_bert4keras/lib/python3.6/site-packages/tensorboard/compat/tensorflow_stub/dtypes.py:550: FutureWarning: Passing (type, 1) or '1type' as a synonym of type is deprecated; in a future version of numpy, it will be understood as (type, (1,)) / '(1,)type'.\n",
      "  np_resource = np.dtype([(\"resource\", np.ubyte, 1)])\n",
      "Using TensorFlow backend.\n"
     ]
    }
   ],
   "source": [
    "#! -*- coding: utf-8 -*-\n",
    "# 微调多国语言版T5做Seq2Seq任务\n",
    "# 介绍链接：kexue.fm/archives/7867\n",
    "# 数据集：https://github.com/CLUEbenchmark/CLGE 中的CSL数据集\n",
    "# 补充了评测指标bleu、rouge-1、rouge-2、rouge-l\n",
    "\n",
    "from __future__ import print_function\n",
    "import json\n",
    "import numpy as np\n",
    "from tqdm import tqdm\n",
    "from bert4keras.backend import keras, K\n",
    "from bert4keras.layers import Loss\n",
    "from bert4keras.models import build_transformer_model\n",
    "from bert4keras.tokenizers import SpTokenizer\n",
    "from bert4keras.optimizers import Adam\n",
    "from bert4keras.snippets import sequence_padding, open\n",
    "from bert4keras.snippets import DataGenerator, AutoRegressiveDecoder\n",
    "from keras.models import Model\n",
    "from rouge import Rouge  # pip install rouge\n",
    "from nltk.translate.bleu_score import sentence_bleu, SmoothingFunction"
   ]
  },
  {
   "cell_type": "code",
   "execution_count": 2,
   "metadata": {},
   "outputs": [],
   "source": [
    "\n",
    "# 基本参数\n",
    "max_c_len = 256\n",
    "max_t_len = 32\n",
    "batch_size = 16\n",
    "epochs = 40\n",
    "\n",
    "# 模型路径\n",
    "folder = './mt5/'\n",
    "config_path = folder + 'mt5_small_config.json'\n",
    "checkpoint_path = folder + 'mt5_small/model.ckpt-1000000'\n",
    "spm_path = folder + 'sentencepiece_cn.model'\n",
    "keep_tokens_path = folder + 'sentencepiece_cn_keep_tokens.json'\n",
    "\n"
   ]
  },
  {
   "cell_type": "code",
   "execution_count": 3,
   "metadata": {},
   "outputs": [],
   "source": [
    "\n",
    "def load_data(filename):\n",
    "    D = []\n",
    "    with open(filename, encoding='utf-8') as f:\n",
    "        for l in f:\n",
    "            title, content = l.strip().split('\\t')\n",
    "            D.append((title, content))\n",
    "    return D\n"
   ]
  },
  {
   "cell_type": "code",
   "execution_count": 4,
   "metadata": {},
   "outputs": [],
   "source": [
    "\n",
    "# 加载数据集\n",
    "data_folder = './csl_summary_dataset/'\n",
    "train_data = load_data(data_folder + 'train.tsv')\n",
    "valid_data = load_data(data_folder + 'val.tsv')\n",
    "test_data = load_data(data_folder + 'test.tsv')\n"
   ]
  },
  {
   "cell_type": "code",
   "execution_count": 5,
   "metadata": {},
   "outputs": [],
   "source": [
    "\n",
    "# 加载分词器\n",
    "tokenizer = SpTokenizer(spm_path, token_start=None, token_end='</s>')\n",
    "keep_tokens = json.load(open(keep_tokens_path))\n",
    "\n"
   ]
  },
  {
   "cell_type": "code",
   "execution_count": 6,
   "metadata": {},
   "outputs": [],
   "source": [
    "\n",
    "class data_generator(DataGenerator):\n",
    "    \"\"\"数据生成器\n",
    "    \"\"\"\n",
    "\n",
    "    def __iter__(self, random=False):\n",
    "        batch_c_token_ids, batch_t_token_ids = [], []\n",
    "        for is_end, (title, content) in self.sample(random):\n",
    "            c_token_ids, _ = tokenizer.encode(content, maxlen=max_c_len)\n",
    "            t_token_ids, _ = tokenizer.encode(title, maxlen=max_t_len)\n",
    "            batch_c_token_ids.append(c_token_ids)\n",
    "            batch_t_token_ids.append([0] + t_token_ids)\n",
    "            if len(batch_c_token_ids) == self.batch_size or is_end:\n",
    "                batch_c_token_ids = sequence_padding(batch_c_token_ids)\n",
    "                batch_t_token_ids = sequence_padding(batch_t_token_ids)\n",
    "                yield [batch_c_token_ids, batch_t_token_ids], None\n",
    "                batch_c_token_ids, batch_t_token_ids = [], []\n"
   ]
  },
  {
   "cell_type": "code",
   "execution_count": 7,
   "metadata": {},
   "outputs": [],
   "source": [
    "\n",
    "class CrossEntropy(Loss):\n",
    "    \"\"\"交叉熵作为loss，并mask掉输入部分\n",
    "    \"\"\"\n",
    "\n",
    "    def compute_loss(self, inputs, mask=None):\n",
    "        y_true, y_pred = inputs\n",
    "        y_true = y_true[:, 1:]  # 目标token_ids\n",
    "        y_mask = K.cast(mask[1], K.floatx())[:, :-1]  # 解码器自带mask\n",
    "        y_pred = y_pred[:, :-1]  # 预测序列，错开一位\n",
    "        loss = K.sparse_categorical_crossentropy(y_true, y_pred)\n",
    "        loss = K.sum(loss * y_mask) / K.sum(y_mask)\n",
    "        return loss\n",
    "\n"
   ]
  },
  {
   "cell_type": "code",
   "execution_count": 8,
   "metadata": {},
   "outputs": [
    {
     "name": "stdout",
     "output_type": "stream",
     "text": [
      "WARNING:tensorflow:From /home/xuehp/anaconda3/envs/t5_in_bert4keras/lib/python3.6/site-packages/keras/backend/tensorflow_backend.py:3170: add_dispatch_support.<locals>.wrapper (from tensorflow.python.ops.array_ops) is deprecated and will be removed in a future version.\n",
      "Instructions for updating:\n",
      "Use tf.where in 2.0, which has the same broadcast rule as np.where\n",
      "Model: \"model_1\"\n",
      "__________________________________________________________________________________________________\n",
      "Layer (type)                    Output Shape         Param #     Connected to                     \n",
      "==================================================================================================\n",
      "Encoder-Input-Token (InputLayer (None, None)         0                                            \n",
      "__________________________________________________________________________________________________\n",
      "Embedding-Token (Embedding)     (None, None, 512)    16690176    Encoder-Input-Token[0][0]        \n",
      "__________________________________________________________________________________________________\n",
      "Encoder-Embedding-Dropout (Drop (None, None, 512)    0           Embedding-Token[0][0]            \n",
      "__________________________________________________________________________________________________\n",
      "Encoder-Transformer-0-MultiHead (None, None, 512)    512         Encoder-Embedding-Dropout[0][0]  \n",
      "__________________________________________________________________________________________________\n",
      "Encoder-Embedding-Relative-Posi (None, None, 6)      192         Encoder-Embedding-Dropout[0][0]  \n",
      "                                                                 Encoder-Embedding-Dropout[0][0]  \n",
      "__________________________________________________________________________________________________\n",
      "Encoder-Transformer-0-MultiHead (None, None, 512)    786432      Encoder-Transformer-0-MultiHeadSe\n",
      "                                                                 Encoder-Transformer-0-MultiHeadSe\n",
      "                                                                 Encoder-Transformer-0-MultiHeadSe\n",
      "                                                                 Encoder-Embedding-Relative-Positi\n",
      "__________________________________________________________________________________________________\n",
      "Encoder-Transformer-0-MultiHead (None, None, 512)    0           Encoder-Transformer-0-MultiHeadSe\n",
      "__________________________________________________________________________________________________\n",
      "Encoder-Transformer-0-MultiHead (None, None, 512)    0           Encoder-Embedding-Dropout[0][0]  \n",
      "                                                                 Encoder-Transformer-0-MultiHeadSe\n",
      "__________________________________________________________________________________________________\n",
      "Encoder-Transformer-0-FeedForwa (None, None, 512)    512         Encoder-Transformer-0-MultiHeadSe\n",
      "__________________________________________________________________________________________________\n",
      "Encoder-Transformer-0-FeedForwa (None, None, 512)    1572864     Encoder-Transformer-0-FeedForward\n",
      "__________________________________________________________________________________________________\n",
      "Encoder-Transformer-0-FeedForwa (None, None, 512)    0           Encoder-Transformer-0-FeedForward\n",
      "__________________________________________________________________________________________________\n",
      "Encoder-Transformer-0-FeedForwa (None, None, 512)    0           Encoder-Transformer-0-MultiHeadSe\n",
      "                                                                 Encoder-Transformer-0-FeedForward\n",
      "__________________________________________________________________________________________________\n",
      "Encoder-Transformer-1-MultiHead (None, None, 512)    512         Encoder-Transformer-0-FeedForward\n",
      "__________________________________________________________________________________________________\n",
      "Encoder-Transformer-1-MultiHead (None, None, 512)    786432      Encoder-Transformer-1-MultiHeadSe\n",
      "                                                                 Encoder-Transformer-1-MultiHeadSe\n",
      "                                                                 Encoder-Transformer-1-MultiHeadSe\n",
      "                                                                 Encoder-Embedding-Relative-Positi\n",
      "__________________________________________________________________________________________________\n",
      "Encoder-Transformer-1-MultiHead (None, None, 512)    0           Encoder-Transformer-1-MultiHeadSe\n",
      "__________________________________________________________________________________________________\n",
      "Encoder-Transformer-1-MultiHead (None, None, 512)    0           Encoder-Transformer-0-FeedForward\n",
      "                                                                 Encoder-Transformer-1-MultiHeadSe\n",
      "__________________________________________________________________________________________________\n",
      "Encoder-Transformer-1-FeedForwa (None, None, 512)    512         Encoder-Transformer-1-MultiHeadSe\n",
      "__________________________________________________________________________________________________\n",
      "Encoder-Transformer-1-FeedForwa (None, None, 512)    1572864     Encoder-Transformer-1-FeedForward\n",
      "__________________________________________________________________________________________________\n",
      "Encoder-Transformer-1-FeedForwa (None, None, 512)    0           Encoder-Transformer-1-FeedForward\n",
      "__________________________________________________________________________________________________\n",
      "Encoder-Transformer-1-FeedForwa (None, None, 512)    0           Encoder-Transformer-1-MultiHeadSe\n",
      "                                                                 Encoder-Transformer-1-FeedForward\n",
      "__________________________________________________________________________________________________\n",
      "Encoder-Transformer-2-MultiHead (None, None, 512)    512         Encoder-Transformer-1-FeedForward\n",
      "__________________________________________________________________________________________________\n",
      "Encoder-Transformer-2-MultiHead (None, None, 512)    786432      Encoder-Transformer-2-MultiHeadSe\n",
      "                                                                 Encoder-Transformer-2-MultiHeadSe\n",
      "                                                                 Encoder-Transformer-2-MultiHeadSe\n",
      "                                                                 Encoder-Embedding-Relative-Positi\n",
      "__________________________________________________________________________________________________\n",
      "Encoder-Transformer-2-MultiHead (None, None, 512)    0           Encoder-Transformer-2-MultiHeadSe\n",
      "__________________________________________________________________________________________________\n",
      "Encoder-Transformer-2-MultiHead (None, None, 512)    0           Encoder-Transformer-1-FeedForward\n",
      "                                                                 Encoder-Transformer-2-MultiHeadSe\n",
      "__________________________________________________________________________________________________\n",
      "Encoder-Transformer-2-FeedForwa (None, None, 512)    512         Encoder-Transformer-2-MultiHeadSe\n",
      "__________________________________________________________________________________________________\n",
      "Encoder-Transformer-2-FeedForwa (None, None, 512)    1572864     Encoder-Transformer-2-FeedForward\n",
      "__________________________________________________________________________________________________\n",
      "Encoder-Transformer-2-FeedForwa (None, None, 512)    0           Encoder-Transformer-2-FeedForward\n",
      "__________________________________________________________________________________________________\n",
      "Encoder-Transformer-2-FeedForwa (None, None, 512)    0           Encoder-Transformer-2-MultiHeadSe\n",
      "                                                                 Encoder-Transformer-2-FeedForward\n",
      "__________________________________________________________________________________________________\n",
      "Encoder-Transformer-3-MultiHead (None, None, 512)    512         Encoder-Transformer-2-FeedForward\n",
      "__________________________________________________________________________________________________\n",
      "Encoder-Transformer-3-MultiHead (None, None, 512)    786432      Encoder-Transformer-3-MultiHeadSe\n",
      "                                                                 Encoder-Transformer-3-MultiHeadSe\n",
      "                                                                 Encoder-Transformer-3-MultiHeadSe\n",
      "                                                                 Encoder-Embedding-Relative-Positi\n",
      "__________________________________________________________________________________________________\n",
      "Encoder-Transformer-3-MultiHead (None, None, 512)    0           Encoder-Transformer-3-MultiHeadSe\n",
      "__________________________________________________________________________________________________\n",
      "Encoder-Transformer-3-MultiHead (None, None, 512)    0           Encoder-Transformer-2-FeedForward\n",
      "                                                                 Encoder-Transformer-3-MultiHeadSe\n",
      "__________________________________________________________________________________________________\n",
      "Encoder-Transformer-3-FeedForwa (None, None, 512)    512         Encoder-Transformer-3-MultiHeadSe\n",
      "__________________________________________________________________________________________________\n",
      "Encoder-Transformer-3-FeedForwa (None, None, 512)    1572864     Encoder-Transformer-3-FeedForward\n",
      "__________________________________________________________________________________________________\n",
      "Encoder-Transformer-3-FeedForwa (None, None, 512)    0           Encoder-Transformer-3-FeedForward\n",
      "__________________________________________________________________________________________________\n",
      "Encoder-Transformer-3-FeedForwa (None, None, 512)    0           Encoder-Transformer-3-MultiHeadSe\n",
      "                                                                 Encoder-Transformer-3-FeedForward\n",
      "__________________________________________________________________________________________________\n",
      "Encoder-Transformer-4-MultiHead (None, None, 512)    512         Encoder-Transformer-3-FeedForward\n",
      "__________________________________________________________________________________________________\n",
      "Encoder-Transformer-4-MultiHead (None, None, 512)    786432      Encoder-Transformer-4-MultiHeadSe\n",
      "                                                                 Encoder-Transformer-4-MultiHeadSe\n",
      "                                                                 Encoder-Transformer-4-MultiHeadSe\n",
      "                                                                 Encoder-Embedding-Relative-Positi\n",
      "__________________________________________________________________________________________________\n",
      "Encoder-Transformer-4-MultiHead (None, None, 512)    0           Encoder-Transformer-4-MultiHeadSe\n",
      "__________________________________________________________________________________________________\n",
      "Encoder-Transformer-4-MultiHead (None, None, 512)    0           Encoder-Transformer-3-FeedForward\n",
      "                                                                 Encoder-Transformer-4-MultiHeadSe\n",
      "__________________________________________________________________________________________________\n",
      "Encoder-Transformer-4-FeedForwa (None, None, 512)    512         Encoder-Transformer-4-MultiHeadSe\n",
      "__________________________________________________________________________________________________\n",
      "Encoder-Transformer-4-FeedForwa (None, None, 512)    1572864     Encoder-Transformer-4-FeedForward\n",
      "__________________________________________________________________________________________________\n",
      "Encoder-Transformer-4-FeedForwa (None, None, 512)    0           Encoder-Transformer-4-FeedForward\n",
      "__________________________________________________________________________________________________\n",
      "Encoder-Transformer-4-FeedForwa (None, None, 512)    0           Encoder-Transformer-4-MultiHeadSe\n",
      "                                                                 Encoder-Transformer-4-FeedForward\n",
      "__________________________________________________________________________________________________\n",
      "Encoder-Transformer-5-MultiHead (None, None, 512)    512         Encoder-Transformer-4-FeedForward\n",
      "__________________________________________________________________________________________________\n",
      "Encoder-Transformer-5-MultiHead (None, None, 512)    786432      Encoder-Transformer-5-MultiHeadSe\n",
      "                                                                 Encoder-Transformer-5-MultiHeadSe\n",
      "                                                                 Encoder-Transformer-5-MultiHeadSe\n",
      "                                                                 Encoder-Embedding-Relative-Positi\n",
      "__________________________________________________________________________________________________\n",
      "Encoder-Transformer-5-MultiHead (None, None, 512)    0           Encoder-Transformer-5-MultiHeadSe\n",
      "__________________________________________________________________________________________________\n",
      "Encoder-Transformer-5-MultiHead (None, None, 512)    0           Encoder-Transformer-4-FeedForward\n",
      "                                                                 Encoder-Transformer-5-MultiHeadSe\n",
      "__________________________________________________________________________________________________\n",
      "Encoder-Transformer-5-FeedForwa (None, None, 512)    512         Encoder-Transformer-5-MultiHeadSe\n",
      "__________________________________________________________________________________________________\n",
      "Encoder-Transformer-5-FeedForwa (None, None, 512)    1572864     Encoder-Transformer-5-FeedForward\n",
      "__________________________________________________________________________________________________\n",
      "Encoder-Transformer-5-FeedForwa (None, None, 512)    0           Encoder-Transformer-5-FeedForward\n",
      "__________________________________________________________________________________________________\n",
      "Encoder-Transformer-5-FeedForwa (None, None, 512)    0           Encoder-Transformer-5-MultiHeadSe\n",
      "                                                                 Encoder-Transformer-5-FeedForward\n",
      "__________________________________________________________________________________________________\n",
      "Encoder-Transformer-6-MultiHead (None, None, 512)    512         Encoder-Transformer-5-FeedForward\n",
      "__________________________________________________________________________________________________\n",
      "Encoder-Transformer-6-MultiHead (None, None, 512)    786432      Encoder-Transformer-6-MultiHeadSe\n",
      "                                                                 Encoder-Transformer-6-MultiHeadSe\n",
      "                                                                 Encoder-Transformer-6-MultiHeadSe\n",
      "                                                                 Encoder-Embedding-Relative-Positi\n",
      "__________________________________________________________________________________________________\n",
      "Encoder-Transformer-6-MultiHead (None, None, 512)    0           Encoder-Transformer-6-MultiHeadSe\n",
      "__________________________________________________________________________________________________\n",
      "Encoder-Transformer-6-MultiHead (None, None, 512)    0           Encoder-Transformer-5-FeedForward\n",
      "                                                                 Encoder-Transformer-6-MultiHeadSe\n",
      "__________________________________________________________________________________________________\n",
      "Encoder-Transformer-6-FeedForwa (None, None, 512)    512         Encoder-Transformer-6-MultiHeadSe\n",
      "__________________________________________________________________________________________________\n",
      "Encoder-Transformer-6-FeedForwa (None, None, 512)    1572864     Encoder-Transformer-6-FeedForward\n",
      "__________________________________________________________________________________________________\n",
      "Encoder-Transformer-6-FeedForwa (None, None, 512)    0           Encoder-Transformer-6-FeedForward\n",
      "__________________________________________________________________________________________________\n",
      "Encoder-Transformer-6-FeedForwa (None, None, 512)    0           Encoder-Transformer-6-MultiHeadSe\n",
      "                                                                 Encoder-Transformer-6-FeedForward\n",
      "__________________________________________________________________________________________________\n",
      "Encoder-Transformer-7-MultiHead (None, None, 512)    512         Encoder-Transformer-6-FeedForward\n",
      "__________________________________________________________________________________________________\n",
      "Encoder-Transformer-7-MultiHead (None, None, 512)    786432      Encoder-Transformer-7-MultiHeadSe\n",
      "                                                                 Encoder-Transformer-7-MultiHeadSe\n",
      "                                                                 Encoder-Transformer-7-MultiHeadSe\n",
      "                                                                 Encoder-Embedding-Relative-Positi\n",
      "__________________________________________________________________________________________________\n",
      "Encoder-Transformer-7-MultiHead (None, None, 512)    0           Encoder-Transformer-7-MultiHeadSe\n",
      "__________________________________________________________________________________________________\n",
      "Encoder-Transformer-7-MultiHead (None, None, 512)    0           Encoder-Transformer-6-FeedForward\n",
      "                                                                 Encoder-Transformer-7-MultiHeadSe\n",
      "__________________________________________________________________________________________________\n",
      "Encoder-Transformer-7-FeedForwa (None, None, 512)    512         Encoder-Transformer-7-MultiHeadSe\n",
      "__________________________________________________________________________________________________\n",
      "Encoder-Transformer-7-FeedForwa (None, None, 512)    1572864     Encoder-Transformer-7-FeedForward\n",
      "__________________________________________________________________________________________________\n",
      "Encoder-Transformer-7-FeedForwa (None, None, 512)    0           Encoder-Transformer-7-FeedForward\n",
      "__________________________________________________________________________________________________\n",
      "Encoder-Transformer-7-FeedForwa (None, None, 512)    0           Encoder-Transformer-7-MultiHeadSe\n",
      "                                                                 Encoder-Transformer-7-FeedForward\n",
      "__________________________________________________________________________________________________\n",
      "Encoder-Output-Norm (LayerNorma (None, None, 512)    512         Encoder-Transformer-7-FeedForward\n",
      "__________________________________________________________________________________________________\n",
      "Encoder-Output-Dropout (Dropout (None, None, 512)    0           Encoder-Output-Norm[0][0]        \n",
      "__________________________________________________________________________________________________\n",
      "Decoder-Input-Token (InputLayer (None, None)         0                                            \n",
      "__________________________________________________________________________________________________\n",
      "T5_Decoder (Model)              (None, None, 32598)  58559168    Encoder-Output-Dropout[0][0]     \n",
      "                                                                 Decoder-Input-Token[0][0]        \n",
      "==================================================================================================\n",
      "Total params: 77,442,432\n",
      "Trainable params: 77,442,432\n",
      "Non-trainable params: 0\n",
      "__________________________________________________________________________________________________\n"
     ]
    }
   ],
   "source": [
    "\n",
    "t5 = build_transformer_model(\n",
    "    config_path=config_path,\n",
    "    checkpoint_path=checkpoint_path,\n",
    "    keep_tokens=keep_tokens,\n",
    "    model='t5.1.1',\n",
    "    return_keras_model=False,\n",
    "    name='T5',\n",
    ")\n",
    "\n",
    "encoder = t5.encoder\n",
    "decoder = t5.decoder\n",
    "model = t5.model\n",
    "model.summary()\n"
   ]
  },
  {
   "cell_type": "code",
   "execution_count": 9,
   "metadata": {},
   "outputs": [
    {
     "name": "stderr",
     "output_type": "stream",
     "text": [
      "/home/xuehp/anaconda3/envs/t5_in_bert4keras/lib/python3.6/site-packages/keras/engine/training_utils.py:819: UserWarning: Output cross_entropy_1 missing from loss dictionary. We assume this was done on purpose. The fit and evaluate APIs will not be expecting any data to be passed to cross_entropy_1.\n",
      "  'be expecting any data to be passed to {0}.'.format(name))\n"
     ]
    }
   ],
   "source": [
    "\n",
    "output = CrossEntropy(1)([model.inputs[1], model.outputs[0]])\n",
    "\n",
    "model = Model(model.inputs, output)\n",
    "model.compile(optimizer=Adam(2e-4))\n",
    "\n"
   ]
  },
  {
   "cell_type": "code",
   "execution_count": 10,
   "metadata": {},
   "outputs": [],
   "source": [
    "\n",
    "class AutoTitle(AutoRegressiveDecoder):\n",
    "    \"\"\"seq2seq解码器\n",
    "    \"\"\"\n",
    "\n",
    "    @AutoRegressiveDecoder.wraps(default_rtype='probas')\n",
    "    def predict(self, inputs, output_ids, states):\n",
    "        c_encoded = inputs[0]\n",
    "        return decoder.predict([c_encoded, output_ids])[:, -1]\n",
    "\n",
    "    def generate(self, text, topk=1):\n",
    "        c_token_ids, _ = tokenizer.encode(text, maxlen=max_c_len)\n",
    "        c_encoded = encoder.predict(np.array([c_token_ids]))[0]\n",
    "        output_ids = self.beam_search([c_encoded], topk)  # 基于beam search\n",
    "        return tokenizer.decode([int(i) for i in output_ids])\n",
    "\n"
   ]
  },
  {
   "cell_type": "code",
   "execution_count": 11,
   "metadata": {},
   "outputs": [],
   "source": [
    "\n",
    "# 注：T5有一个很让人不解的设置，它的<bos>标记id是0，即<bos>和<pad>其实都是0\n",
    "autotitle = AutoTitle(start_id=0, end_id=tokenizer._token_end_id, maxlen=32)\n",
    "\n"
   ]
  },
  {
   "cell_type": "code",
   "execution_count": 12,
   "metadata": {},
   "outputs": [],
   "source": [
    "\n",
    "class Evaluator(keras.callbacks.Callback):\n",
    "    \"\"\"评估与保存\n",
    "    \"\"\"\n",
    "\n",
    "    def __init__(self):\n",
    "        self.rouge = Rouge()\n",
    "        self.smooth = SmoothingFunction().method1\n",
    "        self.best_bleu = 0.\n",
    "\n",
    "    def on_epoch_end(self, epoch, logs=None):\n",
    "        metrics = self.evaluate(valid_data)  # 评测模型\n",
    "        if metrics['bleu'] > self.best_bleu:\n",
    "            self.best_bleu = metrics['bleu']\n",
    "            model.save_weights('./best_model.weights')  # 保存模型\n",
    "        metrics['best_bleu'] = self.best_bleu\n",
    "        print('valid_data:', metrics)\n",
    "\n",
    "    def evaluate(self, data, topk=1):\n",
    "        total = 0\n",
    "        rouge_1, rouge_2, rouge_l, bleu = 0, 0, 0, 0\n",
    "        for title, content in tqdm(data):\n",
    "            total += 1\n",
    "            title = ' '.join(title).lower()\n",
    "            pred_title = ' '.join(autotitle.generate(content, topk)).lower()\n",
    "            print(title)\n",
    "            print(pred_title)\n",
    "            print(content)\n",
    "            print('')\n",
    "            if pred_title.strip():\n",
    "                scores = self.rouge.get_scores(hyps=pred_title, refs=title)\n",
    "                rouge_1 += scores[0]['rouge-1']['f']\n",
    "                rouge_2 += scores[0]['rouge-2']['f']\n",
    "                rouge_l += scores[0]['rouge-l']['f']\n",
    "                bleu += sentence_bleu(\n",
    "                    references=[title.split(' ')],\n",
    "                    hypothesis=pred_title.split(' '),\n",
    "                    smoothing_function=self.smooth\n",
    "                )\n",
    "        rouge_1 /= total\n",
    "        rouge_2 /= total\n",
    "        rouge_l /= total\n",
    "        bleu /= total\n",
    "        return {\n",
    "            'rouge-1': rouge_1,\n",
    "            'rouge-2': rouge_2,\n",
    "            'rouge-l': rouge_l,\n",
    "            'bleu': bleu,\n",
    "        }\n"
   ]
  },
  {
   "cell_type": "code",
   "execution_count": 13,
   "metadata": {
    "scrolled": false
   },
   "outputs": [
    {
     "name": "stderr",
     "output_type": "stream",
     "text": [
      "\r",
      "  0%|          | 0/1000 [00:00<?, ?it/s]"
     ]
    },
    {
     "name": "stdout",
     "output_type": "stream",
     "text": [
      "WARNING:tensorflow:From /home/xuehp/anaconda3/envs/t5_in_bert4keras/lib/python3.6/site-packages/keras/backend/tensorflow_backend.py:422: The name tf.global_variables is deprecated. Please use tf.compat.v1.global_variables instead.\n",
      "\n"
     ]
    },
    {
     "name": "stderr",
     "output_type": "stream",
     "text": [
      "\r",
      "  0%|          | 1/1000 [00:03<56:01,  3.37s/it]"
     ]
    },
    {
     "name": "stdout",
     "output_type": "stream",
     "text": [
      "超 立 方 体 网 络 的 3 路 结 构 连 通 度 及 子 结 构 连 通 度\n",
      "超 立 方 体 网 络 结 构 连 通 性 和 子 结 构 连 通 性 评 价\n",
      "针对以超立方体网络为蓝本的多处理机系统的可靠性和容错能力的精准度量问题,结合多处理机系统遭受计算机病毒攻击时常常发生结构性故障的特点,研究了n维超立方体网络的结构连通性和子结构连通性评价问题。首先,使用构造n维超立方体网络的3路结构割的方法得到其3路结构连通度的一个上界;然后,使用构造n维超立方体网络的3路子结构集的等价变换或约简变换的方法,得到其3路结构子连通度的一个下界;最后,利用任意网络的3路结构连通度不小于3路子结构连通度的性质,证实了超立方体网络的3路结构连通度和子结构连通度均为该超立方体网络维数的一半。这一结果表明,在3路结构故障模型下,破坏敌方以超立方体网络为底层拓扑的多处理系统至少需要攻击该系统中维数一半的3路结构或子结构。\n",
      "\n"
     ]
    },
    {
     "name": "stderr",
     "output_type": "stream",
     "text": [
      "\r",
      "  0%|          | 2/1000 [00:03<42:20,  2.55s/it]"
     ]
    },
    {
     "name": "stdout",
     "output_type": "stream",
     "text": [
      "基 于 惩 罚 误 差 矩 阵 的 同 步 预 测 无 线 体 域 网 节 能 方 法\n",
      "基 于 惩 罚 误 差 矩 阵 的 无 线 体 域 网 自 适 应 三 次 指 数 平 滑 算 法\n",
      "针对传统无线体域网(WBAN)预测模型对感知数据预测精度低、计算量大、能耗高的问题,提出一种基于惩罚误差矩阵的自适应三次指数平滑算法。首先在感知节点与路由节点之间建立轻量级预测模型,其次采用地毯式搜索方式对预测模型进行参数优化处理,最后采用惩罚误差矩阵对预测模型参数作进一步的细粒化处理。实验结果表明,与Zig Bee协议相比,在1000时隙范围内,所提方法可节省12%左右的能量;而采用惩罚误差矩阵与地毯式搜索方式相比,预测精度提高了3. 306%。所提方法在有效降低计算复杂度的同时能进一步降低WBAN的能耗。\n",
      "\n"
     ]
    },
    {
     "name": "stderr",
     "output_type": "stream",
     "text": [
      "\r",
      "  0%|          | 3/1000 [00:04<31:32,  1.90s/it]"
     ]
    },
    {
     "name": "stdout",
     "output_type": "stream",
     "text": [
      "车 联 网 环 境 下 基 于 节 点 认 知 交 互 的 路 由 算 法\n",
      "基 于 车 辆 节 点 认 知 交 互 的 路 由 算 法\n",
      "针对车联网(IoV)环境下消息传输效率低下、网络资源开销较大等诸多问题,提出一种适用于城市交通场景下基于车辆节点认知交互的路由算法。首先,依据信任理论提出节点认知交互度的概念,并在此基础上对车联网中的车辆节点进行分类,赋予它们不同的认知交互度初值;同时还引入车辆节点交互时间、交互频率、车辆节点物理间隔距离、间隔跳数以及消息生存时间等影响因子,进而构建了车辆节点认知交互评估模型。基于该模型计算并更新节点的认知交互度,并通过比较对应车辆节点间的认知交互度值来选取认知交互度相对较高的邻居节点作为中继节点进行消息转发。仿真实验结果表明,与Epidemic和Prophet路由算法相比,所提路由算法有效提高了消息投递率并降低了消息投递时延,同时显著降低了网络资源的开销,有助于提升车联网环境的消息传输质量。\n",
      "\n"
     ]
    },
    {
     "name": "stderr",
     "output_type": "stream",
     "text": [
      "\r",
      "  0%|          | 4/1000 [00:04<24:56,  1.50s/it]"
     ]
    },
    {
     "name": "stdout",
     "output_type": "stream",
     "text": [
      "基 于 迭 代 自 适 应 方 法 的 近 场 源 二 维 参 数 联 合 估 计\n",
      "近 场 迭 代 自 适 应 算 法 及 其 在 信 源 d o a 分 辨 中 的 应 用\n",
      "针对近场源波达方向(DOA)和距离的联合估计问题,提出一种近场迭代自适应算法(NF-IAA)。首先通过划分二维网格表示出近场区域内信源所有可能的位置,每个位置都看作存在一个潜在的信源入射到阵列上,表示出阵列输出的数据模型;然后通过循环迭代利用上一次谱估计的结果构建信号的协方差矩阵,将协方差矩阵的逆作为加权矩阵估计出每个位置对应的潜在信源能量;最后绘制出三维能量谱图,由于只有真实存在的信源能量不为0,因此谱峰对应的位置即为真实存在信源的位置。仿真实验表明在10个快拍条件下,NF-IAA的DOA分辨概率达到了90%,而二维多重信号分类(2D-MUSIC)算法只有40%;当快拍数降至2时,2D-MUSIC算法已经失效,而NF-IAA仍然能很好地分辨出3个入射信源并且准确地估计出位置参数。随着快拍数和信噪比(SNR)的增加,NF-IAA的估计性能一直优于2D-MUSIC。实验结果表明,NF-IAA具备少快拍条件下高精度、高分辨地估计近场源二维位置参数的能力。\n",
      "\n"
     ]
    },
    {
     "name": "stderr",
     "output_type": "stream",
     "text": [
      "\r",
      "  0%|          | 5/1000 [00:05<19:38,  1.18s/it]"
     ]
    },
    {
     "name": "stdout",
     "output_type": "stream",
     "text": [
      "基 于 活 跃 时 间 分 组 的 软 件 众 包 工 人 选 择 机 制\n",
      "基 于 活 跃 时 间 分 组 的 软 件 众 包 工 人 选 择 机 制\n",
      "针对现有的软件众包工人选择机制对工人间协同开发考虑不足的问题,在竞标模式的基础上提出一种基于活跃时间分组的软件众包工人选择机制。首先,基于活跃时间将众包工人划分为多个协同开发组;然后,根据组内工人开发能力和协同因子计算协同工作组权重;最后,选定权重最大的协同工作组为最优工作组,并根据模块复杂度为每个任务模块从该组内选择最适合的工人。实验结果表明,该机制相比能力优先选择方法在工人平均能力上仅有0. 57%的差距,同时因为保证了工人间的协同而使项目风险平均降低了32%,能有效指导需多人协同进行的众包软件任务的工人选择。\n",
      "\n"
     ]
    },
    {
     "name": "stderr",
     "output_type": "stream",
     "text": [
      "\r",
      "  1%|          | 6/1000 [00:05<16:01,  1.03it/s]"
     ]
    },
    {
     "name": "stdout",
     "output_type": "stream",
     "text": [
      "基 于 弱 变 异 准 则 的 测 试 用 例 约 简 方 法\n",
      "基 于 弱 变 异 准 则 的 测 试 用 例 约 简 方 法\n",
      "针对为数较多的测试用例增加了回归测试成本的问题,提出一种基于弱变异准则的测试用例约简方法。首先,基于弱变异准则获得测试用例和变异分支关系矩阵;然后,重复约简4种无效测试需求和子集测试用例;最后,结合人工鱼群算法选择当前最优测试用例,并且交替执行简化和测试用例选择操作直至覆盖所有测试需求。该方法针对6个经典程序与贪心算法和HGS算法相比,基于弱变异准则并且不改变或稍微改变变异评分的条件下,约简率分别提高了73. 4%和8. 2%,且耗时分别降低了25. 3%和56. 1%。实验结果表明,所提方法在回归测试中可有效约简测试用例,降低测试代价。\n",
      "\n"
     ]
    },
    {
     "name": "stderr",
     "output_type": "stream",
     "text": [
      "\r",
      "  1%|          | 7/1000 [00:06<15:02,  1.10it/s]"
     ]
    },
    {
     "name": "stdout",
     "output_type": "stream",
     "text": [
      "改 进 的 基 于 稀 疏 表 示 的 全 色 锐 化 算 法\n",
      "结 合 强 度 通 道 和 低 分 辨 率 全 色 锐 化 算 法 的 高 分 辨 率 全 色 锐 化 算 法\n",
      "为了更有效地结合高分辨率全色(PAN)图像细节信息和低分辨率多光谱(MS)图像光谱信息,提出了一种改进的全色锐化算法。首先,对低分辨率MS图像的强度通道进行下采样再上采样获取其低频成分;其次,用强度通道减去低频成分获取其高频成分,在获取到的高低频成分中进行随机采样来构建字典;然后,用构建好的过完备字典对高分辨率PAN图像进行分块分解以获取高频信息;最后,将分解出的高频信息注入到低分辨率MS图像中以重建高分辨率MS图像。经多组实验后发现,所提出的算法在主观上保留了光谱信息,并注入了大量的空间细节信息。对比结果表明,相比其他诸如基于成分替换算法、基于多分辨率分析算法、基于稀疏表示算法,所提算法重建出来的高分辨率MS图像更加清晰,且在相关系数等多种客观评价指标上优于对比算法。\n",
      "\n"
     ]
    },
    {
     "name": "stderr",
     "output_type": "stream",
     "text": [
      "\r",
      "  1%|          | 8/1000 [00:07<13:16,  1.25it/s]"
     ]
    },
    {
     "name": "stdout",
     "output_type": "stream",
     "text": [
      "基 于 快 速 判 别 式 尺 度 估 计 的 核 相 关 滤 波 方 法\n",
      "基 于 快 速 判 别 式 多 尺 度 估 计 的 核 相 关 滤 波 跟 踪 算 法\n",
      "针对核相关滤波(KCF)算法无法对视频序列中目标尺度变化作出响应的问题,提出一种基于快速判别式多尺度估计的核相关滤波跟踪算法。首先,使用核相关滤波器来估计目标位置;然后,通过使用一组不同尺度的目标样本来在线学习快速判别式尺度滤波器;最后,在目标位置应用学习的尺度滤波器来获得目标尺寸的准确估计。选取Visual Tracker Benchmark视频序列集进行实验,并与基于判别式尺度空间跟踪(DSST)的KCF算法和传统KCF算法进行对比,结果表明,在目标尺度发生变化时,所提算法在跟踪精度上提高了2. 2%至10. 8%;并且在平均帧率上,所提算法比DSST的KCF算法提高了19. 1%至68. 5%,表明该算法对目标尺度变化有很强的适应能力和较高的实时性。\n",
      "\n"
     ]
    },
    {
     "name": "stderr",
     "output_type": "stream",
     "text": [
      "\r",
      "  1%|          | 9/1000 [00:07<13:00,  1.27it/s]"
     ]
    },
    {
     "name": "stdout",
     "output_type": "stream",
     "text": [
      "基 于 分 组 字 典 与 变 分 模 型 的 图 像 去 噪 算 法\n",
      "基 于 k - s v d 字 典 学 习 与 变 分 模 型 的 加 性 高 斯 噪 声 去 噪 算 法\n",
      "针对加性高斯噪声去除问题,在现有传统的K均值奇异值分解(K-SVD)字典学习算法的基础上,提出一种将字典学习与变分模型相融合的改进算法。首先,根据图像的几何和光度信息将图像进行聚类分组,再将图像组按照边缘和纹理类别进行分类,根据噪声水平和图像组类别训练一个自适应字典;其次,将通过所学字典得到的稀疏表示先验与图像本身的非局部相似先验进行融合来构建变分模型;最后,通过求解变分模型得到去噪后图像。实验结果表明,与同类去噪算法相比,当噪声比率较高时,所提算法可以解决前期算法准确性较差、纹理丢失较为严重、产生视觉伪影等问题,在视觉效果上要更为理想;同时该算法结构相似性指数有明显提高,峰值信噪比(PSNR)的值更是平均提高了10%以上。\n",
      "\n"
     ]
    },
    {
     "name": "stderr",
     "output_type": "stream",
     "text": [
      "\r",
      "  1%|          | 10/1000 [00:08<11:18,  1.46it/s]"
     ]
    },
    {
     "name": "stdout",
     "output_type": "stream",
     "text": [
      "区 域 配 对 引 导 的 光 照 传 播 视 频 阴 影 去 除 方 法\n",
      "基 于 区 域 配 对 引 导 的 光 照 传 播 阴 影 去 除\n",
      "传统方法在处理自由移动相机捕获视频中的阴影时,存在时空不连贯现象。为解决该问题,提出一种区域配对引导的光照传播阴影去除方法。首先,使用基于尺度不变特征变换(SIFT)特征向量的均值漂移方法分割视频,通过支持向量机(SVM)分类器检测出其中的阴影;然后,将输入视频帧分解成重叠的二维图像区域块,建立其马尔可夫随机场(MRF),通过光流引导的区域块匹配机制,为每一个阴影块找到最佳匹配的非阴影块;最后,使用局部光照传播算子恢复阴影区域块的光照,并对其进行全局光照优化。实验结果表明,与传统基于光照传播方法相比,所提方法在阴影检测综合评价指标上提升约6. 23%,像素均方根误差(RMSE)减小约30. 12%,且大幅度缩短了阴影处理时间,得到的无阴影视频结果更具时空连贯性。\n",
      "\n"
     ]
    },
    {
     "name": "stderr",
     "output_type": "stream",
     "text": [
      "\r",
      "  1%|          | 11/1000 [00:08<10:26,  1.58it/s]"
     ]
    },
    {
     "name": "stdout",
     "output_type": "stream",
     "text": [
      "不 可 分 拉 普 拉 斯 金 字 塔 构 造 及 其 在 多 光 谱 图 像 融 合 中 的 应 用\n",
      "非 采 样 不 可 分 拉 普 拉 斯 金 字 塔 构 造 方 法\n",
      "针对拉普拉斯塔形(LP)变换在图像融合中具有高频信息损失严重且缺乏平移不变性的问题,利用不可分小波具有平移不变性和能够准确描述图像细节信息的特点,提出一种新的非采样不可分拉普拉斯金字塔构造方法,并将该构造方法应用于多光谱图像融合中。首先,构造六通道不可分低通滤波器,利用该滤波器构造多光谱图像和全色图像的非采样不可分小波塔形分解,进而对图像进行非采样不可分拉普拉斯塔形分解;然后,针对不同的分解层采用不同的融合规则进行融合;最后,根据不可分拉普拉斯重构算法进行重构,即可得到融合后的图像。实验结果表明,与离散小波变换(DWT)的融合方法、基于Contourlet变换(CT)的融合方法以及基于直方图中轴化(MHE)的融合方法对比,所提方法在保持原全色图像空间分辨率的评价指标空间相关系数上分别提高了1. 84%、1. 56%和11. 06%,在光谱信息保持程度的评价指标相对整体维数综合误差上分别降低了49. 26%、48. 15%和89. 19%。该方法所得图像在获得好的光谱信息的同时有效地提高了空间分辨率,较好地保留了图像的边缘信息与结构信息。\n",
      "\n"
     ]
    },
    {
     "name": "stderr",
     "output_type": "stream",
     "text": [
      "\r",
      "  1%|          | 12/1000 [00:09<09:32,  1.73it/s]"
     ]
    },
    {
     "name": "stdout",
     "output_type": "stream",
     "text": [
      "基 于 角 边 特 征 的 纸 质 碎 片 自 动 拼 接 复 原 算 法\n",
      "纸 质 文 物 碎 片 自 动 拼 接 复 原 算 法 研 究\n",
      "针对人工复原纸质文物碎片存在尝试次数多、拼接速度慢、复原准确性与完成度低等问题,提出一种依据碎片角度与边长特征进行纸质文物碎片自动拼接复原的算法。首先,将碎片图像进行预处理并根据碎片的角度值进行粗匹配,得到角度值相等的碎片图像;然后,在粗匹配的基础上,利用碎片的角边长进行细匹配减少重叠情况,得到碎片图像的基本匹配结果;最后,利用凹凸函数对方向相对的碎片图像情况进行遗漏弥补,并运用震荡函数对最终匹配图像进行缝隙弥补得到完整拼接结果。理论分析和碎片拼接仿真实验结果表明,与特征点、近似多边形拟合、角序列匹配等碎片自动拼接算法相比,所提算法的拼接准确率、拼接完成度与拼接耗时分别至少提高了12个百分点、11个百分点与10个百分点。所提基于角边特征的碎片拼接算法减少了繁琐的图像计算步骤,精确了碎片匹配结果,使得在实际文物修复等工程中能够实现非规则碎片高效、高精准的匹配。\n",
      "\n"
     ]
    },
    {
     "name": "stderr",
     "output_type": "stream",
     "text": [
      "\r",
      "  1%|▏         | 13/1000 [00:09<09:44,  1.69it/s]"
     ]
    },
    {
     "name": "stdout",
     "output_type": "stream",
     "text": [
      "基 于 图 像 块 分 类 的 图 像 超 分 辨 率 重 建\n",
      "基 于 图 像 卡 通 纹 理 分 解 的 单 幅 图 像 超 分 辨 率 重 建 算 法\n",
      "针对当前图像超分辨率重建算法中存在的字典单一而导致重建图像质量不佳的问题,提出一种将图像块分类与图像卡通纹理分解相结合的单幅图像超分辨率重建算法。首先,将图像分块,并将图像块分为边缘类、纹理类和平滑类三类,其中纹理类用形态成分分析(MCA)算法分解为卡通部分和纹理部分;然后,对边缘类、卡通部分和纹理部分分别训练高低分辨率字典;最后,求解稀疏系数并与高分辨率字典重建图像块。仿真结果显示,与基于稀疏表示的超分辨率重建(SCSR)算法和单幅图像超分辨率重建(SISR)算法相比,所提算法的峰值信噪比(PNSR)值分别提高了0. 26 d B和0. 14 d B,表明该算法的重建效果更好,重建图像纹理细节更丰富。\n",
      "\n"
     ]
    },
    {
     "name": "stderr",
     "output_type": "stream",
     "text": [
      "\r",
      "  1%|▏         | 14/1000 [00:11<11:53,  1.38it/s]"
     ]
    },
    {
     "name": "stdout",
     "output_type": "stream",
     "text": [
      "基 于 改 进 的 z e r n i k e 矩 的 局 部 描 述 符 与 图 割 离 散 优 化 的 非 刚 性 多 模 态 脑 部 图 像 配 准\n",
      "基 于 改 进 的 z e r n i k e 矩 的 局 部 描 述 符 与 图 割 离 散 优 化 的 非 刚 性 多 模 态 脑 部 图 像 配 准\n",
      "针对脑部图像中存在噪声和强度失真时,基于结构信息的方法不能同时准确提取图像强度信息和边缘、纹理特征,并且连续优化计算复杂度相对较高的问题,根据图像的结构信息,提出了基于改进Zernike距的局部描述符(IZMLD)和图割(GC)离散优化的非刚性多模态脑部图像配准方法。首先,将图像配准问题看成是马尔可夫随机场(MRF)的离散标签问题,并且构造能量函数,两个能量项分别由位移矢量场的像素相似性和平滑性组成。其次,采用变形矢量场的一阶导数作为平滑项,用来惩罚相邻像素间有较大变化的位移标签;用基于IZMLD计算的相似性测度作为数据项,用来表示像素相似性。然后,在局部邻域中用图像块的Zernike矩来分别计算参考图像和浮动图像的自相似性并构造有效的局部描述符,把描述符之间的绝对误差和(SAD)作为相似性测度。最后,将整个能量函数离散化,并且使用GC的扩展优化算法求最小值。实验结果表明,与基于结构表示的熵图像的误差平方和(ESSD)、模态独立邻域描述符(MIND)和随机二阶熵图像(SSOEI)的配准方法相比,所提算法目标配准误差的均值分别下降了18. 78%、10. 26%和8. 89%,并且比连续优化算法缩短了约20 s的配准时间。所提算法实现了在图像存在噪声和强度失真时的高效精确配准。\n",
      "\n"
     ]
    },
    {
     "name": "stderr",
     "output_type": "stream",
     "text": [
      "\r",
      "  2%|▏         | 15/1000 [00:11<10:06,  1.62it/s]"
     ]
    },
    {
     "name": "stdout",
     "output_type": "stream",
     "text": [
      "物 联 网 智 能 物 流 系 统 容 错 服 务 组 合 建 模 与 分 析\n",
      "物 联 网 智 能 物 流 系 统 物 流 服 务 容 错 组 合 模 型\n",
      "针对物流领域的服务组合存在容错性差和服务不可靠等问题,提出一种基于π网的物联网智能物流系统物流服务容错组合模型。首先,在简单介绍物联网智能物流系统后,给出了物联网智能物流系统的容错服务组合框架;然后,基于π网建立了物联网智能物流系统物流服务容错组合模型,并对模型进行了容错正确性和拟合性分析;最后,对提出的模型进行了服务可靠性、服务故障容错可靠性实验,并与Petri网、QoS动态预测算法、模糊卡诺模型和改进粒子群优化的服务组合方法针对服务组合的执行时间、用户满意度、可靠性和最优度进行对比实验。实验结果表明,所提模型具有更高的服务可靠性和服务故障容错可靠性,同时在服务组合的执行时间、用户满意度、可靠性和最优度等方面也具有一定的优越性。\n",
      "\n"
     ]
    },
    {
     "name": "stderr",
     "output_type": "stream",
     "text": [
      "\r",
      "  2%|▏         | 16/1000 [00:11<09:08,  1.79it/s]"
     ]
    },
    {
     "name": "stdout",
     "output_type": "stream",
     "text": [
      "考 虑 区 域 协 调 性 的 城 际 列 车 开 行 方 案 优 化\n",
      "考 虑 区 域 协 调 性 的 城 际 列 车 开 行 方 案 优 化\n",
      "针对城际列车开行方案没有有效匹配城市轨道交通运能的问题,提出一种考虑区域协调性的城际列车开行方案优化方法。首先,以旅客出行费用最小和铁路运输效益最大为优化目标,考虑城际列车载客能力、出发地目的地(Original Destination,OD)客流需求和通过能力等约束;然后,在此基础上增加运能匹配度的限制,构建了考虑区域协调性的城际列车开行方案多目标非线性规划模型,并设计改进的模拟退火算法求解模型;最后,以广深城际铁路为例并进行两组对比分析。实验结果表明:考虑区域协调性的列车开行方案可以使旅客出行总广义费用降低约4.06%,铁路部门的效益提高约9. 58%,旅客和铁路的系统总成本降低约23. 27%;与遗传算法相比,改进的模拟退火算法在求解质量与收敛速度上均有较大提高。所提模型和算法可充分兼顾旅客和铁路双方利益,能够为城际列车开行方案优化问题提供有效解决方法。\n",
      "\n"
     ]
    },
    {
     "name": "stderr",
     "output_type": "stream",
     "text": [
      "\r",
      "  2%|▏         | 17/1000 [00:12<09:28,  1.73it/s]"
     ]
    },
    {
     "name": "stdout",
     "output_type": "stream",
     "text": [
      "考 虑 客 户 聚 类 与 产 品 回 收 的 两 级 闭 环 物 流 网 络 选 址 - 路 径 优 化\n",
      "考 虑 客 户 聚 类 与 产 品 回 收 的 两 级 闭 环 物 流 网 络 选 址 - 路 径 优 化\n",
      "针对目前不合理的废旧产品回收以及物流活动产生的碳排放污染,提出了一种考虑客户聚类与产品回收的两级闭环物流网络选址-路径优化模型。首先,结合实际物流网络的动态性假设客户需求量和回收率的不确定性特征,以最小运营成本和最小环境影响为目标建立选址-路径优化模型;其次,对多目标进化算法进行改进,提出了考虑客户聚类结果的两级物流设施选址-路径问题求解算法;最后,对该优化算法进行算法性能分析,并以重庆市某企业为例进行了模型和算法验证。结果表明,所建立的模型和算法能有效降低决策难度并提高物流系统的运作效率,所求出的优化方案能减少物流运作成本和降低物流运输过程对环境的影响。\n",
      "\n"
     ]
    },
    {
     "name": "stderr",
     "output_type": "stream",
     "text": [
      "\r",
      "  2%|▏         | 18/1000 [00:12<08:28,  1.93it/s]"
     ]
    },
    {
     "name": "stdout",
     "output_type": "stream",
     "text": [
      "考 虑 潮 汐 影 响 的 班 轮 多 船 型 船 舶 调 度\n",
      "班 轮 多 船 型 船 舶 调 度 问 题 研 究\n",
      "针对班轮企业由于提前公布船期表,但受货运需求的波动和潮汐的影响引起的多船型船舶调度问题进行研究。首先系统分析了一家班轮企业近洋运输航线结构;然后考虑大型船舶需乘潮进出港口,以及适当条件下允许租船的实际情况,兼顾班轮船期表的限制,构建了以运输总成本最小为目标的班轮多船型船舶调度非线性规划模型;最后考虑模型的特点,设计了嵌入基因修复的改进遗传算法(IGA)用于模型求解。实验结果表明,与传统的经验调度方案相比,得到的船舶调度方案在船舶利用率上能提高25%～35%;中规模算例下与CPLEX相比,IGA的CPU处理时间平均降低77%;中、大规模算例下与蚁群算法相比,IGA计算的运输费用平均降低15%。实验结果验证了所提模型和算法的有效性,可为班轮企业船舶调度提供参考。\n",
      "\n"
     ]
    },
    {
     "name": "stderr",
     "output_type": "stream",
     "text": [
      "\r",
      "  2%|▏         | 19/1000 [00:13<09:03,  1.81it/s]"
     ]
    },
    {
     "name": "stdout",
     "output_type": "stream",
     "text": [
      "基 于 g a n - a d a b o o s t - d t 不 平 衡 分 类 算 法 的 信 用 卡 欺 诈 分 类\n",
      "对 抗 生 成 网 络 - 自 适 应 增 强 - 决 策 树 及 其 不 平 衡 数 据 集 分 类 方 法\n",
      "针对传统单个分类器在不平衡数据上分类效果有限的问题,基于对抗生成网络(GAN)和集成学习方法,提出一种新的针对二类不平衡数据集的分类方法——对抗生成网络-自适应增强-决策树(GAN-AdaBoost-DT)算法。首先,利用GAN训练得到生成模型,生成模型生成少数类样本,降低数据的不平衡性;其次,将生成的少数类样本代入自适应增强(AdaBoost)模型框架,更改权重,改进AdaBoost模型,提升以决策树(DT)为基分类器的AdaBoost模型的分类性能。使用受测者工作特征曲线下面积(AUC)作为分类评价指标,在信用卡诈骗数据集上的实验分析表明,该算法与合成少数类样本集成学习相比,准确率提高了4. 5%,受测者工作特征曲线下面积提高了6. 5%;对比改进的合成少数类样本集成学习,准确率提高了4. 9%,AUC值提高了5. 9%;对比随机欠采样集成学习,准确率提高了4. 5%,受测者工作特征曲线下面积提高了5. 4%。在UCI和KEEL的其他数据集上的实验结果表明,该算法在不平衡二分类问题上能提高总体的准确率,优化分类器性能。\n",
      "\n"
     ]
    },
    {
     "name": "stderr",
     "output_type": "stream",
     "text": [
      "\r",
      "  2%|▏         | 20/1000 [00:13<07:37,  2.14it/s]"
     ]
    },
    {
     "name": "stdout",
     "output_type": "stream",
     "text": [
      "区 块 链 + 虚 拟 技 术 : 仿 真 技 术 的 新 动 向\n",
      "区 块 链 与 虚 拟 仿 真 技 术 综 述\n",
      "\"2018年全球正在加速进入\"\"区块链经济时代\"\"。在全球范围内,区块链技术呈现出井喷式增长,作为一项极具颠覆性的底层技术,不断被应用于各个行业中,越来越受到社会各界的广泛关注。区块链+仿真业,成为仿真技术发展的新动向。现将什么是区块链?区块链的发展趋势、区块链与虚拟仿真的关系等问题进行阐述,并举出若干应用实例。\"\n",
      "\n"
     ]
    },
    {
     "name": "stderr",
     "output_type": "stream",
     "text": [
      "\r",
      "  2%|▏         | 21/1000 [00:14<07:24,  2.20it/s]"
     ]
    },
    {
     "name": "stdout",
     "output_type": "stream",
     "text": [
      "大 中 口 径 火 炮 自 动 装 填 机 构 设 计 研 究\n",
      "大 中 口 径 火 炮 快 速 装 填 机 构 的 设 计 与 实 现\n",
      "为了缩短某型大中口径火炮发射药装填所需的循环时间太长的情况,提出并设计了一种能实现快速自动装填分装式弹和药筒的自动装填机构,该系统机构包括弹仓药仓和自动抓弹机构,结合弹仓药仓和抓弹机构所占空间尺寸,建立了供弹路径的理论模型,在三维模型的基础上,对抓弹机构和弹仓药仓进行多体运动学仿真。得到各运动机构和单位所谓运动过程曲线,结果表明设计的机构能够实现快速装填弹丸和药筒,且能很大幅度提高火炮的持续作战能力。\n",
      "\n"
     ]
    },
    {
     "name": "stderr",
     "output_type": "stream",
     "text": [
      "\r",
      "  2%|▏         | 22/1000 [00:14<08:27,  1.93it/s]"
     ]
    },
    {
     "name": "stdout",
     "output_type": "stream",
     "text": [
      "火 炮 内 弹 道 出 口 速 度 优 化 控 制 仿 真 研 究\n",
      "等 离 子 体 射 流 功 率 和 作 用 范 围 下 的 火 炮 内 弹 道 仿 真 研 究\n",
      "火炮内弹道的分析和研究一直以来是火炮技术的关键领域,而火炮内弹道出口速度则是其重要分析参数之一。通过对电热化学炮出口速度进行优化控制的研究,可以为实际试验与火炮安全性设计提供更良好的安全性设计方案。在建立仿真模型中,对等离子体射流的处理则是其关键与难点。通过ANSYS FLUENT计算平台,采用湍流模型,将等离子体射流加入到气相源项中,通过改变源项,实现了不同等离子体的射流功率和作用范围下的内弹道二维非稳态仿真,获得了膛底压力和弹丸初速的分布。计算结果表明:最大膛压和弹丸到达炮口时的初速会随着等离子体射流功率的升高而增大,最大膛压和弹丸到达炮口时的初速都会随着等离子体作用范围的增加而增大,其中最大膛压增长的幅值会随着等离子体作用范围的增加越来越大,而弹丸到达炮口时的初速增长的幅值则会随着等离子体作用范围的增加慢慢减小。因此,在火炮设计时可以考虑采用较高的等离子体射流功率来实现对弹丸出口速度的增加,同时也可以适当增加等离子体射流的作用范围,但不宜过大。\n",
      "\n"
     ]
    },
    {
     "name": "stderr",
     "output_type": "stream",
     "text": [
      "\r",
      "  2%|▏         | 23/1000 [00:15<08:03,  2.02it/s]"
     ]
    },
    {
     "name": "stdout",
     "output_type": "stream",
     "text": [
      "潜 艇 水 下 发 射 装 置 减 能 降 噪 优 化 仿 真 研 究\n",
      "滑 套 阀 补 水 自 航 发 射 装 置 仿 真 研 究\n",
      "潜艇发射噪声远远高于航行噪声,极易暴露潜艇位置。降低能量可以显著降低发射噪声,但如何确定发射能量的减低幅度以确保发射安全则必须建立减能降噪发射的数学模型,并仿真分析发射过程主要参数。文章首次提出经由滑套阀补充压力海水结合自航方式发射鱼雷武器,以达到减少发射能量,降低发射噪声的目的。从潜艇水下发射装置基本原理和工作流程出发,分析潜艇发射装置的结构特点和噪声产生机理,建立有动力滑套阀补水自航发射的数学模型,运用Simulink建立仿真程序,实现了液压平衡式发射装置滑套阀补水自航发射鱼雷武器的弹道仿真,仿真分析了膛压、出管速度等主要参数,模型符合鱼雷实际发射规律,效果较为接近实际,结果表明了减能幅度与发射安全性的关系,验证了减能降噪发射的可行性。\n",
      "\n"
     ]
    },
    {
     "name": "stderr",
     "output_type": "stream",
     "text": [
      "\r",
      "  2%|▏         | 24/1000 [00:15<08:39,  1.88it/s]"
     ]
    },
    {
     "name": "stdout",
     "output_type": "stream",
     "text": [
      "面 向 航 站 楼 环 境 二 氧 化 碳 浓 度 控 制 研 究\n",
      "航 站 楼 人 流 环 境 中 单 神 经 元 自 适 应 解 耦 控 制 仿 真 研 究\n",
      "针对航站楼人流易波动对CO2反馈控制回路产生非平稳干扰,以及在CO2浓度调控过程中室外新风的输送会影响到室内原有温度的问题,提出了一种改进单神经元自适应解耦控制方法。运用机理过程与系统辨识融合的思想建立被控对象传递函数矩阵,采用对角矩阵补偿法对CO2和温度这两个被控对象存在的耦合现象进行解耦。对单神经元自适应控制中比例系数K进行改进,最终对航站楼内新风末端控制机构采用PID控制、单神经元自适应控制、改进单神经元自适应控制三种控制方法进行仿真对比分析。仿真结果表明:改进单神经元自适应解耦控制可以在线实时调整比例、微分、积分三个参数的权重,使控制系统能更好的适应航站楼人流变化的扰动特性,增强了系统的响应速度及鲁棒性。\n",
      "\n"
     ]
    },
    {
     "name": "stderr",
     "output_type": "stream",
     "text": [
      "\r",
      "  2%|▎         | 25/1000 [00:16<07:56,  2.05it/s]"
     ]
    },
    {
     "name": "stdout",
     "output_type": "stream",
     "text": [
      "基 于 大 视 场 星 敏 感 器 惯 性 ∕ 星 光 组 合 导 航 与 仿 真\n",
      "惯 性 / 星 光 组 合 系 统 在 线 标 定 方 法 研 究\n",
      "针对惯性器件误差随时间积累导致导航精度降低的问题,利用大视场星敏感器具有的测姿精度高且误差不累积的特点,研究惯性/星光组合系统在线标定方法。上述方法通过绕陀螺仪三个敏感轴方向的姿态激励实现对陀螺仪工具误差以及初始对准误差和星惯安装误差的在线标定,通过对惯性器件测量结果的修正,抑制导航误差。仿真结果表明,在线标定方法可以实现对上述误差参数的在线标定,显著提高了组合导航的定位精度,具有一定的工程实用价值。\n",
      "\n"
     ]
    },
    {
     "name": "stderr",
     "output_type": "stream",
     "text": [
      "\r",
      "  3%|▎         | 26/1000 [00:16<07:29,  2.17it/s]"
     ]
    },
    {
     "name": "stdout",
     "output_type": "stream",
     "text": [
      "基 于 动 态 面 内 模 法 的 四 旋 翼 输 出 调 节 器 设 计\n",
      "四 旋 翼 飞 行 器 姿 态 内 模 输 出 控 制 研 究\n",
      "\"针对四旋翼飞行器姿态控制中的姿态稳定、姿态跟踪和抑制外部干扰等一系列问题,设计了一种动态面内模输出调节器。在反步设计中引入了动态面控制方法,由于动态面控制法中采用的低通滤波器允许对象数学模型不可微,因此避免了\"\"计算膨胀\"\"。利用内模方法解决系统的渐近跟踪和干扰抑制问题,构造内模时,考虑到不确定性的影响,提出具有误差的内模方程。实验结果表明,所提出的控制方法能够有效实现对四旋翼的姿态跟踪控制,并且可以达到渐近的干扰抑制。\"\n",
      "\n"
     ]
    },
    {
     "name": "stderr",
     "output_type": "stream",
     "text": [
      "\r",
      "  3%|▎         | 27/1000 [00:17<07:23,  2.19it/s]"
     ]
    },
    {
     "name": "stdout",
     "output_type": "stream",
     "text": [
      "四 旋 翼 p i d - a d r c 控 制 器 研 究\n",
      "四 旋 翼 飞 行 器 的 p i d - a v r c 控 制 器 设 计\n",
      "四旋翼飞行器的姿态角之间存在强耦合,传统的PID控制器对于存在耦合的四旋翼飞行器控制效果较差。针对这一情况,设计了一种PID-ADRC控制器。文中首先由牛顿-欧拉方程建立四旋翼的数学模型;再根据自抗扰控制器(ADRC)的理论设计了内环的姿态角控制器和高度控制器,姿态角控制器中的状态观测器(ESO)将姿态角之间的耦合视为外部扰动而进行估计从而实现了姿态角之间的解耦,内环控制器是整个控制器的核心和基础;再在俯仰通道和横滚通道分别加上外环PID控制器,最终实现了四旋翼飞行器的飞行运动控制。在SIMULINK当中搭建仿真模型,仿真结果表明,PID-ADRC控制器可以良好的实现四旋翼的姿态解耦和轨迹跟踪控制,而且具有调节时间短,超调量小,鲁棒性强等优点。\n",
      "\n"
     ]
    },
    {
     "name": "stderr",
     "output_type": "stream",
     "text": [
      "\r",
      "  3%|▎         | 28/1000 [00:17<07:25,  2.18it/s]"
     ]
    },
    {
     "name": "stdout",
     "output_type": "stream",
     "text": [
      "机 动 区 航 空 器 速 度 异 常 检 测 研 究\n",
      "基 于 s v m 机 动 区 航 空 器 速 度 异 常 检 测 仿 真\n",
      "随着航空器起降架次的增加,机动区航空器运动过程中存在的不确定性因素增多,从而加重了塔台管制员的工作负荷。针对上述问题,提出基于SVM机动区航空器速度异常检测的方法,为管制员提供智能辅助提醒及预警,降低机场机动区的安全风险。首先对机动区航空器速度异常进行定义、分类和判定,界定出机动区航空器滑行速度异常的标准;其次对航空器ADS-B历史数据进行分析和处理,筛选出完整航迹,确定滑行路径;接着综合考虑航空器滑行位置和机型两个指标,经过统计得到航空器在跑道和滑行道滑行时的正常速度范围和异常速度范围;最后利用SVM方法建立机动区航空器速度异常检测模型,从而找出速度异常的航空器。仿真结果表明,该方法能够快速、有效的检测出航空器在滑行过程中速度异常的位置。\n",
      "\n"
     ]
    },
    {
     "name": "stderr",
     "output_type": "stream",
     "text": [
      "\r",
      "  3%|▎         | 29/1000 [00:18<07:33,  2.14it/s]"
     ]
    },
    {
     "name": "stdout",
     "output_type": "stream",
     "text": [
      "电 动 飞 机 电 推 进 系 统 可 靠 性 建 模 与 仿 真\n",
      "载 人 电 动 飞 机 电 推 进 系 统 的 可 靠 性 建 模 与 仿 真\n",
      "载人电动飞机的电推进系统是整个飞机的动力核心,为飞机稳定安全飞行提供保证。但电推进系统结构复杂且零部件繁多,对整个系统进行可靠性评估计算极为复杂,是可靠性评估的难点所在。针对载人电动飞机电推进系统的可靠性评估问题,以电推进系统模型为基础,提出了GO法与状态概率矩阵算法结合的运算方法对系统进行可靠性建模与仿真计算。采用状态概率矩阵算法建立GO操作符计算仿真模型,并根据GO操作符运算规则将系统原理框图翻译为系统GO图,在MATLAB下建立了系统的多状态SIMULINK仿真计算模型。仿真模型计算结果与采用概率公式算法人工计算得到的结果基本一致,验证了仿真模型在提高计算效率与精度的同时能够保证运算结果的正确性,为电动飞机电推进系统的可靠性评估提供了依据。\n",
      "\n"
     ]
    },
    {
     "name": "stderr",
     "output_type": "stream",
     "text": [
      "\r",
      "  3%|▎         | 30/1000 [00:18<07:35,  2.13it/s]"
     ]
    },
    {
     "name": "stdout",
     "output_type": "stream",
     "text": [
      "航 空 弹 药 贮 存 环 境 温 湿 度 远 程 智 能 监 测 仿 真\n",
      "航 空 弹 药 贮 存 环 境 温 湿 度 远 程 智 能 监 测 仿 真\n",
      "航空弹药在贮存环境中易受温度和湿度变化影响,会使弹药出现裂解、脱粘等,极大地影响了航空弹药爆破性能的有效发挥。现有温湿度监测方法主要以温湿度测量仪为主,通常存在测量误差较大、响应时间长等问题。针对以上问题,提出基于数据分簇融合的温湿度远程智能监测方法。采用疏失误差对采集的温湿度感知数据进行预处理;当簇头节点接收到融合数据后,利用自适应加权算法对融合结果进一步融合。对融合后的温湿度感知数据分别构建支持向量数据描述模型,以上述模型构造统计量并确定其控制限。依据测试样本对各类温湿度感知数据的局部离群概率选取合适的模型进行远程监控。实验结果表明,所提方法响应时间快,有效降低了冗余和可信度较低的温湿度数据对测量精度的影响,提高了航空弹药贮存环境温湿度远程智能监测信息化程度。\n",
      "\n"
     ]
    },
    {
     "name": "stderr",
     "output_type": "stream",
     "text": [
      "\r",
      "  3%|▎         | 31/1000 [00:18<07:14,  2.23it/s]"
     ]
    },
    {
     "name": "stdout",
     "output_type": "stream",
     "text": [
      "关 于 直 升 机 纵 向 姿 态 跟 踪 稳 定 性 控 制 与 仿 真\n",
      "直 升 机 纵 向 飞 行 品 质 优 化 控 制 仿 真 研 究\n",
      "研究直升机纵向飞行品质优化问题,由于直升机控制非线性强,各轴之间耦合严重,造成稳定性和操纵性较差。为使直升机纵向飞行品质达到ADS-33的性能要求,提出采用模型跟随控制方法为基本结构,结合非线性模糊控制对直升机纵向姿态控制回路进行设计。首先根据ADS-33性能指标设计出理想的指令模型,然后利用模型跟随控制方法搭建整个控制系统的架构,并采用非线性模糊控制算法对控制架构中的参数进行设计优化,并对结果进行仿真。结果表明直升机纵向飞行品质满足ADS-33性能指标要求。\n",
      "\n"
     ]
    },
    {
     "name": "stderr",
     "output_type": "stream",
     "text": [
      "\r",
      "  3%|▎         | 32/1000 [00:19<07:24,  2.18it/s]"
     ]
    },
    {
     "name": "stdout",
     "output_type": "stream",
     "text": [
      "井 式 火 箭 发 射 场 井 口 岩 石 颗 粒 运 动 规 律 研 究\n",
      "岩 石 颗 粒 在 场 坪 流 场 中 的 运 动 学 分 析 研 究\n",
      "火箭井式发射过程中,受燃气引射作用影响井口会产生负压,导致井口周围的大气以较高的速度流向井内。为了预测井口周围发射场坪上的岩石颗粒是否会在引流作用下撞击到正在出井的火箭,在对某型火箭出井过程进行数值仿真的基础上提取出场坪流场数据,采用运动学分析法研究了岩石颗粒在场坪流场中的运动规律。研究结果表明:距离井口中心一定范围内,直径从几毫米到几百毫米不等的岩石颗粒在引流作用下能撞击到箭体;不同径向距离上相同大小的岩石颗粒,其撞击速度和撞击角度差别很小。相同径向距离上不同大小的岩石颗粒,直径越小撞击速度越高,直径越大撞击角度越大。\n",
      "\n"
     ]
    },
    {
     "name": "stderr",
     "output_type": "stream",
     "text": [
      "\r",
      "  3%|▎         | 33/1000 [00:19<06:56,  2.32it/s]"
     ]
    },
    {
     "name": "stdout",
     "output_type": "stream",
     "text": [
      "四 旋 翼 无 人 机 姿 态 非 线 性 控 制 研 究\n",
      "四 旋 翼 无 人 机 姿 态 稳 定 控 制 算 法 研 究\n",
      "\"四旋翼无人机易受到非线性和不确定性因素干扰等原因的影响,使得姿态的稳定控制成为难点。为解决由线性控制带来的姿态控制性能降低和由初始状态误差导致的\"\"峰化\"\"现象等问题,提出了一种基于内外环结构下的非线性控制算法用来稳定姿态控制。上述控制器外环采用非线性PD控制,内环采用非线性自抗扰控制。采用有限时间收敛微分跟踪器,改进原自抗扰控制器组成结构,使得内环收敛速度大于外环,保证了闭环系统稳定性。仿真结果表明,非线性控制器可以实现任意初始状态下的无人机飞行姿态控制,响应速度比线性控制快,在有干扰的情况下依旧保持的稳定的姿态控制。\"\n",
      "\n"
     ]
    },
    {
     "name": "stderr",
     "output_type": "stream",
     "text": [
      "\r",
      "  3%|▎         | 34/1000 [00:20<07:11,  2.24it/s]"
     ]
    },
    {
     "name": "stdout",
     "output_type": "stream",
     "text": [
      "航 空 发 动 机 气 动 热 力 系 统 模 型 求 解 方 法 研 究\n",
      "航 空 发 动 机 气 动 热 力 系 统 建 模 与 仿 真 研 究\n",
      "航空发动机气动热力系统模型通过求解部件之间共同工作方程组,来确定发动机相关状态参数。传统的共同工作方程组求解方法是采用定步长Newton迭代方法,每次迭代需要多次调用模型计算雅可比矩阵,为了保证模型的收敛性,通常步长设置比较保守,在一个仿真周期内需要进行多次的迭代计算进行方程组求解,导致航空发动机气动热力系统模型的实时性较差。提出了一种混合变步长Newton-逆Broyden方法求解共同工作方程组。为保证收敛性,在猜值初始偏差较大时采用小步长的Newton迭代法求解方程。为保证收敛速度,在猜值接近真实解的时候采用较大步长的逆Broyden递推法求解方程,并引入松弛因子提高迭代稳定性。应用上述方法求解F404/YJ101变循环发动机的气动热力系统模型,进行了发动机稳态和动态工作仿真。结果表明,混合Newton-逆Broyden方法在航空发动机气动热力系统模型计算中的收敛能力、实时性和计算精度有着明显的优越性。\n",
      "\n"
     ]
    },
    {
     "name": "stderr",
     "output_type": "stream",
     "text": [
      "\r",
      "  4%|▎         | 35/1000 [00:20<07:11,  2.23it/s]"
     ]
    },
    {
     "name": "stdout",
     "output_type": "stream",
     "text": [
      "航 天 运 载 火 箭 伺 服 机 构 减 速 器 动 态 特 性 仿 真\n",
      "基 于 刚 柔 耦 合 虚 拟 样 机 的 航 天 力 学 仿 真\n",
      "为了实现航天作动器的高精度和高可靠性,研究了减速器系统的动态特性问题。基于刚柔耦合动力学理论,根据少齿差行星减速器的传动原理和结构参数,在动力学软件RecurDyn中建立了减速器刚柔耦合虚拟样机模型,并基于实际工况载荷下进行动力学仿真。分析了减速器输出轴转速、行星轮啮合力、销轴接触力和传动误差等动力学特性。最后,加工出了减速器的试验样机,并测试了样机的传动误差。结果表明:建立的虚拟样机模型与仿真具有合理性,仿真结果可有效揭示少齿差行星减速器的动力学特性。从而为后续减速器结构的航天力学环境分析、强度计算和结构优化提供参考依据。\n",
      "\n"
     ]
    },
    {
     "name": "stderr",
     "output_type": "stream",
     "text": [
      "\r",
      "  4%|▎         | 36/1000 [00:21<06:54,  2.32it/s]"
     ]
    },
    {
     "name": "stdout",
     "output_type": "stream",
     "text": [
      "基 于 反 馈 线 性 化 的 四 旋 翼 无 人 机 姿 态 控 制 研 究\n",
      "四 旋 翼 无 人 机 姿 态 滑 模 控 制 研 究\n",
      "四旋翼无人机在飞行过程中,由于姿态系统强耦合性、强非线性及抗扰动性能弱的原因,无人机的控制一旦受到强扰动,则无人机将会偏移原来的轨迹甚至有可能坠毁。滑模控制是在四旋翼无人机姿态控制的常用方法,然而,如果无人机遇到外界强扰动时,普通滑模控制方法容易出现稳态误差。积分滑模控制方法通过引入积分环节可以降低其稳态误差,不过积分环节的引入容易导致系统暂态性能变差。为了降低由于积分环节的引入而增大的暂态误差,提出一种基于反馈线性化的积分滑模控制方法用于控制各姿态角。上述方法为了便于控制姿态系统,先借助反馈线性化方法将被控对象进行线性化,然后,再利用积分滑模控制律对每个姿态通道进行控制,使得系统在保持原有积分滑模控制方法的较好的稳态性能的基础上,还能够获得更好的暂态性能。最后通过仿真,验证了上述方法的有效性。\n",
      "\n"
     ]
    },
    {
     "name": "stderr",
     "output_type": "stream",
     "text": [
      "\r",
      "  4%|▎         | 37/1000 [00:21<06:58,  2.30it/s]"
     ]
    },
    {
     "name": "stdout",
     "output_type": "stream",
     "text": [
      "再 入 弹 头 外 形 防 热 优 化 设 计 仿 真\n",
      "再 入 弹 头 气 动 外 形 参 数 优 化 设 计 仿 真\n",
      "为了降低气动热对高超声速再入弹头的影响同时不对打击效果造成影响,需要对再入弹头气动外形进行优化,从而获得较低的驻点热流密度和较高的终端速度。研究了再入弹头的总体气动布局方案,建立了再入弹头的弹道模型,气动力模型,大气模型,以终端速度最大和驻点热流密度最小为优化目标函数,结合多目标遗传算法建立了再入弹头的气动外形参数优化设计方法,运用Krigingt智能体模型的方法对面元法进行了改进。通过对仿真实例分析表明,改进后计算时间大大减少,并且发现达到一定的最大热流密度之后,终端速度几乎不在变化,研究结果为再入弹头的外形参数优化提供了理论依据。\n",
      "\n"
     ]
    },
    {
     "name": "stderr",
     "output_type": "stream",
     "text": [
      "\r",
      "  4%|▍         | 38/1000 [00:21<06:26,  2.49it/s]"
     ]
    },
    {
     "name": "stdout",
     "output_type": "stream",
     "text": [
      "关 于 导 弹 战 场 突 防 目 标 航 迹 规 划 仿 真\n",
      "战 场 突 防 目 标 航 迹 规 划 仿 真\n",
      "航迹规划是实现导弹在战场突防过程中自主飞行、提高导弹生存能力的技术保障,航迹规划算法则是航迹规划的核心。为解决传统的单向动态规划算法在反舰导弹航迹规划过程中耗时长以及规划航迹上存在冗余节点的问题,提出双向动态规划算法和基于三角不等式的航迹优化策略。首先将规划空间网格化;接着采用双向动态规划算法搜索航迹节点;然后运用提出的航迹优化策略对航迹进行优化;最后将所提算法与模拟退火算法、蚁群算法、传统单向动态规划算法进行仿真比较。仿真结果表明,与其它三种算法相比,所提算法计算速度更快、规划航迹更短、节点更少。\n",
      "\n"
     ]
    },
    {
     "name": "stderr",
     "output_type": "stream",
     "text": [
      "\r",
      "  4%|▍         | 39/1000 [00:22<06:55,  2.31it/s]"
     ]
    },
    {
     "name": "stdout",
     "output_type": "stream",
     "text": [
      "航 空 开 关 磁 阻 起 动 发 电 一 体 化 系 统 控 制 器 研 究\n",
      "航 空 开 关 磁 阻 起 动 / 发 电 一 体 化 系 统 的 模 糊 滑 模 控 制\n",
      "航空开关磁阻起动/发电一体化系统工作在电动状态和发电状态时控制率不同,但控制参数都为电流、导通角和关断角。针对一体化系统的特点,设计了一套模糊滑模变结构控制器。滑模变结构控制器将负载作为干扰项,通过对系统结构进行不断地调整,使得系统状态能够快速地达到滑模面并进行滑动模态运动,但系统存在抖振问题。针对滑模变结构的抖振问题,采用模糊控制对滑模变结构的趋近速度进行控制,使得在趋近速度和抖振问题上得到优化。仿真结果表明,在电动状态和发电状态下控制器能够很快达到稳定,并在负载状态突变和输入状态变化的情况下具有很好的鲁棒性。\n",
      "\n"
     ]
    },
    {
     "name": "stderr",
     "output_type": "stream",
     "text": [
      "\r",
      "  4%|▍         | 40/1000 [00:22<06:51,  2.33it/s]"
     ]
    },
    {
     "name": "stdout",
     "output_type": "stream",
     "text": [
      "一 种 电 动 舵 机 直 流 电 流 需 求 分 析 方 法\n",
      "基 于 瞬 时 功 率 的 电 动 舵 机 直 流 电 流 需 求 分 析\n",
      "针对电动舵机直流输入电流难于仿真分析问题,提出一种基于瞬时功率的直流电流需求分析方法。通过对电动舵机数学建模,包含矢量控制原理建模、运动学建模、动力学建模,利用三相瞬时功率理论计算逆变器瞬时输出有功功率,从而获得直流侧瞬时输入电流,即直流电流需求。与传统的基于输出功率间接获得直流电流需求方法进行对比,发现两种分析方法得出的电流需求一致性较好,证明瞬时功率理论可以用于电动舵机直流电流需求分析,上述方法具有一定的工程实用价值。\n",
      "\n"
     ]
    },
    {
     "name": "stderr",
     "output_type": "stream",
     "text": [
      "\r",
      "  4%|▍         | 41/1000 [00:23<07:25,  2.15it/s]"
     ]
    },
    {
     "name": "stdout",
     "output_type": "stream",
     "text": [
      "关 于 循 环 流 化 床 锅 炉 燃 烧 温 度 系 统 的 建 模 控 制\n",
      "循 环 流 化 床 锅 炉 排 渣 量 主 控 系 统 动 态 特 性 辨 识\n",
      "针对蒙西发电厂2×300MW循环流化床锅炉,实现以排渣量为主控手段的自动控制首先需建立被控对象模型,而机理建模难以运用到实际,传统算法辨识建模易发生收敛速度慢、陷入局部最优等问题导致模型与实际系统过程不匹配。为获得控制系统动态模型,提出基于遗传算法的参数辨识方法,结合运行经验,处理运行数据,建立现场50%负荷与100%负荷两种典型工况下反映给煤量、排渣量与床温、主汽压动态特性的传递函数阵。拟合结果表明,模型误差在可允许范围内,所建立的传递函数模型能够完全表征该工况下系统的动态特性,证明了遗传算法建模的有效性,为后续循环流化床锅炉以排渣量为主控手段的燃烧温度系统控制策略设计和控制器优化提供依据。\n",
      "\n"
     ]
    },
    {
     "name": "stderr",
     "output_type": "stream",
     "text": [
      "\r",
      "  4%|▍         | 42/1000 [00:23<07:47,  2.05it/s]"
     ]
    },
    {
     "name": "stdout",
     "output_type": "stream",
     "text": [
      "光 伏 发 电 系 统 并 网 供 电 最 大 功 率 点 跟 踪 控 制\n",
      "基 于 变 步 长 参 数 的 新 型 光 伏 发 电 系 统 最 大 功 率 点 跟 踪\n",
      "太阳光照强度的发散性和随意性使得光伏电池自然转换效率普遍低下,为了降低成本及提高太阳能利用率,对光伏阵列进行最大功率点跟踪(MPPT)控制。针对传统扰动观察算法最大功率点跟踪由于固定步长产生的系统振荡和响应速度差的问题,提出了一种变步长的新型电导增量控制算法,通过最优化寻优思想加快搜索速度找到最大功率点。建立了以Boost电路为核心的两级式并网逆变结构光伏发电系统MPPT的仿真模型。通过Matlab对传统的扰动观测法和改进后的新型电导增量法进行了MPPT的仿真。结果表明,改进后的变步长电导增量法在系统振荡和调节时间上都优于扰动观测法,更加快速跟踪最大功率点,使输出功率精准的稳定于固定值。\n",
      "\n"
     ]
    },
    {
     "name": "stderr",
     "output_type": "stream",
     "text": [
      "\r",
      "  4%|▍         | 43/1000 [00:24<07:46,  2.05it/s]"
     ]
    },
    {
     "name": "stdout",
     "output_type": "stream",
     "text": [
      "风 光 发 电 微 网 负 载 分 段 选 择 供 电 优 化 管 理\n",
      "基 于 宽 容 分 层 序 列 法 的 微 网 负 载 优 化 方 法\n",
      "风、光等可再生能源发电规模日益扩大,能源就地消纳问题亟待解决。为解决上述问题,传统方法主要关注消纳本身而忽略了系统运行的经济性,从而无法保证系统处于最佳经济运行状态。为此提出一种基于宽容分层序列法的微网负载优化方法,既可保证可再生能源发电的高消纳率,又可实现系统的经济运行。针对配有冷热电联供系统的微网,以微网系统风/光电消纳率最大和日运行成本最小为目标,综合考虑负载响应特性以及不同能量形式之间转化效率等约束,建立了负载分段供电双层优化模型。通过宽容分层序列法对双层模型进行求解获得Pareto最优解。仿真算例验证了所提出的方法能有效提高微网系统风光发电就地消纳率并可减少系统日运行费用。\n",
      "\n"
     ]
    },
    {
     "name": "stderr",
     "output_type": "stream",
     "text": [
      "\r",
      "  4%|▍         | 44/1000 [00:24<08:01,  1.99it/s]"
     ]
    },
    {
     "name": "stdout",
     "output_type": "stream",
     "text": [
      "基 于 风 光 互 补 的 孤 岛 型 微 网 容 量 优 化 配 置 研 究\n",
      "基 于 风 光 互 补 的 孤 岛 型 微 网 容 量 优 化 配 置 研 究\n",
      "微网的容量优化是指综合考虑经济、环境等因素,得到微网内分布式电源的最优配比。孤岛型微网的运行受气象条件制约,传统的配置方案易导致网内分布式电源结构与气象条件不匹配,影响系统的可靠性。为提升微网性能,并建立适用于不同气象条件的优化模型,提出了一种以风光互补为基础的孤岛型微网容量优化配置方法。考虑微网建设运营中的建设成本、维护成本、能源浪费和停电损失,设置分布式电源的功率、数量、寿命等约束条件,设计了一种可气象跟随且适用于多种气象条件的风光互补组合系数,再以该系数配合免疫算法改进传统的粒子群算法,获得了一种与气象条件相匹配的优化配置模型。通过算例仿真比较可知,该模型具有良好的气象跟随性、系统稳定性和波动抑制性。结果表明,利用改进的模型和算法求解微网容量优化问题,可获得符合气象条件的最优配比。\n",
      "\n"
     ]
    },
    {
     "name": "stderr",
     "output_type": "stream",
     "text": [
      "\r",
      "  4%|▍         | 45/1000 [00:25<07:34,  2.10it/s]"
     ]
    },
    {
     "name": "stdout",
     "output_type": "stream",
     "text": [
      "边 防 哨 所 风 光 发 电 微 电 网 存 储 建 模 仿 真\n",
      "基 于 风 光 互 补 发 电 系 统 混 合 储 能 控 制 的 研 究\n",
      "针对边防哨所的特殊性,以及风力发电和太阳能发电所存在的随机性、季节性和间歇性而引发的微电网系统的电压波动、功率波动等问题。为了维持微电网系统的电压、功率的输出稳定,保证微电网的稳定运行。通过以风光互补发电为形式的方法解决供电不稳定,并增加以铅蓄电池和热水为介质的混合储能单元,储能系统吸收和释放发电单元侧和负载侧之间的功率差值来平抑微电网的能量波动。在MATLAB/Simulink上建立带混合储能单元的微电网供电系统仿真模型,得到风力发电机、太阳能光伏阵列及储能装置的功率变化曲线,从而验证了混合储能控制策略的可行性。\n",
      "\n"
     ]
    },
    {
     "name": "stderr",
     "output_type": "stream",
     "text": [
      "\r",
      "  5%|▍         | 46/1000 [00:25<07:34,  2.10it/s]"
     ]
    },
    {
     "name": "stdout",
     "output_type": "stream",
     "text": [
      "基 于 灰 色 多 变 量 模 型 锂 离 子 电 池 荷 电 状 态 预 测\n",
      "基 于 灰 色 多 变 量 模 型 锂 离 子 电 池 荷 电 状 态 预 测\n",
      "传统的荷电状态预测方法不准确,为了进一步提高荷电状态预测的准确性,针对电动汽车电池荷电状态的预测,提出了基于灰色多变量模型对锂离子电池的SOC预测进行研究的方法。利用MATLAB中Simulink仿真软件建立实验的仿真模型,并用粒子群优化算法对预测模型中的参数进行了辨识。通过分析电池的放电倍率和电压对荷电状态的影响,研究结果显示,所提出的SOC预测方法具有较高的准确性,其可以用来进行SOC的预测。仿真模型具有良好的预测性提高了SOC预测的精度并在SOC预测领域内具有实用价值。\n",
      "\n"
     ]
    },
    {
     "name": "stderr",
     "output_type": "stream",
     "text": [
      "\r",
      "  5%|▍         | 47/1000 [00:26<07:18,  2.17it/s]"
     ]
    },
    {
     "name": "stdout",
     "output_type": "stream",
     "text": [
      "关 于 配 电 网 供 电 负 荷 实 时 估 计 仿 真\n",
      "基 于 改 进 的 感 应 电 动 机 负 荷 估 计 算 法 研 究\n",
      "高质量的负荷数据是配电管理系统各种功能模块实现的基础,为了获取准确的负荷数据,通常采用状态估计算法来进行负荷估计。现有的负荷估计算法都是基于恒功率负荷模型或静态负荷模型。上述模型均无法描述现代配电网中高比例的感应电动机负荷特性,无法获取其准确的负荷数据。为了弥补上述不足,提出了一种改进的负荷估计算法。改进算法在传统算法的基础上,结合改进的2节点感应电动机静态模型,构建了感应电动机内部虚拟节点的零注入功率方程以及转矩平衡方程,建立了新的数学模型。上述方法既考虑了感应电动机负荷的自身特性,又可以与传统算法有效结合。算例仿真验证了所提算法的正确性和有效性,能够更加准确地获取感应电动机负荷实时数据。\n",
      "\n"
     ]
    },
    {
     "name": "stderr",
     "output_type": "stream",
     "text": [
      "\r",
      "  5%|▍         | 48/1000 [00:26<07:33,  2.10it/s]"
     ]
    },
    {
     "name": "stdout",
     "output_type": "stream",
     "text": [
      "液 压 型 风 力 发 电 机 组 最 佳 功 率 自 动 控 制 仿 真\n",
      "基 于 模 糊 p i d 的 液 压 型 风 力 发 电 机 最 佳 功 率 自 动 控 制\n",
      "最大风能跟踪是风力发电系统控制的主要目标。针对传统发电机最佳功率控制方法存在控制精度较低、稳定性较差等问题,提出基于模糊PID控制算法的液压型风力发电机最佳功率自动控制方法。充分利用风力发电机本身的物理结构,将能量进行重新分配,并引入非线性阻尼,使系统补偿为无源系统,以此构建观测器控制模型。利用上述给出的观测器控制模型,间接控制变量马达摆角变化实现转速恒定控制,采用定浆风力机最佳功率输出的发电功率闭环控制,间接控制马达摆角变化实现功率控制,利用模糊PID控制算法,对控制对象进行优化,实现液压型风力发电组最佳功率控制。实验结果表明,所提方法有效提高了发电机组最佳功率控制精度,稳定性也得了提高。\n",
      "\n"
     ]
    },
    {
     "name": "stderr",
     "output_type": "stream",
     "text": [
      "\r",
      "  5%|▍         | 49/1000 [00:27<07:18,  2.17it/s]"
     ]
    },
    {
     "name": "stdout",
     "output_type": "stream",
     "text": [
      "铁 路 交 流 供 电 货 运 列 车 节 能 优 化 控 制 研 究\n",
      "交 流 供 电 铁 路 电 分 相 优 化 控 制 仿 真 研 究\n",
      "\"列车节能优化控制可有效降低运行能耗,交流供电铁路电分相区段列车过电分相时必须为惰性工况,在过电分相前后区段如何控制列车使运行能耗最低是货运列车节能优化的关键问题。针对交流供电货运列车节能优化控制问题,提出以列车速度波动最小为优化目标,以列车惰行工况通过电分相为约束条件,建立了考虑电分相的货运列车节能最优控制模型,研究货运列车节能优化控制策略。基于极大值原理分析:电分相在恒速区内时,列车过分相的最优控制策略为\"\"最大牵引-惰行-最大牵引\"\"的最优性;电分相在恒速区外时,列车在电分相前是最大牵引工况的最优控制策略为\"\"惰行-最大牵引\"\"的最优性;列车在电分相前是最大制动工况的最优控制策略为\"\"最大制动-惰行\"\"的最优性,并推导证明了最优控制策略的存在性和唯一性。通过与优秀司机控制进行比较,仿真结果证明,所提节能优化控制算法的可行性和正确性。\"\n",
      "\n"
     ]
    },
    {
     "name": "stderr",
     "output_type": "stream",
     "text": [
      "\r",
      "  5%|▌         | 50/1000 [00:27<07:18,  2.16it/s]"
     ]
    },
    {
     "name": "stdout",
     "output_type": "stream",
     "text": [
      "生 物 柴 油 发 动 机 燃 烧 排 放 性 能 优 化 仿 真 研 究\n",
      "生 物 柴 油 机 发 动 机 燃 烧 排 放 性 能 优 化 仿 真 研 究\n",
      "对生物柴油发动机燃燒排放性能的优化,能够有效提高柴油发动机资源利用率。对生物柴油发动机的燃烧排放性能的优化,需要确定发动机燃烧影响因素,计算发动机燃烧发热率,完成对生物柴油发动就燃烧排放性能的优化。传统方法计算生物发动机环境背压参数,以此对发动机喷雾特性进行分析,但忽略了燃烧发热率的计算,导致发动机燃烧排放性能优化效果不理想。提出生物柴油机发动机燃烧排放性能优化方法。首先根据内燃机的功率、机械负荷、热量等因素对生物柴油发动机的燃烧的影响,获取发动机燃烧过程中的燃烧放热率,从而得到发动机工质质量,建立生物柴油发动机燃烧放热多维数值模型,对不同掺混比例下的燃烧放热特性和排放性能进行分析。实验结果表明,所提生物柴油发动机燃烧排放性能优化效果明显,具有可靠实用性。\n",
      "\n"
     ]
    },
    {
     "name": "stderr",
     "output_type": "stream",
     "text": [
      "\r",
      "  5%|▌         | 51/1000 [00:28<07:26,  2.12it/s]"
     ]
    },
    {
     "name": "stdout",
     "output_type": "stream",
     "text": [
      "上 海 迪 士 尼 环 形 交 叉 口 信 号 优 化 控 制 仿 真\n",
      "基 于 改 进 环 形 交 叉 口 的 车 流 量 差 异 性 信 号 控 制\n",
      "针对上海迪士尼三进口环形交叉口交通拥堵与传统的环形交叉口信号控制方式适应性差等问题,提出了以充分利用环形交叉口的时空资源为目的,通过增设基于环岛容量约束与各进口车流量差异性的信号控制方法--基于原有基础设施的改进后信号二次控制方式或基于改造基础设施的剖口式信号控制方式,达到提高车辆通行能力,最大限度提高环交运行效率的效果,并运用微观仿真软件VISSIM实现环形交叉口在早高峰时段不同车流量布局下有无信号控制的动态仿真,以对信号优化方式进行验证。仿真结果表明在早高峰车流量较多情况下,改进后信号二次控制方式与剖口式信控方式在环交通行能力、平均延误时间上均有较大提高,并且剖口式信控下的车流平均排队长度相较于改进后信号二次控制方式更进一步减少。\n",
      "\n"
     ]
    },
    {
     "name": "stderr",
     "output_type": "stream",
     "text": [
      "\r",
      "  5%|▌         | 52/1000 [00:28<06:13,  2.54it/s]"
     ]
    },
    {
     "name": "stdout",
     "output_type": "stream",
     "text": [
      "基 于 动 态 数 据 驱 动 的 交 通 在 线 决 策\n",
      "交 通 在 线 决 策 模 型 研 究\n",
      "针对交通在线决策问题进行研究,首先介绍了交通仿真模型,分别对宏观、中观、微观交通模型用于在线决策的适用性进行了分析,提出了在线决策所需的交通模型应该具备的特点。基于动态数据驱动思想,对交通在线决策进行了构思。提出了离线计算和在线计算相结合的在线决策系统结构,通过用交通系统历史数据和实时测量数据共同校正仿真系统,实现在线决策系统对实时交通数据的动态整合。并根据动态交通模型特点,提出了与在线校正过程相适应的滚动执行模式。描述了交通在线决策的总体框架,明确了需要研究的关键技术,为交通在线决策系统的实现奠定了基础。\n",
      "\n"
     ]
    },
    {
     "name": "stderr",
     "output_type": "stream",
     "text": [
      "\r",
      "  5%|▌         | 53/1000 [00:28<06:12,  2.54it/s]"
     ]
    },
    {
     "name": "stdout",
     "output_type": "stream",
     "text": [
      "汽 车 盘 式 制 动 器 制 动 噪 声 优 化 抑 制 仿 真\n",
      "基 于 有 限 元 模 型 抑 制 制 动 噪 声 的 影 响\n",
      "制动噪声会降低汽车的乘坐舒适性,损害乘员的健康,造成环境污染和影响制动的平稳性。由于制动噪声受摩擦特性、制动器结构、环境和制动工况等因素的影响,抑制制动噪声一直是难点问题。针对某SUV后轮盘式制动器出现的制动尖叫问题,利用有限元软件建立了完整的盘式制动器接触耦合有限元模型。通过试验模态分析的方法,验证了有限元模型的有效性。应用复模态分析方法预测出系统的不稳定模态。为了抑制制动尖叫,采用了在制动块背板粘贴消音片的方法,消音片的阻尼采用瑞利阻尼来进行描述。在不同摩擦系数下,分析了消音片粘贴位置和阻尼层厚度对制动噪声的影响。仿真结果说明:消音片粘贴位置和阻尼层厚度对制动噪声有重要影响,其中两侧粘贴消音片且阻尼层厚度为0.30mm时抑制噪声的效果最好。\n",
      "\n"
     ]
    },
    {
     "name": "stderr",
     "output_type": "stream",
     "text": [
      "\r",
      "  5%|▌         | 54/1000 [00:29<06:05,  2.59it/s]"
     ]
    },
    {
     "name": "stdout",
     "output_type": "stream",
     "text": [
      "双 轴 驱 动 纯 电 动 汽 车 制 动 能 量 回 收 策 略 研 究\n",
      "双 轴 驱 动 电 动 汽 车 再 生 制 动 控 制 策 略 研 究\n",
      "针对双轴驱动纯电动汽车回馈制动最优能量回收,建立双轴驱动电机利用效率最优优化模型,基于电机的map特性,构建电机利用效率最大化的转矩分配模型,获得了前后电机转矩的最优分配规律。基于上述规律,以ECE法规及理想制动力分配等安全性因素为约束,生成了一种新型再生制动力矩分配策略。利用Matlab/Simulink建立仿真模型。仿真结果表明:该再生制动控制策略在循环工况下能量回收效率达到80.94%,比基于I线制动力分配的能量回收策略与前轴电驱最大制动能量回收策略分别提高了5.61%、9.88%。\n",
      "\n"
     ]
    },
    {
     "name": "stderr",
     "output_type": "stream",
     "text": [
      "\r",
      "  6%|▌         | 55/1000 [00:29<06:18,  2.50it/s]"
     ]
    },
    {
     "name": "stdout",
     "output_type": "stream",
     "text": [
      "盘 式 制 动 器 温 度 场 瞬 态 分 析 方 法 研 究\n",
      "基 于 c f d 的 盘 式 制 动 器 瞬 态 温 度 场 分 析\n",
      "为了研究盘式制动器在紧急制动工况下瞬态温度场的变化,利用Starccm+计算出的随转速变化的对流换热系数,使之与解析法对比验证。将其作为瞬态计算的边界条件,结合实测摩擦系数--车速试验数据,通过Abaqus分析制动盘径向、周向及轴向温度场、应力场的分布特性;通过台架试验与仿真结果对比,仿真温度与试验温度结果具有良好的一致性。研究结果表明:盘式制动器在制动过程中温度场及应力场存在复杂的耦合关系,建立CFD和CAE联合仿真模型可以为制动盘温度场的分析提供了一种有效方法。\n",
      "\n"
     ]
    },
    {
     "name": "stderr",
     "output_type": "stream",
     "text": [
      "\r",
      "  6%|▌         | 56/1000 [00:29<06:10,  2.55it/s]"
     ]
    },
    {
     "name": "stdout",
     "output_type": "stream",
     "text": [
      "纯 电 动 赛 车 动 力 系 统 匹 配 优 化 与 仿 真\n",
      "纯 电 动 飞 艇 动 力 匹 配 与 优 化 仿 真 研 究\n",
      "研究纯电动赛车动力匹配与优化问题,赛车的结构与运行工况不同于乘用车,为提高纯电动赛车的动力性与经济性,针对赛车的各项车辆参数及其在赛道上的运行工况进行动力匹配及优化。根据纯电动赛车的设计目标,确定赛车各项基本参数,利用Optimum Lap软件搭建FSEC赛道模型,建立赛车运行工况,并对赛车的传动比进行优化,最后在CRUISE中搭建FSEC赛车整车模型,分别在全符合加速和循环工况下,对建立的纯电动赛车进行动力性和经济性仿真。仿真结果表明,所设计的赛车满足各项设计指标,传动比优化后,经济性有所提升。\n",
      "\n"
     ]
    },
    {
     "name": "stderr",
     "output_type": "stream",
     "text": [
      "\r",
      "  6%|▌         | 57/1000 [00:30<06:09,  2.55it/s]"
     ]
    },
    {
     "name": "stdout",
     "output_type": "stream",
     "text": [
      "关 于 公 路 隧 道 内 目 标 图 像 实 时 检 测 仿 真\n",
      "基 于 二 重 信 息 融 合 的 公 路 隧 道 多 类 目 标 检 测\n",
      "对公路隧道内的车辆和行人等目标进行实时检测,可以有效减少隧道安全事故。传统的检测方法主要是采用背景建模分割目标,采集图像特征对目标进行分类,对目标适应性较差且检测效果不佳。针对传统方法对环境适应性差以及目标召回率、准确率低等问题,将神经网络的浅层高分辨率低语义特征、中间层的补充语义特征和高层的高语义特征进行融合,提出一种三重信息融合的卷积神经网络隧道多类目标检测算法。在Faster R-CNN的基础上分别建立了ZFNet、VGGNet和Res Net三种网络改进前后的检测模型,并对数据进行了预处理与统一训练。结果表明:三重信息融合后的网络中仅Res Net克服了神经网络自身的梯度消失问题,实现了召回率与准确率的同步提升。\n",
      "\n"
     ]
    },
    {
     "name": "stderr",
     "output_type": "stream",
     "text": [
      "\r",
      "  6%|▌         | 58/1000 [00:30<06:01,  2.61it/s]"
     ]
    },
    {
     "name": "stdout",
     "output_type": "stream",
     "text": [
      "关 于 多 路 传 感 器 传 输 图 像 自 动 配 准 仿 真\n",
      "多 路 传 感 器 传 输 图 像 自 动 配 准 方 法\n",
      "多路传感器传输图像自动配准,能够获取高精度传感器图像。对传输图像配准时,需要在配准前对图像进行增强,计算图像配准参数,完成传输图像的自动配准。传统方法采用球面成像模型获取图像,将深度图与完成信息提取之后的图像进行配准,但忽略了计算图像配准参数,导致配准系数低、耗时长。提出基于区域选择的多路传感器传输图像自动配准方法,利用软阈值法对小波系数缩减去噪,于不同尺度实现分解系数增强。针对高频子带和低频子带图像实行非线性处理,提高图像对比度,完成多路传感器传输图像增强。重复提取图像特征,得到图像配准点对。使用结构相似度最大的配准点来计算图像配准参数,实现图像自动配准。仿真结果表明,上述方法平均配准耗时短,图像配准系数较高。与当前相关方法比较,所提方法可提高图像配准效率与精度,可行性和可靠性强。\n",
      "\n"
     ]
    },
    {
     "name": "stderr",
     "output_type": "stream",
     "text": [
      "\r",
      "  6%|▌         | 59/1000 [00:31<06:04,  2.58it/s]"
     ]
    },
    {
     "name": "stdout",
     "output_type": "stream",
     "text": [
      "城 市 生 态 修 复 景 观 布 局 特 征 智 能 提 取 方 法 仿 真\n",
      "城 市 生 态 修 复 景 观 布 局 特 征 智 能 提 取 仿 真\n",
      "为解决当前城市生态修复景观布局特征提取方法中存在的特征提取准确性差、耗时长的问题,提出基于多指标的城市生态修复景观布局特征智能提取方法。采用遥感数据采集的方式采集研究城市生态修复景观布局图像,并对图像进行预处理,利用处理结果构建一个加权无向图。通过蚁群法实现多层图的划分,判断图划分的归一化割值是否停止变化,如果结果为是,则将获取的最佳图划分映射至原图像,得到最终的图像分割结果。基于城市景观布局图像分割结果,分别将城市生态修复中的景观总面积、景观总周长、景观的分维数、景观的破碎化指数和嵌块体内缘比提取出来。仿真结果表明,所提方法特征提取耗时平均为0.24h,所得特征值与实际情况拟合程度高于当前方法。\n",
      "\n"
     ]
    },
    {
     "name": "stderr",
     "output_type": "stream",
     "text": [
      "\r",
      "  6%|▌         | 60/1000 [00:31<06:59,  2.24it/s]"
     ]
    },
    {
     "name": "stdout",
     "output_type": "stream",
     "text": [
      "大 数 据 量 红 外 图 像 非 均 匀 性 校 正 仿 真 研 究\n",
      "基 于 i m m 算 法 的 大 数 据 量 红 外 图 像 非 均 匀 性 校 正 仿 真\n",
      "对红外图像非均匀性进行校正能够提高红外图像质量,对实现红外图像信息的准确完整提取具有重要意义。针对当前红外目标图像校正方法存在的校正过程复杂,且校正效果较差的问题,提出一种基于IMM算法的大数据量红外图像非均匀性校正方法。通过对红外图像的灰度直方图进行双阈值映射,重新分配红外图像的灰度级,并通过自适应增强算法提高图像质量,并通过IMM算法确定图像校正时拟合响应参数状态,构建基于马尔可夫链的状态转换概率矩阵,计算红外图像信号初始状态估计与图像灰度协方差矩阵的输入交互,确定激光探测器的响应参数,校正大数据量红外图像的非均匀性。实验结果表明,所提方法图像校正的性能较好,且校正完成时间较短,校正过程较简单。\n",
      "\n"
     ]
    },
    {
     "name": "stderr",
     "output_type": "stream",
     "text": [
      "\r",
      "  6%|▌         | 61/1000 [00:32<06:44,  2.32it/s]"
     ]
    },
    {
     "name": "stdout",
     "output_type": "stream",
     "text": [
      "基 于 位 分 解 和 超 混 沌 映 射 的 医 学 图 像 加 密 研 究\n",
      "基 于 超 混 沌 映 射 的 医 学 图 像 加 密 算 法\n",
      "针对医学DICOM(Digital Imaging and Communications)标准医学图像中图像数据和病人信息数据的信息安全问题,提出了一种基于超混沌映射的医学图像加密算法。通过超混沌映射Lorenz生成六组密钥序列,增加算法的复杂性。并将图像数据进行位分解,打破像素内相关性,对高位数据和低位数据分别加密。病人信息加密不只与密钥序列有关,还与图像信息相关联。实验结果表明,算法实现了对DICOM图像中图像信息的加密和病人信息的隐藏,密钥空间大,并具有良好的算法安全性。\n",
      "\n"
     ]
    },
    {
     "name": "stderr",
     "output_type": "stream",
     "text": [
      "\r",
      "  6%|▌         | 62/1000 [00:32<06:13,  2.51it/s]"
     ]
    },
    {
     "name": "stdout",
     "output_type": "stream",
     "text": [
      "天 线 罩 系 统 结 构 一 体 化 优 化 算 法\n",
      "天 线 罩 系 统 结 构 优 化 的 算 法\n",
      "对天线罩壁结构优化是天线罩电性能设计的有效方法,因传统的变厚度天线罩优化算法仅对天线罩进行优化,无法实现对天线与罩的一体化优化。针对相控阵天线-罩系统的瞄准误差及透波率特性设计,提出一种天线罩系统结构一体化优化算法。通过分析天线罩结构参数与天线辐射参数对瞄准误差与透波率的影响,建立天线罩系统结构设计的优化模型。借助算子分离的思想,对天线罩结构参数和天线辐射参数采用不同的优化策略。利用变厚度天线罩优化方法对天线罩结构参数进行优化,并采用粒子群算法对天线辐射参数进行优化,实现天线罩系统结构的一体化优化。实验结果表明,与传统的变厚度天线罩优化算法相比,所提算法的瞄准误差更低,透波率更高,充分表明所提算法的有效性。\n",
      "\n"
     ]
    },
    {
     "name": "stderr",
     "output_type": "stream",
     "text": [
      "\r",
      "  6%|▋         | 63/1000 [00:32<06:11,  2.52it/s]"
     ]
    },
    {
     "name": "stdout",
     "output_type": "stream",
     "text": [
      "数 字 多 媒 体 网 络 通 信 延 迟 快 速 消 除 方 法 仿 真\n",
      "数 字 多 媒 体 网 络 通 信 延 迟 消 除 仿 真 研 究\n",
      "为了提高数字多媒体网络的通信效率,需要对数字多媒体网络通信延迟消除方法进行研究。当前通信延迟消除方法不能准确的对网络通信状态进行预测,通信延迟消除效果较差。提出一种数字多媒体网络通信延迟快速消除方法,基于受控自回归积分滑动平均模型结合通信优化目标函数和丢番图方程将网络通信控制问题转化为二次规划问题,得到通信控制预测向量。根据数字多媒体网络通信预测控制向量,采用平衡负载算法划分数字多媒体网络中的通信任务,将通信任务分为高质量通信任务和低质量通信任务,通过Min-Min算法对网络通信任务进行控制,消除数字多媒体网络中存在的通信延迟。仿真结果表明,所提方法可以准确的对网络通信状态进行预测,有效地消除数字多媒体网络中存在的通信延迟。\n",
      "\n"
     ]
    },
    {
     "name": "stderr",
     "output_type": "stream",
     "text": [
      "\r",
      "  6%|▋         | 64/1000 [00:33<06:08,  2.54it/s]"
     ]
    },
    {
     "name": "stdout",
     "output_type": "stream",
     "text": [
      "移 动 云 计 算 环 境 下 动 态 数 据 隐 私 密 码 机 制 仿 真\n",
      "基 于 随 机 树 的 动 态 数 据 隐 私 密 码 机 制\n",
      "数据加密是当前保障数据隐私安全的主要途径,针对现有隐私保护机制的加密过程中,部分加密数据特征明显易被破解,以及加密过程耗时长等问题,提出一种基于随机树的动态数据隐私密码机制。以云计算动态数据的定义域、值域以及所设密钥为依据,构建数据随机树;通过随机树父节点随机分解完成动态数据的区域划分,根据得到的与数据点对应的子节点的值域计算父节点之间的条件熵。结合条件熵值进行数据重构,利用模糊函数对重构数据进行映射,得到数据伪随机序列,完成动态数据加密。仿真证明,所提数据隐私保护机制的加密与解密时间更少,隐私保护效果更好。\n",
      "\n"
     ]
    },
    {
     "name": "stderr",
     "output_type": "stream",
     "text": [
      "\r",
      "  6%|▋         | 65/1000 [00:33<06:09,  2.53it/s]"
     ]
    },
    {
     "name": "stdout",
     "output_type": "stream",
     "text": [
      "多 媒 体 网 络 负 面 信 息 数 据 检 测 仿 真 研 究\n",
      "多 媒 体 网 络 负 面 信 息 数 据 检 测 仿 真\n",
      "针对当前网络负面信息检测方法存在假阳性率和漏检率较高的问题,提出基于朴素贝叶斯的多媒体网络负面信息数据检测方法。通过FIR滤波法实现负面信息数据检测前的抗干扰滤波,对采集到的多媒体网络信息数据中心流量实行傅里叶变换操作,得到FIR滤波器输入向量。将输入向量设置为平稳向量输入至滤波器,计算滤波器传输函数,获取FIR级联滤波器。对滤波器的抽头系数进行计算,实现媒体网络干扰滤波。利用经FIR滤波器处理过的多媒体网络信息数据流量测试集,构建贝叶斯概率表达式,得到网络中待检测信息数据隶属某类别的概率。根据概率计算式获取负面信息数据检测目标函数,计算目标函数中的先验概率值,并使用先验概率值完成网络负面信息数据检测。仿真结果表明,所提方法可将检测结果的假阳性率控制在5%以下,漏检率约为0.67%。该方法检测率高且漏检率低,与当前相关方法相比具备较强的检测性能。\n",
      "\n"
     ]
    },
    {
     "name": "stderr",
     "output_type": "stream",
     "text": [
      "\r",
      "  7%|▋         | 66/1000 [00:34<06:50,  2.28it/s]"
     ]
    },
    {
     "name": "stdout",
     "output_type": "stream",
     "text": [
      "涂 塑 复 合 管 道 内 壁 气 动 喷 砂 流 速 度 控 制 仿 真\n",
      "基 于 f l u e n t 的 气 动 喷 砂 两 相 流 场 的 数 值 模 拟\n",
      "气动喷砂是涂塑复合管道生产工艺中最关键的步骤之一,内部流场特性严重影响着喷砂的质量,提高管道内部流场介质的动量是保证喷砂质量的最有效途径,因此对探究不同喷砂条件下管道内壁流场介质的速度变化显得尤为重要。基于计算流体力学的方法,选择了遵循欧拉-拉格朗日计算方法的DPM离散相模型,利用FLUENT软件对几种不同管径、不同喷射角度下的管道内壁气动喷砂两相流场的静压力和速度分布进行了数值模拟。结果表明:随着加工管件的管径增大,在管件内部流场中气相速度降低,其对固体颗粒的加速作用减小,使得固体颗粒速度也逐渐减小;随着喷枪的喷射角度增加,固体颗粒与管件内壁的碰撞次数增加,固体颗粒速度逐渐减小,但冲蚀磨损区域更集中,冲蚀率逐渐增大。结果为选择合理喷砂工艺参数达到最优的喷砂效果提供了一定理论支持。\n",
      "\n"
     ]
    },
    {
     "name": "stderr",
     "output_type": "stream",
     "text": [
      "\r",
      "  7%|▋         | 67/1000 [00:34<06:36,  2.35it/s]"
     ]
    },
    {
     "name": "stdout",
     "output_type": "stream",
     "text": [
      "三 元 论 下 城 镇 土 地 利 用 空 间 优 化 模 型 仿 真\n",
      "基 于 三 元 论 的 城 镇 用 地 利 用 空 间 模 型 研 究\n",
      "土地利用优化配置是实现土地可持续利用,促进社会经济快速发展和环境日益改善的重要途径。针对传统土地利用空间优化模型存在优化成本较高、时间较长等问题,提出基于三元论下的城镇土地利用空间优化模型,结合三元论组建土地利用总体规划空间配置策略与单个微粒的映射关系,以土地利用经济收益、社会收益以及生态收益为优化目标,以土地利用规划空间、土地使用状态、土地类型转换机制为约束条件,组建土地利用空间配置模型。采用微粒群集成优化算法对土地利用空间模型进行优化,通过种群内部粒子速度和位置的不断更新,找到最优解,实现城镇土地利用空间模型优化。仿真结果证明,所提模型有效缩短了土地利用空间优化时间,降低了土地利用空间优化成本,并且能取得较为理想的效果。\n",
      "\n"
     ]
    },
    {
     "name": "stderr",
     "output_type": "stream",
     "text": [
      "\r",
      "  7%|▋         | 68/1000 [00:34<06:31,  2.38it/s]"
     ]
    },
    {
     "name": "stdout",
     "output_type": "stream",
     "text": [
      "隐 私 保 护 数 据 库 中 自 适 应 重 复 数 据 删 除 仿 真\n",
      "基 于 分 数 阶 变 换 累 积 量 的 重 复 数 据 删 除 方 法\n",
      "针对当前隐私保护数据库中自适应重复数据删除时,存在着重复数据删除时间过长,误删率较高、内存消耗过大等问题,提出基于分数阶变换累积量的重复数据删除方法。通过对隐私保护数据库中的重复数据进行分析,得到重复数据特征区间,对区间进行特征域平滑,计算出重复数据静态量化向量方差,以方差计算结果获取隐私保护数据库中存储节点子集随机概率,构建重复数据流信息模型,引用数据分数阶变换方法对模型中重复数据信息进行滤波处理,结合4阶累积量后置聚集进行重复数据删除。实验结果表明,所提方法重复数据删除时间较短、误删率较低、内存消耗较小。\n",
      "\n"
     ]
    },
    {
     "name": "stderr",
     "output_type": "stream",
     "text": [
      "\r",
      "  7%|▋         | 69/1000 [00:35<06:34,  2.36it/s]"
     ]
    },
    {
     "name": "stdout",
     "output_type": "stream",
     "text": [
      "喷 雾 干 燥 比 能 耗 模 型 仿 真 与 参 数 分 析\n",
      "基 于 振 动 过 程 能 效 的 喷 雾 干 燥 制 粉 分 析\n",
      "喷雾干燥制粉是陶瓷生产过程中的一个高耗能单元,因其涉及的变量较多且相互耦合,在生产中难以合理调节生产参数而造成能源浪费。为了在减少总能耗的同时提高单位能效,基于焓平衡与热量衡算,建立可反映喷雾干燥过程能效的比能耗模型,分析输入参数与干燥能效的关系;再使用Sobol’全局敏感性分析算法,将生产参数对干燥能耗和比能耗的影响程度量化为敏感性指数。试验分析验证了模型的准确性。结果显示,料液含水率对总能耗的影响最大,出口温度与料液含水率对生产能效有很强影响。\n",
      "\n"
     ]
    },
    {
     "name": "stderr",
     "output_type": "stream",
     "text": [
      "\r",
      "  7%|▋         | 70/1000 [00:35<06:34,  2.36it/s]"
     ]
    },
    {
     "name": "stdout",
     "output_type": "stream",
     "text": [
      "化 工 系 统 蒸 馏 塔 板 气 液 并 流 流 场 优 化 设 计\n",
      "立 体 旋 流 塔 板 气 液 流 场 的 优 化 设 计\n",
      "蒸馏塔板气液流场的优化设计是提高塔板效率和蒸馏设备生产能力的关键。对于立体旋流塔板,实验方法难以测量塔板内各空间位置的压降和旋流区的气液相速度,对气液相流场结构以及流动机理难以深入分析。为克服实验研究的局限性,利用Fluent软件中的欧拉-欧拉多相流模型和Realizable k-ε湍流模型,采用速度与压力耦合方式的phase coupling simple算法进行稳态计算,对塔板空间上气液两相流场进行仿真研究。不同操作条件下,湿板压降模拟值与实验测量值偏差在8%以内,证明了仿真结果的正确性和仿真方法的可行性。仿真结果表明:在塔板入口的起旋阶段,速度值相对较小,而在塔板的中、下部分的旋流发展阶段,速度值明显增大,且远离叶片上表面的速度出现了明显的速度差。各区域速度幅值随液相喷淋密度或气相动能因子的增加而增大,气相动能因子对于速度分布的影响效果更大。仿真结果对蒸馏塔板结构优化提供了仿真依据以及理论指导。\n",
      "\n"
     ]
    },
    {
     "name": "stderr",
     "output_type": "stream",
     "text": [
      "\r",
      "  7%|▋         | 71/1000 [00:36<06:33,  2.36it/s]"
     ]
    },
    {
     "name": "stdout",
     "output_type": "stream",
     "text": [
      "多 阵 列 摄 像 图 像 颜 色 自 动 补 偿 方 法 仿 真\n",
      "多 阵 列 摄 像 图 像 颜 色 自 动 补 偿 仿 真 研 究\n",
      "多阵列摄像图像颜色自动补偿方法影响着医疗图像、工业相机摄影、教育教学等领域的发展。针对当前方法摄像图像补偿无连续性和补偿效果不对称的缺点,提出了一种基于Retinex算法的摄像图像颜色自动补偿方法,对摄像图像的参考块进行选择,建立多阵列摄像图像的圆投影向量,并对摄像图像颜色进行匹配,计算图像熵局部窗口的颜色补偿,将计算结果代入到多阵列摄像图像中,利用图像熵来选取图像灰度均匀分布,增强多阵列摄像图像的实用性,根据多阵列摄像图像熵参考块的选择,利用Retinex算法分析摄像图像颜色单尺度通道的输入与输出,计算多阵列摄像图像的环绕函数,将函数值代入到图像中并对图像的尺度数进行加权计算,结合图像颜色的尺度通道对图像色彩恢复,实现摄像图像颜色的自动补偿。仿真结果表明,所提方法对多阵列摄像图像颜色自动补偿有较好的连续性和无偏性,为后续实现摄像图像颜色自动补偿奠定了基础。\n",
      "\n"
     ]
    },
    {
     "name": "stderr",
     "output_type": "stream",
     "text": [
      "\r",
      "  7%|▋         | 72/1000 [00:36<07:13,  2.14it/s]"
     ]
    },
    {
     "name": "stdout",
     "output_type": "stream",
     "text": [
      "单 幅 医 疗 图 像 增 强 最 佳 尺 度 选 取 精 度 控 制 仿 真\n",
      "基 于 非 线 性 处 理 的 单 幅 医 疗 图 像 增 强 最 佳 尺 度 选 取 控 制\n",
      "研究一种能够有效控制图像增强最佳尺度选取的方法对改善单幅医疗图像后续的目标检测和识别具有重要意义。针对现有方法由于无法将医疗图像中的目标信号保留的同时抑制背景噪声,导致增强效果不佳,且无法实现图像增强最佳尺度选取精度控制等问题,提出一种基于非线性处理的单幅医疗图像增强最佳尺度选取控制方法,对医疗图像进行颜色空间转换并划分为若干个图像块,对各个图像块进行结构元匹配获得映射子图,计算映射子图中的结构元特征向量、连通粒属性以及连通粒属性特征,通过对三个特征分量的归一化处理和加权合并,实现单幅医疗图像融合特征提取。采用软阈值函数对医疗图像高频子带部分进行平滑滤波,设置非线性函数阈值对提取的融合特征向量中幅值大于设置阈值的系数进行增强,对于小于设置阈值的系数进行抑制,并通过对亮度系数的调节和非线性函数阈值的选取进行医疗图像增强最佳尺度选取精度控制。仿真结果表明,该上述方法能够实现医疗图像增强最佳尺度选取精度控制,且具有比其他方法更好的增强效果。\n",
      "\n"
     ]
    },
    {
     "name": "stderr",
     "output_type": "stream",
     "text": [
      "\r",
      "  7%|▋         | 73/1000 [00:37<08:10,  1.89it/s]"
     ]
    },
    {
     "name": "stdout",
     "output_type": "stream",
     "text": [
      "内 燃 机 径 向 滑 动 轴 承 润 滑 特 性 及 影 响 因 素 研 究\n",
      "内 燃 机 连 杆 大 端 轴 承 弹 性 流 体 动 力 学 仿 真 与 仿 真\n",
      "研究内燃机连杆大端径向滑动轴承润滑特性问题,为了能够准确预测连杆大端轴承最大油膜压力和最小油膜厚度,在曲柄连杆动力学分析的基础上,建立了某型内燃机连杆大端轴承弹性流体动力学仿真模型。在工况不变的条件下,对该型内燃机连杆大端轴承油膜的最大油膜压力及最小油膜厚度的变化情况进行了研究,得到了一个工作循环内任意时刻大端瓦油膜压力分布,并对轴承的工作状态进行了分析。同时研究了径向间隙、供油压力对最大油膜压力及最小油膜厚度的影响,研究的结果表明:最小油膜厚度随供油压力的增大而增大;并且径向间隙越小,供油压力对最小油膜厚度的影响就越大。\n",
      "\n"
     ]
    },
    {
     "name": "stderr",
     "output_type": "stream",
     "text": [
      "\r",
      "  7%|▋         | 74/1000 [00:38<08:57,  1.72it/s]"
     ]
    },
    {
     "name": "stdout",
     "output_type": "stream",
     "text": [
      "基 于 混 合 模 型 的 维 吾 尔 文 词 性 标 注 方 法\n",
      "基 于 b i l s t m - c n n - c r f 混 合 神 经 网 络 维 吾 尔 语 词 性 标 注\n",
      "维吾尔语词性标注是词法分析中的重要任务之一,其标注结果的准确性直接影响到自然语言处理的后续工作。维吾尔语词性标注的难点是如何正确判断兼类词和未登录词的词性。提出了基于BiLSTM-CNN-CRF的混合模型进行维吾尔语词性标注。上述模型采用三层结构,先用CNN网络框架训练出维吾尔文单词的字符级形态特征向量,其次用skip-gram方法对大规模语料进行训练生成具有语义信息的低维度稠密实数词向量,然后将字符级特征向量和词向量拼接的组合向量作为BiLSTM-CRF深层神经网络的输入向量进行训练,构建适合维吾尔语词性标注的BiLSTM-CNN-CRF混合神经网络模型。实验结果显示,新的神经网络混合模型的词性标注准确率在实验室提供的数据集上达到了最好的标注结果,F1值达到了97.01%,对维吾尔语兼类词及未登录词标注有明显的提高。\n",
      "\n"
     ]
    },
    {
     "name": "stderr",
     "output_type": "stream",
     "text": [
      "\r",
      "  8%|▊         | 75/1000 [00:38<08:36,  1.79it/s]"
     ]
    },
    {
     "name": "stdout",
     "output_type": "stream",
     "text": [
      "基 于 面 源 法 防 沙 堤 流 场 结 构 优 化 设 计 仿 真\n",
      "基 于 面 源 法 防 沙 堤 流 场 结 构 优 化 设 计 仿 真\n",
      "由于防沙堤的结构特性进而使得防沙堤迎风坡流场特征的的不同,导致防沙堤的防沙效果不同,为了优化设计防沙堤的结构特征即取得最好的防沙效果,首先应对不同结构类型的防沙堤迎风坡流场分布特征进行分析。采用机理建模方法,以经典流体力学势流叠加理论和面源法相结合建立防沙堤绕流数学模型,分析了不同结构类型防沙堤特殊参考点处水平风加速比、速垂直相对风速和风压值的变化特征。结果表明:梯形截面形成的低风速区面积最大并且迎风坡的水平风速值最小,余弦形截面迎风坡垂直风速值较大,三角形截面迎风坡风压分布较大;横截面为余弦形随着防沙堤高宽比的增加低风速区域面积减小,水平风速值增加,垂直风速减小,风压值减小。数值仿真结果为防沙堤结构特征的优化设计设计提供了一定的参考和依据。\n",
      "\n"
     ]
    },
    {
     "name": "stderr",
     "output_type": "stream",
     "text": [
      "\r",
      "  8%|▊         | 76/1000 [00:39<08:21,  1.84it/s]"
     ]
    },
    {
     "name": "stdout",
     "output_type": "stream",
     "text": [
      "基 于 多 体 系 统 理 论 的 晶 圆 测 试 平 台 误 差 建 模\n",
      "基 于 多 体 系 统 理 论 法 的 晶 圆 测 试 平 台 空 间 定 位 误 差 建 模\n",
      "针对晶圆测试平台内部构造和工作特点,采用了多体系统理论法对晶圆测试平台空间定位误差进行建模。首先通过低序体阵列描述多体系统拓扑结构,将晶圆测试平台各体之间的关系转换为各坐标系之间的关系,然后建立低序体之间的理想与实际特征变换矩阵,最终建立晶圆测试平台空间定位误差模型。上述模型包含了由于制造、装配、运动控制不精确等因素带来的空间定位误差。给出了晶圆测试平台空间定位误差的数学表达式,为后续误差补偿提供理论基础。\n",
      "\n"
     ]
    },
    {
     "name": "stderr",
     "output_type": "stream",
     "text": [
      "\r",
      "  8%|▊         | 77/1000 [00:39<07:53,  1.95it/s]"
     ]
    },
    {
     "name": "stdout",
     "output_type": "stream",
     "text": [
      "多 新 息 理 论 改 进 优 化 粒 子 滤 波 研 究\n",
      "多 新 息 理 论 改 进 优 化 粒 子 滤 波 方 法 及 其 应 用\n",
      "研究多新息理论改进优化粒子滤波问题,以提高粒子滤波精度。其中粒子滤波状态估计模型的改进和新息数的选择是难点题。首先,基于多新息理论,利用多新息的增益矩阵和新息向量的乘积,对标准粒子滤波的状态估计模型改进优化,提出基于多新息改进优化的粒子滤波MI-PF;然后,分析了MI-PF算法的时间复杂度,从理论上论述了多新息理论改进优化粒子滤波的可行性;最后,利用仿真的方法,研究了不同新息数对MI-PF滤波性能和效率的影响,并得出了在强非线性、非高斯系统下,MI-PF新息数的取值范围。实验结果表明:若粒子数相同,与其它改进的粒子滤波相比,MI-PF滤波精度更高;若滤波精度近似,MI-PF使用的粒子数最少效率最高。从而验证了多信息理论改进粒子滤波的可行性,提高了粒子滤波精度。\n",
      "\n"
     ]
    },
    {
     "name": "stderr",
     "output_type": "stream",
     "text": [
      "\r",
      "  8%|▊         | 78/1000 [00:40<08:17,  1.85it/s]"
     ]
    },
    {
     "name": "stdout",
     "output_type": "stream",
     "text": [
      "c e l 算 法 在 土 壤 大 变 形 仿 真 中 的 应 用\n",
      "耦 合 欧 拉 格 朗 日 算 法 在 土 壤 大 变 形 仿 真 中 的 应 用\n",
      "为了解决传统的拉格朗日算法在进行土壤大变形有限元仿真时出现的网格畸变,计算无法收敛的问题,引入耦合欧拉-拉格朗日(CEL)算法应用于土壤的大变形仿真。分别用传统的拉格朗日算法和CEL算法仿真土壤的打桩试验过程,研究过程显示在打桩的初期即土壤小变形阶段,传统的拉格朗日算法和CEL算法保持着较好的一致性,而当土壤发生大变形时,传统的拉格朗日算法由于网格畸变出现报错无法继续计算,CEL算法则可以持续地仿真整个试验过程。研究结果表明CEL算法可以有效地解决土壤大变形仿真计算问题。研究结论可以为土壤和其它领域大变形问题的有限元仿真研究提供参考。\n",
      "\n"
     ]
    },
    {
     "name": "stderr",
     "output_type": "stream",
     "text": [
      "\r",
      "  8%|▊         | 79/1000 [00:40<07:21,  2.09it/s]"
     ]
    },
    {
     "name": "stdout",
     "output_type": "stream",
     "text": [
      "基 于 改 进 信 息 增 益 的 a c o - w n b 分 类 算 法 研 究\n",
      "基 于 改 进 信 息 增 益 的 文 本 分 类 算 法\n",
      "针对朴素贝叶斯分类算法对文本分类性能不高的问题,提出一种基于改进信息增益的ACO-WNB分类算法。首先,根据特征词在数据集中的词频分布情况加入调节因子,对特征词的贡献/干扰作用进行增强/抑制的调节,选择具有强区分度的特征形成特征子集,提高IG处理非均衡数据集的准确率。然后,将蚁群优化算法(ACO)和加权朴素贝叶斯模型相结合,利用ACO对权重进行迭代和全局寻优,生成ACO-WNB分类器,提高对文本数据的分类效率。使用典型新闻数据集将改进前后的算法对比分析,实验表明IG (可以有效去除冗余的高频特征,对非均衡数据集有更好的特征选择能力,ACO-WNB分类器具有更高的准确率,使得对实际的文本数据有更好的分类效率。\n",
      "\n"
     ]
    },
    {
     "name": "stderr",
     "output_type": "stream",
     "text": [
      "\r",
      "  8%|▊         | 80/1000 [00:40<06:48,  2.25it/s]"
     ]
    },
    {
     "name": "stdout",
     "output_type": "stream",
     "text": [
      "跨 网 络 用 户 动 态 双 向 身 份 准 确 认 证 仿 真\n",
      "跨 网 络 用 户 动 态 双 向 身 份 认 证 方 法\n",
      "实现跨网络用户动态双向身份准确认证是当前诸多领域重点关注的话题。针对当前认证方法存在耗时较长、系统资源占用率较高,且抗攻击性能较差的缺点,提出一种基于改进智能卡的跨网络用户动态双向身份认证方法,当计算机系统个人服务器收到来自传感器节点发送的用户身份信息后,通过计算收到身份信息验证码与本身服务器存储的验证码对比验证用户身份的合法性,以及通过传感器节点与个人服务器共享密钥解密获得的用户身份信息当前时间戳与之前时间戳的比对即可初步实现跨网络用户双向身份认证。在初步认证基础上,在跨网络用户动态双向身份认证阶段加入计数器,用来统计跨网络用户身份认证阶段遭受的攻击情况,并通过对跨网络用户的标识符结构形式的合法验证和对计算机系统个人服务器在某时刻接收到身份信息时间戳的有效期进行核查,最终实现跨网络用户动态双向身份认证。仿真结果表明,上述方法具有耗时短、系统资源占用率低,且抗攻击性强的优点。\n",
      "\n"
     ]
    },
    {
     "name": "stderr",
     "output_type": "stream",
     "text": [
      "\r",
      "  8%|▊         | 81/1000 [00:41<06:58,  2.20it/s]"
     ]
    },
    {
     "name": "stdout",
     "output_type": "stream",
     "text": [
      "有 向 切 换 网 络 有 害 信 息 智 能 过 滤 方 法 仿 真\n",
      "有 向 切 换 网 络 的 有 害 信 息 智 能 过 滤 仿 真 研 究\n",
      "对有向切换网络的有害信息进行智能过滤时,在提高网络安全应用方面具有重要意义。在对网络有害信息进行过滤时,需对网络信息的特征权重进行计算,确定网络模式的隶属函数。传统方法主要根据网络信号进行过滤,忽略了隶属函数的影响,导致过滤有害信息的准确率低,提出基于模式影响度方法的有害信息过滤方法。根据网络信息分类的向量和特征权值,计算网络信息过滤的评判矩阵,得到网络智能信息向量和网络信息类别的相似度值,进一步对网络信息熵和条件信息熵进行求解,以网络有害信息的特征选择为基础,利用网络信息的特征项计算特征项在网络信息中的的频率权重和位置权重,分析有向切换网络模式的影响函数,分别计算网络信息模式库的隶属度函数,根据调整网络中的阈值和计算网络信息的正常度,实现有害信息的智能过滤。仿真结果表明,提出方法在对网络有害信息进行智能过滤时,具有较高的查全率和准确率。\n",
      "\n"
     ]
    },
    {
     "name": "stderr",
     "output_type": "stream",
     "text": [
      "\r",
      "  8%|▊         | 82/1000 [00:41<06:27,  2.37it/s]"
     ]
    },
    {
     "name": "stdout",
     "output_type": "stream",
     "text": [
      "软 件 定 义 网 络 用 户 动 态 访 问 控 制 模 型 仿 真\n",
      "软 件 定 义 网 络 用 户 动 态 访 问 控 制 模 型 构 建\n",
      "对软件定义网络(SDN)用户动态访问控制进行模型构建,能够提高用户的用网安全性,对用户动态访问控制模型进行仿真,需要利用信任角色构建动态控制模型,并对软件定义网络节点进行信任度计算,而传统方法通过并行指令序列学习获取用户行为轮廓,利用前向轮廓建立全局K模型,但忽略了计算网络节点的信任度,导致控制速度慢。为此提出了一种基于角色信任的软件定义网络用户动态访问控制模型,分析软件定义网络访问的基本信任机制,并在此基础上依据网络基本要素与网络权限层级。构建控制软件定义网络用户访问的动态流程,计算软件定义网络节点信任度,通过信任角色完成对软件定义网络用户动态访问控制模型的构建。仿真结果表明,与传统RBAC模型相比,所提动态模型的访问控制响应速度更快、准确率更高,在用户识别方面更具灵活性。\n",
      "\n"
     ]
    },
    {
     "name": "stderr",
     "output_type": "stream",
     "text": [
      "\r",
      "  8%|▊         | 83/1000 [00:42<06:24,  2.38it/s]"
     ]
    },
    {
     "name": "stdout",
     "output_type": "stream",
     "text": [
      "无 线 自 组 织 网 络 信 息 流 并 行 传 输 安 全 验 证 仿 真\n",
      "无 线 自 组 织 网 络 信 息 流 并 行 传 输 安 全 验 证 模 型 研 究\n",
      "为了能够提高无线自组织网络信息流并行传输的可靠性,确保网络的安全,构建了信息流并行传输的安全验证模型。深入地剖析了无线自组织网络的漏洞,讨论了其AODV路由协议工作流程,通过对黑洞攻击流程的深入分析提出了黑洞防御策略。并且构建了无线自组织网络信息流并行传输安全模型,设计了基于四种不同模型的无线自组织网络信息流并行传输安全验证算法。最后进行了仿真分析,结果表明分离安全验证模型具有最佳的安全防护效果,能够提高无线自组织传感器网络的安全可靠性。\n",
      "\n"
     ]
    },
    {
     "name": "stderr",
     "output_type": "stream",
     "text": [
      "\r",
      "  8%|▊         | 84/1000 [00:42<06:34,  2.32it/s]"
     ]
    },
    {
     "name": "stdout",
     "output_type": "stream",
     "text": [
      "网 络 恶 意 入 侵 下 破 损 数 据 及 时 存 储 方 法 仿 真\n",
      "网 络 恶 意 入 侵 下 破 损 数 据 高 效 存 储 仿 真\n",
      "为了保证网络恶意入侵下数据不出现丢失现象,需要对破损数据进行及时存储。针对当前网络恶意入侵下破损数据及时存储中,存在着破损数据存储所需完成时间和数据读取时间过长,存储性能较低等问题,提出一种基于自适应分簇路由分配的破损数据存储方法,在网络恶意入侵下破损数据及时存储中,构建网络破损数据存储的节点分布模型,采用空间重构方法进行破损数据结构分布重组,采用自适应滤波方法对破损数据中无效数据进行滤除,并求出破损数据存储节点的适应度函数,引用自适应分簇路由分配方法对破损数据进行及时存储。实验结果表明,所提出方法在进行网络恶意入侵下破损数据及时存储中,存储所需完成时间和破损数据读取时间较短,存储性能较高。\n",
      "\n"
     ]
    },
    {
     "name": "stderr",
     "output_type": "stream",
     "text": [
      "\r",
      "  8%|▊         | 85/1000 [00:43<07:27,  2.04it/s]"
     ]
    },
    {
     "name": "stdout",
     "output_type": "stream",
     "text": [
      "金 属 工 件 感 应 加 热 工 艺 参 数 优 化 设 计 研 究\n",
      "基 于 人 工 神 经 网 络 和 遗 传 算 法 的 金 属 工 件 感 应 加 热 参 数 优 化\n",
      "金属工件在感应加热过程中,加热频率、电流密度(功率)和加热时间对形成硬化层的温度有决定性影响,传统的对加热频率、电流密度和加热时间这三个参数的选择和设计采用逐一试验法来获得最优组合,其过程复杂繁琐。为了快速方便得到三个参数的最优组合,提出了一种基于人工神经网络(ANN)和遗传算法(GA)的相结合的感应加热参数优化方法,首先采用正交试验获取了以加热频率、电流密度、加热时间的三个输入参数的基本组合,运用ANSYS仿真软件,建立感应加热有限元模型,并获取以感应加热参数和输出温度的待预测和优化数据,其次利用加热参数和输出温度的数据创建人工神经网络训练预测模型,最后使用遗传算法以建立的神经网络模型为适应度目标函数对感应加热参数进行优化,最终得到最优的感应加热参数组合。通过数据对比证明了该方法的有效性。\n",
      "\n"
     ]
    },
    {
     "name": "stderr",
     "output_type": "stream",
     "text": [
      "\r",
      "  9%|▊         | 86/1000 [00:43<07:50,  1.94it/s]"
     ]
    },
    {
     "name": "stdout",
     "output_type": "stream",
     "text": [
      "无 人 水 面 艇 目 标 路 径 跟 踪 优 化 控 制 研 究\n",
      "抗 风 干 扰 下 的 无 人 水 面 艇 目 标 路 径 跟 踪 优 化 控 制\n",
      "无人水面艇(USV)目标路径跟踪优化控制研究是为了实现自主、准确、快速的路径跟踪。时变风干扰是无人艇目标路径跟踪过程中不可忽略的环境因素,在时变风干扰的影响下采用变船长比(LOS-PD)控制方法会产生较大的跟踪误差,因此无人水面艇目标路径跟踪优化控制的难点技术之一是有效抵抗时变风干扰的影响。针对上述问题,提出了一种基于神经网络的电压控制量学习算法。通过在时变风干扰下采用LOS-PD控制方法经过多次调参后得到大量先验数据,利用这些数据对神经网络进行训练,得到了一组从距离偏差、角速度、风速大小、目标路径方向的倾斜角、航向角到无人艇左右电压控制量之间的最佳权值矩阵。通过仿真,得到两种算法在不同风干扰下的平均跟踪误差、跟踪时间和平均跟踪能耗。仿真结果验证了基于神经网络的电压控制量学习算法对于抵抗时变风干扰的有效性。\n",
      "\n"
     ]
    },
    {
     "name": "stderr",
     "output_type": "stream",
     "text": [
      "\r",
      "  9%|▊         | 87/1000 [00:44<07:28,  2.04it/s]"
     ]
    },
    {
     "name": "stdout",
     "output_type": "stream",
     "text": [
      "关 于 移 动 机 器 人 运 动 路 径 规 划 仿 真 研 究\n",
      "基 于 启 发 搜 索 策 略 的 移 动 机 器 人 路 径 规 划 研 究\n",
      "路径规划研究是移动机器人实现自主移动的关键。传统蚁群算法在解决路径规划问题时存在收敛速度慢、易陷入局部最优的缺点,并且规划出的路径平滑性差、安全性低,不利于机器人的精确跟踪控制。针对上述问题,提出了基于蚁群分类搜索策略的改进蚁群算法,基于栅格法进行环境建模,设计了近邻启发因子和目标启发因子相结合的启发函数,并对蚂蚁种群进行分类,针对每类蚂蚁采用不同的启发搜索策略。构建了新的路径评价函数,引入了路径拐点转角参数和拐点间安全距离参数来改进路径的平滑性和安全性。改进了信息素更新规则,引入了双反馈机制以提高算法的收敛速度。仿真结果表明,改进蚁群算法能够规划出更为平滑和安全的路径,且收敛速度更快,证明了改进算法的有效性。\n",
      "\n"
     ]
    },
    {
     "name": "stderr",
     "output_type": "stream",
     "text": [
      "\r",
      "  9%|▉         | 88/1000 [00:44<07:14,  2.10it/s]"
     ]
    },
    {
     "name": "stdout",
     "output_type": "stream",
     "text": [
      "改 进 型 c o l p i t t s 宽 带 混 沌 电 路 设 计\n",
      "二 级 改 进 型 c o p t s 电 路 的 数 值 分 析\n",
      "由于标准Colpitts电路在高频时受寄生电容的影响,限制其基本频率的提高。针对上述问题,提出将标准二级型Colpitts电路进行改进以提高电路的基本频率,即将标准二级型Colpitts电路的电感转移到第二级三极管的基极上,在两个三极管的基极均串联一个电阻,得到二级改进型Colpitts电路。利用数值分析求解二级改进型Colpitts电路的六阶微分方程的图形与数值解,得到该电路的系统分岔图、相图、时域信号等基本信息。分析以上基本信息得知,上述电路可以有效减小寄生电容对电路谐振频率的影响,使谐振网络的总电容大大减小,提高电路所产生混沌信号的基频频率。结果表明:二级改进型Colpitts电路可以工作在周期态与混沌态,基频相比标准二级型Colpitts电路有了极大地提高。\n",
      "\n"
     ]
    },
    {
     "name": "stderr",
     "output_type": "stream",
     "text": [
      "\r",
      "  9%|▉         | 89/1000 [00:45<07:11,  2.11it/s]"
     ]
    },
    {
     "name": "stdout",
     "output_type": "stream",
     "text": [
      "基 于 栅 格 图 拼 接 的 多 层 次 路 口 地 图\n",
      "基 于 栅 格 图 拼 接 的 多 层 次 路 口 地 图 设 计 与 实 现\n",
      "路口是典型的城市交通场景之一,为了能够比较准确的刻画路口交通场景,为无人车运动规划提供充分可靠的场景信息,提出了创建基于栅格图拼接的多层次路口地图的方法。上述方法首先以栅格图为输入信息,依据ICP(iterative closest point)算法,离线建立路口静态地图,再以此作为先验信息,使用无人车行驶过程中的实时感知数据对路口静态地图进行在线扩充与更新,并且分别依据激光雷达和相机的感知结果实时更新动态障碍物列表和交通标志等信息,解决了路牙、树木等非结构化障碍物信息难以刻画的问题。所提方法实现简单,高效,仿真结果表明了方法的有效性。\n",
      "\n"
     ]
    },
    {
     "name": "stderr",
     "output_type": "stream",
     "text": [
      "\r",
      "  9%|▉         | 90/1000 [00:45<06:21,  2.39it/s]"
     ]
    },
    {
     "name": "stdout",
     "output_type": "stream",
     "text": [
      "磨 矿 工 艺 过 程 优 化 控 制 仿 真 研 究\n",
      "磨 矿 内 模 与 控 制 算 法 研 究\n",
      "针对磨矿过程中多变量、强干扰、非线性等特点,提出一种改进模糊T-S模型的内模控制的方法。将此算法应用到再磨过程旋给浓度控制回路中,使旋给浓度稳定在一定的范围内,保证磨矿粒度的合格率。通过将变论域的方法与规则修剪的方法相结合改进T-S模糊模型,并将改进后的模糊T-S模型作为内部模型,其逆模型作为内模控制器,并验证了磨矿控制系统的稳定性和鲁棒性。仿真结果表明,改进方法的调节时间短、超调量小、鲁棒性好,验证了所提控制方法的有效性。\n",
      "\n"
     ]
    },
    {
     "name": "stderr",
     "output_type": "stream",
     "text": [
      "\r",
      "  9%|▉         | 91/1000 [00:45<06:35,  2.30it/s]"
     ]
    },
    {
     "name": "stdout",
     "output_type": "stream",
     "text": [
      "关 于 分 布 式 数 据 库 准 确 分 类 仿 真 研 究\n",
      "基 于 p a r z e n 窗 估 计 模 型 的 分 布 式 数 据 库 准 确 分 类 研 究\n",
      "对分布式数据库进行准确分类,能够有效提高数据的利用率。对数据库的准确分类,需通过近似函数计算后验概率,根据概率结果,完成数据库的准确分类。传统方法通过构造查询矩阵和相似度矩阵,确定数据库准确分类的策略,但忽略了后验概率的计算,导致分类效果不显著。在云计算平台下,提出基于Parzen窗估计模型的分布式数据库准确分类方法,在分析分布式数据库分类系统原理模型基础上,利用Parzen窗估计模型确定分布式数据库区间样本的类别条件概率密度函数,通过插值法设计类别条件概率密度函数的近似函数,并利用此近似函数计算数据库分类样本后验概率,根据概率结果,实现分布式数据库分类。通过计算数据库分类结果的亲和力,并将分类结果亲和力与设定阈值进行对比,实现分布式数据库准确分类。实验结果表明,所提方法分类准确度较高,且分类过程较简单。\n",
      "\n"
     ]
    },
    {
     "name": "stderr",
     "output_type": "stream",
     "text": [
      "\r",
      "  9%|▉         | 92/1000 [00:46<06:45,  2.24it/s]"
     ]
    },
    {
     "name": "stdout",
     "output_type": "stream",
     "text": [
      "湿 地 景 观 区 三 维 模 型 构 建 方 法 仿 真 研 究\n",
      "基 于 云 点 融 合 的 湿 地 景 观 三 维 模 型 构 建 方 法\n",
      "探究一种有效的湿地景观模型构建方法,能够提高模型构建配准时间,提高收敛性,提高模型构建效率,在实际应用中具备重要的现实意义。针对当前方法在对湿地景观区进行规划设计时,由于城市化和生态环境变化的影响导致湿地景观模型构建时存在模型构建冗余度较高,模型构建的繁杂度增加,设计效果较差等问题,提出一种基于云点融合的湿地景观三维模型构建方法,通过计算湿地景观区的总面积、斑块密度、斑块形状指数和平均斑块分维数,获得湿地景观格局指数。计算三维湿地景观云融合变换的最小函数,利用该函数计算三维平移变换量、三维模型的旋转矩阵和三维模型的缩放因子,变换构建湿地景观区三维模型。仿真结果证明,上述方法可以减小误差、降低配准时间、提高收敛性、降低冗余度、增强湿地景观区三维模型构建的整体效果。\n",
      "\n"
     ]
    },
    {
     "name": "stderr",
     "output_type": "stream",
     "text": [
      "\r",
      "  9%|▉         | 93/1000 [00:46<06:42,  2.26it/s]"
     ]
    },
    {
     "name": "stdout",
     "output_type": "stream",
     "text": [
      "公 路 沿 线 高 边 坡 稳 定 性 评 估 方 法 仿 真 研 究\n",
      "公 路 沿 线 高 边 坡 稳 定 性 评 估 仿 真 研 究\n",
      "为了保障人民的生命安全和财产安全,需要对公路沿线高边坡的稳定性进行评估。采用当前高边坡稳定性评估方法对公路沿线高边坡的稳定性进行评估时,评估所用的时间较长,评估结果不准确,存在评估效头盖率低和评估精准度低的问题。提出一种公路沿线高边坡稳定性评估方法,通过高边坡滑面上受到滑动面抗滑力、由后缘缝隙水压力生成的滑动分力和岩体自重三个稳定性影响因素构建高边坡的滑动模型,根据高边坡滑动模型确定极限平衡状态下高边坡的极限破坏角、坡角与坡高之间的关系,在最大隶属度原则和模糊变化原理的基础上,结合极限破坏角、坡角与坡高间的关系采用模糊综合评估方法对公路沿线高边坡的稳定性进行评估。仿真结果表明,所提方法的评估效率高、评估精准度高。\n",
      "\n"
     ]
    },
    {
     "name": "stderr",
     "output_type": "stream",
     "text": [
      "\r",
      "  9%|▉         | 94/1000 [00:47<06:46,  2.23it/s]"
     ]
    },
    {
     "name": "stdout",
     "output_type": "stream",
     "text": [
      "钢 铁 企 业 物 流 库 存 的 车 辆 调 度 优 化\n",
      "基 于 改 进 萤 火 虫 算 法 的 物 流 库 存 调 度 策 略 研 究\n",
      "作为整个钢铁企业生产过程的准备阶段,车辆入库环节关系着下游生产线的资源配置和库存的运转效率。传统的调度策略没有从车辆入库顺序和时间角度对库存调度的物流成本和效率进行分析,导致调度效率低,成本高,而选择合适的车辆入厂入库顺序和时间并考虑多车共同作业可以有效的提高库存效率且节省成本。为此首先建立了最小化货车出厂时间和传送带最小运转成本的整数规划模型,然后提出了改进萤火虫优化算法对复杂模型进行求解,通过自适应策略改进算法使其增强个体搜索能力,同时在萤火虫移动的过程中引入了Levy变异,避免算法陷入局部最优而无法寻到最优解,最后由测试函数和仿真实例进行测试。结果表明,改进算法可以迅速找出最优调度方案,从而指导企业合理安排资源入库,优化了物流库存管理。\n",
      "\n"
     ]
    },
    {
     "name": "stderr",
     "output_type": "stream",
     "text": [
      "\r",
      " 10%|▉         | 95/1000 [00:47<06:40,  2.26it/s]"
     ]
    },
    {
     "name": "stdout",
     "output_type": "stream",
     "text": [
      "多 用 户 数 据 库 中 访 问 信 息 跟 踪 准 确 识 别 仿 真\n",
      "网 络 多 用 户 数 据 库 中 的 访 问 信 息 跟 踪 识 别 仿 真\n",
      "对网络多用户数据库中的访问信息进行跟踪识别,能够有效提高数据库运行效率,提升网络用户体验质量。对多用户数据库中存储的访问信息的跟踪识别,需要分析任意两个访问信息之间的关联性,给出数据库关联模式与冲突识别的匹配规则,完成访问信息跟踪的识别。传统方法分析访问信息异常原因,对数据库访问冲突类型进行类别划分,但忽略了获取数据库关联与冲突间的匹配规则。提出基于优先级的多用户数据库访问信息跟踪识别方法,采用一个四元组分析用户访问信息库,获取任意两个数据存在的冲突相似度。分析任意两个访问信息之间的关联性,给出多用户数据库间存在的关联模式与冲突识别的匹配规则,对多用户数据库访问信息跟踪进行检测。实验结果证明,所提方法能够实现高效、高准确性地识别多用户数据库访问信息冲突,且具有良好的稳定性。\n",
      "\n"
     ]
    },
    {
     "name": "stderr",
     "output_type": "stream",
     "text": [
      "\r",
      " 10%|▉         | 96/1000 [00:48<07:02,  2.14it/s]"
     ]
    },
    {
     "name": "stdout",
     "output_type": "stream",
     "text": [
      "厌 氧 塘 污 水 处 理 系 统 液 压 故 障 在 线 检 测 仿 真\n",
      "基 于 动 态 g r n n 模 型 的 厌 氧 塘 污 水 处 理 系 统 液 压 故 障 检 测\n",
      "对液压故障进行在线检测,是解决诊断厌氧塘污水处理系统实际应用的有效途径。当前液压故障检测方法是首先将最严重的故障划分出来,然后采用分层聚类算法对液压故障状态进行检测,通过以上步骤,提高了污水处理系统的检测效率,但检测不出污水处理系统液压设备小幅度突变故障和早期缓变故障,针对上述问题,提出基于动态GRNN模型的厌氧塘污水处理系统液压故障在线检测方法。通过传感器设备将厌氧塘污水处理系统关键部位的信号进行采集,获取系统正常运行状态下的数据,根据这些数据训练神经网络故障观测器模型,用训练好的故障观测器模型来获取厌氧塘污水处理系统残差。引入自适应阈值,通过判断残差平方和与相应阈值对比,可判定故障。实验结果表明,所提方法能够快速、有效地检测出污水处理系统液压设备的小幅度突变故障和早期缓变故障,且具有较好的鲁棒性。\n",
      "\n"
     ]
    },
    {
     "name": "stderr",
     "output_type": "stream",
     "text": [
      "\r",
      " 10%|▉         | 97/1000 [00:48<06:34,  2.29it/s]"
     ]
    },
    {
     "name": "stdout",
     "output_type": "stream",
     "text": [
      "基 于 改 进 l b p 的 手 指 静 脉 识 别 算 法\n",
      "基 于 改 进 l b p 的 手 指 静 脉 图 像 识 别 算 法\n",
      "为进一步提高手指静脉识别算法识别率,在图像预处理阶段提出了将直方图均衡化算法与局部对比度增强算法相结合,在扩大静脉图像动态范围的同时增强图像的细节。在图像识别阶段,提出了一种基于局部二值模式(Local Binary Pattern,LBP)的改进算子用来描述图像局部纹理特征,并结合权重分配和分块LBP特征算法对图像进行特征提取。最后使用支持向量机(Support Vector Machine,SVM)算法对图像特征进行训练。实验结果表明,上述算法识别率高达99.33%,与传统的识别算法相比具有明显的准确率提高。\n",
      "\n"
     ]
    },
    {
     "name": "stderr",
     "output_type": "stream",
     "text": [
      "\r",
      " 10%|▉         | 98/1000 [00:48<05:45,  2.61it/s]"
     ]
    },
    {
     "name": "stdout",
     "output_type": "stream",
     "text": [
      "基 于 r s s i 定 位 的 w s n 虫 洞 攻 击 节 点 检 测 与 仿 真\n",
      "无 线 传 感 器 网 络 r s s i 定 位 技 术\n",
      "定位技术是其它无线传感器网络技术的基础,基于节点位置信息的监测行为的安全性尤为重要。针对无线传感器网络RSSI定位技术,分析虫洞攻击对定位的影响,提出一种安全定位方法。采用倒数作为权值因子,并在RSSI定位测距阶段根据节点的物理特性过滤攻击节点,提出了通信范围受限特性、消息受限特性和接收消息唯一性,能够在提高定位精度的同时有效降低虫洞攻击对定位的影响;仿真结果表明:相对于传统的节点加密等方法,降低计算复杂度,减少节点能量消耗,延长网络生命周期。\n",
      "\n"
     ]
    },
    {
     "name": "stderr",
     "output_type": "stream",
     "text": [
      "\r",
      " 10%|▉         | 99/1000 [00:49<06:37,  2.27it/s]"
     ]
    },
    {
     "name": "stdout",
     "output_type": "stream",
     "text": [
      "微 小 尺 寸 精 度 图 像 角 点 特 征 在 线 搜 索 仿 真 研 究\n",
      "基 于 纹 理 结 构 引 导 的 微 小 尺 寸 精 度 图 像 角 点 特 征 在 线 搜 索\n",
      "针对当前方法无法快速、准确地对微小尺寸精度图像角点特征在线搜索的问题,提出基于纹理结构引导的微小尺寸精度图像角点特征在线搜索方法。对含噪的微小尺寸精度图像进行小波分解,并估计噪声方差,引入噪声方差的修正因子,对噪声方差进行修正。根据修正结果经维纳滤波器对微小尺寸精度图像中含有的噪声进行去除,再采用小波系数对微小尺寸精度图像进行重构,实现微小尺寸精度图像增强。在微小尺寸精度图像角点特征在线搜索过程中引入结构张量,完成微小尺寸精度图像角点特征的搜索。利用张量结构特征定量分析微小尺寸精度图像角点特征在线搜索,得到微小尺寸精度图像角点特征信息填补优先级判断函数。将曲率引入微小尺寸精度图像角点特征在线搜索中,获取最适当的纹理合成模板,利用优先级判断函数和纹理合成模板获取微小尺寸精度图像角点特征在线搜索最终的搜索准确率。实验表明,上述方法微小尺寸精度图像角点特征在线搜索平均耗时为9μs,微小尺寸精度图像角点特征在线搜索后的准确性良好。所提方法分别在微小尺寸精度图像角点特征在线搜索耗时和微小尺寸精度图像准确性方面均有所保障,具有可实践性。\n",
      "\n"
     ]
    },
    {
     "name": "stderr",
     "output_type": "stream",
     "text": [
      "\r",
      " 10%|█         | 100/1000 [00:49<06:27,  2.32it/s]"
     ]
    },
    {
     "name": "stdout",
     "output_type": "stream",
     "text": [
      "融 合 深 度 信 息 和 稀 疏 自 编 码 的 手 势 识 别 算 法\n",
      "融 合 深 度 信 息 和 稀 疏 自 编 码 的 手 势 识 别\n",
      "针对目前深度手势识别算法无法有效去除手腕区域干扰且识别率较低的问题,提出了一种融合深度信息和稀疏自编码的手势识别算法。改进算法利用深度信息和肤色信息相结合的方法对样本图像进行粗分割,对分割后的图像采用手势端点检测和可变阈值算法进行精确分割,去除人体手腕区域的干扰,得到精确的手势分割区域。然后将分割后的样本图像输入稀疏自编码神经网络中进行无监督的训练与特征提取,并将提取的特征输入到softmax分类器中进行识别,得到手势的识别结果。仿真结果表明,改进算法能够有效去除手腕区域部分,且具有更高的识别率。\n",
      "\n"
     ]
    },
    {
     "name": "stderr",
     "output_type": "stream",
     "text": [
      "\r",
      " 10%|█         | 101/1000 [00:50<07:33,  1.98it/s]"
     ]
    },
    {
     "name": "stdout",
     "output_type": "stream",
     "text": [
      "关 于 机 械 滚 动 轴 承 故 障 信 号 诊 断 仿 真\n",
      "基 于 变 分 模 态 分 解 和 极 限 学 习 机 的 滚 动 轴 承 故 障 信 号 提 取 方 法\n",
      "滚动轴承的故障定位以及性能衰减程度的诊断能够有效地降低设备停机率。针对故障轴承的非稳态振动信号易受噪声干扰、故障识别难度大等问题,提出了一种关于机械滚动轴承故障信号的诊断方法。上述方法对已知各类型故障振动信号进行变分模态分解(VMD),以本征模态函数(IMF)之间的Pearson相关系数为指标对VMD模态个数进行参数改进,实现振动信号自适应模态个数的VMD分解。然后利用奇异值分解(SVD)得到模态矩阵的奇异值,并以归一化后的奇异值矩阵作为故障信号的特征矩阵输入到极限学习机(ELM)进行故障定位及性能衰减程度的诊断。实验结果表明,所提方法能够有效地对滚动轴承故障振动信号进行特征提取和智能识别。\n",
      "\n"
     ]
    },
    {
     "name": "stderr",
     "output_type": "stream",
     "text": [
      "\r",
      " 10%|█         | 102/1000 [00:50<07:21,  2.03it/s]"
     ]
    },
    {
     "name": "stdout",
     "output_type": "stream",
     "text": [
      "平 移 校 正 下 印 刷 图 像 缺 陷 检 测 优 化 仿 真\n",
      "平 移 校 正 下 印 刷 图 像 缺 陷 检 测 优 化 仿 真\n",
      "对平移校正下印刷图像缺陷进行检测能够提高印刷图像质量,保证印刷图像信息提取的准确性和完整性。针对当前平移校正下印刷图像缺陷检测方法存在的检测精确度不高,检测速度较慢问题,提出一种最近邻特征匹配的平移校正下印刷图像缺陷检测优化方法,利用局部对比度增强算法通过计算印刷图像的局部对比度,实现印刷图像增强。并通过最大熵阈值分割的方法,通过计算增强后印刷图像的目标熵以及背景熵曲线,确定印刷图像缺陷的概率分布,实现印刷图像预处理。利用最近邻方法对处理后的图像对印刷图像的特征点进行匹配,通过最小二乘优化算法确定平移校正下印刷图像的变换矩阵,实现印刷图像缺陷检测。实验结果表明,所提方法进行印刷图像缺陷检测,检测的精确度较高,且检测的完成速度较快。\n",
      "\n"
     ]
    },
    {
     "name": "stderr",
     "output_type": "stream",
     "text": [
      "\r",
      " 10%|█         | 103/1000 [00:51<06:51,  2.18it/s]"
     ]
    },
    {
     "name": "stdout",
     "output_type": "stream",
     "text": [
      "多 空 间 数 据 库 内 存 数 据 位 置 实 时 匹 配 仿 真\n",
      "多 空 间 数 据 库 内 存 数 据 位 置 实 时 匹 配 方 法\n",
      "为了提高空间数据的利用效率,需要对多空间数据库内存数据位置匹配方法进行研究。采用当前方法对多空间数据库中的空间数据位置进行匹配时,得到的匹配结果与实际结果之间的误差较大,匹配所用的时间较长,存在匹配结果准确率低和匹配效率低的问题。提出一种多空间数据库内存数据位置实时匹配方法,在四叉树分解规则的基础上将多空间数据库内存数据分为大小相同的若干个网格,采用空间填充曲线表示方法对网格进行编码,得到数据量相同的多个区间,完成多空间数据库内存数据的均衡划分。分析多空间数据库内存数据的趋向性,建立趋势函数,得到空间数据属性差异和空间距离的相似度,在趋势函数的基础上根据相似度建立多空间数据库内存数据位置匹配模型,完成多空间数据库内存数据位置的实时匹配。实验结果表明,所提方法的匹配结果准确率高、匹配效率高。\n",
      "\n"
     ]
    },
    {
     "name": "stderr",
     "output_type": "stream",
     "text": [
      "\r",
      " 10%|█         | 104/1000 [00:51<06:17,  2.37it/s]"
     ]
    },
    {
     "name": "stdout",
     "output_type": "stream",
     "text": [
      "物 联 网 下 分 布 式 在 线 学 习 资 源 个 性 化 调 度 仿 真\n",
      "在 线 学 习 资 源 个 性 化 调 度 方 法 研 究\n",
      "针对当前方法进行在线学习资源调度中,存在用户效用函数值计算不准确、调度完成时间过长、成本消耗较大等问题。提出基于遗传算法的在线学习资源个性化调度方法。通过分析资源调度任务执行时间和调度执行费用之间的关系,计算出任务调度时间效用和费用效用的权重值,根据权重计算结果构建资源调度效用模型,利用该模型给出资源调度子任务完成最短、成本最少的调度目标函数。采用贪心算法对目标函数进行求解,通过子任务资源调度时间—成本来约束适应度函数,以适应度函数值的调整完成在线学习资源个性化调度。结果表明,所提方法在学习资源调度中所用完成时间较短、成本消耗较低,整体资源利用率较高。\n",
      "\n"
     ]
    },
    {
     "name": "stderr",
     "output_type": "stream",
     "text": [
      "\r",
      " 10%|█         | 105/1000 [00:52<06:25,  2.32it/s]"
     ]
    },
    {
     "name": "stdout",
     "output_type": "stream",
     "text": [
      "中 央 空 调 冷 却 塔 排 水 量 自 动 调 节 优 化 控 制 仿 真\n",
      "中 央 空 调 冷 却 塔 排 水 量 自 动 调 节 优 化 控 制 仿 真\n",
      "对中央空调冷却塔排水量进行自动调节控制,在提高中央空调制冷性能方面具有重要意义。由于中央空调冷却塔在运行过程中受到温度设置的限值,使得中央空调冷却塔排水量预测不准确,无法进行准确控制。传统调节控制方法,主要通过对中央空调冷却塔自身结构进行优化,缩短运行能耗,提高排水量自动调节控制准确度,存在调节控制难度大,效率低的问题。提出基于变量转换控制的中央空调冷却塔排水量自动调节控制方法,根据冷却塔中空气压缩的压力与湿度关系,计算得到空气中的气态水转换为液态水的判别临界压力值,通过冷却塔的工作原理,控制一定体积的空气对其进行加压处理,利用判别临界压力值求得凝水系数,进一步通过计算与分析得到中央空调冷却塔产生的排水量,完成对中央空调冷却塔排水量的自动调节优化控制。实验结果表明,改进的自动调节优化控制方法能够有效地对中央空调冷却塔排水量进行调节控制,且调节控制精度与抗干扰性较高,并能给出合理的优化建议。\n",
      "\n"
     ]
    },
    {
     "name": "stderr",
     "output_type": "stream",
     "text": [
      "\r",
      " 11%|█         | 106/1000 [00:52<06:22,  2.34it/s]"
     ]
    },
    {
     "name": "stdout",
     "output_type": "stream",
     "text": [
      "物 联 网 多 层 设 备 信 息 通 信 数 据 分 类 识 别 仿 真\n",
      "物 联 网 多 层 设 备 信 息 通 信 数 据 分 类 识 别 仿 真\n",
      "对物联网多层设备信息通信数据进行分类识别,能够有效提高物联网设备的利用率,对设备信息通信数据进行识别,需要将通信信号特征从频域扩展至复平面,采用训练好的SVM对剩余通信数据进行分类识别。传统方法设定网络设备通信数据流的分形谱,推导出通信数据流的估计谱,但忽略了将通信信号特征扩展至复平面,导致识别误差大等问题。提出物联网多层设备信息通信数据分类识别方法,通过多层设备源信号的对角切片双谱提取通信信号特征,利用Chirp-Z变换将通信信号特征从频域扩展至复平面,选取出具有较强可分离度特征作为多层设备通信数据特征参数,并利用模糊C均值聚类算法进行初步聚类,选取聚类性能较优的通信数据作为支持向量机(SVM)的训练样本,再采用训练好的SVM对剩余通信数据进行分类识别。实验结果表明,所提方法有效提高了数据分类识别效率,且识别误差较小。\n",
      "\n"
     ]
    },
    {
     "name": "stderr",
     "output_type": "stream",
     "text": [
      "\r",
      " 11%|█         | 107/1000 [00:52<06:28,  2.30it/s]"
     ]
    },
    {
     "name": "stdout",
     "output_type": "stream",
     "text": [
      "关 于 卫 星 气 象 云 图 准 确 检 测 的 仿 真 研 究\n",
      "基 于 多 粒 度 级 联 森 林 的 云 图 检 测 方 法\n",
      "利用卫星云图进行气象应用研究,首先要对卫星云图解译,而云图检测分类是气象卫星云图解译的核心。对气象云图准确检测的准确率高低直接影响到后续的大气科学研究和气象预测应用,而传统的浅层学习分类算法用于卫星气象云图检测分类时,不能很好的对卫星光学参数和卫星云图进行特征表示,容易造成处理规模过大、分析过程复杂以及陷入局部极小值等问题,导致了云图检测不准确,云类别的误检率很高。而深度神经网络对学习样本数量要求较高,并且检测速度慢,在分类速度和分类精度上无法满足气象研究和应用需求。针对这些问题,利用优化过的多粒度级联森林对卫星云图进行检测,能充分的对云图进行特征表示,并且具有很好的泛化性能。在对中国HJ-1A/B卫星云图的实验结果表明,采用基于多粒度级联森林方法对卫星云图进行检测,可以很好的提取云图特征,并且能够进行较好的小样本学习。而且多粒度级联森林方法检测速度快,云图分类时厚云和薄云之间的过渡区域清晰,而且相比传统阈值法、卷积神经网络模型及深度极限学习机模型的云图识别准确率更高。\n",
      "\n"
     ]
    },
    {
     "name": "stderr",
     "output_type": "stream",
     "text": [
      "\r",
      " 11%|█         | 108/1000 [00:53<06:34,  2.26it/s]"
     ]
    },
    {
     "name": "stdout",
     "output_type": "stream",
     "text": [
      "矿 井 中 电 力 系 统 变 压 器 故 障 诊 断 仿 真\n",
      "矿 井 中 电 力 系 统 变 压 器 故 障 诊 断 仿 真\n",
      "针对矿井中电力系统变压器故障的模糊性,传统的气体分析法无法根据气体的浓度直接判断故障发生的可能性大小,提出了一种基于直觉模糊Petri网的矿用变压器故障诊断方法。通过直觉模糊集合来描述特征气体与故障之间的关系,建立了新型的直觉故障诊断模型,在模型中引入了隶属度和非隶属度。设计了直觉模糊推理算法,通过获取和处理故障诊断模型中连接弧的权值、变迁的阈值等具体参数,将故障诊断过程转化为利用直觉模糊Petri网的直觉模糊推理过程。最后求出了各个故障的隶属度和非隶属度,以此判断故障发生的可能性。通过仿真验证了上述矿用变压器故障推理方法能够根据气体的浓度快速判断故障发生的可能性大小。\n",
      "\n"
     ]
    },
    {
     "name": "stderr",
     "output_type": "stream",
     "text": [
      "\r",
      " 11%|█         | 109/1000 [00:53<06:22,  2.33it/s]"
     ]
    },
    {
     "name": "stdout",
     "output_type": "stream",
     "text": [
      "桥 梁 建 筑 质 量 运 营 监 测 数 据 处 理 仿 真 研 究\n",
      "海 量 桥 梁 质 量 运 输 监 测 数 据 处 理 方 法 研 究\n",
      "对海量桥梁运营监测数据的分析能够准确掌握桥梁健康状态,更好地为桥梁养护措施决策提供依据。对海量监测数据的分析,需要从各种时间尺度上进行挖掘和分析。面对庞大监测数据集,传统方法未能充分利用监测数据在各种时间尺度上蕴含的信息,从海量数据中高效挖掘数据演变规律。提出一种桥梁建筑质量运营监测数据处理方法,首先运用Hadoop平台执行清洗监测数据、剔除无关数据和补齐缺失数据等预处理操作,将预处理结果作为样本集。然后并行化改进时间序列算法,并构建监测模型。利用实际采集数据进行仿真。仿真结果表明,运用Hadoop平台对监测数据的并行处理效率明显高于传统方法,能够对采集的海量数据进行高效的分析和准确地预测,为桥梁建筑养护措施提供科学依据。\n",
      "\n"
     ]
    },
    {
     "name": "stderr",
     "output_type": "stream",
     "text": [
      "\r",
      " 11%|█         | 110/1000 [00:54<06:44,  2.20it/s]"
     ]
    },
    {
     "name": "stdout",
     "output_type": "stream",
     "text": [
      "关 系 型 数 据 库 信 息 资 源 检 索 结 果 分 类 方 法 仿 真\n",
      "基 于 协 同 微 粒 群 的 关 系 型 数 据 库 信 息 资 源 检 索 结 果 分 类\n",
      "针对当前数据库信息资源检索结果分类方法准确率和查全率较低的问题,提出基于协同微粒群的关系型数据库信息资源检索结果分类方法,将信息资源检索结果进行标准化,计算标准化后检索结果的协方差,并将其最大值定义为数据库信息资源检索结果预处理目标函数。将方差最大值的求解转换成对样本最大值进行求解,引入拉格朗日系数对目标函数求解,期间融合了数据过滤器,实现检索结果预处理。初始化微粒群,通过骨干微粒群法对微粒位置进行更新。计算微粒适应度值,对微粒群之间的相似性进行判断,将相似的微粒群合并。检测当前运行状态满足终止条件与否和信息资源检索结果流结束与否,对未结束的检索结果数据流类中心变化位置进行预测,一直到不再接收资源检索结果,将最终分类结果输出。实验结果表明,所提方法分类准确性和查全性均较为理想,可行性也高于当前相关方法。\n",
      "\n"
     ]
    },
    {
     "name": "stderr",
     "output_type": "stream",
     "text": [
      "\r",
      " 11%|█         | 111/1000 [00:54<07:01,  2.11it/s]"
     ]
    },
    {
     "name": "stdout",
     "output_type": "stream",
     "text": [
      "稳 态 网 络 海 量 可 公 开 数 据 完 整 性 高 效 检 测 仿 真\n",
      "稳 态 网 络 海 量 可 公 开 数 据 完 整 性 高 效 检 测 仿 真\n",
      "当前数据完整性检测方法运行复杂度高、检测覆盖性较差,提出基于双线性对的稳态网络海量可公开数据完整性检测方法。将稳态网络中的各数据用一个阅读器表示,阅读器对其范围内的数据标签进行阅读,将阅读到的结果传送到中间件,中间件将所得标签保存并构成阅读器-标签函数。据此函数对相邻阅读器覆盖密度进行计算,以获取阅读器权重,对权重值进行排列,将具有较小权重的阅读器确定为冗余阅读器,将其清洗掉。将数据清洗结果代入数据完整性检测中,对稳态网络进行划分,使其变为两个终端数据相互传输的形式,将双线性对引至数据完整性检测。终端一根据随机的形式选取数据通过第三方外包的形式传送给终端二,终端二将生成的证据返回,并利用对检测等式均衡性的验证判断终端一传输来的数据是否具有完整性。实验表明,上述方法运行复杂系数为0.2,数据完整性检测覆盖性能较强。该方法性能全面,鲁棒性强。\n",
      "\n"
     ]
    },
    {
     "name": "stderr",
     "output_type": "stream",
     "text": [
      "\r",
      " 11%|█         | 112/1000 [00:55<07:24,  2.00it/s]"
     ]
    },
    {
     "name": "stdout",
     "output_type": "stream",
     "text": [
      "冶 炼 高 炉 烧 结 矿 化 学 原 料 配 比 准 确 预 测 仿 真\n",
      "深 度 置 信 网 络 在 烧 结 矿 化 学 原 料 配 比 准 确 预 测 中 的 应 用\n",
      "冶炼高炉烧结矿化学原料配比准确预测是对烧结矿化学成分提前预报、优化烧结工艺的关键方法。目前烧结矿化学原料配比准确预测的浅层网络算法未能充分发掘烧结过程的本质规律,预测精度不够高,难以应用在实际生产过程中。针对以上问题,通过对烧结过程工艺机理及特征进行深入分析,提出了应用深度学习技术中的深度置信网络算法对烧结矿化学成分进行预测,建立一种以深度置信网络为核心的烧结矿化学原料配比准确预测模型。首先设计深度置信网络结构和参数。通过无监督贪婪算法对模型进行预训练,采用BP网络有监督的反向微调权值,优化整个模型。最后和浅层预测算法进行对比。仿真结果表明,该方法预测值与实际值之间的误差小,预测精度高,相对于其它方法具有明显的优势,表明了深度置信网络应用于烧结矿化学原料配比准确预测的有效性。\n",
      "\n"
     ]
    },
    {
     "name": "stderr",
     "output_type": "stream",
     "text": [
      "\r",
      " 11%|█▏        | 113/1000 [00:55<07:33,  1.96it/s]"
     ]
    },
    {
     "name": "stdout",
     "output_type": "stream",
     "text": [
      "m v i 分 块 标 识 颜 色 特 征 快 速 检 索 仿 真\n",
      "多 媒 体 视 觉 图 像 分 块 标 识 颜 色 特 征 快 速 检 索 仿 真\n",
      "为了提高图像检索的效率,提升多媒体用户对图像检索服务的满意度,针对当前多媒体图像检索方法中存在的检索时间较长以及图像分块特征不明显、分块间的特征差异小,导致检索结果匹配度低的问题,提出了一种基于能量函数的多媒体视觉图像分块标识颜色特征快速检索方法。利用几何分解法对图像进行区域划分,并建立图像子区域标记场;结合高斯分布构建标记场的特征能量函数,通过迭代优化获得最优图像分块。计算各分块像素空间的色彩距离均值,作为图像的颜色特征,并引入一维特征向量来表示。利用距离均值计算得到的图像三原色一维特征向量进行检索,采用图像间的颜色分量距离作为相似性度量,通过加权处理完成图像准确检索。仿真证明,上述方法的的分块效果较好,分块特征明显,检索结果匹配度较高,且检索时间较短。\n",
      "\n"
     ]
    },
    {
     "name": "stderr",
     "output_type": "stream",
     "text": [
      "\r",
      " 11%|█▏        | 114/1000 [00:56<07:41,  1.92it/s]"
     ]
    },
    {
     "name": "stdout",
     "output_type": "stream",
     "text": [
      "基 于 形 态 学 和 小 波 变 换 的 瓷 砖 缺 陷 边 缘 检 测\n",
      "基 于 形 态 学 算 子 和 小 波 变 换 融 合 的 陶 瓷 墙 边 缘 检 测\n",
      "针对传统算法难以检测复杂的不规则花纹瓷砖缺陷的问题,提出一种基于形态学算子和小波变换融合的边缘检测算法。上述算法利用了小波变换能够把图像高低频分离、重构的特性,在经过二层小波变换后,用设计的自适应形态学算子对低频图像中的缺陷、花纹及背景分离;将提出的高通滤波器用于高频轮廓细节信息的提取,重构得到检测的缺陷轮廓。经多组实验对比仿真证明,与通用方法相比,提出的算法能有效地提取复杂背景缺陷轮廓,对瓷砖及其它产品的边缘检测有积极的作用。\n",
      "\n"
     ]
    },
    {
     "name": "stderr",
     "output_type": "stream",
     "text": [
      "\r",
      " 12%|█▏        | 115/1000 [00:56<07:22,  2.00it/s]"
     ]
    },
    {
     "name": "stdout",
     "output_type": "stream",
     "text": [
      "混 沌 背 景 下 无 线 网 络 微 弱 信 号 自 动 检 测 仿 真\n",
      "基 于 经 验 模 态 分 解 的 无 线 网 络 微 弱 信 号 检 测 模 型\n",
      "当前信号检测模型在进行网络微弱信号检测过程中,检测结果存在信号频率分辨较低、误码率相对较高等问题,针对上述问题,提出一种基于经验模态分解的无线网络微弱信号检测模型。采用经验模态分解法对采集到的无线网络观测信号进行分解,对分解获得的多个包含原始信号局部特征的模态分量进行相空间重组,以重组结果构建微弱信号的预测检验模型。将高斯核函数融合于加权最小二乘法,进一步减小模型误差,求解出模型参数。利用模型参数估计信号预测值并计算预测误差,从模型预测误差中检验观测信号中是否含有微弱信号。仿真证明,所提模型对信号频率的分辨率相对较高,检测性能优于对比模型。\n",
      "\n"
     ]
    },
    {
     "name": "stderr",
     "output_type": "stream",
     "text": [
      "\r",
      " 12%|█▏        | 116/1000 [00:57<07:00,  2.10it/s]"
     ]
    },
    {
     "name": "stdout",
     "output_type": "stream",
     "text": [
      "关 于 移 动 网 络 数 据 流 断 点 区 优 化 检 测 仿 真 研 究\n",
      "移 动 网 络 数 据 流 断 点 区 优 化 检 测 算 法 研 究\n",
      "数据流断点区检测用于挖掘识别动态数据流中的异常数据,由于移动网络数据流具有无限输入与动态变化等特征,针对现有算法存在对动态数据的聚类精度不高、离群点的处理效率较差的缺陷,难以实现移动网络环境下数据流断点区的实时高精度检测,提出了一种改进加权近邻密度的动态数据流断点区优化检测算法。上述算法利用微簇的密度来发现数据流中的离群点与簇连接,用以表示动态数据流的演化信息,为了更准确体现数据流的原始特征,在算法模型中引进了动态簇更新维护机制,并且通过改进权值邻近算法,当计算模型检测出有新对象类产生,根据聚类算法重建计算模型,这样既能准确实时发现海量数据流的变化,同时也减少了计算复杂度。通过仿真数据集进行实验分析,验证了提出的优化动态数据流断点区域检测方法在移动网络数据流离群数据检测挖掘方面的有效性,聚类检测的精度与效率具有明显优势。\n",
      "\n"
     ]
    },
    {
     "name": "stderr",
     "output_type": "stream",
     "text": [
      "\r",
      " 12%|█▏        | 117/1000 [00:57<07:02,  2.09it/s]"
     ]
    },
    {
     "name": "stdout",
     "output_type": "stream",
     "text": [
      "钝 性 胸 部 损 伤 病 灶 形 态 准 确 分 类 仿 真 研 究\n",
      "基 于 改 进 机 器 学 习 的 胸 部 损 伤 图 像 分 类 方 法 研 究\n",
      "钝性胸部损伤后胸壁可保持完整性,对其病灶形态进行分类可准确反应血管壁损害程度,为手术决策提供明确的参考价值。通过提取胸部损伤图像的纹理特征,解决高维特征空间中存在的维数灾难问题,完成胸部损伤图像的准确分类。传统方法仅考虑胸部损伤图像的纹理特征,未考虑高维特征空间的维数问题,导致胸部损伤图像分类准确度偏低。提出新的基于改进机器学习算法准确分类钝性胸部损伤病灶形态。采用区域灰度级直方图统计矩,提取胸部图像中存在的纹理特征。根据胸部图像纹理特征,将胸部损伤图像的输入空间转变到高维特征空间中,并根据结构风险最小化原则寻找最优线性分类面,通过核函数方法解决高维特征空间中存在的维数灾难问题,对钝性胸部损伤病灶形态进行分类。实验结果表明,所提方法的分类效率高、分类结果较为精准,可为胸部损伤诊断及进一步手术处理提供必要的理论依据。\n",
      "\n"
     ]
    },
    {
     "name": "stderr",
     "output_type": "stream",
     "text": [
      "\r",
      " 12%|█▏        | 118/1000 [00:58<06:35,  2.23it/s]"
     ]
    },
    {
     "name": "stdout",
     "output_type": "stream",
     "text": [
      "城 市 公 共 服 务 设 施 空 间 布 局 最 优 规 划 方 法 仿 真\n",
      "城 市 公 共 服 务 设 施 空 间 布 局 最 优 规 划 方 法\n",
      "现今社会公共服务设施的组织结构松散,不利于公共服务的发展和进步,因此找到一种能够对城市公共服务设施进行最优规划的方法是非常重要的。针对当前方法存在的重复率高,利用率低的资源浪费问题,提出了一种基于空间布局规划模型和土地利用特征的空间布局规划方法,根据规划因素的属性将空间布局的规划方案分成m’个分系统,采用单因素模方根法对方案中因素的优度值进行计算,将每一个分系统作为一个因素,分别求出每个决策方案的综合优度值,完成对公共服务设施空间布局模型的创建。在上述创建的模型基础上,对公共服务设施按照先后顺序对土地斑块的分维数、形态和离散指数进行计算,利用计算出的结果对城市公共服务设施空间布局进行最优规划。实验结果表明,所提方法能够对城市公共服务设施空间布局进行最优规划,并且公共服务设施具有重复率低,利用率高的优点。\n",
      "\n"
     ]
    },
    {
     "name": "stderr",
     "output_type": "stream",
     "text": [
      "\r",
      " 12%|█▏        | 119/1000 [00:58<07:29,  1.96it/s]"
     ]
    },
    {
     "name": "stdout",
     "output_type": "stream",
     "text": [
      "1 m v ～ 1 0 m v 直 流 电 压 的 高 准 确 度 校 准\n",
      "基 于 多 用 表 的 1 m v ～ 1 0 m v 直 流 电 压 校 准 方 法\n",
      "针对1mV～10mV直流电压溯源方面存在的问题,提出采用恒流源、标准取样电阻和标准直流电压表的方法对较小的直流电压进行校准。采用5720A输出稳定的直流电流,用742A作为取样电阻,用8508A作为标准直流电压表,根据欧姆定律进行校准工作,并给出了消除或减小校准过程中存在的各种影响量的途径。对数字多用表8508A进行校准,分别评定了1mV、10mV点的测量不确定度,通过与分压箱法的对比和传递比较法验证,证明了取样电阻法的可行性和准确性,能够满足1mV～10mV小电压校准需求。\n",
      "\n"
     ]
    },
    {
     "name": "stderr",
     "output_type": "stream",
     "text": [
      "\r",
      " 12%|█▏        | 120/1000 [00:59<07:05,  2.07it/s]"
     ]
    },
    {
     "name": "stdout",
     "output_type": "stream",
     "text": [
      "二 氧 化 硅 膜 厚 标 准 样 片 的 研 制 与 评 价\n",
      "基 于 p e c v d 的 二 氧 化 硅 膜 厚 样 片 设 计\n",
      "介绍了二氧化硅膜厚标准样片的用途及国内研制样片的情况,设计了二氧化硅膜厚样片的制作版图,分别采用热氧化和等离子化学气相淀积(PECVD)工艺制备了厚度为10nm～1000nm的硅上二氧化硅膜厚样片。以10nm、1000nm为例对样片的薄膜厚度、均匀性、稳定性进行了考核。结果表明,热氧化工艺制备的膜厚样片质量优于PECVD工艺制备的膜厚样片,研制的膜厚样片的膜厚量值与设计值基本一致,稳定性好,与美国VLSI公司的相同膜厚的膜厚标准样片相比,采用热氧化工艺制作的二氧化硅膜厚样片的均匀性与VLSI样块评价测量结果一致。\n",
      "\n"
     ]
    },
    {
     "name": "stderr",
     "output_type": "stream",
     "text": [
      "\r",
      " 12%|█▏        | 121/1000 [00:59<06:38,  2.21it/s]"
     ]
    },
    {
     "name": "stdout",
     "output_type": "stream",
     "text": [
      "基 于 l a b v i e w 的 高 速 加 载 板 自 动 校 准 技 术 研 究\n",
      "基 于 l a b v i e w 的 高 速 加 载 板 自 动 校 准 技 术 研 究\n",
      "加载板是集成电路测试系统进行测试的必要组部分,当传输速率高于200Mbps或者信号上升时间小于1ns时,加载板的性能对信号完整性产生较大的影响,需要定期对加载板进行校准。论文提出了基于LabVIEW的高速加载板自动校准方法和具体实施方案。\n",
      "\n"
     ]
    },
    {
     "name": "stderr",
     "output_type": "stream",
     "text": [
      "\r",
      " 12%|█▏        | 122/1000 [01:00<06:24,  2.28it/s]"
     ]
    },
    {
     "name": "stdout",
     "output_type": "stream",
     "text": [
      "基 于 标 准 样 片 的 集 成 电 路 测 试 系 统 校 准 装 置 研 究\n",
      "基 于 标 准 样 片 的 集 成 电 路 测 试 系 统 校 准 装 置 设 计\n",
      "标准样片是实现微电子量值溯源和传递的良好途径,而基于标准样片的集成电路测试系统校准装置使得标准样片的量值可以准确可靠地传递到测试系统每个通道上,满足测试系统全通道覆盖的校准需求。论文提出了一种基于标准样片的集成电路测试系统校准装置架构设计方法,该设计方案具备一定的创新性,可以实现校准装置的通用性、便携性以及校准过程的自动化。\n",
      "\n"
     ]
    },
    {
     "name": "stderr",
     "output_type": "stream",
     "text": [
      "\r",
      " 12%|█▏        | 123/1000 [01:00<05:56,  2.46it/s]"
     ]
    },
    {
     "name": "stdout",
     "output_type": "stream",
     "text": [
      "高 精 度 微 波 夹 具 设 计 中 的 t r l 校 准 技 术\n",
      "面 向 微 波 器 件 的 t l s 校 准 技 术 研 究\n",
      "TRL校准是一种非常精确的校准方式,尤其适用于非标准接口的微波器件S参数的精确测试。论文探讨了有关TRL校准技术,从TRL校准技术理论模型分析,到设计TRL校准件的要求,到设计TRL校准件时需考虑的因素,对TRL校准技术做了较全面的介绍。\n",
      "\n"
     ]
    },
    {
     "name": "stderr",
     "output_type": "stream",
     "text": [
      "\r",
      " 12%|█▏        | 124/1000 [01:00<05:50,  2.50it/s]"
     ]
    },
    {
     "name": "stdout",
     "output_type": "stream",
     "text": [
      "集 成 电 路 延 迟 时 间 测 量 结 果 的 不 确 定 度 评 定\n",
      "半 导 体 器 件 集 成 电 路 不 确 定 度 的 评 定\n",
      "采用GB/T17574-1998《半导体器件集成电路第2部分:数字集成电路》[1]第Ⅳ篇测试方法第3节动态测试的测试方法分别对某运算放大器、开关驱动器和标准模块的延迟时间进行测试,并按JJF1059.1-2012《测量不确定度评定与表示》[2]、CNAS-CL07:2011《测量不确定度的要求》[3]、CNAS-GL08:2006《电器领域不确定度的评估指南》[4]的要求,对测量结果进行不确定度评定[5]。\n",
      "\n"
     ]
    },
    {
     "name": "stderr",
     "output_type": "stream",
     "text": [
      "\r",
      " 12%|█▎        | 125/1000 [01:01<05:14,  2.78it/s]"
     ]
    },
    {
     "name": "stdout",
     "output_type": "stream",
     "text": [
      "基 于 片 上 l o o p b a c k 的 f p g a   d d r 模 块 串 行 测 试 方 法\n",
      "基 于 c h o r d 算 法 的 d d r 模 块 测 试 设 计\n",
      "文章分析了Virtex FPGA中DDR模块的特点,设计了基于Loopback方法的DDR模块测试电路结构。该结构采用FPGA IOBUF构建了片上测试环路,实现了IDDR与ODDR的串行组合测试。与传统并行测试方法相比,串行测试仅需使用12路测试通道,同时将配置次数从16次减少到6次,可显著减少DDR模块的测试时间。\n",
      "\n"
     ]
    },
    {
     "name": "stderr",
     "output_type": "stream",
     "text": [
      "\r",
      " 13%|█▎        | 126/1000 [01:01<05:00,  2.91it/s]"
     ]
    },
    {
     "name": "stdout",
     "output_type": "stream",
     "text": [
      "d d r 器 件 关 键 测 试 向 量 的 设 计\n",
      "双 倍 数 据 速 率 计 组 件 设 计 研 究\n",
      "双倍数据速率(Double Data Rate,DDR)DRAM由于其速度快、容量大,而且价格便宜,在各种需求大量数据缓存的场合得到了广泛使用。论文介绍了DDR器件的基本工作原理及需重点关注的操作过程,通过建立合适的时序关系,基于ATE设计测试向量,实现DDR器件的功能测试。\n",
      "\n"
     ]
    },
    {
     "name": "stderr",
     "output_type": "stream",
     "text": [
      "\r",
      " 13%|█▎        | 127/1000 [01:01<05:37,  2.59it/s]"
     ]
    },
    {
     "name": "stdout",
     "output_type": "stream",
     "text": [
      "m e m s 惯 性 器 件 典 型 参 数 测 试 技 术 研 究\n",
      "基 于 p x i 的 m e m s 陀 螺 器 件 测 试 系 统 硬 件 平 台 设 计\n",
      "论文介绍了MEMS的概念及典型MEMS器件的基本工作原理,选取了某款MEMS陀螺器件作为测试研究对象,分析了其测试参数,按照参数的特性对各个参数进行了分类,并研究了器件的典型参数性的测试方法。此外,论文提出了一种基于NI的PXI的MEMS陀螺器件测试平台,借助双轴速率转台、振动台以及温箱搭建了MEMS陀螺器件测试系统的硬件平台,对硬件平台的硬件选型进行了阐述。系统的软件部分采用LabVIEW语言编写,采用了模块化的思路对控制软件进行了模块划分,并对系统的测试软件部分的设计要点进行了论述。\n",
      "\n"
     ]
    },
    {
     "name": "stderr",
     "output_type": "stream",
     "text": [
      "\r",
      " 13%|█▎        | 128/1000 [01:02<05:18,  2.74it/s]"
     ]
    },
    {
     "name": "stdout",
     "output_type": "stream",
     "text": [
      "高 速 模 数 转 换 器 r h f 1 2 0 1 测 试 技 术 研 究\n",
      "高 速 模 数 转 换 器 r h f 1 2 0 1 测 试 技 术 研 究\n",
      "论文介绍高速模数转换器RHF1201特性,在测试项目动态参数开发过程如何选择合适的测试资源,设计适合器件测试的接口电路,减少噪声的引入满足动态参数的测试。\n",
      "\n"
     ]
    },
    {
     "name": "stderr",
     "output_type": "stream",
     "text": [
      "\r",
      " 13%|█▎        | 129/1000 [01:02<05:34,  2.60it/s]"
     ]
    },
    {
     "name": "stdout",
     "output_type": "stream",
     "text": [
      "宇 航 用 高 速 模 数 转 换 器 b 9 2 4 3 的 测 试 与 评 估\n",
      "基 于 m i c r o   f l e x 的 高 速 a d 转 换 器 b 9 1 3 测 试 技 术 研 究\n",
      "介绍了宇航用高速AD转换器B9243的应用、测试原理、测试方法、测试线路设计等方面,重点介绍了使用大规模混合信号测试系统Micro FLEX对B9243的静态参数和动态参数进行测试的方法,以及如何在测试过程中进行噪声的抑制以提高动态参数的测试准确度。\n",
      "\n"
     ]
    },
    {
     "name": "stderr",
     "output_type": "stream",
     "text": [
      "\r",
      " 13%|█▎        | 130/1000 [01:02<05:10,  2.80it/s]"
     ]
    },
    {
     "name": "stdout",
     "output_type": "stream",
     "text": [
      "广 域 a d c 误 差 修 正 测 试 方 法 研 究\n",
      "广 域 a d c 集 成 电 路 测 试 技 术 研 究\n",
      "针对广域ADC集成电路测试精度不高的问题,设计了广域ADC测试的外围电路布局,分析了因外围电路的引入而产生的系统误差源,研究了基于系统误差的误差修正补偿算法,提高了广域ADC集成电路的测试精度。由系统模拟源通过外围电路同时向广域ADC和高精度ADC输入斜波信号,对输出数字码进行误差修正处理,消除系统误差。并在大规模数模混合测试设备Catalyst-200上验证了算法的可靠性和精确性。实验结果表明,该方法能够有效地提高广域ADC的测试精度,保证了广域ADC测试结果的可靠性,具有较强的工程实用性和市场前景性。\n",
      "\n"
     ]
    },
    {
     "name": "stderr",
     "output_type": "stream",
     "text": [
      "\r",
      " 13%|█▎        | 131/1000 [01:03<05:06,  2.84it/s]"
     ]
    },
    {
     "name": "stdout",
     "output_type": "stream",
     "text": [
      "基 于 j 7 5 0 e x 的 鼠 标 控 制 器 测 试 技 术 研 究\n",
      "基 于 e m 8 5 0 e 的 鼠 标 控 制 器 设 计\n",
      "鼠标控制器是一种应用十分广泛的集成电路。论文以EM84510芯片为例,通过分析鼠标控制器的结构和应用,研究了在J750Ex集成电路自动测试系统上测试鼠标控制器的方法。通过分析J750Ex测试系统的标志位和跳转指令,提出了在J750Ex上进行测试向量同步匹配的方法和具体实施方案。针对鼠标控制器测试耗时长的问题,充分利用芯片的IO管脚和测试系统的测试通道,采用外接电阻进行振荡和灌入时钟两种方法进行测试,并设计专门的测试适配器,即保障了测试覆盖率,又降低了测试成本。\n",
      "\n"
     ]
    },
    {
     "name": "stderr",
     "output_type": "stream",
     "text": [
      "\r",
      " 13%|█▎        | 132/1000 [01:03<05:14,  2.76it/s]"
     ]
    },
    {
     "name": "stdout",
     "output_type": "stream",
     "text": [
      "浪 涌 抑 制 器 瞬 态 尖 峰 电 压 测 试 后 失 效 原 因 分 析\n",
      "瞬 态 尖 峰 电 压 测 试 后 失 效 的 分 析 与 预 防\n",
      "论文根据浪涌抑制器在瞬态尖峰电压测试后失效的现象,对器件失效部位进行故障定位并对器件内部电路图进行拍照分析,分析研究电路原理以及相关测试标准,建立了故障树,逐一分析排除,得出了器件在瞬态尖峰电压测试后失效的原因,并进行了故障复现,提出了预防解决措施。\n",
      "\n"
     ]
    },
    {
     "name": "stderr",
     "output_type": "stream",
     "text": [
      "\r",
      " 13%|█▎        | 133/1000 [01:03<04:39,  3.10it/s]"
     ]
    },
    {
     "name": "stdout",
     "output_type": "stream",
     "text": [
      "滤 波 器 测 试 中 夹 具 的 影 响 及 一 种 高 精 度 通 用 测 试 夹 具 的 设 计\n",
      "一 种 高 精 度 通 用 测 试 夹 具 的 设 计\n",
      "论文简述了滤波器的主要技术指标以及利用矢量网络分析仪测试的基本原理,通过一种简易测试夹具对两种中心频率不同的滤波器进行了检测,分析了夹具对滤波器的测试影响,并提出了一种高精度通用测试夹具的设计方案。\n",
      "\n"
     ]
    },
    {
     "name": "stderr",
     "output_type": "stream",
     "text": [
      "\r",
      " 13%|█▎        | 134/1000 [01:04<04:41,  3.08it/s]"
     ]
    },
    {
     "name": "stdout",
     "output_type": "stream",
     "text": [
      "基 于 i 9 0 0 0 系 统 的 d c - d c 电 源 模 块 测 试 夹 具 设 计\n",
      "基 于 i 9 0 0 0 电 源 模 块 测 试 夹 具 的 设 计 研 究\n",
      "测试夹具是连接测试系统与电源模块的装置,也是实现测试的必要装置,在测试系统中起着不可替代的作用,直接影响到测试的准确性、全面性、安全性。文章基于I9000电源模块测试系统,将测试需求融入到测试夹具设计中,利用通用硬件资源,采用系统资源独立输出连接,压流分开的原则,开发通用型测试环境、测试夹具,解决目前电源模块参数测试不全面、测试效率低以及大批量、多种类、多封装形式DC-DC电源模块测试需求的问题。\n",
      "\n"
     ]
    },
    {
     "name": "stderr",
     "output_type": "stream",
     "text": [
      "\r",
      " 14%|█▎        | 135/1000 [01:04<05:21,  2.69it/s]"
     ]
    },
    {
     "name": "stdout",
     "output_type": "stream",
     "text": [
      "非 同 轴 微 波 器 件 测 试 夹 具 设 计 方 法 研 究 与 探 讨\n",
      "非 同 轴 微 波 器 件 的 测 试 夹 具 的 校 准 研 究\n",
      "论文根据非同轴微波器件的测试原理,提出非同轴微波器件的难点是测试夹具的设计,介绍了设计非同轴微波器件测试夹具的设计方法,包括结构设计方法和电路设计方法两个方面。文章还提出要实现非同轴微波器件的准确测试,需要对夹具实现校准,并且介绍了夹具校准的四种方法来实现对夹具的校准,包括端口延伸法、夹具上校准法、利用时间域和时间门功能的方法和去嵌入处理法。最后文章总结了非同轴微波器件夹具合理设计具有的意义。\n",
      "\n"
     ]
    },
    {
     "name": "stderr",
     "output_type": "stream",
     "text": [
      "\r",
      " 14%|█▎        | 136/1000 [01:05<05:13,  2.76it/s]"
     ]
    },
    {
     "name": "stdout",
     "output_type": "stream",
     "text": [
      "l e d 光 通 信 系 统 中 的 传 输 可 靠 性 研 究\n",
      "基 于 r a p t o r 码 的 v l c 差 错 控 制 方 案\n",
      "针对采用OOK调制的可见光通信(Visible Light Communication,VLC)系统,提出了基于Raptor码的差错控制方案。为了实现需要的照明要求,该方案利用扰码和补码实现调光控制。由于嵌入的Raptor码,该方案冗余率低、效率高、抗干扰能力强以及复杂度低。与现存的VLC系统的差错控制方案相比,该方案更加可靠和实用。\n",
      "\n"
     ]
    },
    {
     "name": "stderr",
     "output_type": "stream",
     "text": [
      "\r",
      " 14%|█▎        | 137/1000 [01:05<05:26,  2.64it/s]"
     ]
    },
    {
     "name": "stdout",
     "output_type": "stream",
     "text": [
      "f p g a 大 气 中 子 辐 射 效 应 仿 真 研 究\n",
      "基 于 f p g a 大 气 中 子 辐 射 效 应 仿 真 研 究\n",
      "论文开展FPGA大气中子辐射效应仿真研究,通过分析FPGA尤其是SRAM型FPGA在临近空间内的运行环境,发现其容易受到临近空间中大气中子的辐射影响,发生单粒子翻转。造成这一现象的主要原因在于,SRAM型FPGA内部存储单元中的NMOS管受大气中子辐射影响,其漏极产生瞬态电流脉冲,进而影响整个FPGA的功能。《NMOS大气中子辐射效应研究》通过TCAD仿真软件,得出不同能量大气中子以及不同尺寸NMOS管等情况下,NMOS管漏极产生的漏极瞬态脉冲电流,论文利用该仿真结果,进行SRAM存储单元的电路仿真分析,得出FPGA受大气中子辐射发生单粒子翻转主要影响因素。\n",
      "\n"
     ]
    },
    {
     "name": "stderr",
     "output_type": "stream",
     "text": [
      "\r",
      " 14%|█▍        | 138/1000 [01:05<05:15,  2.74it/s]"
     ]
    },
    {
     "name": "stdout",
     "output_type": "stream",
     "text": [
      "基 于 差 分 定 位 算 法 的 波 形 恢 复 技 术\n",
      "集 成 电 路 测 试 通 道 传 输 延 迟 时 间 测 量 方 法 研 究\n",
      "集成电路测试系统测试通道传输延迟时间测量过程中,受边界条件影响,测量信号的回波出现部分信号丢失的情况,直接影响测量结果。通过差分定位算法,进行一次补充测量,可以恢复丢失的回波信号,给出准确地传输延迟时间测量结果。论文通过实验,验证了差分定位算法技术可行,结果准确度较高。\n",
      "\n"
     ]
    },
    {
     "name": "stderr",
     "output_type": "stream",
     "text": [
      "\r",
      " 14%|█▍        | 139/1000 [01:06<05:00,  2.87it/s]"
     ]
    },
    {
     "name": "stdout",
     "output_type": "stream",
     "text": [
      "基 于 多 点 合 作 的 分 段 式 内 容 分 发 技 术 研 究\n",
      "一 种 移 动 d 2 d 网 络 资 源 规 划 技 术\n",
      "D2D通信技术存在着通信范围受限、网络拓扑不稳定等问题。针对移动网络中缓存资源非结构化且分布不均的缺陷,研究了移动D2D网络资源规划问题,提出了区域协作缓存资源规划机制;同时考虑移动D2D网络单节点缓存容量受限、利用率低,单区域对用户移动路径覆盖不足的特点,提出了基于区域协作缓存的移动内容分发机制。论文提出了一种基于区域协作缓存的移动内容分发技术,以期提升移动D2D网络环境下的内容分发效率,通过仿真试验验证了该技术的有效性。\n",
      "\n"
     ]
    },
    {
     "name": "stderr",
     "output_type": "stream",
     "text": [
      "\r",
      " 14%|█▍        | 140/1000 [01:06<05:22,  2.66it/s]"
     ]
    },
    {
     "name": "stdout",
     "output_type": "stream",
     "text": [
      "基 于 图 像 处 理 的 微 小 片 式 元 件 自 动 计 数 算 法\n",
      "基 于 图 像 处 理 的 微 小 片 式 元 件 自 动 计 数 算 法\n",
      "为了解决人工计数微小片式元件低效、耗时并且容易产生计数误差问题,对基于图像处理的微小片式元件自动计数算法进行了研究,提出一种结合Canny算子的图像分割方法,有效地提高了图像分割的准确性,并采用轮廓回填抹除图像逐次分割方法提高算法效率。设计了基于图像处理的微小片式元件自动计数系统,计数结果准确率高,计数效率高,表明该算法实现了微小片式元件的实时高精度计数。\n",
      "\n"
     ]
    },
    {
     "name": "stderr",
     "output_type": "stream",
     "text": [
      "\r",
      " 14%|█▍        | 141/1000 [01:06<05:41,  2.52it/s]"
     ]
    },
    {
     "name": "stdout",
     "output_type": "stream",
     "text": [
      "低 字 典 相 干 性 k - s v d 算 法 研 究\n",
      "一 种 低 相 干 性 的 k - s v d 字 典 学 习 算 法\n",
      "K-SVD是非常经典的字典学习算法,该算法对稀疏系数矩阵和字典矩阵同时更新,在一定程度上提高了算法收敛速度,降低了运算复杂度。但是该算法得到的字典中噪音原子和无噪原子相似度高,因此字典的相干性较高。为了降低字典相干性,论文基于K-SVD算法,提出了一种低相干性字典学习的方法,即在K-SVD算法极小化目标函数下,添加了一项刻画字典相干性的惩罚项,并将学习得到的字典用于图像去噪。实验结果表明该方法不仅保证了信号恢复高度一致性和字典低相干性这两个目标,还提高了稀疏编码算法的收敛速度,从而在图像去噪中获得高质量的图像。\n",
      "\n"
     ]
    },
    {
     "name": "stderr",
     "output_type": "stream",
     "text": [
      "\r",
      " 14%|█▍        | 142/1000 [01:07<05:25,  2.64it/s]"
     ]
    },
    {
     "name": "stdout",
     "output_type": "stream",
     "text": [
      "带 惩 罚 费 用 的 多 重 任 务 排 序 问 题\n",
      "带 惩 罚 费 用 的 多 重 任 务 排 序 问 题\n",
      "提出带惩罚费用的多重任务排序问题,即每个用户提交多个加工时间和惩罚费用相同的任务。每个用户提交的任务要么全部被接受,并被安排在平行机上处理,或者全部被拒绝,并产生惩罚费用。目标是寻找一个排序方案,使得机器的最大完工时间与所有被拒绝用户的惩罚费用之和最小。设计了一般情形下的一个强多项式时间2-近似算法和机器数为固定常数时的一个全多项式时间近似方案。特别地,当机器数为2时,设计了一个竞争比为1.618的最优在线算法。\n",
      "\n"
     ]
    },
    {
     "name": "stderr",
     "output_type": "stream",
     "text": [
      "\r",
      " 14%|█▍        | 143/1000 [01:07<05:58,  2.39it/s]"
     ]
    },
    {
     "name": "stdout",
     "output_type": "stream",
     "text": [
      "合 取 型 集 值 序 信 息 系 统 组 合 熵 和 组 合 粒 度 研 究\n",
      "合 取 型 集 值 序 信 息 系 统 组 合 熵 和 组 合 粒 度 研 究\n",
      "首先文章在讨论合取型集值序信息系统优势关系的性质和定理的基础上,定义了合取型集值序信息系统优势关系的组合熵和组合粒度概念,对优势关系粗细程度的度量进行了研究和探讨;其次,针对满足相同优势关系而没有突出优势程度的情形,构造了带有权值信息的合取型集值序信息系统并定义了新的优势关系;然后在改进后的优势关系中,引入组合熵与组合粒度对其不确定性的度量进行研究,结果表明改进后的优势关系的组合熵与组合粒度所满足的结论与改进前一致,即随着优势关系粒度的逐步变细,其组合熵逐步递增,组合粒度逐步递减,并通过实例进行了验证,从而为进一步揭示集值序信息系统的不确定性度量规律提供了理论依据。\n",
      "\n"
     ]
    },
    {
     "name": "stderr",
     "output_type": "stream",
     "text": [
      "\r",
      " 14%|█▍        | 144/1000 [01:08<05:45,  2.48it/s]"
     ]
    },
    {
     "name": "stdout",
     "output_type": "stream",
     "text": [
      "改 进 广 义 预 测 算 法 的 n c s 时 延 补 偿\n",
      "一 种 基 于 最 小 方 差 控 制 的 广 义 预 测 控 制 算 法\n",
      "针对传统广义预测控制算法在以太网网络控制系统中存在的计算量大、系统复杂、实时性不足等缺点,文中采用了一种基于最小方差控制的广义预测控制算法,避免了Diophantine方程的求解,减少了计算时间,保证了网络控制系统的实时性。实验仿真表明,改进的广义预测控制算法能够很好地补偿时延对系统性能的影响,提高了系统的控制精度。\n",
      "\n"
     ]
    },
    {
     "name": "stderr",
     "output_type": "stream",
     "text": [
      "\r",
      " 14%|█▍        | 145/1000 [01:08<05:47,  2.46it/s]"
     ]
    },
    {
     "name": "stdout",
     "output_type": "stream",
     "text": [
      "一 种 新 型 有 向 加 权 协 同 过 滤 算 法 的 推 荐 技 术 研 究\n",
      "基 于 有 向 加 权 相 似 度 协 同 过 滤 改 进 算 法\n",
      "\"在\"\"互联网+\"\"的大数据时代,要获得有价值的信息需耗费大量的时间与精力,网络资源个性化推荐技术有望解决这个问题。研究指出修正协同过滤算法的优点及不足,重点就重合因子的不足进行修正和改进,从而推荐一种新的基于有向重合因子的相似度修正方法。以四个不同稀疏度的数据集为样本进行实践论证,通过算法的分析对比得到结论,各数据集中DWSCF(有向加权相似度协同过滤算法)效率最高,其次为JSCF(Jaccard修正协同过滤算法)及WSCF(加权相似度协同过滤算法),最低的是CF(协同过滤算法),大量样本数据验证了创新的基于有向加权相似度协同过滤改进算法是有效和可行的。\"\n",
      "\n"
     ]
    },
    {
     "name": "stderr",
     "output_type": "stream",
     "text": [
      "\r",
      " 15%|█▍        | 146/1000 [01:09<06:42,  2.12it/s]"
     ]
    },
    {
     "name": "stdout",
     "output_type": "stream",
     "text": [
      "基 于 随 机 约 束 粒 子 群 算 法 的 配 电 网 重 构\n",
      "基 于 等 概 率 转 换 和 c h o l e s k y 分 解 的 配 电 网 机 会 约 束 重 构 模 型\n",
      "针对同一地区的风速、光照强度和负荷均受各种气象因素的随机性影响,其影响因素具有一定的相关性,因此,为得到准确的配电网重构方案,不能忽略不确定性和相关性导致的误差。论文基于等概率转换和Cholesky分解,提出了同时计及风速、光照强度和负荷相关性的随机潮流方法,并在此基础上,引入机会约束理论,以满足一定置信水平的有功网损悲观值为目标,建立了配电网的机会约束重构模型。以IEEE-33节点配电系统为例进行验证,计算结果表明,配电网的随机潮流和重构结果均受到风速、光照强度和负荷间相关程度强弱的影响。\n",
      "\n"
     ]
    },
    {
     "name": "stderr",
     "output_type": "stream",
     "text": [
      "\r",
      " 15%|█▍        | 147/1000 [01:09<06:53,  2.06it/s]"
     ]
    },
    {
     "name": "stdout",
     "output_type": "stream",
     "text": [
      "无 人 水 面 艇 响 应 模 型 的 参 数 辨 识 方 法 研 究\n",
      "基 于 z 形 操 纵 运 动 响 应 和 分 步 数 据 处 理 的 无 人 艇 辨 识\n",
      "为实现有效操控无人艇,需要首先建立无人艇操纵运动响应模型,并获得可靠的模型参数;在多组实船Z形操舵和定常回转试验数据分析的基础上,分别利用野本标准Z形操纵试验法、最小二乘递推算法和分步数据处理法,对无人艇的模型参数进行辨识;通过仿真实验与实船试验数据对比分析,证明分步数据处理法能够有效辨识模型参数,并具备更高的辨识精度。\n",
      "\n"
     ]
    },
    {
     "name": "stderr",
     "output_type": "stream",
     "text": [
      "\r",
      " 15%|█▍        | 148/1000 [01:10<07:02,  2.02it/s]"
     ]
    },
    {
     "name": "stdout",
     "output_type": "stream",
     "text": [
      "基 于 文 本 摘 要 的 影 评 评 分 预 测 研 究\n",
      "基 于 改 进 t e x t r a n k 的 文 本 摘 要 在 长 影 评 评 分 预 测 中 的 应 用\n",
      "电影是世界上最重要的娱乐方式之一,人们通常想通过电影评分或者评论来了解一部电影的好坏。目前互联网上有数千万篇电影评论,需要对这些影评进行探索、分析和总结,以便人们能够更好地做出观影选择。实验在豆瓣长影评的背景下对评分预测进行了分析。为了实现这一目标,在综合了主题相似度、评论句位置等特征的基础上,利用情感分析加入句子的情感特征,提出了改进TextRank的文本摘要算法,采用基于词袋模型的SVM分类器进行评分预测。实验结果表明,压缩率在20%至50%之间的影评摘要文本与完整影评相比得到的准确率基本相同或者更高,证明文本摘要适用于长影评评分预测问题。\n",
      "\n"
     ]
    },
    {
     "name": "stderr",
     "output_type": "stream",
     "text": [
      "\r",
      " 15%|█▍        | 149/1000 [01:10<06:11,  2.29it/s]"
     ]
    },
    {
     "name": "stdout",
     "output_type": "stream",
     "text": [
      "最 佳 噪 声 系 数 的 接 收 机 系 统 设 计\n",
      "基 于 接 收 机 系 统 噪 声 的 增 益 模 型\n",
      "论文详细分析了噪声和增益之间的关系,建立适用于传统接收机的模型,并以此为基础得到基于接收机系统噪声的最佳点。这种方法可广泛应用于各类接收机系统中,降低接收机系统整机噪声系数。\n",
      "\n"
     ]
    },
    {
     "name": "stderr",
     "output_type": "stream",
     "text": [
      "\r",
      " 15%|█▌        | 150/1000 [01:10<06:00,  2.35it/s]"
     ]
    },
    {
     "name": "stdout",
     "output_type": "stream",
     "text": [
      "云 计 算 环 境 下 安 全 的 极 限 学 习 机 外 包 优 化 部 署 机 制\n",
      "云 环 境 下 安 全 的 e l m 外 包 优 化 部 署 机 制\n",
      "为应对大数据提出的挑战,在对海量数据进行处理分析时,需要大量计算资源与高效的机器学习算法。论文对极限学习机(Extreme Learning Machine,ELM)的云计算外包机制进行研究,提出了云计算环境下安全的ELM外包优化部署机制。该优化部署机制将ELM显式地分为私有部分和公有部分,可有效减少训练时间,并确保算法输入与输出的安全性。私有部分主要负责随机参数的生成以及隐层输出矩阵、输出权重矩阵与中间矩阵的求解。公有部分外包到云计算服务器中,由云计算服务商负责ELM算法中计算量最大的中间矩阵求逆操作。该中间矩阵的逆亦可作为证据以验证结果的正确性和可靠性。在CIFAR-10数据集上的实验结果表明,所提出的优化部署机制可以有效地减轻用户的计算量。\n",
      "\n"
     ]
    },
    {
     "name": "stderr",
     "output_type": "stream",
     "text": [
      "\r",
      " 15%|█▌        | 151/1000 [01:11<05:53,  2.40it/s]"
     ]
    },
    {
     "name": "stdout",
     "output_type": "stream",
     "text": [
      "一 种 基 于 代 数 规 约 的 面 向 服 务 集 成 方 法\n",
      "基 于 代 数 规 约 的 面 向 服 务 集 成 灰 盒 方 法\n",
      "面向服务集成是应用SOA思想实现软件重用的重要基础。目前以黑盒和白盒为主的面向服务集成方法都有它们的局限性:白盒方法侵入系统内部,侵入系统后稳定性方面存在问题,而黑盒方法虽然避免了侵入系统内部,但会增加系统维护和管理工作。因此论文提出一种基于代数规约的面向服务集成灰盒方法,该方法首先通过代数规约技术描述的类子模型和数据流分析对系统进行理解与分析,其次应用改进的聚类分析算法获取服务的架构信息并识别相关模块,然后应用服务封装技术封装服务,最终通过实际的应用案例验证了论文方法的有效性。\n",
      "\n"
     ]
    },
    {
     "name": "stderr",
     "output_type": "stream",
     "text": [
      "\r",
      " 15%|█▌        | 152/1000 [01:11<05:30,  2.56it/s]"
     ]
    },
    {
     "name": "stdout",
     "output_type": "stream",
     "text": [
      "基 于 w o r d 2 v e c 的 网 站 主 题 分 类 研 究\n",
      "基 于 w o r d 2 v e c 的 网 站 主 题 分 类 研 究\n",
      "为了对网站主题高效的进行分类,建立一种基于word2vec的分类模型。针对预先定义的财经、娱乐、军事、科技、健康、体育、教育、社会共八个主题,首先通过word2vec训练得到包含语义的词向量。根据八个主题分别列举对应的特征词,将每个主题的特征词对应的词向量取平均作为该主题的中心词向量。对于待测网站文本,通过DBSCAN聚类提升文本的数据质量,计算文本与各主题的余弦相似度,取最大的作为该文本的所属主题。实验采用8000个文档进行测试,实验结果表明,利用该方法可以高效地对网页文本主题进行分类,有助于更好地了解人们的阅读偏好。\n",
      "\n"
     ]
    },
    {
     "name": "stderr",
     "output_type": "stream",
     "text": [
      "\r",
      " 15%|█▌        | 153/1000 [01:12<05:29,  2.57it/s]"
     ]
    },
    {
     "name": "stdout",
     "output_type": "stream",
     "text": [
      "基 于 并 行 随 机 森 林 的 审 计 大 数 据 疑 点 预 测\n",
      "基 于 改 进 随 机 森 林 算 法 的 审 计 疑 点 预 测 算 法\n",
      "为使审计计划的制定具有科学的数据支撑,在审计大数据背景下,提出基于并行改进随机森林算法的审计疑点预测算法。首先建立基于Hadoop的电力企业审计大数据管理方案,将各电网子系统采集到的异构审计数据整合并存储,在此基础上,实现基于三层MapRaduce的并行化随机森林算法预测审计疑点概率,在保证预测精度的情况下,提高算法运行效率,以满足大数据处理需要。实验结果表示,提出的并行算法运行速率满足大数据要求,预测精确度要优化常用的决策树算法。\n",
      "\n"
     ]
    },
    {
     "name": "stderr",
     "output_type": "stream",
     "text": [
      "\r",
      " 15%|█▌        | 154/1000 [01:12<05:26,  2.59it/s]"
     ]
    },
    {
     "name": "stdout",
     "output_type": "stream",
     "text": [
      "w s n 中 基 于 指 数 算 法 的 互 愈 组 密 钥 分 配 方 案\n",
      "基 于 指 数 算 法 的 互 愈 组 密 钥 分 配 方 案\n",
      "在自愈组密钥分配方案(Self-Healing Group Key Distribution,SGKD)中节点能够依据广播消息中的冗余信息自主恢复丢失的会话密钥。但现有的基于指数算法的SGKD方案不能保证后向安全且不能解决最后一次的密钥丢失问题。为此,论文提出了一种新的互愈组密钥分配方案(Mutual-Healing Group Key Distribution,MGKD),此方案基于指数算法来构建,使用随机数来隐藏节点私钥,使用哈希函数构造广播消息,借助邻居节点弥补SGKD方案的缺憾。实验证明,该方案适用于无线传感器网络(Wireless Sensor Network,WSN)。\n",
      "\n"
     ]
    },
    {
     "name": "stderr",
     "output_type": "stream",
     "text": [
      "\r",
      " 16%|█▌        | 155/1000 [01:12<05:53,  2.39it/s]"
     ]
    },
    {
     "name": "stdout",
     "output_type": "stream",
     "text": [
      "互 联 网 + 模 式 下 a s o n 带 宽 优 化 研 究\n",
      "基 于 多 阵 列 大 数 据 的 无 源 光 网 络 带 宽 动 态 分 配 优 化 机 制\n",
      "无源光网络(PON)作为智能光网络(ASON)主流组网技术在融合网络中的应用倍受欢迎。PON组网的关键技术指标在于带宽灵活分配和时延性能。论文借助OPNET仿真平台搭建以太网无源光网络(EPON)模型,在分析、比较传统带宽动态分配算法局限性的基础上提出一种基于多阵列大数据的带宽动态分配优化机制。最后通过仿真数据的比较来验证优化机制下的算法在信道利用率和时延方面的优越性。\n",
      "\n"
     ]
    },
    {
     "name": "stderr",
     "output_type": "stream",
     "text": [
      "\r",
      " 16%|█▌        | 156/1000 [01:13<05:57,  2.36it/s]"
     ]
    },
    {
     "name": "stdout",
     "output_type": "stream",
     "text": [
      "o p s f l o w : 一 种 面 向 d e v o p s 的 应 用 自 动 化 部 署 引 擎\n",
      "面 向 d e - v o p s : 高 效 动 态 的 应 用 部 署 引 擎 h o p f l o w\n",
      "当前互联网应用飞速发展,用户需求随之也快速变化,应用需要快速迭代与频繁发布,因此,自动化部署是缩短应用发布周期的关键技术之一。DevOps旨在填补开发与运维人员间的鸿沟,实现快速自动化的应用部署。本文面向De-vOps提出了一种高效动态的应用部署引擎OpsFlow,整合应用各层次多种技术、服务和构件以应对各类应用组件的部署问题,从而实现高效的组件组合和自动化的应用组件部署;进而,设计了自动化部署框架,将应用部署分为构建、设计、运行等三个阶段,以自动生成OpsFlow;最后,通过实验评价了生成OpsFlow的开销,并且使用微服务应用的实例研究验证了方法的有效性。\n",
      "\n"
     ]
    },
    {
     "name": "stderr",
     "output_type": "stream",
     "text": [
      "\r",
      " 16%|█▌        | 157/1000 [01:13<06:04,  2.31it/s]"
     ]
    },
    {
     "name": "stdout",
     "output_type": "stream",
     "text": [
      "基 于 h b a s e 的 海 量 冠 字 号 码 多 维 索 引 研 究\n",
      "一 种 基 于 h b a s e 的 海 量 冠 字 号 码 存 储 与 查 询 方 法\n",
      "传统的关系型数据库在处理海量冠字号码数据时面临巨大挑战,系统扩展成本高,难度大。为此,论文采用HBase技术来解决海量冠字号码的存储与查询问题。HBase是云计算平台中一种典型的分布式数据库,对处理海量数据有着很大的优势。由于HBase是基于键值对形式的非关系型数据库,只提供了键值这一种索引方式,所以在实际应用中很难满足多维查询的需求。为了解决这一问题,论文提出了一种基于时间序列与空间曲线结合的索引方式。经理论分析与实验结果证明,该方法能有效支持高吞吐量和多维查询,具有更好的效率。\n",
      "\n"
     ]
    },
    {
     "name": "stderr",
     "output_type": "stream",
     "text": [
      "\r",
      " 16%|█▌        | 158/1000 [01:14<05:52,  2.39it/s]"
     ]
    },
    {
     "name": "stdout",
     "output_type": "stream",
     "text": [
      "两 种 实 现 海 面 舰 船 s a r 成 像 模 拟 的 编 程 语 言 对 比 分 析\n",
      "海 面 舰 船 s a r 成 像 信 号 级 模 拟 设 计 与 实 现\n",
      "首先介绍了海面舰船SAR成像信号级模拟流程,分析了SAR成像模拟主要环节的数据运算的特点。接着介绍了Matlab与Microsoft Visual C++两种开发环境,然后分别从执行效率、点目标及海面舰船方面,对Matlab和C两种编程语言实现的性能进行对比分析。最后,得出有益结论。\n",
      "\n"
     ]
    },
    {
     "name": "stderr",
     "output_type": "stream",
     "text": [
      "\r",
      " 16%|█▌        | 159/1000 [01:14<05:52,  2.39it/s]"
     ]
    },
    {
     "name": "stdout",
     "output_type": "stream",
     "text": [
      "基 于 l e a p   m o t i o n 的 动 态 手 势 识 别 研 究\n",
      "基 于 g e s t e s   v i s u a l i z 系 统 的 动 态 手 势 识 别 技 术\n",
      "基于视觉的手势识别是实现新型人机交互的一项关键技术,有其现实的研究意义。针对动态手势识别过程,开发了一个用于捕获动态手势的Gestures Visualizer系统,利用Leap Motion控制器采集数据信息和隐马尔科夫模型对手势模型进行多次训练和识别。该手势识别过程实现了动态手势数据的录制,通过对录制好的手势序列进行学习获得每个手势的模型,然后通过实验选取最优的特征集和参数,最后进行分类识别。实验结果表明,所提出的动态手势识别方法具有良好的识别率。\n",
      "\n"
     ]
    },
    {
     "name": "stderr",
     "output_type": "stream",
     "text": [
      "\r",
      " 16%|█▌        | 160/1000 [01:15<05:47,  2.42it/s]"
     ]
    },
    {
     "name": "stdout",
     "output_type": "stream",
     "text": [
      "基 于 改 进 分 词 标 注 集 的 中 文 微 博 命 名 实 体 识 别 方 法\n",
      "基 于 l s t m 神 经 网 络 的 中 文 微 博 命 名 体 识 别 研 究\n",
      "近年来微博的快速发展使得非正式文本的命名体识别的研究受到越来越多的关注,同时微博的特点使命名体识别研究面临着诸多挑战。针对中文微博文本词汇新奇,不符合语法,且缺少明显的词边界等特点,结合目前应用广泛的LSTM(Long Short-term Memory)神经网络模型以及条件随机场模型分别用于中文分词任务和命名实体识别任务,用微博语料本身训练模型,然后改进分词标注集,为条件随机场模型提供更准确更多维的特征。在新浪微博数据上进行实验,结果表明本方法相比于通用分词软件和传统四词位分词集在准确率上提高了12%。\n",
      "\n"
     ]
    },
    {
     "name": "stderr",
     "output_type": "stream",
     "text": [
      "\r",
      " 16%|█▌        | 161/1000 [01:15<05:18,  2.64it/s]"
     ]
    },
    {
     "name": "stdout",
     "output_type": "stream",
     "text": [
      "一 种 改 进 的 监 督 l l e 织 物 检 测 算 法\n",
      "一 种 改 进 的 监 督 l l e 织 物 检 测 算 法\n",
      "论文提出一种基于Gabor滤波簇的改进的监督LLE织物检测算法,并用该算法对织物疵点进行仿真实验。实验表明,论文算法能有效突出织物疵点显著性特征,并提高检测准确率,同时优化了检测时间。\n",
      "\n"
     ]
    },
    {
     "name": "stderr",
     "output_type": "stream",
     "text": [
      "\r",
      " 16%|█▌        | 162/1000 [01:15<05:40,  2.46it/s]"
     ]
    },
    {
     "name": "stdout",
     "output_type": "stream",
     "text": [
      "基 于 小 波 分 解 的 客 运 列 车 车 号 定 位 及 阈 值 分 割\n",
      "基 于 小 波 分 解 的 客 运 列 车 车 号 定 位 及 阈 值 分 割\n",
      "针对客运列车车号特征,提出一种基于小波分解的车号定位及阈值分割方法。首先对灰度图像进行中值滤波和拉普拉斯锐化处理,然后采用小波分解和改进的Canny边缘检测算法,并结合形态学处理和车号先验知识对车号精确定位,最后,结合Niblack算法,提出一种连通域个数指导阈值分割的方法。实验结果表明,该算法能适应不同光照条件下多型车厢的车号定位,二值化效果好,具有较好的鲁棒性。\n",
      "\n"
     ]
    },
    {
     "name": "stderr",
     "output_type": "stream",
     "text": [
      "\r",
      " 16%|█▋        | 163/1000 [01:16<05:49,  2.39it/s]"
     ]
    },
    {
     "name": "stdout",
     "output_type": "stream",
     "text": [
      "基 于 镜 像 脸 的 f l d a 单 训 练 样 本 人 脸 识 别 方 法\n",
      "f i s h e r 线 性 判 别 分 析 算 法 及 其 在 识 别 中 的 应 用\n",
      "Fisher线性判别分析(FLDA)是一种经典的基于特征提取的人脸识别方法。然而,在每类单训练样本时,FLDA无法对类内变化进行测量,因而无法使用。论文针对这一问题提出了一种新颖的解决方法,即通过利用每类已有的单个训练样本脸部图像获取其镜像图像,扩充原始训练样本集,从而解决原来在每类单训练样本情况下类内散布矩阵为零矩阵的问题。通过利用原始脸部图像和其镜像脸部图像计算出类内和类间散布矩阵,然后利用FLDA算法思想提取辨别性面部特征进而实现正确的分类和识别。实验结果表明,所提出的方法简单且高效,能够实现比现有方案更高的识别精度。\n",
      "\n"
     ]
    },
    {
     "name": "stderr",
     "output_type": "stream",
     "text": [
      "\r",
      " 16%|█▋        | 164/1000 [01:16<05:47,  2.40it/s]"
     ]
    },
    {
     "name": "stdout",
     "output_type": "stream",
     "text": [
      "基 于 似 物 性 判 断 的 s a r 图 像 舰 船 目 标 检 测\n",
      "基 于 似 物 性 判 断 的 改 进 c f a r 舰 船 目 标 检 测 方 法\n",
      "论文在SAR图像舰船目标检测方法研究中,针对传统CFAR不具备多尺度检测能力的问题,提出了基于似物性判断的改进CFAR舰船目标检测方法,通过似物性判断方法获得潜在目标的位置和尺寸,在局部窗口内检测目标并动态调整CFAR背景窗口尺寸,使得算法具备了多尺度检测能力,并提高了算法的运行效率。\n",
      "\n"
     ]
    },
    {
     "name": "stderr",
     "output_type": "stream",
     "text": [
      "\r",
      " 16%|█▋        | 165/1000 [01:17<06:00,  2.32it/s]"
     ]
    },
    {
     "name": "stdout",
     "output_type": "stream",
     "text": [
      "基 于 连 通 区 域 提 取 的 中 尺 度 涡 自 动 检 测 方 法 研 究\n",
      "基 于 连 通 区 域 提 取 技 术 的 遥 感 图 像 中 尺 度 涡 检 测\n",
      "论文根据海洋中尺度涡成像的特点,基于边缘检测,运用连通区域提取技术,综合利用涡旋的形状、尺度等判据,设计了一套中尺度涡自动检测算法。该方法主要分为三个步骤:首先对遥感图像数据预处理,包括图像压缩、图像定标、图像边缘检测;然后对图像进行连通区域提取,计算其特征参数;最后对这些连通区域判别检测,提取中尺度涡。研究中使用的决策参数是进行多组数据实验后提取的特征值,随着实验数据的越来越多,特征值也将越来越成熟。论文采用高分三号卫星海洋遥感图像数据进行算法的测试,实验表明该方法可以有效地对遥感图像进行中尺度涡检测。\n",
      "\n"
     ]
    },
    {
     "name": "stderr",
     "output_type": "stream",
     "text": [
      "\r",
      " 17%|█▋        | 166/1000 [01:17<05:40,  2.45it/s]"
     ]
    },
    {
     "name": "stdout",
     "output_type": "stream",
     "text": [
      "几 何 立 体 图 形 光 顺 算 法 的 研 究 与 比 较\n",
      "几 何 立 体 图 形 光 顺 算 法 研 究 与 比 较\n",
      "在计算机图形学和计算机辅助设计中,用多边形网格可以表示复杂的三维实体。但由多边形网格所构成的表面往往不够光滑,难以构成表现实体的曲面真实形状,网格平滑可以有效解决三维几何实体表面的光滑问题。曲面细分是实现网格光顺处理的主要方法,论文以Loop细分法、Butterfly细分法、Sqrt3细分法、PN-triangle细分法等四种三角网格细分算法为例,讲述了网格细分的几何规则和拓扑规则,并用这四种算法分别对相同网格模型进行细分,从细分效果和运算效率等多个方面对这四种细分方法进行了比较分析。\n",
      "\n"
     ]
    },
    {
     "name": "stderr",
     "output_type": "stream",
     "text": [
      "\r",
      " 17%|█▋        | 167/1000 [01:17<06:01,  2.30it/s]"
     ]
    },
    {
     "name": "stdout",
     "output_type": "stream",
     "text": [
      "基 于 m o n g o d b 的 电 网 信 息 三 维 可 视 化 系 统 数 据 管 理\n",
      "基 于 m o n g o d b 的 电 网 信 息 三 维 可 视 化 数 据 管 理 研 究\n",
      "电网运行网络涉及面广,设备众多且内部结构复杂,对于运行中所产生的信息数据,如果采用传统管理方式,不仅效率低、成本高,而且不利于提升运行安全性。为此,可对其进行三维可视化处理。通过MongoDB技术、B/S技术,对如何实现电网信息三维可视化数据管理进行讨论。结果表明:通过电网设备信息三维可视化,不仅可以提升场景视角管理直观性,改善空间规划管理,而且能够改善设备管理以及资源搜索效率;在三维可视化过程中,要重点关注设备管理三维化,一方面要提升设备上下架效率,另一方面要增加故障告警管理可视化程度,同时注重其机柜使用效率统计可视化。\n",
      "\n"
     ]
    },
    {
     "name": "stderr",
     "output_type": "stream",
     "text": [
      "\r",
      " 17%|█▋        | 168/1000 [01:18<05:42,  2.43it/s]"
     ]
    },
    {
     "name": "stdout",
     "output_type": "stream",
     "text": [
      "基 于 矩 阵 的 多 维 关 联 规 则 算 法 在 烟 叶 复 烤 配 方 的 应 用 研 究\n",
      "基 于 矩 阵 的 多 维 关 联 规 则 改 进 算 法\n",
      "针对Apriori算法频繁扫描数据库造成的I/O开销大等问题以及烟叶复烤配方模块多维数据挖掘的需求,论文在经典Apriori算法的基础上,提出了一种基于矩阵的多维关联规则改进算法,该算法通过构造多维事务矩阵,减少了扫描数据库的次数,同时不断通过剪枝、剔除冗余事务对矩阵进行压缩,有效提高了挖掘效率。利用该算法对历史复烤配方数据进行了挖掘分析,结果表明该方法能够有效地将配方数据中隐含的诸多配方专家的配方维护行为规律提取为规则表示形式,从而挖掘出配方模块中烟叶的搭配和协同信息。该方法减少了配方研发人员的工作量,可有效地指导实际配方设计和维护工作。\n",
      "\n"
     ]
    },
    {
     "name": "stderr",
     "output_type": "stream",
     "text": [
      "\r",
      " 17%|█▋        | 169/1000 [01:18<05:50,  2.37it/s]"
     ]
    },
    {
     "name": "stdout",
     "output_type": "stream",
     "text": [
      "r o i 编 码 技 术 在 j p e g 2 0 0 0 中 的 应 用\n",
      "j p e g 2 0 0 0 中 提 升 小 波 变 换 的 r o i 技 术 研 究\n",
      "随着多媒体和网络的迅速发展,人们对图像质量和图像功能的要求越来越高,当前的JPEG标准显得有些不足,因此ISO提出了一个新的JPEG2000标准。论文的主要工作是JPEG2000图像压缩标准的编解码系统的设计。现将主要内容归纳如下:1)提升小波变换。JPEG2000与JPEG最大的不同在于它放弃了JPEG所采用的以离散余弦变换为主的区块编码方式,转而采用以小波变换为主的多解析编码方式,在论文中采用提升小波变换方法,其优点在于速度快,运算复杂度低,所需存储空间少。2)嵌入式码块编码。在JPEG2000中,图像经过量化后,每个子带被划分成码块单元,对每个码块进行独立的嵌入式位平面算术熵编码。在论文中采用自适应二进制算术编解码。3)感兴趣区域(ROI)简介。论文最后简单介绍ROI掩模(MASK)的生成及ROI技术在JPEG2000中的应用。\n",
      "\n"
     ]
    },
    {
     "name": "stderr",
     "output_type": "stream",
     "text": [
      "\r",
      " 17%|█▋        | 170/1000 [01:19<05:15,  2.63it/s]"
     ]
    },
    {
     "name": "stdout",
     "output_type": "stream",
     "text": [
      "改 进 的 c 4 . 5 算 法 的 研 究 与 应 用\n",
      "改 进 的 c 4 . 5 算 法 的 研 究 与 应 用\n",
      "针对C4.5算法构建特征决策树方法的研究,发现目前方法时常出现准确率低的情况,导致模型使用过程缺乏准确性。为此,在数据挖掘的过程中深入研究C4.5算法,提出一种改进的算法,即C4.5-W算法,该算法的主要思想是通过在C4.5算法中引入参数W,调整属性度量标准信息增益率的取值范围,进而构建决策树模型找出涉案人特征规律进行预测。通过实验表明,该算法在使用过程中能够有效提高预测涉案人的精准率。因此,C4.5-W算法可提高决策树模型的准确率。\n",
      "\n"
     ]
    },
    {
     "name": "stderr",
     "output_type": "stream",
     "text": [
      "\r",
      " 17%|█▋        | 171/1000 [01:19<05:43,  2.41it/s]"
     ]
    },
    {
     "name": "stdout",
     "output_type": "stream",
     "text": [
      "o p e n m p 并 行 计 算 在 侧 向 散 射 激 光 雷 达 数 据 处 理 中 的 应 用\n",
      "基 于 c c d 的 侧 向 散 射 激 光 雷 达 数 据 处 理 并 行 算 法 研 究\n",
      "基于CCD的侧向散射激光雷达是一种正在研究中的新技术,其需要对多幅图片进行处理,传统的数据处理方法消耗时间较长。如何提高计算效率是当前数据处理中的一个难题。对侧向散射激光雷达数据处理中的计算任务进行分析,总结出需要采用并行计算提高效率的关键任务。基于OpenMP标准,设计了两种并行算法,并通过个例对其有效性进行验证。结果表明,两种并行算法合理可行,结合后在不同性能的设备上均能显著提高侧向散射激光雷达数据处理的效率。\n",
      "\n"
     ]
    },
    {
     "name": "stderr",
     "output_type": "stream",
     "text": [
      "\r",
      " 17%|█▋        | 172/1000 [01:19<05:32,  2.49it/s]"
     ]
    },
    {
     "name": "stdout",
     "output_type": "stream",
     "text": [
      "基 于 s t a t a 研 究 川 中 紫 色 土 区 小 流 域 土 地 利 用 变 化 特 征 分 析\n",
      "不 同 利 用 类 型 用 地 变 化 特 征 的 小 流 域 决 策\n",
      "为了定量化研究土地利用变化特征,论文以川中小流域为研究对象,2004年第5期小流域竣工验收报告为基础数据,利用stata13.0软件,以小流域不同利用类型土地,生态环境治理后农地面积、林地面积、草地荒地及其他用地面积建立多元回归方程,分析不同利用类型土地前后的变化特征。结果表明:1)研究时段内不同利用类型土地变化的差异较大。耕地减少至41%,变化较为强烈;变化最为显著的是林地面积增长至48%,反超了耕地占土地总面积的比例;草地、荒地和其他用地降至12%,其变化也是稍有显著地。按土地利用变化程度的大小排序应为:林地&gt;耕地&gt;草地、荒地和其他用地。2)政策方向、经济收入等因素是影响土地利用变化的主要驱动力。\n",
      "\n"
     ]
    },
    {
     "name": "stderr",
     "output_type": "stream",
     "text": [
      "\r",
      " 17%|█▋        | 173/1000 [01:20<05:56,  2.32it/s]"
     ]
    },
    {
     "name": "stdout",
     "output_type": "stream",
     "text": [
      "基 于 回 归 c n n 的 烟 叶 近 红 外 光 谱 模 型 研 究\n",
      "近 红 外 光 谱 中 改 进 卷 积 神 经 网 络 的 最 佳 特 征 研 究\n",
      "为了更大程度提取近红外光谱中的深层次关键特征,论文应用改进的回归式卷积神经网络算法,将传统的卷积神经网络架构中池化层移除,最顶层的线性分类层用回归层进行替代,构建卷积神经网络回归(CNNR)模型。为了验证该算法的有效性,论文经多次实验、对比评价指标,筛选出最佳模型:总糖、总烟碱和氯离子最佳CNNR模型的相关系数R分别为0.9318,0.941,0.933,交叉验证的RMSECV分别为0.7052,0.0710,0.0971。实验结果表明:CNNR模型抽提的特征光谱数据对三个指标有很强的解释能力,对烟叶化学成分的有较好的预测性能和综合表达能力。\n",
      "\n"
     ]
    },
    {
     "name": "stderr",
     "output_type": "stream",
     "text": [
      "\r",
      " 17%|█▋        | 174/1000 [01:20<05:22,  2.56it/s]"
     ]
    },
    {
     "name": "stdout",
     "output_type": "stream",
     "text": [
      "基 于 词 向 量 的 文 本 分 类 研 究\n",
      "基 于 词 向 量 的 文 本 特 征 选 择 改 进 算 法\n",
      "针对传统特征选择算法分类准确率较低的问题,提出了基于词向量的文本特征选择改进算法。以微博数据为研究对象进行情感分类,提出类别区分能力强的特征项的相似项同时具有较强的类别区分能力,将Word2vec训练得到的词向量应用到传统的特征选择过程中,根据词向量之间存在的相似性关联对特征项进行适当扩充。实验结果表明,所提出的特征选择算法相比原特征选择算法其分类准确率有一定程度的改进。\n",
      "\n"
     ]
    },
    {
     "name": "stderr",
     "output_type": "stream",
     "text": [
      "\r",
      " 18%|█▊        | 175/1000 [01:21<05:30,  2.49it/s]"
     ]
    },
    {
     "name": "stdout",
     "output_type": "stream",
     "text": [
      "基 于 改 进 遗 传 算 法 的 柔 性 车 间 调 度 问 题 的 研 究\n",
      "基 于 改 进 遗 传 算 法 的 柔 性 车 间 调 度 问 题 的 研 究\n",
      "分析柔性作业车间调度问题的特点,提出一种求解该问题的改进遗传算法。在以最大完工时间为性能指标情况下,设计一种基于改进算法的柔性车间调度方法,改变种群初始化方式提高搜索效率,结合问题特点设计合理的染色体编码方式、交叉算子和变异算子,提高求解效率。通过实验仿真,验证所提出的初始化方法的可行性和有效性。\n",
      "\n"
     ]
    },
    {
     "name": "stderr",
     "output_type": "stream",
     "text": [
      "\r",
      " 18%|█▊        | 176/1000 [01:21<05:25,  2.53it/s]"
     ]
    },
    {
     "name": "stdout",
     "output_type": "stream",
     "text": [
      "万 有 引 力 搜 索 算 法 的 w e b 服 务 选 择\n",
      "改 进 的 g m m 算 法 及 其 在 旅 游 场 景 优 化 中 的 应 用\n",
      "针对传统优化算法不能很好解决高维度搜索空间的优化问题,提出了一种改进的万有引力搜索算法,将万有引力搜索算法和粒子群优化算法进行结合,通过对边界进行一定的操作和在新的搜索空间内激活停滞粒子,使粒子跳出局部区域,去寻找最优解。引用Web服务组合领域使用的旅游场景模型,实验结果表明,所提出的算法相比传统启发式优化算法具有较好的性能并且在解决基于多目标优化的Web服务组合问题上也具有一定的可行性。\n",
      "\n"
     ]
    },
    {
     "name": "stderr",
     "output_type": "stream",
     "text": [
      "\r",
      " 18%|█▊        | 177/1000 [01:21<05:21,  2.56it/s]"
     ]
    },
    {
     "name": "stdout",
     "output_type": "stream",
     "text": [
      "考 虑 时 滞 影 响 的 绞 吸 挖 泥 船 产 量 预 测\n",
      "基 于 b p 神 经 网 络 的 绞 吸 泥 船 产 量 预 测 研 究\n",
      "为了提高绞吸挖泥船产量的预测精度,提出带有时滞的BP神经网络预测模型。重点分析泥浆浓度与真空度之间的时间延迟和滞后问题,以绞刀电机电流、流速、真空度、横移速度作为BP神经网络模型的输入变量,以泥浆浓度作为输出变量,采用改进后的BP神经网络建立绞吸挖泥船产量预测模型。实验结果表明,该方法能够很好地预测绞吸挖泥船产量,可用于实际挖泥船产量的预测与评估。\n",
      "\n"
     ]
    },
    {
     "name": "stderr",
     "output_type": "stream",
     "text": [
      "\r",
      " 18%|█▊        | 178/1000 [01:22<05:38,  2.43it/s]"
     ]
    },
    {
     "name": "stdout",
     "output_type": "stream",
     "text": [
      "一 种 基 于 语 料 的 词 汇 语 义 相 似 度 认 知 算 法\n",
      "一 种 基 于 上 下 文 语 境 特 征 的 词 汇 相 似 度 计 算 方 法\n",
      "词汇的语义相似度计算是信息检索、自然语言处理、推荐系统等技术的基础。事实上,词汇可能因其语境或语料的不同,语义的相似度千差万别。论文通过提取词汇的上下文语境特征,构建了一种基于特定语料的词汇的语义相似度计算模型。实验结果表明,该算法有较好的准确率和较强的领域敏感性,取得了令人满意的结果。\n",
      "\n"
     ]
    },
    {
     "name": "stderr",
     "output_type": "stream",
     "text": [
      "\r",
      " 18%|█▊        | 179/1000 [01:22<05:41,  2.40it/s]"
     ]
    },
    {
     "name": "stdout",
     "output_type": "stream",
     "text": [
      "基 于 s t m 3 2 的 s f 6 气 体 泄 漏 监 控 报 警 系 统\n",
      "基 于 s t m 3 2 的 s f 6 气 体 泄 漏 监 控 报 警 系 统 设 计\n",
      "为检测高压配电室SF6气体泄露量,保证室内的检修及巡视人员安全,开发了基于STM32的SF6气体泄漏监控报警系统。该系统以STM32F103为主控制器,采用高精度的SF6红外传感器和O2电化学传感器,将采集到的气体浓度信息传输给STM32进行数据处理,通过液晶显示器进行显示,当检测到SF6气体浓度超标或者缺氧时,进行声光报警并启动风机,通过RS232总线与上位机通信,实现数据传输和存储。经过实验测试结果表明,该系统具有精度高、稳定性好、响应速度快等优良性能。\n",
      "\n"
     ]
    },
    {
     "name": "stderr",
     "output_type": "stream",
     "text": [
      "\r",
      " 18%|█▊        | 180/1000 [01:23<06:09,  2.22it/s]"
     ]
    },
    {
     "name": "stdout",
     "output_type": "stream",
     "text": [
      "面 向 兵 棋 演 习 的 问 答 系 统 问 句 分 类 模 型 研 究\n",
      "一 种 改 进 的 基 于 k n n 算 法 的 兵 棋 演 习 问 句 分 类 模 型\n",
      "通过分析兵棋演习过程中的常见问题,设计了一个针对兵棋演习特殊情景的问句分类模型。问句分类模型基于统计方法,利用Word2vec工具生成词向量,利用TextRank算法结合IDF值来生成词权重,共同完成问句表征。并综合考虑算法复杂度以及问句相似度计算的精确度,通过两个不同的问句相似度模型,以及改进的KNN算法来实现最终的问句分类。WMD(Word Mover’s Distance)算法是在词向量基础上计算问句相似度较为精确的算法,但同时存在算法复杂度过高的缺点,论文通过改进的KNN算法将其与传统算法结合,来更好地完成需要的问句分类任务。\n",
      "\n"
     ]
    },
    {
     "name": "stderr",
     "output_type": "stream",
     "text": [
      "\r",
      " 18%|█▊        | 181/1000 [01:23<06:01,  2.27it/s]"
     ]
    },
    {
     "name": "stdout",
     "output_type": "stream",
     "text": [
      "运 动 员 训 练 专 家 系 统 知 识 库 的 设 计 与 实 现\n",
      "基 于 d e l   g u i 的 专 家 系 统 知 识 库 的 设 计 与 实 现\n",
      "为了选拔和培养优秀的体育运动员在比赛中取得更好的成绩,构建了运动员训练专家系统知识库。此知识库将运动员选拔和训练等有关的知识和经验转换成计算机可处理的规则和事实,建立基于规则和事实的诊断树;该知识库采用判断树结构作为知识表示模式和推理方法,用自定义数据结构表示判断树的结点,该自定义数据结构既可表示答案结点又可表示判定结点,同时可以表示父结点和子结点之间的联系。该系统的推理过程简单来说是遍历判断树得到答案结点的过程,通过一系列的规则编码来实现,在遍历判断树时采用了谓词截断技术、数据管理技术,在Prolog控制Delphi界面时使用了Del GUI谓词技术,方便地实现了专家系统界面的动态生成。\n",
      "\n"
     ]
    },
    {
     "name": "stderr",
     "output_type": "stream",
     "text": [
      "\r",
      " 18%|█▊        | 182/1000 [01:24<05:46,  2.36it/s]"
     ]
    },
    {
     "name": "stdout",
     "output_type": "stream",
     "text": [
      "基 于 电 磁 传 感 器 的 路 径 识 别 系 统 的 设 计 与 实 现\n",
      "嵌 入 式 智 能 车 载 网 格 系 统 设 计 与 实 现\n",
      "随着现代科技的飞速发展,智能化产品已经逐渐深入到生产生活中。论文设计并实现了一种以32位嵌入式芯片为核心,基于电磁传感器,涵盖自动控制、模式识别的路径识别系统。系统可以通过检测赛道中电磁的强弱使得智能车模型来完成前进、后退、拐弯和加减速等操作,该系统的开发可以将相关智能技术进一步地延伸,应用于汽车避撞、自动驾驶等领域。经测试,该系统具有较高的产品性能和较广泛的实用价值。\n",
      "\n"
     ]
    },
    {
     "name": "stderr",
     "output_type": "stream",
     "text": [
      "\r",
      " 18%|█▊        | 183/1000 [01:24<05:28,  2.49it/s]"
     ]
    },
    {
     "name": "stdout",
     "output_type": "stream",
     "text": [
      "基 于 多 传 感 器 融 合 的 移 动 机 器 人 定 位\n",
      "多 传 感 器 数 据 融 合 的 室 内 移 动 机 器 人 定 位 方 法\n",
      "\"移动机器人定位是进行导航和路径规划的前提和基础。论文提出了一种基于多传感器数据融合的室内移动机器人定位方法。使用基于粒子滤波的蒙特卡洛算法,融合激光雷达、加速度计和里程计等多传感器的信息进行定位,有效改善了传统定位方法因为无法关联底层数据信息或者路面打滑导致定位失败等问题。进而,通过采取基于权值的融合,消除了连续迭代步骤中\"\"跳跃\"\"行为的影响;通过粒子剔除机制,优化了粒子种群,提高算法的执行效率。最后,基于设计的两轮机器人平台,通过仿真和真实环境联合论证,验证了所开发机器人定位方法的有效性。\"\n",
      "\n"
     ]
    },
    {
     "name": "stderr",
     "output_type": "stream",
     "text": [
      "\r",
      " 18%|█▊        | 184/1000 [01:24<05:31,  2.46it/s]"
     ]
    },
    {
     "name": "stdout",
     "output_type": "stream",
     "text": [
      "舰 船 姿 态 测 量 误 差 对 雷 达 探 测 精 度 的 影 响 分 析\n",
      "舰 载 雷 达 目 标 探 测 误 差 仿 真 研 究\n",
      "舰船的姿态测量误差会影响舰载雷达对目标探测的精度,进而影响舰船的作战效能和生产能力。针对此问题,基于坐标转换分析了引入雷达探测误差的机理,建立了姿态测量误差对雷达探测精度影响的误差模型。仿真试验结果表明:雷达的测距精度与三个姿态角误差均有关;雷达的测方位角精度主要与艏摇角误差有关;雷达的测俯仰角精度与纵摇角误差和横摇角误差有关;雷达的探测精度与姿态角大小有关,且姿态角越大时探测误差越大;雷达的测距误差和测俯仰角误差与目标的方位角有关。\n",
      "\n"
     ]
    },
    {
     "name": "stderr",
     "output_type": "stream",
     "text": [
      "\r",
      " 18%|█▊        | 185/1000 [01:25<05:09,  2.63it/s]"
     ]
    },
    {
     "name": "stdout",
     "output_type": "stream",
     "text": [
      "感 知 与 规 避 技 术 中 的 入 侵 目 标 检 测 的 特 征 选 择\n",
      "基 于 稀 疏 表 示 的 图 像 特 征 选 择 机 制\n",
      "论文针对基于视觉的感知与规避技术中的入侵目标检测,提出了一套稀疏表示框架下的图像特征选择机制。基于稀疏编码和空间金字塔匹配算法(sc-SPM)的低层特征描述子常用的是方向梯度直方图(HOG)特征和尺度不变特征转换(SIFT)特征,而论文通过对在复杂背景下不同天气情况的入侵目标检测结果的查全率(recall)曲线来比较这两种特征描述子性能,最后选择性能最好的特征描述子作为sc-SPM特征提取算法的底层特征。实验结果表明,SIFT特征描述子更能适用于多种不同天气情况并且具有更好的鲁棒性。\n",
      "\n"
     ]
    },
    {
     "name": "stderr",
     "output_type": "stream",
     "text": [
      "\r",
      " 19%|█▊        | 186/1000 [01:25<05:21,  2.53it/s]"
     ]
    },
    {
     "name": "stdout",
     "output_type": "stream",
     "text": [
      "一 种 单 频 载 波 中 插 入 线 性 调 频 信 号 的 水 声 遥 控 技 术\n",
      "周 期 插 入 线 性 调 频 信 号 的 遥 控 系 统 设 计\n",
      "为了增加远程遥控系统的隐蔽性、降低对海洋生物的人为噪声干扰以及提升算法的抗噪声性能,论文综合考虑了远程水声信道的相位快变特性、算法实现的简洁性和算法的处理增益等问题,提出了一种在BFSK载波调制中周期插入线性调频信号的遥控信号产生方案。在接收端通过正交解调进行了非相干解码,并利用Turbo信道编码提升了系统的抗噪声性能。仿真结果表明,论文提出的方案具有良好的频谱展宽能力及抗噪声性能,相比BFSK的非相干解调有约2dB的性能提升。\n",
      "\n"
     ]
    },
    {
     "name": "stderr",
     "output_type": "stream",
     "text": [
      "\r",
      " 19%|█▊        | 187/1000 [01:26<05:22,  2.52it/s]"
     ]
    },
    {
     "name": "stdout",
     "output_type": "stream",
     "text": [
      "边 缘 粒 子 滤 波 多 目 标 跟 踪 改 进 算 法 研 究\n",
      "边 缘 粒 子 滤 波 多 目 标 跟 踪 改 进 算 法 研 究\n",
      "在多目标跟踪过程中,针对概率假设密度滤波器难以正确估计目标个数和目标状态问题,提出一种新的基于边缘粒子滤波的改进算法。算法运用Rao一Blackwellized思想,将目标状态分解为线性和非线性模型的结构,采用RBPF滤波方法预测与估计概率假设密度滤波器中目标的非线性状态,使用卡尔曼滤波方法对线性状态进行预测与估计,以更好地提高目标状态估计精度,降低了计算的复杂度。文章最后进行了仿真实验验证,与现有算法相比较,提出的算法能够更加准确地估计出目标个数和目标状态,具有较好的跟踪性能。\n",
      "\n"
     ]
    },
    {
     "name": "stderr",
     "output_type": "stream",
     "text": [
      "\r",
      " 19%|█▉        | 188/1000 [01:26<05:28,  2.48it/s]"
     ]
    },
    {
     "name": "stdout",
     "output_type": "stream",
     "text": [
      "多 水 下 机 器 人 编 队 控 制\n",
      "基 于 粒 子 群 算 法 的 多 水 下 机 器 人 编 队 控 制 研 究\n",
      "论文对水下机器人的编队控制进行研究,针对领航跟随法和基于行为法各自的缺点,论文将领航跟随法和基于行为法两种控制方法相结合,设计了多水下机器人队形控制的几种基本子行为奔向目标、避障碍物、避碰、保持队形,用粒子群算法优化几种行为方式构造的适应度函数,提高多水下机器人整体编队队形控制的容错性。通过Matlab仿真平台对队形形成、队形保持、队形变换进行仿真。从仿真实验结果表明,所提出的算法提高了编队队形控制的稳定性。\n",
      "\n"
     ]
    },
    {
     "name": "stderr",
     "output_type": "stream",
     "text": [
      "\r",
      " 19%|█▉        | 189/1000 [01:26<04:51,  2.78it/s]"
     ]
    },
    {
     "name": "stdout",
     "output_type": "stream",
     "text": [
      "智 能 交 通 流 仿 真 及 通 行 质 量 影 响 因 素 分 析\n",
      "智 能 交 通 流 影 响 因 素 分 析\n",
      "为分析道路通行质量在关卡、道路长宽与多种类车辆构成的智能交通流因素影响下的不确定变化及各因素影响趋势,论文先通过元胞自动机模型将普通车与智能车(自动驾驶车)的规则进行数学描述,由此使得智能交通流得以仿真。再综合考虑行车流量、车道数量、道路长宽、智能车辆比例、超速车辆比例以及交通收费窗口数量等多种影响因素,通过参数配置以及控制变量法分别控制上述影响因素,以分析其对于通行效率的具体影响曲线,并在模型中引入事故发生率概念作为道路的安全质量评判标准之一。结果表明:该模型可以有效描述智能交通流中不同车辆种类的占比对任一确定关卡及长宽的道路通行效率的具体影响,利用该模型可以为科学交通管理系统提供决策依据。\n",
      "\n"
     ]
    },
    {
     "name": "stderr",
     "output_type": "stream",
     "text": [
      "\r",
      " 19%|█▉        | 190/1000 [01:27<05:31,  2.45it/s]"
     ]
    },
    {
     "name": "stdout",
     "output_type": "stream",
     "text": [
      "云 环 境 下 基 于 动 态 聚 类 及 相 似 树 查 询 的 无 线 体 域 网 隐 私 数 据 检 索 算 法 研 究\n",
      "基 于 b - s s 的 无 线 体 域 网 大 数 据 密 文 检 索 算 法\n",
      "无线体域网收集的各项人体生物数据涉及隐私问题。大量的隐私数据存储在云服务器中,检索时要求高命中率和机密性。密文检索技术是解决云环境隐私安全问题的有效方法。针对此问题,论文提出了基于相似查询树的兄弟叶节点的查询结构——B-SS,以提升多关键字排序检索的结果命中率。在云存储的环境下提出改进的动态区间聚类算法MDB,在初始化文档集时,取文档集中最大和最小文档的向量差,等量的划分为k个槽,并对槽进行动态划分,聚类过程随文档量增加动态变化,且初始化时间复杂度为O(1),适用于无线体域网大数据环境下的密文检索。通过实验证明该方法随着文档的线性增加,消耗的时间呈线性变化,且变化幅度低,表明MDB算法在初始化效率上具有较大提升。\n",
      "\n"
     ]
    },
    {
     "name": "stderr",
     "output_type": "stream",
     "text": [
      "\r",
      " 19%|█▉        | 191/1000 [01:27<05:15,  2.57it/s]"
     ]
    },
    {
     "name": "stdout",
     "output_type": "stream",
     "text": [
      "基 于 d - s 证 据 理 论 的 多 维 度 信 任 评 估 方 法\n",
      "基 于 证 据 理 论 的 多 维 度 信 任 评 估 方 法\n",
      "针对当前云环境下信任评估存在的多维属性和不确定性问题,提出一个基于D-S证据理论的多维度信任评估方法,来评估云服务商的信任值。实体间的信任关系用信任、不信任和不确定来表示,依据与云服务商相关的属性证据进行直接信任度计算;并根据第三方用户的推荐计算间接信任度;最后综合直接信任和推荐信任得到云服务商的综合信任值。实验分析表明,该信任模型能够较为准确的对云服务商做出信任评估,从而有效地防止恶意攻击行为;同时将D-S证据理论引入到实体的直接信任度评估中,较好地解决了证据不确定性的问题。\n",
      "\n"
     ]
    },
    {
     "name": "stderr",
     "output_type": "stream",
     "text": [
      "\r",
      " 19%|█▉        | 192/1000 [01:28<05:32,  2.43it/s]"
     ]
    },
    {
     "name": "stdout",
     "output_type": "stream",
     "text": [
      "基 于 q 学 习 的 a d   h o c 网 络 路 由 协 议 的 改 进 与 研 究\n",
      "基 于 启 发 q 学 习 算 法 的 a d   h o c 网 络 路 由 优 化\n",
      "采用Q学习可以有效保证Ad Hoc网络的可靠性,该文将启发Q学习算法应用在备用多径按需路由协议的路由寻找中,融合传统Q学习算法根据网络状态适当的调整路由周期寿命,提高路由对动态变化的业务分布的自适应性。建立NS3网络模型对无线网络的时延、吞吐量及开销等主要性能指标进行理论分析,研究结果表明:优化后的路由协议更加适用于状态多变的移动Ad Hoc网络。\n",
      "\n"
     ]
    },
    {
     "name": "stderr",
     "output_type": "stream",
     "text": [
      "\r",
      " 19%|█▉        | 193/1000 [01:28<05:20,  2.52it/s]"
     ]
    },
    {
     "name": "stdout",
     "output_type": "stream",
     "text": [
      "基 于 信 誉 评 价 机 制 的 l o r a 物 联 网 安 全 架 构\n",
      "基 于 信 誉 评 价 机 制 的 l o r a 物 联 网 安 全 加 固 方 案\n",
      "论文基于LoRa最新协议标准LoRaWAN1.1的网络架构,分析了LoRa物联网的安全需求,并根据现有安全机制和不足,提出了一种基于信誉评价机制的LoRa物联网安全加固方案。最后,对提出的方案进行了安全评估,该方案不仅能很好地解决网关安全问题,还能优化网络负载,并使网络具备入侵检测和应急管控能力。\n",
      "\n"
     ]
    },
    {
     "name": "stderr",
     "output_type": "stream",
     "text": [
      "\r",
      " 19%|█▉        | 194/1000 [01:28<05:13,  2.57it/s]"
     ]
    },
    {
     "name": "stdout",
     "output_type": "stream",
     "text": [
      "基 于 d r o p o u t 深 度 信 念 网 络 的 烟 叶 近 红 外 光 谱 模 型 研 究\n",
      "基 于 f l o w o u t 深 度 信 念 网 络 的 定 量 模 型 构 建 方 法\n",
      "针对近红外光谱数据小样本、高维、非线性的问题,论文提出一种基于Dropout深度信念网络的定量模型构建方法。Dropout概念的引入,避免了节点之间的协同作用,提高了网络的泛化能力,深度信念网络保证了非线性建模的能力,提高了预测准确性。通过仿真实验验证了该方法具有更好的预测精度和模型稳定性,对建立烟叶化学成分定量模型具有一定的实用价值。\n",
      "\n"
     ]
    },
    {
     "name": "stderr",
     "output_type": "stream",
     "text": [
      "\r",
      " 20%|█▉        | 195/1000 [01:29<05:15,  2.55it/s]"
     ]
    },
    {
     "name": "stdout",
     "output_type": "stream",
     "text": [
      "基 于 e b g w o 算 法 的 入 侵 检 测 特 征 选 择 研 究\n",
      "基 于 二 元 灰 狼 算 法 的 网 络 入 侵 检 测 特 征 选 择 研 究\n",
      "论文通过对入侵检测系统的特征选择算法进行研究,提出了基于改进型二元灰狼算法的特征选择。该方法将遗传算法和传统二元灰狼算法结合,用遗传算法中的交叉策略代替了传统二元灰狼算法中的位置更新,实现了对特征集的优化选择。实验结果表明与传统的二元灰狼算法相比,新方法能使分类算法具有更高的网络入侵检测准确度,简化了网络入侵数据的特征。\n",
      "\n"
     ]
    },
    {
     "name": "stderr",
     "output_type": "stream",
     "text": [
      "\r",
      " 20%|█▉        | 196/1000 [01:29<05:33,  2.41it/s]"
     ]
    },
    {
     "name": "stdout",
     "output_type": "stream",
     "text": [
      "基 于 有 色 p e t r i 网 的 网 络 安 全 态 势 感 知 模 型 构 建 及 分 析\n",
      "基 于 有 色 p e t r i 网 的 网 络 安 全 态 势 感 知 模 型 构 建 与 分 析\n",
      "为了宏观地把握网络安全态势的状态,构建基于有色Petri网的网络安全态势感知模型,并进行了分析。针对所建立的模型利用CPN Tools对其结构进行分析和验证。经过仿真验证分析,证明所建立的模型在结构上无死锁、具有有界性和可达性且状态空间合理。\n",
      "\n"
     ]
    },
    {
     "name": "stderr",
     "output_type": "stream",
     "text": [
      "\r",
      " 20%|█▉        | 197/1000 [01:29<05:12,  2.57it/s]"
     ]
    },
    {
     "name": "stdout",
     "output_type": "stream",
     "text": [
      "改 进 神 经 网 络 的 无 线 传 感 器 节 点 定 位\n",
      "基 于 改 进 神 经 网 络 的 无 线 传 感 器 节 点 定 位 模 型\n",
      "针对传统神经网络存在收敛速度慢等不足,为了提高无线传感器节点的定位精度,提出了改进神经网络的无线传感器节点定位模型。首先对锚节点和待定位节点之间的相关参数进行测量,然后通过神经网络拟合模型参数,并通过粒子群算法优化神经网络,最后根据模型参数实现无线传感器节点的定位,并通过定位实验分析模型的性能。实验结果表明,改进神经网络较好地克服了当前无线传感器节点定位模型的局限性,有效降低了传感器节点定位的误差,传感器节点定位的实时性好。\n",
      "\n"
     ]
    },
    {
     "name": "stderr",
     "output_type": "stream",
     "text": [
      "\r",
      " 20%|█▉        | 198/1000 [01:30<05:32,  2.42it/s]"
     ]
    },
    {
     "name": "stdout",
     "output_type": "stream",
     "text": [
      "基 于 边 缘 计 算 模 型 的 智 能 视 频 监 控 的 研 究\n",
      "基 于 三 帧 差 分 算 法 的 无 线 网 络 异 常 行 为 可 信 报 警\n",
      "目前的云计算技术需要大量带宽资源,而无线网络带宽有限,不能满足实时响应的需求,边缘计算成为发展的新趋势之一。提出在网络摄像头中加入运动目标检测算法,对采集到的原始视频数据进行处理,去除冗余信息,并分析视频中的行为,只把最有价值的数据传输到云计算中心。运用改进的三帧差分算法并结合Canny边缘检测算子对运动目标进行检测,只有检测到监控画面中有运动物体时才进行存储,并同时对运动目标进行提取分析,如果发现有异常行为,进行报警。实验表明,该方法可以检测出完整的运动目标,能够实现异常行为的可信报警,最重要的是可以节省大量的存储空间,并在定位异常行为时节省了查找时间。\n",
      "\n"
     ]
    },
    {
     "name": "stderr",
     "output_type": "stream",
     "text": [
      "\r",
      " 20%|█▉        | 199/1000 [01:30<06:00,  2.22it/s]"
     ]
    },
    {
     "name": "stdout",
     "output_type": "stream",
     "text": [
      "基 于 c a n n y 算 子 加 权 引 导 滤 波 的 r e t i n e x 医 学 图 像 增 强 算 法\n",
      "基 于 c a n n y 算 子 加 权 引 导 滤 波 的 医 学 图 像 增 强 算 法\n",
      "\"医学图像处理和分析在对疾病的成像诊断中起到辅助医生确定病变局域的重要作用。但是由于人体的组织密度极其复杂,由于各种不良因素的影响,从而导致医学图像(尤其是X射线医学影像等)普遍存在对比度低、动态范围窄、强度分布不对称、边缘不清晰等问题。针对上述问题,结合医学图像特点和光照估计模型提出一种基于Canny算子加权引导滤波的Retinex(CWGFR)医学图像增强算法。首先,利用Canny边缘检测算子准确估计加权引导滤波器的边缘权重并通过加权引导滤波器对光照进行估计,从而得到入射光分量;然后根据Retinex算法原理计算出反射光分量,即log域上的增强图像;最后对图像进行量化处理,增强其图像对比度从而得到输出图像。对比实验结果表明,论文算法在提高图像对比度的同时,具有更高的边缘保持特性,能够凸显图像细节信息,有效消除\"\"光晕\"\"伪影。\"\n",
      "\n"
     ]
    },
    {
     "name": "stderr",
     "output_type": "stream",
     "text": [
      "\r",
      " 20%|██        | 200/1000 [01:31<05:12,  2.56it/s]"
     ]
    },
    {
     "name": "stdout",
     "output_type": "stream",
     "text": [
      "基 于 h o u g h 变 换 的 图 像 目 标 检 测 与 识 别\n",
      "航 空 图 像 中 自 动 物 体 检 测 的 研 究 进 展\n",
      "对于航空图像中目标的检测和物体识别。论文根据图像自身的特征,提出基于直线段的特征检测,利用Hough变换进行提取。并选择了几种典型的算法在Matlab语言环境下用程序进行实现。最后,对航空图像中自动物体分割和检测的研究前景进行了展望。\n",
      "\n"
     ]
    },
    {
     "name": "stderr",
     "output_type": "stream",
     "text": [
      "\r",
      " 20%|██        | 201/1000 [01:31<05:23,  2.47it/s]"
     ]
    },
    {
     "name": "stdout",
     "output_type": "stream",
     "text": [
      "基 于 c d p m 的 东 巴 象 形 文 字 预 处 理 算 法\n",
      "基 于 c d p m 的 东 巴 象 形 文 字 预 处 理 算 法\n",
      "东巴文是一种十分原始的图画象形文字,为了表达丰富的含义,纳西先民往往在基本构字元素的基础上采用加缀或变形的方式来扩充文字,但是其中增加的额外元素给文字的特征提取及识别带来了巨大的干扰。因此,通过分析东巴象形文字的文字结构和特征,给出了基于CDPM的东巴象形文字预处理算法,该算法能够快速去除东巴字中的部分形变、离散的和具有粘连性的缀加元素,使得到的轮廓曲线能准确反映文字的本质特征。通过差异性、可扩展性、准确性和一致性等实验表明,基于CDPM的预处理算法使同类型的东巴字能够得到几乎一致的特征曲线,而不同类型的东巴字的特征曲线又能具有明显的差异性,从而为东巴文字的快速分类、检索和识别提供保证,也为其他象形文字的预处理研究提供有益参考。\n",
      "\n"
     ]
    },
    {
     "name": "stderr",
     "output_type": "stream",
     "text": [
      "\r",
      " 20%|██        | 202/1000 [01:32<05:37,  2.37it/s]"
     ]
    },
    {
     "name": "stdout",
     "output_type": "stream",
     "text": [
      "o p e n g l 环 境 中 二 维 文 字 的 通 用 绘 制 方 法\n",
      "基 于 g d i 和 o p e n g l 的 位 图 文 字 和 纹 理 绘 制\n",
      "分析了几种常用的文字绘制方法,研究了文字的属性特征,提出了GDI和OpenGL相结合的文字绘制方法,前者负责文字位图的创建,后者负责文字位图的绘制。在绘制过程中,使用纹理贴图的方式,将位图转换为几何图形的纹理,通过对几何图形的操作,间接达到文字的放大、缩小、旋转、变形的绘制效果。使用C++语言设计出了位图文字和纹理文字的绘制类,可以方便地设置所绘文字的内容、字体、颜色、位置、对齐方式、旋转角度、放大倍数、变形系数等参数。该方法具有通用性、灵活性、易用性的特点。\n",
      "\n"
     ]
    },
    {
     "name": "stderr",
     "output_type": "stream",
     "text": [
      "\r",
      " 20%|██        | 203/1000 [01:32<06:06,  2.17it/s]"
     ]
    },
    {
     "name": "stdout",
     "output_type": "stream",
     "text": [
      "结 合 直 方 图 均 衡 和 模 糊 集 理 论 的 红 外 图 像 增 强 研 究\n",
      "结 合 直 方 图 均 衡 和 模 糊 集 理 论 的 红 外 图 像 增 强 研 究\n",
      "目前在运用靶场光电测量设备对红外图像进行采集的过程中,经常会出现边缘不清晰、缺乏较高对比度等问题,对图像采集质量产生了严重影响。因此通过尝试将直方图均衡以及模糊集理论相互结合的方式,使得图像能够在对数隶属度函数下,完成向模糊域的转化,随后反复进行非线性变换使之可以获得更加清晰的边缘,最后利用直方图均衡化算法使得红外图像能够拥有更高的对比度,以此达到增强红外图像的目的。通过最终的实验分析可知,结合直方图均衡与模糊集理论的方式确实能够有效增强红外图像,改善其边缘不清晰等问题,具备良好应用效能。\n",
      "\n"
     ]
    },
    {
     "name": "stderr",
     "output_type": "stream",
     "text": [
      "\r",
      " 20%|██        | 204/1000 [01:33<06:01,  2.20it/s]"
     ]
    },
    {
     "name": "stdout",
     "output_type": "stream",
     "text": [
      "基 于 栈 式 稀 疏 自 编 码 器 的 青 光 眼 眼 底 图 像 识 别 研 究\n",
      "基 于 栈 式 稀 疏 自 编 码 器 的 青 光 眼 识 别\n",
      "青光眼是一种常见的威胁视神经及视觉功能的眼病,其具有发病率高,难以察觉等特点。但是目前对青光眼的识别诊断方法还不是很完善,且识别方法复杂,识别率也不高。因此提出了一种基于栈式稀疏自编码器的眼底图像特征提取及图像识别的方法。该方法采用逐层贪婪训练法从无标签的数据集中学习到数据的内部特征,将学习到的特征作为softmax分类器的输入。然后利用带标签的数据通过反向传播算法对稀疏自编码器进行调优。仿真实验分析中,使用测试集数据对该方法进行验证,精确度可达89%,并且优于实验中的其他方法,对青光眼的识别具有一定的实用价值。\n",
      "\n"
     ]
    },
    {
     "name": "stderr",
     "output_type": "stream",
     "text": [
      "\r",
      " 20%|██        | 205/1000 [01:33<05:58,  2.22it/s]"
     ]
    },
    {
     "name": "stdout",
     "output_type": "stream",
     "text": [
      "遗 漏 负 样 本 挖 掘 的 行 人 检 测 方 法\n",
      "基 于 f a s t e r   r - c n n 的 负 样 本 挖 掘 方 法\n",
      "用于物体检测的许多现代方法,如Faster R-CNN,都是基于卷积神经网络的。在监控视频中,由于背景复杂和行人多姿态等原因,存在许多误检。挖掘难负示例的方法可以在一定程度上可以解决误检,Faster RCNN由于使用端到端的训练策略而没有使用挖掘难负示例的方法,生成样本时只考虑了真值候选框周围的样本。为此,论文提出了一种新颖的算法来挖掘被遗漏的负样本,当生成分类器的负样本时,综合利用候选框的置信度以产生更具代表性的负样本。该方法不仅在静态行人数据库(如INRIA)上,还在监控视频(PKU-SVD-B和Caltech)下的数据库上,对召回率,精度率和F1测量指标进行了一致的提高。我们的方法只需要改进样本生成算法,不需要任何额外的超参数,因此它不会增加Faster R-CNN的计算量,并且易于实现。\n",
      "\n"
     ]
    },
    {
     "name": "stderr",
     "output_type": "stream",
     "text": [
      "\r",
      " 21%|██        | 206/1000 [01:34<06:02,  2.19it/s]"
     ]
    },
    {
     "name": "stdout",
     "output_type": "stream",
     "text": [
      "基 于 角 点 检 测 的 摄 像 机 标 定 算 法 及 应 用\n",
      "基 于 改 进 的 棋 盘 格 角 点 检 测 的 摄 像 机 标 定 方 法\n",
      "针对摄像机标定在航拍视频应用中所存在的问题,分析了传统标定法、自标定法和基于主动视觉标定方法的不足,总结了影响标定精度的关键所在,进而结合改进的棋盘格角点检测算法和改进的三参数模型标定方法,保证了物理信息的输入和标定过程的准确性。通过完成摄像机标定可以利用摄像机参数对图像进行畸变校正,从而进行视场角的测量。实验证明,该算法适用性广,稳定性好,精度高,具有一定的实用性和有效性。\n",
      "\n"
     ]
    },
    {
     "name": "stderr",
     "output_type": "stream",
     "text": [
      "\r",
      " 21%|██        | 207/1000 [01:34<05:34,  2.37it/s]"
     ]
    },
    {
     "name": "stdout",
     "output_type": "stream",
     "text": [
      "基 于 s v m 的 回 归 模 型 路 口 车 辆 计 数 方 法\n",
      "基 于 回 归 模 型 的 路 口 监 控 视 频 车 辆 计 数\n",
      "论文提出了一种利用监控视频对路口车辆进行计数的新的方法。针对路口车辆交通拥堵、遮挡程度高、移动速度缓慢、车行有规律等特征,提出基于回归模型的路口监控视频车辆计数算法。首先对监控视频进行处理,从中提取车流特征。之后,利用SVM对实时道路车辆密度进行辨别,并根据辨别结果,对密度高或低的情况分别应用不同的回归模型进行计数。最后,以实地采集的路口交通视频对该方法进行了验证。实验结果表明,该方法可以在实现较高准确率的基础上,占用较少的计算资源,对路口监控视频的车流进行计数。\n",
      "\n"
     ]
    },
    {
     "name": "stderr",
     "output_type": "stream",
     "text": [
      "\r",
      " 21%|██        | 208/1000 [01:34<05:37,  2.35it/s]"
     ]
    },
    {
     "name": "stdout",
     "output_type": "stream",
     "text": [
      "基 于 r e t i n e x 的 弱 光 条 件 下 车 道 线 识 别 方 法\n",
      "弱 光 环 境 下 基 于 r g b 图 像 增 强 的 车 道 线 检 测\n",
      "车道线的检测与识别是汽车辅助驾驶系统中的重要研究内容,而在傍晚等弱光环境下对车道线的准确识别更是该研究领域的难点,因此,为解决弱光环境下车道线不易检测的问题,论文提出一种基于双边滤波的Retinex图像增强算法,该算法首先改善弱光环境下获取的原始RGB图像,凸显原始图像中的车道线特征,再对增强后的图像进行灰度变换及Otsu算法分割处理,并使用Sobel算子检测车道线边缘,最后通过Hough变换提取图中车道线,实验结果表明:论文中的方法能有效识别弱光环境下获取的车道线图像,具有较好的鲁棒性。\n",
      "\n"
     ]
    },
    {
     "name": "stderr",
     "output_type": "stream",
     "text": [
      "\r",
      " 21%|██        | 209/1000 [01:35<05:43,  2.31it/s]"
     ]
    },
    {
     "name": "stdout",
     "output_type": "stream",
     "text": [
      "基 于 等 概 率 的 a s o n 业 务 授 权 设 计\n",
      "基 于 动 态 时 隙 均 衡 调 度 机 制 的 a s o n 业 务 授 权 设 计\n",
      "作为EPON组网重要支撑技术的动态时隙分配法是当前智能光网络(ASON)领域研究的热点。该分配法是建立在固定轮询周期前提下基于数据突发性而设计的,但缺乏考虑网络负载和多业务等级(CoS)特性,进而导致一系列QoS问题。论文提出一种时隙均衡调度机制为不同CoS业务进行授权。该机制通过实时计算负载及业务权重来动态调整轮询周期,为每一个ONU的不同等级业务分配授权。授权过程既为每个ONU的CoS提供了带宽保障也兼顾到了负载变化时的丢包率和传输时延。\n",
      "\n"
     ]
    },
    {
     "name": "stderr",
     "output_type": "stream",
     "text": [
      "\r",
      " 21%|██        | 210/1000 [01:35<05:34,  2.36it/s]"
     ]
    },
    {
     "name": "stdout",
     "output_type": "stream",
     "text": [
      "基 于 北 斗 的 下 投 式 空 降 区 域 探 测 仪 设 计\n",
      "下 投 式 空 降 区 域 探 测 仪 的 设 计 与 实 现\n",
      "现代战争表明,在实施空降作战前实时掌握空降区域3000m以下气象条件及地理要素,对空降作战行动的成败有着直接影响。论文给出了基于北斗定位测风和无线传输技术的下投式空降区域探测仪设计方案。下投式空降区域探测仪,可在降落过程中对空降着陆区域的大气温度、湿度、压力和风向、风速等气象要素的垂直分布进行测量,同时能够对空降着陆区域的地理环境进行高清成像。下投式空降区域探测仪的使用可以有效提高伞兵着陆精度,减小着陆散布面积,为空降作战行动的成功提供有力保障。\n",
      "\n"
     ]
    },
    {
     "name": "stderr",
     "output_type": "stream",
     "text": [
      "\r",
      " 21%|██        | 211/1000 [01:36<05:22,  2.45it/s]"
     ]
    },
    {
     "name": "stdout",
     "output_type": "stream",
     "text": [
      "高 精 度 密 炼 机 混 炼 温 度 智 能 控 制 系 统 设 计\n",
      "高 精 度 密 炼 机 混 炼 温 度 智 能 控 制 系 统 设 计\n",
      "密炼机混炼过程中胶料质量的难以控制,一直是橡胶塑料机械行业面临的问题。论文介绍了基于24位高精度ADS1248测温专用芯片和PT100铂热电阻的多路温度采集系统,经过PT100温度采集电路得到的模拟电压信号经过ADS1248进行模数转换后送入以STM32F103控制器进行处理,通过测量混炼胶温度th,冷却水温度ts,转子温度tr和上顶栓压力p,利用模糊自适应PID控制算法,实现对转子转速r、冷却水温度ts和上顶栓压力p的有效控制。该控制系统测温原理简单,精度高,响应度强,并对密炼机混炼温度实现了有效控制。\n",
      "\n"
     ]
    },
    {
     "name": "stderr",
     "output_type": "stream",
     "text": [
      "\r",
      " 21%|██        | 212/1000 [01:36<05:23,  2.43it/s]"
     ]
    },
    {
     "name": "stdout",
     "output_type": "stream",
     "text": [
      "基 于 变 下 垂 系 数 的 蓄 电 池 充 放 电 管 理\n",
      "基 于 负 荷 功 率 分 配 的 孤 岛 微 电 网 能 量 管 理\n",
      "由于可再生的分布式发电单元受环境影响较大,不能向负荷提供稳定持续的能量供给,需要在微网中加入储能单元,使微网可以在孤岛情况下长时间稳定运行。储能单元的工作情况和使用寿命直接影响整个微电网运行的经济性与可靠性,因此提出根据蓄电池的充放电电流和SOC(State of Charge,SOC)之间的关系,对蓄电池单元逆变器进行控制。利用PSCAD仿真软件搭建系统模型,将蓄电池的充放电电流的控制与蓄电池SOC控制相结合,从负荷功率的分配端对负荷功率进行重新分配,将蓄电池的工作电流和SOC值限定在安全范围内,提出一种利用下垂控制的孤岛微电网能量管理方案。仿真结果验证了该策略的可行性。\n",
      "\n"
     ]
    },
    {
     "name": "stderr",
     "output_type": "stream",
     "text": [
      "\r",
      " 21%|██▏       | 213/1000 [01:36<05:11,  2.53it/s]"
     ]
    },
    {
     "name": "stdout",
     "output_type": "stream",
     "text": [
      "基 于 键 盘 和 鼠 标 击 键 行 为 的 用 户 身 份 识 别\n",
      "基 于 键 盘 和 鼠 标 的 击 键 特 征 识 别\n",
      "针对用户信息的安全性和解决单一击键行为特征识别度不高的问题,提出一种基于键盘和鼠标的击键特征识别方法。该方法通过用户聊天和点击聊天窗口等采集键盘和鼠标击键行为特征,将加权贝叶斯和欧式距离算法结合,从而实现用户身份识别。实验结果表明,该算法在32名用户真实击键记录组成的数据集上错误接受率FAR和错误拒绝率FRR分别为2.64%和3.38%,随着对外界环境因素的控制,该方法的准确率还可以进一步提升。\n",
      "\n"
     ]
    },
    {
     "name": "stderr",
     "output_type": "stream",
     "text": [
      "\r",
      " 21%|██▏       | 214/1000 [01:37<05:55,  2.21it/s]"
     ]
    },
    {
     "name": "stdout",
     "output_type": "stream",
     "text": [
      "正 弦 波 测 量 高 速 模 数 转 换 器 ( a d c ) 的 i n l / d n l\n",
      "一 种 正 弦 波 测 量 高 速 模 数 转 换 器 ( a d c ) 的 i n l / d n l 方 法\n",
      "积分非线性(INL)和微分非线性(DNL)是数据转换器(ADC)最重要的参数之一,在高速、高动态性能数据转换器中尤其重要,对高分辨率成像应用中具有重要意义。论文简要回顾了这两个参数的定义,并系统性阐述一种非常用的正弦波测量高速模数转换器(ADC)的INL/DNL的方法。\n",
      "\n"
     ]
    },
    {
     "name": "stderr",
     "output_type": "stream",
     "text": [
      "\r",
      " 22%|██▏       | 215/1000 [01:37<05:23,  2.43it/s]"
     ]
    },
    {
     "name": "stdout",
     "output_type": "stream",
     "text": [
      "基 于 物 联 网 的 船 舶 电 力 设 备 状 态 监 测 系 统\n",
      "基 于 物 联 网 的 船 舶 电 力 设 备 状 态 监 测 系 统 设 计\n",
      "船舶电力设备是船舶电力系统的重要组成元素,它的可靠性是电网安全运行的保证。传统的船舶监控系统布线复杂,数据处理方式较为单一。论文中设计的基于物联网的船舶电力设备状态监测系统通过船舶部分的采集端以及船舶部分与陆地上的设备数据处理和仿真,从而预测电力设备的后续运行状态并提醒船上的运营人员做出处理,该系统对船舶电力设备信息管理的后续研究以及标准化、信息化有重要意义。\n",
      "\n"
     ]
    },
    {
     "name": "stderr",
     "output_type": "stream",
     "text": [
      "\r",
      " 22%|██▏       | 216/1000 [01:38<05:25,  2.41it/s]"
     ]
    },
    {
     "name": "stdout",
     "output_type": "stream",
     "text": [
      "n m o s 大 气 中 子 辐 射 效 应 仿 真 研 究\n",
      "临 近 空 间 中 子 辐 射 单 粒 子 效 应 仿 真 研 究\n",
      "在临近空间内运行的临近空间飞行器,容易受到临近空间中大气中子的辐射影响,尤其是其上搭载的FPGA等大规模集成电路,极易发生单粒子翻转,影响整个飞行器的安全运行。单粒子翻转大多由于NMOS管受粒子辐射作用产生瞬态脉冲电流导致,论文利用TCAD对NMOS管进行建模,仿真得出受不同能量中子辐射所产生的脉冲电流,从而找到利用仿真手段得出NMOS管受大气中子辐射影响产生瞬态电流的方法,为后续研究FPGA受大气中子辐射单粒子效应奠定基础。\n",
      "\n"
     ]
    },
    {
     "name": "stderr",
     "output_type": "stream",
     "text": [
      "\r",
      " 22%|██▏       | 217/1000 [01:38<05:18,  2.46it/s]"
     ]
    },
    {
     "name": "stdout",
     "output_type": "stream",
     "text": [
      "二 层 分 解 技 术 在 电 价 预 测 中 的 应 用 研 究\n",
      "基 于 神 经 网 络 的 多 步 电 价 多 步 预 测 模 型\n",
      "针对电价波动幅度大且预测精度低的问题，提出了二层分解技术与神经网络组成的电价多步预测模型。该模型首先采用集合经验模式分解将原始电价序列分解为一系列分量，变分模态分解将第一层分解产生的最高频率分量进一步分解为一系列模态分量，所有分量采用神经网络模型进行预测，并使用纵横交叉算法对神经网络的参数进行优化，最后叠加所有子序列，得出预测电价值。仿真结果表明，所提出的模型相比其他混合模型具有更好的预测性能，且实用价值高。\n",
      "\n"
     ]
    },
    {
     "name": "stderr",
     "output_type": "stream",
     "text": [
      "\r",
      " 22%|██▏       | 218/1000 [01:38<05:09,  2.53it/s]"
     ]
    },
    {
     "name": "stdout",
     "output_type": "stream",
     "text": [
      "局 部 扩 展 的 遗 传 优 化 重 叠 社 区 发 现 方 法\n",
      "局 部 扩 展 的 遗 传 优 化 重 叠 社 区 发 现 算 法\n",
      "重叠社区结构是复杂网络的一种重要的特征，提出了一种局部扩展的遗传优化重叠社区发现（LEGAOCD）。借鉴局部扩展的重叠社区发现方法的思想，将少数的核心节点构成模体；同时，利用了三角形模体来判断社区的稳定性度量问题，从而量化社区结构稳定性；然后通过改进的遗传优化算法策略分配它们应归属的社区；最后通过两个评价目标函数得到高质量的重叠社区结构。该算法在数据集上与经典的CPM算法、COPRA算法作比较，实验结果表明，LEGAOCD算法在检测重叠社区结构和重叠节点方面具有较优的性能。\n",
      "\n"
     ]
    },
    {
     "name": "stderr",
     "output_type": "stream",
     "text": [
      "\r",
      " 22%|██▏       | 219/1000 [01:39<04:44,  2.74it/s]"
     ]
    },
    {
     "name": "stdout",
     "output_type": "stream",
     "text": [
      "2 0 1 9 年 第 十 一 届 数 字 图 像 处 理 国 际 会 议 ( i c d i p 2 0 1 9 )   2 0 1 9 年 5 月 1 0 ～ 1 3 日   广 州 中 山 大 学\n",
      "数 字 图 像 处 理 技 术 国 际 会 议 综 述\n",
      "数字图像处理技术自进入21世纪以来,随着计算机技术的迅猛发展和相关理论的不断完善,在许多领域受到广泛重视并取得重大的开拓性成就。随着广泛的农牧业、林业、环境、军事、工业和医学等方面的应用需求的增长,该技术已成为一门引人注目、前景远大的科学。目前,国际化趋势加快,各国学术界人士更注重技术和科研成果以及研究思想理论的交流。数字图像处理国际会议自2009年起,已先后在泰国曼谷、新加坡、中国成都(2011年和2016年)、马来西亚吉隆坡、中国北京、希腊雅典、美国洛杉矶、中国香港以及中国上海成功举行,大会已经成为相\n",
      "\n"
     ]
    },
    {
     "name": "stderr",
     "output_type": "stream",
     "text": [
      "\r",
      " 22%|██▏       | 220/1000 [01:39<04:25,  2.94it/s]"
     ]
    },
    {
     "name": "stdout",
     "output_type": "stream",
     "text": [
      "镜 像 上 肢 康 复 机 器 人 研 究\n",
      "镜 像 康 复 机 器 人 关 键 技 术 研 究\n",
      "近80%的脑卒中存活者会发生肢体残疾,其中以上肢问题影响更为剧烈。康复医学与机器人学、生物医学、人工智能等学科高度交叉的镜像康复机器人,是解决患者康复训练问题的前沿技术途径。针对基于镜像机理形成的康复机器人,研究分析了镜像上肢康复机器人的现状以及其中关键技术路线、核心实现方式,阐述了主要功能与技术特点。在此基础上,分析了在研究中存在的瓶颈问题,并提出相应的解决策略,以期为今后的镜像机器人研究提供方向。\n",
      "\n"
     ]
    },
    {
     "name": "stderr",
     "output_type": "stream",
     "text": [
      "\r",
      " 22%|██▏       | 221/1000 [01:39<04:08,  3.13it/s]"
     ]
    },
    {
     "name": "stdout",
     "output_type": "stream",
     "text": [
      "物 联 网 中 大 规 模 r f i d 标 签 盘 存 方 法 研 究\n",
      "大 规 模 r f i d 标 签 盘 存 方 法 综 述\n",
      "面向物联网应用,对大规模RFID标签盘存方法进行分析研究。首先介绍RFID系统基本原理,特别是大规模RFID标签盘存方法,分析标签盘存中所包括的移动标签识别、丢失标签监测和未识别标签监测问题;然后从现实信道环境角度考虑,着重综述标签盘存方法研究现状,包括对移动标签识别方法、丢失标签监测方法、未识别标签监测方法进行对比分析,并指出本领域存在的主要问题及未来研究给出建议。\n",
      "\n"
     ]
    },
    {
     "name": "stderr",
     "output_type": "stream",
     "text": [
      "\r",
      " 22%|██▏       | 222/1000 [01:40<04:16,  3.03it/s]"
     ]
    },
    {
     "name": "stdout",
     "output_type": "stream",
     "text": [
      "基 于 概 率 软 逻 辑 的 多 层 次 识 别 和 推 理\n",
      "基 于 概 率 软 逻 辑 的 老 年 人 活 动 识 别 方 法 研 究\n",
      "随着全球老龄化人口增长,老年人的日常行为监管和护理也成为极具挑战性的社会问题。为了应对这种不断增长的社会需求,提出了一种由数据和知识共同驱动、使用概率软逻辑(probabilistic soft logic)和多层次分析对老年人的日常活动进行建模的方法,来解决老年人护理中的活动识别问题。实验表明,该方法在活动识别和异常活动检测上比隐马尔可夫模型能产生更高的精度,并且比非层次识别方法具有更快的响应速度。\n",
      "\n"
     ]
    },
    {
     "name": "stderr",
     "output_type": "stream",
     "text": [
      "\r",
      " 22%|██▏       | 223/1000 [01:40<04:25,  2.93it/s]"
     ]
    },
    {
     "name": "stdout",
     "output_type": "stream",
     "text": [
      "基 于 深 度 学 习 的 判 决 结 果 倾 向 性 分 析\n",
      "基 于 l s t m 的 判 决 结 果 倾 向 性 分 析\n",
      "判决结果的倾向性分析对于裁判文书的规范化、推荐诉讼律师等后续工作有着重大的意义,但是缺少有效的分析模型。为了充分利用海量数据的裁判文书,提出了一个判决结果倾向性分析的模型。从半结构化的裁判文书中抽取出关键特征,利用模糊匹配的方式对判决结果中的多重实体进行识别和清洗,将处理结果交由基于LSTM的深度学习神经网络进行倾向性判断。通过对三种案由的数据集进行实验,该模型的准确率最高可达98. 3%,验证了该模型在判决结果的倾向性分析任务中具有很高的有效性。\n",
      "\n"
     ]
    },
    {
     "name": "stderr",
     "output_type": "stream",
     "text": [
      "\r",
      " 22%|██▏       | 224/1000 [01:40<04:20,  2.98it/s]"
     ]
    },
    {
     "name": "stdout",
     "output_type": "stream",
     "text": [
      "基 于 随 机 子 空 间 的 多 标 签 类 属 特 征 提 取 算 法\n",
      "基 于 类 属 属 性 的 多 标 签 学 习 算 法\n",
      "目前多标签学习已广泛应用到很多场景中。在此类学习问题中,一个样本往往可以同时拥有多个类别标签。因为类别标签可能带有的特有属性(即类属属性)将更有助于标签分类,所以已经出现了一些基于类属属性的多标签学习算法。针对类属属性构造会导致属性空间存在冗余的问题,提出了一种多标签类属特征提取算法LIFT_RSM。该算法基于类属属性空间通过综合利用随机子空间模型及成对约束降维思想提取有效的特征信息,以达到提升分类性能的目的。在多个数据集上的实验结果表明,与若干经典的多标签算法相比,提出的LIFT_RSM算法能得到更好的分类效果。\n",
      "\n"
     ]
    },
    {
     "name": "stderr",
     "output_type": "stream",
     "text": [
      "\r",
      " 22%|██▎       | 225/1000 [01:41<04:33,  2.84it/s]"
     ]
    },
    {
     "name": "stdout",
     "output_type": "stream",
     "text": [
      "改 进 遗 传 算 法 优 化 b p 神 经 网 络 的 语 音 情 感 识 别\n",
      "改 进 遗 传 算 法 优 化 b p 神 经 网 络 的 语 音 情 感 识 别\n",
      "为了更为有效地识别语音信号中的情感类型,提出一种改进遗传算法优化BP神经网络的识别算法(IAGA-BP)。该算法一方面改进了自适应遗传算法中的选择算子,另一方面更改了自适应遗传算法中的交叉和变异概率公式。通过对自适应遗传算法的改进,提升了遗传算法的寻优性能,并以此对BP神经网络初始的权阈值进行优化。实验结果表明,在与BP、GA-BP和AGA-BP网络的比较中,IAGA-BP网络能够有效提高语音情感识别率,并加快了网路收敛速度。\n",
      "\n"
     ]
    },
    {
     "name": "stderr",
     "output_type": "stream",
     "text": [
      "\r",
      " 23%|██▎       | 226/1000 [01:41<04:28,  2.88it/s]"
     ]
    },
    {
     "name": "stdout",
     "output_type": "stream",
     "text": [
      "基 于 深 度 学 习 的 a d h d 儿 童 和 正 常 儿 童 脑 电 信 号 分 类 研 究\n",
      "两 类 儿 童 脑 电 信 号 的 分 类 研 究\n",
      "针对注意缺陷多动障碍(attention deficit hyperactivity disorder,ADHD)儿童和正常儿童的分类问题,实验采用经典干扰控制任务范式对两类儿童的事件相关电位(event-related potential,ERP)进行了研究,旨在通过ERP特征实现其分类。实验首次使用长短期记忆(long-short term memory,LSTM)方法分析两类儿童前额叶与顶枕叶脑区最佳电极(p &lt;0. 05)潜伏期(200～450 ms)的脑电信号,并自动学习和分类其ERP特征。相比常规分类方法,LSTM方法的分类率略高,可达95. 78%。研究结果表明LSTM方法有助于ADHD儿童脑电信号的分类,为ADHD儿童个体诊断技术提供了一种新思路。\n",
      "\n"
     ]
    },
    {
     "name": "stderr",
     "output_type": "stream",
     "text": [
      "\r",
      " 23%|██▎       | 227/1000 [01:41<04:47,  2.69it/s]"
     ]
    },
    {
     "name": "stdout",
     "output_type": "stream",
     "text": [
      "基 于 b - l i s t 的 最 大 频 繁 项 集 挖 掘 算 法\n",
      "基 于 构 造 链 表 的 最 大 频 繁 项 集 挖 掘 算 法\n",
      "针对现有的最大频繁项集挖掘算法挖掘时间过长、内存消耗较大的问题,提出了一种基于构造链表B-list的最大频繁项集挖掘算法BMFI。该算法利用B-list数据结构来挖掘频繁项集,并采用全序搜索树作为搜索空间,然后采用父等价剪枝技术来缩小搜索空间;最后再结合基于MFI-tree的投影策略实现超集检测来提高算法的效率。实验结果表明,BMFI算法在时间效率与空间效率方面均优于FPMAX与MFIN算法。该算法在稠密数据集与稀疏数据集中进行最大频繁项集挖掘时均有良好的效果。\n",
      "\n"
     ]
    },
    {
     "name": "stderr",
     "output_type": "stream",
     "text": [
      "\r",
      " 23%|██▎       | 228/1000 [01:42<04:54,  2.62it/s]"
     ]
    },
    {
     "name": "stdout",
     "output_type": "stream",
     "text": [
      "图 优 化 的 低 秩 双 随 机 分 解 聚 类\n",
      "基 于 最 小 化 k l 和 d c d 的 优 化 聚 类\n",
      "低秩双随机矩阵分解聚类(low-rank doubly stochastic matrix decomposition for cluster analysis,DCD)通过最小化KL(Kullback-Leibler)散度准则:KL(A,S),从图关联矩阵S中获得一个非负低秩双随机矩阵分解:A=UUT(U≥0),并以U作为类标签矩阵进行聚类。在DCD方法中,因矩阵S是固定不可变的,故S初始取值选取的好坏对聚类结果有极大影响,这导致了它缺乏稳定性。针对这一问题,提出了一种基于图优化的DCD方法,将图关联矩阵S和DCD的优化集成在统一框架中,这改进和拓展了原始的DCD方法。实验结果表明,与DCD方法相比,图优化的DCD方法具有更好的聚类精确度和稳定性。\n",
      "\n"
     ]
    },
    {
     "name": "stderr",
     "output_type": "stream",
     "text": [
      "\r",
      " 23%|██▎       | 229/1000 [01:42<04:59,  2.58it/s]"
     ]
    },
    {
     "name": "stdout",
     "output_type": "stream",
     "text": [
      "用 户 兴 趣 变 化 和 类 别 关 联 度 的 混 合 推 荐 算 法\n",
      "融 合 用 户 兴 趣 变 化 和 类 别 关 联 度 的 混 合 推 荐 算 法\n",
      "协同过滤算法是目前推荐系统中最普遍的个性化推荐技术。针对传统算法相似性度量方法不足的问题,提出了融合用户兴趣变化和类别关联度的混合推荐算法。算法根据用户的评分项目信息来对项目进行类别划分,挖掘出用户对不同类别项目的喜爱关注程度;同时将基于时间的兴趣度权重函数引入项目相似度计算之中来进一步提高计算的精确度;最后将改进后的相似度计算方法融入到用户聚类方法中,用户聚类之后,其所在的类别将对用户推荐准确度产生极大的作用。实验结果表明,在MovieLens-1k数据集上运行该算法,在运行效率和精确度上都有所提高。\n",
      "\n"
     ]
    },
    {
     "name": "stderr",
     "output_type": "stream",
     "text": [
      "\r",
      " 23%|██▎       | 230/1000 [01:43<05:13,  2.46it/s]"
     ]
    },
    {
     "name": "stdout",
     "output_type": "stream",
     "text": [
      "基 于 二 分 搜 索 密 度 峰 算 法 的 r b f n n 在 月 降 水 预 报 中 的 应 用\n",
      "基 于 二 分 搜 索 密 度 峰 聚 类 的 径 向 基 函 数 预 报 模 型\n",
      "针对径向基函数(RBF)网络结构和初始数据中心难以客观确定的不足,采用二分搜索密度峰聚类算法(TSDPCA)找到数据中心值及数据簇类个数作为RBF神经网络的初始参数和隐藏层节点数,再利用梯度下降法优化RBFNN结构及各个参数建立预报模型,并应用于广西月降水预报中,以检验该模型的有效性。结果表明,与K-RBFNN和OLS-RBFNN的模型相比,TSDPCA-RBFNN预报平均相对误差值下降了10%～35%,具有更好的预报性能。\n",
      "\n"
     ]
    },
    {
     "name": "stderr",
     "output_type": "stream",
     "text": [
      "\r",
      " 23%|██▎       | 231/1000 [01:43<05:08,  2.49it/s]"
     ]
    },
    {
     "name": "stdout",
     "output_type": "stream",
     "text": [
      "基 于 动 态 加 权 p p i 网 络 的 关 键 蛋 白 质 识 别 算 法\n",
      "基 于 动 态 加 权 p i 网 络 的 关 键 蛋 白 质 预 测 方 法\n",
      "与静态PPI网络相比,动态PPI网络更能体现蛋白质之间相互作用的真实情况,并有效降低PPI网络中的假阴性。现有的关键蛋白质预测方法主要应用在静态PPI网络,忽视了PPI网络的动态特性。为有效预测关键蛋白质,利用基因表达数据提取蛋白质的动态信息,再结合静态PPI网络构建动态PPI网络,然后引入GO术语对网络加权,并基于动态加权PPI网络提出一种新的预测方法——DWE。该方法以蛋白质在动态网络中的动态加权边之和与蛋白质在动态网络中出现的次数的比值衡量蛋白质在网络中的关键性。实验结果表明动态加权PPI网络有助于提高关键蛋白质的预测精度,且DWE方法优于其他几种关键蛋白质预测方法。\n",
      "\n"
     ]
    },
    {
     "name": "stderr",
     "output_type": "stream",
     "text": [
      "\r",
      " 23%|██▎       | 232/1000 [01:44<05:20,  2.40it/s]"
     ]
    },
    {
     "name": "stdout",
     "output_type": "stream",
     "text": [
      "基 于 预 读 及 简 单 注 意 力 机 制 的 句 子 压 缩 方 法\n",
      "基 于 预 读 及 简 单 注 意 力 机 制 的 英 文 句 子 压 缩\n",
      "针对英文句子压缩方法进行研究,提出一种基于预读及简单注意力机制的压缩方法。在编码器—解码器(encoder-decoder)框架下,以循环门单元(gated recurrent unit,GRU)神经网络模型为基础,在编码阶段对原句语义进行两次建模。首次建模结果作为全局信息,加强二次语义建模,得到更全面准确的语义编码向量。解码阶段充分考虑删除式句子压缩的特殊性,适用简单注意力(3t-attention)机制,将编码向量中与当前解码时刻最相关的语义部分输入到解码器中,提高预测效率及准确率。在谷歌新闻句子压缩数据集上的实验结果表明,所提压缩方法优于已有公开结果。因此,预读及简单注意力机制可有效提高英文句子压缩精度。\n",
      "\n"
     ]
    },
    {
     "name": "stderr",
     "output_type": "stream",
     "text": [
      "\r",
      " 23%|██▎       | 233/1000 [01:44<05:33,  2.30it/s]"
     ]
    },
    {
     "name": "stdout",
     "output_type": "stream",
     "text": [
      "异 构 环 境 下 的 多 子 阵 合 成 孔 径 声 呐 距 离 多 普 勒 成 像 算 法\n",
      "异 构 环 境 下 的 多 子 阵 合 成 孔 径 声 呐 快 速 成 像\n",
      "为解决多子阵合成孔径声呐成像效率低的问题,提出了一种异构环境下的多子阵合成孔径声呐快速成像方法。根据多子阵合成孔径声呐距离多普勒成像算法特点以及CPU和GPU各自计算特点,通过将算法中距离向脉冲压缩、固定相位补偿、距离徙动校正和方位向脉冲压缩密集型运算采用GPU计算,极大提高了多子阵合成孔径声呐成像效率。最后通过实测数据的成像实验对所提算法的正确性和高效性进行了验证,与串行计算方法相比加速比高达14. 45。\n",
      "\n"
     ]
    },
    {
     "name": "stderr",
     "output_type": "stream",
     "text": [
      "\r",
      " 23%|██▎       | 234/1000 [01:44<05:21,  2.38it/s]"
     ]
    },
    {
     "name": "stdout",
     "output_type": "stream",
     "text": [
      "动 态 分 级 的 改 良 蚂 蚁 算 法 及 其 应 用 研 究\n",
      "基 于 狼 群 算 法 的 机 器 人 路 径 规 划 问 题 研 究\n",
      "针对蚂蚁算法处理机器人路径规划问题时收敛速度慢、协同机制不够完善的问题,结合狼群算法思想提出一种动态分级的改良蚂蚁算法。首先,根据动态分级算子建立种群分级模型;然后,为了改善协同机制,通过结合轮盘赌的头狼影响策略来增加种群间交流;最后,为了提高收敛速度,在保留蚂蚁算法信息素更新公式的同时,通过采取归一化处理的动态信息素更新策略来体现精英作用。为验证效果,采用栅格法对机器人运动空间进行建模,将该算法运用于路径规划问题求解中,并与另外几种智能算法进行比较。仿真结果表明,该算法的收敛速度较快,能以较少的迭代次数找到最优路径,效率较高。\n",
      "\n"
     ]
    },
    {
     "name": "stderr",
     "output_type": "stream",
     "text": [
      "\r",
      " 24%|██▎       | 235/1000 [01:45<05:10,  2.46it/s]"
     ]
    },
    {
     "name": "stdout",
     "output_type": "stream",
     "text": [
      "结 合 基 因 遗 传 和 贪 婪 搜 索 的 布 谷 鸟 社 区 检 测 算 法\n",
      "面 向 模 块 度 优 化 的 布 谷 鸟 社 区 检 测 算 法\n",
      "为了提高复杂网络社区结构挖掘的精度,结合基因遗传和贪婪搜索提出一种面向模块度优化的布谷鸟社区检测算法(GGCSCA)。布谷鸟种群在有序邻居表上逐维随机游走,并采用优质基因遗传策略,使得种群高效优化,同时应用局部模块度增量最大化的贪婪偏好搜索算法快速提升种群质量,以取得好的社区划分结果。GGCSCA在基准网络和经典网络上进行了实验,并与一些典型算法进行对比,结果说明了本社区发现算法的有效性、准确性和快速收敛性,具有较强的社区识别能力,能够精细地检测出网络社区结构。\n",
      "\n"
     ]
    },
    {
     "name": "stderr",
     "output_type": "stream",
     "text": [
      "\r",
      " 24%|██▎       | 236/1000 [01:45<05:25,  2.35it/s]"
     ]
    },
    {
     "name": "stdout",
     "output_type": "stream",
     "text": [
      "约 束 条 件 下 b n 参 数 最 大 熵 模 型 扩 展 学 习 算 法\n",
      "小 数 据 集 条 件 下 贝 叶 斯 网 络 参 数 建 模 算 法\n",
      "在很多智能系统的参数建模时,用户往往面对建模样本稀少的困境。针对在小数据集条件下贝叶斯网络(BN)参数建模的问题,提出了一种约束数据最大熵BN参数学习算法(CDME)。首先利用小数据集估算BN参数,随后把定性的专家经验转换为不等式约束,并利用Bootstrap算法生成满足约束的一组参数候选集,再根据信息最大熵进行加权计算出BN参数。实验结果表明,当数据量充分时,CDME参数学习算法与经典的MLE算法的学习精度近似,表明了算法的正确性;在小数据集条件下,利用CDME算法可以对BN进行参数建模,学习精度优于MLE和QMAP算法。CDME算法在实际故障诊断样本数据相对稀缺的条件下,获取了诊断BN模型参数,在此基础上完成的诊断推理结果也印证了算法的有效性,为小数据集条件下的参数建模提供了一条新途径。\n",
      "\n"
     ]
    },
    {
     "name": "stderr",
     "output_type": "stream",
     "text": [
      "\r",
      " 24%|██▎       | 237/1000 [01:46<05:52,  2.17it/s]"
     ]
    },
    {
     "name": "stdout",
     "output_type": "stream",
     "text": [
      "面 向 基 因 选 择 的 结 合 r e l i e f - f 和 决 策 树 的 a p s o 算 法\n",
      "结 合 r e l i e f - f 和 c a r t 决 策 树 的 自 适 应 粒 子 群 优 化 算 法\n",
      "由于基因表达数据高维度、高噪声、小样本的特点,基因选择一直是肿瘤分类的一大挑战。为了提高肿瘤分类的精度,同时保证基因选择的效率,提出一种结合Relief-F和CART决策树的自适应粒子群优化(APSO)算法(R-C-APSO)。该方法首先利用Relief-F快速过滤大量无关基因和噪声,缩小基因选择范围;然后以CART决策树为适应度函数,用APSO算法对基因进行最终搜索。通过六个数据集的分析实验,结果表明R-C-APSO拥有较高的分类精度和较快的基因选择速度,且具有良好的稳定性。\n",
      "\n"
     ]
    },
    {
     "name": "stderr",
     "output_type": "stream",
     "text": [
      "\r",
      " 24%|██▍       | 238/1000 [01:46<05:56,  2.14it/s]"
     ]
    },
    {
     "name": "stdout",
     "output_type": "stream",
     "text": [
      "不 完 备 系 统 多 准 则 决 策 的 云 p d r 方 法\n",
      "基 于 云 概 率 优 势 关 系 的 不 完 备 系 统 多 准 则 决 策 方 法\n",
      "针对多准则决策问题的意义以及经典粗糙集方法在不完备系统方案排序问题中的不足,在前人基于概率优势关系(PDR)排序方法的基础上,结合云理论提出了基于云概率优势关系的不完备系统多准则决策方法,即云PDR排序法。将期望、熵、超熵等参数引入PDR方法,充分考虑了决策的模糊性、波动性和随机性,评价过程和结果更加客观全面。以煤炭资源型城市为例进行应用研究,获得其中各城市发展水平及其波动情况的排序,并通过与其他方法结果的比较验证了该方法的优势与有效性。\n",
      "\n"
     ]
    },
    {
     "name": "stderr",
     "output_type": "stream",
     "text": [
      "\r",
      " 24%|██▍       | 239/1000 [01:47<05:28,  2.32it/s]"
     ]
    },
    {
     "name": "stdout",
     "output_type": "stream",
     "text": [
      "供 应 商 竞 争 关 系 下 的 第 三 方 物 流 融 资 及 物 流 服 务 决 策\n",
      "供 应 商 提 供 资 金 约 束 时 的 供 应 链 策 略 选 择\n",
      "研究第三方物流企业(3PL)在处于竞争关系中的供应商面临资金约束时的融资策略选择问题。考虑由两个竞争关系的供应商和一个零售商构成的两级供应链,3PL企业为供应链提供代采购、物流及融资服务,分别考虑在代采购中向供应商提供融资能够获得价格折扣和代采购中考虑额外资金成本情况下,3PL融资意愿选择,向供应商提供(不提供)融资。建立3PL、供应商和零售商在不同情况下的收益模型,并给出供应商和零售商的最优定价,以及3PL的最优物流服务收费决策,通过比较融资前后各个企业的收益分析3PL参与供应链融资的积极作用。研究发现3PL向处于竞争环境下的资金短缺供应商提供融资能够增加3PL、零售商和供应链整体的收益,且3PL更愿意在考虑自身资金成本的情况下向供应商提供融资,并且供应商之间竞争越激烈,3PL和零售商的获益越大。\n",
      "\n"
     ]
    },
    {
     "name": "stderr",
     "output_type": "stream",
     "text": [
      "\r",
      " 24%|██▍       | 240/1000 [01:47<05:24,  2.34it/s]"
     ]
    },
    {
     "name": "stdout",
     "output_type": "stream",
     "text": [
      "基 于 中 心 化 相 似 度 矩 阵 的 词 向 量 方 法\n",
      "基 于 中 心 化 相 似 度 矩 阵 的 词 向 量 研 究\n",
      "对基于矩阵分解的词向量方法进行了研究,发现降维前相似度矩阵质量与词向量质量存在线性相关性,提出了一种基于中心化相似度矩阵的方法。该方法使得相似(不相似或弱相似)词间的相似程度相对增强(减弱)。在WS-353和RW数据集的词语相似性实验中验证了所提出方法的有效性,两个数据集下词向量质量最高提升0. 289 6和0. 180 1。中心化能够提升降维前相似度矩阵质量,进而提升词向量质量。\n",
      "\n"
     ]
    },
    {
     "name": "stderr",
     "output_type": "stream",
     "text": [
      "\r",
      " 24%|██▍       | 241/1000 [01:48<05:41,  2.22it/s]"
     ]
    },
    {
     "name": "stdout",
     "output_type": "stream",
     "text": [
      "基 于 l d a 和 w o r d 2 v e c 的 英 文 作 文 跑 题 检 测\n",
      "结 合 l d a 和 w o r d 2 v e c 的 英 语 作 文 跑 题 检 测 算 法\n",
      "针对目前国内的英语作文辅助批阅系统缺少准确而高效的跑题检测算法的问题,提出了一种结合LDA和word2vec的跑题检测算法。该算法利用LDA模型对文档建模并通过word2vec对文档进行训练,利用得到的文档主题和词语之间的语义关系,对文档中各主题及其特征词计算概率加权和,最终通过设定合理阈值筛选出跑题作文。实验中通过改变文档的主题数而得到不同的F值,确定了最佳主题数。实验结果表明,所提出的方法比基于向量空间模型的方法更具有效性,可以检测到更多的跑题作文,并且准确率较高,F值达到89%以上,实现了作文跑题检测的智能化处理,可以有效地应用在英语作文教学中。\n",
      "\n"
     ]
    },
    {
     "name": "stderr",
     "output_type": "stream",
     "text": [
      "\r",
      " 24%|██▍       | 242/1000 [01:48<05:37,  2.24it/s]"
     ]
    },
    {
     "name": "stdout",
     "output_type": "stream",
     "text": [
      "二 阶 非 线 性 多 智 能 体 系 统 领 导 跟 随 一 致 性 研 究\n",
      "近 似 随 机 脉 冲 输 入 时 延 的 概 念 与 应 用\n",
      "为减少通信时延对系统一致性的影响,针对有领导者的二阶非线性多智能体系统的领导跟随一致性进行了研究,新颖地提出近似随机脉冲时延的概念并应用于新协议。相比于传统协议,新协议在脉冲输入时延较小时,各智能体基于时延态对自身当前时刻状态进行预测,并以自身未来预测状态取代时延态发送给各邻接智能体,同时补偿自身反馈通道时延,从而使系统更快实现一致性。基于Lyapunov稳定性理论,利用一类再推广的Halanay不等式的性质给出两个保证系统实现一致性的充分条件。最后,实例仿真证明了新协议的优越性。\n",
      "\n"
     ]
    },
    {
     "name": "stderr",
     "output_type": "stream",
     "text": [
      "\r",
      " 24%|██▍       | 243/1000 [01:48<05:15,  2.40it/s]"
     ]
    },
    {
     "name": "stdout",
     "output_type": "stream",
     "text": [
      "基 于 改 进 弦 截 法 的 f a s t i c a 算 法 研 究\n",
      "基 于 改 进 弦 截 法 的 f a s t i c a 算 法 改 进 与 应 用\n",
      "针对FastICA算法的收敛性易受初始解混矩阵的初值选择影响,引入梯度下降法降低初值选择敏感性,并且提出改进弦截法,加快收敛速度。实验结果显示,基于改进弦截法的FastICA算法与其他FastICA算法相比,不但提高了算法的分离性能,而且减少了迭代次数,增强了收敛稳定性。所以,改进的FastICA算法克服了初值选择敏感的影响,获得更快速、更鲁棒的语音分离性能。\n",
      "\n"
     ]
    },
    {
     "name": "stderr",
     "output_type": "stream",
     "text": [
      "\r",
      " 24%|██▍       | 244/1000 [01:49<05:43,  2.20it/s]"
     ]
    },
    {
     "name": "stdout",
     "output_type": "stream",
     "text": [
      "基 于 交 织 预 取 率 的 帮 助 线 程 预 取 质 量 调 节 算 法\n",
      "基 于 交 织 预 取 率 的 支 持 线 程 预 取 质 量 参 数 调 节\n",
      "预执行帮助线程在预取过程中需要进行动态预取调节,而传统静态枚举控制参数值的控制方法在预取执行过程中保持固定不变,从而使得该方法不能够有效地为主线程提供预取质量保证(quality of service,Qo S)。针对该问题,提出了一种基于交织预取率的帮助线程预取质量参数调节方法。首先,对帮助线程的预取Qo S优化进行了建模分析;其次,在前期交织预取工作的基础上,提出了基于交织预取率的帮助线程参数值调节算法;最后,在真实的商用多核平台上对所提出帮助线程预取调节算法进行了评测和分析。实验结果是所提出的帮助线程预取调节算法使得基准测试程序的几何平均性能加速比为1. 114,而传统静态枚举方法的几何平均性能加速比为1. 135。实验结果表明,所提出的帮助线程预取质量调节算法解决了帮助线程预取过程中的参数值自动调节问题,算法无须静态枚举参数值便可以快速获得与之相近似的预取性能提升。\n",
      "\n"
     ]
    },
    {
     "name": "stderr",
     "output_type": "stream",
     "text": [
      "\r",
      " 24%|██▍       | 245/1000 [01:49<05:24,  2.33it/s]"
     ]
    },
    {
     "name": "stdout",
     "output_type": "stream",
     "text": [
      "动 态 视 角 下 的 城 市 道 路 交 通 网 络 失 效 评 价 模 型\n",
      "城 市 道 路 单 元 及 交 通 网 络 失 效 评 价 模 型\n",
      "\"利用可靠性相关理论,在对交通网络状态变化规律分析的基础上,给出了城市道路交通单元及交通网络的\"\"失效—非失效\"\"态的表达方法;分析了路段单元及交通网络的状态从观察起始点t0到首次演变到\"\"失效态\"\"的时间分布规律,并以此为基础推导了城市道路单元及交通网络的失效概率、平均失效时长、失效率以及条件失效时长等失效评价模型,给出了模型标定的方法。以国内某城市核心城区五条道路单元组成的路网为实例,对首次失效时间进行了分布拟合及检验,对模型进行了标定,并将模型计算结果与实际观察结果进行了对比。结果表明,利用对数正态分布来拟合首次失效时间较为理想,而且模型的计算结果与实际观察结果也非常接近,表明模型具有良好的实用性。\"\n",
      "\n"
     ]
    },
    {
     "name": "stderr",
     "output_type": "stream",
     "text": [
      "\r",
      " 25%|██▍       | 246/1000 [01:50<05:05,  2.47it/s]"
     ]
    },
    {
     "name": "stdout",
     "output_type": "stream",
     "text": [
      "基 于 贝 叶 斯 网 络 的 遥 感 云 用 户 行 为 认 证 方 法\n",
      "遥 感 云 平 台 中 用 户 行 为 认 证 机 制 预 测\n",
      "针对遥感云服务平台中不可信用户的入侵现象,结合遥感云用户行为特点和贝叶斯网络算法设计了一种用户行为认证方案。该方案论述了遥感云平台用户的行为认证机制,并且根据用户行为特点建立了用户行为认证集,结合贝叶斯网络算法预测特点和用户行为属性建立了用于认证等级预测的贝叶斯网络模型,把该模型中分析得出的用户行为属性的权重信息应用到用户等级预测算法中,使该算法针对遥感云用户认证更安全准确,从而实现对用户行为认证等级的预测。仿真实例表明该方法能够准确识别出不可信用户,有效保证遥感云服务平台的安全性。\n",
      "\n"
     ]
    },
    {
     "name": "stderr",
     "output_type": "stream",
     "text": [
      "\r",
      " 25%|██▍       | 247/1000 [01:50<05:01,  2.49it/s]"
     ]
    },
    {
     "name": "stdout",
     "output_type": "stream",
     "text": [
      "集 群 协 同 制 造 服 务 匹 配 策 略 的 计 算 实 验 比 较 研 究\n",
      "集 群 协 同 制 造 服 务 匹 配 策 略 计 算 实 验 方 法\n",
      "针对如何准确评估各种服务匹配策略、选择出最优的服务策略,以实现集群协同制造过程中的动态环境下的服务供需匹配这一问题,提出了一种集群协同制造服务匹配策略计算实验方法。该方法从三个方面对集群协同制造服务匹配策略进行了深入研究,包括服务匹配策略的设计(只考虑服务资源Qo S(quality of service)属性变化的服务匹配策略、只考虑客户需求变化的服务匹配策略、综合考虑服务资源Qo S属性变化及客户需求变化的服务匹配策略)、集群协同制造实验系统模型的构建、服务匹配策略的分析评估。实验结果表明,在供需稳定及供需波动的市场环境下,综合考虑服务资源Qo S属性变化及客户需求变化的服务匹配策略表现最优,能够很好地实现动态环境下制造服务的供需匹配。\n",
      "\n"
     ]
    },
    {
     "name": "stderr",
     "output_type": "stream",
     "text": [
      "\r",
      " 25%|██▍       | 248/1000 [01:51<05:42,  2.20it/s]"
     ]
    },
    {
     "name": "stdout",
     "output_type": "stream",
     "text": [
      "基 于 m o d c p s o 算 法 的 三 值 f p r m 电 路 面 积 与 延 时 优 化\n",
      "基 于 竞 争 行 为 多 目 标 离 散 粒 子 群 算 法 的 f p r m 极 性 搜 索 方 案\n",
      "针对三值固定RM(fixed polarity Reed-Muller,FPRM)逻辑电路面积与延时综合优化问题进行了研究,提出了一种基于竞争行为多目标离散粒子群算法(multi-objective discrete competitive particle swarm optimization,MODCPSO)的极性搜索方案。首先在MODCPSO算法中引入竞争行为机制,将种群划分为不同的团队,从各个团队中随机抽取两个粒子进行比较,令较差的粒子向着较好的粒子进行速度和位置的更新;同时引入变异机制,令种群粒子能够跳出局部最优解,继续更新进化;然后结合三值FPRM极性转换技术和MODCPSO算法搜索电路面积与延时的最佳极性;最后利用PLA格式的MCNC Benchmark电路实现算法测试,并与DPSO、MODPSO算法进行了性能对比。实验结果验证了MODCPSO算法的有效性。\n",
      "\n"
     ]
    },
    {
     "name": "stderr",
     "output_type": "stream",
     "text": [
      "\r",
      " 25%|██▍       | 249/1000 [01:51<05:26,  2.30it/s]"
     ]
    },
    {
     "name": "stdout",
     "output_type": "stream",
     "text": [
      "信 息 物 理 系 统 在 变 压 器 稳 压 调 节 控 制 中 的 应 用 研 究\n",
      "信 息 物 理 融 合 系 统 稳 压 器 电 压 稳 定 调 节 研 究\n",
      "考虑到现有变压器电压调节方法受调压档位限制,且电压调整判断依据为调度部门确定的电压曲线,难以实现灵活、高效、高精度的变压器输出电压稳定调节,提出一种基于信息物理融合系统的稳压动态调节方法,以更好地解决变压器运行过程中出现的电压偏移问题。建立变压器的物理模型与信息模型,通过物理参数与信息属性的相互映射,利用动态链接对物理模型与信息模型在统一仿真平台上进行整合,建立变压器的信息物理融合系统模型,通过信息量对物理量的实时反馈作用机制,控制变压器原副线圈匝数比的自动调节,实现变压器输出稳压。仿真实验结果表明,信息物理融合方法在变压器输出电压稳定调节应用中具有一定的有效性。\n",
      "\n"
     ]
    },
    {
     "name": "stderr",
     "output_type": "stream",
     "text": [
      "\r",
      " 25%|██▌       | 250/1000 [01:51<05:35,  2.24it/s]"
     ]
    },
    {
     "name": "stdout",
     "output_type": "stream",
     "text": [
      "基 于 国 际 头 痛 诊 断 标 准 的 原 发 性 头 痛 辅 助 决 策 系 统\n",
      "基 于 文 本 化 的 国 际 头 痛 诊 断 标 准 和 知 识 库 构 建 方 法\n",
      "针对原发性头痛在我国发病率较高但诊断准确率较低的问题,提出了一种将文本化的国际头痛诊断标准转换为计算机可执行推理的临床知识建模和知识库构建方法。该方法首先将基于诊断标准绘制的诊断思维流程图转换为规范化的临床知识表达模型,再将临床知识表达模型通过规则映射技术转换为计算机推理诊断所用的规则,形成知识库,并以此为基础开发了覆盖完整头痛诊断流程的原发性头痛辅助决策系统。临床评估显示,该系统可正确地识别出91. 3%的偏头痛、87. 2%的紧张型头痛和90. 0%的丛集性头痛病人,对常见的原发性头痛具有较高的诊断准确率。\n",
      "\n"
     ]
    },
    {
     "name": "stderr",
     "output_type": "stream",
     "text": [
      "\r",
      " 25%|██▌       | 251/1000 [01:52<06:26,  1.94it/s]"
     ]
    },
    {
     "name": "stdout",
     "output_type": "stream",
     "text": [
      "基 于 ( n , r , k ) f o r k - j o i n 队 列 分 析 的 n w r 数 据 库 写 延 时 模 型\n",
      "基 于 解 析 解 和 编 程 的 ( n , r , k ) 队 列 写 延 时 模 型 研 究\n",
      "NWR数据库的写延时估计,可用于发现实现集群构建和运行成本最小化的节点数量、副本因子的配置组合。现有基于基准测试或模拟队列的方法受限于特定的测试配置和测试环境,只能给出写延时随配置变动的粗略结果。从分析NWR数据库Cassandra的写操作的(n,r,k) fork-join队列结构入手,给出了该类队列期望逗留时间的解析解和NWR数据库写延时的理论模型,可用于建立更完备的写延时结论。分别在模拟队列和Cassandra集群上验证了(n,r,k)队列解析解和写延时模型的准确性。\n",
      "\n"
     ]
    },
    {
     "name": "stderr",
     "output_type": "stream",
     "text": [
      "\r",
      " 25%|██▌       | 252/1000 [01:53<06:24,  1.95it/s]"
     ]
    },
    {
     "name": "stdout",
     "output_type": "stream",
     "text": [
      "嵌 入 式 f o r t h 虚 拟 机 架 构 的 多 任 务 调 度 算 法 设 计 与 实 现\n",
      "基 于 f o r t h 虚 拟 机 架 构 的 多 任 务 操 作 系 统 调 度 算 法\n",
      "针对嵌入式应用领域对操作系统在重构、扩展、移植、交互、安全、高效等方面日趋苛刻的现实需求及Forth系统所固有的特性,采用Forth虚拟机技术,对基于Forth虚拟机架构的嵌入式操作系统关键技术进行探索,提出一种具有良好扩展和移植特性、高效精简的基于Forth虚拟机架构的嵌入式多任务操作系统调度算法。该算法采用了以Forth虚拟机指令同步的协同式多任务调度机制,缩短了任务切换时间,将上下文切换操作简化为只需保存数据堆栈指针。实验结果表明,基于Forth虚拟机架构的多任务调度算法发挥了Forth系统所固有的特性,针对特定应用,提高了效率,适合资源有限的嵌入式环境。\n",
      "\n"
     ]
    },
    {
     "name": "stderr",
     "output_type": "stream",
     "text": [
      "\r",
      " 25%|██▌       | 253/1000 [01:53<06:26,  1.93it/s]"
     ]
    },
    {
     "name": "stdout",
     "output_type": "stream",
     "text": [
      "基 于 f o r t h 虚 拟 机 的 嵌 入 式 多 任 务 操 作 系 统 体 系 架 构 研 究\n",
      "基 于 f o r t t h 虚 拟 机 的 嵌 入 式 多 任 务 操 作 系 统 架 构 研 究\n",
      "面对越来越复杂的嵌入式应用需求,以及当今嵌入式操作系统研究领域中亟待解决的重构、移植、维护、可信、多核、众核等诸多难题,采用Forth虚拟机技术,对基于Forth虚拟机架构的嵌入式操作系统关键技术进行探索,提出一种具有良好扩展和移植特性且高效精简的基于Forth虚拟机的嵌入式多任务操作系统体系架构。该架构采用分类存储映射、Forth向量定义和用户变量分离,实现了代码共享和多任务管理。实验结果表明,基于Forth虚拟机架构的嵌入式操作系统在发挥Forth系统固有特性的同时,减少了资源占用,提高了系统的灵活性及运行效率。\n",
      "\n"
     ]
    },
    {
     "name": "stderr",
     "output_type": "stream",
     "text": [
      "\r",
      " 25%|██▌       | 254/1000 [01:54<05:58,  2.08it/s]"
     ]
    },
    {
     "name": "stdout",
     "output_type": "stream",
     "text": [
      "基 于 u m l 类 图 的 模 糊 时 空 数 据 建 模\n",
      "基 于 u m l 类 图 的 模 糊 时 空 数 据 建 模\n",
      "模糊性广泛存在于时空应用领域,现有的时空数据模型缺乏描述和表达模糊时空对象内在机制和语义关系的能力。通过研究模糊时空数据语义,给出了模糊时空数据模型的形式化定义,在此基础上对UML类图进行扩展,提出一种模糊时空UML数据模型,并用例子说明了模糊时空数据模型的可用性。\n",
      "\n"
     ]
    },
    {
     "name": "stderr",
     "output_type": "stream",
     "text": [
      "\r",
      " 26%|██▌       | 255/1000 [01:54<05:22,  2.31it/s]"
     ]
    },
    {
     "name": "stdout",
     "output_type": "stream",
     "text": [
      "基 于 s p a r k 的 两 表 等 值 连 接 过 程 优 化\n",
      "基 于 s p a r k 的 两 表 等 值 连 接 过 程 优 化\n",
      "在数据统计分析查询中表间的等值连接是常用的操作之一,但代价较高。大数据环境下大表之间等值连接的效率更低。为了解决该问题,提出了一种基于Spark的两表等值连接过程优化方法。首先根据数据价值密度特征构建Bloom filter完成表的过滤操作;其次结合simi-join和partition join两者的优势,对过滤后的单侧表使用贪心算法进行拆分;最后对拆分后的子集进行连接,因此把两大表的连接过程转换为分阶段进行的两小表连接。代价分析和实验结果表明,该算法与现有基于Spark的连接操作相比,不仅在性能上得到了提升,而且当出现数据倾斜时对算法效率影响较小。\n",
      "\n"
     ]
    },
    {
     "name": "stderr",
     "output_type": "stream",
     "text": [
      "\r",
      " 26%|██▌       | 256/1000 [01:54<05:17,  2.35it/s]"
     ]
    },
    {
     "name": "stdout",
     "output_type": "stream",
     "text": [
      "一 种 水 下 群 机 器 人 路 径 规 划 算 法 的 形 式 化 研 究\n",
      "水 下 群 机 器 人 路 径 规 划 中 的 的 形 式 化 建 模\n",
      "为了增强基于遗传算法的水下群机器人路径规划算法正确性的说服力,使用定理证明对其进行形式化研究,给出算法在定理证明器HOL4中的形式化模型。基于算法形式化的一般步骤,对算法的设计进行了详细的分析,指出算法设计的核心步骤和建模难点。在此基础上建立了总体形式化建模框架,然后对其进行化简,得到种群初始化、选择、交叉三个核心模块。给出了模型中要用到的基本数据类型的形式化描述,并分别对三个模块进行形式化描述,最终得到算法的形式化模型。通过证明与模型相关的97条性质,说明了模型的合理性及有效性,在此模型的基础上,可以完成对算法的形式化验证,同时还能拓展HOL4的应用范围。\n",
      "\n"
     ]
    },
    {
     "name": "stderr",
     "output_type": "stream",
     "text": [
      "\r",
      " 26%|██▌       | 257/1000 [01:55<05:16,  2.35it/s]"
     ]
    },
    {
     "name": "stdout",
     "output_type": "stream",
     "text": [
      "基 于 多 素 数 和 参 数 替 换 的 改 进 r s a 算 法 研 究\n",
      "改 进 的 r s a 公 钥 算 法 在 消 息 加 密 中 的 应 用\n",
      "为了提高RSA公钥算法在消息加密过程中的安全性,在深入分析传统RSA算法的基础上,对其进行了一些改进性研究,提出了一种比传统RSA算法更加有效的方法来优化其安全性。在将传统RSA改进为四素数RSA的基础上,再运用数学变换进行参数替换,消除了在公钥中对传输两个随机素数的乘积n的需要,引入了一个新的参数x代替原参数n。针对改进后的算法在运算效率方面的不足,采用中国剩余定理CRT优化大数模幂运算。实验结果证实了改进算法的可行性,为通过公钥加密消息发送和接收提供了更安全的路径;同时,对改进算法与传统RSA和四素数RSA算法的解密(签名)时间进行比较分析。实验结果表明改进后的算法对消息发送方和接收方之间签名效率也有一定程度的优化。\n",
      "\n"
     ]
    },
    {
     "name": "stderr",
     "output_type": "stream",
     "text": [
      "\r",
      " 26%|██▌       | 258/1000 [01:55<05:08,  2.40it/s]"
     ]
    },
    {
     "name": "stdout",
     "output_type": "stream",
     "text": [
      "张 量 数 据 中 的 多 密 集 块 检 测 方 法\n",
      "基 于 二 叉 树 搜 索 的 多 密 集 块 检 测 方 法\n",
      "过去的许多研究表明在实际张量数据中密集的部分存在着异常或者欺诈行为,如微博僵尸粉行为、网络攻击等。因此,研究人员提出了各种各样的方法来针对密集块的提取,但是这些方法存在低准确率和低召回率的缺点。针对这些缺点,提出了一种基于二叉树搜索的多密集块检测方法(DDB-BST),通过对张量数据进行基于评价指标的局部搜索,找到评价指标最高的子张量数据,将数据分成左右子节点,通过不断比较父节点和左右子节点评价指标值的数值关系,判断二叉树生长是否终止。同时对终止条件给出了严格的数学证明。在合成数据集以及真实数据集上进行实验,发现DDB-BST比现有的M-zoom多密集块方法的F1值提高了近30%。\n",
      "\n"
     ]
    },
    {
     "name": "stderr",
     "output_type": "stream",
     "text": [
      "\r",
      " 26%|██▌       | 259/1000 [01:55<04:42,  2.63it/s]"
     ]
    },
    {
     "name": "stdout",
     "output_type": "stream",
     "text": [
      "面 向 安 全 的 轮 流 中 继 选 择 方 案\n",
      "面 向 安 全 的 轮 流 中 继 选 择 方 案\n",
      "针对多中继轮流中继系统被窃听的问题,提出面向安全的轮流中继选择方案。首先提出了遍历的最优中继选择方案,并推导得到了保密速率的理论值;然后为降低复杂度,分别从降低计算复杂度和信道估计开销的角度设计了两种两阶段的次优中继选择方案,先缩小中继选择范围再进行搜索。仿真结果表明K-最大主信道中继选择方案能够以较低的复杂度实现最优保密速率。\n",
      "\n"
     ]
    },
    {
     "name": "stderr",
     "output_type": "stream",
     "text": [
      "\r",
      " 26%|██▌       | 260/1000 [01:56<05:20,  2.31it/s]"
     ]
    },
    {
     "name": "stdout",
     "output_type": "stream",
     "text": [
      "一 种 基 于 支 持 向 量 机 的 跨 站 脚 本 漏 洞 检 测 技 术\n",
      "基 于 正 则 表 达 式 和 支 持 向 量 机 的 递 归 特 征 消 去 算 法\n",
      "跨站脚本是一种常见的针对Web应用程序安全的漏洞攻击方式。恶意用户利用漏洞将恶意脚本注入网页之中,当用户浏览该网页时,便会触发脚本,导致攻击行为产生。为此,针对各种变形跨站脚本攻击难以检测问题,对一种基于正则表达式和支持向量机的递归特征消去算法(RE-SVM-RFE)进行了研究。首先采用正则表达式匹配算法,为训练集选择有代表性的特征,即对数据预处理;再利用RE-SVM-RFE特征选择算法选择出最优特征,对具有攻击性的关键词进行特征排序;最后通过总结特征关键字的出现频率,发现频率越高漏洞存在可能性越大。实验结果表明,数据经过RE-SVM-RFE递归特征消去算法选择之后的SVM特征,预测的准确率更高,敏感度和特异度也更好,该算法能够有效地检测出跨站脚本漏洞。\n",
      "\n"
     ]
    },
    {
     "name": "stderr",
     "output_type": "stream",
     "text": [
      "\r",
      " 26%|██▌       | 261/1000 [01:56<05:15,  2.35it/s]"
     ]
    },
    {
     "name": "stdout",
     "output_type": "stream",
     "text": [
      "基 于 序 列 极 值 点 分 段 的 空 中 签 名 身 份 认 证\n",
      "空 中 签 名 序 列 长 的 全 局 匹 配 算 法\n",
      "空中签名序列长,为了解决传统的全局匹配方法造成的匹配慢、签名的局部信息丢失的问题,提出了对签名数据进行极值点分段再进行距离度量的方法。并针对传统DTW算法在极值点匹配中产生的不同极性极值点错匹配问题,提出了一种基于极值点匹配的改进DTW算法,约束DTW算法的匹配路径规则,避免错误匹配情况。在本地数据库上,系统的误拒率(FRR)和误纳率(FAR)分别达到了4. 15%和3. 82%。实验结果表明,与传统的全局匹配算法相比,先分段再进行相似度度量的方法使系统的认证精度和效率得到了提高。\n",
      "\n"
     ]
    },
    {
     "name": "stderr",
     "output_type": "stream",
     "text": [
      "\r",
      " 26%|██▌       | 262/1000 [01:57<05:15,  2.34it/s]"
     ]
    },
    {
     "name": "stdout",
     "output_type": "stream",
     "text": [
      "对 混 合 属 性 数 据 表 可 行 的 差 分 隐 私 保 护 方 法\n",
      "基 于 混 合 属 性 数 据 表 执 行 差 分 隐 私 的 数 据 保 护 方 法\n",
      "为加强隐私保护和提高数据可用性,提出一种可对混合属性数据表执行差分隐私的数据保护方法。该方法首先采用ICMD(insensitive clustering for mixed data)聚类算法对数据集进行聚类匿名,然后在此基础上进行ε-差分隐私保护。ICMD聚类算法对数据表中的分类属性和数值属性采用不同方法计算距离和质心,并引入全序函数以满足执行差分隐私的要求。通过聚类,实现了将查询敏感度由单条数据向组数据的分化,降低了信息损失和信息披露的风险。最后实验结果表明了该方法的有效性。\n",
      "\n"
     ]
    },
    {
     "name": "stderr",
     "output_type": "stream",
     "text": [
      "\r",
      " 26%|██▋       | 263/1000 [01:57<05:20,  2.30it/s]"
     ]
    },
    {
     "name": "stdout",
     "output_type": "stream",
     "text": [
      "基 于 不 完 全 信 息 多 阶 段 博 弈 的 入 侵 路 径 预 测\n",
      "基 于 不 完 全 信 息 多 阶 段 博 弈 的 入 侵 路 径 预 测\n",
      "随着入侵的推进入侵者掌握的信息会逐步增加,依据新信息入侵者会找到更好的入侵路径并作出调整。为了使防御方能准确预测入侵路径,首先基于超图理论建立动态防御图并提出动态防御图更新方法,对入侵者的信息更新进行预测;然后建立不完全信息多阶段博弈模型对不同阶段入侵者的入侵路径调整进行预测;最后设计基于博弈的动态防御图路径预测算法,对完整的入侵路径进行预测。实验给出对入侵路径进行预测的典型实例,对实例结果的分析说明了模型的合理性与准确性。\n",
      "\n"
     ]
    },
    {
     "name": "stderr",
     "output_type": "stream",
     "text": [
      "\r",
      " 26%|██▋       | 264/1000 [01:58<04:48,  2.55it/s]"
     ]
    },
    {
     "name": "stdout",
     "output_type": "stream",
     "text": [
      "分 布 式 入 侵 检 测 中 基 于 能 力 与 负 载 的 数 据 分 割 算 法\n",
      "基 于 能 力 与 负 载 的 数 据 分 割 算 法\n",
      "针对高速网络环境下分布式入侵检测中海量数据并行检测处理的效率和检测率问题,提出一种基于能力与负载的数据分割算法。该算法依据采集到的集群内各数据分析节点的系统性能指标及运行状态,评估节点的数据处理能力与负载程度。基于节点的能力与负载适应因子,权衡节点在集群中检测和分析数据能力的权重,实现海量数据在集群内各数据分析节点间的动态数据分割,为节点分配适应其能力与实时负载的数据粒度。仿真测试结果表明,该算法具有较好的负载均衡性,降低了系统的检测时间,提高了数据并行处理的效率和检测率。\n",
      "\n"
     ]
    },
    {
     "name": "stderr",
     "output_type": "stream",
     "text": [
      "\r",
      " 26%|██▋       | 265/1000 [01:58<04:52,  2.51it/s]"
     ]
    },
    {
     "name": "stdout",
     "output_type": "stream",
     "text": [
      "结 合 纹 理 复 杂 度 和 j n d 模 型 的 图 像 水 印 算 法\n",
      "基 于 d c t 域 n n d 模 型 的 图 像 水 印 算 法\n",
      "针对目前基于灰度共生矩阵相关水印算法存在容量较小的问题,提出一种将纹理复杂度和DCT域JND模型相结合的图像水印算法。首先将原图像分成子块,利用各子块灰度共生矩阵的四个纹理特性计算其纹理复杂度,并据此对子块进行排序以确定水印嵌入的子块位置后对原图像素矩阵进行DCT变换,结合新的分区方式计算各块JND值,根据JND值以及新的嵌入规则确定子块内水印嵌入方式。算法有效考虑了图像块的纹理特性和人眼视觉敏感性,加强了嵌入水印后的图像质量,提高了水印嵌入容量。实验结果表明,所提方法在嵌入相同容量的水印时,图像平均峰值信噪比(PSNR)较现有方法高出4. 27%左右,在嵌入超过原方法容量上限一倍的水印时,图像平均PSNR仍有53. 449 8 d B。\n",
      "\n"
     ]
    },
    {
     "name": "stderr",
     "output_type": "stream",
     "text": [
      "\r",
      " 27%|██▋       | 266/1000 [01:59<05:36,  2.18it/s]"
     ]
    },
    {
     "name": "stdout",
     "output_type": "stream",
     "text": [
      "基 于 c u r v e l e t - d s v d 和 视 觉 密 码 的 强 鲁 棒 零 水 印 算 法\n",
      "基 于 c u r v e l e t - d s v d 和 视 觉 密 码 的 强 鲁 棒 零 水 印 算 法\n",
      "为了更好地表现自然图像的曲线特性,进一步提高数字水印算法的鲁棒性,提出一种基于Curvelet-DSVD和视觉密码相结合的强鲁棒零水印算法。对原始图像进行Arnold置乱;进行Curvelet变换得到低频域信息,对低频域信息进行分块并对各个块进行双奇异值分解(DSVD),利用块最大奇异值与整体奇异值均值之间的关系构造特征矩阵,同时利用视觉密码将水印信息生成两个共享份;最后将其中一个共享份进行Arnold置乱后与特征矩阵进行异或运算生成零水印。实验结果表明,该算法能够有效地抵抗常规攻击,与现有的零水印算法相比,鲁棒性更强,安全性更高。\n",
      "\n"
     ]
    },
    {
     "name": "stderr",
     "output_type": "stream",
     "text": [
      "\r",
      " 27%|██▋       | 267/1000 [01:59<05:21,  2.28it/s]"
     ]
    },
    {
     "name": "stdout",
     "output_type": "stream",
     "text": [
      "基 于 音 频 基 频 特 征 的 鲁 棒 零 水 印 算 法\n",
      "基 于 人 声 和 乐 器 的 鲁 棒 零 水 印 方 法\n",
      "为了将数字音频水印技术与音频内容相结合,基于人声和乐器的基频稳定的特点,从音乐中提取出基频并据此设计一种鲁棒零水印方法。首先通过正规化分谐波叠加算法提取基频,然后采用K-means算法对基频特征进行编码加强其稳定性,最后与水印图像异或生成零水印序列。此外,发生恶意窜改时,对比零水印中的基频信息得到不一致的部分,即可确定恶意窜改区域。实验结果表明,此算法在常规攻击及抖动攻下均具有良好的稳定性,且可实现窜改检测。\n",
      "\n"
     ]
    },
    {
     "name": "stderr",
     "output_type": "stream",
     "text": [
      "\r",
      " 27%|██▋       | 268/1000 [01:59<04:50,  2.52it/s]"
     ]
    },
    {
     "name": "stdout",
     "output_type": "stream",
     "text": [
      "面 向 高 密 度 w i - f i 部 署 环 境 下 的 抗 干 扰 策 略\n",
      "一 种 同 质 干 扰 检 测 机 制 的 研 究\n",
      "\"高密度Wi-Fi部署环境如银行、写字楼、mall等,普遍存在的同质干扰问题是制约用户体验及网络质量提升的痛点。首先,针对该问题研究了干扰检测技术并提出一种识别和度量Wi-Fi节点干扰的干扰程度评估模型。随后提出了\"\"容忍+避让\"\"的抗干扰策略,容忍策略基于捕获效应理论及无线资源管理技术,提升了干扰条件下数据通信质量;避让策略采用局部化信道自协调算法和去中心分布式架构,解决同质干扰中的冲突问题。最后,实现了抗干扰机制Wifi AAS。测试结果表明,该机制可提升10%设备性能,且未带来过大开销。\"\n",
      "\n"
     ]
    },
    {
     "name": "stderr",
     "output_type": "stream",
     "text": [
      "\r",
      " 27%|██▋       | 269/1000 [02:00<05:28,  2.22it/s]"
     ]
    },
    {
     "name": "stdout",
     "output_type": "stream",
     "text": [
      "地 空 信 道 基 于 o f d m / o q a m 系 统 的 波 形 自 适 应 算 法\n",
      "地 空 信 道 基 于 o f d m / o q a m 系 统 的 波 形 自 适 应 算 法\n",
      "传统的正交频分复用/偏移正交幅度调制(OFDM/OQAM)系统波形自适应设计主要针对具有非指数型时延功率谱和非U型多普勒功率谱的信道模型对波形进行优化,而实际中,波形自适应设计会因不同的信道模型产生不同的信道匹配准则系数。结合地空信道模型和扩展高斯函数的特性,在传统基于信干噪比(SINR)优化的OFDM/OQAM系统波形自适应算法的基础上提出一种新的OFDM/OQAM系统波形自适应设计算法。该算法引入信道匹配系数β,通过信道匹配准则建立波形时频域间隔与信道最大多径时延、最大多普勒频移的关系,再结合传统SINR优化函数计算扩展因子参数,将参数反馈给发送端并调整发送端和接收端的滤波器达到波形自适应的目的。仿真结果表明,4QAM和16QAM调制下,信道匹配系数β的引入在系统误码性能上均有1. 0 d B以上的改善。\n",
      "\n"
     ]
    },
    {
     "name": "stderr",
     "output_type": "stream",
     "text": [
      "\r",
      " 27%|██▋       | 270/1000 [02:00<06:04,  2.00it/s]"
     ]
    },
    {
     "name": "stdout",
     "output_type": "stream",
     "text": [
      "高 速 铁 路 移 动 通 信 下 基 于 i m t - a 的 时 变 信 道 建 模\n",
      "高 铁 移 动 下 具 有 时 变 参 数 的 基 于 i m t - a 信 道 建 模 方 法\n",
      "信道建模及其仿真方法是高速铁路移动通信系统设计的难点,同时已有的面向高速移动下IMT-A时变信道建模的研究仍存在不足。针对上述挑战,提出了一种高铁移动下具有时变参数的基于IMT-A信道的建模方法。首先,针对IMT-A的城市宏小区场景,设计了一个马尔可夫过程来模拟时变簇的数量变化,接着推导出随时间变化的信道参数的表达式,其中包括簇的延迟、功率、离开角和到达角,并得到了信道冲激响应;其次,分析了信道的时变空时域互相关函数、时变自相关函数以及平稳间隔;最后,对所提信道模型的统计性质进行了仿真,验证了该模型具有时变性且高速铁路信道具有的非平稳性,并证明了所提信道模型可用来模拟高速铁路信道的可行性。\n",
      "\n"
     ]
    },
    {
     "name": "stderr",
     "output_type": "stream",
     "text": [
      "\r",
      " 27%|██▋       | 271/1000 [02:01<06:01,  2.02it/s]"
     ]
    },
    {
     "name": "stdout",
     "output_type": "stream",
     "text": [
      "引 入 加 权 系 数 消 除 i c i 的 二 次 快 时 变 信 道 估 计 算 法\n",
      "基 于 加 权 系 数 消 除 的 二 次 快 时 变 信 道 估 计\n",
      "针对高速移动环境下由多普勒频移引起的子载波间干扰(inter-carrier interference,ICI),提出一种引入加权系数消除ICI的二次快时变信道估计算法。该算法进行两次信道估计,第一次估计用于提供信道状态信息,在保证符号率的前提下消除ICI,第二次估计在ICI消除的情况下进行,可以提高信道估计精度;并对简化的并行干扰消除(parallel interference cancellation,PIC)算法进行改进,基于最小均方误差准则引入加权系数,使得ICI消除后的残余误差最小。仿真结果和理论分析达到很好的一致性,当信道信噪比为0 d B时,归一化均方误差(normalized mean square error,NMSE)性能增益最大约为0. 071 4,提高了快时变信道估计的精度。\n",
      "\n"
     ]
    },
    {
     "name": "stderr",
     "output_type": "stream",
     "text": [
      "\r",
      " 27%|██▋       | 272/1000 [02:01<06:22,  1.91it/s]"
     ]
    },
    {
     "name": "stdout",
     "output_type": "stream",
     "text": [
      "基 于 混 沌 d u f f i n g 振 子 的 b p s k 信 号 k - m e a n s 聚 类 解 调 方 法\n",
      "基 于 混 沌 d i f f i n g 振 子 的 b p s k 信 号 k - m e a n s 解 调 方 法\n",
      "针对二进制相移键控(binary phase shift keying,BPSK)信号在低信噪比下解调误码率较高的问题,提出了一种基于混沌Duffing振子的K-means解调方法。该方法的思想是根据混沌Duffing振子系统对初值的敏感性以及对噪声的免疫特性,低信噪比下Duffing振子系统输入BPSK信号时,由于BPSK信号相位在0°和π之间的跳变从而导致Duffing振子输出相轨迹状态发生改变。针对相轨迹状态的变化,采用K-means聚类算法对相轨迹进行迭代求质心,根据收敛后的质心间距大小对BPSK信号进行判决解调。仿真结果表明,与现有的几种解调方法相比较,基于混沌Duffing振子的BPSK信号K-means聚类解调方法在低信噪比下解调速度、解调精度等方面都有了较大的提高。\n",
      "\n"
     ]
    },
    {
     "name": "stderr",
     "output_type": "stream",
     "text": [
      "\r",
      " 27%|██▋       | 273/1000 [02:02<06:07,  1.98it/s]"
     ]
    },
    {
     "name": "stdout",
     "output_type": "stream",
     "text": [
      "基 于 低 秩 矩 阵 恢 复 的 d o a 稀 疏 重 构 方 法\n",
      "基 于 加 权 l 1 稀 疏 重 构 的 d o a 估 计 算 法\n",
      "为提高非均匀噪声下波达方向(direction of arrival,DOA)角估计算法的估计精度和分辨率,基于低秩矩阵恢复理论,提出了一种二阶统计量域下的加权l1稀疏重构DOA估计算法。该算法基于低秩矩阵恢复方法,引入弹性正则化因子将接收信号协方差矩阵重构问题转换为可获得高效求解的半定规划(semidefinite programming,SDP)问题以重构无噪声协方差矩阵;而后在二阶统计量域下利用稀疏重构加权l1范数实现DOA参数估计。数值仿真表明,与传统MUSIC、l1-SVD及加权l1算法相比,所提算法能显著抑制非均匀噪声影响,具有较好的DOA参数估计性能,且在低信噪比条件下,所提算法具有较高的角度分辨力和估计精度。\n",
      "\n"
     ]
    },
    {
     "name": "stderr",
     "output_type": "stream",
     "text": [
      "\r",
      " 27%|██▋       | 274/1000 [02:03<06:45,  1.79it/s]"
     ]
    },
    {
     "name": "stdout",
     "output_type": "stream",
     "text": [
      "基 于 最 大 互 相 关 熵 u k f 的 传 感 网 目 标 状 态 和 系 统 偏 差 联 合 估 计 算 法\n",
      "基 于 最 大 互 相 关 熵 无 迹 卡 尔 曼 滤 波 的 目 标 和 系 统 偏 差 联 合 估 计 算 法\n",
      "针对空天地一体化传感网络中传感器观测目标时观测噪声具有重尾或突变性质的问题以及系统偏差对目标状态估计的影响,提出一种基于最大互相关熵无迹卡尔曼滤波(MCUKF)的目标状态和系统偏差联合估计(ASMCUKF)算法。MCUKF算法首先通过无迹变换(UT)获得预测状态估计值和协方差矩阵,然后使用基于最大互相关熵准则(MCC)的非线性回归方法重新构建观测信息,增强了UKF对重尾噪声的鲁棒性。ASMCUKF算法通过目标状态向量扩维的方法建立状态方程和带有系统误差的非线性观测方程,根据估计的系统偏差进行偏差配准,改善了系统偏差对目标状态估计的影响。仿真结果表明,ASMCUKF在重尾非高斯观测噪声的环境下对通信目标状态和系统偏差的估计效果比传统方法更好。\n",
      "\n"
     ]
    },
    {
     "name": "stderr",
     "output_type": "stream",
     "text": [
      "\r",
      " 28%|██▊       | 275/1000 [02:03<05:51,  2.06it/s]"
     ]
    },
    {
     "name": "stdout",
     "output_type": "stream",
     "text": [
      "基 于 安 全 信 任 的 网 络 切 片 部 署 策 略 研 究\n",
      "基 于 安 全 信 任 的 网 络 切 片 部 署 策 略 研 究\n",
      "5G移动通信网虚拟化场景下,如何安全部署网络切片是未来5G大规模商用的前提。针对5G网络切片部署的安全性,提出一种基于安全信任的网络切片部署策略。该部署策略通过提出安全信任值概念来有效量化分析VNF和网络资源的安全性,并以此为基础,利用0-1整数线性规划方法构建网络切片部署的数学模型,利用启发式算法进行求解,找到网络切片部署成本最小的部署方案。仿真实验表明,该部署策略在保证部署安全的前提下,减少了部署成本,同时获得了较好的安全收益和部署收益率。\n",
      "\n"
     ]
    },
    {
     "name": "stderr",
     "output_type": "stream",
     "text": [
      "\r",
      " 28%|██▊       | 276/1000 [02:03<05:57,  2.03it/s]"
     ]
    },
    {
     "name": "stdout",
     "output_type": "stream",
     "text": [
      "面 向 车 载 容 迟 网 络 的 连 通 性 建 模 与 仿 真 研 究\n",
      "基 于 s u m o 的 车 载 容 迟 网 络 连 通 性 建 模 研 究\n",
      "针对车载容迟网络连通性建模进行了研究。假设车辆驶入道路的过程服从泊松分布,以及车辆在道路上的行驶速度服从正态分布。对基于泊松过程的车间时距分布进行推导,并以此导出行驶车辆在道路上的连通概率。为了验证所提假设和连通模型的正确性及有效性,以欧洲城市卢森堡在7:30 am～8:30 am时间段内的交通数据为实验场景,在城市交通仿真平台(simulation of urban mobility,SUMO)对车辆速度的概率分布、车辆到达率、道路中的平均车辆数及网络连通概率进行了理论计算和仿真实验分析。实验结果表明理论模型的计算值和仿真结果是一致的,所提出的假设和连通模型具有合理性和正确性。\n",
      "\n"
     ]
    },
    {
     "name": "stderr",
     "output_type": "stream",
     "text": [
      "\r",
      " 28%|██▊       | 277/1000 [02:04<05:40,  2.12it/s]"
     ]
    },
    {
     "name": "stdout",
     "output_type": "stream",
     "text": [
      "基 于 萤 火 虫 优 化 的 副 本 放 置 方 法\n",
      "基 于 离 散 型 萤 火 虫 优 化 的 副 本 放 置 算 法\n",
      "针对现有副本放置策略中存在的副本访问开销大的问题,提出一种基于离散型萤火虫优化的副本放置算法。考虑副本放置对用户访问性能的影响,对其建立数学模型,计算萤火虫位置的适应度函数,并朝着荧光素值最大即最优值移动,进而得到合适的副本放置节点。通过仿真实验评估提出的方法,并与基于蚁群算法的副本放置策略进行比较。实验结果证明该算法能够选择合适的副本放置节点,具有较好的收敛性,并有效降低了存储系统的副本访问开销。\n",
      "\n"
     ]
    },
    {
     "name": "stderr",
     "output_type": "stream",
     "text": [
      "\r",
      " 28%|██▊       | 278/1000 [02:05<06:44,  1.78it/s]"
     ]
    },
    {
     "name": "stdout",
     "output_type": "stream",
     "text": [
      "基 于 g a s a - f c m 混 合 聚 类 与 霍 夫 变 换 的 欠 定 混 合 矩 阵 估 计\n",
      "基 于 遗 传 模 拟 退 火 优 化 模 糊 c - 均 值 聚 类 算 法 的 欠 定 混 合 矩 阵 估 计\n",
      "针对模糊C-均值聚类(fuzzy C-means clustering,FCM)算法在欠定混合矩阵估计中精度低、鲁棒性差的缺点,提出一种基于遗传模拟退火优化FCM(GASA-FCM)混合聚类和霍夫变换的欠定混合矩阵估计算法。该算法结合了模拟退火算法(simulated annealing algorithm,SA)全局搜索、高精度的优点和遗传算法(genetic algorithm,GA)强大的空间搜索能力,将经遗传模拟退火算法得到的聚类中心点赋给FCM,避免了初值选择的随机性。再利用霍夫变换对聚类得到的每一类数据的中心进行修正,提高混合矩阵的估计精度。实验结果表明,该算法明显改善了算法的稳定性和混合矩阵估计精度,具有一定的有效性和可行性。\n",
      "\n"
     ]
    },
    {
     "name": "stderr",
     "output_type": "stream",
     "text": [
      "\r",
      " 28%|██▊       | 279/1000 [02:05<06:16,  1.92it/s]"
     ]
    },
    {
     "name": "stdout",
     "output_type": "stream",
     "text": [
      "尺 度 无 关 的 级 联 卷 积 神 经 网 络 人 脸 检 测 算 法\n",
      "级 联 卷 积 神 经 网 络 在 人 脸 检 测 中 的 应 用\n",
      "卷积神经网络在进行图片处理时需要输入固定尺寸大小的图片,该限制会导致原图在缩放过程中损失大部分信息。另外,目前人脸检测算法多用单一结构网络进行特征提取,这就使得算法的泛化能力较弱。针对以上两个问题,提出了一种将级联卷积神经网络与空间金字塔池化相结合的人脸检测算法。该方法将三级卷积神经网络模型连接起来,其中三级神经网络模型之间各不相同,结构从简单到复杂,在不同层次的神经网络上提取不同的人脸特征并筛选图片,完成对图片中人脸区域的检测。同时,在每级网络层次中加入空间金字塔池化层,这种池化策略无须固定尺寸大小的输入,增加了模型输入的尺寸选择。在标准人脸数据集中,该方法相对于传统方法实现了模型的多尺度输入,提升了检测性能,并降低了检测人脸的时间。\n",
      "\n"
     ]
    },
    {
     "name": "stderr",
     "output_type": "stream",
     "text": [
      "\r",
      " 28%|██▊       | 280/1000 [02:05<05:45,  2.09it/s]"
     ]
    },
    {
     "name": "stdout",
     "output_type": "stream",
     "text": [
      "基 于 深 度 学 习 的 大 蒜 鳞 芽 朝 向 识 别 研 究\n",
      "基 于 深 度 学 习 的 大 蒜 鳞 芽 朝 向 识 别\n",
      "针对目前大蒜自动播种机难以解决直立播种的问题,而已有鳞芽朝向识别算法过于复杂,提出了基于深度学习的方法来解决大蒜鳞芽朝向识别问题。该方法不用特意提取蒜瓣的轮廓特征,也不用计算蒜尖和质心位置,而是直接将蒜瓣图像作为输入,模型自行抽取图像特征,隐式地从训练数据中进行学习来自动识别大蒜鳞芽朝向。实验结果表明,当使用1 700张蒜瓣图片作为训练集时,模型在400张图片组成的独立测试集上的识别准确率达到97. 5%。此方法简单、高效、可靠,为大蒜直立播种问题提供了一种新的解决方案,同时也可以用于农业选种等其他模式识别问题上。\n",
      "\n"
     ]
    },
    {
     "name": "stderr",
     "output_type": "stream",
     "text": [
      "\r",
      " 28%|██▊       | 281/1000 [02:06<05:31,  2.17it/s]"
     ]
    },
    {
     "name": "stdout",
     "output_type": "stream",
     "text": [
      "基 于 边 缘 点 对 特 征 的 板 型 物 体 识 别 与 定 位 系 统\n",
      "基 于 边 缘 点 对 特 征 的 钢 板 识 别 与 定 位 方 法\n",
      "针对工业环境中板型物体(如钢板),在基于投票策略的匹配算法基础上加入了边缘点对特征,提出了一种基于边缘点对特征的三维目标识别与定位方法,并利用该算法设计实现了一个钢板识别与定位系统,已成功应用于工业机器人自动钢板打磨项目中。另外,对匹配结果使用位姿聚类以及位姿验证与优化,进一步提高了算法的准确性和鲁棒性。根据系统在工作现场的运行统计结果得出,该方法不仅定位精度在项目容忍范围之内,而且满足项目对实时性的要求。\n",
      "\n"
     ]
    },
    {
     "name": "stderr",
     "output_type": "stream",
     "text": [
      "\r",
      " 28%|██▊       | 282/1000 [02:06<05:51,  2.04it/s]"
     ]
    },
    {
     "name": "stdout",
     "output_type": "stream",
     "text": [
      "改 进 金 字 塔 融 合 技 术 的 低 照 度 图 像 色 彩 恢 复 和 细 节 提 取\n",
      "基 于 改 进 金 字 塔 融 合 技 术 的 低 照 度 图 像 色 彩 恢 复 算 子 研 究\n",
      "针对低照度图像亮度大、色彩不均衡的现象进行了改进金字塔融合技术的低照度图像色彩恢复算子的研究。该算法将原图和用去雾模型或MSRCR改善后的预处理图用金子塔技术将色彩对比度、饱和度、曝光亮度三者融合到金字塔算法中,并根据图像的信息赋予了不同的权重参数,从而能够有效地解决传统低照度图像色彩增强存在的问题。提出一种CIELAB通道内用加权最小二乘数的保边平滑滤波器平滑L通道的图像,设置不同的色调映射的参数值来提升图像细节信息的算子,使夜视中图像的信息更显眼和真实。实验结果表明,所提算法在低照度图像色彩增强中有了很好的效果,并在信息熵和PSNR评价取得了约10%的质量提升。所选择三种不同类型的图像进行实验,图形质量都得到了提高,也表明所提算法具有一定普适性。\n",
      "\n"
     ]
    },
    {
     "name": "stderr",
     "output_type": "stream",
     "text": [
      "\r",
      " 28%|██▊       | 283/1000 [02:07<05:57,  2.01it/s]"
     ]
    },
    {
     "name": "stdout",
     "output_type": "stream",
     "text": [
      "面 向 拷 贝 检 测 的 图 像 哈 希 算 法\n",
      "基 于 c s - l b p 纹 理 与 位 图 像 统 计 的 图 像 哈 希 算 法\n",
      "为了准确、快速地将拷贝图像识别出来,提出一种基于CS-LBP(centrally symmetric local binary pattern)纹理与位图像统计的图像哈希算法。算法首先对图像作预处理;然后利用三级小波分解得到近似图像和高频信息,对第二、三级近似图像利用Ring分割,提取每一环的统计特征,对第二、三级高频信息的水平方向分量和垂直方向分量进行位图像分解,提取统计特征;最后将所有的低频和高频特征联合起来生成图像哈希序列。实验结果表明所提算法的分类性能优于现有的一些哈希算法,在拷贝检测应用上具有很好的准确率。\n",
      "\n"
     ]
    },
    {
     "name": "stderr",
     "output_type": "stream",
     "text": [
      "\r",
      " 28%|██▊       | 284/1000 [02:07<05:50,  2.04it/s]"
     ]
    },
    {
     "name": "stdout",
     "output_type": "stream",
     "text": [
      "面 向 移 动 终 端 的 三 维 建 筑 物 模 型 简 化 方 法\n",
      "基 于 墙 顶 结 构 特 征 的 单 体 建 筑 物 模 型 简 化 方 法\n",
      "目前,针对单体建筑物的模型简化算法主要考虑单独简化墙面和屋顶房檐结构。但对于建筑物组,这些方法忽视邻接建筑物的特征以及与周围特征间的相互连接关系。针对这些问题,利用屋顶结构特征,提出一种能自动生成保持建筑物组结构特征的模型简化方法。通过底面平面图的邻接关系将建筑物分割成不同的结构部分,通过判断屋顶特征,采用自顶向下的投影方法,重构建筑物模型,最后将各部分联合形成简化模型。实验表明,该简化方法在建筑物的顶层和墙面特征较好保留的基础上,能充分利用模型的拓扑结构,用较少的数据量描述模型,生成适合移动端应用需求的精度模型。\n",
      "\n"
     ]
    },
    {
     "name": "stderr",
     "output_type": "stream",
     "text": [
      "\r",
      " 28%|██▊       | 285/1000 [02:08<05:02,  2.36it/s]"
     ]
    },
    {
     "name": "stdout",
     "output_type": "stream",
     "text": [
      "一 种 多 尺 度 平 衡 深 度 哈 希 图 像 检 索 方 法\n",
      "多 尺 度 平 衡 深 度 哈 希 方 法\n",
      "传统监督哈希方法将图像学习的手工特征或机器学习特征和二进制码的单独量化步骤分开,并未很好地控制量化误差,并且不能保证生成哈希码的平衡性。为了解决这个问题,提出了新的多尺度平衡深度哈希方法。该方法采用多尺度输入,这样做有效地提升了网络对图像特征的学习效果;提出了新的损失函数,在很好地保留语义相似性的前提下,考虑了量化误差以及哈希码平衡性,以生成更优质的哈希码。该方法在CIFAR-10以及Flickr数据集上的最佳检索结果较当今先进方法分别提高了5. 5%和3. 1%的检索精度。\n",
      "\n"
     ]
    },
    {
     "name": "stderr",
     "output_type": "stream",
     "text": [
      "\r",
      " 29%|██▊       | 286/1000 [02:08<05:17,  2.25it/s]"
     ]
    },
    {
     "name": "stdout",
     "output_type": "stream",
     "text": [
      "基 于 稀 疏 贝 叶 斯 估 计 的 单 图 像 超 分 辨 率 算 法\n",
      "基 于 稀 疏 贝 叶 斯 估 计 的 单 图 像 超 分 辨 率 方 法\n",
      "针对现有超分辨率方法对不同低分辨率图像的超分辨率效果差异较大的问题,提出了一种基于稀疏贝叶斯估计的单图像超分辨率方法。该方法将单图像超分辨率问题看做是回归问题,采用Kronecker脉冲函数作为回归基函数,综合利用图像的局部信息和全局信息寻找特定预测的最优稀疏解决方案,采用贝叶斯方法估计权重,据此重构超分辨率图像。实验结果表明,采用该方法对14幅测试图像运行单图像超分辨率算法,得到的平均峰值信噪比高、方差小、耗时少,证实了该方法的超分辨率效果好、适应性强,且运算效率高。\n",
      "\n"
     ]
    },
    {
     "name": "stderr",
     "output_type": "stream",
     "text": [
      "\r",
      " 29%|██▊       | 287/1000 [02:09<05:18,  2.24it/s]"
     ]
    },
    {
     "name": "stdout",
     "output_type": "stream",
     "text": [
      "适 用 于 迭 代 型 去 模 糊 算 法 的 自 适 应 迭 代 终 止 条 件\n",
      "自 适 应 迭 代 条 件 下 的 自 适 应 去 模 糊 算 法\n",
      "由于缺乏有效的迭代终止条件(iterative stopping criterion,ISC),目前大多数去模糊算法简单采用固定的迭代次数实现,存在着执行效率低、去模糊效果不够理想等问题。为此,提出一种基于残差图像(迭代过程中所获得的中间估计图像和模糊核卷积后与模糊图像之间的差值)的去模糊效果度量(deblurring measure,DM),并在该DM度量的基础上设计了一种自适应的迭代终止条件(adaptive ISC,AISC)。将所提出的AISC迭代终止条件应用于经典的NCSR(nonlocally centralized sparse representation)迭代型去模糊算法中。在均匀模糊、高斯模糊和运动模糊三种典型模糊失真类型下大量的实验数据表明,与采用固定迭代次数的原NCSR算法相比,采用自适应迭代条件后NCSR算法执行效率得到显著提升,且所复原图像在PSNR、SSIM和FSIM图像指标值上与原算法差别不大。\n",
      "\n"
     ]
    },
    {
     "name": "stderr",
     "output_type": "stream",
     "text": [
      "\r",
      " 29%|██▉       | 288/1000 [02:09<05:09,  2.30it/s]"
     ]
    },
    {
     "name": "stdout",
     "output_type": "stream",
     "text": [
      "基 于 对 偶 图 正 则 化 的 多 层 概 念 分 解 算 法\n",
      "基 于 对 偶 图 正 则 化 的 多 层 概 念 分 解 算 法\n",
      "为了进一步挖掘数据间的隐藏信息,在多层概念分解算法的框架下,考虑每一层分解下的数据流形和特征流形,提出了一种基于对偶图正则化的多层概念分解算法。该算法通过对数据的逐层分解,以分层的方式学习,并在每一层分解数据中构建数据空间和特征属性空间的拉普拉斯图,用于反映数据流形和特征流形的多元几何结构信息,从而能够更好地从复杂数据中提取出更有效的特征。采用交替迭代的方法求解算法的目标函数并证明了算法的收敛性。通过在三个真实数据库(TDT2、PIE、COIL20)上的实验表明,该方法在数据的聚类表示效果方面优于其他方法。\n",
      "\n"
     ]
    },
    {
     "name": "stderr",
     "output_type": "stream",
     "text": [
      "\r",
      " 29%|██▉       | 289/1000 [02:09<04:21,  2.72it/s]"
     ]
    },
    {
     "name": "stdout",
     "output_type": "stream",
     "text": [
      "2 0 1 9 年 第 十 一 届 数 字 图 像 处 理 国 际 会 议 ( i c d i p 2 0 1 9 )   2 0 1 9 年 5 月 1 0 ～ 1 3 日   广 州 中 山 大 学\n",
      "数 字 图 像 处 理 技 术 新 进 展\n",
      "数字图像处理技术自进入21世纪以来,随着计算机技术的迅猛发展和相关理论的不断完善,在许多领域受到广泛重视并取得重大的开拓性成就。随着广泛的农牧业、林业、环境、军事、工业和医学等方面的应用需求的增长,该技术已成为一门引人注目、前景远大的科学。目前,国际化趋势加快,各国\n",
      "\n"
     ]
    },
    {
     "name": "stderr",
     "output_type": "stream",
     "text": [
      "\r",
      " 29%|██▉       | 290/1000 [02:10<04:02,  2.93it/s]"
     ]
    },
    {
     "name": "stdout",
     "output_type": "stream",
     "text": [
      "数 据 库 系 统 性 能 模 型 建 模 方 法 综 述\n",
      "数 据 库 系 统 性 能 建 模 综 述\n",
      "当前的性能模型主要分为分析型和统计型两种。分析型模型需要深入研究数据库系统查询执行过程,对动态查询的适应性较好,无须成本高昂的采样实验,但在查询并行执行情景下建模复杂,对不同的数据库系统有不同的理论模型。统计型模型无须分析查询执行过程,通过采集查询执行参数并训练某个数学模型。统计型建模过程简单,能够较好地描述查询交互,预测效果较好,但采样成本很高,对动态查询的适应性差。对数据库系统性能建模的主要文献进行综述,重点介绍数据库系统性能建模的主要方法,并讨论这两类模型各自的优缺点、建模的难点以及应对策略。在此基础上,对数据库系统性能模型领域的研究进行展望,为有关该领域的研究提供参考。\n",
      "\n"
     ]
    },
    {
     "name": "stderr",
     "output_type": "stream",
     "text": [
      "\r",
      " 29%|██▉       | 291/1000 [02:10<03:42,  3.19it/s]"
     ]
    },
    {
     "name": "stdout",
     "output_type": "stream",
     "text": [
      "神 经 网 络 模 型 压 缩 方 法 综 述\n",
      "神 经 网 络 模 型 压 缩 研 究 综 述\n",
      "由于存储空间和功耗的限制,神经网络模型在嵌入式设备上的存储和计算仍然是一个巨大的挑战。模型压缩作为一种有效的解决方法,受到了越来越多研究者的关注。针对卷积神经网络模型进行了研究,分析了模型中存在的冗余信息,并对国内外学者在神经网络模型压缩方面的研究成果整理,从参数剪枝,权重共享和权重矩阵分解等方面总结了神经网络压缩的主要方法。最后针对神经网络模型发展现状及目前面临的若干主要问题进行了讨论,指出了下一步的研究方向。\n",
      "\n"
     ]
    },
    {
     "name": "stderr",
     "output_type": "stream",
     "text": [
      "\r",
      " 29%|██▉       | 292/1000 [02:10<03:57,  2.98it/s]"
     ]
    },
    {
     "name": "stdout",
     "output_type": "stream",
     "text": [
      "稀 疏 条 件 下 的 重 叠 子 空 间 聚 类 算 法\n",
      "稀 疏 条 件 下 的 重 叠 子 空 间 聚 类 算 法\n",
      "现有子空间聚类算法不能很好地平衡子空间数据的稠密性和不同子空间数据稀疏性的关系,且无法处理数据的重叠问题。针对上述问题,提出一种稀疏条件下的重叠子空间聚类(OSCSC)算法。算法利用l1范数和Frobenius范数的混合范数表示方法建立子空间表示模型,并对l1范数正则项进行加权处理,提高不同子空间的稀疏性和同一子空间的稠密性;然后对划分好的子空间使用一种服从指数族分布的重叠概率模型进行二次校验,判断不同子空间数据的重叠情况,进一步提高聚类的准确率。在人造数据集和真实数据集上分别进行测试,实验结果表明,OSCSC算法能够获得良好的聚类结果。\n",
      "\n"
     ]
    },
    {
     "name": "stderr",
     "output_type": "stream",
     "text": [
      "\r",
      " 29%|██▉       | 293/1000 [02:11<04:24,  2.67it/s]"
     ]
    },
    {
     "name": "stdout",
     "output_type": "stream",
     "text": [
      "c n n - e l m 混 合 短 文 本 分 类 模 型\n",
      "基 于 卷 积 神 经 网 络 与 极 速 学 习 机 的 混 合 短 文 本 分 类 模 型\n",
      "针对目前自然语言处理研究中,使用卷积神经网络(CNN)进行短文本分类任务时可以结合不同神经网络结构与分类算法以提高分类性能的问题,提出了一种结合卷积神经网络与极速学习机的CNN-ELM混合短文本分类模型。使用词向量训练构成文本矩阵作为输入数据,然后使用卷积神经网络提取特征并使用Highway网络进行特征优化,最后使用误差最小化极速学习机(EM-ELM)作为分类器完成短文本分类任务。与其他模型相比,该混合模型能够提取更具代表性的特征并能快速准确地输出分类结果。在多种英文数据集上的实验结果表明,提出的CNN-ELM混合短文本分类模型比传统机器学习模型与深度学习模型更适合完成短文本分类任务。\n",
      "\n"
     ]
    },
    {
     "name": "stderr",
     "output_type": "stream",
     "text": [
      "\r",
      " 29%|██▉       | 294/1000 [02:11<04:16,  2.75it/s]"
     ]
    },
    {
     "name": "stdout",
     "output_type": "stream",
     "text": [
      "面 向 数 据 流 的 多 任 务 多 核 在 线 学 习 算 法\n",
      "基 于 多 任 务 多 核 在 线 学 习 的 数 据 流 预 测\n",
      "对于数据流的处理,现有的在线学习算法在准确性上仍有欠缺,故提出一种新的多任务多核在线学习模型用于提高数据流预测的准确性。在保持多任务多核学习的基础上,将其扩展到在线学习中,从而得到一个新的在线学习算法;同时为输入数据保持一定大小的数据窗口,用较小空间换取数据的完整性。实验部分对核函数的选取以及训练样本集的大小进行了较为详细的分析,通过对UCI数据和实际的机场客流量数据进行分析,很好地保障了流数据处理的准确性及实时性,有一定的实际应用价值。\n",
      "\n"
     ]
    },
    {
     "name": "stderr",
     "output_type": "stream",
     "text": [
      "\r",
      " 30%|██▉       | 295/1000 [02:11<04:25,  2.66it/s]"
     ]
    },
    {
     "name": "stdout",
     "output_type": "stream",
     "text": [
      "求 解 并 行 机 拖 期 与 能 耗 成 本 优 化 调 度 的 混 合 教 — 学 算 法\n",
      "加 工 时 间 可 控 的 并 行 机 调 度 问 题 研 究\n",
      "针对加工时间可控的并行机调度,提出了一类考虑拖期与能耗成本优化的调度问题。首先对调度问题进行了问题描述,并建立了整数线性规划模型以便于CPLEX求解。为了快速获得问题的满意解,提出了一种混合教—学算法。结合问题的性质,设计了编码与解码方法以克服标准教—学算法无法直接适用于离散问题的缺点。同时,构建了基于变邻域搜索的局部搜索算子以强化混合算法的搜索性能。最后,对加工时间可控的并行机调度问题进行了仿真实验,测试结果验证了构建的整数线性规划模型和混合算法的可行性和有效性。\n",
      "\n"
     ]
    },
    {
     "name": "stderr",
     "output_type": "stream",
     "text": [
      "\r",
      " 30%|██▉       | 296/1000 [02:12<04:17,  2.74it/s]"
     ]
    },
    {
     "name": "stdout",
     "output_type": "stream",
     "text": [
      "基 于 c a r l a - p s o 组 合 模 型 的 智 能 控 制 器 参 数 学 习 优 化\n",
      "基 于 c a r l a - p s o 组 合 模 型 的 控 制 方 法\n",
      "对连续动作强化学习自动机(CARLA)进行了改进,应用改进后的CARLA结合粒子群优化算法(PSO)优化PID参数。以CARLA为基础,建立了CARLA和PSO的组合优化学习模型CARLA-PSO,该模型包含CAR-LA学习环路和PSO学习环路两个部分,通过优化策略选择器进行学习环路的选择,通过与环境进行相互作用,获得最优控制。对连铸结晶器液位控制进行了仿真实验,实验结果表明,CARLA-PSO在进行PID参数优化时寻优效率高,全局搜索能力强,能够达到理想的控制效果,具有较好的应用前景。\n",
      "\n"
     ]
    },
    {
     "name": "stderr",
     "output_type": "stream",
     "text": [
      "\r",
      " 30%|██▉       | 297/1000 [02:12<04:09,  2.81it/s]"
     ]
    },
    {
     "name": "stdout",
     "output_type": "stream",
     "text": [
      "基 于 分 布 的 中 文 词 表 示 研 究\n",
      "基 于 分 布 的 中 文 词 表 示 构 造 技 术 研 究\n",
      "针对基于分布的中文词表示构造过程中的参数选择问题进行了系统性的研究。选择了六种参数进行对比实验,在中文语义相似度任务上对不同参数设置下得到的中文词表示的质量进行了评估。实验结果表明,通过选择合适的参数,基于分布的词表示在中文语义相似度任务上能够得到较高的性能,而且这种高维的词分布表示的质量甚至优于目前流行的基于神经网络(Skip-gram)或矩阵分解(Glo Ve)得到的低维的词表示。\n",
      "\n"
     ]
    },
    {
     "name": "stderr",
     "output_type": "stream",
     "text": [
      "\r",
      " 30%|██▉       | 298/1000 [02:12<04:02,  2.89it/s]"
     ]
    },
    {
     "name": "stdout",
     "output_type": "stream",
     "text": [
      "互 联 网 金 融 平 台 中 高 违 约 风 险 用 户 识 别 算 法\n",
      "基 于 传 播 特 征 的 互 联 网 金 融 平 台 风 险 评 估 方 法\n",
      "以某互联网金融平台的用户交易数据为对象,通过分析其中借贷逾期违约的传播行为,提出通过传播特征构建模型算法识别互联网金融平台的高风险用户。在构建基于阈值传播和随机传播的SIS和SIR模型的基础上,将模型转换为可评价用户风险值的算法,并进一步与实际违约数据进行验证对比。对比结果显示,在前5%和10%高风险群体划分条件下,算法具有较高的召回率和良好的结构关联性。\n",
      "\n"
     ]
    },
    {
     "name": "stderr",
     "output_type": "stream",
     "text": [
      "\r",
      " 30%|██▉       | 299/1000 [02:13<04:12,  2.78it/s]"
     ]
    },
    {
     "name": "stdout",
     "output_type": "stream",
     "text": [
      "基 于 核 学 习 方 法 的 短 时 交 通 流 量 预 测\n",
      "核 学 习 在 短 时 交 通 流 量 预 测 中 的 应 用\n",
      "基于核学习的强大非线性映射性能,针对短时交通流量预测,提出一类基于核学习方法的预测模型。核递推最小二乘(KRLS)基于近似线性依赖(approximate linear dependence,ALD)技术可降低计算复杂度及存储量,是一种在线核学习方法,适用于较大规模数据集的学习;核偏最小二乘(KPLS)方法将输入变量投影在潜在变量上,利用输入与输出变量之间的协方差信息提取潜在特征;核极限学习机(KELM)方法用核函数表示未知的隐含层非线性特征映射,通过正则化最小二乘算法计算网络的输出权值,能以极快的学习速度获得良好的推广性。为验证所提方法的有效性,将KELM、KPLS、ALD-KRLS用于不同实测交通流数据中,在同等条件下,与现有方法进行比较。实验结果表明,不同核学习方法的预测精度和训练速度均有所提高,体现了核学习方法在短时交通流量预测中的应用潜力。\n",
      "\n"
     ]
    },
    {
     "name": "stderr",
     "output_type": "stream",
     "text": [
      "\r",
      " 30%|███       | 300/1000 [02:13<03:40,  3.17it/s]"
     ]
    },
    {
     "name": "stdout",
     "output_type": "stream",
     "text": [
      "地 震 前 后 基 准 站 g p s 数 据 异 常 提 取 算 法\n",
      "地 震 前 兆 异 常 研 究\n",
      "\"目前对地震前兆异常的研究主要集中在\"\"热\"\"和\"\"电\"\"等方面,很少涉及基准站的GPS数据。然而已经有学者证明震中附近基准站的GPS时间序列坐标数据中也蕴涵着大地震的前兆信息。针对2001—2010年间美国本土发生的具有代表性的三个地震进行了研究,将Martingale理论运用于GPS数据处理,提出一种异常提取算法,进而对地震前后震中附近多个基准站的GPS数据进行分析。实验结果表明,算法能够有效地反映大地震前后GPS数据中异常的变化趋势,为使用GPS数据对大地震进行预报提供了更多可能。\"\n",
      "\n"
     ]
    },
    {
     "name": "stderr",
     "output_type": "stream",
     "text": [
      "\r",
      " 30%|███       | 301/1000 [02:13<04:20,  2.69it/s]"
     ]
    },
    {
     "name": "stdout",
     "output_type": "stream",
     "text": [
      "基 于 贝 叶 斯 网 络 的 民 航 突 发 事 件 因 果 关 系 分 析 方 法 研 究\n",
      "基 于 贝 叶 斯 网 络 的 民 航 突 发 事 件 因 果 关 系 分 析\n",
      "针对民航突发事件因果关系无法有效评估与关联分析的问题,提出了一种基于贝叶斯网络的民航突发事件因果关系分析方法。在民航突发事件应急管理领域本体的基础上引入贝叶斯理论,通过规则设计实现了领域本体中概念、关系与实例的贝叶斯网络转换;然后采用贝叶斯网络知识合成算法E-IPFP构建贝叶斯网络节点的条件概率表,并通过消息传递机制计算父子节点间的概率关系,获得民航突发事件因果关系的概率分布。采用民航突发事件应急管理领域本体和世界民航事故调查跟踪报告中的案例作为实验数据,给出了民航突发事件因果间关系的分析,为基于大数据的突发事件关联分析与推理提供了方法支持。\n",
      "\n"
     ]
    },
    {
     "name": "stderr",
     "output_type": "stream",
     "text": [
      "\r",
      " 30%|███       | 302/1000 [02:14<04:47,  2.43it/s]"
     ]
    },
    {
     "name": "stdout",
     "output_type": "stream",
     "text": [
      "基 于 差 异 路 径 权 重 的 二 部 图 网 络 推 荐 算 法\n",
      "利 用 差 异 路 径 权 重 改 变 资 源 传 递 的 二 部 图 网 络 结 构 算 法\n",
      "针对二部图网络结构推荐算法中资源分配不合理的现象,同时为了丰富推荐结果多样性和促进冷门物品的推荐,提出了一种利用差异路径权重改变资源传递的二部图网络结构算法。利用用户相似性构造路径权重改变第一阶段资源传递规则,使资源较多地流向与目标用户相似的用户节点。通过物品属性相似的构造路径权重,使第二阶段资源更多地流向与目标用户已购物品具有相似属性的物品。实验结果表明,该算法相对于其他流行网络结构算法提高了推荐的综合性能,并且更好地解决了推荐中的相关问题。\n",
      "\n"
     ]
    },
    {
     "name": "stderr",
     "output_type": "stream",
     "text": [
      "\r",
      " 30%|███       | 303/1000 [02:15<06:01,  1.93it/s]"
     ]
    },
    {
     "name": "stdout",
     "output_type": "stream",
     "text": [
      "改 进 p f 算 法 在 煤 与 瓦 斯 突 出 a e 信 号 去 噪 中 的 研 究\n",
      "煤 与 瓦 斯 突 出 的 智 能 优 化 果 蝇 算 法 在 煤 与 瓦 斯 突 出 a e 信 号 去 噪 中 的 应 用\n",
      "煤与瓦斯突出会产生声发射(acoustic emission,AE)信号。针对提取较纯净有效的AE信号问题,提出一种邻域动态调整(D)果蝇算法(fruit fly algorithm,FOA)智能优化粒子滤波(particle filter,PF)的去噪方法。利用果蝇个体表征PF中的每个信号点粒子,优化粒子滤波的重采样过程,并通过动态调整邻域粒子数量来改善果蝇算法的寻优能力和收敛速度。以均方根误差和信噪比为评价指标,对信号采集系统获取的煤与瓦斯突出AE信号分别使用标准粒子滤波、果蝇优化粒子滤波、改进粒子滤波去噪。结果表明,改进粒子滤波法的信噪比提升了15. 3 d B左右,且均方根误差最低。与其他两种方法相比,改进粒子滤波去噪效果最优。\n",
      "\n"
     ]
    },
    {
     "name": "stderr",
     "output_type": "stream",
     "text": [
      "\r",
      " 30%|███       | 304/1000 [02:15<05:30,  2.11it/s]"
     ]
    },
    {
     "name": "stdout",
     "output_type": "stream",
     "text": [
      "基 于 属 性 优 化 矩 阵 补 全 的 抗 托 攻 击 推 荐 算 法\n",
      "一 种 鲁 棒 的 抗 托 攻 击 个 性 化 推 荐 算 法\n",
      "托攻击是当前推荐系统面临的严峻挑战之一。由于推荐系统的开放性,恶意用户可轻易对其注入精心设计的评分,从而影响推荐结果,降低用户体验。基于属性优化结构化噪声矩阵补全技术,提出一种鲁棒的抗托攻击个性化推荐（SATPR）算法。将攻击评分视为评分矩阵中的结构化行噪声,并采用L2,1范数进行噪声建模,同时引入用户与物品的属性特征以提高托攻击检测精度。实验表明,SATPR算法在托攻击下可取得比传统推荐算法更精确的个性化评分预测效果。\n",
      "\n"
     ]
    },
    {
     "name": "stderr",
     "output_type": "stream",
     "text": [
      "\r",
      " 30%|███       | 305/1000 [02:16<05:31,  2.10it/s]"
     ]
    },
    {
     "name": "stdout",
     "output_type": "stream",
     "text": [
      "基 于 人 工 鱼 群 算 法 的 分 数 阶 p i ~ λ 控 制 器 参 数 整 定\n",
      "基 于 图 像 的 分 数 阶 p i ~ λ 控 制 器 参 数 整 定\n",
      "针对分数阶PI~λ控制器的参数整定,提出图像法和人工鱼群优化算法相结合的方法来对分数阶PI~λ控制器进行参数整定。分别以一阶系统和二阶系统来模拟典型的速度伺服系统,以此模型为被控对象进行分数阶PI~λ控制器的设计。在频域内,根据系统的相对稳定性和增益变化的鲁棒性等条件,推导出方程式;再根据图像法解出分数阶PI~λ控制器的参数,以解出的参数为中心位置,指定寻优的范围,进而用人工鱼群算法对其周围进行寻优。仿真表明,通过人工鱼群算法寻优得到的控制器,比单纯用图像法得到分数阶PI~λ控制器能使系统具有更好的动态响应特性,并且满足增益变化鲁棒性的条件。\n",
      "\n"
     ]
    },
    {
     "name": "stderr",
     "output_type": "stream",
     "text": [
      "\r",
      " 31%|███       | 306/1000 [02:16<04:41,  2.46it/s]"
     ]
    },
    {
     "name": "stdout",
     "output_type": "stream",
     "text": [
      "基 于 梯 度 提 升 决 策 模 型 的 空 间 占 用 检 测 研 究\n",
      "大 数 据 绿 色 建 筑 节 能 体 系 研 究\n",
      "随着绿色建筑和绿色生态城区经济激励机制基本形成,面对大量多维空间占用数据,大数据绿色建筑节能体系应运而生。然而大量多维的建筑数据却没有被充分利用,且传统空间占用检测模型分类精度还不够准确,模型时间复杂度较高。利用UCI占用检测数据集,在原始数据集上加入时间戳,使模型分类精度均获得提高,同时利用MCMR(最大相关最小冗余)方法进行特征选择,通过随机森林作为分类器验证分类效果,获取最优特征子集。利用选取的特征子集构建占用检测模型,其中XGBoost模型与随机森林模型(RF)进行比对,分类精度较高,且时间复杂度更低。\n",
      "\n"
     ]
    },
    {
     "name": "stderr",
     "output_type": "stream",
     "text": [
      "\r",
      " 31%|███       | 307/1000 [02:16<04:43,  2.45it/s]"
     ]
    },
    {
     "name": "stdout",
     "output_type": "stream",
     "text": [
      "基 于 直 线 型 反 λ 基 本 图 的 交 通 流 分 配 模 型 及 算 法\n",
      "基 于 直 线 型 反 λ 交 通 流 分 配 的 新 方 法\n",
      "针对现有交通流分配理论难以处理路段拥挤状态的问题,以直线型反λ交通流量、密度和速度基本关系图为基础,提出了给定路段交通状态下的静态交通流分配新方法。通过分析基本关系图,得到两阶段的路段行程时间函数;通过引入路段交通状态指标量,构建节点流量守恒方程,建立了系统最优和用户均衡交通流分配模型;针对非凸的用户均衡模型,通过线性化目标函数中的非凸项,设计了一种有效的分支定界求解算法。数值算例验证了新模型和算法的有效性;新理论扩展了现有路段行程时间函数过于片面的单调递增特征假设,可有效处理路段拥挤状态,提高现有理论的实用性。\n",
      "\n"
     ]
    },
    {
     "name": "stderr",
     "output_type": "stream",
     "text": [
      "\r",
      " 31%|███       | 308/1000 [02:17<04:27,  2.58it/s]"
     ]
    },
    {
     "name": "stdout",
     "output_type": "stream",
     "text": [
      "多 类 型 分 类 器 融 合 的 文 本 分 类 方 法 研 究\n",
      "多 类 型 分 类 器 融 合 的 文 本 分 类 方 法\n",
      "传统的文本分类方法大多数使用单一的分类器,而不同的分类器对分类任务的侧重点不同,就使得单一分类方法有一定的局限性,同时每个特征提取方法对特征词的考虑角度不同。针对以上问题,提出了多类型分类器融合的文本分类方法。该模型使用了word2vec、主成分分析、潜在语义索引以及TFIDF特征提取方法作为多类型分类器融合的特征提取方法。在多类型分类器加权投票方法中忽略了类别信息的问题,提出了类别加权的分类器权重计算方法。通过实验结果表明,多类型分类器融合方法在二元语料库、多元语料库以及特定语料库上都取得了很好的性能,类别加权的分类器权重计算方法比多类型分类器融合方法在分类性能方面提高了1. 19%。\n",
      "\n"
     ]
    },
    {
     "name": "stderr",
     "output_type": "stream",
     "text": [
      "\r",
      " 31%|███       | 309/1000 [02:17<04:41,  2.46it/s]"
     ]
    },
    {
     "name": "stdout",
     "output_type": "stream",
     "text": [
      "基 于 r e c u r r e n t   n e u r a l   n e t w o r k s 的 网 约 车 供 需 预 测 方 法\n",
      "基 于 改 进 l s t m   r n n 的 网 约 车 订 单 需 求 预 测\n",
      "以网约车订单等真实数据为数据源,结合TensorFlow深度学习框架,利用循环神经网络(recurrent neu-ral networks)方法,预测网约车在未来某时间某地点的订单需求量。提出改进LSTM RNN(长短时记忆循环神经网络)模型,经过对其优化和训练,能够有效预测网约车未来某时间某地点的供需量。对数据源进行可视化分析,排除不相关数据源干扰,以此为基础设计仿真实验。仿真实验表明,该模型的正确率比反向传播神经网络(BPNN)、回归决策树(DTR)、非线性回归支持向量机(SVR)以及随机漫步(RW)等模型高,同时,对长短间隔不同的历史数据有较好的记忆能力,在测试数据上有较强的泛化能力。\n",
      "\n"
     ]
    },
    {
     "name": "stderr",
     "output_type": "stream",
     "text": [
      "\r",
      " 31%|███       | 310/1000 [02:18<04:50,  2.38it/s]"
     ]
    },
    {
     "name": "stdout",
     "output_type": "stream",
     "text": [
      "基 于 增 强 学 习 的 网 格 化 出 租 车 调 度 方 法\n",
      "网 格 化 出 租 车 实 时 动 态 调 度 增 强 学 习 方 法 研 究\n",
      "高度信息化的网格化城市管理可以为出租车运营优化提供新的实时动态乘客需求信息和车辆位置信息。以此为契机,针对城市出租车空驶率高和司乘匹配率低的问题,提出了一种网格化的出租车实时动态调度的增强学习控制方法。通过为出租车提供空驶巡游的动态最佳路线,新的控制方法旨在提高出租车的服务效率,并降低乘客的等待时间。首先,以城市单元网格为基础,明确出租车调度的关键问题;其次,以空驶路线的动态调整为控制手段,建立调度的增强学习模型;最后,给出求解模型的Q学习算法,并通过算例验证新调度方法的有效性。研究表明新方法可以有效提高司乘匹配率、增加总的出租车运营收入、减少乘客平均等车时间和总的出租车空驶时间。\n",
      "\n"
     ]
    },
    {
     "name": "stderr",
     "output_type": "stream",
     "text": [
      "\r",
      " 31%|███       | 311/1000 [02:18<04:48,  2.39it/s]"
     ]
    },
    {
     "name": "stdout",
     "output_type": "stream",
     "text": [
      "多 粒 度 时 序 特 征 在 离 网 预 测 中 的 应 用\n",
      "基 于 多 种 粒 度 抽 取 特 征 的 离 网 预 测 模 型 研 究\n",
      "电信运营商为了发现可能离网的客户,针对不同的场景研究开发了多种离网预测模型。目前的离网预测模型首先选择一种时间粒度抽取特征,之后使用机器学习算法对抽取的数据建模。这类方法只考虑了模型对分类性能的影响,没有充分考虑数据的作用。针对上述问题,提出一种使用多种时间粒度抽取特征的方法,并尝试在模型训练的不同阶段对不同粒度的特征进行融合。实验结果表明,使用多种粒度抽取特征训练出来的模型性能会明显优于使用单一粒度抽取特征的模型。\n",
      "\n"
     ]
    },
    {
     "name": "stderr",
     "output_type": "stream",
     "text": [
      "\r",
      " 31%|███       | 312/1000 [02:18<04:42,  2.44it/s]"
     ]
    },
    {
     "name": "stdout",
     "output_type": "stream",
     "text": [
      "一 种 改 进 的 深 度 置 信 网 络 在 交 通 流 预 测 中 的 应 用\n",
      "基 于 改 进 深 度 置 信 网 络 的 交 通 流 预 测 方 法\n",
      "针对现有交通流预测方法忽视对交通流数据自身特征的有效利用以及不能模拟更复杂的数学运算,提出了一种改进深度置信网络(deep belief network,DBN)的交通流预测方法。该方法结合深度置信网络模型与softmax回归作为预测模型,利用连续受限玻尔兹曼机(continuous restricted Boltzmann machines,CRBM)处理输入特征向量,利用自适应学习步长(adaptive learning step,ALS)减少RBM训练网络模型时重建误差所需的时间,用改进的深度置信网络模型进行交通流特征学习,在网络顶层连接softmax回归模型进行流量预测。实验结果表明,在实际的交通流数据预测中,改进的DBN模型的预测准确率以及时间复杂度相比传统预测模型都得到了较好的改善。\n",
      "\n"
     ]
    },
    {
     "name": "stderr",
     "output_type": "stream",
     "text": [
      "\r",
      " 31%|███▏      | 313/1000 [02:19<05:03,  2.27it/s]"
     ]
    },
    {
     "name": "stdout",
     "output_type": "stream",
     "text": [
      "卷 积 神 经 网 络 在 乐 器 板 材 优 劣 识 别 中 的 应 用 研 究\n",
      "基 于 卷 积 神 经 网 络 的 乐 器 板 材 振 动 信 号 分 类 识 别\n",
      "目前民族乐器板材振动信号识别算法存在特征提取复杂且耗时长等缺点,针对此问题,提出了一种基于卷积神经网络的木材振动信号分类识别算法,实现了乐器板材优劣的判别。卷积神经网络将特征提取和分类过程结合来进行神经网络的训练,具有识别度高、鲁棒性好等优点。首先重点分析和讨论了提取木材振动信号的语谱图特征,然后应用卷积神经网络结合网格搜索的方法进行参数调优。为了防止过拟合,还应用了Re LU和dropout等新技术,得到最终分类结果。实验证明,测试样本准确率达到96%,明显优于传统方法。该方法可减小人工测量的误差,加快板材的选取时间,为民族乐器制造领域的选材提供了一种更加实用的方法。\n",
      "\n"
     ]
    },
    {
     "name": "stderr",
     "output_type": "stream",
     "text": [
      "\r",
      " 31%|███▏      | 314/1000 [02:19<05:06,  2.24it/s]"
     ]
    },
    {
     "name": "stdout",
     "output_type": "stream",
     "text": [
      "基 于 i v h f w h m 算 子 的 犹 豫 关 联 多 属 性 决 策 方 法\n",
      "基 于 i v h f w h m 算 子 的 犹 豫 关 联 多 属 性 决 策 方 法\n",
      "针对决策属性为区间犹豫模糊数(IVHFN)且属性间相互关联的多属性决策(MADM)问题,提出一种基于区间犹豫模糊加权Heronian平均(IVHFWHM)算子的新型决策方法。同时基于IVHFN运算法则和Heronian平均(HM)算子,提出了区间犹豫模糊Heronian平均(IVHFHM)算子和IVHFWHM算子。研究了IVHFHM算子的置换不变性、幂等性、单调性、有界性和参数对称性等性质。建立基于IVHFWHM算子的多属性决策模型,通过MADM数值实验验证了模型的可行性与有效性。\n",
      "\n"
     ]
    },
    {
     "name": "stderr",
     "output_type": "stream",
     "text": [
      "\r",
      " 32%|███▏      | 315/1000 [02:20<05:05,  2.24it/s]"
     ]
    },
    {
     "name": "stdout",
     "output_type": "stream",
     "text": [
      "实 数 编 码 量 子 共 生 演 算 法 及 其 在 云 任 务 调 度 中 的 应 用\n",
      "一 种 基 于 差 异 度 分 析 的 量 子 共 生 演 算 法\n",
      "针对共生演算法收敛慢和易陷入局部最优的问题,结合量子遗传算法理论,提出一种实数编码的量子共生演算法(real-coded quantum symbiotic organisms search,RQSOS)。首先依据三角模糊数提出差异度概念,并依此构造一个以自变量向量的分量和一对概率幅为等位基因的三倍染色体,使一条染色体携带更多信息并增强解的多样性;然后提出一种基于阿基米德螺旋线的探索学习模式,加强对解空间的探索精度;最后使用共生演算法更新差异度值并依据差异度值对种群进行学习和变异操作,促使整个种群快速向最优方向进化且减小了陷入局部最优的概率。利用数值优化问题和云任务调度问题对算法进行验证,仿真结果表明,RQSOS算法在收敛速度和寻优能力上均有明显提升,是一种可行有效的算法。\n",
      "\n"
     ]
    },
    {
     "name": "stderr",
     "output_type": "stream",
     "text": [
      "\r",
      " 32%|███▏      | 316/1000 [02:20<04:48,  2.37it/s]"
     ]
    },
    {
     "name": "stdout",
     "output_type": "stream",
     "text": [
      "应 用 于 机 器 人 路 径 规 划 的 双 向 时 效 a * 算 法\n",
      "一 种 改 进 的 双 向 时 效 a * 算 法\n",
      "针对时效A*算法为了大幅减少算法时间,导致路径规划长度增加和路径锯齿过多的问题,提出一种改进的双向时效A*算法,该方法从起点和终点同时运行时效A*算法寻找路径,并采用多近邻栅格距离计算方案;同时,根据不同环境地图对传统A*算法、时效A*算法和双向时效A*算法运行结果进行对比研究及分析;最后,制定算法时间、路径长度两个指标来评判算法的优劣。实验结果显示,双向时效A*算法相对于传统A*算法,算法时间最大减少76. 8%,相对于时效A*算法,时间最大减少55. 4%,并解决了时效A*算法规划路径距离增加、路径不够平滑的问题。\n",
      "\n"
     ]
    },
    {
     "name": "stderr",
     "output_type": "stream",
     "text": [
      "\r",
      " 32%|███▏      | 317/1000 [02:21<05:42,  2.00it/s]"
     ]
    },
    {
     "name": "stdout",
     "output_type": "stream",
     "text": [
      "基 于 g p u 加 速 的 粒 子 滤 波 多 说 话 人 跟 踪 算 法 及 其 应 用\n",
      "并 行 粒 子 滤 波 和 k - 均 值 聚 类 方 法 及 其 在 多 声 源 定 位 中 的 应 用\n",
      "为了解决粒子滤波多说话人跟踪过程中粒子易发散导致多目标跟踪精度低的问题,提出了并行粒子滤波和基于GPU的K-均值聚类的多声源定位方法。该方法首先分析了粒子滤波在实现多目标跟踪时进行数据关联的过程产生较大的计算量,并且出现多个目标时,粒子会逐渐发散。针对计算量大和粒子发散的问题,提出了一种并行粒子滤波和K-均值聚类的方法。实验表明,随着粒子数和目标数的增加,计算量以指数增加,并且粒子发散严重,采用基于GPU的K-均值聚类方法的粒子滤波多说话人跟踪方法,相比传统粒子滤波跟踪方法具有更收敛的粒子集并且跟踪精度较高。\n",
      "\n"
     ]
    },
    {
     "name": "stderr",
     "output_type": "stream",
     "text": [
      "\r",
      " 32%|███▏      | 318/1000 [02:21<05:25,  2.10it/s]"
     ]
    },
    {
     "name": "stdout",
     "output_type": "stream",
     "text": [
      "基 于 稀 疏 表 示 的 脑 电 ( e e g ) 情 感 分 类\n",
      "基 于 音 乐 视 频 的 情 感 脑 电 信 号 识 别 与 分 类 研 究\n",
      "计算机对人类情绪与情感的识别研究已经成为了脑机接口领域的研究热点。通过分析人类在生活中的各种情感状态,提取脑电信号的特征并对情感状态进行识别、分类是情感智能化领域的重要方向。针对基于音乐视频诱导的情感数据集DEAP进行了研究,提取脑电信号的频域特征后,提出了采用加速近邻梯度(APG)算法和正交匹配(OMP)算法求解稀疏编码的稀疏表示分类模型进行情感分类,并与支持向量机(SVM)算法进行效果比较。实验结果表明,APG算法通过l1范数正则近似求解以其快速的收敛速度在情感数据集上有着较好的分类表现,而OMP算法与SVM算法的分类效果相差无几,实现了情感脑电信号的分类。\n",
      "\n"
     ]
    },
    {
     "name": "stderr",
     "output_type": "stream",
     "text": [
      "\r",
      " 32%|███▏      | 319/1000 [02:22<04:57,  2.29it/s]"
     ]
    },
    {
     "name": "stdout",
     "output_type": "stream",
     "text": [
      "面 向 不 平 衡 数 据 分 类 的 k f d a - b o o s t i n g 算 法\n",
      "不 平 衡 数 据 分 类 中 的 b o o s t i n g 算 法 研 究\n",
      "数据分布的不平衡性和数据特征的非线性增加了分类的困难,特别是难以识别不平衡数据中的少数类,从而影响整体的分类效果。针对该问题,结合KFDA(kernel Fisher discriminant analysis)能有效提取样本非线性特征的特性和集成学习中Boosting算法的思想,提出了KFDA-Boosting算法。为了验证该算法对不平衡数据分类的有效性和优越性,以G-mean值、少数类的查准率与查全率作为分类效果的评价指标,选取了UCI中10个数据集测试KFDA-Boosting算法性能,并与支持向量机等六种分类算法进行对比实验。结果表明,对于不平衡数据分类,尤其是对不平衡度较大或呈非线性特征的数据,相比于其他分类算法,KFDA-Boosting算法能有效地识别少数类,并且在整体上具有显著的分类效果和较好的稳定性。\n",
      "\n"
     ]
    },
    {
     "name": "stderr",
     "output_type": "stream",
     "text": [
      "\r",
      " 32%|███▏      | 320/1000 [02:22<04:52,  2.33it/s]"
     ]
    },
    {
     "name": "stdout",
     "output_type": "stream",
     "text": [
      "考 虑 建 议 零 售 价 的 双 渠 道 供 应 链 批 发 价 格 模 式 选 择\n",
      "基 于 制 造 商 的 双 渠 道 供 应 链 批 发 价 模 式 选 择 研 究\n",
      "对由制造商网络直销渠道和零售商传统渠道构成的双渠道供应链系统进行研究。首次在建议零售价背景下研究了批发价格模式选择问题,运用制造商主导的Stackelberg博弈,得出了供应链各成员的价格均衡策略。综合考虑零售商谈判能力和消费者对渠道的偏好度,对比分析了不同批发价谈判模式下的制造商利润、零售商利润和供应链利润。结果表明,制造商可通过建议零售价调整市场价格;从供应链总体或者零售商角度,以直销价格为基准确定批发价格是最优的;制造商倾向于单独确定批发价格,但当零售商谈判能力较弱,且网络渠道基本市场份额偏大时,也可接受以网络直销价为基准确定批发价格。\n",
      "\n"
     ]
    },
    {
     "name": "stderr",
     "output_type": "stream",
     "text": [
      "\r",
      " 32%|███▏      | 321/1000 [02:22<05:08,  2.20it/s]"
     ]
    },
    {
     "name": "stdout",
     "output_type": "stream",
     "text": [
      "利 用 帕 累 托 非 支 配 关 系 实 现 高 效 三 目 标 差 分 进 化 的 方 法\n",
      "基 于 帕 累 托 非 支 配 关 系 的 高 效 三 目 标 进 化 算 法\n",
      "在多目标进化算法中,时间复杂度过高是普遍的问题,特别是三个目标函数以上时,解的等级分配占用了过多的运算时间。针对三目标问题,利用帕累托支配关系,对解的等级分配进行研究,发现经典的等级排序及分配方法存在一定的冗余操作,需对全部的解先排序后,才能再分配等级并选择下一代,造成部分不必要的运算。为减少该冗余,利用帕累托非支配关系结合差分进化,实现高效三目标进化算法。算法每次迭代对种群中最高等级的个体进行计算,在分配等级同时进行选择后代个体操作,当后代种群生成时便跳出计算,从而减少个体的计算数量,降低运算量;同时给出该方法的相关理论分析和证明过程。针对一系列三目标优化问题,将提出方法与著名排序方法 NSGAⅡ及近年来优秀的ENS方法进行对比实验。仿真实验结果表明,提出方法在时间复杂度和收敛速度上优于经典方法,稍差于ENS方法。在标准测试函数DTLZ1-DTLZ6的性能上,提出方法近似于ENS方法,优于NSGAⅡ算法,从而验证了提出方法的有效性和正确性。\n",
      "\n"
     ]
    },
    {
     "name": "stderr",
     "output_type": "stream",
     "text": [
      "\r",
      " 32%|███▏      | 322/1000 [02:23<04:59,  2.27it/s]"
     ]
    },
    {
     "name": "stdout",
     "output_type": "stream",
     "text": [
      "温 室 移 动 机 器 人 复 合 栅 格 地 图 构 建 方 法 研 究\n",
      "一 种 用 于 温 室 环 境 的 复 合 栅 格 地 图 设 计\n",
      "针对温室环境中机器人依靠自身携带的传感器无法获取全面的环境信息,从而常导致路径规划错误的问题,提出了一种结合外部传感器系统获取温室环境信息,构建复合栅格地图的方法。利用无线传感器网络定时采集对机器人通过性有影响的温度、湿度环境信息,并发送给机器人;当温度或湿度数据的变化率达到设定阈值时,机器人利用阈值分割和插值法分别建立温度和湿度栅格地图;将温度栅格地图、湿度栅格地图与室内障碍物栅格地图相结合,构建动态更新的复合栅格地图。经测试,采用常规A*算法规划路径时,基于环境数据变化率阈值设定为±10%的复合栅格地图的成功率和完成时间,分别是基于普通栅格地图成功率的2. 5倍和1. 05倍。结果表明,复合栅格地图能提高路径规划的成功率,并且不会由于动态更新复合栅格地图,导致机器人响应时间明显增加,实时性能满足系统的实际需求。\n",
      "\n"
     ]
    },
    {
     "name": "stderr",
     "output_type": "stream",
     "text": [
      "\r",
      " 32%|███▏      | 323/1000 [02:23<05:09,  2.19it/s]"
     ]
    },
    {
     "name": "stdout",
     "output_type": "stream",
     "text": [
      "基 于 并 行 c 4 . 5 的 铁 路 零 散 白 货 客 户 流 失 预 测 研 究\n",
      "基 于 并 行 c 4 . 5 的 铁 路 零 散 白 货 客 户 流 失 预 测 研 究\n",
      "为了提高铁路零散白货客户流失预测的准确性和高效性,根据铁路零散白货客户的流失特征,提出了基于CDL模型的客户流失识别方法;在此基础上,针对数据量大的问题,提出了基于Hadoop并行框架的C4. 5决策树客户流失预测模型。通过仿真实验证明,该模型具有较好的准确性和预测能力,并且随着样本数量的增加,Hadoop并行框架的效率得到了明显的提升,且不影响客户流失预测模型的准确性和预测能力。\n",
      "\n"
     ]
    },
    {
     "name": "stderr",
     "output_type": "stream",
     "text": [
      "\r",
      " 32%|███▏      | 324/1000 [02:24<04:46,  2.36it/s]"
     ]
    },
    {
     "name": "stdout",
     "output_type": "stream",
     "text": [
      "面 向 空 间 应 用 的 数 据 对 象 存 储 与 检 索 系 统 研 究\n",
      "面 向 空 间 应 用 的 数 据 对 象 存 储 与 检 索 系 统 研 究\n",
      "针对当前标准对象存储系统的数据对象属性存储和检索方面的不足,结合空间应用数据对象特点,进行了对象属性设计,提出了一种基于HBase数据库的属性管理方法。该方法利用HBase数据库对数据对象及其属性进行集中管理,同时采用分段散列索引实现利用对象属性快速检索对象数据。测试结果表明,基于HBase数据库对象管理方法性能优于现有的属性管理方法,具有较高的对象属性检索效率。\n",
      "\n"
     ]
    },
    {
     "name": "stderr",
     "output_type": "stream",
     "text": [
      "\r",
      " 32%|███▎      | 325/1000 [02:24<04:25,  2.55it/s]"
     ]
    },
    {
     "name": "stdout",
     "output_type": "stream",
     "text": [
      "一 种 高 效 基 于 模 式 图 的 数 据 库 关 键 字 查 询 方 法\n",
      "基 于 模 式 图 的 数 据 库 关 键 字 查 询 方 法\n",
      "针对基于模式图的数据库关键字查询方法中普遍存在的查询效率较低的问题,提出了合并网络查询方法(CCNE)。该方法设计了一种合并网络结构,可以有效地避免传统方法中因候选网络之间的重复结构造成的冗余操作;同时,给出一种改进的候选网络生成策略,可以避免产生冗余候选网络并缩小遍历范围,从而提高效率;最后在合并网络的基础上,设计一种合并网络执行算法,在很大程度上减少了传统方法所需执行的大量复杂数据库查询操作,进一步提高了查询效率。多组基于真实数据集的实验结果表明,CCNE可以在保证查询结果无缺失的情况下有效提高查询效率。\n",
      "\n"
     ]
    },
    {
     "name": "stderr",
     "output_type": "stream",
     "text": [
      "\r",
      " 33%|███▎      | 326/1000 [02:24<04:35,  2.45it/s]"
     ]
    },
    {
     "name": "stdout",
     "output_type": "stream",
     "text": [
      "一 种 多 元 台 风 时 间 序 列 的 相 似 性 度 量 方 法\n",
      "基 于 相 似 性 度 量 的 台 风 相 似 性 度 量 方 法\n",
      "台风相似性度量方法的研究对防灾减灾、辅助决策等具有重要意义,台风相似性的研究大多集中在台风路径的相似性度量上。首先,梳理影响台风相似性度量的多个要素,提出了基于多元时间序列的台风数据描述方法;其次,提出了台风时间序列完整性、一致性评估与修复方法;最后,针对台风时间序列的不等长问题,设计了一种基于主成分分析和动态时间弯曲距离的相似性度量方法。通过实验验证,该方法能够实现台风相似性的有效度量。\n",
      "\n"
     ]
    },
    {
     "name": "stderr",
     "output_type": "stream",
     "text": [
      "\r",
      " 33%|███▎      | 327/1000 [02:25<05:01,  2.23it/s]"
     ]
    },
    {
     "name": "stdout",
     "output_type": "stream",
     "text": [
      "大 型 停 车 场 空 闲 车 位 短 时 预 测 方 法\n",
      "基 于 灰 色 理 论 和 m r f 神 经 网 络 的 空 闲 车 位 短 时 预 测\n",
      "为了提升智能交通系统性能及停车场利用率,针对大型停车场空闲车位短时预测进行了研究,提出了一种基于灰色理论、BP神经网络和马尔可夫链的组合预测方法以提高预测精度与时效性。该方法使用灰色理论处理数据,弱化其随机性,再通过人工神经网络训练得到数量预测结果,最后使用马尔可夫链消除系统产生的随机误差得到最终结果。实验表明,这种组合预测方法有效提高了预测精度,预测结果符合实际停车场数据变化规律,为驾驶员提前作出合理的停车场选择提供了可靠依据,能有效提高停车场车位利用率。\n",
      "\n"
     ]
    },
    {
     "name": "stderr",
     "output_type": "stream",
     "text": [
      "\r",
      " 33%|███▎      | 328/1000 [02:25<04:37,  2.42it/s]"
     ]
    },
    {
     "name": "stdout",
     "output_type": "stream",
     "text": [
      "基 于 s p a r k 的 混 合 协 同 过 滤 算 法 改 进 与 实 现\n",
      "基 于 s p a r k 平 台 的 混 合 协 同 过 滤 算 法 研 究\n",
      "针对传统协同过滤在推荐过程中存在的稀疏性、扩展性以及个性化问题,通过引入算法集成的思想,旨在优化和改进一种新型的基于Spark平台下的混合协同过滤。借鉴Stacking集成学习思想,将多个弱推荐器线性加权组合,形成综合性强的推荐器。算法基于近邻协同过滤,结合分类、流行度、好评度等对近邻相似度计算策略进行优化,旨在改善相似度的合理性以及相似度计算的复杂度,在一定程度上改善了评分稀疏性的问题;算法结合Spark分布式计算平台,充分借鉴分布式平台的优点,利用其流式处理以及分布式存储结构等特性,设计并实现一种推荐算法的增量迭型,解决了协同过滤算法扩展性和实时性问题。实验数据采用UCI公用数据集MovieLens和Net Flix电影评分数据。实验结果表明,改进算法在推荐个性化、准确率以及扩展性上都有不错的表现,较以前同类型算法均有不同程度的提高,为推荐系统的应用提供一种可行的算法集成方案。\n",
      "\n"
     ]
    },
    {
     "name": "stderr",
     "output_type": "stream",
     "text": [
      "\r",
      " 33%|███▎      | 329/1000 [02:26<04:36,  2.42it/s]"
     ]
    },
    {
     "name": "stdout",
     "output_type": "stream",
     "text": [
      "一 种 加 强 s s d 小 目 标 检 测 能 力 的 a t r o u s 滤 波 器 设 计\n",
      "基 于 a t r o u s 滤 波 的 实 时 目 标 检 测 改 进 算 法\n",
      "针对实时目标检测SSD(single shot multibox detector)算法对小目标检测能力偏差的问题,提出了一种提高特征图分辨率的Atrous滤波器设计策略。改进算法在SSD网络结构的基础上,把第三、四层卷积层产生的特征图经过规范化后连接在一起,然后通过Atrous卷积运算提高这些特征图分辨率。这些特征图共同提供小目标所需的特征。另外该SSD改进算法还加入Se LU(scaled exponential linear units)激活函数,并在数据预处理阶段设计了一套数据增广方法。实验表明,该改进算法框架相对于原SSD算法框架具有更高的检测精度、更优良的鲁棒性,以及在小目标检测上效果明显。\n",
      "\n"
     ]
    },
    {
     "name": "stderr",
     "output_type": "stream",
     "text": [
      "\r",
      " 33%|███▎      | 330/1000 [02:26<04:17,  2.60it/s]"
     ]
    },
    {
     "name": "stdout",
     "output_type": "stream",
     "text": [
      "单 词 统 计 特 性 在 情 感 词 自 动 抽 取 和 商 品 评 论 分 类 中 的 作 用\n",
      "基 于 统 计 特 征 的 商 品 评 论 分 类 研 究\n",
      "单词的统计特征在自然语言处理中具有广泛应用。针对统计特征对关键词抽取和文本分类精确度的影响,分析了八种常见的统计特征,通过情感词抽取和商品评论分类,研究统计特征在情感分析领域中的作用。利用八种统计特征构造文本向量空间模型,替代基于单词构造文本向量空间模型的方法,能够降低文本向量的维度,具有隐形语义空间(LSA/SVD)的压缩效果,在保证分类结果准确率的前提下有效降低了算法的复杂度,能够替代传统的向量空间模型。情感词提取实验的结果表明,通过结合统计特征与词性,情感词提取的准确率能够达到76. 4%,显著高于基于统计特征或单词词性的情感词提取算法;商品评论分类的测试结果表明,与传统的基于单词的文本情感分类相比,基于统计特征的商品评论分类的准确率提高了10. 8%。\n",
      "\n"
     ]
    },
    {
     "name": "stderr",
     "output_type": "stream",
     "text": [
      "\r",
      " 33%|███▎      | 331/1000 [02:27<04:27,  2.50it/s]"
     ]
    },
    {
     "name": "stdout",
     "output_type": "stream",
     "text": [
      "软 件 定 义 天 地 一 体 化 网 络 接 入 认 证 架 构 与 方 法\n",
      "构 建 安 全 高 效 的 社 会 化 接 入 认 证 架 构 与 方 法\n",
      "天地一体化网络因结构复杂存在网络异构动态、间歇连通、节点高度暴露等特性。为了保证安全,需要研究专有的接入认证架构与方法。利用软件定义网络控制面与数据面分离的思想将其与天地一体化信息网络相结合提出一种新的接入认证架构,对认证架构与过程进行详细描述,可以实现对网络的安全防护与资源的优化控制;根据架构特点,提出七个影响接入点决策的属性,给出各个属性的计算公式,将层次分析法与逼近理想解的排序方法相结合提出一种接入点决策算法。实验仿真结果表明,接入点决策准确,可以实现资源的合理利用。\n",
      "\n"
     ]
    },
    {
     "name": "stderr",
     "output_type": "stream",
     "text": [
      "\r",
      " 33%|███▎      | 332/1000 [02:27<04:45,  2.34it/s]"
     ]
    },
    {
     "name": "stdout",
     "output_type": "stream",
     "text": [
      "虚 拟 化 与 数 字 仿 真 融 合 的 网 络 仿 真 任 务 划 分\n",
      "面 向 虚 拟 化 与 数 字 仿 真 融 合 的 网 络 仿 真 任 务 划 分 方 法\n",
      "为提升网络仿真性能,面向虚拟化与数字仿真融合的网络仿真体系架构,研究相应的网络仿真任务划分方法。综合考虑虚拟化与数字仿真各自优势,将网络拓扑分为虚拟化拓扑区域与数字仿真拓扑区域,结合给定物理资源,以负载均衡与远程通信量最小化为目标,对两种区域进行融合划分。实验表明,通过该方法进行网络仿真任务划分相对于随机算法与均衡负载平衡算法,远程通信量平均降低了33. 7%、25. 1%,负载均衡度平均提升了56. 3%、38. 0%。该方法可有效降低远程通信量与提升负载均衡度。\n",
      "\n"
     ]
    },
    {
     "name": "stderr",
     "output_type": "stream",
     "text": [
      "\r",
      " 33%|███▎      | 333/1000 [02:27<04:43,  2.35it/s]"
     ]
    },
    {
     "name": "stdout",
     "output_type": "stream",
     "text": [
      "基 于 m c m 的 多 径 非 相 关 无 线 信 道 改 进 模 型 研 究\n",
      "改 进 的 多 径 非 相 关 无 线 信 道 仿 真 模 型\n",
      "为了改善瑞利衰落信道单径自相关统计特性,提出了一种改进的多径非相关无线信道仿真模型。该模型在蒙特卡罗法(MCM)的到达角(AOA)中引入多径因素k,改进了模型AOA的取值方法。通过对信道模型参数AOA、k、低频振荡器个数N以及均方误差(MSE)的仿真分析,结果表明,该模型在相关统计特性方面与参考模型相比具有极好的吻合性;与MCM相比,在实现开销相同的情况下,改进的新模型在最大允许时间间隔内,衰落信道单径自相关函数的MSE约为MCM的四分之一,精度有了明显的提高,能更加准确地描述无线信道。新模型为无线信道仿真器的设计、频率选择性信道的建模等提供了一种新的方法。\n",
      "\n"
     ]
    },
    {
     "name": "stderr",
     "output_type": "stream",
     "text": [
      "\r",
      " 33%|███▎      | 334/1000 [02:28<04:30,  2.46it/s]"
     ]
    },
    {
     "name": "stdout",
     "output_type": "stream",
     "text": [
      "基 于 二 级 控 制 器 和 线 性 模 型 的 自 适 应 带 宽 分 配 算 法\n",
      "基 于 二 级 控 制 器 的 自 适 应 带 宽 分 配 算 法\n",
      "针对虚拟化网络中存在的带宽分配问题,提出了一种基于二级控制器系统的自适应带宽分配算法。该控制器系统由包含VN子控制器的一组SP控制器和In P控制器构成。首先把每个VN在每个控制间隔的特性用一个线性模型来局部近似,以得到其过去、当前的带宽分配以及过去包时延性能之间的关系;然后基于物理链路容量的限制,系统对每个VN所请求的带宽作出响应并进行动态调整,以达到灵活的分布式自治控制,保证为每个VN分配合理的带宽。仿真结果表明,提出的算法不仅能够在多个VN之间合理、动态地分配可用链路容量,而且能够提高总带宽的利用率和分配的公平性,满足每个VN的Qo S需求。\n",
      "\n"
     ]
    },
    {
     "name": "stderr",
     "output_type": "stream",
     "text": [
      "\r",
      " 34%|███▎      | 335/1000 [02:28<04:28,  2.48it/s]"
     ]
    },
    {
     "name": "stdout",
     "output_type": "stream",
     "text": [
      "安 全 服 务 链 中 虚 拟 网 络 功 能 分 配 与 调 度 算 法 研 究\n",
      "虚 拟 网 络 功 能 中 的 资 源 分 配 与 调 度 问 题 研 究\n",
      "安全服务链中的虚拟网络功能(virtual network function,VNF)将传统网络安全功能与硬件设备解耦,使得服务功能的部署更具动态性和可扩展性。然而VNF向节点的合理分配以及节点上VNF的高效调度问题仍亟待解决。为此,基于软件定义网络(software defined network,SDN)和网络功能虚拟化(network function virtuali-zation,NFV)环境,提出基于优化算法的解决方案。对资源分配与调度问题进行举例并形式化定义问题的优化目标,提出基于贪心算法的资源分配方案和基于混合蜂群算法的资源调度方案,统一协调解决VNF的资源分配与调度问题。仿真实验验证,所提算法的时间复杂性和在总资源成本及总服务收益方面的提升,对比混合蜂群算法和传统蜂群算法,结果显示前者具有更快的收敛速度。\n",
      "\n"
     ]
    },
    {
     "name": "stderr",
     "output_type": "stream",
     "text": [
      "\r",
      " 34%|███▎      | 336/1000 [02:29<04:15,  2.60it/s]"
     ]
    },
    {
     "name": "stdout",
     "output_type": "stream",
     "text": [
      "基 于 可 变 粒 度 机 会 调 度 的 网 络 大 数 据 知 识 扩 充 算 法\n",
      "机 会 调 度 的 网 络 大 数 据 知 识 扩 充 算 法\n",
      "为了满足网络大数据背景下,大数据传播的数据知识高精度要求和清除劣质数据干扰,基于粒度可变调整方案提出了机会调度的网络大数据知识扩充算法。在分析网络大数据特征基础上,通过自适应向量编码,捕捉网络大数据的异构特性,采用多阶反向传播将异构网络大数据归一化处理,再通过机会调度实现网络大数据实时传输。同时,基于网络大数据组成的知识工程系统分割细粒度大数据,将多维特征进行降维处理,使得知识粒度转变为已知,接着调整粒度动态特性,使得知识工程的大数据集具有线性特征和明确的几何特性,通过知识扩充提高知识获取精度。实验结果通过与基于细粒度的知识获取算法进行对比,证明了所提算法的网络数据传输的高可靠性、实时性和知识获取的高效率。\n",
      "\n"
     ]
    },
    {
     "name": "stderr",
     "output_type": "stream",
     "text": [
      "\r",
      " 34%|███▎      | 337/1000 [02:29<04:32,  2.43it/s]"
     ]
    },
    {
     "name": "stdout",
     "output_type": "stream",
     "text": [
      "基 于 马 尔 可 夫 链 的 i e e e   8 0 2 . 1 5 . 4 网 络 防 丢 包 信 道 访 问 机 制 研 究\n",
      "基 于 m a r k o v 链 的 m a c 层 数 据 帧 丢 包 率 优 化 模 型\n",
      "为了降低IEEE 802. 15. 4MAC层数据帧丢包率,在分析丢包率的原因基础上,提出了一种基于Markov链的信道竞争机制模型。通过对网络发送、退避和信道检测状态的稳态概率进行数学推导,研究了信道碰撞和数据帧的丢包率分析式,研究了参数数据包到达速率、节点数量、误码率、后退指数、后退等待次数对碰撞概率和丢包率的影响。实验结果表明,与节点无休眠态的IEEE 802. 15. 4网络相比,节点丢包率平均降低了23. 7%,模型较好地描述了提出的MAC层信道访问机制,合理的网络参数设置能够优化数据帧丢包率,研究结果对无线传感网的应用提供了可靠传输优化参考。\n",
      "\n"
     ]
    },
    {
     "name": "stderr",
     "output_type": "stream",
     "text": [
      "\r",
      " 34%|███▍      | 338/1000 [02:29<04:30,  2.45it/s]"
     ]
    },
    {
     "name": "stdout",
     "output_type": "stream",
     "text": [
      "毫 米 波 5 g 网 络 中 一 种 d 2 d 通 信 的 资 源 分 配 方 案\n",
      "基 于 干 扰 控 制 的 高 效 d 2 d 资 源 分 配 算 法\n",
      "在5G系统中,毫米波(mm Wave)与终端直通技术(device-to-device,D2D)有利于提升系统容量和频谱利用率。针对73 GHz下underlay蜂窝网络中的D2D资源分配进行了研究。为了降低彼此间的干扰,提出对基站和D2D用户接收机进行区域限制,利用线性相关的方法选出可复用的蜂窝用户,最后在满足蜂窝通信和D2D通信服务质量(Qo S)的要求下提出一种基于干扰控制的资源分配,以提升系统的吞吐量。仿真结果表明所提算法的性能优于参考算法。该算法能够有效提升系统吞吐量和频谱效率。\n",
      "\n"
     ]
    },
    {
     "name": "stderr",
     "output_type": "stream",
     "text": [
      "\r",
      " 34%|███▍      | 339/1000 [02:30<03:57,  2.79it/s]"
     ]
    },
    {
     "name": "stdout",
     "output_type": "stream",
     "text": [
      "可 证 安 全 的 无 对 运 算 的 无 证 书 签 密 方 案\n",
      "一 种 无 证 书 签 密 方 案\n",
      "无证书签密体制继承了基于身份签密体制无须使用公钥证书的特点,又对其密钥托管问题进行了改进,具有一定优越性。针对已有的无证书签密方案计算效率低、安全性差等缺点,基于一种安全的签名方案,提出一类新的无对运算的无证书签密方案。采用将哈希函数与用户身份绑定以及公钥与私钥相结合生成新密钥的方法进行构造。在随机预言模型下基于计算椭圆曲线上的离散对数困难问题证明了方案的机密性和不可伪造性。与已往方案进行对比,在保证安全性的同时,该方案不使用双线性对和指数运算,效率较高。\n",
      "\n"
     ]
    },
    {
     "name": "stderr",
     "output_type": "stream",
     "text": [
      "\r",
      " 34%|███▍      | 340/1000 [02:30<03:44,  2.94it/s]"
     ]
    },
    {
     "name": "stdout",
     "output_type": "stream",
     "text": [
      "软 件 定 义 网 络 可 信 连 接 设 计 与 实 现\n",
      "软 件 定 义 网 络 中 可 信 连 接 方 案\n",
      "软件定义网络(software defined networking,SDN)将控制层和数据转发层分离,由控制层对数据转发层进行统一管理。目前控制层及数据转发层设备间完整性认证机制尚不完善,若平台完整性损坏的设备接入网络,会给整个SDN网络带来严重的安全问题。为确保双方设备在完整可信的前提下建立连接,进而在源头上保障设备安全、网络可信,提出了一种新的SDN可信连接方案。该方案以可信网络远程设备认证技术为基础,利用可信平台模块作为可信支撑,在SDN数据转发设备与控制器的连接过程中添加完整性认证环节。测试分析表明,该方案有效可行,符合实际应用。\n",
      "\n"
     ]
    },
    {
     "name": "stderr",
     "output_type": "stream",
     "text": [
      "\r",
      " 34%|███▍      | 341/1000 [02:30<03:50,  2.86it/s]"
     ]
    },
    {
     "name": "stdout",
     "output_type": "stream",
     "text": [
      "一 种 针 对 b i t t o r r e n t 协 议 中 h a v e 消 息 的 隐 写 分 析 方 法\n",
      "基 于 多 特 征 分 类 的 b i t t o r r e n t 协 议 隐 写 检 测\n",
      "网络隐写是一种以计算机网络通信数据为载体的隐蔽通信技术。BitTorrent协议的巨大流量使其成为一种极佳的隐写载体,基于BitTorrent协议have消息的隐写即在此背景下提出,目前公开文献尚无有效的检测算法。基于此,提出了一种基于多特征分类的检测方法。该方法首先提取正常have消息数据流,接着提取均值、方差与直方图特征,最后基于AdaBoost分类器给出了检测结果。实验结果表明,所提方法在观测窗口达到1 000个数据包时对该隐写的识别正确率可达96%,在检测基于have消息的隐写时具有良好效果。\n",
      "\n"
     ]
    },
    {
     "name": "stderr",
     "output_type": "stream",
     "text": [
      "\r",
      " 34%|███▍      | 342/1000 [02:31<03:57,  2.78it/s]"
     ]
    },
    {
     "name": "stdout",
     "output_type": "stream",
     "text": [
      "基 于 软 件 定 义 网 络 的 域 内 路 由 保 护 方 案 研 究\n",
      "基 于 软 件 定 义 网 络 的 域 内 路 由 保 护 方 案\n",
      "软件定义网络(SDN)是一种将控制平面和转发平面分离的新型网络体系结构。由于其灵活性和可控性得到了业界的青睐。目前SDN采用最优路径转发报文,很难应对网络中频繁出现的节点或者链路故障。因此,为了提高SDN的可用性,提出了一种基于软件定义网络的域内路由保护方案(intra-domain routing protectionscheme based on software defined network,RPBSDN)。该方案可以为网络中的每个源—目的对计算出多个备份下一跳,利用节点加入到最短路径树的偏序关系来保证转发路径没有路由环路。实验结果表明,该方案不仅具有较小的计算复杂度,而且大大提高了网络的可用性。\n",
      "\n"
     ]
    },
    {
     "name": "stderr",
     "output_type": "stream",
     "text": [
      "\r",
      " 34%|███▍      | 343/1000 [02:31<04:15,  2.57it/s]"
     ]
    },
    {
     "name": "stdout",
     "output_type": "stream",
     "text": [
      "维 吾 尔 文 论 坛 中 基 于 术 语 选 择 和 r o c c h i o 分 类 器 的 文 本 过 滤 方 法\n",
      "基 于 术 语 选 择 和 r o c c h o 分 类 器 的 文 本 过 滤 方 法\n",
      "针对维吾尔文网页论坛中的文本过滤问题,提出一种基于术语选择和Rocchio分类器的文本过滤方法。首先,将论坛文本进行预处理以删除无用词,并基于N-gram统计模型进行词干(术语)提取;然后,提出一种均衡考虑相关性和冗余性的均衡型互信息术语选择方法(BMITS),对初始术语集合进行降维,获得精简术语集;最后,将文本特征术语作为输入,通过Rocchio分类器进行分类,以此过滤掉论坛中的不良文本。在相关数据集上的实验结果表明,提出的方法能够准确地识别出不良类型文本,具有有效性。\n",
      "\n"
     ]
    },
    {
     "name": "stderr",
     "output_type": "stream",
     "text": [
      "\r",
      " 34%|███▍      | 344/1000 [02:32<04:28,  2.45it/s]"
     ]
    },
    {
     "name": "stdout",
     "output_type": "stream",
     "text": [
      "群 智 感 知 网 络 个 性 化 位 置 隐 私 保 护 算 法\n",
      "一 种 用 于 群 智 感 知 数 据 的 动 态 隐 私 保 护 算 法\n",
      "群智感知网络中现有隐私保护算法对所有位置采用相同的隐私保护策略,导致位置隐私或保护过度或保护不足,且获得的感知数据精度较低。针对这一问题,提出了一种满足用户个性化隐私安全需求的位置隐私保护算法。首先,根据用户的历史移动轨迹,挖掘用户对不同位置的访问时长、访问频率以及访问的规律性来预测位置对用户的社会属性;然后,结合位置的自然属性,预测用户—位置的敏感等级;最后,结合用户在不同的位置有不同的隐私安全需求的特点,设置动态的隐私判定方案,在每个位置选择敏感度低的用户参与感知任务,以确保用户在隐私安全的前提下,贡献时空相关性精确高的感知数据。仿真结果表明,该算法在提高隐私保护水平的同时还提高了感知数据的精度。\n",
      "\n"
     ]
    },
    {
     "name": "stderr",
     "output_type": "stream",
     "text": [
      "\r",
      " 34%|███▍      | 345/1000 [02:32<04:09,  2.63it/s]"
     ]
    },
    {
     "name": "stdout",
     "output_type": "stream",
     "text": [
      "基 于 距 离 限 定 优 化 的 人 脸 识 别\n",
      "基 于 距 离 限 定 优 化 的 人 脸 识 别 方 法\n",
      "针对现有人脸识别方法对人脸角度、表情、姿态等因素较为敏感且准确率低的问题,提出了一种基于距离限定优化算法的人脸识别模型。该模型对人脸识别方法的改进有两点:a)利用LBP算子提取人脸图像纹理谱特征图,然后与原始人脸图像的R、G、B通道进行融合,将融合后的图像矩阵作为神经网络的输入,丰富了人脸的纹理特征; b)对误差函数进行改进,使用阈值和边界值约束特征向量的距离,对模型构建新的优化目标,使得相同对象的人脸图像在特征空间中具有较小的欧氏距离,不同对象的人脸图像在特征空间中具有较大的欧氏距离。通过在非限制场景下的LFW人脸库上进行实验,表明该模型准确率分别达到99. 15%,能有效地提高人脸识别准确率,具有很好的鲁棒性。\n",
      "\n"
     ]
    },
    {
     "name": "stderr",
     "output_type": "stream",
     "text": [
      "\r",
      " 35%|███▍      | 346/1000 [02:33<04:58,  2.19it/s]"
     ]
    },
    {
     "name": "stdout",
     "output_type": "stream",
     "text": [
      "基 于 多 层 特 征 融 合 可 调 监 督 函 数 卷 积 神 经 网 络 的 人 脸 性 别 识 别\n",
      "基 于 多 层 特 征 融 合 可 调 监 督 函 数 卷 积 神 经 网 络 的 人 脸 性 别 识 别\n",
      "为了进一步提高性别识别的准确率,提出了一种基于多层特征融合与可调监督函数机制结合的卷积神经网络(L-MFCNN)模型,并将之用于人脸性别识别。与传统卷积神经网络(CNN)不同,L-MFCNN将多个浅层中间卷积层特征输出与最后卷积层特征输出相结合,融合多层卷积层的特征,不仅利用了深层卷积的整体语义信息,还考虑了浅层卷积的细节局部纹理信息,使得性别识别更加准确。此外L-MFCNN还引入具有可调目标监督函数机制的large-margin softmax loss作为输出层,利用其调节不同的间隔(margin)的机制来有效引导深层卷积网络学习,使得同种性别间的类内间距更小,不同性别间的类间距更大,获得更好的性别识别效果。在多个人脸数据集上的性别识别实验结果表明,L-MFCNN的识别准确率要高于其他传统的卷积网络模型。L-MFCNN模型也为将来的人脸性别识别研究提供了新的思路与方向。\n",
      "\n"
     ]
    },
    {
     "name": "stderr",
     "output_type": "stream",
     "text": [
      "\r",
      " 35%|███▍      | 347/1000 [02:33<05:00,  2.17it/s]"
     ]
    },
    {
     "name": "stdout",
     "output_type": "stream",
     "text": [
      "基 于 改 进 的 深 度 卷 积 神 经 网 络 的 人 体 动 作 识 别 方 法\n",
      "基 于 改 进 的 批 归 一 化 变 换 与 改 进 的 网 络 架 构\n",
      "针对现有的动作识别算法的特征提取复杂、识别率低等问题,提出了基于批归一化变换(batch normali-zation)与Goog Le Net网络模型相结合的网络结构,将图像分类领域的批归一化思想应用到动作识别领域中进行训练算法改进,实现了对视频动作训练样本的网络输入进行微批量(mini-batch)归一化处理。该方法以RGB图像作为空间网络的输入,光流场作为时间网络输入,然后融合时空网络得到最终动作识别结果。在UCF101和HMDB51数据集上进行实验,分别取得了93. 50%和68. 32%的准确率。实验结果表明,改进的网络架构在视频人体动作识别问题上具有较高的识别准确率。\n",
      "\n"
     ]
    },
    {
     "name": "stderr",
     "output_type": "stream",
     "text": [
      "\r",
      " 35%|███▍      | 348/1000 [02:34<05:05,  2.13it/s]"
     ]
    },
    {
     "name": "stdout",
     "output_type": "stream",
     "text": [
      "基 于 o p e n m p 的 高 效 多 子 阵 合 成 孔 径 声 呐 距 离 多 普 勒 成 像 算 法\n",
      "共 享 内 存 环 境 下 的 孔 径 声 呐 成 像 算 法 并 行 化 设 计\n",
      "为充分利用多核CPU计算资源解决多子阵合成孔径声呐成像效率低的问题,提出了一种共享内存环境下的距离多普勒成像算法并行解决方案。在分析多子阵合成孔径声呐距离多普勒成像算法并行性的基础上,对算法中预处理、距离向脉冲压缩、固定相位补偿、距离徙动校正和方位向脉冲压缩进行了OpenMP并行化设计,充分利用多核CPU计算资源实现了大数据量合成孔径声呐图像快速重构。对实测数据的成像实验结果表明,并行成像算法加速比高达19. 86,满足实时合成孔径声呐系统成像需求。\n",
      "\n"
     ]
    },
    {
     "name": "stderr",
     "output_type": "stream",
     "text": [
      "\r",
      " 35%|███▍      | 349/1000 [02:34<04:39,  2.33it/s]"
     ]
    },
    {
     "name": "stdout",
     "output_type": "stream",
     "text": [
      "基 于 粒 子 群 算 法 的 三 维 c a d 模 型 相 似 性 计 算\n",
      "基 于 粒 子 群 的 模 型 相 似 性 计 算 方 法\n",
      "为了更加准确地度量两个模型之间的形状差异,提出了一种基于粒子群的模型相似性计算方法。利用面的组成边数来构造面相似度矩阵,通过粒子群算法对该矩阵进行搜索,得到了两个模型之间的最优面匹配序列。根据这个最优面匹配序列,从面相似度矩阵中提取对应的面相似性值。通过累积面之间的相似性来计算模型之间的整体相似性,以此为基础来度量模型之间的差异。实验结果表明,该方法能够准确地度量两个模型之间的相似程度。\n",
      "\n"
     ]
    },
    {
     "name": "stderr",
     "output_type": "stream",
     "text": [
      "\r",
      " 35%|███▌      | 350/1000 [02:34<04:27,  2.43it/s]"
     ]
    },
    {
     "name": "stdout",
     "output_type": "stream",
     "text": [
      "模 糊 加 权 的 高 效 鲁 棒 人 体 动 作 视 频 检 索\n",
      "模 糊 加 权 的 人 体 动 作 视 频 检 索 方 法\n",
      "为了提高人体动作视频检索的鲁棒性和效率,提出了一种模糊加权的人体动作视频检索方法。该方法采用3D Harris算子检测视频中的时空兴趣点,提取这些兴趣点的梯度信息,构建特征向量;然后采用模糊聚类方法构建聚类特征向量,提高特征向量的抗干扰能力;匹配聚类特征向量中的梯度向量对,构建模糊权重矩阵,计算查询视频与数据库中各个视频的相似度;最后在KTH数据库上进行视频检索实验,结合精确度、召回率和检索耗时三个指标进行评价,证明该方法的有效性。\n",
      "\n"
     ]
    },
    {
     "name": "stderr",
     "output_type": "stream",
     "text": [
      "\r",
      " 35%|███▌      | 351/1000 [02:35<04:51,  2.23it/s]"
     ]
    },
    {
     "name": "stdout",
     "output_type": "stream",
     "text": [
      "量 子 粒 子 群 算 法 优 化 相 关 向 量 机 的 轴 承 故 障 诊 断\n",
      "基 于 q p s o 算 法 优 化 的 相 关 向 量 机 滚 动 轴 承 故 障 诊 断\n",
      "人为因素对传统滚动轴承故障诊断方法有比较大的影响,并且故障起因比较复杂。针对此问题提出用基于量子粒子群(QPSO)算法优化的相关向量机(RVM)进行滚动轴承故障诊断。采用总体平均经验模态分解(EEMD)方法来处理滚动轴承的振动信号,分解后可以得到很多内禀模态函数(IMF)。再把IMF能量作为特征向量输入到QPSA-RVM诊断器中对滚动轴承的故障进行准确诊断。实验结果显示:该模型可以更快地实现对滚动轴承故障的准确识别,证明了该模型的稳定性及高效性。与支持向量机(SVM)分析对比后,进一步体现出RVM方法在智能故障诊断领域中具有优势。\n",
      "\n"
     ]
    },
    {
     "name": "stderr",
     "output_type": "stream",
     "text": [
      "\r",
      " 35%|███▌      | 352/1000 [02:35<04:17,  2.51it/s]"
     ]
    },
    {
     "name": "stdout",
     "output_type": "stream",
     "text": [
      "一 种 手 工 半 智 能 的 w e b 统 一 开 发 平 台\n",
      "基 于 微 服 务 的 w e b 统 一 开 发 平 台 设 计\n",
      "\"对当前Web应用开发及技术的现状进行概括分析,发现Web应用开发存在着很多共同的特性,导致有很多重复性工作。提出构建一种手工半智能的基于微服务的Web统一开发平台。介绍微服务架构的概念及原理、Web统一开发平台架构设计、底层框架。提出\"\"事务-流程-表单\"\"的开发模式,高效地管理并实现项目中业务流程的开发。设计一种可视化表单设计器,进行手工半智能开发页面表单,从而规范开发流程,提高开发效率,缩减项目交付周期。\"\n",
      "\n"
     ]
    },
    {
     "name": "stderr",
     "output_type": "stream",
     "text": [
      "\r",
      " 35%|███▌      | 353/1000 [02:35<04:23,  2.46it/s]"
     ]
    },
    {
     "name": "stdout",
     "output_type": "stream",
     "text": [
      "国 产 操 作 系 统 p h p 服 务 部 署 策 略 的 设 计 与 实 现\n",
      "基 于 l i n u x 的 国 产 操 作 系 统 p h p 服 务 部 署 策 略 的 设 计 与 实 现\n",
      "\"自从\"\"棱镜\"\"计划曝光以来,国家高度重视信息安全,大力推广国产操作系统,而国产操作系统数量依然很小。公开发布的国产操作系统都采用Linux内核,而大众对Linux不了解是发展缓慢的原因之一。LAMP通常指Linux操作系统、Apache服务器、MySQL数据库和PHP服务器,主要用于构建Web网站。由于这些都是开源软件,也全是国际上成熟的框架,无论是在价格、开发速度还是在跨平台以及性能等方面都有巨大的优势。因此,LAMP成为中小型企业搭建网站的首选。对LAMP以及相关的技术进行了介绍,设计LAMP的网站部署方案,并在中标麒麟系统上实现,对国产操作系统的普及具有一定的推动作用。\"\n",
      "\n"
     ]
    },
    {
     "name": "stderr",
     "output_type": "stream",
     "text": [
      "\r",
      " 35%|███▌      | 354/1000 [02:36<04:16,  2.52it/s]"
     ]
    },
    {
     "name": "stdout",
     "output_type": "stream",
     "text": [
      "无 人 直 升 机 跟 踪 地 面 移 动 目 标 实 时 仿 真 系 统 设 计 与 实 现\n",
      "无 人 直 升 机 目 标 跟 踪 仿 真 系 统 设 计\n",
      "无人直升机(UMH)因其优良的中低速机动能力,在目标跟踪场景下的应用优势突出。针对目标跟踪型UMH飞行控制系统研制过程中的仿真需求,基于模块化的设计思想,依据真实机载设备(飞行控制计算机)设计仿真系统框架。对各个移动目标跟踪控制子模块进行功能划分。完成目标跟踪地面控制站、机载飞行控制软件、机载设备仿真机软件与模型数据中继软件的设计与开发。实现飞行控制计算机在环的实时仿真系统搭建。通过仿真验证了系统的可行性,为无人直升机跟踪移动目标飞行控制系统研制奠定基础。\n",
      "\n"
     ]
    },
    {
     "name": "stderr",
     "output_type": "stream",
     "text": [
      "\r",
      " 36%|███▌      | 355/1000 [02:36<03:49,  2.81it/s]"
     ]
    },
    {
     "name": "stdout",
     "output_type": "stream",
     "text": [
      "基 于 用 户 态 的 n v m e 驱 动 设 计\n",
      "基 于 用 户 态 的 v r m e 驱 动 设 计\n",
      "提出一种基于用户态的NVMe驱动设计方案,并且一个设备可以为多个存储进程提供存储功能。基于利用IOMMU功能的VFIO模块来实现用户态的寄存器操作以及DMA功能。给出驱动设计的整体方案以及实现的技术细节。与其他方案相比,该方案对硬件依赖较低且易于扩展。\n",
      "\n"
     ]
    },
    {
     "name": "stderr",
     "output_type": "stream",
     "text": [
      "\r",
      " 36%|███▌      | 356/1000 [02:37<04:12,  2.55it/s]"
     ]
    },
    {
     "name": "stdout",
     "output_type": "stream",
     "text": [
      "无 线 电 接 口 单 元 软 件 数 据 耦 合 和 控 制 耦 合 覆 盖 目 标 的 实 现\n",
      "基 于 d o - 1 7 8 c 的 数 据 耦 合 和 控 制 耦 合 覆 盖 目 标 及 实 现\n",
      "当前行业里对数据耦合和控制耦合覆盖目标存在的背景以及实现该目标的方法充满困惑。介绍实现满足DO-178C中数据耦合和控制耦合覆盖目标的方法及过程。通过对该目标的说明和解释,提出一种实现该目标的方法。以无线电接口软件为例,详细地说明了实现该目标的过程。对后续机载软件研制项目过程中,开展数据耦合和控制耦合分析工作具有实际的指导意义。\n",
      "\n"
     ]
    },
    {
     "name": "stderr",
     "output_type": "stream",
     "text": [
      "\r",
      " 36%|███▌      | 357/1000 [02:37<03:57,  2.70it/s]"
     ]
    },
    {
     "name": "stdout",
     "output_type": "stream",
     "text": [
      "基 于 s p a r k 的 分 布 式 大 数 据 分 析 算 法 研 究\n",
      "基 于 p y t h o n 的 分 布 式 大 数 据 分 析 处 理 算 法\n",
      "随着大数据时代的到来,数据计算的实时性和数据量面临许多挑战。为了满足庞大的数据量和大数据高速处理的要求,研究将Apache作为一种集成的资源管理系统。采用Apache Storm、Apache Spice及SARK RDD处理大型分布式实时数据流,使用Apache Kafka作为消息中间件来支持异步消息的通信。设计一种支持并行运算规则的分布式大数据分析处理算法。实验结果表明:该算法可有效降低海量数据的分析速度,且支持系统内各子系统间的异构信息沟通与数据存储,足以满足高频交易市场的短期趋势预测需求。在高频、大数据处理系统中具有较高的应用价值。\n",
      "\n"
     ]
    },
    {
     "name": "stderr",
     "output_type": "stream",
     "text": [
      "\r",
      " 36%|███▌      | 358/1000 [02:37<03:39,  2.93it/s]"
     ]
    },
    {
     "name": "stdout",
     "output_type": "stream",
     "text": [
      "开 放 数 据 集 中 的 安 全 规 则 建 立 及 查 询 校 验\n",
      "面 向 自 然 语 言 的 安 全 需 求 描 述 模 型\n",
      "数据开放为海量数据中的价值得以最大化利用提供了可能,然而数据的安全性问题却成开放共享的最大阻碍。针对开放数据集查询分析结果包含的隐私信息,基于其与数据访问行为的直接联系,设计一种安全规则存储结构。提出面向自然语言的安全需求描述接口,对待保护的隐私信息进行灵活、方便的描述,进一步提出自然语言隐私需求描述到安全规则的自动转换方法。在此基础上建立数据安全自动审核模型,该模型根据数据拥有者的安全需求对访问者的数据行为进行审核,实现在数据隐私不泄露的前提下保证数据开放的最大化。通过真实数据集上的实验表明:安全规则能够准确地捕获数据提供者的隐私保护需求,并能够有效地保证数据的安全性。\n",
      "\n"
     ]
    },
    {
     "name": "stderr",
     "output_type": "stream",
     "text": [
      "\r",
      " 36%|███▌      | 359/1000 [02:38<03:40,  2.90it/s]"
     ]
    },
    {
     "name": "stdout",
     "output_type": "stream",
     "text": [
      "基 于 车 载 手 机 数 据 深 度 特 征 的 驾 驶 行 为 识 别\n",
      "基 于 卷 积 神 经 网 络 的 驾 驶 行 为 识 别 方 法\n",
      "针对驾驶行为识别问题,利用智能手机传感器采集相应车辆的加速度、角速度信息,并用手机角度信息对原始数据进行矫正处理。传统的驾驶行为识别方法须事先对原始数据单元人为进行特征提取。为改善繁琐的人工特征提取方法,提出一种驾驶行为识别领域基于改进的卷积神经网络的特征提取方法。原始数据经过组合后,作为卷积神经网络的输入。通过改变卷积神经网络的损失函数,提高类内样本特征的相似度,再将提取的特征作为核极限学习机的输入。实验结果表明,该方法可有效识别车辆的静止、急加速、急减速、正常行驶、左转弯、右转弯等驾驶行为。\n",
      "\n"
     ]
    },
    {
     "name": "stderr",
     "output_type": "stream",
     "text": [
      "\r",
      " 36%|███▌      | 360/1000 [02:38<03:46,  2.82it/s]"
     ]
    },
    {
     "name": "stdout",
     "output_type": "stream",
     "text": [
      "基 于 l s t m 循 环 神 经 网 络 的 p m 2 . 5 预 测\n",
      "基 于 l s t m 循 环 神 经 网 络 的 p m 2 . 5 预 测 模 型\n",
      "PM2.5要素对空气质量影响较大。PM2.5浓度变化是多种因素作用的结果,且过程突发、非线性,具有明显的不确定性,难以使用传统的方法进行预测。针对该问题,以气象、大气污染物因素作为PM2.5预测指标,提出基于LSTM循环神经网络的PM2.5预测模型。使用灰色关联度分析方法对多个气象、大气污染指标进行关联强度分析;对数据进行平滑处理,将时间序列问题处理为监督问题;搭建多变量的LSTM循环神经网络PM2.5预测模型,实现PM2.5日值浓度的准确预测。使用北京市2010年-2017年气象数据和大气污染物数据进行仿真实验,结果表明该模型能够较好地预测PM2.5的日值变化趋势。\n",
      "\n"
     ]
    },
    {
     "name": "stderr",
     "output_type": "stream",
     "text": [
      "\r",
      " 36%|███▌      | 361/1000 [02:38<03:55,  2.71it/s]"
     ]
    },
    {
     "name": "stdout",
     "output_type": "stream",
     "text": [
      "中 文 作 文 句 间 逻 辑 合 理 性 智 能 判 别 方 法 研 究\n",
      "基 于 文 本 分 类 的 句 间 逻 辑 合 理 性 判 别 研 究\n",
      "在作文评测中,句间逻辑合理性是评价语言运用能力的一项重要指标。从文本分类的角度,对作文段落句间逻辑合理性进行定性分析。依据逻辑合理的段落其句子的位置是相对固定的,将现有的基于传统、基于深度学习的文本分类算法应用在中小学人物类作文段落句间逻辑合理性的判别上,实验结果表明使用分类模型对段落句间逻辑合理性判别是有效的。在此基础上,进一步提出代表句子特征的关键词筛选方法,实验结果表明使用句首关键词、句尾关键词或两者结合作为句子特征的方法,比句子全部关键词更能代表句子信息,明显提高判别的准确率。\n",
      "\n"
     ]
    },
    {
     "name": "stderr",
     "output_type": "stream",
     "text": [
      "\r",
      " 36%|███▌      | 362/1000 [02:39<03:52,  2.75it/s]"
     ]
    },
    {
     "name": "stdout",
     "output_type": "stream",
     "text": [
      "一 种 基 于 情 感 语 义 的 色 彩 传 递 源 图 选 择 算 法\n",
      "基 于 情 感 语 义 的 色 彩 传 递 源 图 像 选 择 算 法\n",
      "针对色彩传递算法,在图像、视频着色过程中,用户人工选择源图像盲目性高、工作量大、自动化程度差的问题,提出一种基于情感语义的色彩传递源图像自动选择算法。利用图像的情感语义,通过提取用户所选情感的颜色特征与图库图像的颜色特征进行相似性比对,自动为用户检索出相应的源图像,为用户选择所需的源图像提供依据。实验结果表明,算法效果良好,提高色彩传递应用过程的自动化水平,减少人工干预的程度。\n",
      "\n"
     ]
    },
    {
     "name": "stderr",
     "output_type": "stream",
     "text": [
      "\r",
      " 36%|███▋      | 363/1000 [02:39<04:06,  2.58it/s]"
     ]
    },
    {
     "name": "stdout",
     "output_type": "stream",
     "text": [
      "地 下 集 装 箱 运 输 对 城 市 集 疏 运 体 系 的 影 响 分 析\n",
      "地 下 集 装 箱 运 输 系 统 可 选 路 径 仿 真 研 究\n",
      "地下集装箱运输系统能够改善城市的空气雾霾状况,缓解地面交通的拥挤压力,逐渐成为新的研究热点。构建可选路径初始网络图,利用k最短路径算法求得备选路径。引入非直线系数作为最优路径的最终判定方法。在港口集装箱吞吐量预测基础上,以运输时间、运输费用、中转时间和碳排放量为影响因素构建路径评价组合模型。以外高桥港为例,使用MATLAB仿真求解。结果表明,地下集装箱运输系统的建立,不仅降低承运人的运输费用,也提高陆向集疏运效率,同时缓解港区道路拥挤,改善港区的空气水平。为地下集装箱运输系统的发展提供相关参考。\n",
      "\n"
     ]
    },
    {
     "name": "stderr",
     "output_type": "stream",
     "text": [
      "\r",
      " 36%|███▋      | 364/1000 [02:39<04:01,  2.64it/s]"
     ]
    },
    {
     "name": "stdout",
     "output_type": "stream",
     "text": [
      "基 于 网 络 评 论 数 据 的 产 品 设 计 综 合 评 价 模 型 的 构 建\n",
      "基 于 网 络 评 论 数 据 的 产 品 设 计 综 合 评 价 模 型 研 究\n",
      "产品设计综合评价对于制造企业来说非常重要,是企业进行产品优化更新的重要依据,然而评价信息的获取和科学的评价模型是企业进行产品优化更新的最大障碍。随着大数据应用研究的兴起,从冗杂的网络数据中挖掘有用的信息,进而转化为知识并提供知识服务成为知识管理领域研究的热点。针对企业进行产品设计综合评价中的信息获取及评价模型问题,以文本挖掘技术为基础,运用情感倾向分析技术和LDA主题模型算法进行主题发现的研究。并将主题发现的结果应用于产品评价的知识服务当中,构建了基于网络评论数据的产品设计综合评价模型,并通过实例进行了应用验证。该研究可以有效分析消费者对产品的情感倾向以及对产品的综合评价,丰富企业原有的产品评价手段和评价方法,并为企业提供决策支持。\n",
      "\n"
     ]
    },
    {
     "name": "stderr",
     "output_type": "stream",
     "text": [
      "\r",
      " 36%|███▋      | 365/1000 [02:40<03:40,  2.87it/s]"
     ]
    },
    {
     "name": "stdout",
     "output_type": "stream",
     "text": [
      "一 种 高 性 能 多 模 式 的 内 存 数 据 库 系 统\n",
      "面 向 对 象 的 内 存 数 据 库 的 设 计 与 实 现\n",
      "随着智能电网和工业物联网的蓬勃发展,针对单一模式的数据库不能满足所有需求的问题,研发一种高性能多模式的内存数据库,以适应单应用、多应用、多节点、多现场等不同部署模式下的高性能数据访问要求。数据库以面向对象方式建模,提供面向对象接口、SQL接口和键值访问接口,适应不同的编程模式和使用场景。该数据库广泛应用于电力、冶金、交通等多个领域,通过数千个不同规模系统的稳定运行验证其多模式的灵活性。\n",
      "\n"
     ]
    },
    {
     "name": "stderr",
     "output_type": "stream",
     "text": [
      "\r",
      " 37%|███▋      | 366/1000 [02:40<04:24,  2.39it/s]"
     ]
    },
    {
     "name": "stdout",
     "output_type": "stream",
     "text": [
      "基 于 s p c 的 储 罐 液 位 异 常 检 测 算 法\n",
      "基 于 s p c 的 固 定 时 间 域 可 变 采 样 间 隔 与 数 据 异 常 检 测 方 法\n",
      "油田中井场储罐液位的变化与油井的生产状况、运输过程以及现场管理等方面密切相关。实时检测油罐液位的异常变化,对安全生产管理非常重要。采用基于SPC(Statistical Process Control)的固定时间域可变采样间隔VSIFT(Variable Sampling Interval at Fixed Times)控制图以及自适应采样间隔统计控制图的液位数据异常检测方法可以提高异常检测效率。VSIFT控制图通过设置预警线调整采样间隔,自适应采样间隔统计控制图通过计算β风险的概率进行动态采样。实验结果表明,相比SPC的固定采样间隔统计控制图以及传统的时序数据异常检测,该方法能够结合实际情况充分分析当前状态的数据与历史数据的关系,探索出数据的动态变化规律,准确检测仅有少量异常点的数据异常,高效检测实时数据异常。该方法能提高异常检测的效率与准确率。\n",
      "\n"
     ]
    },
    {
     "name": "stderr",
     "output_type": "stream",
     "text": [
      "\r",
      " 37%|███▋      | 367/1000 [02:41<04:42,  2.24it/s]"
     ]
    },
    {
     "name": "stdout",
     "output_type": "stream",
     "text": [
      "改 进 变 分 光 流 法 并 行 算 法 实 现\n",
      "基 于 改 进 变 分 光 流 算 法 的 大 范 围 三 维 矢 量 场 计 算\n",
      "通过天气雷达回波并使用变分光流方法的改进算法对雷达数据进行风场反演,计算回波的光流场变化而得到运动的矢量场。把Horn&Schunck方法和Lucas&Kanade方法结合在一起,加入高阶平滑项,再运用九点平滑算法得到矢量场。外推预报采用Semi-Lagrange方法进行。实验表明,该方法的效果优于Horn&Schunck方法和Lucas&Kanade方法。通过Join-Fork模式运用共享内存处理并行算法实现了大范围三维矢量场的快速计算,其加速比可达5. 05,减少实时业务所需时间。\n",
      "\n"
     ]
    },
    {
     "name": "stderr",
     "output_type": "stream",
     "text": [
      "\r",
      " 37%|███▋      | 368/1000 [02:41<04:38,  2.27it/s]"
     ]
    },
    {
     "name": "stdout",
     "output_type": "stream",
     "text": [
      "基 于 d n n 的 w s n 智 慧 大 棚 可 视 化 与 控 制 系 统 研 究\n",
      "基 于 d n n 的 智 慧 大 棚 可 视 化 与 控 制 系 统\n",
      "传统的温室大棚监测与控制系统一般采用布线方式,存在难度大、成本高等问题,已不能满足农业发展的需求。针对上述问题,研发一种基于DNN的WSN智慧大棚可视化与控制系统。在大棚内部署LoRa传感器网络采集环境信息。为直观地表达大棚内环境因子分布情况,采用Kriging方法构建环境因子分布图,并利用DNN神经网络建立专家知识库,能够自主科学地决策。通过反馈控制系统调节大棚内环境,使农作物具有最佳的生长环境。实验结果表明,该系统能够较好地展现环境因子分布情况且能够科学地调节大棚环境。\n",
      "\n"
     ]
    },
    {
     "name": "stderr",
     "output_type": "stream",
     "text": [
      "\r",
      " 37%|███▋      | 369/1000 [02:42<04:33,  2.31it/s]"
     ]
    },
    {
     "name": "stdout",
     "output_type": "stream",
     "text": [
      "基 于 混 合 编 程 技 术 的 浑 善 达 克 沙 地 沙 漠 化 遥 感 监 测 系 统 的 设 计 与 实 现\n",
      "基 于 混 合 编 程 技 术 的 沙 漠 化 遥 感 监 测 系 统 设 计\n",
      "沙漠化遥感监测是监控和观测干旱、半干旱地区土地退化程度的重要手段。采用计算机技术建立信息系统能够为沙漠化监测地区数据的高效处理与科学管理提供技术支持。利用混合编程技术,以浑善达克沙地为研究区,通过总体设计、功能设计与数据库设计,实现了浑善达克沙地沙漠化遥感监测系统,并对系统进行了测试。结果表明,该系统对于沙漠化地区遥感监测的数据处理极具适用性,且具有良好的可靠性。\n",
      "\n"
     ]
    },
    {
     "name": "stderr",
     "output_type": "stream",
     "text": [
      "\r",
      " 37%|███▋      | 370/1000 [02:42<04:26,  2.36it/s]"
     ]
    },
    {
     "name": "stdout",
     "output_type": "stream",
     "text": [
      "基 于 离 散 粒 子 群 优 化 算 法 的 含 权 旅 行 商 问 题 新 解 法\n",
      "离 散 粒 子 群 优 化 算 法 求 解 含 权 旅 行 商 问 题\n",
      "考虑现有旅行商问题常忽略车辆载重对运输费用的影响,建立含权旅行商问题模型。在分析含权旅行商问题性质的基础上,提出离散粒子群优化算法求解含权旅行商问题。重新定义问题域的粒子速度、粒子位置等运算规则,引入惯性系数线性下降策略。实验表明,该算法可以有效用于含权旅行商问题的求解,并且对含权旅行商问题的求解性能优于遗传算法和模拟退火算法。\n",
      "\n"
     ]
    },
    {
     "name": "stderr",
     "output_type": "stream",
     "text": [
      "\r",
      " 37%|███▋      | 371/1000 [02:43<04:30,  2.33it/s]"
     ]
    },
    {
     "name": "stdout",
     "output_type": "stream",
     "text": [
      "基 于 无 速 度 传 感 器 的 p m s m 反 步 终 端 滑 模 控 制\n",
      "基 于 p m s m 反 步 的 永 磁 同 步 电 机 终 端 滑 模 控 制\n",
      "研究一种带无速度传感器的永磁同步电机PMSM(permanent magnet synchronous motor)反步终端滑模控制策略。为了解决硬传感器可靠性差的问题,设计新型无速度传感器取代硬传感器,能够有效地估计电机的实时转速,提高系统的稳定性。分析反步控制与终端滑模控制的特点,研究一种基于终端滑模负载观测器的反步控制方法,有效地提高系统的的响应速度,增强系统的鲁棒性。并利用李雅普诺夫理论证明系统的稳定性。仿真及实验表明系统具有良好动态性能。\n",
      "\n"
     ]
    },
    {
     "name": "stderr",
     "output_type": "stream",
     "text": [
      "\r",
      " 37%|███▋      | 372/1000 [02:43<04:01,  2.60it/s]"
     ]
    },
    {
     "name": "stdout",
     "output_type": "stream",
     "text": [
      "基 于 i r f 2 和 l a c p   m a d 的 气 象 网 络 设 计 研 究\n",
      "地 市 级 气 象 内 网 优 化 设 计\n",
      "气象内网传统架构基本采用VRRP和MSTP的组网模式。针对传统模式下,设备性能的利用率不高,网络管理工作繁杂,网络架构不能满足气象信息业务发展需求等问题,基于IRF2和LACP MAD对地市级气象内网进行优化设计和平滑升级。对升级后的虚拟化网络系统原理、工作过程、分裂冲突过程进行详细分析。通过模拟软件对升级后的网络系统进行分裂测试、抓包分析,结果表明该网络性能及可靠性均优于现有网络。该设计方案同样适用于省级气象网络核心和接入层的平滑升级。\n",
      "\n"
     ]
    },
    {
     "name": "stderr",
     "output_type": "stream",
     "text": [
      "\r",
      " 37%|███▋      | 373/1000 [02:43<04:04,  2.57it/s]"
     ]
    },
    {
     "name": "stdout",
     "output_type": "stream",
     "text": [
      "基 于 双 向 l s t m 的 电 网 调 度 日 志 分 类\n",
      "基 于 深 度 神 经 网 络 的 电 网 调 度 日 志 分 类 方 法\n",
      "电网调度日志记录电网运行的各类信息,是分析调度过程、电网运行情况的重要数据来源。电网调度日志管理逐步智能化,调度日志分类任务也由人工操作转变为系统自动分类。为实现智能化分类,提出一种基于深度神经网络的电网调度日志分类方法。该方法基于电网调度日志训练出词向量,将词向量作为LSTM(Long Short-Term Memory)模型的输入。使用双向LSTM对电网调度日志进行分类。实验结果表明,该方法可以有效地对长度差别巨大的日志进行分类,并获得比传统分类方法更优的性能。\n",
      "\n"
     ]
    },
    {
     "name": "stderr",
     "output_type": "stream",
     "text": [
      "\r",
      " 37%|███▋      | 374/1000 [02:44<04:12,  2.48it/s]"
     ]
    },
    {
     "name": "stdout",
     "output_type": "stream",
     "text": [
      "进 口 原 油 电 子 对 单 管 理 系 统 功 能 设 计 与 分 析\n",
      "满 洲 里 口 岸 进 口 原 油 的 报 检 通 关 系 统 设 计\n",
      "\"进口原油电子对单管理系统是为适应当前满洲里口岸进口原油计量管理工作的实际需要而开发的一套计算机应用软件。它对满洲里口岸进口原油的报检通关数据实施分布数据采集和集中电子对单工作,并与中国电子检验检疫e-CIQ主干系统有效结合,实现快速签证和放行。系统为实现进口原油\"\"多车一批\"\"的报检通关模式提供快速处理的具体解决方案,能够有效提高口岸原油进口业务办理的整体能力,显著提升口岸的通关效率。\"\n",
      "\n"
     ]
    },
    {
     "name": "stderr",
     "output_type": "stream",
     "text": [
      "\r",
      " 38%|███▊      | 375/1000 [02:44<04:06,  2.54it/s]"
     ]
    },
    {
     "name": "stdout",
     "output_type": "stream",
     "text": [
      "微 服 务 架 构 下 的 分 布 式 事 务 处 理\n",
      "一 种 微 服 务 分 布 式 事 务 处 理 模 型 及 其 优 化 方 案\n",
      "单体架构下的分布式事务是一个服务内访问多个数据源的分布式事务,可以采用传统分布式事务处理模型——DTP(Distributed Transaction Processing)模型来解决。在微服务的架构下,可能会出现跨服务、跨资源的分布式事务。在解决这类分布式事务时,微服务追求系统的可用性和最终一致性而非数据的强一致性。针对不同的微服务分布式事务场景,介绍不同的分布式事务处理模型,包括可靠消息模型、业务补偿模型和TCC(TryConfirm/Cancel)模型,并总结每种模型的处理流程和优缺点。对TCC模型在性能上和可移植性上提出优化方案。\n",
      "\n"
     ]
    },
    {
     "name": "stderr",
     "output_type": "stream",
     "text": [
      "\r",
      " 38%|███▊      | 376/1000 [02:44<04:11,  2.48it/s]"
     ]
    },
    {
     "name": "stdout",
     "output_type": "stream",
     "text": [
      "基 于 l s t m / n n 的 道 岔 故 障 特 征 提 取 与 识 别 研 究\n",
      "基 于 l s t m 的 道 岔 转 叠 机 智 能 故 障 识 别 算 法\n",
      "道岔转辙机是保证列车安全运营的重要室外设备之一。分析道岔动作电流曲线,可以及时判断道岔的实时工作状态。采用基于长短期记忆(LSTM)模型结合传统神经网络的识别算法,从原始电流序列中自动提取特征,再根据特征利用神经网络分类器(NNC)来对道岔动作电流曲线进行智能故障识别。实验结果表明,所提算法不会丢失电流曲线的有效信息,并且提高了准确率,训练集上的准确率为100%,在测试集上准确率达到了99. 7%。算法能够满足铁路现场实际应用需要,对保障道岔的正常运行具有十分重要的现实意义。\n",
      "\n"
     ]
    },
    {
     "name": "stderr",
     "output_type": "stream",
     "text": [
      "\r",
      " 38%|███▊      | 377/1000 [02:45<04:15,  2.44it/s]"
     ]
    },
    {
     "name": "stdout",
     "output_type": "stream",
     "text": [
      "s t k 在 航 电 传 感 器 设 备 试 验 环 境 中 的 仿 真 应 用\n",
      "载 机 载 航 电 传 感 器 设 备 研 制 过 程 的 软 件 设 计\n",
      "随着航空电子传感器设备研制领域的不断发展,设备的试验已不再局限于单一设备的功能,而是需要在复杂的自然和电磁环境中将所有设备集成起来进行系统级试验。依赖传感器设备载机在真实环境的不断试飞,这不仅试验成本高,且设备故障的定位和复现也相当困难。针对这一系列的问题,利用STK软件能建立复杂的陆、海、空、天仿真应用场景,并能提供易于理解的图表、文本、可视化分析报告的特性,实现载机航迹数据生成、传感器以及天线仿真应用分析、地理数据加载、地形遮挡分析、复杂电磁仿真环境分析、真实机载数据回放以及可视化演示等功能。该应用为实装机载航电传感器设备研制提供最佳的系统级试验仿真环境,实现试验研制过程的降本增效。\n",
      "\n"
     ]
    },
    {
     "name": "stderr",
     "output_type": "stream",
     "text": [
      "\r",
      " 38%|███▊      | 378/1000 [02:45<04:11,  2.47it/s]"
     ]
    },
    {
     "name": "stdout",
     "output_type": "stream",
     "text": [
      "三 维 船 舶 轮 机 虚 拟 实 验 室 的 设 计 和 实 现\n",
      "基 于 u n i t y 3 d 的 轮 机 虚 拟 实 验 室 的 设 计 与 实 现\n",
      "传统的船舶轮机实验室存在教学设备成本高、维护不便以及学生使用时存在空间和时间限制等问题。为此提出一种基于unity3D的方法,采用第一人称漫游,利用3Dmax进行三维场景的搭建。通过C#脚本语言实现交互控制过程。该轮机虚拟实验室具有良好的可操作性、漫游性、实时渲染性、场景逼真性以及和二维轮机软件实时通信的功能特点。轮机虚拟实验室的开发在很大程度上节省了教学资源,提高了教学质量和学习效率,改变了学习方式。它在船舶教育教学和航海培训考核中具有很强的研究价值和应用前景。\n",
      "\n"
     ]
    },
    {
     "name": "stderr",
     "output_type": "stream",
     "text": [
      "\r",
      " 38%|███▊      | 379/1000 [02:46<04:19,  2.40it/s]"
     ]
    },
    {
     "name": "stdout",
     "output_type": "stream",
     "text": [
      "基 于 a r c g i s   e n g i n e 工 程 施 工 自 动 规 划 系 统 设 计 与 实 现\n",
      "基 于 a r c g i s   e n g i n e 的 工 程 施 工 自 动 规 划 辅 助 决 策 系 统 设 计\n",
      "新疆地处内陆,幅员辽阔,人迹稀少,地质条件复杂,工程施工及野外踏勘难度大、效率低。针对这种情况,在深入了解ArcObject组件功能基础上,提出一种基于ArcGIS Engine的工程施工自动规划辅助决策系统的设计方案。系统实现对DEM遥感数据、地表介质分布数据、工程施工方案等多种数据处理融合,为规划者提供有效的规划决策预案。可实现从大面积戈壁荒漠地形中选取适合施工的区域,有效地减少野外踏勘次数,缩小踏勘范围,提高规划效率。\n",
      "\n"
     ]
    },
    {
     "name": "stderr",
     "output_type": "stream",
     "text": [
      "\r",
      " 38%|███▊      | 380/1000 [02:46<03:52,  2.67it/s]"
     ]
    },
    {
     "name": "stdout",
     "output_type": "stream",
     "text": [
      "一 种 基 于 多 协 议 的 粮 食 港 区 电 力 监 控 系 统 的 设 计 与 应 用\n",
      "支 持 多 协 议 的 电 力 监 控 系 统 设 计\n",
      "针对目前各企业在建设配电系统过程中,使用不同厂家、多种型号的电力仪器与设备,导致通信协议不统一,升级改造和运营维护困难等问题。设计一种支持多协议的电力监控系统,可接入不同厂家的电力仪表和设备,具有数据监测、异常报警、数据分析处理、报表展示等功能。该系统方便相关人员操作与管理,实现配电系统的智能化监控。该系统已在外高桥某港区中成功应用,节省了大量的人力物力,并保证了传输系统的可靠性。\n",
      "\n"
     ]
    },
    {
     "name": "stderr",
     "output_type": "stream",
     "text": [
      "\r",
      " 38%|███▊      | 381/1000 [02:46<03:48,  2.70it/s]"
     ]
    },
    {
     "name": "stdout",
     "output_type": "stream",
     "text": [
      "一 种 基 于 i b e a c o n 的 物 流 仓 储 智 能 定 位 系 统\n",
      "基 于 智 能 手 机 的 物 流 仓 储 智 能 定 位 系 统 设 计\n",
      "针对我国目前物流仓储的巨大需求和物流货物位置更新频繁的状况,在保证货物安全的前提下,提出使用智能手机App物流仓储智能定位系统来替代传统的手动定位和更新物流信息系统。手机App物流仓储智能定位系统能灵活、及时地对物流和仓储进行物品定位和信息管理。通过该系统促使物流人员按物流管理处规定的物流管理办法对各项货物进行定时的位置更新,以便发现信息不对并及时解决。这种方式能大大加强仓储的安全工作,对物流人员的货物定位工作进行更准确、科学、规范有效的监督和管理。所有货物的位置数据都会保存在云端,并且可以通过手机或电脑在数据云端查询。该系统已在华东某地区物流仓储投入使用,结果显示物流仓储智能定位系统更加完善,可以更好地保证物流货物的安全。\n",
      "\n"
     ]
    },
    {
     "name": "stderr",
     "output_type": "stream",
     "text": [
      "\r",
      " 38%|███▊      | 382/1000 [02:47<03:48,  2.70it/s]"
     ]
    },
    {
     "name": "stdout",
     "output_type": "stream",
     "text": [
      "基 于 u d s 协 议 的 汽 车 e c u 升 级 方 案\n",
      "基 于 u d s 协 议 的 汽 车 e c u 驱 动 软 件 设 计 与 实 现\n",
      "近些年,随着汽车行业的迅猛发展,汽车ECU的功能也越来越强大、越来越复杂。Bootloader刷新功能的引入,对于汽车ECU的开发起到巨大的促进作用,已经成为汽车ECU的一个必备功能。针对汽车ECU的特点,提出一种基于UDS协议的汽车ECU升级方案。详细介绍汽车ECU的Bootloader刷写软件的实现原理。该方案不仅方便汽车电子研发人员进行开发和测试,而且对日后系统的升级和维护都有着重要作用。\n",
      "\n"
     ]
    },
    {
     "name": "stderr",
     "output_type": "stream",
     "text": [
      "\r",
      " 38%|███▊      | 383/1000 [02:47<03:35,  2.86it/s]"
     ]
    },
    {
     "name": "stdout",
     "output_type": "stream",
     "text": [
      "基 于 s v m 的 学 科 试 题 自 动 分 类 研 究\n",
      "基 于 s v m 的 学 科 试 题 自 动 分 类 法\n",
      "针对海量学科试题所引发的试题管理混乱现象,提出一种基于SVM的学科试题自动分类法。对学科语料进行分词、去停用词和统一相似词等预处理操作;采用TextRank算法对学科语料进行权重赋值,将语料文本向量化;用SVM中的Linear核函数训练语料得到分类器。用语料库中的12类单选题进行测试,整体分类的准确率、召回率、F1值均达到97%以上。结果表明,该分类法可以有效地分类试题文本。\n",
      "\n"
     ]
    },
    {
     "name": "stderr",
     "output_type": "stream",
     "text": [
      "\r",
      " 38%|███▊      | 384/1000 [02:47<03:49,  2.68it/s]"
     ]
    },
    {
     "name": "stdout",
     "output_type": "stream",
     "text": [
      "基 于 局 部 - 全 局 一 致 性 学 习 的 弱 监 督 人 手 分 割\n",
      "基 于 f c n 预 训 练 的 弱 监 督 人 手 分 割 算 法\n",
      "随着可穿戴设备的日益普及,人的上肢行为数据急剧增长,而自然场景下的人手分割研究较少。针对现有的算法对手工设计特征、像素级标签、设备、环境等的依赖,造成的精度有限或设备、人工标注成本较高的问题,提出一种弱监督人手分割算法,并将其应用到人手操作行为分割中。在像素级标签的源数据集上,利用全卷积神经网络(FCN)预训练。在只有类别标签的目标数据集上,实现基于超像素的局部-全局一致性学习的分割优化,进而实现FCN网络训练和分割优化的交替迭代。使用全连接条件随机场(CRF)进行后处理。提出基于边界框的弱监督分割,以及半监督分割方法。与其他方法的对比实验表明,该方法具有较高的召回率和区域交叠率。\n",
      "\n"
     ]
    },
    {
     "name": "stderr",
     "output_type": "stream",
     "text": [
      "\r",
      " 38%|███▊      | 385/1000 [02:48<03:51,  2.66it/s]"
     ]
    },
    {
     "name": "stdout",
     "output_type": "stream",
     "text": [
      "基 于 决 策 树 的 德 语 字 素 音 素 转 换 算 法\n",
      "基 于 决 策 树 的 字 素 音 素 转 换 的 监 督 学 习 算 法\n",
      "字素音素转换是德语自然语言处理中的难点之一。提出一种基于决策树的字素音素转换的监督学习算法。在一个字素音素平行语料库的基础上,通过决策树进行字素音素转换的监督学习,生成字素音素转换规则。经交叉测试,平均转换正确率可达98. 03%。\n",
      "\n"
     ]
    },
    {
     "name": "stderr",
     "output_type": "stream",
     "text": [
      "\r",
      " 39%|███▊      | 386/1000 [02:48<03:37,  2.82it/s]"
     ]
    },
    {
     "name": "stdout",
     "output_type": "stream",
     "text": [
      "基 于 深 度 学 习 的 锂 电 池 褶 皱 检 测 方 法 的 研 究\n",
      "基 于 深 度 学 习 的 锂 电 池 褶 皱 检 测\n",
      "为了解决锂电池褶皱检测问题,提出基于深度学习的褶皱检测方法。CNN是在实际应用中最成功的深度神经网络,能够很好地实现分类。提出CNN来解决锂电池褶皱检测的方法:收集锂电池X光照片;人工把锂电池X光照片分为无褶皱和有褶皱两种,并标注;将数据集放入构建的CNN模型中训练学习。在数据集充足的情况下,通过大量实验表明:该方法的准确率能够达到99%,相对于原始的凭借经验、人工观察检测的方法有很大提升。\n",
      "\n"
     ]
    },
    {
     "name": "stderr",
     "output_type": "stream",
     "text": [
      "\r",
      " 39%|███▊      | 387/1000 [02:49<04:21,  2.35it/s]"
     ]
    },
    {
     "name": "stdout",
     "output_type": "stream",
     "text": [
      "基 于 t e x t r a n k 和 字 符 级 卷 积 神 经 网 络 的 小 学 作 文 素 材 自 动 分 类 模 型 研 究\n",
      "基 于 t e x t r a n k 和 字 符 级 卷 积 神 经 网 络 的 数 学 作 文 自 动 分 类 模 型 研 究\n",
      "随着教育技术与信息技术的融合,实现面向小学生的语文写作自动辅助成为可能。快速自动地进行范文素材的分类入库是实现写作自动辅助的关键。作文素材语义信息丰富、种类较多,若采用现有方法进行自动分类入库操作往往难以取得好的效果。因此,在分析小学作文的类别特征并构建了一个数据集的基础上,提出基于TextRank和字符级卷积神经网络的小学作文自动分类模型。运用基于TextRank的关键句提取模型为范文素材,去除部分冗余的语义信息。应用word embedding对数据集进行文本表示,并将其作为卷积神经网络的输入。通过不断地迭代训练和测试,最终实现了该模型。实验表明了该方法对于作文分类任务能显著地提高分类的性能。\n",
      "\n"
     ]
    },
    {
     "name": "stderr",
     "output_type": "stream",
     "text": [
      "\r",
      " 39%|███▉      | 388/1000 [02:49<04:18,  2.37it/s]"
     ]
    },
    {
     "name": "stdout",
     "output_type": "stream",
     "text": [
      "基 于 f e c h n e r 定 律 和 梯 度 特 征 的 人 脸 识 别 算 法 及 实 现\n",
      "基 于 f e s h n e r 定 律 和 梯 度 特 征 的 人 脸 识 别\n",
      "光照一直是人脸识别中的一项热点问题。为了消除光照影响,提高人脸识别率,基于Fechner定律和梯度特征提出一种新的人脸识别方法。该方法在对数域内进行图像增强,并基于Fechner定律得到光照分量。通过消除光照,获得对光照不敏感的反射人脸,并且梯度特征完整地提取局部人脸信息。在CMU-PIE数据库上的实验数据表明,该方法平均识别率高达97. 86%,明显优于其他几种方法,并且对光照更加鲁棒。\n",
      "\n"
     ]
    },
    {
     "name": "stderr",
     "output_type": "stream",
     "text": [
      "\r",
      " 39%|███▉      | 389/1000 [02:49<04:05,  2.49it/s]"
     ]
    },
    {
     "name": "stdout",
     "output_type": "stream",
     "text": [
      "基 于 f d - s s d 的 遥 感 图 像 多 目 标 检 测 方 法\n",
      "基 于 改 进 网 络 的 遥 感 图 像 自 动 检 测\n",
      "\"针对遥感图像中目标物体过小,不易检测的难点,提出对SSD的改进网络FD-SSD(Feature Fusion and Dilated Convolution Single Shot Multibox Detector)。FD-SSD去掉了SSD网络数据预处理层的随机剪裁步骤,并结合FSSD将具有高分辨率的低层特征图和具有高语义信息的高层特征图进行融合。使用空洞卷积增大第三层特征图的感受野,利用具有高分辨率的低层特征图对小目标进行预测。同时不再使用1×1的顶层特征图产生目标框。模型训练阶段将原始遥感图像进行\"\"二次切割\"\"处理,增加训练样本量。在预测阶段先将原始图像进行切割预测,再将目标框映射回原图,并对原图所有的目标框进行二次非极大值抑制(NMS),保留最优目标框。FD-SSD在DOTA数据集上有良好的表现,比原始SSD的m AP提升31%。\"\n",
      "\n"
     ]
    },
    {
     "name": "stderr",
     "output_type": "stream",
     "text": [
      "\r",
      " 39%|███▉      | 390/1000 [02:50<04:14,  2.40it/s]"
     ]
    },
    {
     "name": "stdout",
     "output_type": "stream",
     "text": [
      "基 于 空 - 时 域 视 觉 敏 感 度 的 码 率 分 配 算 法\n",
      "基 于 空 - 时 域 视 觉 敏 感 度 的 码 率 分 配 策 略\n",
      "新一代高效视频编码HEVC(High Efficiency Video Coding)标准中,λ域的码率控制采用自适应码率分配策略,其主要根据前一参考帧对应参考单元的码控参数来调整当前编码单元的码率分配参数。但是,这种码率分配策略下的编码结果不适合于人类视觉特性。提出一种基于空-时域视觉敏感度的码率分配策略,采用一种恰可感知失真JND(Just Noticeable Difference)模型来获取一帧图像空域上的最大视觉失真值。通过对最大失真值计算,得到每个编码树单元CTU(Coding Tree Unit)空域敏感度权重。利用相邻帧在时域上的变化,获取帧级的码率分配比例。根据帧间变化得到自下而上的视觉关注度,从而计算出每个编码树单元在时域上的敏感度权重。结合空域与时域的视觉敏感度,获得基于空-时域的码率分配权重,将码率按照视觉特性合理的分配到每个编码树单元。实验结果显示,该算法可以有效提高码控的主观质量,同时降低码率波动。\n",
      "\n"
     ]
    },
    {
     "name": "stderr",
     "output_type": "stream",
     "text": [
      "\r",
      " 39%|███▉      | 391/1000 [02:50<04:10,  2.43it/s]"
     ]
    },
    {
     "name": "stdout",
     "output_type": "stream",
     "text": [
      "基 于 图 像 处 理 的 轨 道 位 移 监 测 系 统 研 究\n",
      "高 铁 桥 梁 轨 道 伸 缩 调 节 器 位 移 监 测 系 统\n",
      "在高铁桥梁轨道伸缩调节器处的轨道位移是影响行车安全的关键薄弱点。对该处轨道的位移监测非常必要,但是在高铁线路上是不允许安装任何设备的。为了解决实时监测的需求,研究基于图像处理的位移监测系统。在轨道侧边安装固定摄像机,定时拍摄照片;使用数字图像处理算法计算出轨道的实际位移。为了达到比较好的效果,使用相位相关法求相对位移,并且使用傅里叶梅林变换解决相机振动后偏移和更换后需要重新标定变焦倍数的问题。该系统实现实时自动测量,并且取得较好的测量精度,解决非接触测量的需求。\n",
      "\n"
     ]
    },
    {
     "name": "stderr",
     "output_type": "stream",
     "text": [
      "\r",
      " 39%|███▉      | 392/1000 [02:51<04:40,  2.17it/s]"
     ]
    },
    {
     "name": "stdout",
     "output_type": "stream",
     "text": [
      "面 向 协 同 装 配 的 混 合 现 实 手 眼 交 互 技 术 研 究\n",
      "m r 协 同 装 配 中 基 于 眼 动 追 踪 和 手 势 识 别 的 多 通 道 交 互 方 法\n",
      "针对MR协同装配工作中存在的复杂人机交互问题,提出一种基于眼动追踪和手势识别的多通道交互方法。采用注视线检测和注视点检测对目标物体进行预选取。通过手势识别完成对候选目标物体的确认和相关操作。实验结果表明,该方法能实现对遮挡、微小尺寸、远距离目标对象的选取和操作。同时,协同装配实验验证了该方法在协同工作中的可行性。\n",
      "\n"
     ]
    },
    {
     "name": "stderr",
     "output_type": "stream",
     "text": [
      "\r",
      " 39%|███▉      | 393/1000 [02:51<04:30,  2.24it/s]"
     ]
    },
    {
     "name": "stdout",
     "output_type": "stream",
     "text": [
      "基 于 图 像 处 理 的 橡 胶 树 割 痕 提 取 与 死 皮 识 别\n",
      "基 于 大 津 阈 值 算 法 的 橡 胶 树 死 皮 判 定\n",
      "橡胶树死皮病是影响橡胶树乳胶产量的一个重要原因。通过从图像中分离出橡胶树割痕的特征割线及乳胶来判定死皮等级可大大降低人工判定死皮级别的误判率。在考虑分割算法时,鉴于橡胶树图像分割的难点,改进传统的大津阈值算法,选用一种加权的Otsu法并与图像旋转相结合,可得到理想的分割阈值,分割效果极佳。同时,定义死皮的判定准则,对实验基地选取的260份图像进行实验,结果表明,该方法实现了橡胶树割痕的提取以及乳胶的分离,其死皮等级判断准确率高达92. 4%。该方法可有效预防死皮病的进一步蔓延,具有一定的实验价值。\n",
      "\n"
     ]
    },
    {
     "name": "stderr",
     "output_type": "stream",
     "text": [
      "\r",
      " 39%|███▉      | 394/1000 [02:52<04:27,  2.27it/s]"
     ]
    },
    {
     "name": "stdout",
     "output_type": "stream",
     "text": [
      "局 部 信 息 保 持 极 限 学 习 机 的 遥 感 图 像 分 类\n",
      "一 种 基 于 局 部 信 息 保 持 极 限 学 习 机 的 图 像 分 类 算 法\n",
      "极限学习机ELM(Extreme learning machine)以其简单快速和良好的泛化能力在模式识别和机器学习领域得到了广泛的应用。近年来,研究人员将其应用到高光谱遥感图像分类问题中。然而,由于数据样本有限,极限学习机及其相关技术在遥感图像中存在数据学习不充分的问题。流形学习算法揭示了数据内在的几何结构信息。根据遥感图像的特点,基于流形学习的思想,将遥感图像数据样本的流行结构引入到ELM模型中,提出一种基于局部信息保持极限学习机LPKELM(locality information preserving extreme learning machine)。为了验证所提算法的有效性,使用两个高光谱遥感图像数据集进行实验。实验结果表明,LPKELM的分类性能优于SVM、KELM、KCRT-CK和MLR算法。\n",
      "\n"
     ]
    },
    {
     "name": "stderr",
     "output_type": "stream",
     "text": [
      "\r",
      " 40%|███▉      | 395/1000 [02:52<04:06,  2.46it/s]"
     ]
    },
    {
     "name": "stdout",
     "output_type": "stream",
     "text": [
      "一 种 激 光 散 斑 光 条 中 心 提 取 方 法\n",
      "一 种 散 斑 激 光 条 中 心 提 取 方 法\n",
      "现有的激光光条中心提取方法中,无法很好解决散斑激光条中心的提取问题。对这种激光散斑图像建立光强分布模型,通过分析提出一种基于自适应对比度增强改善算法的图像增加方法和光条中心提取方法。该方法根据原始图像先验部分和激光投影模型对高频增益系数进行计算,对图像中光斑部分进行图像增强操作,并对增强后图像出现的断点进行处理。基于Steger算法提取增强后图像的激光光条中心坐标,并利用直线光条在平面成像的线性特征,将光条中心点到先验直线的平均距离作为光条中心提取精度的评价标准。通过实验验证该方法的有效性。\n",
      "\n"
     ]
    },
    {
     "name": "stderr",
     "output_type": "stream",
     "text": [
      "\r",
      " 40%|███▉      | 396/1000 [02:53<04:23,  2.29it/s]"
     ]
    },
    {
     "name": "stdout",
     "output_type": "stream",
     "text": [
      "基 于 a f c 的 地 铁 车 站 楼 扶 梯 客 流 参 数 预 测 与 状 态 判 定\n",
      "基 于 关 联 闸 机 组 的 楼 扶 梯 等 候 区 客 流 状 态 预 测\n",
      "通过采集和计算得到地铁站楼扶梯等候区的客流密度和通过时间两个客流参数。对各闸机的进出站AFC数据和预测楼扶梯等候区的客流参数进行相关性分析,筛选出与预测楼扶梯相关联的闸机组。在此基础上,采用改进的NARX神经网络建立基于关联闸机组AFC数据的楼扶梯等候区客流参数预测模型,并提出基于客流参数预测值的楼扶梯等候区客流状态判定方法。通过MATLAB对AFC数据及客流参数进行仿真。结果表明,该预测方法能够通过地铁车站关联闸机组的进出站AFC数据对楼扶梯等候区的客流参数进行较高精度的预测。研究成果可为地铁站内楼扶梯等拥堵点的客流状态预判提供决策依据。\n",
      "\n"
     ]
    },
    {
     "name": "stderr",
     "output_type": "stream",
     "text": [
      "\r",
      " 40%|███▉      | 397/1000 [02:53<04:13,  2.38it/s]"
     ]
    },
    {
     "name": "stdout",
     "output_type": "stream",
     "text": [
      "一 种 带 权 的 混 合 数 据 聚 类 个 数 确 定 算 法\n",
      "带 权 的 混 合 数 据 聚 类 个 数 确 定 算 法\n",
      "混合数据的聚类过程中通常面临一个不可回避的问题:聚类个数的确定。基于Liang k-prototype算法引入属性权重,重新定义混合数据缺失某类的类间熵和(SBAE_M)、有效性指标(CUM)及相异性度量。提出一种带权的混合数据聚类个数确定算法。该算法的基本思想是:用newk-prototype算法将混合数据进行聚类,计算其聚类结果的CUM及SBAE_M,将最坏的类剔除,并将该类中的对象用新的相异性度量进行重新分配,CUM最大时包含的类别数即为聚类个数。在5个UCI数据集上验证了该算法的有效性。\n",
      "\n"
     ]
    },
    {
     "name": "stderr",
     "output_type": "stream",
     "text": [
      "\r",
      " 40%|███▉      | 398/1000 [02:53<04:02,  2.48it/s]"
     ]
    },
    {
     "name": "stdout",
     "output_type": "stream",
     "text": [
      "融 合 初 始 资 源 与 协 同 过 滤 的 二 部 图 推 荐 算 法\n",
      "基 于 二 部 图 网 络 与 协 同 过 滤 的 推 荐 算 法\n",
      "推荐系统的产生主要是为了解决信息过载的问题。基于二部图网络与基于协同过滤的推荐算法是目前应用比较广泛的算法,二者都取得了一定的推荐效果。基于加权二部图网络的算法忽略对初始资源的配置,基于物品的协同过滤算法在推荐时也产生数据稀疏等问题。组合推荐算法融合初始资源配置以及基于物品的协同过滤算法来解决相关的问题,可以达到更好的推荐效果。算法实验在MovieLens数据集上实施,结果表明,与传统的推荐算法以及最近的组合推荐算法相比,该方法有更好的推荐效果。\n",
      "\n"
     ]
    },
    {
     "name": "stderr",
     "output_type": "stream",
     "text": [
      "\r",
      " 40%|███▉      | 399/1000 [02:54<03:44,  2.68it/s]"
     ]
    },
    {
     "name": "stdout",
     "output_type": "stream",
     "text": [
      "基 于 区 块 链 的 共 享 经 济 隐 私 保 护 机 制 的 设 计\n",
      "基 于 区 块 链 技 术 的 个 人 隐 私 保 护 数 据 库 研 究\n",
      "针对目前共享经济体系架构存在的个人隐私泄露和交易双方信任危机问题,提出一种基于区块链技术的改进方案。该方案可以让用户个人隐私通过加密存储到区块链数据库中。基于区块链技术进行改造后,区块链的去中心化和弱中介化等特点相比传统数据库更难被攻击脱库。共享体和用户对区块链数据库来说是平等的,双方交易更加透明化。共享体和平台任何一笔交易都永久记录在区块链中,信息内容存储通过对称加密算法保存,用户和共享体隐私信息也可得以有效保护。\n",
      "\n"
     ]
    },
    {
     "name": "stderr",
     "output_type": "stream",
     "text": [
      "\r",
      " 40%|████      | 400/1000 [02:54<03:45,  2.66it/s]"
     ]
    },
    {
     "name": "stdout",
     "output_type": "stream",
     "text": [
      "基 于 改 进 索 引 散 列 树 的 动 态 大 数 据 审 核 方 法\n",
      "一 种 改 进 的 索 引 散 列 树 数 据 认 证 方 法\n",
      "为了解决公共审核和数据动态性问题,以及降低计算成本,提出一种改进的索引散列树的数据审核方法。该方法在经典Merkle散列树MHT(Merkle Hash Tree)和BLS签名的基础上,提出一种改进的MHT。增加节点字段,修改MHT树的节点信息,使每个节点信息均包含存储数据块的哈希值和相对索引。通过时间戳字段与MHT的根节点相关联,以提供数据新鲜性。数据分析表明,该方法的不当操作检测概率较高,具有较好的安全性。与其他方法相比,该方法的计算成本较低,服务器和审核者的总体时间复杂度为O(n),验证了对MHT的改进行之有效。\n",
      "\n"
     ]
    },
    {
     "name": "stderr",
     "output_type": "stream",
     "text": [
      "\r",
      " 40%|████      | 401/1000 [02:54<03:54,  2.56it/s]"
     ]
    },
    {
     "name": "stdout",
     "output_type": "stream",
     "text": [
      "一 个 基 于 l p n 问 题 的 网 络 编 码 同 态 m a c 加 密 方 案\n",
      "基 于 l b n 问 题 的 网 络 编 码 同 态 m a c 加 密 方 案\n",
      "基于网络编码的应用系统很容易遭受到污染攻击。在目前解决污染攻击的对称密钥方法中,中间节点往往不具备防御能力。针对以上问题,提出一个基于LPN问题难度的HB协议网络编码同态MAC加密方案,并在基本模型下证明方案的安全性。与以往的基于对称密钥的方法相比,该方案允许网络中间节点验证所收到数据包的合法性,可以尽早地发现并过滤掉被污染的数据包。同时,由于具有较低的计算开销和带宽开销,该方案非常适用于实时性较强的网络编码应用。\n",
      "\n"
     ]
    },
    {
     "name": "stderr",
     "output_type": "stream",
     "text": [
      "\r",
      " 40%|████      | 402/1000 [02:55<03:44,  2.67it/s]"
     ]
    },
    {
     "name": "stdout",
     "output_type": "stream",
     "text": [
      "基 于 机 器 学 习 的 贫 困 生 分 类 预 测 研 究\n",
      "基 于 a g a 模 型 的 高 校 贫 困 生 分 类 预 测 方 法\n",
      "针对高校贫困生认定工作中存在的问题,利用校园一卡通数据,综合学生消费和生活规律,结合XGBoost(Extreme Gradient Boosting)模型和主成分分析法、过采样算法,建立高校贫困生的分类预测方法。该方法在贫困生分类预测中的准确率较高。实验结果证明,采用XGBoost模型比其他模型预测准确率更高,为我国高校贫困学生的评定标准提供重要依据,保证了贫困学生认定工作的公正性。\n",
      "\n"
     ]
    },
    {
     "name": "stderr",
     "output_type": "stream",
     "text": [
      "\r",
      " 40%|████      | 403/1000 [02:55<03:36,  2.76it/s]"
     ]
    },
    {
     "name": "stdout",
     "output_type": "stream",
     "text": [
      "改 进 p s o 和 机 器 状 态 对 车 间 任 务 调 度 研 究\n",
      "基 于 p s o 的 纺 织 车 间 任 务 分 配 算 法\n",
      "针对纺织车间的多任务对应多设备生产的静态车间任务分配问题,以改进粒子群算法(PSO)对订单任务完成时间最少进行分析。以机械状态影响任务调度使车间拥有足够的时间预防突发事件。在生产效率和机械可靠性基础上设计目标函数并进行任务分配。提出柯西分逆累积分布更新粒子位置函数,进行粒子更新,实现快速收敛。通过实际案例验证整个车间任务分配过程。验证结果表明,该算法能有效优化车间资源的利用率。\n",
      "\n"
     ]
    },
    {
     "name": "stderr",
     "output_type": "stream",
     "text": [
      "\r",
      " 40%|████      | 404/1000 [02:56<03:47,  2.62it/s]"
     ]
    },
    {
     "name": "stdout",
     "output_type": "stream",
     "text": [
      "基 于 p s o - s a 算 法 的 优 化 排 料 研 究\n",
      "基 于 p s o - s a 算 法 的 板 式 办 公 设 备 合 理 剪 裁\n",
      "现今用于家具制造的木材及板材的使用量大幅度增加。板材用料的合理利用与木材资源的浪费问题,越来越受到国家及社会的高度关注。在家具生产中,板式材料的合理剪裁成为现在的研究热点。根据现代社会产生的木材合理利用为研究点采用PSO-SA优化算法,对板式办公家具木质材料的优化排料方式进行建模。PSO-SA将PSO算法的优点与SA算法的优点运用在算法的实现中,并将两种算法进行有效结合,使之达到最良好的优化效果。尽量避免和减少其余料的产生和浪费,达到利用率最高的目的。同时提高辅助材料的价值和可用性。\n",
      "\n"
     ]
    },
    {
     "name": "stderr",
     "output_type": "stream",
     "text": [
      "\r",
      " 40%|████      | 405/1000 [02:56<03:32,  2.80it/s]"
     ]
    },
    {
     "name": "stdout",
     "output_type": "stream",
     "text": [
      "基 于 本 体 的 应 急 案 例 库 系 统 的 构 建\n",
      "基 于 网 络 本 体 的 应 急 案 例 库 构 建 研 究\n",
      "使用网络本体语言OWL(Web Ontology Language)描述本体。通过本体建模工具(Protégé)对应急案例的本体表示进行定义,实现应急案例库的构建。应急案例库的构建有利于突出多个应急案例间的联系。实验证明,开发的应急案例库系统在案例检索中具有高效性。运用相似度算法来排序应急案例能够满足应急案例的查全率要求,为应急指挥者快速地做出决策提供方便。\n",
      "\n"
     ]
    },
    {
     "name": "stderr",
     "output_type": "stream",
     "text": [
      "\r",
      " 41%|████      | 406/1000 [02:56<04:00,  2.47it/s]"
     ]
    },
    {
     "name": "stdout",
     "output_type": "stream",
     "text": [
      "s l s 算 法 求 解 平 衡 正 则 ( k , 2 r ) - c n f 公 式\n",
      "平 衡 正 则 - c n f 公 式 的 可 满 足 性 问 题 求 解\n",
      "可满足性问题的求解算法和结构性质研究是计算机科学中重要问题之一,为寻求某些CNF公式子类问题有效算法或算法改进途径,对公式的结构加以某些限制,其中限定子句长度为恒定常数和变元出现次数是常见的处理方式。研究具有正则结构且每个变元正负出现均衡的结构化公式的可满足性问题求解,其随机生成模型的构建及随机实验测试有助于观察解分布状况。并且,随机局部搜索算法在求解具有一定规则结构CNF公式实例中具有良好效率。本文集中研究平衡正则(k,2r)-CNF公式的求解问题,即限制每个子句的长度为k,每个变元出现的次数为偶数2r,并且每个变元正负出现的次数在相等情况下的可满足性问题求解。给出BR(n,k,2r)模型,以此模型来生成具有特殊结构的平衡正则(k,2r)-CNF公式实例,利用随机局部搜索算法求解问题。通过限制初始指派的0文字和1文字各占一半且均匀生成,以Walk SAT算法和NSAT算法做实验对比,发现对于平衡正则(k,2r)-CNF公式,实例具有明显效率。\n",
      "\n"
     ]
    },
    {
     "name": "stderr",
     "output_type": "stream",
     "text": [
      "\r",
      " 41%|████      | 407/1000 [02:57<03:44,  2.64it/s]"
     ]
    },
    {
     "name": "stdout",
     "output_type": "stream",
     "text": [
      "基 于 改 进 的 核 相 关 滤 波 器 的 长 期 目 标 跟 踪 算 法\n",
      "核 相 关 滤 波 器 目 标 跟 踪 算 法 研 究\n",
      "针对核相关滤波器跟踪算法在视觉目标跟踪中因遮挡产生的目标丢失后,无法重新准确地跟踪目标问题,提出一种基于GM(1,1)灰色预测模型和间隔性模板匹配的改进的核相关滤波器跟踪算法。实验结果表明,在复杂环境下,所提出的改进算法与传统的核相关滤波器目标跟踪算法相比,综合性能有很大的提高,与其他跟踪算法相比也有一定的优势。\n",
      "\n"
     ]
    },
    {
     "name": "stderr",
     "output_type": "stream",
     "text": [
      "\r",
      " 41%|████      | 408/1000 [02:57<03:52,  2.54it/s]"
     ]
    },
    {
     "name": "stdout",
     "output_type": "stream",
     "text": [
      "基 于 多 基 表 示 的 滑 动 窗 口 椭 圆 曲 线 多 标 量 乘 算 法\n",
      "基 于 滑 动 窗 口 的 多 标 量 乘 算 法 及 实 现\n",
      "标量乘运算从整体上决定了椭圆曲线密码体制的快速实现效率,在一些椭圆曲线公钥密码体制中需要计算多标量乘。多基数链的标量表示长度更短、非零比特数目更少,较好地适用于椭圆曲线标量乘的快速计算。为了提高椭圆曲线密码的效率,在已有的二进制域和素域的标量乘算法的基础上,结合滑动窗口技术、多基算法,提出新的更高效的多标量乘算法。实验结果表明,新算法与传统Shamir算法和交错NAF算法相比,其所需的运算量更少,能有效地提高椭圆曲线多标量乘算法的效率,使多标量乘的运算更高效。相比于其他算法,新算法的计算效率比已有的多标量乘算法提高了约7.9%～20.6%。\n",
      "\n"
     ]
    },
    {
     "name": "stderr",
     "output_type": "stream",
     "text": [
      "\r",
      " 41%|████      | 409/1000 [02:58<03:56,  2.49it/s]"
     ]
    },
    {
     "name": "stdout",
     "output_type": "stream",
     "text": [
      "迭 代 最 近 点 算 法 的 改 进 策 略\n",
      "一 种 改 进 的 i c p 算 法 在 点 云 配 准 中 的 应 用\n",
      "迭代最近点(Iterative Closest Point,ICP)算法是一种最为常见的点云配准方法,虽然配准精度高,但收敛速度慢,对含噪声、覆盖率较低点云的配准效果不佳。鉴于此,本文提出3种ICP算法的改进方法。针对含噪声的点云,采用概率ICP算法来抑制噪声点对配准结果的影响,提高配准精度;为了提高点云配准速度,采用坐标ICP算法实现点云的快速配准;针对低覆盖率点云,采用盒子ICP算法实现配准,可以大大提高配准精度和速度。通过兔子点云配准实验表明,3种改进的ICP算法在点云配准精度和速度方面都有很大程度的提高,均为有效的点云配准方法。\n",
      "\n"
     ]
    },
    {
     "name": "stderr",
     "output_type": "stream",
     "text": [
      "\r",
      " 41%|████      | 410/1000 [02:58<04:10,  2.36it/s]"
     ]
    },
    {
     "name": "stdout",
     "output_type": "stream",
     "text": [
      "基 于 标 记 分 水 岭 的 植 物 重 叠 叶 片 改 进 分 割 算 法\n",
      "基 于 h o g 描 述 子 的 番 茄 洞 重 叠 叶 片 分 割 算 法\n",
      "针对番茄穴盘幼苗的重叠叶片,提出一种基于HOG描述子的改进标记分水岭分割算法。首先,利用超绿变换和最大类间方差法分割叶片区域和背景区域,确定叶片分割的总体轮廓;然后利用形态学彩色图像梯度计算方法计算图像梯度;再借助图像梯度的HOG描述子,筛选出有叶片边缘的区域和没有叶片边缘的区域,将没有叶片边缘的区域进行形态学操作后作为分水岭分割的标记;最后利用标记对图像梯度进行重建,执行分水岭分割,得到重叠叶片的分割结果。实验结果表明,该算法可以较为准确地选定分水岭标记和实现叶片分割,能够为穴盘幼苗分级研究提供支持。\n",
      "\n"
     ]
    },
    {
     "name": "stderr",
     "output_type": "stream",
     "text": [
      "\r",
      " 41%|████      | 411/1000 [02:58<03:49,  2.57it/s]"
     ]
    },
    {
     "name": "stdout",
     "output_type": "stream",
     "text": [
      "基 于 自 编 码 器 图 像 重 构 的 织 物 瑕 疵 检 测 算 法\n",
      "含 周 期 图 案 织 物 瑕 疵 检 测\n",
      "针对含周期图案织物瑕疵检测通常要计算周期,而这又不适应纯色织物,本文提出适应2类织物的检测方法。首先设定检测块大小,按其在无瑕疵图像中随机提取图像块,并训练自编码器。然后将待检图像按设定大小分块,用自编码器重构,并计算重构前后的均方误差。最后对计算结果进行异常值检测,均方误差值偏大的为瑕疵块。实验表明,本文算法适应2类织物,容易实现,检测效果较好。\n",
      "\n"
     ]
    },
    {
     "name": "stderr",
     "output_type": "stream",
     "text": [
      "\r",
      " 41%|████      | 412/1000 [02:59<04:03,  2.42it/s]"
     ]
    },
    {
     "name": "stdout",
     "output_type": "stream",
     "text": [
      "基 于 背 景 先 验 与 低 秩 恢 复 的 显 著 性 目 标 检 测 方 法\n",
      "基 于 稀 疏 与 低 秩 矩 阵 恢 复 的 显 著 性 检 测\n",
      "显著性检测是指计算机通过算法自动识别出图像中的显著性目标,广泛应用于目标识别、图像检索与图像分类等领域。针对现有基于稀疏与低秩矩阵恢复的显著性检测模型中低秩转换矩阵的获取、前景稀疏矩阵的处理以及超像素块之间的关系,需对现有的稀疏与低秩矩阵恢复模型进行优化,使之更好地适用于图像的显著性检测。首先,根据背景的对比度和连通度原则获取图像低秩的背景字典,采用3种尺度分割图像的多个特征矩阵获得图像的前景稀疏矩阵;其次,通过计算邻居像素点之间的影响因子矩阵与置信度矩阵对显著图的结果进行结构约束,并且采用稀疏与低秩矩阵恢复模型对图像进行显著性检测;最后,利用K-means聚类算法的传播机制优化得到的显著图。在公开数据集上进行实验验证,结果证明本文方法能够准确有效地检测出显著性目标。\n",
      "\n"
     ]
    },
    {
     "name": "stderr",
     "output_type": "stream",
     "text": [
      "\r",
      " 41%|████▏     | 413/1000 [02:59<03:36,  2.71it/s]"
     ]
    },
    {
     "name": "stdout",
     "output_type": "stream",
     "text": [
      "基 于 f a s t e r   r - c n n 的 办 公 用 品 目 标 检 测\n",
      "基 于 特 征 融 合 的 目 标 检 测 方 法\n",
      "RCNN网络与全卷积网络框架等技术使得目标检测技术能够快速发展。RCNN网络与全卷积网络框架不仅训练速度快,推断速度也十分的迅速,此外还具有良好的鲁棒性以及灵活性。在人工智能领域的发展中,提高目标检测效率的关键在于好的技术,以及得到更加有效的、深层的特征表示,通过使用深层网络的多层结构来简洁地表达复杂函数。本文用到的目标检测方法先要用区域建议网络得到建议位置再进行检测,因为Fast R-CNN和R-CNN等目标检测算法已经在运行时间方面有了很大的提高,所以计算区域建议成为目标检测的一个计算瓶颈。本文通过在算法中加入特征融合技术,将每一卷积层提取的特征进行融合,使用区域建议网络来进行候选区域提取。区域建议网络和检测网络共享全图的卷积特征,从而很大程度地缩短候选区域的提取时间,提高目标检测的精度。\n",
      "\n"
     ]
    },
    {
     "name": "stderr",
     "output_type": "stream",
     "text": [
      "\r",
      " 41%|████▏     | 414/1000 [03:00<03:54,  2.50it/s]"
     ]
    },
    {
     "name": "stdout",
     "output_type": "stream",
     "text": [
      "基 于 纹 理 特 征 改 进 的 g f l 运 动 目 标 提 取 方 法\n",
      "基 于 纹 理 特 征 的 广 义 融 合 套 索 运 动 目 标 提 取 方 法\n",
      "基于广义融合套索(GFL)前景模型,融合视频的纹理特征,提出一种基于纹理特征的运动目标提取方法。方法通过GFL前景模型提取前景运动目标和背景,再利用LBP算法提取前景与背景在多个方向上的纹理特征,比较两者纹理特征的相似度,去除前景中的投射阴影,解决由于运动目标遮挡产生的阴影问题,同时还引入误判率去描述模型的准确度。通过对广场、办公室以及体育馆等实际场景进行测试,实验表明提出的算法能够有效去除运动目标产生的阴影。\n",
      "\n"
     ]
    },
    {
     "name": "stderr",
     "output_type": "stream",
     "text": [
      "\r",
      " 42%|████▏     | 415/1000 [03:00<03:40,  2.66it/s]"
     ]
    },
    {
     "name": "stdout",
     "output_type": "stream",
     "text": [
      "基 于 双 阶 段 位 置 修 正 的 室 内 定 位 算 法\n",
      "基 于 双 阶 段 位 置 修 正 的 室 内 定 位 算 法\n",
      "WLAN指纹定位技术已经成为室内定位领域的研究热点,但空间环境变化易导致传统定位算法精度降低。针对此问题,提出基于双阶段位置修正的室内定位算法。分析空气介质电导率变化对RSSI的影响,以传统算法的定位结果作为初始位置,首先利用K邻近法(KNN)构建初始位置指纹映射;在此基础上,利用多维标度法(MDS)计算离线、在线阶段的用户间相对位置修正值;最后,利用双阶段位置修正值对初始位置进行优化,得出最终目标位置。实验结果表明,该算法能够有效应对环境变化,修正定位结果,传统算法经其优化后平均误差均有10%以上的降低。\n",
      "\n"
     ]
    },
    {
     "name": "stderr",
     "output_type": "stream",
     "text": [
      "\r",
      " 42%|████▏     | 416/1000 [03:00<03:30,  2.77it/s]"
     ]
    },
    {
     "name": "stdout",
     "output_type": "stream",
     "text": [
      "基 于 多 传 感 器 数 据 融 合 的 转 向 参 数 测 量 仪 设 计\n",
      "基 于 多 传 感 器 技 术 的 转 向 参 数 测 量 仪 设 计\n",
      "针对目前场(厂)内机动车方向盘转向参数测量仪装夹机构复杂、测量结果误差大的问题,提出一种基于多传感器技术的转向参数测量仪方法。通过加速度传感器、地磁计对陀螺仪角速度进行补偿,采用四元数融合算法对9轴MEMS传感器采样数据进行融合,修正因方向盘倾角对转向角测量结果的影响。通过设计转向参数测量仪硬件平台验证算法的可行性,实验结果表明融合算法能够提高转向角的精度。\n",
      "\n"
     ]
    },
    {
     "name": "stderr",
     "output_type": "stream",
     "text": [
      "\r",
      " 42%|████▏     | 417/1000 [03:00<03:17,  2.95it/s]"
     ]
    },
    {
     "name": "stdout",
     "output_type": "stream",
     "text": [
      "基 于 深 度 强 化 学 习 的 计 步 方 法\n",
      "基 于 深 度 强 化 学 习 的 计 步 方 法\n",
      "针对计步软件使用中用户行为不定,容易产生各种噪声以及传统算法中参数不能持续优化的问题,本文提出基于深度强化学习的计步方法。将噪声判别及步数统计作为智能体的动作,在步数统计中改进波峰检测法,提出均值穿越波峰波谷检测法。利用循环神经网络保存内部状态,将用户对计步器计步好坏的反馈作为奖励信号,指导参数持续优化。实验结果表明,该方法在采集设备放置于不同位置并且有噪声时,噪声识别率为0.9151,计步误差率为0.0623,有较高的精度以及较强的抗干扰能力。\n",
      "\n"
     ]
    },
    {
     "name": "stderr",
     "output_type": "stream",
     "text": [
      "\r",
      " 42%|████▏     | 418/1000 [03:01<03:11,  3.05it/s]"
     ]
    },
    {
     "name": "stdout",
     "output_type": "stream",
     "text": [
      "融 合 多 特 征 的 中 文 集 成 实 体 链 接 方 法\n",
      "融 合 多 特 征 的 集 成 实 体 链 接 方 法\n",
      "实体链接技术是将文本中的实体指称项正确链接到知识库中实体对象的过程,对知识库扩容起着关键作用。针对传统的实体链接方法主要利用上下文相似度等表层特征,而且忽略共现实体间的语义相关性,提出一种融合多特征的集成实体链接方法。首先结合同义词表、同名词表产生候选实体集,然后从多角度抽取语义特征,并将语义特征融合到构建的实体相关图中,最后对候选实体排序,选取top1实体作为链接目标。在NLP&CC2013中文微博实体链接评测数据集上进行实验,获得90.97%的准确率,与NLP&CC2013中文微博实体链接评测的最优系统相比,本文系统具有一定的优势。\n",
      "\n"
     ]
    },
    {
     "name": "stderr",
     "output_type": "stream",
     "text": [
      "\r",
      " 42%|████▏     | 419/1000 [03:01<03:12,  3.01it/s]"
     ]
    },
    {
     "name": "stdout",
     "output_type": "stream",
     "text": [
      "一 种 基 于 竞 争 型 群 体 优 化 的 数 据 聚 类 方 法\n",
      "一 种 基 于 竞 争 型 群 体 优 化 的 数 据 聚 类 方 法\n",
      "数据聚类在智能信息处理中具有非常重要的作用。传统的数据聚类方法,如K-means算法,存在对初始聚类中心敏感等问题。随着智能优化算法的发展,人们用智能优化算法进行数据聚类取得了一定的效果,但存在容易陷入局部最优等问题。为此,本文将在高维优化问题中取得良好效果的竞争型群体优化算法中引入数据聚类,利用竞争型群体优化算法强大的全局探索能力搜索聚类中心进行数据聚类,在UCI的5个数据集上的实验结果表明竞争型群体优化算法比遗传算法、粒子群算法不仅能得到更好的聚类效果,而且收敛性能更好。\n",
      "\n"
     ]
    },
    {
     "name": "stderr",
     "output_type": "stream",
     "text": [
      "\r",
      " 42%|████▏     | 420/1000 [03:01<03:07,  3.09it/s]"
     ]
    },
    {
     "name": "stdout",
     "output_type": "stream",
     "text": [
      "基 于 不 可 靠 通 信 链 路 的 数 据 共 享 模 块\n",
      "基 于 r a b b i t q m 的 数 据 共 享 模 块 的 设 计 与 实 现\n",
      "随着企业规模的逐步扩大和计算机网络与企业信息技术的飞速发展,大中型企业陆续建立了很多业务系统,对各个系统之间数据同步的安全性提出了更高的需求。针对此需求,基于RabbitMQ消息队列中间件,本文设计并实现基于不可靠通信链路的数据共享模块,解决在企业内部两级数据中心之间的双向数据同步问题,并通过RabbitMQ的消息确认机制和持久化机制,保证数据的安全送达、无丢失。经过实践证明,该数据共享模块功能稳定,可提高两级数据中心的数据传输效率并保证其安全性。\n",
      "\n"
     ]
    },
    {
     "name": "stderr",
     "output_type": "stream",
     "text": [
      "\r",
      " 42%|████▏     | 421/1000 [03:02<03:32,  2.72it/s]"
     ]
    },
    {
     "name": "stdout",
     "output_type": "stream",
     "text": [
      "基 于 布 尔 表 达 式 约 束 的 测 试 用 例 生 成 技 术\n",
      "基 于 布 尔 表 达 式 约 束 的 测 试 用 例 生 成 方 法 综 述\n",
      "布尔表达式约束在软件规格说明和程序中广泛存在,这些约束可作为软件系统的模型,成为测试用例生成依据。本文调研分析基于布尔表达式约束的测试用例生成方法,主要分为基于约束语法的测试和基于约束语义的测试。归纳总结基于约束语法测试的各种故障类型和测试策略,并比较各种测试策略的适用情形和故障检测能力,也对基于约束语义测试的各种约束获取和求解方法进行性能分析,并介绍了典型工具。最后对未来的研究发展进行展望。\n",
      "\n"
     ]
    },
    {
     "name": "stderr",
     "output_type": "stream",
     "text": [
      "\r",
      " 42%|████▏     | 422/1000 [03:02<03:28,  2.77it/s]"
     ]
    },
    {
     "name": "stdout",
     "output_type": "stream",
     "text": [
      "基 于 蚁 群 算 法 的 电 力 数 据 网 络 a p t 攻 击 预 警 模 型\n",
      "电 力 数 据 网 络 a p t 攻 击 预 警 模 型 及 应 用\n",
      "高级持续性威胁(Advanced Persistent Threat,APT)是通过预先对攻击对象的业务流程和目标系统进行多维度、多阶段、多对象的持续信息采集,隐匿地实现网络空间的数据窃取。电力网络具有天然的稳定性需求,其覆盖广、涉及面大、灾后损失大。当前APT攻击预警技术存在网络节点碎片化的有限安全域以及全域特征动态检测问题。本文提出基于蚁群算法的电力数据网络APT攻击预警模型。通过设计电力网络的全域可信系统模型,采用流形进行安全边界扩散,将碎片化节点进行柔性关联,确保全域安全控制。构建APT攻击的时效模型,实现攻击对可信系统的损害分析。将APT攻击特征等效为蚁群信息素,实现对APT攻击的自动跟踪和适应。通过实际测试表明,蚁群APT监测预警算法的预警精度有效提升12.6%。\n",
      "\n"
     ]
    },
    {
     "name": "stderr",
     "output_type": "stream",
     "text": [
      "\r",
      " 42%|████▏     | 423/1000 [03:03<03:38,  2.64it/s]"
     ]
    },
    {
     "name": "stdout",
     "output_type": "stream",
     "text": [
      "改 进 布 谷 鸟 算 法 在 乙 烯 工 业 能 效 分 析 中 的 应 用\n",
      "乙 烯 能 耗 分 析 方 法 的 改 进 布 谷 鸟 算 法\n",
      "通过考虑乙烯综合能耗计算方法、指标分解方法(Index Decomposition Analysis,IDA)和节能潜力分析方法,建立一种严格的乙烯能耗分析模型,并提出一种改进的布谷鸟算法应用于该模型进行辨识参数,得到乙烯生产耗能工质能源折算系数,基于能源折算系数得到综合能耗和节能量对乙烯装置进行能效评价。为了验证改进算法的有效性,对该算法在测试函数上测试,实验结果显示改进后算法具有较好寻优能力,明显优于粒子群算法和布谷鸟算法。最后,基于乙烯数据实例验证了该方法的可行性和有效性,可以很好地作为不同规模不同技术下乙烯标准能源折算系数计算的补充,为乙烯装置能效分析的准确性提供更为实用的方法。\n",
      "\n"
     ]
    },
    {
     "name": "stderr",
     "output_type": "stream",
     "text": [
      "\r",
      " 42%|████▏     | 424/1000 [03:03<03:53,  2.47it/s]"
     ]
    },
    {
     "name": "stdout",
     "output_type": "stream",
     "text": [
      "架 空 输 电 走 廊 地 表 三 维 重 建 网 格 中 杆 塔 的 剔 除\n",
      "架 空 输 电 走 廊 三 维 重 建 杆 塔 模 型\n",
      "由于立体匹配和模型自动重建的不确定性和不完整性,基于无人机多视影像重建输电走廊三维表面模型时,很难精确完整地构建出架空输电区域内的杆塔模型。自动重建的杆塔不仅无法加以利用,而且还会与人工重建的矢量杆塔叠加显示,影响可视化效果。为此,提出一种基于矢量杆塔模型的自动重建杆塔剔除方法。首先,根据矢量杆塔类型构建裁切空间包围盒;其次,根据矢量杆塔的空间位置和裁切空间包围盒,定位出残缺塔身在重建模型中的空间范围;最后,基于射线碰撞检测算法,设计一种附有自适应距离约束的残缺杆塔三角面检测方法来自动剔除残缺塔。该算法能够自适应处理杆塔底座细节,剔除不需要的三角面,同时保留塔脚基座和其他地面信息。实验结果表明本文方法的正确性和实用性。\n",
      "\n"
     ]
    },
    {
     "name": "stderr",
     "output_type": "stream",
     "text": [
      "\r",
      " 42%|████▎     | 425/1000 [03:03<03:51,  2.49it/s]"
     ]
    },
    {
     "name": "stdout",
     "output_type": "stream",
     "text": [
      "具 有 组 态 功 能 的 光 纤 通 信 网 络 图 编 辑 系 统 设 计\n",
      "面 向 电 力 光 纤 通 信 网 络 的 矢 量 图 编 辑 系 统\n",
      "为了提高某供电局对各通信站进行信息管理的便利性和高效性,设计开发一个针对电力光纤通信网络的矢量图编辑系统。该系统不但具有图形对象的创建、删除、选择、缩放、移动、Undo/Redo等常用的编辑功能,而且通过建立与关系数据库的关联,实现对图形对象的双向数据配置功能。为了提高矢量图形的编辑效率,通过分析矢量图中相互连接的通信站对象的位置关系,提出一种折线动态生成算法。测试结果表明,所设计的系统稳定、方便、高效,可满足电力光纤通信网络矢量图的绘制需求。\n",
      "\n"
     ]
    },
    {
     "name": "stderr",
     "output_type": "stream",
     "text": [
      "\r",
      " 43%|████▎     | 426/1000 [03:04<03:46,  2.53it/s]"
     ]
    },
    {
     "name": "stdout",
     "output_type": "stream",
     "text": [
      "面 向 通 信 态 势 的 三 维 标 号 生 成\n",
      "基 于 贝 塞 尔 曲 线 的 三 维 标 号 设 计\n",
      "传统标绘以二维为基础,在平面上绘制标号再放到三维球上,使得表示复杂联系关系时,贴地存在明显遮挡问题且绘制性能低以及不同高度的空间联系难以表达。本文引入球面细分曲线和贝塞尔曲线,对传统标绘中坐标转换进行修改,采取分割出子线绘制图元的方法,利用子图元模拟网络攻击、电子干扰等真实效果提高视觉辨识,并由de Casteljau算法证明并计算得出三段贝塞尔曲线,加速图元计算过程。新生成的标号能够解决标号贴地遮挡和空间标绘的问题,大大提升贴地绘制效率,使得联系关系态势展示具备实用性。\n",
      "\n"
     ]
    },
    {
     "name": "stderr",
     "output_type": "stream",
     "text": [
      "\r",
      " 43%|████▎     | 427/1000 [03:04<03:33,  2.69it/s]"
     ]
    },
    {
     "name": "stdout",
     "output_type": "stream",
     "text": [
      "改 进 o r b 算 法 在 图 像 匹 配 中 的 应 用\n",
      "一 种 改 进 的 图 像 特 征 点 匹 配 算 法\n",
      "在计算机视觉领域,图像匹配是一个核心问题。为了提高图像特征点匹配算法的准确度,增强算法的抗干扰能力,针对ORB(oriented FAST and rotated BRIEF)算法的不足,提出一种改进的图像特征点匹配算法。该算法通过设置自适应阈值来进行特征点检测,并在算法粗匹配结果的基础上剔除不符合图像几何特性的部分外点。最后,利用仿射不变性约束筛选出精确匹配点。实验表明,该方法可有效提高算法匹配质量且执行时间短,对于不同模糊度和曝光度的图像匹配均具有很好的鲁棒性。\n",
      "\n"
     ]
    },
    {
     "name": "stderr",
     "output_type": "stream",
     "text": [
      "\r",
      " 43%|████▎     | 428/1000 [03:05<03:41,  2.59it/s]"
     ]
    },
    {
     "name": "stdout",
     "output_type": "stream",
     "text": [
      "基 于 深 度 学 习 的 体 感 交 互 方 法\n",
      "基 于 f a s t e r - r c n n 的 k i n e c t 人 体 位 置 检 测\n",
      "随着微软2017年10月份宣布永久停产Kinect产品,目前体感交互领域急需一种Kinect的替代品。本文采用普通单目摄像头实时读取视频流,用Faster-RCNN网络检测人体位置并且框出,改进非极大值抑制算法,引入线性加权函数将IOU大于阈值的检测框分数减低而不是变成零。其次,根据得到的检测框送入人体关键点检测CPM网络,输出人物全身骨骼点坐标位置,将Center Loss引入以增加关键点的类内特征的内聚性和类间的差异性。最后,按照模板匹配法根据识别结果生成体感交互的控制指令。本文方法降低了对专业设备的依赖,简化了体感交互的复杂度,对促进体感普及以及拓展人机交互使用范围都具有重要价值。\n",
      "\n"
     ]
    },
    {
     "name": "stderr",
     "output_type": "stream",
     "text": [
      "\r",
      " 43%|████▎     | 429/1000 [03:05<03:54,  2.43it/s]"
     ]
    },
    {
     "name": "stdout",
     "output_type": "stream",
     "text": [
      "一 种 使 用 多 维 度 直 方 图 匹 配 的 图 像 风 格 迁 移 算 法\n",
      "基 于 多 维 度 直 方 图 匹 配 的 图 像 风 格 迁 移 算 法\n",
      "在传统的基于直方图匹配的图像风格迁移算法的基础上,提出一种新的基于多维度直方图匹配的图像风格迁移算法。通过构建关于原图像的不同维度的直方图,然后进行原图像和目标图像的匹配,分别得到原图像在不同维度直方图下的风格迁移图像,最后对这些风格迁移后的图像进行融合生成最终的结果。在保持原图像与目标图像整体风格上尽量相似的情形下,同时又使原图像的局部细节尽可能保留,实现整体风格相似却又保留局部细节的平衡。\n",
      "\n"
     ]
    },
    {
     "name": "stderr",
     "output_type": "stream",
     "text": [
      "\r",
      " 43%|████▎     | 430/1000 [03:05<03:41,  2.57it/s]"
     ]
    },
    {
     "name": "stdout",
     "output_type": "stream",
     "text": [
      "基 于 稀 疏 特 征 点 的 零 件 图 像 拼 接 方 法\n",
      "基 于 特 征 点 检 测 的 图 像 拼 接 方 法\n",
      "针对纹理弱、特征稀少且存在大量相似性区域的零件图像拼接,一般基于特征点的图像拼接方法效果较差,本文提出一种改进方法。该方法首先依据FAST特征点检测方法提取特征点,再筛选出用于匹配的候选点集;其次,利用模板区域采样灰度特征,通过设置旋转角度和缩放比例搜索域结合结构相似性(SSIM)方法完成点匹配;最后,通过点匹配结果求出旋转、缩放和平移参量,利用3σ原则去除异常值得到最终结果。实验结果表明,在角度搜索域为[-45°,+45°],缩放搜索域为[0. 5,1. 5]的条件下,本文方法能够得到较准确的旋转、缩放、平移参量及拼接效果。\n",
      "\n"
     ]
    },
    {
     "name": "stderr",
     "output_type": "stream",
     "text": [
      "\r",
      " 43%|████▎     | 431/1000 [03:06<03:26,  2.76it/s]"
     ]
    },
    {
     "name": "stdout",
     "output_type": "stream",
     "text": [
      "一 种 改 进 的 基 于 暗 通 道 先 验 的 图 像 去 雾 算 法\n",
      "改 进 的 暗 通 道 先 验 去 雾 算 法\n",
      "针对暗通道先验去雾算法在图像灰白色或天空区域会产生颜色畸变及图像比较暗淡的问题,提出一种基于暗通道先验改进的算法。该算法通过修正导致颜色畸变的透射率计算问题,从而提高图像的视觉效果。同时,通过降低3个颜色通道的高亮度值,并采用均值方法来得到增强的无雾图像。实验结果表明,本文方法在很大程度上消除了去雾图像明亮区域的颜色畸变现象且有更好的颜色恢复度。\n",
      "\n"
     ]
    },
    {
     "name": "stderr",
     "output_type": "stream",
     "text": [
      "\r",
      " 43%|████▎     | 432/1000 [03:06<03:16,  2.89it/s]"
     ]
    },
    {
     "name": "stdout",
     "output_type": "stream",
     "text": [
      "双 重 熵 快 速 提 取 r o i 图 像 优 化 分 类 方 法\n",
      "基 于 r o i 的 多 特 征 图 像 优 化 分 类\n",
      "提出一种基于颜色熵极值及颜色熵互信息的双重熵快速提取感兴趣区域(Region of Interest,ROI)的多特征图像优化分类方法。首先使用颜色熵极值性确定最相关区域,然后基于颜色熵互信息进行子区域增长,快速确定连续ROI区域,并基于所提取的ROI对图像进行Dense-SIFT特征描述,随后使用K-means聚类生成视觉词典,为了利用空间局部信息,采用金字塔匹配方法,最后将特征输入到SVM进行分类。分别在Caltech101和Caltech256数据库上选取8组数据进行实验,使用ROI提取算法获得的平均分类准确率较未使用之前提高6. 86%,收敛速率提升近一半。加入颜色熵、颜色三阶矩特征后,平均分类准确率进一步提高2. 36%,较改进之前总共提高9. 22%。\n",
      "\n"
     ]
    },
    {
     "name": "stderr",
     "output_type": "stream",
     "text": [
      "\r",
      " 43%|████▎     | 433/1000 [03:07<03:50,  2.46it/s]"
     ]
    },
    {
     "name": "stdout",
     "output_type": "stream",
     "text": [
      "自 适 应 权 重 c v 模 型 在 超 声 相 控 阵 图 像 分 割 中 的 应 用\n",
      "自 适 应 权 重 c v 模 型 在 超 声 相 控 阵 图 像 分 割 中 的 应 用\n",
      "图像分割是超声相控阵无损检测图像三维重建的关键环节,分割精度和效率是图像三维重建准确性与实时性的重要保障。由于超声相控阵无损检测图像中含有大量噪声且灰度不均匀,在使用传统的CV模型分割检测图像时采用固定迭代步长,这导致分割效率较低且精度不高。本文利用分水岭算法过分割的特性,在对图像做分水岭变换后,统计各区域中的像素数目与灰度信息,从而得到一个权重矩阵并引入CV模型中,得到一种自适应权重CV模型。在水平集函数迭代过程中,权重矩阵可以根据图像信息自适应调整迭代步长。实验表明,与CV模型和LBF模型相比,本文提出的权重CV模型在分割超声相控阵无损检测图像时,具有更高的效率和分割精度。\n",
      "\n"
     ]
    },
    {
     "name": "stderr",
     "output_type": "stream",
     "text": [
      "\r",
      " 43%|████▎     | 434/1000 [03:07<04:08,  2.28it/s]"
     ]
    },
    {
     "name": "stdout",
     "output_type": "stream",
     "text": [
      "利 用 卷 积 神 经 网 络 对 杜 兴 氏 肌 营 养 不 良 症 进 行 分 类 识 别\n",
      "基 于 多 模 态 生 物 肌 遗 传 病 的 无 创 检 测 方 法\n",
      "杜兴氏肌营养不良(DMD)是一种致死性骨骼肌遗传病。传统的诊断方法中包含创伤性检查,会令患者产生极大的痛苦。本文基于受试者的磁共振图像(MRI),探索DMD的无创检测方法。共获取试验图像485幅,分成患者组和健康对照组,每组均包括T1和T2这2类加权图像。试验设计一个10隐层卷积神经网络(CNN),利用该网络直接读取T1和T2并分类识别。结果显示:1)随着网络参数的优化和迭代次数的增加,图像识别准确度分别达到99. 2%和98. 9%,结果收敛且稳定; 2) 2类加权图像T1和T2均能很好区分患者组与健康组; 3)与KNN、LR、DT及SVM等算法相比,CNN算法的分类准确度更高。CNN尤其提升了对于T2图像的识别准确度,大大发掘了T2图像的利用价值。因此,利用CNN对DMD图像进行分类识别,因其准确度高、无损图像信息等特点,有望为临床提供客观有效的辅助诊断手段。这是人工智能在DMD无创检测领域中有效的尝试探索。\n",
      "\n"
     ]
    },
    {
     "name": "stderr",
     "output_type": "stream",
     "text": [
      "\r",
      " 44%|████▎     | 435/1000 [03:07<03:54,  2.41it/s]"
     ]
    },
    {
     "name": "stdout",
     "output_type": "stream",
     "text": [
      "基 于 c n n 的 人 体 姿 态 识 别\n",
      "卷 积 神 经 网 络 在 人 体 姿 态 识 别 中 的 应 用\n",
      "姿态识别是人机交互中重要的研究课题之一,随着机器学习与神经网络的发展,研究的方式和成果趋于多样化,姿态识别的应用价值也日趋广泛。本文通过构建卷积神经网络模型,该模型共有11层,在对采样的数据集中5种人体姿态进行卷积与池化操作,最后进入全连接层进行分类,从而完成对数据集的训练和识别。结果显示,相较于机器学习方法,该模型的识别性能更加优秀,且免去了复杂的特征提取方式设计,让网络自身提取特征进行识别分类,效果更好。\n",
      "\n"
     ]
    },
    {
     "name": "stderr",
     "output_type": "stream",
     "text": [
      "\r",
      " 44%|████▎     | 436/1000 [03:08<04:11,  2.24it/s]"
     ]
    },
    {
     "name": "stdout",
     "output_type": "stream",
     "text": [
      "基 于 边 缘 匹 配 的 纵 向 碎 纸 拼 接 方 法\n",
      "基 于 图 像 转 码 与 相 似 度 矩 阵 的 碎 纸 片 恢 复 方 法\n",
      "详细阐述针对规则纵切的碎纸片的一种恢复方法。该算法先将图像转码为对应的像素矩阵,并且将矩阵二值化处理。接着根据文字笔画的连续性计算碎纸边缘信息的匹配度矩阵,再根据文本间的连续性,计算出碎纸片之间的相似度矩阵。最后结合匹配度矩阵与相似度矩阵的信息,当以某张进行匹配时,其相应的下一张是既高度符合匹配度矩阵又高度符合相似度矩阵的,从而实现对碎纸的拼接复原。经过碎纸拼接试验验证,效果良好,方法准确便捷,是可行的。\n",
      "\n"
     ]
    },
    {
     "name": "stderr",
     "output_type": "stream",
     "text": [
      "\r",
      " 44%|████▎     | 437/1000 [03:08<04:15,  2.20it/s]"
     ]
    },
    {
     "name": "stdout",
     "output_type": "stream",
     "text": [
      "基 于 限 定 p s o 初 始 化 空 间 的 随 机 最 大 似 然 算 法\n",
      "限 定 粒 子 群 算 法 在 波 达 方 位 d o a 估 计 中 的 应 用\n",
      "针对随机最大似然算法(SML)在波达方位(DOA)估计中由于多维非线性优化导致计算复杂度大的问题,提出一种限定粒子群(PSO)算法搜索空间的SML算法。该算法克服了一个缺陷,即在采用ESPRIT算法限定PSO初始化空间时,在阵列结构是非均匀线性阵列而且信号是相干信号时ESPRIT算法不能直接处理信号,且需要采用一组预处理技术,这增加了算法计算的复杂度。提出的算法的关键之处在于采用假设技术确定初始化点来代替ESPRIT算法的解,结合克拉美罗界(CRB)确定PSO算法的初始化解空间。这一方法不必再采用预处理技术,且利用限定PSO初始化空间的算法大大降低了SML算法的计算复杂度。实验结果表明,提出的算法为相干情况和非相干情况都提供了相当好的初始值。最后,将该算法与许多现有算法进行比较,验证提出算法的有效性和准确性。\n",
      "\n"
     ]
    },
    {
     "name": "stderr",
     "output_type": "stream",
     "text": [
      "\r",
      " 44%|████▍     | 438/1000 [03:09<03:56,  2.37it/s]"
     ]
    },
    {
     "name": "stdout",
     "output_type": "stream",
     "text": [
      "基 于 多 模 型 融 合 的 车 辆 通 过 时 间 预 测\n",
      "多 模 型 融 合 的 车 辆 拥 堵 监 测 数 据 采 集 技 术\n",
      "车辆通过某一路网的时间是测算交通拥堵程度的重要指标。为提高车辆通过时间的预测精度,不仅要考虑数据采集精度的影响还要考虑模型的选择。本文提出多模型融合的车辆通过时间预测方法,发现多模型融合的预测精度较高。以某高速公路3个交叉口路段的车辆通行监测数据作为实证数据,用模型融合算法与单一模型进行对比,说明多模型融合算法在交通拥堵治理领域的应用潜力。\n",
      "\n"
     ]
    },
    {
     "name": "stderr",
     "output_type": "stream",
     "text": [
      "\r",
      " 44%|████▍     | 439/1000 [03:09<03:48,  2.46it/s]"
     ]
    },
    {
     "name": "stdout",
     "output_type": "stream",
     "text": [
      "基 于 高 斯 混 合 - 贝 叶 斯 模 型 的 轨 迹 预 测\n",
      "基 于 g m - b m 模 型 的 移 动 对 象 轨 迹 预 测\n",
      "如今,在交通管理系统、军事机械化战场、安全行驶系统中,对实时、准确、可靠的移动对象轨迹预测具有很重要的作用,在市场上的应用越来越广,简称智能化预测。智能化预测可以提供精准的基于位置的服务,还可以根据预判,给车主推荐最优路线,这成为移动对象数据库研究的热点。针对现有方法的不足,提出基于高斯混合-贝叶斯模型的轨迹预测模型。实验表明,GM-BM模型在路段车流量正常情况下,通过调整混合模型中子模型的权重,可预测出最可能的轨迹,经计算与相同参数设置下的单模型相比,预测准确性至少提高10. 00%。\n",
      "\n"
     ]
    },
    {
     "name": "stderr",
     "output_type": "stream",
     "text": [
      "\r",
      " 44%|████▍     | 440/1000 [03:09<03:28,  2.69it/s]"
     ]
    },
    {
     "name": "stdout",
     "output_type": "stream",
     "text": [
      "基 于 二 阶 段 双 向 搜 索 的 解 魔 方 机 器 人 系 统\n",
      "一 种 解 魔 方 机 器 人 的 研 究 与 设 计\n",
      "近几年来,解魔方的机器人层出不穷,就目前的解魔方机器人,都存在不稳定、成本高、体积庞大等缺陷,本文对此研发一种新型的符合大众的解魔方机器人。魔方机器人的设计运用到的知识比较广,包含机械设计、系统控制、视觉检测、算法等。能将任意打乱的三阶魔方以最短的时间还原,整体设计结构由摄像头、二指机械臂等组成;摄像头获取图像传输给上位机处理,由STM32F103C8T6最小系统控制机械臂手指的转动。在满足低成本的情况下,实现比人计算更快,更精准地还原魔方。\n",
      "\n"
     ]
    },
    {
     "name": "stderr",
     "output_type": "stream",
     "text": [
      "\r",
      " 44%|████▍     | 441/1000 [03:10<03:25,  2.72it/s]"
     ]
    },
    {
     "name": "stdout",
     "output_type": "stream",
     "text": [
      "基 于 多 媒 体 信 息 的 双 向 l s t m 情 感 分 析 方 法\n",
      "双 向 长 短 时 记 忆 网 络 的 情 感 分 析\n",
      "随着信息技术的飞速发展,智慧政务的建设在中国如火如荼地展开。为了更好地服务社会,获取舆论的情感倾向变得至关重要。然而,由于媒体数据的多样性,例如讨论话题、文本正文、正文回复以及文本字数限制等原因,人们不仅要对文本正文进行分析,还必须对文本回复、讨论话题等多样文本信息,以及诸如表情符号、社交关系等因素进行建模。遗憾的是,很少有研究工作针对推文文本的回复及多媒体信息进行建模。本文针对推文正文回复、话题以及多媒体信息,提出一种新的双向长短时记忆网络CBi-LSTM (Content Bi-LSTM)对舆论进行情感分析。实验表明,文本信息和多媒体信息的融合能显著提高情感分析的准确性。\n",
      "\n"
     ]
    },
    {
     "name": "stderr",
     "output_type": "stream",
     "text": [
      "\r",
      " 44%|████▍     | 442/1000 [03:10<04:01,  2.31it/s]"
     ]
    },
    {
     "name": "stdout",
     "output_type": "stream",
     "text": [
      "基 于 b i - l s t m 和 c r f 的 中 文 网 购 评 论 中 商 品 属 性 提 取\n",
      "融 合 双 向 长 短 时 记 忆 网 络 和 c r f 模 型 的 网 购 评 论 研 究\n",
      "随着电子商务系统评价体系的完善,网购评论的内容对消费者的购物起到十分重要的指导作用。但是消费者不能从大量评论中找到自己直接关心的商品属性(如:手机产品的属性“电池”)以及属性相关评价(如:“电池容量很大”)。相对于构建知识库和传统机器学习的方法,需要人工总结复杂的特征和规则来提取商品属性和属性相关评价。本文应用基于词嵌入融合双向长短时记忆网络(Bi-LSTM)和条件随机场(CRF)的方法并根据在评论中属性多为名词、属性评价多为形容词的特点在Bi-LSTM+CRF模型中融入词性特征,实现对评论中的商品属性以及属性评价的自动化提取,在避免总结规则的同时更具领域普适性。通过测试相机、男装、儿童安全座椅3个商品领域,得到了宏精确度为86. 74%,宏召回率为85. 89%。\n",
      "\n"
     ]
    },
    {
     "name": "stderr",
     "output_type": "stream",
     "text": [
      "\r",
      " 44%|████▍     | 443/1000 [03:11<03:53,  2.38it/s]"
     ]
    },
    {
     "name": "stdout",
     "output_type": "stream",
     "text": [
      "基 于 红 外 感 应 和 多 媒 体 技 术 的 虚 拟 翻 书 系 统\n",
      "利 用 红 外 感 应 技 术 实 现 虚 拟 翻 书 系 统\n",
      "虚拟翻书系统作为一种新的科普宣传方式,不仅展示信息量大,而且形式新颖,更容易吸引用户驻足观看,达到科普宣传的目的。通过对现有虚拟翻书系统的比较,以及对虚拟翻书系统主要应用场合的分析,提出一种利用红外感应技术和计算机多媒体技术实现的虚拟翻书系统。系统首先利用Flash软件将展示内容制作成含有翻书效果的电子书,通过投影装置将内容投到书型幕上,再通过书型幕一侧的2个红外摄像头捕捉参观者自左向右或自右向左的挥手动作,将挥手动作转换成交互指令驱动Flash电子书做翻书效果。该系统适合多种用户使用,符合阅读习惯,且无特殊硬件要求,制作成本较低,适合在普通大众中推广。\n",
      "\n"
     ]
    },
    {
     "name": "stderr",
     "output_type": "stream",
     "text": [
      "\r",
      " 44%|████▍     | 444/1000 [03:11<03:47,  2.44it/s]"
     ]
    },
    {
     "name": "stdout",
     "output_type": "stream",
     "text": [
      "基 于 自 主 容 器 云 平 台 的 大 数 据 日 志 采 集 系 统\n",
      "自 主 可 控 云 平 台 中 数 据 采 集 算 法 的 研 究\n",
      "随着云计算、虚拟化、容器云等技术的应用以及国产自主可控的要求,越来越多的服务会部署在国产的服务器以及自主可控的容器云平台上。自主可控云平台上的服务在运行的过程中,需要获取日志数据,来进行一系列的监控、统计、分析以及预测工作。然而由于国产服务器的特殊性以及容器云平台的特殊性,传统的日志采集方式(包含实时采集和集中式采集)并不能够很好地适用于自主可控的容器云平台,为了提高服务的质量和性能并且保证日志数据的一定全面性,本文提出一种自适应的数据采集算法,能够根据服务器的负载自我调整日志数据采集发送量。当服务器负载较低的时候,提高数据采集和发送的数量,甚至是做到实时采集;当服务器负载较高时,降低对日志数据的采集和发送量,从而降低对服务器负载的压力,提高服务自身的质量和性能。最后通过理论和实验分析验证该数据采集算法在保证数据一定的全面性的同时,能有效缓解国产服务器的压力。\n",
      "\n"
     ]
    },
    {
     "name": "stderr",
     "output_type": "stream",
     "text": [
      "\r",
      " 44%|████▍     | 445/1000 [03:12<03:35,  2.58it/s]"
     ]
    },
    {
     "name": "stdout",
     "output_type": "stream",
     "text": [
      "基 于 攻 防 行 动 链 的 网 络 对 抗 推 演 系 统\n",
      "网 络 对 抗 推 演 系 统 的 设 计 与 实 现\n",
      "网络对抗推演是在网络对抗中进行任务规划、评估决策的重要环节。针对网络对抗广维度、多目标、短猝发的特点,传统的推演系统已不能完成网络对抗推演的要求。为了解决该问题,本文设计基于攻防行动链的网络对抗推演系统。系统架构由数据库、可视化平台、攻防链构设、推演控制引擎、模型构建、应用层等子系统构成,各子系统的模块之间相互配合,驱动整体网络对抗推演系统按照推演剧情进行,并形成具有攻防博弈性的链式行动想定或构设,称之为攻防行动链。攻防行动链的提出,使推演系统能够更好地进行推演过程中的调度和决策,也为网络攻防对抗推演提供了一个参考的研究方向。\n",
      "\n"
     ]
    },
    {
     "name": "stderr",
     "output_type": "stream",
     "text": [
      "\r",
      " 45%|████▍     | 446/1000 [03:12<03:58,  2.32it/s]"
     ]
    },
    {
     "name": "stdout",
     "output_type": "stream",
     "text": [
      "l b - a g r 路 由 协 议 在 水 声 网 络 试 验 床 上 的 优 化 与 测 试\n",
      "l b - a g r 路 由 协 议 在 水 声 网 络 试 验 床 上 的 优 化 与 测 试\n",
      "针对当前水声网络研究大多基于网络仿真的现状,本文在青海湖真实的水下实验床上对LB-AGR路由协议进行实现、测试、分析与优化。针对测试过程中出现的节点层级计数至无穷以及Sink节点状态死锁等问题,通过设置计时器、改进节点状态判别等措施进行设计优化,并对优化后的协议重新测试。测试结果表明,优化后的LB-AGR路由协议能较好地解决层级计数至无穷以及Sink节点状态死锁问题,且能快速、稳定地完成水下数据的多跳传输。\n",
      "\n"
     ]
    },
    {
     "name": "stderr",
     "output_type": "stream",
     "text": [
      "\r",
      " 45%|████▍     | 447/1000 [03:12<03:35,  2.56it/s]"
     ]
    },
    {
     "name": "stdout",
     "output_type": "stream",
     "text": [
      "一 种 新 的 输 电 线 路 异 物 检 测 网 络 结 构 — — t l f o d   n e t\n",
      "基 于 异 物 检 测 的 新 型 网 络 结 构\n",
      "高压输电线路上悬挂的漂浮异物可能会对输电产生巨大危害,而现有的物体识别方法无法对不规则物体进行有效识别。为此,本文提出一种异物检测的新型网络结构:TLFOD Net(Transmission Line Foreign Object Detection Net)。针对异物特点设计的TLFOD Net网络结构,主要包括特征提取网络、区域生成网络和分类回归网络3个部分;优化了合适的候选框;并提出端到端的TLFOD Net联合训练方式以提高网络训练的性能。采用图像预处理技术,增加训练集的数量。通过实验结果分析表明,TLFOD Net比现有的网络在识别速度以及识别精度上均有显著提高。\n",
      "\n"
     ]
    },
    {
     "name": "stderr",
     "output_type": "stream",
     "text": [
      "\r",
      " 45%|████▍     | 448/1000 [03:13<03:26,  2.67it/s]"
     ]
    },
    {
     "name": "stdout",
     "output_type": "stream",
     "text": [
      "一 种 改 进 的 h k 社 交 网 络 建 模 方 法\n",
      "一 种 改 进 的 h h 社 交 网 络 演 化 模 型\n",
      "随着对复杂网络研究的不断加深,社交网络建模成为研究热点之一。在Holme和Kim(HK)网络模型的基础上,提出一种改进的HK社交网络演化模型,不仅考虑了“偏好连接”、“三角结构”的传统社交网络演化机制,还在网络中新增节点的同时考虑了“内部演化”和“外部延展”2种不同的网络链路增长模式,并在传统的单向生长的网络结构基础上,创新性地提出节点度饱和与链路刷新的网络动态演化方式。仿真结果显示,改进后的HK模型其度分布呈现幂律分布特征,具有较大的聚类系数与较小的平均最短路径长度,同时满足小世界效应与无标度特性,整个社交网络模型在链路的建立与阻断过程中呈螺旋式生长,能更好地再现真实社交网络的结构特征。\n",
      "\n"
     ]
    },
    {
     "name": "stderr",
     "output_type": "stream",
     "text": [
      "\r",
      " 45%|████▍     | 449/1000 [03:13<03:15,  2.82it/s]"
     ]
    },
    {
     "name": "stdout",
     "output_type": "stream",
     "text": [
      "适 用 于 多 星 并 行 测 试 的 通 用 测 控 地 面 测 试 平 台 设 计 与 实 现\n",
      "通 用 测 控 地 面 测 试 平 台 的 设 计 与 实 现\n",
      "随着小卫星大规模组网应用的不断增多,传统单颗卫星测控地面测试系统已不能满足批量化、并行测试的需求;提出了一种适用于多星并行测试的通用测控地面测试平台的设计方法,设计并给出了适用于典型三颗卫星并行测试的系统方案以及实施过程;该平台设计在原有地面测试平台中增加多星并行测试配置项,测试人员只需根据需要选择相应的卫星进行测试;该平台功能更加完善、通用性更好,已成功应用于某卫星星座的并行测试,大大节省了人力、缩短了星座卫星测试时间,收到了良好的效果。\n",
      "\n"
     ]
    },
    {
     "name": "stderr",
     "output_type": "stream",
     "text": [
      "\r",
      " 45%|████▌     | 450/1000 [03:13<03:41,  2.48it/s]"
     ]
    },
    {
     "name": "stdout",
     "output_type": "stream",
     "text": [
      "基 于 希 尔 伯 特 — 黄 变 换 的 控 制 阀 气 密 性 故 障 诊 断 研 究\n",
      "气 动 控 制 阀 气 室 气 密 性 故 障 检 测 及 诊 断 方 法 研 究\n",
      "以气动薄膜控制阀气室气密性故障为研究对象,首先对控制阀阀位响应信号进行希尔伯特-黄变换,通过经验模态分解方法检测故障的发生及发生时刻;其次分析了分解所得各阶模态及其能量占比特性,获得了气动控制阀气室气密性故障类别和强度的在线诊断;最后通过模型仿真和实体阀实验验证了文章提出的检测及诊断方法的有效性和实用性;研究首次将希尔伯特黄变换信号分析方法引入到非周期、非平稳过程故障诊断中来,完整的实现了气动控制阀气室气密性故障的检测、诊断和强度识别。\n",
      "\n"
     ]
    },
    {
     "name": "stderr",
     "output_type": "stream",
     "text": [
      "\r",
      " 45%|████▌     | 451/1000 [03:14<03:29,  2.62it/s]"
     ]
    },
    {
     "name": "stdout",
     "output_type": "stream",
     "text": [
      "卫 星 导 航 接 收 设 备 健 康 管 理 技 术 研 究\n",
      "卫 星 导 航 接 收 设 备 健 康 管 理 技 术 研 究 与 应 用\n",
      "针对卫星导航接收设备的技术特点和维护需求,基于故障检测与健康管理技术,提出了一种从射频前端、数字信号处理到算法实现全流程的预测与健康管理方案,搭建了卫星导航接收设备预测与健康管理系统体系结构;基于检测信息设置,完成信号处理与状态监测,开展卫星导航接收设备实时健康评估与寿命预测研究,根据评估与预测结果制定维护方案,实现卫星导航接收设备的健康管理;通过开展仿真试验与实际工程应用,验证了所设计的卫星导航接收设备健康管理方案的正确性与有效性,具有一定的工程推广价值。\n",
      "\n"
     ]
    },
    {
     "name": "stderr",
     "output_type": "stream",
     "text": [
      "\r",
      " 45%|████▌     | 452/1000 [03:14<03:58,  2.29it/s]"
     ]
    },
    {
     "name": "stdout",
     "output_type": "stream",
     "text": [
      "绝 缘 材 料 的 介 质 损 耗 角 在 线 检 测 方 法 研 究\n",
      "基 于 双 卷 积 窗 全 相 位 数 据 预 处 理 方 法 的 介 质 损 耗 检 测\n",
      "介质损耗因素在线检测中受到各方面因素的限定,包括系统频率波动、谐波及噪声干扰;传统的测量方法计算量大,且受环境干扰下无法保证测量的精度;通过对三角卷积窗和全相位数据处理性能进行分析,提出了一种双卷积窗全相位数据预处理的方法检测介质损耗角,同时改进相位角校正算法;该算法能够准确提取基波相位角,计算出介质损耗角;通过仿真与几种经典方法对比,该算法具有较高的检测精度,受上述因素影响较小。\n",
      "\n"
     ]
    },
    {
     "name": "stderr",
     "output_type": "stream",
     "text": [
      "\r",
      " 45%|████▌     | 453/1000 [03:15<03:45,  2.42it/s]"
     ]
    },
    {
     "name": "stdout",
     "output_type": "stream",
     "text": [
      "基 于 双 目 视 觉 的 三 维 测 量 技 术 研 究\n",
      "基 于 双 目 视 觉 的 三 维 测 量 技 术 挖 掘\n",
      "文章对基于双目视觉的三维测量技术研究进行了深入挖掘,主要包括摄像机模型、双目相机的标定、图像校正、立体匹配等;同时借鉴机器学习的分类思想,将角点提取转化为二分类问题,利用随机森林算法来实现角点提取,再利用随机森林的预测结果来实现亚像素级角点提取;该方法相对于传统三维测量中的角点提取算法具有更好的自动化性能,能避免角点集群现象,能实现较高精度的亚像素级角点提取,获得更高精度的二维像素坐标;从而利用高精度的二维像素坐标来获得点的三维世界坐标,这也是基于双目视觉的三维测量技术的基础与核心。\n",
      "\n"
     ]
    },
    {
     "name": "stderr",
     "output_type": "stream",
     "text": [
      "\r",
      " 45%|████▌     | 454/1000 [03:15<04:01,  2.26it/s]"
     ]
    },
    {
     "name": "stdout",
     "output_type": "stream",
     "text": [
      "基 于 c a n 总 线 的 粮 仓 测 温 系 统 设 计\n",
      "基 于 c a n 总 线 和 d s 2 0 b 2 0 传 感 器 的 粮 库 测 温 系 统 设 计\n",
      "随着现代粮库规模的不断扩大,其测温系统既要求简化现场布线又要远距离传输数据,实现集中监控;为此设计了一种基于CAN总线和DS18B20传感器的粮库测温系统;文章介绍了该测温系统的软硬件设计方案,实现了粮库现场布线的简化和数据的远距离传输;实验证明,该系统很好的适应了粮库测温系统的需求,正负偏差在0.3以内,具有成本低、可靠性高等特点。\n",
      "\n"
     ]
    },
    {
     "name": "stderr",
     "output_type": "stream",
     "text": [
      "\r",
      " 46%|████▌     | 455/1000 [03:16<03:53,  2.33it/s]"
     ]
    },
    {
     "name": "stdout",
     "output_type": "stream",
     "text": [
      "模 块 化 神 经 网 络 容 差 模 拟 电 路 故 障 检 测\n",
      "基 于 模 块 化 神 经 网 络 的 容 差 模 拟 电 路 故 障 检 测\n",
      "容差模拟电路故障检测对于电子设备的稳定运行而言至关重要,针对传统检测算法计算代价大、训练时间长及检测误差率高的不足,提出基于模块化神经网络的容差模拟电路故障检测算法研究;对神经网络检测模型的功能模块进行划分,并基于功能模块提取容差模拟电路的故障信号特征;基于样本中心到故障特征点的欧式距离,对比故障样本的特征向量,依据模块化神经网络决策分类函数,实现对容差模拟电路故障的准确定位和检测;仿真数据表明,在不同样本容量条件下提出检测算法均具有优势,最低误差值为0.382%。\n",
      "\n"
     ]
    },
    {
     "name": "stderr",
     "output_type": "stream",
     "text": [
      "\r",
      " 46%|████▌     | 456/1000 [03:16<04:06,  2.21it/s]"
     ]
    },
    {
     "name": "stdout",
     "output_type": "stream",
     "text": [
      "基 于 线 结 构 光 视 觉 的 燃 料 组 件 变 形 测 量 技 术 研 究\n",
      "基 于 线 结 构 光 的 快 堆 燃 料 组 件 变 形 测 量 系 统 设 计\n",
      "针对快堆燃料组件外形变形参数的测量,设计了基于线结构光的燃料组件变形测量系统,并考虑到辐射对电子元器件和测量精度的影响,进行了测量系统的辐射屏蔽设计。对辐射屏蔽玻璃的折射对测量的影响进行了研究,并在空气中线结构光测量模型的基础上提出一种折射校正的线结构光测量模型。在空气中进行测量系统标定,然后对加玻璃的测量值进行折射校正,通过多组测量实验表明折射校正模型校正误差为±0.05mm,线结构光燃料组件测量系统的全局参数测量的标准差不大于0.03mm。组件测量系统能在一定辐照剂量下能实现燃料组件变形参数的高精度测量,对于获取燃料组件物理参数和堆芯设计具有重要的意义。\n",
      "\n"
     ]
    },
    {
     "name": "stderr",
     "output_type": "stream",
     "text": [
      "\r",
      " 46%|████▌     | 457/1000 [03:17<04:01,  2.25it/s]"
     ]
    },
    {
     "name": "stdout",
     "output_type": "stream",
     "text": [
      "雾 霾 图 像 增 强 算 法 对 目 标 检 测 性 能 影 响 研 究\n",
      "基 于 图 像 增 强 的 动 态 双 阈 值 目 标 检 测 方 法 研 究\n",
      "针对雾霾环境下目标检测率低,容易造成交通事故等问题,提出了基于图像增强的动态双阈值算法;该算法针对雾霾天气下,传统的检测算法目标检测率低、虚警率高等问题,利用大气散射模型及联合双边滤波算法首先对原始雾霾图像的增强处理,然后再进行目标检测;分别使用动态双阈值、基于均值滤波的动态双阈值、基于直方图均衡化的动态双阈值、基于拉普拉斯算子的动态双阈值目标检测算法对不同程度雾霾环境下的实拍车辆运动视频进行目标检测,并用11097组图像数据对比分析改进算法的最佳检测率、最差检测率、平均检测率和虚警率;实验结果表明,改进算法目标检测率高、虚警率低,有助于减少交通事故,更加适用于雾霾环境下图像目标检测。\n",
      "\n"
     ]
    },
    {
     "name": "stderr",
     "output_type": "stream",
     "text": [
      "\r",
      " 46%|████▌     | 458/1000 [03:17<03:54,  2.31it/s]"
     ]
    },
    {
     "name": "stdout",
     "output_type": "stream",
     "text": [
      "网 络 安 全 关 键 字 搜 索 驱 动 数 据 备 灾 测 试 系 统\n",
      "网 络 安 全 关 键 字 搜 索 驱 动 备 灾 测 试 系 统 设 计\n",
      "传统数据处理系统在测试网络安全关键字搜索驱动备灾数据时,花费成本高、测试精度低、误差率高;为了解决上述问题,设计一种新的测试系统,分别对系统硬件和软件进行设计,系统硬件主要由采集器、处理器、存储器、传输器组成,采集器选取PL3200采集芯片,实现多功能采集;处理器选用SOC处理器,能够同时处理多类型数据;存储器选用的是STM32存储器,降低系统工作延时;传输器采用HDMI传输器,提高系统兼容能力;软件由安全数据划分、测试计划编写、测试环境构建以及测试结果检测四部分组成;为检测系统性能,与传统系统进行了实验对比;实验结果表明,所设计的测试系统的平均相对误差比传统测试系统低10.09%,系统花费成本比传统测试系统节约了近1500千元;由实验结果可得所设计的备灾测试系统能够有效降低成本、减少误差率。\n",
      "\n"
     ]
    },
    {
     "name": "stderr",
     "output_type": "stream",
     "text": [
      "\r",
      " 46%|████▌     | 459/1000 [03:17<03:34,  2.52it/s]"
     ]
    },
    {
     "name": "stdout",
     "output_type": "stream",
     "text": [
      "视 频 和 地 磁 融 合 停 车 检 测 机 制 探 索 研 究\n",
      "视 频 和 地 磁 技 术 动 态 融 合 检 测 技 术\n",
      "通过研究视频、地磁等多种停车检测技术基本原理和实际应用情况,深入分析了视频和地磁检测技术的适用性和挑战性问题,探索了视频和地磁技术动态融合检测机制,并搭建了视频和地磁停车检测试验环境,针对不同天气和不同停车模式进行了大量测试;实地测试结果验证了融合机制可有效发挥视频与地磁技术优势,精确获取停车监测信息,提升检测效率;该机制在强化路侧停车管理与收费监管、促进路侧停车规范有序、提高车位信息检测准确性与可靠性等方面,均具有较强的研究价值和广泛的应用前景。\n",
      "\n"
     ]
    },
    {
     "name": "stderr",
     "output_type": "stream",
     "text": [
      "\r",
      " 46%|████▌     | 460/1000 [03:18<03:45,  2.40it/s]"
     ]
    },
    {
     "name": "stdout",
     "output_type": "stream",
     "text": [
      "校 园 网 程 控 交 换 机 连 网 故 障 断 点 检 测 技 术 研 究\n",
      "校 园 网 程 控 交 换 机 连 网 故 障 断 点 检 测 技 术 研 究\n",
      "当前校园网程控交换机连网故障断点检测技术检测准确率较低、误警率高,也无法实现对故障断点区域的精确定位,提出一种基于节点信誉感知模型的连网故障断点检测技术研究;依据校园网的网络层次结构布局,构建节点之间的信誉感知模型,以提取节点故障区域特征信息,基于小波算法对感知信誉数据进行预处理;为提高算法的稳定性,对邻近节点之间的健康程度进行分析,以最终实现对校园网程控交换机连网故障断点的准确定位与检测;仿真实验数据表明,提出的断点故障检测技术在节点感知故障率为0.6的条件下,仍可获得86.32%的检测率。\n",
      "\n"
     ]
    },
    {
     "name": "stderr",
     "output_type": "stream",
     "text": [
      "\r",
      " 46%|████▌     | 461/1000 [03:18<03:43,  2.41it/s]"
     ]
    },
    {
     "name": "stdout",
     "output_type": "stream",
     "text": [
      "基 于 s p 谐 振 补 偿 网 络 的 i c p t 系 统 鲁 棒 控 制 研 究\n",
      "感 应 耦 合 式 电 能 传 输 系 统 的 鲁 棒 控 制\n",
      "针对系统参数摄动和外部扰动等不确定因素会影响感应耦合式电能传输系统的鲁棒性这一问题,设计一种基于H∞优化控制方法的鲁棒控制器;为方便系统鲁棒控制的研究,首先采用广义状态空间平均方程和线性分式变换方法建立感应耦合式电能传输系统的结构化不确定性模型,然后通过H∞优化控制方法设计基于该模型的鲁棒控制器并根据μ理论分析闭环摄动系统的鲁棒性,最后仿真得到系统的开环和闭环暂态响应曲线;结果表明采用H∞优化控制方法设计的控制器在保证该系统鲁棒性的同时,也能使系统负载电压快速达到稳定状态。\n",
      "\n"
     ]
    },
    {
     "name": "stderr",
     "output_type": "stream",
     "text": [
      "\r",
      " 46%|████▌     | 462/1000 [03:19<03:36,  2.49it/s]"
     ]
    },
    {
     "name": "stdout",
     "output_type": "stream",
     "text": [
      "基 于 水 下 六 足 机 器 人 腿 部 运 动 控 制 问 题 研 究\n",
      "水 下 爬 游 六 足 机 器 人 的 运 动 研 究\n",
      "水下爬游六足机器人相比于传统的水下控制器ROV (Remote Operated Vehicle),AUV (Autonomous Underwater Vehicle)具有造价低,运行和维护成本相对较低的特点,以及最主要的可以实现定点作业的问题,设计了能够在海底爬行的水下六足机器人;基于以往的多足机器人腿部控制方法使得机器人在运动时存在严重的互斥力问题,尤其当机器人自身重量大时,对关节损伤严重,对如何解决分布于机体两侧各腿处于支撑态行走一步的过程中产生的互斥力问题进行了深入研究,并对控制算法进行改进,使得机器人的两侧腿处于支撑态时走出的轨迹为两条平行线;给出了机器人在不同爬行状态下正逆运动学解,并进行了Simulink仿真验证;此外,对机器人如何爬行,即控制策略进行了描述。\n",
      "\n"
     ]
    },
    {
     "name": "stderr",
     "output_type": "stream",
     "text": [
      "\r",
      " 46%|████▋     | 463/1000 [03:19<03:38,  2.45it/s]"
     ]
    },
    {
     "name": "stdout",
     "output_type": "stream",
     "text": [
      "新 能 源 汽 车 电 静 液 制 动 系 统 抗 饱 和 反 演 控 制\n",
      "电 静 液 制 动 系 统 自 适 应 反 演 控 制 策 略\n",
      "对电静液制动系统存在的未知非线性及参数时变特点,提出一种控制输入受限条件下的反演控制策略;建立电静液作动器的状态空间模型并表达为严格反馈形式,将建模误差及未建模动态视为未知干扰,结合反演步骤设计参数自适应律,实时估计未知扰动;设计抗饱和补偿器,将控制器输出与被控对象输入信号之差作为抗饱和补偿器的输入,构成反馈回路消除饱和现象;应用Lyapunov方法证明闭环系统的渐近稳定性,闭环系统信号一致有界,压力跟踪误差可通过改变补偿器的参数进行调节;仿真及试验结果表明,所提控制方法具有较强的自适应能力,与传统反演方法相比,鲁棒性和控制性能得到显著提高。\n",
      "\n"
     ]
    },
    {
     "name": "stderr",
     "output_type": "stream",
     "text": [
      "\r",
      " 46%|████▋     | 464/1000 [03:19<03:32,  2.52it/s]"
     ]
    },
    {
     "name": "stdout",
     "output_type": "stream",
     "text": [
      "天 幕 靶 灵 敏 度 自 适 应 控 制 技 术 研 究\n",
      "天 幕 靶 灵 敏 度 稳 定 方 法 研 究 与 实 现\n",
      "为了解决天幕靶的探测灵敏度受外界环境光变化影响引起探测性能不稳定的问题,提出了一种基于天空亮度自适应调节的天幕靶灵敏度稳定的方法;对天幕靶的探测灵敏度模型进行了分析,确定了天空背景亮度、噪声和弹丸口径和速度等为主要影响因素;通过控制光通量、改变偏置电阻以及调整电路增益等手段,有效地实现了灵敏度自适应稳定的要求;经实弹试验验证,天幕靶输出信号的幅值波动范围减小为原来的35%,实现了天幕靶适应性强且灵敏度稳定的要求。\n",
      "\n"
     ]
    },
    {
     "name": "stderr",
     "output_type": "stream",
     "text": [
      "\r",
      " 46%|████▋     | 465/1000 [03:20<03:16,  2.73it/s]"
     ]
    },
    {
     "name": "stdout",
     "output_type": "stream",
     "text": [
      "气 动 垃 圾 回 收 系 统 阀 门 控 制 策 略 研 究\n",
      "气 动 垃 圾 回 收 系 统 排 空 策 略 研 究\n",
      "为实现气动垃圾回收系统的实际应用,阀门控制策略方案的设计与验证十分重要;分析系统运行过程,抽象出系统运行参数并建立数学模型,确定系统“自下而上”的基本控制逻辑;设计分析了以单层循环式排空策略为代表的三种控制方案,确定单元式阀门控制为最优选择,并以数值模拟的方式对研究内容进行了验证;该方案使得系统执行排空动作时阀门开启次数较少,系统设备成本降低,安全性提高。\n",
      "\n"
     ]
    },
    {
     "name": "stderr",
     "output_type": "stream",
     "text": [
      "\r",
      " 47%|████▋     | 466/1000 [03:20<03:29,  2.55it/s]"
     ]
    },
    {
     "name": "stdout",
     "output_type": "stream",
     "text": [
      "基 于 专 家 - 模 糊 p i d 控 制 的 松 散 回 潮 出 口 水 分 控 制 系 统 设 计\n",
      "基 于 专 家 系 统 的 松 散 回 潮 出 口 烟 叶 水 分 控 制 系 统 研 究\n",
      "松散回潮属于大时滞系统,其出口烟叶水分控制所采用的带前馈-串级控制达不到理想的控制效果;在生产过程中需要根据经验手动修改加水系数,并没有真正实现完全自动化控制;提出了一种将专家系统、模糊推理和常规PID控制相互结合的新方法实现了松散回朝出口水分的控制,利用专家系统对加水系数进行自动决策;采用模糊推理方法分别对前室加水控制器与后室水分控制器的PID参数进行了在线自适应整定,实现了松散回潮出口水分控制的全自动化,提高了松散回潮出口水分的稳定性与精确性。\n",
      "\n"
     ]
    },
    {
     "name": "stderr",
     "output_type": "stream",
     "text": [
      "\r",
      " 47%|████▋     | 467/1000 [03:20<03:29,  2.55it/s]"
     ]
    },
    {
     "name": "stdout",
     "output_type": "stream",
     "text": [
      "车 载 复 合 电 源 模 糊 能 量 管 理 策 略 优 化 设 计\n",
      "基 于 i m s 算 法 优 化 的 复 合 电 源 模 糊 控 制 系 统 设 计\n",
      "针对电动汽车复合电源模糊能量管理,传统模糊控制依赖专家经验存在精度不高、自适应性弱等不足,设计了一种基于改进布谷鸟搜索算法(ICS)优化的模糊控制方法;在Matlab/Simulink平台上建立车载复合电源模糊控制器,采用ICS算法对模糊控制器中的隶属度函数参数进行优化,然后将其嵌入到Advisor软件中复合电源电动汽车模型进行仿真与分析;结果表明,与传统模糊控制相比较,该方法能更好发挥超级电容性能优势,减缓了电池输入、输出功率且整车能耗经济性得到提升。\n",
      "\n"
     ]
    },
    {
     "name": "stderr",
     "output_type": "stream",
     "text": [
      "\r",
      " 47%|████▋     | 468/1000 [03:21<03:49,  2.32it/s]"
     ]
    },
    {
     "name": "stdout",
     "output_type": "stream",
     "text": [
      "爬 游 无 人 潜 水 器 导 航 控 制 系 统 设 计\n",
      "基 于 p c 1 0 4 的 爬 游 无 人 潜 水 器 嵌 入 式 导 航 控 制 系 统 设 计\n",
      "深海爬游无人潜水器是一种既可在深海巡游,又可在海底爬行的新型深海无人潜水器;针对爬游潜水器水中巡游和海底爬行作业的任务需求,以及控制系统通信量大、管理设备多、数据处理量大、工况复杂等问题,提出了“上层导航控制+下层运动控制”两层控制结构的思想,设计了以PC104嵌入式计算机为硬件平台,以实时多任务操作系统VxWorks为软件平台的爬游无人潜水器嵌入式导航控制系统;在实现多任务调度、通信管理、数据采集存储等功能的基础上,完成了导航避障决策仿真实验,验证了潜水器导航控制系统的控制效果。\n",
      "\n"
     ]
    },
    {
     "name": "stderr",
     "output_type": "stream",
     "text": [
      "\r",
      " 47%|████▋     | 469/1000 [03:21<03:55,  2.25it/s]"
     ]
    },
    {
     "name": "stdout",
     "output_type": "stream",
     "text": [
      "基 于 腕 部 可 穿 戴 设 备 的 跌 倒 监 护 系 统 设 计 与 实 现\n",
      "基 于 腕 部 智 能 穿 戴 设 备 的 生 理 体 征 采 集 与 报 警 系 统\n",
      "随着社会老龄化加快,老年人或病人的人工监护成本越来越高,针对目前各种跌倒监测装置的不足,设计了一款基于腕部智能穿戴设备的生理体征采集、跌倒监测和报警系统,该装置通过集成的各种传感器采集腕部高度、加速度、角速度等体征信号,并采用合适的算法实现了跌倒检测报警功能;实验结果表明,通过佩戴文章设计的腕部智能穿戴设备可以较好地实现对跌倒行为和日常非跌倒行为的区分,在不影响佩戴者舒适度情况下行为检出率可达到98.5%。\n",
      "\n"
     ]
    },
    {
     "name": "stderr",
     "output_type": "stream",
     "text": [
      "\r",
      " 47%|████▋     | 470/1000 [03:22<03:33,  2.48it/s]"
     ]
    },
    {
     "name": "stdout",
     "output_type": "stream",
     "text": [
      "一 种 三 自 由 度 冗 余 驱 动 并 联 机 器 人 控 制 研 究\n",
      "冗 余 并 联 机 器 人 的 研 究 与 仿 真\n",
      "并联机器人一般由多条运动轴组成,具有响应快、刚性好、精度高等优点,但是由于其机械结构的复杂性导致其也存在着明显缺点,如各支链之间存在相互耦合使得工作区域内存在奇异位形,加入冗余度可以消除奇异位形从而改善它的几何特性,冗余并联机器人作为一种新型的机器人形式得到了越来越多的重视,基于三自由度冗余驱动并联机器人提出一种控制研究方法,主要从冗余并联机器人的运动学模型、工作空间、MATLAB仿真及其控制软件开发等主要方面进行了深入细致的研究。\n",
      "\n"
     ]
    },
    {
     "name": "stderr",
     "output_type": "stream",
     "text": [
      "\r",
      " 47%|████▋     | 471/1000 [03:22<03:33,  2.47it/s]"
     ]
    },
    {
     "name": "stdout",
     "output_type": "stream",
     "text": [
      "分 布 式 网 络 高 机 密 数 据 采 集 智 能 控 制 方 法 研 究\n",
      "分 布 式 网 络 高 机 密 数 据 采 集 智 能 控 制 方 法 研 究\n",
      "针对传统控制方法受到网络时延影响而导致控制效果较差的问题,提出了分布式网络高机密数据采集智能控制方法研究;根据网络化控制体系结构,将LPC2292型号控制器引脚作为输入功能基础配置,并设置通信通道,完成高机密数据采集;将采集到的数据存储到数据库中进行综合控制,按照ARM静态存储控制机制进行时序读写,利用函数静态内联空隙AT91Sysx写入方式对出现时延的数据重新写入,根据网络时延计算结果,将数据读出,由此完成分布式高机密数据采集的智能控制;通过实验对比结果可知,智能控制方法控制效果最高可达98%,大大提高网络数据高效采集能力。\n",
      "\n"
     ]
    },
    {
     "name": "stderr",
     "output_type": "stream",
     "text": [
      "\r",
      " 47%|████▋     | 472/1000 [03:23<03:52,  2.27it/s]"
     ]
    },
    {
     "name": "stdout",
     "output_type": "stream",
     "text": [
      "基 于 w i n a c 和 p r o f i b u s 的 大 惯 量 x - y 航 车 控 制 系 统 设 计 与 实 现\n",
      "基 于 w i n a c 软 逻 辑 p l c 的 x - y 航 车 设 计 与 实 现\n",
      "在开发大惯量X-Y航车工程项目中,既需要多个控制器之间可靠、实时、高刷新频率的数据交互,又需要上位控制计算机具有PC机的强大性能、PLC系统的组态式通信编程功能;该文在综合分析主流通信网络及控制技术优缺点的基础上,创新地提出了以WinAC软逻辑PLC为控制核心,以Profibus现场总线为通信网络,以PC机加RTX实时内核为上位机,以Visual Basic结合第三方控件为人机界面工具的集成设计方案,阐述了软硬件设计流程,并介绍了系统调试结果;实验结果表明,上位机与10台下位机可实现2ms周期的可靠实时数据交换,基于此,总重110吨的X-Y航车在携带船模做直径6m,切向速度1m/s的圆周运动时,实现了位置误差小于±2%、角度误差小于±0.5°的精度。\n",
      "\n"
     ]
    },
    {
     "name": "stderr",
     "output_type": "stream",
     "text": [
      "\r",
      " 47%|████▋     | 473/1000 [03:23<04:10,  2.10it/s]"
     ]
    },
    {
     "name": "stdout",
     "output_type": "stream",
     "text": [
      "基 于 s i m a t i c   n e t 的 数 控 磨 床 车 间 s c a d a 系 统 设 计\n",
      "基 于 西 门 子 通 信 的 数 控 磨 床 车 间 数 据 采 集 与 监 控 系 统\n",
      "针对公司对数控磨床车间的掌控力度不足问题,提出了基于西门子通信技术的数控磨床车间数据采集与监控系统,通过SIMATIC NET工业以太网,实现SIMATIC NET OPC服务器与西门子数控系统中的S7系列PLC进行数据交换,进而利用SIMATIC NET所提供的通信模块把数据提供给SIMATIC NET OPC客户端;在数控磨床车间SCADA系统中,采用WinCC作为SIMATIC NET OPC的客户端,同时开发了基于VB高级语言的SIMATIC NET OPC客户端,以增加SCADA系统的功能;基于SIMATIC NET的SCADA系统实现了对数控车间的数据采集与设备监控,为公司下阶段的信息化建设奠定了基础。\n",
      "\n"
     ]
    },
    {
     "name": "stderr",
     "output_type": "stream",
     "text": [
      "\r",
      " 47%|████▋     | 474/1000 [03:24<03:58,  2.21it/s]"
     ]
    },
    {
     "name": "stdout",
     "output_type": "stream",
     "text": [
      "一 种 集 中 式 智 能 农 机 自 动 导 航 驾 驶 控 制 器 的 设 计 与 实 现\n",
      "智 能 农 机 自 动 导 航 驾 驶 系 统 集 中 式 设 计 与 实 现\n",
      "智能农机自动导航驾驶技术属于当前精准农业领域的研究热点,该技术在工程化应用过程中,需要根据不同的工况频繁升级和更新软件,传统农机自动导航驾驶系统进行分模块设计,导致系统升级维护繁杂,核心技术分散,限制了该技术的应用推广;文章提出一种集中式的自动导航驾驶控制ECU设计架构,将自动导航驾驶系统所涉及的核心关键技术,如组合导航、路径自适应跟踪控制、人机交互等集成融合到ECU中进行集中式设计;经过场地测试,相比传统采用分立式的自动导航驾驶系统,在保持作业精度2.5cm的输出约束下,降低了系统复杂度,可靠性和集成度得到大幅提升。\n",
      "\n"
     ]
    },
    {
     "name": "stderr",
     "output_type": "stream",
     "text": [
      "\r",
      " 48%|████▊     | 475/1000 [03:24<03:50,  2.28it/s]"
     ]
    },
    {
     "name": "stdout",
     "output_type": "stream",
     "text": [
      "基 于 奇 异 值 分 解 的 雷 达 性 能 组 合 预 测 方 法\n",
      "基 于 奇 异 值 分 解 滤 波 的 雷 达 性 能 预 测\n",
      "对雷达实施健康管理过程中,预测是重要的功能环节;雷达的性能参数监测序列反映其健康状态,在对其进行建模预测过程中,单一模型难以满足预测准确度要求;为了提高预测准确度,需选用与雷达失效机理相适应的模型;在自回归模型、径向基函数神经网络和奇异值滤波算法的基础上,提出了一种联合两类模型的最优化组合预测方法,将奇异值分解滤波恰当地应用于辨识雷达性能的非同源影响因素并对雷达性能监测序列进行最优拆分;仿真结果表明,该方法相较于单一模型预测和传统的组合预测算法,预测准确度指标提升至少一个数量级。\n",
      "\n"
     ]
    },
    {
     "name": "stderr",
     "output_type": "stream",
     "text": [
      "\r",
      " 48%|████▊     | 476/1000 [03:24<03:46,  2.31it/s]"
     ]
    },
    {
     "name": "stdout",
     "output_type": "stream",
     "text": [
      "基 于 h p - 自 适 应 伪 谱 法 的 高 超 声 速 飞 行 器 上 升 段 闭 环 制 导 研 究\n",
      "高 超 声 速 飞 行 器 的 轨 迹 优 化 与 实 时 性 研 究\n",
      "对于高超声速飞行器的上升段而言,希望其能够在短时间内飞行较远的距离,并且达到理想的速度和高度;最重要的就是如何优化其轨迹,规避上升过程中的各种干扰因素,自主完成整个飞行任务。文章以X-33飞行器模型作为研究对象,提出一种基于hp-自适应伪谱方法的轨迹优化方法和闭环制导策略,实时修正飞行路径,使其最终以理想速度到达目标位置;通过仿真验证了该方法的可靠性;结果表明,该方法具有较高的精度,收敛时间快,为闭环制导实时性研究提供了方向。\n",
      "\n"
     ]
    },
    {
     "name": "stderr",
     "output_type": "stream",
     "text": [
      "\r",
      " 48%|████▊     | 477/1000 [03:25<03:45,  2.32it/s]"
     ]
    },
    {
     "name": "stdout",
     "output_type": "stream",
     "text": [
      "舰 载 遥 测 与 红 外 电 视 跟 踪 一 体 化 设 计 与 实 现\n",
      "舰 载 遥 测 系 统 加 装 红 外 跟 踪 系 统 设 计\n",
      "针对遥测近海面测量时面临的复杂场景干扰以及视觉观感不强等方面的问题,提出在舰载遥测系统上加装红外跟踪系统。采用口径140mm、焦距260mm/520mm的光学系统,能对红外源目标进行跟踪、图像记录和在本地/远程实时监控等功能。提出的Kalman滤波估计算法,能够准确预测目标的速度,使得速度顺馈技术在设备中成功实现。介绍了舰载遥测系统的特点以及一体化设计思想,实现了对遥测系统远、近场电轴的标校以及遥测与红外的互跟踪,并通过实例验证了设计的可行性。\n",
      "\n"
     ]
    },
    {
     "name": "stderr",
     "output_type": "stream",
     "text": [
      "\r",
      " 48%|████▊     | 478/1000 [03:25<03:26,  2.53it/s]"
     ]
    },
    {
     "name": "stdout",
     "output_type": "stream",
     "text": [
      "基 于 w e b 的 用 户 自 适 应 关 系 模 型 的 设 计 及 应 用\n",
      "基 于 w e b 的 自 适 应 数 据 库 关 系 模 型 设 计\n",
      "Web开发过程中,固定的数据库关系模型设计往往难以满足数据库应用系统中多变的用户需求;本文提出一种用户自适应关系模型,利用主、从两个静态关系表来实现数据库动态表结构,主表用于存储用户自定义关系表信息,从表则用于存储所有用户自定义数据;利用该关系模型设计的数据库应用系统中,用户仅通过Web浏览器即可自定义数据类型和动态管理数据,从而在一定程度上实现了用户需求变化的自适应;以烟草业的数据共享平台为例,说明了模型的使用方法,实际应用结果表明该模型显著提高了数据库应用系统的用户适应性,改善了Web站点的性能。\n",
      "\n"
     ]
    },
    {
     "name": "stderr",
     "output_type": "stream",
     "text": [
      "\r",
      " 48%|████▊     | 479/1000 [03:26<03:15,  2.67it/s]"
     ]
    },
    {
     "name": "stdout",
     "output_type": "stream",
     "text": [
      "一 种 新 型 恒 温 输 液 输 血 装 置 设 计\n",
      "新 型 恒 温 输 液 装 置 的 设 计 与 实 现\n",
      "针对市面上现有的恒温输液装置或依赖进口,或体积庞大,在很多小型医院不适用等特点,设计出了一款轻巧便宜的新型恒温输液输血装置;经实验测试,实现了对液体包括血液的加热恒温等一系列功能;装置的主控芯片选用STM32微控制器,加温器选用220V,68 W的硅橡胶加热片,温度检测器选用DS18B20;利用PID算法加快了温度控制系统的响应速度,实现了恒温控制功能;同时,有效地抑制了温度抖动,使装置在运行时更加稳定、可靠;另外,还通过显示屏、语音合成模块、红外遥控开关等人机交互系统,实现了装置的智能化,使之提供更加人性化的服务。\n",
      "\n"
     ]
    },
    {
     "name": "stderr",
     "output_type": "stream",
     "text": [
      "\r",
      " 48%|████▊     | 480/1000 [03:26<03:19,  2.61it/s]"
     ]
    },
    {
     "name": "stdout",
     "output_type": "stream",
     "text": [
      "广 播 式 自 动 相 关 监 视 系 统 研 究 与 实 现\n",
      "基 于 f p g a 的 小 型 a d s - b 系 统 设 计 与 实 现\n",
      "广播式自动相关监视(Automatic Dependent Surveillance-Broadcast,ADS-B)系统是通用航空监视的必备设备,先前ADS-B技术长期被国外垄断,设备价格昂贵且与我国现有的技术体系存在兼容问题,为此设计了一套基于FPGA的小型ADS-B系统;系统能够在FPGA中实现信号预处理、数据传输等功能,上位机完成数据解算并实时显示解算结果,通过外场试验对系统数据解算结果和精度进行分析与评价;试验结果表明,试验系统数据处理速度快、具有较少的错误解算率和较高的集成度,符合ADS-B接收设备指标要求,能够大幅降低通航成本。\n",
      "\n"
     ]
    },
    {
     "name": "stderr",
     "output_type": "stream",
     "text": [
      "\r",
      " 48%|████▊     | 481/1000 [03:26<03:19,  2.60it/s]"
     ]
    },
    {
     "name": "stdout",
     "output_type": "stream",
     "text": [
      "一 种 飞 行 器 有 效 载 荷 接 口 扩 展 装 置 方 案 设 计\n",
      "一 种 飞 行 器 有 效 载 荷 接 口 扩 展 装 置 设 计\n",
      "飞行器执行不同的作战任务需要携带不同类型的有效载荷,多数飞行器由于接口资源有限,仅能携带单一的有效载荷,这给飞行器作战手段带来了极大的限制;若能利用飞行器有限的接口资源携带更多类型的有效载荷,就可以使飞行器作战手段更加丰富多样,进而大大提升飞行器的作战能力;有效载荷接口扩展装置在飞行器有限的接口资源基础上,利用不同类型的有效载荷分时工作的特点,从供配电接口、数据传输接口、软硬指令接口等方面对飞行器原有接口进行扩展,目前能够支持机械臂、小卫星、激光武器、侦查相机4种有效载荷在轨正常执行任务,不同的有效载荷分时复用飞行器接口资源,在不额外增加飞行器功耗负担的前提下,大大提高了总线利用率和指令利用率;有效载荷接口扩展装置的应用对飞行器在轨作战提供了更多可能性,使单一飞行器能够尽可能执行多任务,同时也间接降低了发射成本。\n",
      "\n"
     ]
    },
    {
     "name": "stderr",
     "output_type": "stream",
     "text": [
      "\r",
      " 48%|████▊     | 482/1000 [03:27<03:07,  2.76it/s]"
     ]
    },
    {
     "name": "stdout",
     "output_type": "stream",
     "text": [
      "基 于 s t m 3 2 的 多 串 口 并 行 传 输 系 统 设 计\n",
      "多 串 口 并 行 传 输 系 统 的 研 制\n",
      "针对工程控制系统中多串口并发通信的需求,设计了一种以STM32F429为核心的多串口并行传输系统;该系统充分利用了处理器内部的8个串口和网络接口资源,串口利用DMA方式在缓存中循环接收,解决了并发接收时查询或中断接收方式可能导致的数据帧丢失以及处理器时间占用较多的问题;针对不同的协议帧,采用了超时判断的方式,避免了一旦串口接收数据长度不正确后导致的后续接收问题;网络传输采用了lwIP协议栈。该设计实现了同时采集7路读卡信息,并通过1路串口或网络向上位机上传数据的功能,测试表明多串口并发传输无数据帧丢失现象;该系统无外接串口扩充电路,减小了整个电路的体积,提高了系统的可靠性和稳定性。\n",
      "\n"
     ]
    },
    {
     "name": "stderr",
     "output_type": "stream",
     "text": [
      "\r",
      " 48%|████▊     | 483/1000 [03:27<03:18,  2.60it/s]"
     ]
    },
    {
     "name": "stdout",
     "output_type": "stream",
     "text": [
      "面 向 风 洞 群 的 装 备 自 主 式 维 修 保 障 系 统 框 架 设 计 与 实 现\n",
      "面 向 风 洞 群 的 开 放 式 装 备 自 主 维 修 保 障 系 统 研 究\n",
      "基于CBM的风洞自主式维修保障系统在多座风洞中已经得到成功应用,在夯实基础、积累成果的前提下,着眼于实现适应多座风洞联合保障的架构,应用虚拟化、云计算、光纤通讯、故障诊断、故障预测、统一设备编码、IETM等多项先进技术,设计并研制了一套面向风洞群的开放式装备自主维修保障系统,实现了各风洞在自主式维修保障功能上独立和在存储及计算资源上共享的有机结合,进一步提高了装备保障效率,有效节约了物理资源,其开放性使得系统随时可根据需要扩充虚拟集群,为集群型装备的自主式维修保障系统建设提供了先进的技术参考方案。\n",
      "\n"
     ]
    },
    {
     "name": "stderr",
     "output_type": "stream",
     "text": [
      "\r",
      " 48%|████▊     | 484/1000 [03:27<03:13,  2.66it/s]"
     ]
    },
    {
     "name": "stdout",
     "output_type": "stream",
     "text": [
      "基 于 n b - i o t 的 智 能 网 关 设 计\n",
      "基 于 n b - i o t 网 络 的 智 能 网 关 的 设 计\n",
      "为解决家庭物联网水、电、气三表数据广域传输中低功耗、低成本的问题,设计了基于NB-IoT网络的智能网关,以STM32F103芯片为核心控制器,主要包括三表数据采集接口、NB-IoT网络接口和家庭智能终端扩展接口,实现了家庭三表数据采集及对智能云端平台的传输功能,并为智能家居服务数据提供网络支撑;所设计智能网关针对性的解决了三表数据的统一管理问题,创新性的将三表接入网关设计成86型底盒的方式,在较小改变房屋电气布局基础上实现了智能网关的安装;实验及应用测试结果表明,所设计智能网关具有性能稳定、功耗较低、便于安装的优势,可快速实现家庭物理信息系统的构建。\n",
      "\n"
     ]
    },
    {
     "name": "stderr",
     "output_type": "stream",
     "text": [
      "\r",
      " 48%|████▊     | 485/1000 [03:28<03:27,  2.49it/s]"
     ]
    },
    {
     "name": "stdout",
     "output_type": "stream",
     "text": [
      "基 于 c o m p a c t r i o 的 中 性 束 高 压 平 台 电 源 数 据 采 集 系 统 设 计 与 应 用\n",
      "基 于 c o m p a c t r i o 的 中 性 束 注 入 系 统 数 据 采 集 系 统 设 计\n",
      "为解决高电压、大电流和强磁场对中性束注入系统高压平台电源数据采集系统的影响问题,通过在CompactRIO (简称cRIO)控制器中运行NI Linux Real-Time实时系统,结合LabVIEW图形化开发工具,采用FPGA用户I/O采集模式与节点I/O采集模式混合编程,设计了1套全新的基于cRIO平台的数据采集系统;该套采集系统实现了中性束注入系统中第2条束线中高压平台灯丝电源、弧流电源等信号在不同采集频率的混合测量需求;通过在HL-2A放电实验中测试表明,采集系统稳定可靠,抗干扰性能强,上位机界面操作灵活,维护方便。\n",
      "\n"
     ]
    },
    {
     "name": "stderr",
     "output_type": "stream",
     "text": [
      "\r",
      " 49%|████▊     | 486/1000 [03:28<03:13,  2.66it/s]"
     ]
    },
    {
     "name": "stdout",
     "output_type": "stream",
     "text": [
      "可 佩 戴 式 远 程 心 电 采 集 终 端 的 设 计 与 实 现\n",
      "远 程 心 电 采 集 终 端 的 研 究 与 设 计\n",
      "心电数据是诊断人体心脏状态的重要指标,在互联网大数据时代,远程医疗已成为一种趋势;为解决传统心电采集移动性和远程传输问题,而研制出一款可佩戴式远程心电采集终端;它由心电采集模块ADS1198、中央处理模块STM32、显示OLED液晶模块、USB模块、4G模块构成;能实时采集人体心电信号,并进行滤波处理,再通过OLED液晶模块大致显示心电波形;该设备具有通过USB模块传输数据至电脑实行近程心电数据管理或4G模块传输数据至医院监听端实现远程心电接收的功能。其体积为81mm×54mm×30mm,重量仅为50g,工作电流仅为12.8mA;设备体积小巧,功耗低,便于佩戴,能采集医院分析病理的标准12导联心电数据,适用于在家庭中使用。\n",
      "\n"
     ]
    },
    {
     "name": "stderr",
     "output_type": "stream",
     "text": [
      "\r",
      " 49%|████▊     | 487/1000 [03:29<03:24,  2.51it/s]"
     ]
    },
    {
     "name": "stdout",
     "output_type": "stream",
     "text": [
      "l e v y 噪 声 背 景 下 级 联 系 统 中 弱 信 号 的 提 取\n",
      "一 种 针 对 冲 击 噪 声 背 景 下 的 弱 周 期 信 号 提 取 方 法\n",
      "针对冲击噪声背景下弱周期信号难以提取的问题,提出了以levy噪声作为背景噪声的级联随机共振方法;首先,在数值上分析了随机共振系统最佳参数区间与levy噪声参数的关系;其次,总结了系统输出的微弱信号频谱值跟随系统参数的变化规律;最后,利用级联系统对levy噪声背景下微弱信号的提取进行了研究;实验结果表明,随机共振参数的最佳区间不随噪声参数α、β的变化而变化;系统输出信号的频谱幅值会随噪声参数α、β的改变而改变,但浮动不大;在级联系统中,二级系统输出的待检测信号频谱值是一级系统的2.2倍;该系统对冲击环境中弱信号的提取具有很强的实用性。\n",
      "\n"
     ]
    },
    {
     "name": "stderr",
     "output_type": "stream",
     "text": [
      "\r",
      " 49%|████▉     | 488/1000 [03:29<03:23,  2.52it/s]"
     ]
    },
    {
     "name": "stdout",
     "output_type": "stream",
     "text": [
      "6 l o w p a n 中 的 路 由 选 择 策 略 的 改 进\n",
      "基 于 r s s i 的 改 进 无 线 传 感 器 网 络 路 由 协 议 研 究\n",
      "随着IPv4地址资源的耗尽,IPv6网络替代IPv4成为不可逆转之势;在近几年中无线传感器网络(Wireless Sensor Network,WSN)的发展,使得IPv6网络的应用范围得到很大的拓展;其中6Lowpan的提出使得WSN中的节点可以以IP地址的方式进行通信,探讨了网络层的IPv6数据包长度和MAC层的数据包分片数量对网络性能的影响,在Contiki实验平台下分析了不同的RSSI和网络负载下6LoWPAN的表现,提出了基于RSSI的改进的RPL路由协议,明显增强了6LoWPAN下的通信能力。\n",
      "\n"
     ]
    },
    {
     "name": "stderr",
     "output_type": "stream",
     "text": [
      "\r",
      " 49%|████▉     | 489/1000 [03:29<03:24,  2.50it/s]"
     ]
    },
    {
     "name": "stdout",
     "output_type": "stream",
     "text": [
      "外 骨 骼 离 线 参 数 化 上 楼 梯 步 态 规 划\n",
      "离 线 参 数 化 上 楼 梯 步 态 规 划 算 法\n",
      "为扩大脊椎损伤患者在外骨骼机器人辅助下的活动范围而不仅仅只是起坐、站立和行走,提出一种离线参数化上楼梯步态规划算法,该算法基于惯性测量单元检测穿戴者运动意图,基于足底压力传感器计算整个系统的零力矩点(ZMP)以确保上楼梯过程的安全性;该算法根据人体大腿、小腿长度、楼梯高度和宽度等参数规划出关节的最优空间位置轨迹,然后通过逆运动学求解关节角度轨迹,该算法可为不同的穿戴者生成适应于不同楼梯尺寸的步态轨迹,最后3名实验者穿戴外骨骼在楼梯高度18cm、宽度26cm的楼梯上实验,外骨骼按照规划的步态轨迹帮助穿戴者多次完成上楼梯任务,规划的楼梯尺寸与实际测量的尺寸误差在2%以内,通过实验验证了该算法的有效性与实用性。\n",
      "\n"
     ]
    },
    {
     "name": "stderr",
     "output_type": "stream",
     "text": [
      "\r",
      " 49%|████▉     | 490/1000 [03:30<03:28,  2.44it/s]"
     ]
    },
    {
     "name": "stdout",
     "output_type": "stream",
     "text": [
      "基 于 f f r l s 和 e k f 算 法 的 磷 酸 铁 锂 电 池 s o c 估 算 研 究\n",
      "磷 酸 铁 锂 电 池 核 定 量 分 析 方 法 及 参 数 修 正\n",
      "准确估计荷电状态是磷酸铁锂电池安全工作和电动汽车正常使用的基础,以混合的简化电化学模型为基础,使用遗忘因子递推最小二乘法(FFRLS)对模型的参数进行辨识;对安时积分法进行参数修正,降低了充放电倍率,温度等因素的影响,并对扩展卡尔曼滤波(EKF)进行改进,使得观测值的修正能力提高;以参数修正过的按时积分法的方程为状态方程,结合开路电压法,利用改进过的EKF进行SOC的估计;与安时积分法相比,SOC的估算效果提高了不少,使估算偏差保持在3%以内。\n",
      "\n"
     ]
    },
    {
     "name": "stderr",
     "output_type": "stream",
     "text": [
      "\r",
      " 49%|████▉     | 491/1000 [03:30<03:34,  2.37it/s]"
     ]
    },
    {
     "name": "stdout",
     "output_type": "stream",
     "text": [
      "高 光 谱 场 景 辐 亮 度 模 型 仿 真 研 究\n",
      "基 于 视 觉 特 性 的 入 瞳 部 高 光 谱 地 面 场 景 研 究\n",
      "高光谱遥感的地面场景是高光谱遥感系统中影响因素最复杂多变的部分;首先基于星载高光谱遥感成像的辐射传输过程,对非均匀的朗伯表面的入瞳处大气辐亮度传输模型进行了研究,得到只需要考虑目标与邻近像元反射率,大气传输因子的辐亮度简化模型;之后介绍了大气中光子扩散原理,并采用蒙特卡洛方法对大气点扩散函数进行仿真;联合地表目标像元反射率数据计算得到基于非均匀朗伯面地表的邻近像元反射率;然后总结了大气传输模型软件MODTRAN计算入瞳处辐亮度数据的原理步骤,并利用其反演了朗伯表面的相关大气传输参数;最终利用基于传感器入瞳处的辐亮度数据表征了高光谱地面场景。\n",
      "\n"
     ]
    },
    {
     "name": "stderr",
     "output_type": "stream",
     "text": [
      "\r",
      " 49%|████▉     | 492/1000 [03:31<03:58,  2.13it/s]"
     ]
    },
    {
     "name": "stdout",
     "output_type": "stream",
     "text": [
      "基 于 多 粒 度 匹 配 的 高 超 速 飞 行 体 三 维 重 构 方 法\n",
      "高 超 速 飞 行 体 表 面 的 多 粒 度 匹 配 三 维 重 构 优 化 方 法\n",
      "针对高超速飞行体在飞行过程中能获取到的图像信息较少,无法完全复现其轮廓信息,提出一种基于多粒度匹配的三维重构优化方法;首先通过两台高分辨率CCD相机正交的阴影照相站系统采集高超速飞行体多幅图像信息,利用图像分割技术提取物体的二维轮廓;然后采用改进的SFS算法求解出物体表面各点的相对高度和表面法向量,恢复其三维形貌;最后使用图像拼接优化技术实现高超速飞行体表面的三维重构;并经过实体模型的三维重构验证所提方法的可行性及有效性。\n",
      "\n"
     ]
    },
    {
     "name": "stderr",
     "output_type": "stream",
     "text": [
      "\r",
      " 49%|████▉     | 493/1000 [03:31<03:27,  2.44it/s]"
     ]
    },
    {
     "name": "stdout",
     "output_type": "stream",
     "text": [
      "卫 星 网 络 路 由 器 高 速 数 据 转 发 设 计\n",
      "高 性 能 卫 星 网 络 路 由 器 的 性 能 分 析\n",
      "卫星网络由多颗卫星和地面站组成,星间通过高速激光链路通信;卫星网络的核心之一就是路由器;高性能路由器的典型特点为数据路径和控制路径的分离;控制路径处理与高层路由协议相关的数据包,数据路径处理需要转发的数据包;数据路径是路由器的关键路径,直接影响着路由器的整体性能;在调研路由器技术发展历程之后,分析了高性能路由器典型结构及相关关键技术,考虑目前卫星网络系统需求、软硬件环境约束条件,对现有技术进行了优化和适应性修改,确定了卫星网络路由器中数据路径的实现方案;该方案满足当前卫星网络应用需求,且经简单扩展后,还可满足后续更高性能卫星网络路由器的设计需求。\n",
      "\n"
     ]
    },
    {
     "name": "stderr",
     "output_type": "stream",
     "text": [
      "\r",
      " 49%|████▉     | 494/1000 [03:32<03:28,  2.43it/s]"
     ]
    },
    {
     "name": "stdout",
     "output_type": "stream",
     "text": [
      "轨 道 扣 件 的 图 像 采 集 与 振 动 补 偿 方 法\n",
      "基 于 机 器 视 觉 光 源 模 型 的 轨 道 扣 件 检 测 方 法\n",
      "基于车载图像采集系统进行轨道扣件检测是保障列车运行安全的一项关键技术,受运行过程中低频机械振动和外界光照的影响,常规的图像采集检测方法所得图像精度较低;为了解决该问题,提出一种基于机器视觉光源模型的振动补偿方法;通过建立线阵相机、激光光源和扣件区域的照明模型消除外界光照的干扰,并采用频域分析法和多传感数据融合技术,设计补偿算法消除振动信息的干扰;最后,通过搭建采集平台进行实验验证,结果表明该方法可以有效地减弱外界光照对成像质量的影响,并对±5°以内的图像偏移实现了修正;与未采用机器视觉光源模型的方法相比,扣件区域对比度提高10倍以上。\n",
      "\n"
     ]
    },
    {
     "name": "stderr",
     "output_type": "stream",
     "text": [
      "\r",
      " 50%|████▉     | 495/1000 [03:32<03:36,  2.33it/s]"
     ]
    },
    {
     "name": "stdout",
     "output_type": "stream",
     "text": [
      "基 于 局 部 投 影 方 差 的 快 速 车 牌 校 正 方 法\n",
      "基 于 局 部 特 征 检 测 的 车 牌 倾 斜 与 错 切 校 正\n",
      "车牌倾斜与错切校正作为车牌识别的重要环节,虽已提出不少方法,但仍存在准确度低、效率低等不足;鉴于现有方法的不足提出一种高效的车牌倾斜与错切校正方法;首先,根据车牌图像的投影方差存在着明显的局部性规律,提取车牌的局部特征图像用于角度检测;并提出一种基于坐标旋转的最大投影方差获取方法,快速得到车牌水平倾斜角度和垂直错切角度;此外,针对字符本身的结构对于垂直错切角度检测的影响,提出相应的解决策略;最终使用3000张情况各异的车牌进行实验;实验结果表明,在正确率比现有传统方法略高的情况下,算法效率也得到大幅提升。\n",
      "\n"
     ]
    },
    {
     "name": "stderr",
     "output_type": "stream",
     "text": [
      "\r",
      " 50%|████▉     | 496/1000 [03:32<03:28,  2.42it/s]"
     ]
    },
    {
     "name": "stdout",
     "output_type": "stream",
     "text": [
      "典 型 金 属 立 体 目 标 的 毫 米 波 辐 射 特 性 研 究\n",
      "金 属 立 体 目 标 的 毫 米 波 辐 射 特 性 研 究\n",
      "针对规则金属立体目标的毫米波辐射特性数据库不完善的问题,对金属球、金属柱和金属立方体3种典型目标分别进行3mm和8mm 2个波段辐射特性研究,并对比分析不同结构对目标毫米波辐射特性的影响;通过理论计算金属平面目标天线温度对比度,利用面元法推导出天线主波束范围内的金属立体目标表面的视在温度;在此基础上使用辐射计对不同金属立体目标进行实际的测量,分析了造成视在温度差异的原因;实验丰富了金属立体目标的毫米波辐射特性数据库,为典型金属立体目标成像和目标识别提供准确有效的数据支持。\n",
      "\n"
     ]
    },
    {
     "name": "stderr",
     "output_type": "stream",
     "text": [
      "\r",
      " 50%|████▉     | 497/1000 [03:33<03:16,  2.56it/s]"
     ]
    },
    {
     "name": "stdout",
     "output_type": "stream",
     "text": [
      "基 于 路 径 预 测 人 工 势 场 法 的 自 动 跟 随 小 车 路 径 规 划\n",
      "基 于 人 工 势 场 法 的 动 态 路 径 规 划 方 法\n",
      "针对自动跟随小车实际工作环境下目标点和障碍物具有可移动特征,在传统人工势场法的基础上提出一种具有动态路径预测功能的路径规划方法;通过实时采集和计算小车、目标点和障碍物的距离、运动速度和方向,预测未来三者之间可能的位置关系;根据目标点预测结果采用人工势场法确定接近目标点路径,根据预测的障碍点运行轨迹确定绕过障碍点的路径;将基于路径预测人工势场法与传统人工势场法进行仿真对比,结果表明该方法在跟随效率和避障能力上具有显著的提高。\n",
      "\n"
     ]
    },
    {
     "name": "stderr",
     "output_type": "stream",
     "text": [
      "\r",
      " 50%|████▉     | 498/1000 [03:33<03:15,  2.57it/s]"
     ]
    },
    {
     "name": "stdout",
     "output_type": "stream",
     "text": [
      "航 天 器 通 用 s p a c e w i r e 总 线 路 由 单 元 的 研 究 与 实 现\n",
      "一 种 航 天 器 通 用 s p a c e w i r e 总 线 由 单 元 的 设 计\n",
      "为满足日益增长的航天器各系统间高速数据多路传输的需求,对SpaceWire高速数据总线特点进行了研究,提出了一种航天器通用SpaceWire总线路由单元的设计方法,采取了标准化SpaceWire总线接口,支持多个SpaceWire接口的自适应路由功能,可实现组网设备的即插即用;同时采用中央控制器进行高级协议算法处理,支持网络分布式中断管理功能,实现网络节点的事件触发式交互控制功能,总线数据包能够按照配置参数能够在任意SpaceWire端口间的一对一路由传输、一对多组播传输;经试验测试路由单元可以支持路由端口数最多达18个,每路接口工作速率最大可达到200Mbps,其提供的通用功能能够满足大部分航天器SpaceWire网络的需求。\n",
      "\n"
     ]
    },
    {
     "name": "stderr",
     "output_type": "stream",
     "text": [
      "\r",
      " 50%|████▉     | 499/1000 [03:34<03:15,  2.57it/s]"
     ]
    },
    {
     "name": "stdout",
     "output_type": "stream",
     "text": [
      "线 阵 c c d 精 度 靶 图 像 触 发 算 法 设 计\n",
      "精 简 线 阵 c c d 精 度 靶 触 发 采 集 算 法 研 究\n",
      "针对线阵CCD精度靶测量弹丸坐标时需要额外触发光幕发送触发信号来决定其何时开始采集的问题;在图像采集过程中,设计一种图像触发算法在接收线阵CCD相机的图像数据信号的同时自动检测弹丸并实时发送触发信号;通过研究弹丸图像的特性以及算法在FPGA上的硬件实现方法,利用当前采集到的图像对算法进行了实验验证;实验验证表明,该算法可有效识别弹丸信号,并能排除其它非弹丸信号的干扰;该算法对提高线阵CCD精度靶触发精度,精简线阵CCD精度靶结构具有十分重要的意义。\n",
      "\n"
     ]
    },
    {
     "name": "stderr",
     "output_type": "stream",
     "text": [
      "\r",
      " 50%|█████     | 500/1000 [03:34<03:23,  2.46it/s]"
     ]
    },
    {
     "name": "stdout",
     "output_type": "stream",
     "text": [
      "无 控 制 条 件 下 机 载 l i d a r 航 带 拟 稳 平 差 方 法\n",
      "无 控 制 条 件 下 机 载 l i d a r 航 带 平 差 方 法\n",
      "针对无控制条件下机载LiDAR测区数据在平差过程中,由于受平差基准选取因素的影响,或难以补偿因POS系统导致的系统偏差,或容易造成误差累积的问题,提出了一种机载LiDAR航带拟稳平差方法;首先介绍了航带平差方法采用的航带形变模型,然后提出了航带拟稳平差模型,并推导了航带拟稳平差约束条件,同时可根据测区实际情况调整拟稳基准权值;最后利用该模型进行机载LiDAR航带平差;实验表明,该方法能够在无控制条件下有效减弱或消除机载LiDAR数据的系统误差,同时抑制航带平差过程中累积误差的产生,从而提高点云数据的质量和精度。\n",
      "\n"
     ]
    },
    {
     "name": "stderr",
     "output_type": "stream",
     "text": [
      "\r",
      " 50%|█████     | 501/1000 [03:35<03:35,  2.31it/s]"
     ]
    },
    {
     "name": "stdout",
     "output_type": "stream",
     "text": [
      "基 于 f p g a + c o m   e x p r e s s 的 基 带 数 字 信 号 处 理 平 台 设 计\n",
      "基 于 f p g a + c o m   r f i d 的 基 带 数 字 处 理 平 台 设 计\n",
      "针对卫星信号分离系统运算量大,实时性要求高的特点,设计了一种基于FPGA+COM Express的基带数字处理平台通过对系统需求的分析,构建系统的硬件架构,将系统分为运算模块、网络接口模块、A/D电路、D/A电路、电源变换电路和时钟管理电路等部分,然后根据各部分的具体需求确定主要芯片的选择和电路的具体设计;根据系统特点,将系统运算分为两类,将数据运算量大,实时性要求高但结构简单的部分用FPGA实现,将数据量少但控制结构复杂、实时性要求低的部分用COM Express实现;经测试,该平台能够满足卫星信号分离系统的运算需求和实时性要求;该方案可作为通用数字基带处理平台,能够灵活实现常用的基带数字信号处理系统所需的信号采集、运算、控制和输出,具有设计灵活多样,开发简单易行,研发周期短等优点。\n",
      "\n"
     ]
    },
    {
     "name": "stderr",
     "output_type": "stream",
     "text": [
      "\r",
      " 50%|█████     | 502/1000 [03:35<03:47,  2.19it/s]"
     ]
    },
    {
     "name": "stdout",
     "output_type": "stream",
     "text": [
      "基 于 c o t s   s o c 的 星 载 微 型 g n s s 接 收 机 硬 件 设 计\n",
      "基 于 c o t s 和 s o c 技 术 的 星 载 微 型 导 航 接 收 机 设 计\n",
      "卫星平台的小型化使小卫星、纳卫星及皮卫星等微小卫星成为研究热点。针对微小卫星对星载导航接收机小型化、低功耗、低成本等要求,提出一种基于COTS(Commercial off-the-shelf)组件和SoC技术构建星载微型导航接收机的硬件设计方法。该设计包括射频模块,基带处理模块、时钟模块和电源管理模块。实测表明,该导航接收机原理样机重约45g,尺寸100mm×60mm,功耗约3 W,兼容处理GPS L1/L2、BD2B1/B2信号,可完成双模、双频、双模双频等多种模式的配置,符合微小卫星对导航接收机提出的技术要求,为微小卫星等空间飞行器的卫星导航提供了新的思路。\n",
      "\n"
     ]
    },
    {
     "name": "stderr",
     "output_type": "stream",
     "text": [
      "\r",
      " 50%|█████     | 503/1000 [03:35<03:34,  2.31it/s]"
     ]
    },
    {
     "name": "stdout",
     "output_type": "stream",
     "text": [
      "基 于 网 格 化 压 缩 挖 掘 船 舶 航 道 位 置 信 息\n",
      "基 于 网 格 化 压 缩 的 船 舶 航 道 挖 掘 算 法\n",
      "由于海上目标的异常多为位置异常,为了实现海上军事目标在位置上的异常检测,需要挖掘出海上正常船舶航道的位置信息;针对传统航道挖掘方法多基于单一目标的小样本进行,而无法实现海量数据挖掘航道的问题,提出了一种基于网格化压缩挖掘船舶航道位置信息的算法;该算法首先采用网格化压缩的方法提高了计算效率;之后采用九宫格矢量化方法重构了航迹方向属性;最后通过设置变阈值实现不同方向上的主航道位置信息的提取;实验结果表明网格化压缩方法有效压缩了原始数据,提高了计算效率;同时在适当的阈值下可以有效挖掘出航道的位置信息。\n",
      "\n"
     ]
    },
    {
     "name": "stderr",
     "output_type": "stream",
     "text": [
      "\r",
      " 50%|█████     | 504/1000 [03:36<03:26,  2.40it/s]"
     ]
    },
    {
     "name": "stdout",
     "output_type": "stream",
     "text": [
      "无 砟 轨 道 扣 件 快 速 匹 配 定 位 方 法 研 究\n",
      "无 砟 轨 道 扣 件 快 速 匹 配 定 位 算 法\n",
      "针对现有扣件定位方法速度慢、定位不准确的问题,结合无砟轨道的特点,提出一种无砟轨道扣件快速匹配定位算法;该算法针对传统匹配算法运算量大、匹配结果不准确的缺点,采用梯度法求取扣件图像的方向场,并根据钢轨区域方向场的各向一致性,锁定扣件感兴趣区域,实现图像裁剪,减少模板搜索空间;模板匹配则通过计算模板和图像方向场对应点之间的绝对值距离实现扣件匹配定位,并利用方向场采样、基于统计方法确定搜索起点位置、随机抽样一致性等方法提高匹配速度和精度;实验结果表明,该算法匹配速度快、鲁棒性强,能够满足扣件检测识别中对扣件匹配的实时性和准确性的要求,与传统的模板匹配定位方法相比,速度提高了30%左右,且对于不同光线条件下的匹配成功率均大于95%。\n",
      "\n"
     ]
    },
    {
     "name": "stderr",
     "output_type": "stream",
     "text": [
      "\r",
      " 50%|█████     | 505/1000 [03:36<03:21,  2.46it/s]"
     ]
    },
    {
     "name": "stdout",
     "output_type": "stream",
     "text": [
      "一 种 卫 星 任 务 解 译 闭 环 仿 真 验 证 系 统 的 设 计 与 实 现\n",
      "卫 星 任 务 解 译 闭 环 仿 真 验 证 系 统 设 计\n",
      "卫星任务解译闭环仿真验证系统,有效解决了目前卫星任务规划的验证仿真、修改反演等关键环节,能够保证卫星任务规划的正确实施,替代传统星务测试床,将任务块解译为星务主机可执行的指令集合;另外可通过本系统对任务块中的参数、任务块的设置进行修改、重新生成任务块并对其进行迭代分析以保证正确性,提高任务块生成的效率及可靠性,将最终生成的正确任务块的解译结果与任务规划系统生成的动作序列进行比对,可验证任务规划的正确性及合理性;减少岗位人员及人工操作,缩短了测试所需时间,提高了测试效率;高效测试方案已应用于卫星地面测试中,应用效果良好。\n",
      "\n"
     ]
    },
    {
     "name": "stderr",
     "output_type": "stream",
     "text": [
      "\r",
      " 51%|█████     | 506/1000 [03:37<03:24,  2.42it/s]"
     ]
    },
    {
     "name": "stdout",
     "output_type": "stream",
     "text": [
      "基 于 z y n q   7 0 0 0 的 s 波 段 u s b 应 答 机 设 计\n",
      "基 于 改 进 的 s 波 段 u s b 应 答 机 的 设 计\n",
      "文章目的在于在ZYNQ 7000的基础上设计一款小型的S波段USB应答机,以缩小应答机的体积,降低应答机的功耗;文章首先对于ZYNQ的优势做了简单的介绍,并基于ZYNQ 7000提出了USB应答机的设计方案,论述了调制、解调中的关键技术和工作原理;应答机工作过程如下:卫星进入在轨飞行段时,应答机接收地面测控站发射的上行遥控副载波信号,解调后将遥控PCM码流通过与卫星其他分系统接口发送至相关设备;接收地面测控站发射的上行测距信号,将变频后的测距基带信号进行本地上变频后对地发送;通过UART串口接收PCM遥测数据,将调制后的遥测数据通过遥测副载波发送至地面站;同时,将内部的遥测信息通过串口发送至其它分系统;即该应答机在非扩频模式下具有测距、解调遥控指令和发射遥测副载波的功能;应答机上下变频部分采用了集成的芯片,将电路进行了简化;ZYNQ及集成芯片的使用都大大地缩小了应答机的体积,降低了应答机的功耗。\n",
      "\n"
     ]
    },
    {
     "name": "stderr",
     "output_type": "stream",
     "text": [
      "\r",
      " 51%|█████     | 507/1000 [03:37<03:12,  2.57it/s]"
     ]
    },
    {
     "name": "stdout",
     "output_type": "stream",
     "text": [
      "基 于 多 传 感 器 的 无 人 机 避 障 方 法 研 究 及 应 用\n",
      "无 人 机 多 旋 翼 无 人 机 融 合 方 法 及 其 应 用\n",
      "随着无人机巡检作业方式应用越来越广泛,巡检过程中对障碍物检测并进行避障显得愈发关键;若无人机碰到杆塔或线路不仅会造成无人机自身的损坏,还会对居民用电造成影响,给检修带来麻烦;毫米波雷达、激光雷达、双目视觉传感器在机器人避障中有广泛应用;但是基于输电线路巡检的多旋翼无人机的实际情况,传感器器件的选型、尺寸、重量,以及障碍物信息与飞控的融合,显得尤为重要;通过对多旋翼无人机搭载毫米波雷达、双目视觉传感器、差分GPS进行了研究,采用多传感器融合方法检测障碍物,利用虚拟力场法(VFF)进行航迹重规划,并实际飞行验证;测试表明该方法对杆塔避障取得了较好的应用效果。\n",
      "\n"
     ]
    },
    {
     "name": "stderr",
     "output_type": "stream",
     "text": [
      "\r",
      " 51%|█████     | 508/1000 [03:37<03:08,  2.61it/s]"
     ]
    },
    {
     "name": "stdout",
     "output_type": "stream",
     "text": [
      "飞 行 器 综 合 测 试 设 备 可 靠 安 全 接 地 设 计\n",
      "飞 行 器 综 合 测 试 系 统 接 地 设 计 与 实 现\n",
      "飞行器综合测试主要对电气系统各功能及接口的协调性和匹配性进行全面的综合检查;测试设备接地不正确,可能干扰地面设备和飞行器产品,甚至将危险电压引到飞行器上;为实现综合测试可靠安全接地,简要介绍接地的概念和作用,说明良好的接地是保护人身安全、保障电气系统正常运行、防止雷击和静电危害的有效方法;结合飞行器综合测试系统功能和组成,将系统划分为供电设备、测试设备和控制设备,分析了各类设备的接地原则和方法,即确保安全和兼顾电磁兼容特性,测试设备接口不能干扰飞行器上产品正常工作,最后提出测试设备接地安全保证措施,包括试验前,对场地和设备接地的检查、设备接地与供电要求、操作规定、连接前测试等方面,为航天项目产品研制提供参考。\n",
      "\n"
     ]
    },
    {
     "name": "stderr",
     "output_type": "stream",
     "text": [
      "\r",
      " 51%|█████     | 509/1000 [03:38<03:05,  2.64it/s]"
     ]
    },
    {
     "name": "stdout",
     "output_type": "stream",
     "text": [
      "航 天 器 制 造 过 程 多 余 物 控 制 机 器 视 觉 方 法 综 述\n",
      "航 天 产 品 机 器 视 觉 多 余 物 检 测 研 究 综 述\n",
      "多余物控制是航天产品智能制造过程中的最大难题之一,而多余物检测是控制的基础;由于航天产品结构复杂性和多余物特征的多样性,没有一个数据集基准,多余物的机器视觉在线检测仍面临着很多挑战;介绍了多余物产生的危害和检测的必要性,对多余物检测技术的国内外发展现状进行阐述,分析对比了各自优缺点,重点介绍视觉多余物检测,并综合分析了智能制造过程多余物机器视觉控制特点;对机器视觉多余物检测技术进行分类,从智能实验室的角度,提出了机器视觉多余物检测面临的难点和可能的解决方案。\n",
      "\n"
     ]
    },
    {
     "name": "stderr",
     "output_type": "stream",
     "text": [
      "\r",
      " 51%|█████     | 510/1000 [03:38<02:56,  2.77it/s]"
     ]
    },
    {
     "name": "stdout",
     "output_type": "stream",
     "text": [
      "基 于 专 家 知 识 和 模 糊 推 理 的 大 科 学 装 置 故 障 诊 断 方 法\n",
      "模 糊 专 家 系 统 故 障 诊 断 技 术 研 究\n",
      "针对大科学装置技术综合、结构复杂、系统庞大,在故障诊断方面面临的故障机理不清楚,难以建立精确的数学模型;诊断信息不完整、不精确,难以进行确定性推理;诊断数据受限,无法实现数据驱动等诸多问题;提出了基于专家知识和模糊推理相结合的故障诊断方法和模式匹配算法,通过模糊因子的引入和基于数据库的模糊诊断知识可视化建模方法的使用,解决了故障诊断环节的诸多不确定性问题,形成了面向用户的模糊专家系统故障诊断基础平台,并在某大型激光驱动装置测试验证平台中得到初步应用,实现了电气驱动及控制系统故障的智能诊断。\n",
      "\n"
     ]
    },
    {
     "name": "stderr",
     "output_type": "stream",
     "text": [
      "\r",
      " 51%|█████     | 511/1000 [03:38<03:16,  2.49it/s]"
     ]
    },
    {
     "name": "stdout",
     "output_type": "stream",
     "text": [
      "基 于 膜 聚 类 算 法 的 风 机 振 动 故 障 诊 断\n",
      "膜 聚 类 算 法 在 风 机 振 动 故 障 在 线 智 能 诊 断 中 的 应 用\n",
      "在工业环境下,风机振动故障常常需要人工诊断,诊断效率低,不易完成实时计算和在线分析判断;针对上述问题,提出了一种膜聚类算法可用于风机振动故障的在线智能诊断;该算法将膜计算的方法引入到聚类中,并采用概率模型更新种群的方法实现最佳聚类中心的寻优;算法首先在多个数据集上进行聚类实验,实验结果显示该算法克服了常规聚类算法聚类结果不稳定,聚类质量差的缺点;然后将其应用于风机振动故障在线诊断系统中进行仿真测试,结果显示所采用的方法能满足风机振动故障在线智能诊断要求,也可应用于其他各类设备的振动故障在线智能诊断。\n",
      "\n"
     ]
    },
    {
     "name": "stderr",
     "output_type": "stream",
     "text": [
      "\r",
      " 51%|█████     | 512/1000 [03:39<03:27,  2.35it/s]"
     ]
    },
    {
     "name": "stdout",
     "output_type": "stream",
     "text": [
      "基 于 l a b v i e w 的 高 能 质 子 束 流 密 度 分 布 测 试 系 统\n",
      "基 于 l a b v i e w 的 高 能 质 子 束 流 密 度 分 布 测 试 系 统 设 计\n",
      "主要介绍一套基于LabVIEW平台设计的高能质子束流密度分布测试系统,服务于电子器件抗辐射加固试验,用于加速器的辐射剂量测量;它由法拉第杯探测器,移动平台控制系统和基于LabVIEW的控制与数据获取软件三部分组成,具有对法拉第杯位置控制、静电计读写、智能化测量、数据实时处理等功能;性能测试显示该质子束流测量系统能实现亚pA级电流的测量,20pA量程时的测量精度为5%,解决了弱流质子束的测量问题;该系统具有可靠性高、可扩充性好、抗干扰能力强的特点,同时实验结果表明测得的质子束流密度分布,能准确评估电子器件辐射环境与剂量,为半导体器件抗辐射加固设计提供支撑。\n",
      "\n"
     ]
    },
    {
     "name": "stderr",
     "output_type": "stream",
     "text": [
      "\r",
      " 51%|█████▏    | 513/1000 [03:39<03:06,  2.61it/s]"
     ]
    },
    {
     "name": "stdout",
     "output_type": "stream",
     "text": [
      "基 于 协 同 优 化 算 法 的 流 速 仪 检 定 系 统 设 计\n",
      "一 种 改 进 的 多 学 科 协 同 优 化 方 法\n",
      "提出了一种小型轻便的流速仪检定系统的设计方案,并运用改进的多学科协同优化方法求解各学科设计变量的最优解;首先介绍了算法思想及改进措施,并根据系统设计要求建立了各学科的设计变量、目标函数和约束条件;其次,运用遗传算法求解各学科设计变量的最优解,并根据优化结果完善了系统的设计方案,同时运用计算机仿真等方法验证了优化结果的可行性;结果表明,优化后的检定系统满足流体力学效应、匀速运动时间、系统重量等设计要求,同时证明了协同优化算法解决多学科设计优化问题的有效性。\n",
      "\n"
     ]
    },
    {
     "name": "stderr",
     "output_type": "stream",
     "text": [
      "\r",
      " 51%|█████▏    | 514/1000 [03:40<03:07,  2.59it/s]"
     ]
    },
    {
     "name": "stdout",
     "output_type": "stream",
     "text": [
      "基 于 n i 实 时 控 制 器 的 六 自 由 度 平 台 测 控 系 统 设 计 与 实 现\n",
      "六 自 由 度 平 台 测 控 系 统 的 n i 设 计 与 实 现\n",
      "六自由度平台测控系统是六自由度平台的电气控制部分,它通过对六路液压缸的实时闭环控制,实现对平台位姿的控制;该测控系统采用NI的计算机,配置多种类型的PXI板卡,实现了对平台的电压、电流、数字IO、CAN总线等多种接口类型的测量和控制,满足了可靠性需求;采用了典型的上下位机控制,分别进行实时计算与任务管理,解决了实时性的控制需求;采用NI的虚拟仪器Labview开发测控软件,完成实时计算平台的正解与反解模块,作动器闭环控制等功能,增强系统的功能和灵活性;目前六自由度平台测控系统的硬件部分和软件部分都已经通过了调试,对系统进行了正弦运动和暂态特性测试,实验结果表明,运行速度快,满足了平台的控制要求。\n",
      "\n"
     ]
    },
    {
     "name": "stderr",
     "output_type": "stream",
     "text": [
      "\r",
      " 52%|█████▏    | 515/1000 [03:40<03:21,  2.41it/s]"
     ]
    },
    {
     "name": "stdout",
     "output_type": "stream",
     "text": [
      "激 光 引 信 收 发 视 场 测 试 及 数 据 处 理\n",
      "基 于 宽 光 束 的 激 光 引 信 收 发 视 场 的 测 试 方 法\n",
      "要批量生产导弹激光引信,就要快速测试激光引信的各种测量参数;使用通常方法,完成各项测试所需时间较长,不利于批量生产激光引信产品;为了快速获得发射视场与接收视场的各项测量参数,针对采用宽光束的激光引信,采用激光引信收发视场的一次测量,根据所得测试数据,进行数据处理的方法;由测试数据可以计算出收发视场的匹配系数,并推导了在已知目标反射率和面积情况下,计算引信作用距离随视野分布所用的公式,可以避免实际测量带来的耗时;通过的实验验证,发现理论计算值基本与实际测量值的误差较小,可以认为它们基本相同;利用该计算方法可以在实验室测试引信收发组件后,快速计算出每套引信窗口的作用距离曲线,可以避免和减少实物测试的麻烦。\n",
      "\n"
     ]
    },
    {
     "name": "stderr",
     "output_type": "stream",
     "text": [
      "\r",
      " 52%|█████▏    | 516/1000 [03:41<03:15,  2.47it/s]"
     ]
    },
    {
     "name": "stdout",
     "output_type": "stream",
     "text": [
      "基 于 物 联 网 的 车 辆 碰 撞 监 测 系 统 设 计 与 研 究\n",
      "基 于 物 联 网 的 高 速 路 车 祸 监 测 定 位 系 统 设 计\n",
      "针对当前高速路车祸频发,难以对事故发生地准确快速定位而导致救援响应滞后的现状,提出了一种基于物联网的车辆碰撞监测定位系统;其搭载的加速度智能螺栓传感器能有效感知碰撞物理信号,数据传输模块中将LoRa技术和4G传输的结合实现了信号的远程同步实时传输,监测系统平台阈值隔离算法能有效分辨干扰信号和碰撞信号;经测试:该系统实现了对监测路段范围的有效实时监控,软件平台能在20秒内通过对碰撞信息的快速处理判断车祸所发生的具体位置、严重程度及发生时间等车祸信息,对于进一步提升高速路车祸救援响应效率、保障人民的生命财产安全具有重要的指导意义。\n",
      "\n"
     ]
    },
    {
     "name": "stderr",
     "output_type": "stream",
     "text": [
      "\r",
      " 52%|█████▏    | 517/1000 [03:41<03:11,  2.52it/s]"
     ]
    },
    {
     "name": "stdout",
     "output_type": "stream",
     "text": [
      "基 于 嵌 入 式 技 术 的 测 试 设 备 远 程 监 控 数 据 采 集 设 备\n",
      "基 于 嵌 入 式 技 术 的 测 试 设 备 远 程 监 控 数 据 采 集 设 备\n",
      "为满足导弹测试设备远程监控数据采集的需要,基于嵌入式技术设计了一种测试设备远程监控数据采集设备;它以嵌入式计算机为核心,作为整个测试设备远程实时运行监控管理系统前端信息采集处理设备,分布配置在各测试现场,用于获取测试现场相关信息,并上报到监控中心,是监控中心主要信息的来源;实验结果表明,该数据采集设备结构简便、功能强大、运行稳定,易于扩展,能够完成导弹测试设备远程监控数据采集功能。\n",
      "\n"
     ]
    },
    {
     "name": "stderr",
     "output_type": "stream",
     "text": [
      "\r",
      " 52%|█████▏    | 518/1000 [03:41<02:56,  2.73it/s]"
     ]
    },
    {
     "name": "stdout",
     "output_type": "stream",
     "text": [
      "轨 道 扣 件 检 测 系 统 设 计 与 分 析\n",
      "基 于 结 构 的 轨 道 扣 件 检 测 系 统 设 计\n",
      "为了满足轨道扣件动态检测的需求,设计了一种轨道扣件检测系统,包括照明系统、摄像系统等并通过悬挂系统安装在转向架构架前端;通过关键设备参数的选型计算,设计了安装结构然后校核悬挂系统的螺栓强度,验证其螺栓连接的可靠性;并对整体结构采用ANSYS Workbench有限元分析以及实验室验证,系统符合要求,满足线路的检测需要。\n",
      "\n"
     ]
    },
    {
     "name": "stderr",
     "output_type": "stream",
     "text": [
      "\r",
      " 52%|█████▏    | 519/1000 [03:42<03:06,  2.58it/s]"
     ]
    },
    {
     "name": "stdout",
     "output_type": "stream",
     "text": [
      "基 于 组 态 软 件 的 混 凝 土 预 制 板 生 产 线 监 控 系 统 设 计\n",
      "基 于 计 算 机 组 态 软 件 的 混 凝 土 预 制 板 集 中 监 控 系 统 设 计\n",
      "针对混凝土预制板生产线集中监控问题,设计了一套基于计算机组态软件和工业以太网的集中监控系统;分析了混凝土预制板生产工艺流程,研究了生产线的工位布局;采用计算机集中管理,PLC分散控制的方式构建了系统硬件架构;利用力控ForceControl组态软件进行开发,设计了多人机交互界面,并论述了采取的控制策略以及脚本程序的实现;经实践验证,系统运行稳定、灵活性好、实用性强,满足用户对生产线集中管理、监视及自动控制的需求。\n",
      "\n"
     ]
    },
    {
     "name": "stderr",
     "output_type": "stream",
     "text": [
      "\r",
      " 52%|█████▏    | 520/1000 [03:42<03:09,  2.54it/s]"
     ]
    },
    {
     "name": "stdout",
     "output_type": "stream",
     "text": [
      "用 电 设 备 运 行 状 态 监 控 系 统 设 计 与 实 现\n",
      "基 于 电 流 检 测 的 用 电 设 备 运 行 状 态 监 控 系 统 设 计\n",
      "用电设备工作电流在一定程度上能反映设备运行状况,所设计的基于电流检测的用电设备运行状态监控系统中,采集节点采用STM32F411作为主控芯片,以新型数字型电流检测芯片HLW8032采集用电设备电流,WiFi收发模块连接路由接入网络后,将电流数据传输到云服务器的数据库保存,云服务器采用轻量级企业集成框架Struts+Hibernate+Spring+DWR+JQuary开发,使用JAVA的面向对象设计模式;用户通过浏览器登录系统可查看用电设备的运行状态、使用时长、过载报警情况等等,实现对用电设备远程实时监控;实验证明:系统运行稳定,能实现对用电设备电流值的准确采集。\n",
      "\n"
     ]
    },
    {
     "name": "stderr",
     "output_type": "stream",
     "text": [
      "\r",
      " 52%|█████▏    | 521/1000 [03:43<03:25,  2.33it/s]"
     ]
    },
    {
     "name": "stdout",
     "output_type": "stream",
     "text": [
      "基 于 s m i t h 预 估 补 偿 的 聚 丙 烯 反 应 器 自 适 应 控 制 系 统 研 究\n",
      "时 滞 聚 丙 烯 多 区 循 环 反 应 器 温 度 串 级 控 制 系 统\n",
      "针对含有时滞的聚丙烯多区循环反应器温度串级控制系统为复杂的高阶系统,被控对象的滞后时间较大,且受到反应器内部放热、入口循环气温度、夹套水流量等干扰的影响,系统过程控制较为困难;通过以一阶惯性环节加纯滞后来逼近高阶系统,应用模型参考自适应控制算法,使自适应机构能够在线的整定反应器串级控制副回路的Smith预估器,使副回路Smith预估器的动态特性与副被控对象的动态特性接近一致;同时,根据期望的性能指标,在串级控制主回路设置一个参考模型,再次应用自适应算法,使得主回路被控对象的输出尽可能跟踪参考模型的输出;仿真结果表明,该控制系统对于具有时滞的聚丙烯反应器温度控制是有效的。\n",
      "\n"
     ]
    },
    {
     "name": "stderr",
     "output_type": "stream",
     "text": [
      "\r",
      " 52%|█████▏    | 522/1000 [03:43<03:01,  2.63it/s]"
     ]
    },
    {
     "name": "stdout",
     "output_type": "stream",
     "text": [
      "电 器 试 验 设 备 远 程 监 控 系 统 设 计 与 实 现\n",
      "基 于 w e b 的 远 程 监 控 系 统 设 计\n",
      "针对现有电器试验设备监控系统的一些缺陷,设计了一种基于Web的远程监控系统,用于实时监控设备运行状况和试验数据;介绍了系统的总体结构和系统功能;根据系统的功能需求设计了数据库,实现了系统对不同类型、不同地点的试验设备的通用化;利用Redis缓存降低了磁盘I/O,提高了系统的响应速度;在保证安全的情况下,实现了对试验设备的远程启停控制;通过WebSocket技术和Redis订阅发布模式,实现了由设备端到客户端的高效数据推送;利用ECharts框架实现了静态和动态试验结果数据的可视化;经测试,系统运行效果符合预期,证明了以上方法的可行性。\n",
      "\n"
     ]
    },
    {
     "name": "stderr",
     "output_type": "stream",
     "text": [
      "\r",
      " 52%|█████▏    | 523/1000 [03:43<03:13,  2.47it/s]"
     ]
    },
    {
     "name": "stdout",
     "output_type": "stream",
     "text": [
      "基 于 网 络 指 纹 识 别 的 电 力 系 统 应 急 调 度 动 态 控 制 技 术\n",
      "基 于 网 络 指 纹 识 别 的 应 急 调 度 动 态 控 制 技 术 研 究\n",
      "在控制电力系统应急调度工作时,传统方法使用的是用户密码识别动态控制技术,该技术耗费时间长,所需成本高,且产生的工作效果差,难以满足目前电力系统资源调度与管理的要求;为了解决此问题,基于网络指纹识别技术研究了一种新的应急调度动态控制技术,该技术由认证服务器、用户管理、用户权限设置、指纹登录和调度模块组成,通过建立安全区确保环境安全、设备安全、传输介质安全、视频监听安全以及磁盘安全;工作过程分为建立电力资源路由选择表、数据包处理、标记替换、解除电力资源数据包标记四步;与基于用户密码识别的动态控制技术进行对比,从安全性、控制时间和稳定性进行实验研究,研究结果表明,基于网络指纹识别的动态控制技术可以在短时间内取得较好的控制效果,且安全性很高;研究的技术具有很大的市场发展空间,值得大力推广使用。\n",
      "\n"
     ]
    },
    {
     "name": "stderr",
     "output_type": "stream",
     "text": [
      "\r",
      " 52%|█████▏    | 524/1000 [03:44<03:20,  2.37it/s]"
     ]
    },
    {
     "name": "stdout",
     "output_type": "stream",
     "text": [
      "基 于 异 步 优 势 执 行 器 评 价 器 的 自 适 应 p i d 控 制\n",
      "基 于 异 步 优 势 执 行 器 评 价 器 自 适 应 p i d 控 制 器 设 计\n",
      "自适应PID较好地解决了传统PID无法自整定参数的问题,已成为控制领域内的研究热点;研究基于异步优势执行器评价器(Asynchronous Advantage Actor-Critic,A3C)算法设计了一种新的自适应PID控制器;该控制器利用A3C结构的多线程异步学习特性,并行训练多个执行器评价器(Actor-Critic,AC)结构的智能体,每个智能体采用多层前馈神经网络逼近策略函数和值函数实现在连续动作空间中搜索最优的参数整定策略,以达到最佳的控制效果;与已有的多种自适应PID控制器性能对比分析结果表明该方法具有收敛速度快,自适应能力强的特点。\n",
      "\n"
     ]
    },
    {
     "name": "stderr",
     "output_type": "stream",
     "text": [
      "\r",
      " 52%|█████▎    | 525/1000 [03:44<03:17,  2.40it/s]"
     ]
    },
    {
     "name": "stdout",
     "output_type": "stream",
     "text": [
      "佳 拉 洁 雅 装 置 时 序 控 制 系 统 的 设 计 与 实 现\n",
      "基 于 l a b v i e w 的 佳 拉 洁 雅 时 序 控 制 系 统 设 计\n",
      "为了更加精确地研究佳拉洁雅装置中的各项参数,建立探针和时序控制系统在佳拉洁雅装置中的数学模型,选取PCI-1780U开关量板卡作为硬件核心构建时序控制系统,使用LabVIEW进行时序控制系统的上位机程序编写;构建整个时序控制系统的软硬件结构后通过实验验证佳拉洁雅装置中各部分输出的时序脉冲与理论值之间的差异,得出装置中各部分时序控制脉冲间的对应关系。\n",
      "\n"
     ]
    },
    {
     "name": "stderr",
     "output_type": "stream",
     "text": [
      "\r",
      " 53%|█████▎    | 526/1000 [03:45<03:30,  2.25it/s]"
     ]
    },
    {
     "name": "stdout",
     "output_type": "stream",
     "text": [
      "一 种 遥 感 卫 星 动 量 轮 容 错 控 制 的 方 法 研 究\n",
      "基 于 卡 尔 曼 滤 波 的 低 轨 遥 感 卫 星 容 错 控 制 研 究\n",
      "针对低轨遥感卫星动量轮故障频发影响姿态稳定的情况,对以动量轮为执行器的低轨遥感卫星进行容错控制研究,提出一种结合卡尔曼滤波及模糊PID控制率的容错控制方法;首先建立低轨遥感卫星动量轮故障模型,应用卡尔曼滤波算法进行噪声滤除,然后根据卡尔曼滤波的结果,设计模糊PID容错控制器,并与传统PID容错控制器进行仿真比对实验,在闭环姿态控制系统的容错控制领域验证了该方法的较强自适应性和较强鲁棒性的优点。\n",
      "\n"
     ]
    },
    {
     "name": "stderr",
     "output_type": "stream",
     "text": [
      "\r",
      " 53%|█████▎    | 527/1000 [03:45<03:30,  2.25it/s]"
     ]
    },
    {
     "name": "stdout",
     "output_type": "stream",
     "text": [
      "基 于 云 平 台 的 多 电 网 调 峰 调 度 自 动 控 制 系 统 设 计\n",
      "新 型 多 电 网 调 峰 调 度 自 动 控 制 系 统 运 行 环 境 设 计\n",
      "传统电网控制系统存在调度运行模式稳定性较差、调峰控制数据循环时间过长等弊端;为解决上述问题,设计基于云平台的新型多电网调峰调度自动控制系统;在云平台控制框架结构中,协调多电网自动调度模块、调峰执行单元间的平衡关系,完成新型系统的硬件运行环境搭建;在此基础上,通过组态端结构分解的方式,完善PLC调峰指令的存在形式,并根据多电网控制指令的流通周期,完善数据的循环运行流程,完成系统的软件运行环境搭建,实现基于云平台多电网调峰调度自动控制系统的顺利运行;模拟对比实验结果显示,与传统电网控制系统相比,应用新型系统后,调度运行模式稳定性差、调峰控制数据循环时间长的现象得到明显缓解。\n",
      "\n"
     ]
    },
    {
     "name": "stderr",
     "output_type": "stream",
     "text": [
      "\r",
      " 53%|█████▎    | 528/1000 [03:45<03:12,  2.45it/s]"
     ]
    },
    {
     "name": "stdout",
     "output_type": "stream",
     "text": [
      "双 p w m 变 换 器 的 异 步 电 机 矢 量 控 制 系 统 设 计\n",
      "一 种 异 步 电 机 矢 量 控 制 系 统 设 计\n",
      "针对传统的双PWM变换器的异步电机矢量控制误差率很高这一问题,设计了一种新的异步电机矢量控制系统,分别对系统硬件和软件进行设计,硬件架构图中重点对硬件电机结构、DSP芯片和编程器进行设计;根据设计的系统硬件建立软件工作流程,软件共分为系统初始化、中断控制、PWM信号封锁、报警保护和数据通信共5步,对每一个工作步骤做了详细的阐述;通过仿真实验验证了该矢量控制系统的实际工作效果,实验结果表明,所设计的系统具有很强的鲁棒性,控制性能远远好于传统系统,市场发展潜能大,对于异步电机发展有一定的指导意义。\n",
      "\n"
     ]
    },
    {
     "name": "stderr",
     "output_type": "stream",
     "text": [
      "\r",
      " 53%|█████▎    | 529/1000 [03:46<03:55,  2.00it/s]"
     ]
    },
    {
     "name": "stdout",
     "output_type": "stream",
     "text": [
      "变 摩 擦 力 下 板 带 轧 机 垂 扭 耦 合 振 动 控 制 技 术\n",
      "变 摩 擦 力 下 基 于 振 动 摩 擦 模 型 的 板 带 轧 机 垂 扭 耦 合 振 动 控 制\n",
      "当前对板带轧机垂扭耦合振动的控制过程未考虑变摩擦力的影响,无法对振动特性进行准确分析,导致控制效果不理想;提出一种变摩擦力下基于振动摩擦模型的板带轧机垂扭耦合振动控制技术;将垂扭耦合振动参数作为输入向量,理想状态下变摩擦力作为输出向量,确定垂扭耦合振动参数;采用遗传算法对已确定的最优垂扭耦合振动参数进行辨识,构建振动摩擦模型,完成对垂扭耦合振动特性的准确分析,解决控制过程中的变摩擦力影响问题;利用振动摩擦模型对系统位移响应和频域响应振动特性进行控制,实现板带轧机垂扭耦合振动的控制;与传统控制技术进行对比,得出实验结果,所提控制技术控制精度可达98%,能够减小控制过程的变摩擦影响,可对振动特性进行准确分析,大大提高了控制精度。\n",
      "\n"
     ]
    },
    {
     "name": "stderr",
     "output_type": "stream",
     "text": [
      "\r",
      " 53%|█████▎    | 530/1000 [03:47<03:46,  2.08it/s]"
     ]
    },
    {
     "name": "stdout",
     "output_type": "stream",
     "text": [
      "柔 性 内 镜 介 入 机 器 人 模 糊 p i d 控 制 研 究\n",
      "基 于 模 糊 p i d 的 柔 性 内 镜 机 器 人 运 动 学 研 究\n",
      "柔性内镜以其损伤小、检查直观等优势在消化道疾病的诊断与治疗上得到广泛的应用,但其操作困难,因此研发有内镜机器人辅助医生进行内镜操作;在镜下介入手术操作过程中,人体生理活动增加了内镜远程操作的难度;针对生理活动对目标靶点位置的影响,分析内镜弯曲段结构,建立了柔性内镜机器人的运动学模型,并引入模糊PID控制策略来适应人体解剖结构、内镜参数等不确定因素影响,使内镜自动跟踪病灶靶点,避免人重复小范围的跟踪动作,提高控制精度;仿真表明,相对于传统PID控制算法,模糊PID控制算法可加快系统响应,降低系统稳态误差。\n",
      "\n"
     ]
    },
    {
     "name": "stderr",
     "output_type": "stream",
     "text": [
      "\r",
      " 53%|█████▎    | 531/1000 [03:47<03:35,  2.18it/s]"
     ]
    },
    {
     "name": "stdout",
     "output_type": "stream",
     "text": [
      "基 于 s t m 3 2 的 智 能 手 套 机 运 动 控 制 系 统 设 计 与 开 发\n",
      "微 处 理 器 智 能 手 套 机 运 动 控 制 系 统 设 计\n",
      "传统的纯机械齿轮结构自动针织手套机具有结构复杂、效率低下、故障率高、维护成本昂贵等诸多缺点,故多电机结构的智能伺服手套机成为新的发展方向;其中,智能手套机运动控制系统是决定其性能的关键;针对上述问题,设计开发了一款基于STM32F407高性能微处理器的智能手套机运动控制系统,系统实现了高速高精度的编织运动控制,并开发有网络监测、全中文示教编程等功能;同时,为解决主轴机头高速往返运行中存在的停顿现象,根据冲量定理规划其位置控制,针对带来的位置误差问题,设计了基于模糊逻辑的位置补偿控制算法,减小位置误差;最后,经过现场测试,系统能高效地完成手套编织工作,主轴机头重复定位精度高,且人机交互界面简洁易操作;该系统为智能手套机运动控制系统的开发应用提供较好的参考价值。\n",
      "\n"
     ]
    },
    {
     "name": "stderr",
     "output_type": "stream",
     "text": [
      "\r",
      " 53%|█████▎    | 532/1000 [03:47<03:16,  2.38it/s]"
     ]
    },
    {
     "name": "stdout",
     "output_type": "stream",
     "text": [
      "大 数 据 通 信 平 台 的 智 能 集 成 广 域 保 护 控 制 系 统 设 计\n",
      "新 型 智 能 集 成 广 域 保 护 控 制 系 统 设 计\n",
      "传统通信保护控制系统存在信道占用过于单一、控制信息局限性较强等弊端;为解决上述问题,设计基于大数据通信平台的新型智能集成广域保护控制系统;在大数据通信平台框架的基础上,重新规划集成适配模块、广域控制决策模块的连接形式,完成新型系统的硬件运行环境搭建;在此基础上,联合多项广域通信协议,对保护控制驱动程序代码进行重新排列,并根据具体重排结果确定通信数据库的连接形式,完成新型系统软件运行环境搭建,实现基于大数据通信平台智能集成广域保护控制系统的顺利运行;模拟系统运行环境设计对比实验结果表明,与传统通信保护控制系统相比,应用新型系统后,信道占用率达到80%以上,控制信息覆盖面积提升30%左右。\n",
      "\n"
     ]
    },
    {
     "name": "stderr",
     "output_type": "stream",
     "text": [
      "\r",
      " 53%|█████▎    | 533/1000 [03:48<02:59,  2.60it/s]"
     ]
    },
    {
     "name": "stdout",
     "output_type": "stream",
     "text": [
      "a t m l 测 试 系 统 软 件 平 台 架 构 及 测 试 结 果 建 模 研 究\n",
      "基 于 a t m l 标 准 的 自 动 配 置 技 术 研 究\n",
      "ATML是现今测试领域的国际通用标准;在深入学习了ATML标准的基础上,对ATML标准进行简要概述;设计了测试系统软件平台的基本架构,为测试系统的开发提供了依据;为了实现测试结果信息的共享性及交互性,对其中测试结果的描述方法进行了研究,并依据面向对象的思想,建立了测试结果的标准化XML Schema;开发了相应的自动配置工具,该工具可实现测试结果模型自动配置,使得测试信息按统一的格式和规范的内容进行交互。\n",
      "\n"
     ]
    },
    {
     "name": "stderr",
     "output_type": "stream",
     "text": [
      "\r",
      " 53%|█████▎    | 534/1000 [03:48<02:46,  2.81it/s]"
     ]
    },
    {
     "name": "stdout",
     "output_type": "stream",
     "text": [
      "基 于 b / s 架 构 的 管 理 系 统 软 件 开 发\n",
      "基 于 w e b 系 统 的 警 用 自 行 车 管 理 系 统 的 设 计\n",
      "为了优化单位对警用摩托车的管理,使其对车辆调配更加便捷和合理,运用计算机较大的信息存储空间和高性能的处理能力,将摩托车的坐标位置,使用情况,故障情况等车辆基本信息,做出详细的分类和记录,使用户可以直观地在该系统中随时监控车辆信息的变动,并能够及时处理车辆工作中遇到的紧急情况;文章提出了一种基于B/S架构警用摩托车管理系统的设计方案,系统采用WEB方式实现;服务器通过TCP协议获取摩托车终端所采集的数据,并将数据存储到MySQL数据库。文章中详细介绍了服务器对数据的存储,WEB系统的开发和研究,对终端设备的静态数据和动态数据进行分析和呈现。\n",
      "\n"
     ]
    },
    {
     "name": "stderr",
     "output_type": "stream",
     "text": [
      "\r",
      " 54%|█████▎    | 535/1000 [03:48<02:40,  2.90it/s]"
     ]
    },
    {
     "name": "stdout",
     "output_type": "stream",
     "text": [
      "分 布 式 复 杂 系 统 软 件 测 试 建 模 方 法 与 应 用 研 究\n",
      "分 布 式 复 杂 系 统 软 件 测 试 建 模 技 术 研 究\n",
      "针对当前分布式复杂系统软件测试周期短、测试质量要求高、传统的软件测试方法效率低下问题,结合基于模型的软件开发技术广泛应用的现状,研究了软件测试建模技术,定义了分布式复杂系统软件测试模型,提出了分布式复杂系统软件测试建模方法,并分析应用前景,能够支撑软件测试建模及用例生成工具的研制,为分布式复杂系统软件全过程自动化测试及测试复用提供技术方法。\n",
      "\n"
     ]
    },
    {
     "name": "stderr",
     "output_type": "stream",
     "text": [
      "\r",
      " 54%|█████▎    | 536/1000 [03:49<02:58,  2.59it/s]"
     ]
    },
    {
     "name": "stdout",
     "output_type": "stream",
     "text": [
      "高 可 靠 性 小 型 固 体 动 力 运 载 火 箭 时 序 控 制 器 设 计\n",
      "基 于 f p g a 的 高 可 靠 性 的 时 序 控 制 器 设 计 与 实 现\n",
      "阐述了时序控制器电路原理,采用Microsemi公司的A3P250系列FPGA作为控制器,设计了一款高可靠性的时序控制器;围绕可靠性,从结构、硬件及软件设计等方面,介绍了设计方案,该时序控制器在硬件电路设计中采用了安全性设计措施,在时序测试中,能够将火工品点火回路短接,在火工品阻值测试中,能够断开点火回路确保火工品的绝对安全;在软件设计中,采用了FPGA仲裁机制,只有按照预定的测试流程,按照特定的逻辑顺序,才能完成相应的功能;在设计定时器时,采用格雷码计数器,有效地避免了计数器累加时位寄存器翻转产生的亚稳态现象;该时序控制器参加了火箭的多次飞行试验,具有相当的稳定性和可靠性。\n",
      "\n"
     ]
    },
    {
     "name": "stderr",
     "output_type": "stream",
     "text": [
      "\r",
      " 54%|█████▎    | 537/1000 [03:49<03:25,  2.26it/s]"
     ]
    },
    {
     "name": "stdout",
     "output_type": "stream",
     "text": [
      "高 分 遥 感 京 津 冀 一 体 化 服 务 平 台 设 计 与 实 现\n",
      "基 于 w e b g i s 的 高 分 卫 星 遥 感 数 据 京 津 冀 一 体 化 服 务 平 台 设 计\n",
      "为实现国产高分卫星影像在京津冀区域省、市、县、乡多级行政结构的农业、林业和环境保护等领域的快速应用,设计开发了基于WebGIS的高分卫星遥感数据京津冀一体化服务平台;平台采用B/S系统架构设计,通过ArcGIS Server服务器,将ArcSDE空间数据库中的数据发布成动态图层服务,实现海量图层的动态调用;利用ASP.NET三层架构技术,结合SQLServer数据库和ArcGIS API for Javascript脚本,将ArcGIS Server提供的空间数据资源嵌入Web系统中,实现遥感专题信息产品空间信息和属性信息的资源整合以及数据查询功能,在解决海量数据传输问题的同时减轻了网络的负担;集成jQuery开源框架,融入Ajax技术,实现资源信息的可视化展示和按时间轴顺序的多期回顾;结合ECharts控件丰富的图表类型和直观、易用的交互方式,对展现的数据进行了挖掘、提取,进而转化成直观的图、表显示,实现遥感专题信息产品的统计分析及相关产品信息的输出功能;平台为京津冀一体化遥感应用提供了快速、科学的空间信息服务。\n",
      "\n"
     ]
    },
    {
     "name": "stderr",
     "output_type": "stream",
     "text": [
      "\r",
      " 54%|█████▍    | 538/1000 [03:50<03:24,  2.26it/s]"
     ]
    },
    {
     "name": "stdout",
     "output_type": "stream",
     "text": [
      "基 于 多 角 度 旋 转 积 分 图 的 手 背 静 脉 身 份 识 别\n",
      "基 于 多 角 度 旋 转 积 分 图 的 手 背 静 脉 身 份 识 别\n",
      "随着生物特征识别技术水平的飞速发展,手背静脉身份识别也广泛运用于各个领域;由于采集终端硬件设备和采集环境的差异,手背静脉识别效果并不理想;针对手背静脉图像在亮度,旋转,尺寸等方面造成的影响,提出了基于多角度旋转积分图的手背静脉身份识别方法;首先在尺度归一化后结合检测边缘性能的静脉图像梯度分割方法对图像进行二值分割,然后选取最佳角度间隔做旋转积分运算,最后通过二维离散余弦变换截取最佳特征矩阵用于分类识别,识别率超过99.9%;通过对比其它传统算法对手背静脉图像的识别效果来验证本文特征提取方法的可行性和优越性。\n",
      "\n"
     ]
    },
    {
     "name": "stderr",
     "output_type": "stream",
     "text": [
      "\r",
      " 54%|█████▍    | 539/1000 [03:50<03:17,  2.34it/s]"
     ]
    },
    {
     "name": "stdout",
     "output_type": "stream",
     "text": [
      "基 于 视 频 数 据 的 电 梯 门 防 夹 检 测 算 法 研 究\n",
      "基 于 极 大 熵 粒 子 群 算 法 的 电 梯 门 防 夹 检 测\n",
      "针对电梯门现有防夹保护装置的缺陷,提出了一种基于视频数据的防夹检测算法,用于在轿厢门区内检测物体;首先,采用改进的双边滤波方法滤除视频帧和背景图像中的噪声;然后,差分视频帧与背景图像,并采用极大熵粒子群算法来二值化差分图像;接着,将二值图像进行形态学滤波以检测出轿厢门区范围内的物体;最后,利用Surendra算法更新背景图像;实验结果表明,提出算法可以在轿厢门区范围内实时且准确地检测出物体,为电梯门防夹功能的改进提供了可靠的保障。\n",
      "\n"
     ]
    },
    {
     "name": "stderr",
     "output_type": "stream",
     "text": [
      "\r",
      " 54%|█████▍    | 540/1000 [03:51<03:23,  2.27it/s]"
     ]
    },
    {
     "name": "stdout",
     "output_type": "stream",
     "text": [
      "足 式 机 器 人 在 非 结 构 地 形 中 的 姿 态 求 解 算 法\n",
      "一 种 适 用 于 非 结 构 地 形 的 足 式 机 器 人 姿 态 求 解 方 法\n",
      "为了改进传统足式机器人姿态求解算法的不足,提出了一种新型的适用于非结构地形的姿态求解方法;该算法将动力学分析得到机体运动加速度信息与惯性测量单元(IMU)的信息相融合,通过卡尔曼滤波器计算机器人机体的姿态信息;所提的算法也适用于机器人机体存在冲击力的情况;为了验证算法的有效性,对两款典型的足式机器人在非结构地形中的运动进行了仿真,结果表明提出的算法能够准确的求解出机器人的姿态信息,具有良好的有效性和通用性。\n",
      "\n"
     ]
    },
    {
     "name": "stderr",
     "output_type": "stream",
     "text": [
      "\r",
      " 54%|█████▍    | 541/1000 [03:51<03:21,  2.27it/s]"
     ]
    },
    {
     "name": "stdout",
     "output_type": "stream",
     "text": [
      "基 于 改 进 量 子 遗 传 算 法 的 油 田 井 位 及 数 量 优 化\n",
      "基 于 量 子 遗 传 算 法 的 布 井 性 能 优 化 研 究\n",
      "布井的数量及位置的选取是油田开发中至关重要的一环;一项最优的布井方案受到地质情况、油藏驱动方式、流体特性、油田设备规格以及多种经济参数指标的影响,是一个具有多决策变量的优化问题,传统的数学优化方法在处理这类问题时,很难找到一个合适的目标函数来满足优化条件;量子算法作为量子计算与智能算法相结合的产物,其优秀的寻优能力以及良好泛化能力,在处理目标函数性态复杂的优化问题时较传统方法有着更好的表现;因此,利用MATLAB建立油藏数值模拟模型,将井的数量和井位作为变量,以油田净现值为目标函数结合改进的量子遗传算法(Quantum Genetic Algorithm,QGA)对井位进行优化;通过与传统布井方式的对比,所提出的方法有更好的经济效益,同时摆脱了传统布井方式对于经验的依赖,具有很好的移植性。\n",
      "\n"
     ]
    },
    {
     "name": "stderr",
     "output_type": "stream",
     "text": [
      "\r",
      " 54%|█████▍    | 542/1000 [03:51<03:19,  2.29it/s]"
     ]
    },
    {
     "name": "stdout",
     "output_type": "stream",
     "text": [
      "多 传 感 轨 道 扣 件 检 测 的 数 据 同 步 采 集 系 统 设 计\n",
      "轨 道 扣 件 检 测 的 多 传 感 数 据 同 步 采 集 系 统 设 计\n",
      "针对轨道扣件检测的多传感数据同步采集,首先,在分析线阵CCD相机成像原理的基础上,根据系统的要求对相机的关键参数进行了选择并设计了采集方案;然后,设计了传感器的信号调理电路,包括电平调整电路以及抗混叠滤波器的设计,提高了传感器的抗干扰能力;并通过STM32获取光电编码器的等间隔脉冲信息,对各个传感器进行触发控制,设计了线阵相机与惯性传感器的同步触发方案;最后,编写了上位机软件实现了数据的同步采集;实验结果表明,该系统能够精确采集各传感器的数据,具有较强的抗干扰能力和稳定性。\n",
      "\n"
     ]
    },
    {
     "name": "stderr",
     "output_type": "stream",
     "text": [
      "\r",
      " 54%|█████▍    | 543/1000 [03:52<03:07,  2.44it/s]"
     ]
    },
    {
     "name": "stdout",
     "output_type": "stream",
     "text": [
      "基 于 l o r a 的 地 下 停 车 场 车 辆 定 位 系 统 设 计\n",
      "基 于 l o r a 的 地 下 停 车 场 车 辆 定 位 系 统 研 究\n",
      "利用LoRa在抗干扰、低功耗、低成本方面的优势,设计了一种基于LoRa的地下停车场车辆定位系统;针对地下停车场特殊通信环境,对非视距(Not Line of Sight,NLOS)时延模型进行分析;将排序算法与典型均值滤波算法相结合,改善典型均值滤波算法只能将脉冲噪声在滤波窗口内均摊而不能彻底消除的固有缺陷;通过参数拟合的方法,对地下停车场环境下规律性的NLOS时延和节点模块处理误差进行抑制;对三边定位算法进行优化,提高定位精度,避免无解情况的发生;在实际环境中进行测试,验证了系统的可行性。\n",
      "\n"
     ]
    },
    {
     "name": "stderr",
     "output_type": "stream",
     "text": [
      "\r",
      " 54%|█████▍    | 544/1000 [03:52<03:12,  2.36it/s]"
     ]
    },
    {
     "name": "stdout",
     "output_type": "stream",
     "text": [
      "基 于 二 代 小 波 算 法 的 数 字 全 息 显 微 成 像 自 动 对 焦 方 法\n",
      "嵌 入 式 数 字 全 息 显 微 自 动 对 焦 系 统 设 计\n",
      "针对传统数字全息显微重建方法难以获取最佳重建距离,且依赖于传统PC平台难以便携化等问题,设计了一种嵌入式数字全息显微自动对焦系统;该系统不仅能方便地完成数字全息显微成像的自动对焦,获取最佳重建效果,而且具有便携化的特点;该系统采用同轴全息光路配合图像传感器获取全息图,利用优化后的角谱算法实现全息重建,再结合二代小波算法对重建结果进行图像质量评价,根据评价结果找到最佳重建距离,同时获取最佳重建结果,完成自动对焦;利用该系统采集一批分辨率板全息图进行自动对焦测试;实验表明,系统的重建速度为0.6s,分辨率为3.48μm,自动对焦准确率达到90%以上,实验结果验证了系统的有效性。\n",
      "\n"
     ]
    },
    {
     "name": "stderr",
     "output_type": "stream",
     "text": [
      "\r",
      " 55%|█████▍    | 545/1000 [03:53<03:00,  2.53it/s]"
     ]
    },
    {
     "name": "stdout",
     "output_type": "stream",
     "text": [
      "某 线 缆 测 试 仪 转 换 软 件 的 设 计 及 应 用\n",
      "某 线 缆 测 试 仪 转 换 软 件 的 设 计 与 实 现\n",
      "为了解决国外某型线缆测试仪在动车组线缆测试工程化应用中存在的测试程序编写繁琐、测试结果无报表等问题,设计一款自动转换软件,该软件采用虚拟映射技术、多任务分发机制实现测试程序快速生成和测试报表管理功能;通过与动车组实车测试,测试结果表明,该转换软件能够大大节约流程编辑时间,减少编辑测试流程出错率;同时,转换软件生成的测试结果报表格式清晰,可指导测试人员排查错误连接线缆,大大提高现场检错效率。\n",
      "\n"
     ]
    },
    {
     "name": "stderr",
     "output_type": "stream",
     "text": [
      "\r",
      " 55%|█████▍    | 546/1000 [03:53<02:53,  2.61it/s]"
     ]
    },
    {
     "name": "stdout",
     "output_type": "stream",
     "text": [
      "动 力 电 池 管 理 系 统 的 设 计 与 仿 真 研 究\n",
      "可 切 换 电 池 成 组 的 节 能 管 理 系 统 设 计\n",
      "目前电源管理系统的工况适用性差,无法针对当前路况进行实时调节,降低了电池的循环寿命;针对这一问题,提出了一种基于单片机的可切换电池成组的电源管理系统,把放电电压和电流作为修正量,采取EKF算法提高SOC的估算精度;实验表明:采用单体电池放电试验,验证采集模块设计的准确性,并利用Simulink对工况仿真,验证了SOC估算的准确性和系统根据不同工况自动切换电池成组方式的可靠性。\n",
      "\n"
     ]
    },
    {
     "name": "stderr",
     "output_type": "stream",
     "text": [
      "\r",
      " 55%|█████▍    | 547/1000 [03:53<02:51,  2.64it/s]"
     ]
    },
    {
     "name": "stdout",
     "output_type": "stream",
     "text": [
      "基 于 i o s 平 台 的 地 下 停 车 场 导 航 系 统 研 究\n",
      "基 于 i b e a c o n 的 地 下 停 车 场 导 航 系 统 设 计\n",
      "针对当前地下停车库基于位置应用需求剧增与传统GPS在室内定位精度不足的矛盾,研究了一种基于iBeacon的地下停车场导航系统,通过计算信号强度最大的三处的基站到手机的距离,获取手机位置,根据用户需求,提供语音导航;通过分析多处信号最为强度,有效解决了复杂室内环境下三点定位中的三圆交点获取问题,具有较好的创新性;测试结果表明,系统能在开启定位后3秒内逐步定位稳定,系统最大定位误差不超过3米,平均误差为1.66米,导航时有84.7%的概率误差处于1.5米左右,15.3%的概率误差处于5米之下;经过实地使用系统使用基于蓝牙的定位技术,可以有效兼容当前手机,具有很好的便利性,系统能够很好地解决地下停车场目标车辆的定位、导航问题,具有良好的应用前景。\n",
      "\n"
     ]
    },
    {
     "name": "stderr",
     "output_type": "stream",
     "text": [
      "\r",
      " 55%|█████▍    | 548/1000 [03:54<02:53,  2.61it/s]"
     ]
    },
    {
     "name": "stdout",
     "output_type": "stream",
     "text": [
      "基 于 a n d r o i d 智 能 终 端 的 区 域 自 动 站 巡 检 维 护 系 统 设 计 与 实 现\n",
      "自 动 气 象 站 设 备 巡 检 维 护 系 统 设 计 与 实 现\n",
      "为提高气象装备保障水平,解决传统设备保障时,调试工具笨重、转换线复杂多样,调试软件参数和设备调试命令繁多,设备状态信息无法全面掌握等带来的维修工作费时费力,效率低等难题,基于Android和蓝牙技术研制一套集自动站设备检测与调试、数据查询及站点管理为一体的自动气象站设备巡检维护系统;系统采用模块化设计,Java、C++语言编写,界面设计简洁,清晰,可实现对现有自动气象站设备站点信息、采集信息及运行状态的全面监控,方便业务人员进行站点设备调试、维修及信息查询,为自动站设备维护人员提供快速、便捷设备维修支撑;系统运行于移动便携Android智能终端,操作简单、携带方便,满足自动站现场维修工作需求,有效的提高自动站保障效率,减少工作量。\n",
      "\n"
     ]
    },
    {
     "name": "stderr",
     "output_type": "stream",
     "text": [
      "\r",
      " 55%|█████▍    | 549/1000 [03:54<03:02,  2.48it/s]"
     ]
    },
    {
     "name": "stdout",
     "output_type": "stream",
     "text": [
      "嵌 入 式 系 统 大 容 量 n a n d   f l a s h 存 储 器 分 区 管 理 设 计\n",
      "基 于 f a t 文 件 管 理 系 统 的 大 容 量 f l a s h 存 储 器 分 区 管 理 方 法\n",
      "针对嵌入式系统中对大容量Flash存储器数据存储管理的需求,对大容量NAND Flash存储器分区、数据写入机制进行研究,借鉴FAT文件管理系统的理念,通过定义和动态维护分区属性数据结构的方法,建立了一种简单易行的分区管理机制,控制数据存储管理,并给出了具体的数据结构和设计流程图;结合实际工程应用进行了实验验证和分析,应用结果表明,该方法软件设计简单,资源需求低,实现了对大容量NAND Flash存储器的分区化管理,方便了用户对目标数据的快速检索定位,提高了数据使用效率,同时保证了数据存储的完整性、实时性、正确性,并大大降低了对上位机数据处理的难度;该方法的提出,为嵌入式系统中大容量Flash存储器的使用管理提供了新的思路,具有较高的实用性和推广应用价值。\n",
      "\n"
     ]
    },
    {
     "name": "stderr",
     "output_type": "stream",
     "text": [
      "\r",
      " 55%|█████▌    | 550/1000 [03:55<02:55,  2.56it/s]"
     ]
    },
    {
     "name": "stdout",
     "output_type": "stream",
     "text": [
      "基 于 集 成 深 度 学 习 的 玻 璃 缺 陷 识 别 方 法\n",
      "基 于 集 成 深 度 学 习 的 玻 璃 缺 陷 识 别 方 法\n",
      "针对玻璃缺陷形态复杂多变,难以准确识别其所属类型的特点,文章提出了一种集成深度学习模型对玻璃缺陷进行识别,该模型本质上是一种稀疏编码分类器与深度卷积神经网络的结合;该模型在自编码器的基础上引进了KL距离和L1范数作为稀疏项,构成新的稀疏自编码器;并在次通过稀疏自编码器学习输入样本特征,将训练好的权值作为卷积神经网络的卷积核从而提高了识别速度;在稀疏编码阶段用L1-L2范数代替L0范数,并在KSVD上添加了判别分类能力使其更好地进行分类运算,以此提高识别准确率;实验结果表明,该方法识别准确率达到了95%,满足了工程上的应用,并有很好的鲁棒性。\n",
      "\n"
     ]
    },
    {
     "name": "stderr",
     "output_type": "stream",
     "text": [
      "\r",
      " 55%|█████▌    | 551/1000 [03:55<02:42,  2.76it/s]"
     ]
    },
    {
     "name": "stdout",
     "output_type": "stream",
     "text": [
      "某 型 雷 达 虚 拟 维 修 训 练 系 统 的 设 计 与 实 现\n",
      "装 备 虚 拟 维 修 训 练 系 统 设 计 与 实 现\n",
      "为提高教学训练效果,弥补装备教学训练中实装不足、装备损耗大、教学训练成本高等实际问题,设计并实现了某型雷达虚拟维修训练系统;该虚拟维修训练系统包括系统主界面和系统集成框架两大部分,具有装备结构展示、装备操作训练、装备维修训练、训练效果评估、数据支持等多项功能,有效解决了上述装备教学训练中存在的实际问题;目前,该系统已应用到相关专业的装备构造与维修、装备综合实践等多个课程当中,取得的很好的教学训练效果,系统的设计开发可为其他装备虚拟维修训练系统的开发提供参考与借鉴;论文首先介绍了系统的基本功能和结构,然后详细论述了系统模型的开发过程,最后给出了虚拟训练工作流程。\n",
      "\n"
     ]
    },
    {
     "name": "stderr",
     "output_type": "stream",
     "text": [
      "\r",
      " 55%|█████▌    | 552/1000 [03:55<02:51,  2.61it/s]"
     ]
    },
    {
     "name": "stdout",
     "output_type": "stream",
     "text": [
      "基 于 l o r a 的 工 业 监 测 自 组 网 系 统 设 计\n",
      "基 于 l o r a 的 工 业 监 测 自 组 网 协 议 系 统 设 计\n",
      "工业环境监测同工业生产安全、质量关系紧密,诸多传感监测系统正被使用于各类工业项目中,且需求缺口仍然巨大;工业监测要求传感系统具有低功耗、远距离传输、工作稳定和节点容量大的特点;针对工业应用现状,提出一种基于LoRa(Long Range)的工业监测自组网协议系统的设计;系统主控采用STM32F407芯片,同时集成了8路LoRa模块,从而提高了网关的节点容量,具备W5500的网络接口和片外存储flash,以及预留的4G和GPS模块;系统兼备了LoRa通信的抗干扰、远距离传输、低功耗的特点,同时又支持TCP/IP网络通信和4G通信,且提供一种web上位机的操控前端,方便用户对系统进行实时的管控;系统使用一套独有的自组网协议,可满足工业监测的要求,具备很高的实际应用价值。\n",
      "\n"
     ]
    },
    {
     "name": "stderr",
     "output_type": "stream",
     "text": [
      "\r",
      " 55%|█████▌    | 553/1000 [03:56<02:50,  2.62it/s]"
     ]
    },
    {
     "name": "stdout",
     "output_type": "stream",
     "text": [
      "多 通 道 高 速 数 字 处 理 机 设 计\n",
      "四 通 道 高 速 采 样 的 多 目 标 回 波 处 理 机 设 计\n",
      "为了实现多目标回波信息处理,设计了一种四通道高速采样的信号处理机;实现以K7芯片为核心的数字处理平台及多种通信方式,通过高速ADC将回波信号数字化,利用巴克码脉内1调制,在保持目标速度分辨率的同时提高了距离分辨率;通过简化数字下变频提高资源利用率,并仿真了多目标识别处理过程;对处理机的测试表明,实现了1.22mV静态噪声和64dB动态范围。\n",
      "\n"
     ]
    },
    {
     "name": "stderr",
     "output_type": "stream",
     "text": [
      "\r",
      " 55%|█████▌    | 554/1000 [03:56<02:59,  2.48it/s]"
     ]
    },
    {
     "name": "stdout",
     "output_type": "stream",
     "text": [
      "基 于 d e n s e n e t 的 单 目 图 像 深 度 估 计\n",
      "基 于 多 尺 度 卷 积 神 经 网 络 的 单 目 图 像 深 度 估 计\n",
      "深度信息的获取是场景解析中是非常重要的环节,主要分为传感器获取与图像处理两种方法;传感器技术对环境要求很高,因此图像处理为更通用的方法;传统的方法通过双目立体标定,利用几何关系得到深度,但仍因为环境因素限制诸多;因此,作为最贴近实际情况的方法,单目图像深度估计具有极大研究价值;为此,针对单目图像深度估计,提出了一种基于DenseNet的单目图像深度估计方法,该方法利用多尺度卷积神经网络分别采集全局特征、局部特征;加入了DenseNet结构,利用DenseNet强特征传递、特征重用等特点,优化特征采集过程;通过NYU Depth V2数据集上验证了模型的有效性,实验结果表明,该方法的预测结果平均相对误差为0.119,均方根误差为0.547,对数空间平均误差为0.052。\n",
      "\n"
     ]
    },
    {
     "name": "stderr",
     "output_type": "stream",
     "text": [
      "\r",
      " 56%|█████▌    | 555/1000 [03:56<03:00,  2.47it/s]"
     ]
    },
    {
     "name": "stdout",
     "output_type": "stream",
     "text": [
      "基 于 压 缩 感 知 的 遥 感 成 像 稀 疏 重 构 性 能 分 析\n",
      "基 于 稀 疏 重 构 的 遥 感 成 像 研 究\n",
      "压缩感知是一种新型的信息论,打破了传统的Shannon-Nyquist采样定理,能够以少量数据完成信号采样;稀疏重构是压缩感知由理论到实际的关键环节,为了将压缩感知有效地应用于遥感成像领域,研究了稀疏重构对遥感成像过程的影响;针对稀疏重构理论模型,分析了重构误差的成因;同时,针对典型的凸优化类算法和贪婪类算法,利用峰值信噪比指标对遥感图像重构误差进行评价;在仿真实验中,定量考察遥感图像在不同压缩采样率、不同重构算法下的稀疏重构性能;结果表明,稀疏重构算法能够成功重构遥感图像,各算法在不同压缩采样率下均表现出了较好的重构质量,整体上能够满足遥感成像应用,验证了压缩感知稀疏重构方法在遥感成像中应用的可行性。\n",
      "\n"
     ]
    },
    {
     "name": "stderr",
     "output_type": "stream",
     "text": [
      "\r",
      " 56%|█████▌    | 556/1000 [03:57<02:50,  2.60it/s]"
     ]
    },
    {
     "name": "stdout",
     "output_type": "stream",
     "text": [
      "一 种 新 的 多 渐 消 因 子 容 积 卡 尔 曼 滤 波\n",
      "多 渐 消 因 子 强 跟 踪 算 法\n",
      "将强跟踪思想引入容积卡尔曼滤波(cubature Kalman filter,CKF),建立强跟踪CKF能有效克服CKF在模型不确定、状态突变等情况下,滤波性能下降的问题;通过分析现有多渐消因子计算方法,发现它们均只利用了协方差矩阵的对角线元素,并没有考虑各个状态之间的相关性,不能充分发挥多渐消因子的优势;为此,提出渐消因子矩阵,基于正交原理推导渐消因子矩阵的求解方法,提出多渐消因子强跟踪CKF算法;多渐消因子强跟踪CKF算法突破了传统多渐消因子为向量的限制,也不再要求渐消因子取值要大于1;仿真验证了算法具有更好的滤波精度何鲁棒性,能更好的满足工程应用的要求。\n",
      "\n"
     ]
    },
    {
     "name": "stderr",
     "output_type": "stream",
     "text": [
      "\r",
      " 56%|█████▌    | 557/1000 [03:57<02:45,  2.67it/s]"
     ]
    },
    {
     "name": "stdout",
     "output_type": "stream",
     "text": [
      "基 于 r c m 的 轨 道 交 通 车 辆 计 划 维 修 任 务 确 定 方 法 研 究\n",
      "基 于 国 际 标 准 的 轨 道 交 通 产 品 r c m 分 析 方 法\n",
      "RCM (以可靠性为中心的维修)分析是目前制定高端装备计划维修要求的主流方法,旨在保证装备固有安全性及服务可靠性前提下,最大限度降低维修成本;依据我国轨道交通产品(如高速动车组)运维特点,阐述了基于国际标准的轨道交通产品RCM分析方法,并结合具体分析案例,通过RCM分析结果与现有检修规程计划维修任务对比分析,说明了应用RCM分析开发检修规程的优越性。\n",
      "\n"
     ]
    },
    {
     "name": "stderr",
     "output_type": "stream",
     "text": [
      "\r",
      " 56%|█████▌    | 558/1000 [03:58<02:41,  2.74it/s]"
     ]
    },
    {
     "name": "stdout",
     "output_type": "stream",
     "text": [
      "航 空 发 动 机 低 压 涡 轮 数 字 化 装 配 仿 真\n",
      "航 空 发 动 机 数 字 化 装 配 仿 真 分 析 研 究\n",
      "通过基于三维数字化模型的装配工艺仿真技术,快速实现发动机全生命周期各环节的设计迭代优化,从而提高航空发动机研发效率、降低研发成本、缩短研发周期;在可视化的数字环境中建立航空发动机低压涡轮装配工艺模型,进行装配路径规划、装配过程仿真,以验证产品的可装配性及其工艺过程合理性;仿真结果显示,在使用拧紧工装进行内部螺钉的拧紧操作过程中,拧紧工装单次拧紧超过一定角度后,与引气管焊接组件发生干涉;在不改变装配工艺的前提下,考虑修改工装设计以优化装配操作,避免了制造后设计更改。航空发动机数字化装配仿真分析研究,探索了使用仿真工具进行三维数字化装配规划、仿真分析与设计制造协同工作模式,为下阶段仿真技术研究的体系化与标准化建设奠定了基础。\n",
      "\n"
     ]
    },
    {
     "name": "stderr",
     "output_type": "stream",
     "text": [
      "\r",
      " 56%|█████▌    | 559/1000 [03:58<02:42,  2.71it/s]"
     ]
    },
    {
     "name": "stdout",
     "output_type": "stream",
     "text": [
      "基 于 模 块 的 运 载 火 箭 电 气 系 统 匹 配 验 证 仿 真\n",
      "基 于 模 块 的 运 载 火 箭 电 气 系 统 匹 配 验 证 方 法\n",
      "为了缩短运载火箭的研制周期、降低研制成本,通过数字仿真实现对运载火箭电气系统的匹配验证显得尤为迫切;提出了一种基于模块的运载火箭电气系统匹配验证方法,采用SysML语言进行了函数编写和结构建模,实现了电气系统硬件与软件设备的匹配验证;通过与真实匹配试验中测试数据的对比,证实了该方法可以有效模拟并完成各电气系统的性能参数分析和接口匹配验证,具有一定的工程应用价值。\n",
      "\n"
     ]
    },
    {
     "name": "stderr",
     "output_type": "stream",
     "text": [
      "\r",
      " 56%|█████▌    | 560/1000 [03:58<02:45,  2.67it/s]"
     ]
    },
    {
     "name": "stdout",
     "output_type": "stream",
     "text": [
      "通 信 星 座 弹 性 评 估 权 值 确 定 方 法 研 究\n",
      "通 信 星 座 弹 性 评 估 权 值 确 定 方 法 研 究\n",
      "太空环境日益复杂,通信星座的全球覆盖、超视距通信等优势使其具有极高的存在必要性;为保证通信任务的可靠性,开展通信星座弹性评估研究,为建设弹性通信星座提供参考;针对通信星座弹性意义及特点,构建通信星座弹性评估指标体系,并对权重赋值问题进行分析,确定数学模型;针对层次分析法在判断矩阵一致性差时求解特征值困难的不足,提出采用生物地理学优化算法求解权值问题;通过对BBO算法中的迁移机制、迁移算子和突变机制进行改进,实现了判断矩阵排序权值与一致性的统一;并与基本BBO算法、GA算法、GA-PSO算法、AHP算法进行比较验证,结果表明改进BBO算法在收敛速度、优化精确性以及局部寻优能力方面较优;随后,采用改进BBO算法对通信星座弹性评估指标体系权值进行分析计算,得出通信星座弹性评估指标体系权重,可为后续通信星座弹性评估提供一定帮助。\n",
      "\n"
     ]
    },
    {
     "name": "stderr",
     "output_type": "stream",
     "text": [
      "\r",
      " 56%|█████▌    | 561/1000 [03:59<02:45,  2.66it/s]"
     ]
    },
    {
     "name": "stdout",
     "output_type": "stream",
     "text": [
      "基 于 健 康 管 理 的 有 源 相 控 阵 雷 达 威 力 性 能 评 估 方 法\n",
      "有 源 相 控 阵 雷 达 健 康 管 理 系 统 的 设 计 与 实 现\n",
      "针对有源相控阵雷达一类的复杂电子系统,设备的维修是产品全寿命周期内最核心的工作之一;装备的过维修或欠维修,都将对装备的使用造成影响,同时提高了保障费用;文中提供了一种基于健康管理的雷达威力性能的评估方法,通过对有源相控阵雷达的健康管理系统的参数获取、分析和知识挖掘,进而提升雷达全寿命周期保障的自动化、智能化水平,达到降低全寿命周期费用,提高装备作战效能的目标。\n",
      "\n"
     ]
    },
    {
     "name": "stderr",
     "output_type": "stream",
     "text": [
      "\r",
      " 56%|█████▌    | 562/1000 [03:59<02:46,  2.63it/s]"
     ]
    },
    {
     "name": "stdout",
     "output_type": "stream",
     "text": [
      "带 有 双 路 t e c 温 控 的 功 率 可 调 d f b 激 光 器 驱 动 电 源 设 计 与 实 现\n",
      "功 率 可 调 d f c 激 光 器 驱 动 电 源 的 设 计 与 实 现\n",
      "DFB激光器泵浦对环境温度十分敏感,为减小环境温度及泵浦发热温度变化对激光器输出造成的影响,提出了一种带有双路TEC温控的功率可调DFB激光器驱动电源;该电源以STM32为控制核心,对激光器光源和晶体内部温度采集与控制的双路温控系统进行研究,使激光器工作温度恒定;通过压控恒流源,连续调节DFB激光器功率;试验结果表明,该驱动电源相比传统方式,体积小、电流精度高、温度稳定性好,应用前景广阔。\n",
      "\n"
     ]
    },
    {
     "name": "stderr",
     "output_type": "stream",
     "text": [
      "\r",
      " 56%|█████▋    | 563/1000 [04:00<03:14,  2.25it/s]"
     ]
    },
    {
     "name": "stdout",
     "output_type": "stream",
     "text": [
      "无 线 传 感 器 网 络 基 于 时 空 差 分 阈 值 h u f f m a n 数 据 压 缩\n",
      "基 于 时 空 差 分 阈 值 的 h i f f m a n 模 型 在 w s n 中 传 输 中 的 研 究\n",
      "针对无线传感网络(WSN)中节点采集数据后传输消耗能量的问题进行研究,该文提出了一种基于时空差分阈值Huffman模型对时空的数据进行压缩的算法;该算法通过节点在当前时刻采集的数据与节点的上一个时刻的数据进行差值,同时对同一簇内空间的节点差分后数据进行对比分析和减少空间的数据量,再对差值进行动态的Huffman编码;与传统WSNs的数据压缩算法相比,数据的压缩比提高到了30%,网络的生命周期提升了80%和降低了节点的死亡率,同时也保证了节点数据采集的准确性。\n",
      "\n"
     ]
    },
    {
     "name": "stderr",
     "output_type": "stream",
     "text": [
      "\r",
      " 56%|█████▋    | 564/1000 [04:00<03:06,  2.34it/s]"
     ]
    },
    {
     "name": "stdout",
     "output_type": "stream",
     "text": [
      "使 用 社 区 结 构 信 息 的 子 图 匹 配 算 法 优 化 方 法\n",
      "基 于 社 区 结 构 的 子 图 匹 配 算 法 优 化 方 法\n",
      "子图匹配是图数据查询处理技术中的一个重要研究问题。针对现有子图匹配算法运行效率不高且缺乏通用优化方法的现状,提出一种基于社区结构的子图匹配算法优化方法(community structure based subgraph matching optimization method,CSO)。首先,提出两种优化策略,即解析模式图信息以减少子图匹配过程的计算量,以及利用社区结构信息在子图匹配过程中进行剪枝;然后,结合上述两种优化策略提出基于社区结构的子图匹配算法优化方法,并进行了理论分析。真实数据集和合成数据集上的大量实验结果表明,CSO方法能有效减少子图匹配算法的时间开销。同时,不同规模数据集上的实验结果验证了CSO方法良好的可扩展性。\n",
      "\n"
     ]
    },
    {
     "name": "stderr",
     "output_type": "stream",
     "text": [
      "\r",
      " 56%|█████▋    | 565/1000 [04:00<03:04,  2.35it/s]"
     ]
    },
    {
     "name": "stdout",
     "output_type": "stream",
     "text": [
      "基 于 l s t m 的 移 动 对 象 位 置 预 测 算 法\n",
      "位 置 分 布 式 表 示 模 型 在 移 动 对 象 位 置 预 测 中 的 应 用\n",
      "移动对象位置预测是基于位置服务的重要组成部分。现有的移动对象位置预测算法有基于马尔可夫链的算法、基于隐马尔可夫模型的算法、基于神经网络的算法等,然而这些算法都无法解决移动对象轨迹数据中位置过多带来的维数灾难问题。为了解决这一问题,提出了位置分布式表示模型(location distributed representation model,LDRM)。该模型将难以处理的表示位置的高维one-hot向量降维成包含移动对象运动模式的低维位置嵌入向量。随后,将该模型与基于长短期记忆网络(long short-term memory,LSTM)的位置预测算法结合为LDRM-LSTM移动对象位置预测算法。真实数据集上的实验表明,与现有算法相比LDRM-LSTM算法在预测准确性上有较大的提升。\n",
      "\n"
     ]
    },
    {
     "name": "stderr",
     "output_type": "stream",
     "text": [
      "\r",
      " 57%|█████▋    | 566/1000 [04:01<03:08,  2.30it/s]"
     ]
    },
    {
     "name": "stdout",
     "output_type": "stream",
     "text": [
      "面 向 s s d 寿 命 优 化 的 访 问 序 列 折 叠 缓 存 替 换 算 法\n",
      "面 向 s s d - 均 衡 环 境 下 缓 存 替 换 的 研 究\n",
      "SSD(solid state drive)的写入寿命比较有限,因此除命中率外,SSD缓存设备的写入量成为评价缓存替换算法的另一个关键指标。如何使算法提高写入数据转化为缓存命中的效率,从而延长SSD的使用寿命,具有重要的研究意义。目前,已有缓存替换算法的设计一般基于时间局部性,即刚被访问的数据短期内被访问的概率较高,因此需要频繁的数据更新和较高写入量来保证较高命中率;或是通过不低的开销屏蔽相对最差的部分数据来减少一定的写入量,还缺少用低开销获得数据长期热度规律,有效提高缓存数据质量的算法。提出了访问序列折叠的缓存替换算法,用比较低的开销定位拥有长期稳定热度的数据写入缓存,明显提高了SSD缓存数据质量,在保证命中率的同时减少了SSD的写入量。实验表明,访问序列折叠算法相比LRU(least recently used)算法可在命中率损失低于10%的情况下减少90%的写入量,与SieveStore、L2ARC(level2 adjustable replacement cache)等写入优化缓存算法相比,命中率相当时可将写入量减少50%以上,有效达到了通过缓存高质量数据,减少SSD的写入量,延长其使用寿命的目的。\n",
      "\n"
     ]
    },
    {
     "name": "stderr",
     "output_type": "stream",
     "text": [
      "\r",
      " 57%|█████▋    | 567/1000 [04:01<02:58,  2.42it/s]"
     ]
    },
    {
     "name": "stdout",
     "output_type": "stream",
     "text": [
      "通 过 差 值 和 压 缩 减 少 s s d 的 擦 除 次 数\n",
      "基 于 压 缩 后 数 据 的 s s d 擦 除 问 题 研 究\n",
      "作为SSD(solid state drives)的存储元件,NAND闪存在进行写之前,存储单元必须先进行擦除,因此被称作写一次存储器。SSD的使用寿命受到存储单元的擦除次数的限制,因此减少擦除次数对于SSD的可靠性十分重要。提出了一种通过编码压缩后的差值信息的方法来对SSD中写过一次的页面进行二次写,从而减少SSD的擦除次数,延长使用寿命。首先计算物理页面中更新前后的数据的差值,然后将差值数据进行压缩,再将压缩后的数据进行编码后保存在写过的物理页中的可写位中,以此实现写过物理页的二次写。实验结果表明,对于数据更新为主的应用,该方法能够充分利用写过的物理页中的可写位,大幅减少SSD的擦除次数。\n",
      "\n"
     ]
    },
    {
     "name": "stderr",
     "output_type": "stream",
     "text": [
      "\r",
      " 57%|█████▋    | 568/1000 [04:02<03:02,  2.36it/s]"
     ]
    },
    {
     "name": "stdout",
     "output_type": "stream",
     "text": [
      "a n d r o i d 应 用 隐 私 条 例 与 敏 感 行 为 一 致 性 检 测\n",
      "应 用 隐 私 规 则 中 隐 私 规 则 的 一 致 性 分 析\n",
      "移动应用会频繁使用敏感信息,因此,Google建议开发者在上传应用时发布隐私条例文档,从而更好地保护用户隐私。尽管很多工作关注于隐私条例与应用行为的一致性分析,然而现有工作均使用静态分析和白名单分析第三方库的方法,导致隐私条例的一致性检测结果的不准确和不完整。提出一种自动化检测应用隐私条例文档是否与应用行为相一致的工具。首先,使用一种改进的自然语言处理的方法提取隐私条例文档中的隐私信息和应用敏感行为;然后,使用静态分析和动态分析相结合的方法分析应用实际的隐私行为,同时区别于传统的白名单对照方式,使用了基于聚类的第三方库的检测方法提高了检查的准确性,最后将文本中声明的隐私信息行为和代码中分析出的隐私权限进行一致性校验。实验对455个应用进行分析,工具对隐私条例中隐私信息提取的准确率为94.75%,大约有50%的应用存在着应用行为和隐私条例文档不一致的问题。\n",
      "\n"
     ]
    },
    {
     "name": "stderr",
     "output_type": "stream",
     "text": [
      "\r",
      " 57%|█████▋    | 569/1000 [04:02<02:52,  2.50it/s]"
     ]
    },
    {
     "name": "stdout",
     "output_type": "stream",
     "text": [
      "p l r d - ( k , m ) : 保 护 链 接 关 系 的 分 布 式 k - 度 - m - 标 签 匿 名 方 法\n",
      "一 种 保 护 链 接 关 系 的 分 布 式 匿 名 方 法\n",
      "现有的匿名技术多关注匿名后数据的可用性,忽略了攻击者可以通过多种背景知识进行攻击的问题。此外,随着用户规模的逐年递增,传统的匿名技术已不能满足实际需求。为此,提出一种保护链接关系的分布式匿名方法PLRD-(k,m)(distributed k-degree-m-label anonymity with protecting link relationships)。该方法利用GraphX的消息传递机制,通过将互为N-hop邻居的节点分为一组并进行k-degree匿名和m-标签匿名,保证攻击者无法通过度和标签识别出目标并保护链接关系不被泄露。最后,扩展了PLRD-(k,m)方法,提出一种个性化匿名方法以满足用户不同的需求。基于真实社会网络数据集的实验结果表明,提出的方法不仅能提高处理大规模社会网络的执行效率,同时具有很好的数据可用性。\n",
      "\n"
     ]
    },
    {
     "name": "stderr",
     "output_type": "stream",
     "text": [
      "\r",
      " 57%|█████▋    | 570/1000 [04:03<03:02,  2.35it/s]"
     ]
    },
    {
     "name": "stdout",
     "output_type": "stream",
     "text": [
      "自 适 应 模 板 更 新 的 鲁 棒 目 标 跟 踪 算 法\n",
      "深 度 特 征 和 模 板 更 新 的 自 适 应 粒 子 滤 波 目 标 跟 踪\n",
      "针对受复杂背景、光照以及目标尺度变化等因素的影响,目标模板更新精度不高,导致跟踪算法鲁棒性差的问题,提出了一种基于深度特征和模板更新的自适应粒子滤波目标跟踪方法。首先对跟踪目标进行仿射变换;然后构造一个12层的卷积神经网络来提取跟踪目标及其仿射变换的深度特征得到目标模板和候选模板,并以此构建候选模板库;其次采用粒子滤波算法跟踪目标,将预测结果与候选模板库中的模板进行匹配,确定新的目标模板并自适应更新候选模板库。实验结果表明,该算法在遮挡、光照、尺度变化、目标旋转和复杂背景的恶劣条件下仍能稳定地跟踪目标,与其他7种先进算法在18组测试视频中进行比较,具有更高的目标跟踪精度和更强的鲁棒性。\n",
      "\n"
     ]
    },
    {
     "name": "stderr",
     "output_type": "stream",
     "text": [
      "\r",
      " 57%|█████▋    | 571/1000 [04:03<03:25,  2.09it/s]"
     ]
    },
    {
     "name": "stdout",
     "output_type": "stream",
     "text": [
      "基 于 深 度 示 例 差 异 化 的 零 样 本 多 标 签 图 像 分 类\n",
      "嵌 入 网 络 中 基 于 深 度 示 例 差 异 化 算 法 的 零 样 本 多 标 签 分 类\n",
      "零样本多标签图像分类是对含多个标签且测试类别标签在训练过程中没有相应训练样本的图像进行分类标注。已有的研究表明,多标签图像类别间存在相互关联,合理利用标签间相互关系是多标签图像分类技术的关键,如何实现已见类到未见类的模型迁移,并利用标签间相关性实现未见类的分类是零样本多标签分类需要解决的关键问题。针对这一挑战性的学习任务,提出一种深度示例差异化分类算法。首先利用深度嵌入网络实现图像视觉特征空间至标签语义特征空间的跨模态映射,然后在语义空间利用示例差异化算法实现多标签分类。通过在主流数据集Natural Scene和IAPRTC-12上与已有算法进行对比实验,验证了所提方法的先进性和有效性,同时验证了嵌入网络的先进性。\n",
      "\n"
     ]
    },
    {
     "name": "stderr",
     "output_type": "stream",
     "text": [
      "\r",
      " 57%|█████▋    | 572/1000 [04:04<03:14,  2.20it/s]"
     ]
    },
    {
     "name": "stdout",
     "output_type": "stream",
     "text": [
      "深 度 学 习 驱 动 的 智 能 冰 箱\n",
      "冰 箱 环 境 下 基 于 深 度 学 习 的 果 蔬 识 别 方 法\n",
      "食品识别是智能冰箱的核心技术之一,但冰箱中食品的种类繁多并且摆放较为随意,相互遮挡的现象比较严重,这给冰箱中的食品识别带来了诸多挑战。为了提高冰箱内食物的识别效率,以识别冰箱中的果蔬为切入点,提出了一种基于智能冰箱的数据采集、数据处理和果蔬识别的整体架构,以及一种在冰箱环境下的基于深度学习的数据融合的果蔬识别方法。使用这种方法有效提高了在冰箱环境下果蔬识别的准确率。通过对采集的大量数据进行实验,证明了该方法具有良好的性能和识别准确度,能有效解决冰箱环境下果蔬识别问题。\n",
      "\n"
     ]
    },
    {
     "name": "stderr",
     "output_type": "stream",
     "text": [
      "\r",
      " 57%|█████▋    | 573/1000 [04:04<03:16,  2.17it/s]"
     ]
    },
    {
     "name": "stdout",
     "output_type": "stream",
     "text": [
      "多 维 空 间 可 调 整 的 近 邻 传 播 聚 类 算 法\n",
      "基 于 多 维 空 间 可 变 换 的 近 邻 传 播 聚 类 算 法\n",
      "针对近邻传播算法不适合处理多重尺度和任意形状数据的问题,提出了一种基于多维空间可变换的MSAAP(multidimensional similarity adaptive affinity propagation)算法。首先,通过熵值法计算数据样本点的属性权重;然后,根据属性权重构造出一种新型计算相似性矩阵的方法;最后,根据属性权重的优先级将样本点的空间划分成若干个空间块,并计算空间块的吸引度和归属度之和,进而调整样本点的空间分布。通过13个不同形状的UCI数据集和3个人脸数据库进行对比实验,从准确率、算法时间、聚类个数3个维度去分析,最终实验结果证明所提出的MSAAP算法聚类效果更优。\n",
      "\n"
     ]
    },
    {
     "name": "stderr",
     "output_type": "stream",
     "text": [
      "\r",
      " 57%|█████▋    | 574/1000 [04:05<03:19,  2.14it/s]"
     ]
    },
    {
     "name": "stdout",
     "output_type": "stream",
     "text": [
      "基 于 块 划 分 的 空 时 域 自 适 应 差 错 掩 盖 算 法\n",
      "基 于 改 进 的 空 时 域 自 适 应 差 错 掩 盖 算 法\n",
      "视频通信是多媒体通信的主要应用方向之一,它在人们信息交流中起着重要的作用,但是视频信息携带的信息量非常大,在传输之前必须要对视频信号进行压缩编码以降低码率,压缩后的码流对传输差错十分敏感,使得视频信息传输过程中面临不可避免的差错和损失。差错掩盖技术作为视频通信系统中抵抗差错的最后一道防线,起着不可或缺的重要作用。针对现有差错掩盖算法的不足,提出了将结构相似性(structural similarity index,SSIM)失真评价准则和边界匹配准则相结合寻找最佳替代块的匹配准则,并在此基础上,提出了一种基于宏块划分的空时域自适应差错掩盖算法。实验表明,利用该算法进行差错掩盖后的视频序列不仅具有更高的客观质量,而且掩盖后的视频视觉质量也更符合人眼的主观感受。对各算法的平均解码帧率的调查结果显示,在权衡掩盖效果和时间复杂度后,该算法优于其他对比算法。\n",
      "\n"
     ]
    },
    {
     "name": "stderr",
     "output_type": "stream",
     "text": [
      "\r",
      " 57%|█████▊    | 575/1000 [04:05<03:02,  2.33it/s]"
     ]
    },
    {
     "name": "stdout",
     "output_type": "stream",
     "text": [
      "融 合 标 签 的 实 值 条 件 受 限 波 尔 兹 曼 机 推 荐 算 法\n",
      "融 合 商 品 标 签 融 合 及 知 识 的 推 荐 算 法\n",
      "针对推荐算法中数据的稀疏性难题,把用户标签融合至实值条件受限玻尔兹曼机(real-valued conditional restricted Boltzmann machine,R_CRBM)模型,利用R_CRBM强大的拟合任意离散分布的能力,预测出用户对未交互商品的评分缺失值。具体来说,首先提出显层单元为实值的R_CRBM模型,接着运用文本分类中的TF-IDF算法预测出用户对所应用过的标签的喜爱度,与标签基因数据相乘得到用户对商品的预测评分,融合至用户历史评分数据中。R_CRBM条件层在原有评分/未评分{0,1}向量中,融入用户标签/未标签{0,1}向量。通过真实数据集进行对比分析,实验结果表明提出的方法在一定程度上提升了推荐的准确性。\n",
      "\n"
     ]
    },
    {
     "name": "stderr",
     "output_type": "stream",
     "text": [
      "\r",
      " 58%|█████▊    | 576/1000 [04:05<03:06,  2.27it/s]"
     ]
    },
    {
     "name": "stdout",
     "output_type": "stream",
     "text": [
      "不 同 矩 阵 分 解 方 法 对 海 洋 数 据 同 化 的 影 响\n",
      "基 于 奇 异 值 分 解 的 海 洋 数 据 同 化 程 序 性 能 优 化\n",
      "在海洋数据同化领域,集合最优插值方法中,矩阵求逆过程所使用的奇异值分解(singular value decomposition,SVD)十分耗时。对集合最优插值中逆矩阵的求逆过程进行优化,分别使用LU分解、Choleskey分解、QR分解来替代SVD分解。首先,通过LU分解(Choleskey分解或QR分解)得到相应的三角矩阵(或正交矩阵);然后,利用分解后的矩阵来实现相关逆矩阵的计算。由于LU分解、Choleskey分解、QR分解的算法复杂度都远小于SVD分解,因此改进后的同化程序能得到大幅度的性能提升。数值结果表明,所采用的三种矩阵分解方法相比于SVD分解,都能将集合最优插值的计算效率提升至少两倍以上。值得一提的是,在四种矩阵分解中Choleskey分解使得整个同化程序的性能达到了最优。\n",
      "\n"
     ]
    },
    {
     "name": "stderr",
     "output_type": "stream",
     "text": [
      "\r",
      " 58%|█████▊    | 577/1000 [04:06<03:04,  2.30it/s]"
     ]
    },
    {
     "name": "stdout",
     "output_type": "stream",
     "text": [
      "面 向 函 数 型 数 据 的 动 态 互 信 息 特 征 选 择 方 法\n",
      "面 向 函 数 型 数 据 的 动 态 互 信 息 特 征 选 择 方 法\n",
      "函数型数据将观测到的数据作为一个整体,关注数据自身的内在结构而不只是数据的呈现形式,相较于传统的数据包含了更多的信息,因此对函数型数据的分析和研究具有重要的价值。在函数型数据分析中,特征选择也是一个需要解决的问题。提出了一种面向函数型数据的动态互信息(dynamic mutual information,DMI)特征选择方法,充分考虑数据的内在特征,运用互信息将特征进行排序和动态选择,不仅可以获得稳定的特征子集,而且充分考虑了样本在特征选择中的作用,较好地避免了信息的冗余。进一步提出了一种动态条件互信息(dynamic conditional mutual information,DCMI)特征选择方法,在动态特征选择的过程中,考虑到已选特征会对后续的特征选择产生影响,引入条件互信息,将已选特征对待选特征的影响进行量化表示,更恰当地描述特征与特征集合之间的关系。在UCR数据集上的实验结果表明,DMI方法和DCMI方法进行特征选择得到的特征子集规模小且分类精度高。\n",
      "\n"
     ]
    },
    {
     "name": "stderr",
     "output_type": "stream",
     "text": [
      "\r",
      " 58%|█████▊    | 578/1000 [04:06<03:23,  2.07it/s]"
     ]
    },
    {
     "name": "stdout",
     "output_type": "stream",
     "text": [
      "多 粒 度 拓 展 语 言 层 级 群 组 d e m a t e l 改 进 方 法\n",
      "基 于 拓 展 语 言 层 级 模 型 的 多 粒 度 群 组 d e m a t e l 改 进 方 法\n",
      "决策试行与评价实验室方法(decision making trial and evaluation laboratory,DEMATEL)作为一种面向复杂社会经济系统问题的因素分析算法,近年来受到国内外学者的广泛关注。为解决DEMATEL方法在分析复杂不确定社会经济系统时,由于专家知识背景不同而导致的群组专家选择多粒度评价标度进行偏好信息判断的问题,引入二元语义模型表达群组专家的偏好判断信息,提出一种基于拓展语言层级模型的多粒度群组DEMATEL改进方法。改进方法先对群组专家给出的不同粒度评价信息构造二元语义直接影响矩阵,再利用拓展语言层级模型进行归一化处理,并通过二元语义集合算子进行群组信息的集成,进而运用DEMATEL方法进行系统因素的因果关系分析与决策。最后,将改进方法应用于中国汽车零部件再制造的内部障碍因素分析,案例应用结果表明,所提方法在实践中是切实可行的。\n",
      "\n"
     ]
    },
    {
     "name": "stderr",
     "output_type": "stream",
     "text": [
      "\r",
      " 58%|█████▊    | 579/1000 [04:07<03:06,  2.25it/s]"
     ]
    },
    {
     "name": "stdout",
     "output_type": "stream",
     "text": [
      "基 于 空 间 密 铺 的 并 行 s t e n c i l 算 法\n",
      "两 层 密 铺 分 块 的 并 行 算 法\n",
      "Stencil计算是一种科学和工程应用中常见的循环模式,而分块技术是一种提高数据局部性和并行性的强大转换方法。与以往直接对整个迭代空间进行分块的分块技术不同,提出了一种新的两层密铺分块的并行算法。首先,利用不同分块密铺数据空间;然后,所有分块沿时间维度扩展密铺迭代空间。该算法有以下优点:(1)最大化并发执行;(2)无冗余计算;(3)简洁的循环条件;(4)适应Stencil不同的尺寸、形状、阶数和边界条件。实验结果表明,对于3D27p Stencil,非周期边界的性能比Pluto高12%,周期边界的性能比Pochoir最高提升40%。\n",
      "\n"
     ]
    },
    {
     "name": "stderr",
     "output_type": "stream",
     "text": [
      "\r",
      " 58%|█████▊    | 580/1000 [04:07<03:12,  2.19it/s]"
     ]
    },
    {
     "name": "stdout",
     "output_type": "stream",
     "text": [
      "网 络 断 路 感 知 的 同 步 机 制\n",
      "基 于 改 进 的 局 部 连 续 树 通 信 模 式 求 解 网 络 断 路 问 题\n",
      "在网络中,由于负载过量等原因导致网络断路的情况是常见的,而现有的同步算法未曾考虑这种状况,通过实验表明网络断路对同步效率的影响很大,最坏情况下断路会使得现有算法的同步时间增加一倍。为了缓解现有同步算法在网络断路情况下效率骤降的问题,在现有Barrier同步算法的基础上,提出一种动态局部连续树算法(dynamic local continuous tree,DLCT)。在断路时,调用提出的异步调整算子(asynchronous adjustment operator,AAO)对通信模式进行调整使之避开断路,并构造局部连续树(local continuous tree,LCT)结构的通信模式高效传递同步消息。DLCT的通信模式能动态调整有效避开断路,并提高同步机制在断路情况下的效率。在断路情况下DLCT比现有算法效率高30%到50%。\n",
      "\n"
     ]
    },
    {
     "name": "stderr",
     "output_type": "stream",
     "text": [
      "\r",
      " 58%|█████▊    | 581/1000 [04:08<03:04,  2.27it/s]"
     ]
    },
    {
     "name": "stdout",
     "output_type": "stream",
     "text": [
      "带 有 覆 盖 率 机 制 的 文 本 摘 要 模 型 研 究\n",
      "基 于 覆 盖 率 机 制 的 文 本 摘 要 建 模 与 分 析\n",
      "近年来文本信息出现了爆炸式增长,人们没有足够的精力去阅读这些文本,因此如何自动地从文本中提取关键信息就显得尤为重要,而文本摘要技术可以很好地解决这个问题。目前的文本摘要技术主要是利用带有注意力(attention)机制的序列到序列模型(sequence to sequence)对文本生成摘要,但是注意力机制在每个时刻的计算是独立的,没有考虑到之前时刻生成的文本信息,导致模型在生成文本时忽略了之前生成的内容,导致重复生成部分信息。针对这一问题,在文本摘要模型中引入了一种新的覆盖率(coverage)机制,通过覆盖向量记录历史时刻的注意力权重分布信息,并用来改变当前时刻注意力机制的权重分布,使模型更多地关注没有利用到的信息。改进后的模型在新浪微博数据集上进行了实验,实验结果表明,基于新提出的覆盖率机制的文本摘要模型的准确度高于普通的序列到序列模型。\n",
      "\n"
     ]
    },
    {
     "name": "stderr",
     "output_type": "stream",
     "text": [
      "\r",
      " 58%|█████▊    | 582/1000 [04:08<03:06,  2.24it/s]"
     ]
    },
    {
     "name": "stdout",
     "output_type": "stream",
     "text": [
      "数 据 、 信 息 和 知 识 三 层 图 谱 架 构 的 推 荐 服 务 设 计\n",
      "基 于 知 识 图 谱 的 可 自 动 抽 象 资 源 优 化 过 程 研 究\n",
      "海量的学习资源会引起用户在学习过程中产生认知过载和资源迷航,对数据、信息和知识等形态的资源的原始表述的自然语言的机器理解、自动处理、自动综合和自动分析等成为了巨大的挑战。从应对自动增量式结合经验知识和减少人工专家交互负担等两方面考虑,从资源建模、资源处理、处理优化和资源管理等角度进行研究,基于对现有知识图谱(knowledge graph)概念的拓展提出了一种三层可自动抽象调整的解决架构。该架构借助从数据图谱上以实体综合频度计算为核心的分析到信息图谱和知识图谱上的自适应的自动抽象的资源优化过程支持经验知识引入和高效自动语义分析。该框架借助对应5W(who/when/where,what and how)问题的分类接口衔接用户的学习需求等资源化描述,为用户提供个性化学习服务推荐。\n",
      "\n"
     ]
    },
    {
     "name": "stderr",
     "output_type": "stream",
     "text": [
      "\r",
      " 58%|█████▊    | 583/1000 [04:08<02:53,  2.40it/s]"
     ]
    },
    {
     "name": "stdout",
     "output_type": "stream",
     "text": [
      "非 均 匀 划 分 拟 阵 约 束 下 的 多 样 性 推 荐 方 法\n",
      "基 于 用 户 偏 好 的 多 样 性 推 荐 模 型\n",
      "多样性推荐方法旨在提供既满足相关性又具有多样性的top-k推荐结果。大多数现有的多样性方法没有同时考虑多样性和准确度,而且这些方法假设每个推荐项的重要程度是相同的。受此启发,针对个性化推荐系统,提出一种新的基于用户偏好的多样性推荐模型。该模型对用户的整体类别偏好程度、同一类别内部的偏好程度和相关度进行建模;将多样性和相关性同时融合到子模函数中,同时在模型上施加了非均匀划分拟阵约束(即不同用户对不同类别的偏好程度以及同一类别内部的偏好程度不同,每个推荐项的重要程度也不同);证明了最大化提出的目标函数是NP-hard问题,并通过类别簇内局部贪心求解子模函数获得(1-1/e)的近似保证率,同时降低了算法复杂度。最后,引入一个惩罚因子自动调节同一类别中的推荐项加入推荐列表的困难程度。不同数据集上的实验结果表明:提出的方法不仅能够在准确度和多样性之间取得有效的折中,而且具有高效性。\n",
      "\n"
     ]
    },
    {
     "name": "stderr",
     "output_type": "stream",
     "text": [
      "\r",
      " 58%|█████▊    | 584/1000 [04:09<02:41,  2.57it/s]"
     ]
    },
    {
     "name": "stdout",
     "output_type": "stream",
     "text": [
      "结 合 深 度 学 习 的 网 络 邻 居 结 构 研 究 及 应 用\n",
      "基 于 深 度 学 习 的 网 络 邻 居 结 构 影 响 力 模 型\n",
      "通过研究网络的拓扑结构可以探索到丰富的知识,特别是网络中节点的邻居可以形成不同的邻居结构,而不同的结构蕴含着不同的意义,进而也有着不同的影响。实际上,邻居结构与节点的交互行为之间是互相影响、互为因果的。对三种最为普遍的邻居结构进行分析,并提出结合深度学习的网络邻居结构影响力模型DNSI(neighbor structure influence based on deep learning)。通过对图片格式的网络数据提取特征,DNSI可以得到三种邻居结构影响力。分别在几个真实世界网络数据集上进行节点属性预测、类别中心度度量和用户行为预测等任务,实验结果表明该模型在绝大多数情况下具有优越性。\n",
      "\n"
     ]
    },
    {
     "name": "stderr",
     "output_type": "stream",
     "text": [
      "\r",
      " 58%|█████▊    | 585/1000 [04:09<02:45,  2.51it/s]"
     ]
    },
    {
     "name": "stdout",
     "output_type": "stream",
     "text": [
      "局 部 差 分 隐 私 约 束 的 链 接 攻 击 保 护\n",
      "交 互 式 差 分 隐 私 保 护 数 据 扰 动 算 法 研 究\n",
      "传统意义的交互式差分隐私保护模型对数据查询结果进行扰动,不能满足用户对数据的多样化需求。为有效使用数据并满足隐私保护要求,用局部差分隐私的思想,在随机响应的基础上实现数据集的链接攻击保护。首先,针对原始数据的分布情况,研究如何更好地选择随机转换矩阵P,在数据效用和隐私保护的基础上更好地实现链接隐私保护,从而避免身份披露和属性披露;其次,针对敏感、准标识符属性以及它们之间的组合讨论相应的隐私保护方法和数据效用的最大化,并给出数据扰动算法;最后,在已知数据分布均值和方差的基础上实验验证原始数据和扰动数据之间的KL-散度、卡方。实验结果表明所用随机化可以带来较小的效用损失。\n",
      "\n"
     ]
    },
    {
     "name": "stderr",
     "output_type": "stream",
     "text": [
      "\r",
      " 59%|█████▊    | 586/1000 [04:10<02:48,  2.45it/s]"
     ]
    },
    {
     "name": "stdout",
     "output_type": "stream",
     "text": [
      "深 度 神 经 网 络 在 森 林 步 道 视 觉 识 别 中 的 应 用\n",
      "基 于 双 列 深 度 神 经 网 络 的 森 林 步 道 视 觉 识 别\n",
      "无人机自主导航在已知或结构化环境中已取得大量研究成果,但在森林等非结构化环境中的技术仍不够成熟。无人机在复杂的森林环境中通过识别森林步道飞行是一种安全有效的行进方式。提出了一种针对森林环境下路径识别的双列深度神经网络模型(two-column deep neural networks,2CDNN),该网络模型通过直方图均衡化结合边缘提取的方法获取特征图,再将特征图与RGB图馈入两路并列的深度残差网络,从而提取出森林场景中的色彩与纹理特征,最终根据网络分类结果来确定飞行方向指令。该模型在森林数据集IDSIA上进行评估,准确率高达91.31%,比现有的方法提高了4.41%。实验结果表明该模型可以有效地提高无人机在森林环境中的路径感知性能,在自主导航领域具有一定的泛化性和实用意义。\n",
      "\n"
     ]
    },
    {
     "name": "stderr",
     "output_type": "stream",
     "text": [
      "\r",
      " 59%|█████▊    | 587/1000 [04:10<02:52,  2.40it/s]"
     ]
    },
    {
     "name": "stdout",
     "output_type": "stream",
     "text": [
      "紧 凑 型 深 度 卷 积 神 经 网 络 在 图 像 识 别 中 的 应 用\n",
      "紧 凑 型 卷 积 神 经 网 络 的 多 特 征 分 析 方 法\n",
      "针对深度卷积神经网络的结构越来越复杂,参数规模过于庞大的问题,设计出一种新的紧凑型卷积神经网络结构Width-MixedNet和其多分支的基本模块Conv-mixed,该架构扩展了卷积神经网络的宽度。Convmixed利用分支结构使多个不同的卷积层处理同一个特征图,提取不同的特征。在深度卷积神经网络的识别任务中,使用多个小型卷积层叠加,逐层缩小特征图的方法代替全连接层进行最后的特征提取。整个Width-MixedNet架构的参数数量只有3.4×10~5,仅有传统深度卷积神经网络的1/30。分别在CIFAR-10、CIFAR-100和MNIST数据集上进行实验,准确率分别达到了93.02%、66.19%和99.59%。实验表明,Width-MixedNet有更强的学习能力和表现能力,在提高识别精度的同时,大大降低了网络的参数规模。\n",
      "\n"
     ]
    },
    {
     "name": "stderr",
     "output_type": "stream",
     "text": [
      "\r",
      " 59%|█████▉    | 588/1000 [04:10<03:00,  2.29it/s]"
     ]
    },
    {
     "name": "stdout",
     "output_type": "stream",
     "text": [
      "梯 度 约 束 s l i c 的 快 速 视 频 目 标 提 取 方 法\n",
      "基 于 梯 度 约 束 s l i c 的 快 速 视 频 目 标 提 取 方 法\n",
      "提出了一种基于梯度约束SLIC(simple linear iterative clustering)的快速视频目标提取方法,允许在关键视频帧上提供少量用户交互下,该方法能够快速并精确地提取复杂视频片段中的视频目标。首先,采用梯度约束的SLIC算法对视频片段进行预处理,有效降低待处理的视频数据量;其次,以预处理生成的超像素为结点构建三维无向图,在此基础上定义能量函数,并结合外观特征与运动特征建立鲁棒的相似外观度量机制;最后,采用最大流/最小割算法最小化能量函数以得到三维无向图的最优划分,从而最终实现视频目标提取。实验结果表明,该方法在处理包含复杂场景的视频片段时能够获得理想的视频目标提取结果,且时间效率相比现有视频目标提取方法明显提高。\n",
      "\n"
     ]
    },
    {
     "name": "stderr",
     "output_type": "stream",
     "text": [
      "\r",
      " 59%|█████▉    | 589/1000 [04:11<03:24,  2.01it/s]"
     ]
    },
    {
     "name": "stdout",
     "output_type": "stream",
     "text": [
      "人 工 蜂 群 算 法 优 化 的 特 征 选 择 方 法\n",
      "一 种 基 于 k n e e   p o i n t s 的 改 进 多 目 标 人 工 蜂 群 算 法 的 特 征 选 择\n",
      "在分类问题中,数据之间存在的大量冗余、不相关的特征不仅不能增加分类准确率,反而会降低分类算法执行的速度。特征选择通过最大化分类正确率和最小化特征数来解决这个问题,由于这是两个相互矛盾的目标,因此可以将特征选择问题视为一种多目标优化问题。为了提升特征选择的效率,提出了一种基于Knee Points的改进多目标人工蜂群算法的特征选择方法(artificial bee colony algorithm based on Knee Points,KnABC),设计了一种快速识别Knee Points的方法,并改进了引领蜂和引领蜂算子。与其他经典多目标算法在11个UCI测试数据集上的特征选择实验结果表明,提出的算法在减小分类特征数、增大分类结果准确率方面具有显著效果。\n",
      "\n"
     ]
    },
    {
     "name": "stderr",
     "output_type": "stream",
     "text": [
      "\r",
      " 59%|█████▉    | 590/1000 [04:11<03:05,  2.21it/s]"
     ]
    },
    {
     "name": "stdout",
     "output_type": "stream",
     "text": [
      "原 信 息 与 映 射 信 息 组 合 的 多 核 学 习 降 维 方 法\n",
      "基 于 多 核 学 习 的 降 维 方 法 研 究\n",
      "对于一些降维算法来说,数据的流形结构会对其降维效果造成很大影响。针对已有的多核学习降维算法没有考虑到保持数据流形结构这一问题,在其基础上提出了一种新的多核学习降维方法。其实质是由于数据通过映射函数投影到高维空间,在这个过程中可能会造成数据流形结构的扭曲,为了保持原数据的流形结构,从原数据中选择全部或局部信息与映射空间信息进行组合,从而使得在高维投影空间中能够较好地保存原数据的流形结构,减小因数据在映射空间中产生扭曲而对降维结果造成的影响。原信息与特征信息组合的方法最终将表示为核之间的耦合,并可以通过原多核学习框架的优化方法进行优化得到其核权重系数。实验证明,通过使用新方法,使用少量的特征也能够达到不错的效果,同时在时间效率上较原多核学习框架的方法也有所提高。\n",
      "\n"
     ]
    },
    {
     "name": "stderr",
     "output_type": "stream",
     "text": [
      "\r",
      " 59%|█████▉    | 591/1000 [04:12<03:16,  2.09it/s]"
     ]
    },
    {
     "name": "stdout",
     "output_type": "stream",
     "text": [
      "用 于 域 适 应 的 多 边 缘 降 噪 自 动 编 码 器\n",
      "基 于 多 边 缘 降 噪 自 动 编 码 器 的 边 缘 化 特 征 学 习\n",
      "神经网络模型被广泛用于跨领域分类学习。边缘堆叠降噪自动编码器(marginalized stacked denoising autoencoders,mSDA)作为一种神经网络模型,通过对源领域和目标领域数据进行边缘化加噪损坏,学习一个公共的、健壮的特征表示空间,从而解决领域适应问题。然而,mSDA对所有的特征都采取相同的边缘化加噪处理方式,没有考虑到不同特征对分类结果的影响不同。为此,对特征进行区分性的噪音系数干扰,提出多边缘降噪自动编码器(multi-marginalized denoising autoencoders,M-MDA)。首先,利用改进的权重似然率(weighted log-likelihood ratio update,WLLRU)区分出领域间的共享和特有特征;然后,通过计算特征在两个领域的距离,对共享特征和特有特征进行不同方式的边缘化降噪处理,并基于单层边缘降噪自动编码器(marginalized denoising autoencoders,MDA)学习获取更健壮的特征;最后,对新的特征空间进行二次损坏以强化共享特征的比例。实验结果表明,该方法在跨领域情感分类方面优于基线算法。\n",
      "\n"
     ]
    },
    {
     "name": "stderr",
     "output_type": "stream",
     "text": [
      "\r",
      " 59%|█████▉    | 592/1000 [04:12<03:02,  2.23it/s]"
     ]
    },
    {
     "name": "stdout",
     "output_type": "stream",
     "text": [
      "车 辆 合 乘 问 题 的 分 布 式 复 合 变 邻 域 搜 索 算 法\n",
      "长 期 车 辆 合 乘 问 题 的 复 合 变 邻 域 搜 索 算 法\n",
      "针对长期车辆合乘问题(long-term carpooling problem,LTCPP),提出一种基于分布式的复合变邻域搜索算法,利用分布式计算的优势可快速求解出大规模用户的合乘匹配方案。首先构建带有时间窗约束和车容量约束的数学模型,建立成本计算的目标函数;然后按复合距离优先算法将所有用户分配到各合乘小组中,最终得到满足约束条件的初始合乘方案。通过对变邻域搜索算法进行分布式处理,使算法可以对初始合乘方案进行并行迭代优化计算,得到最终的合乘方案。实验结果表明,该算法在速度和大规模问题求解质量上具有明显的优势。\n",
      "\n"
     ]
    },
    {
     "name": "stderr",
     "output_type": "stream",
     "text": [
      "\r",
      " 59%|█████▉    | 593/1000 [04:13<02:49,  2.40it/s]"
     ]
    },
    {
     "name": "stdout",
     "output_type": "stream",
     "text": [
      "基 于 混 合 采 样 的 非 平 衡 数 据 分 类 算 法\n",
      "基 于 分 类 超 平 面 的 混 合 采 样 算 法\n",
      "过采样和欠采样方法是处理非平衡数据集分类的常用方法,但使用单一的采样算法可能造成少数类样本过拟合或者丢失含有重要信息的样本。提出了基于分类超平面的混合采样算法SVM＿HS(hybrid sampling algorithm based on support vector machine),旨在克服SVM算法在处理非平衡数据时分类超平面容易偏向少数类样本的问题。该算法首先利用SVM算法得到分类超平面。然后迭代进行混合采样,主要包括:(1)删除离分类超平面较远的一些多数类样本;(2)对靠近真实类边界的少数类样本用SMOTE(synthetic minority oversampling technique)过采样,使分类超平面向着真实类边界方向偏移。实验结果表明相比其他相关算法,该算法的F-value值和G-mean值均有较大提高。\n",
      "\n"
     ]
    },
    {
     "name": "stderr",
     "output_type": "stream",
     "text": [
      "\r",
      " 59%|█████▉    | 594/1000 [04:13<02:53,  2.34it/s]"
     ]
    },
    {
     "name": "stdout",
     "output_type": "stream",
     "text": [
      "有 限 域 上 稀 疏 多 元 多 项 式 插 值 算 法\n",
      "基 于 改 进 j a v a d i / m o a g a n 稀 疏 插 值 算 法\n",
      "稀疏插值是一种降低计算机代数算法时间复杂度的有效方法,在信号处理、压缩感知、结式计算、图像处理等领域都有广泛应用。为了提高稀疏多元多项式插值算法的效率,对Javadi/Monagan稀疏插值算法进行了改进。首先,消除了必须预先给定项数界T的限制,通过计算特定的矩阵行列式,得到插值多项式f的准确项数。然后,消除了必须预先给定次数界D的限制,通过构造辅助函数,利用概率法结合提前终止技术的Cauchy插值法,得到插值多项式f的准确次数,解决了Javadi和Monagan论文中提出的次数界D过高而导致的高计算复杂度的问题。理论分析和实验结果表明了改进算法的优势,特别是在给定的次数界D过高的情况下,相较于Javadi/Monagan算法,改进算法的性能有较大提高。更进一步,由于改进算法无须给定项数界T和次数界D,对于实际问题在利用插值恢复或近似时更具实用性。\n",
      "\n"
     ]
    },
    {
     "name": "stderr",
     "output_type": "stream",
     "text": [
      "\r",
      " 60%|█████▉    | 595/1000 [04:14<02:49,  2.39it/s]"
     ]
    },
    {
     "name": "stdout",
     "output_type": "stream",
     "text": [
      "融 合 协 同 过 滤 与 上 下 文 信 息 的 b a n d i t s 推 荐 算 法\n",
      "基 于 商 品 特 征 与 混 合 分 类 的 冷 启 动 推 荐 算 法\n",
      "随着推荐算法在众多领域的广泛应用,冷启动问题得到了越来越多的关注。针对仅可获得老用户对商品文字评价的场景,提出了一套解决用户冷启动问题的方案与算法。首先通过分析发现了文章主题提取与基于商品评价提取特征的相似性,因此引入自然语言处理领域的LDA(latent Dirichlet allocation)生成模型提取商品潜在特征;然后在传统Bandits算法的基础上融入邻居用户的协同作用提出了COLINBA(collaborativefiltering context linear Bandits)算法,该算法通过相似度权重因子控制邻居用户对推荐结果的贡献,使得协同作用更加精确有效,推荐完成后根据用户真实反馈以及所推荐商品的特征更新用户特征。最后采用真实数据集Delicious和Last.fm将该算法与该领域的最新方法进行比较,实验结果表明该算法对推荐效果有提升作用。\n",
      "\n"
     ]
    },
    {
     "name": "stderr",
     "output_type": "stream",
     "text": [
      "\r",
      " 60%|█████▉    | 596/1000 [04:14<02:45,  2.43it/s]"
     ]
    },
    {
     "name": "stdout",
     "output_type": "stream",
     "text": [
      "国 家 高 性 能 计 算 环 境 事 件 流 系 统 的 设 计\n",
      "国 家 高 性 能 计 算 环 境 事 件 流 处 理 与 分 发 系 统\n",
      "国家高性能计算环境是由中国众多国家级计算中心和高校的计算集群聚合而成的大型高性能计算环境,为国内研究人员提供优质计算资源。出于维护环境正常稳定运行的目的,环境管理人员需要获取环境内部所发生的各种事件信息,以确保及时迅速地对环境产生的问题进行处理。针对这种需求,设计了国家高性能计算环境事件流处理与分发系统,用于对环境各类事件进行收集和按类型分类,最终提供给对事件有需求的环境应用。在该系统中,事件工厂模块负责对环境的各种事件进行格式解析以及初步过滤和处理等加工工作,然后将加工过的事件封装为统一的接口格式对外发布。初步实现了事件流系统的各部分功能,将其部署到国家高性能计算环境中,并对该系统的事件处理延时进行测试。实验结果表明事件处理过程的延时很低,可以满足对事件时效性的要求。\n",
      "\n"
     ]
    },
    {
     "name": "stderr",
     "output_type": "stream",
     "text": [
      "\r",
      " 60%|█████▉    | 597/1000 [04:14<02:36,  2.57it/s]"
     ]
    },
    {
     "name": "stdout",
     "output_type": "stream",
     "text": [
      "加 权 好 友 推 荐 模 型 链 路 预 测 算 法\n",
      "基 于 加 权 好 友 推 荐 模 型 链 路 预 测 算 法\n",
      "链路预测是复杂网络的一个重要研究方向。基于节点结构相似性进行链路预测是目前常用的方法。真实网络中存在大量的局部群落结构,针对不同的网络结构构建算法是链路预测的核心问题。利用社交网络好友推荐策略,中介人倾向于将自己更熟悉的人介绍给目标用户,提出了一种节点相似性度量指标。该指标结合局部特征描述并有效区分了用户节点之间影响力的不同,更适用于一类特定的局部群落结构。依据该指标提出的加权好友推荐模型链路预测算法在12个数据集上的实验结果表明,该算法在AUC和Precision两个评价标准上具有明显优势。\n",
      "\n"
     ]
    },
    {
     "name": "stderr",
     "output_type": "stream",
     "text": [
      "\r",
      " 60%|█████▉    | 598/1000 [04:15<02:40,  2.50it/s]"
     ]
    },
    {
     "name": "stdout",
     "output_type": "stream",
     "text": [
      "多 方 强 隐 私 保 护 记 录 链 接 方 法\n",
      "多 方 强 隐 私 保 护 记 录 链 接 的 匹 配\n",
      "链接跨组织数据库中表示同一实体的记录,同时保护存储在这些数据库中实体的隐私,是安全有效地整合多源数据资源的核心技术之一。然而,已有隐私保护记录链接(privacy-preserving record linkage,PPRL)技术中的分块方法不能同时保证高查全率和高查准率,强隐私性的匹配方法存在时间代价过大的不足,且对多于两个数据库间的匹配研究很少。针对上述问题,提出了一种多方强隐私保护记录链接方法(multi-partystrong-privacy-preserving record linkage,MP-SPPRL)。首先,提出了一种局部敏感哈希(locality sensitiveHashing,LSH)结合后缀分块的二次分块方法,并引入分块分散度调节两次分块,在保证MP-SPPRL高查全率的前提下有效地提高了查准率;接着,利用滑动窗口合并分块生成候选记录组,保证MP-SPPRL的容错率;然后,采用基于同态加密的Hamming距离计算方法,设计了一种适用于大型数据的基于安全多方计算(securemulti-party computation,SMC)的可伸缩多方记录匹配算法,通过缩减加密记录数量和提前终止不可能匹配的候选记录组的距离计算,显著降低了匹配的时间代价,提高了MP-SPPRL的效率;最后,通过大量实验验证了MP-SPPRL的高查全率、高查准率和高效性。\n",
      "\n"
     ]
    },
    {
     "name": "stderr",
     "output_type": "stream",
     "text": [
      "\r",
      " 60%|█████▉    | 599/1000 [04:15<02:47,  2.40it/s]"
     ]
    },
    {
     "name": "stdout",
     "output_type": "stream",
     "text": [
      "障 碍 空 间 中 基 于 网 格 的 不 确 定 数 据 聚 类 算 法\n",
      "静 态 障 碍 空 间 中 不 确 定 数 据 聚 类 算 法 研 究\n",
      "为了解决已有研究成果无法有效解决动态障碍空间中的不确定数据聚类问题,根据障碍集合是否发生变化,分别解决静态障碍和动态障碍空间下的聚类问题。提出了静态障碍空间中的不确定数据聚类算法(DBSCAN clustering algorithm for static obstacles in grid space,STA_GOBSCAN)、障碍物动态增加情况下的不确定数据聚类算法(DBSCAN clustering algorithm for dynamic increase of obstacles in grid space,DYN_GOCBSCAN)、障碍物动态减少情况下的不确定数据聚类算法(DBSCAN clustering algorithm for dynamicreduction of obstacles in grid space,DYN_GORBSCAN)和障碍物动态移动情况下的不确定数据聚类算法(DBSCAN clustering algorithm for dynamic movement of obstacles in grid space,DYN_GOMBSCAN),采用KL距离对不确定数据进行相似性度量,并利用网格对数据空间进行划分。理论研究和实验结果表明所提出的算法具有较高的效率和准确率。\n",
      "\n"
     ]
    },
    {
     "name": "stderr",
     "output_type": "stream",
     "text": [
      "\r",
      " 60%|██████    | 600/1000 [04:16<02:43,  2.45it/s]"
     ]
    },
    {
     "name": "stdout",
     "output_type": "stream",
     "text": [
      "采 用 p u f 保 护 位 置 隐 私 的 轻 量 级 r f i d 移 动 认 证 协 议\n",
      "基 于 p u f 技 术 的 供 应 链 管 理 系 统 设 计 与 仿 真\n",
      "将RFID(radio frequency identification)技术应用于供应链管理,可极大提高供应链系统的识别效率和商品信息的追溯能力。EPC C1G2(electronic product code class 1 generation 2)标准凭借远距离识别和低成本标签的价格优势成为供应链中应用最广的协议标准。针对低成本标签的安全和隐私问题,采用PUF(physical unclonable function)作为密钥生成机制以抵御攻击者假冒攻击,实现商品的防伪保护;引入对读写器身份的安全认证,以适应供应链中移动认证的应用环境;采用二次剩余定理和不断更新的共享密钥机制实现标签的前向和后向不可追踪性,保护标签携带者的位置隐私。仿真结果表明,服务器的识别效率为O(1),满足供应链对RFID系统可拓展的应用要求。\n",
      "\n"
     ]
    },
    {
     "name": "stderr",
     "output_type": "stream",
     "text": [
      "\r",
      " 60%|██████    | 601/1000 [04:16<02:46,  2.40it/s]"
     ]
    },
    {
     "name": "stdout",
     "output_type": "stream",
     "text": [
      "v - n d n 中 p b d a 攻 击 的 检 测 与 缓 解 方 法 的 研 究\n",
      "命 名 数 据 网 络 中 兴 趣 包 涟 漪 式 广 播 扩 散 攻 击 的 研 究\n",
      "命名数据网络是下一代重要的网络体系结构之一。然而,命名数据网络和车辆自组织网络结合时会产生一种新的攻击模式——兴趣包涟漪式广播扩散攻击。针对兴趣包涟漪式广播扩散攻击,提出基于节点间协作的缓解策略,节点通过直接和间接交换PIT表信息得到邻居节点的PIT表,并将邻居节点不同时刻PIT表项与自身PIT对应表项进行比较来丢弃恶意兴趣包,从而保证正常的网络服务。实验结果表明该检测和缓解方法能够提高兴趣包满足率。\n",
      "\n"
     ]
    },
    {
     "name": "stderr",
     "output_type": "stream",
     "text": [
      "\r",
      " 60%|██████    | 602/1000 [04:16<02:51,  2.33it/s]"
     ]
    },
    {
     "name": "stdout",
     "output_type": "stream",
     "text": [
      "改 进 的 a b e 在 公 有 云 存 储 访 问 控 制 中 的 研 究\n",
      "一 种 基 于 属 性 基 加 密 算 法 的 云 存 储 访 问 控 制 方 法\n",
      "在云存储访问控制领域,属性基加密算法(attribute-based encryption,ABE)是一种极具应用前景的密码体制。ABE不仅可以保证云计算环境下的信息安全性,同时提供了灵活的访问控制机制。当前ABE在安全性上主要面临密钥托管问题(key escrow problem)的威胁,并且由于涉及大量双线性配对,在计算效率方面不尽如人意。设计了一种改进的ABE算法,通过私钥的分布式生成解决了密钥托管问题。同时改进的算法无需进行双线性配对,在计算效率上相比已有的ABE算法有所提升。通过将算法规约至计算Diffie-Hellman问题(compu-tational Diffie-Hellman problem,CDH)的难解性上,证明了该方案在随机预言机模型下能够抵抗选择密文攻击。\n",
      "\n"
     ]
    },
    {
     "name": "stderr",
     "output_type": "stream",
     "text": [
      "\r",
      " 60%|██████    | 603/1000 [04:17<02:48,  2.36it/s]"
     ]
    },
    {
     "name": "stdout",
     "output_type": "stream",
     "text": [
      "改 进 的 差 分 搜 索 算 法 的 医 学 图 像 配 准\n",
      "基 于 改 进 差 分 搜 索 算 法 的 医 学 图 像 配 准\n",
      "基于互信息的医学图像配准具有精度高、鲁棒性强等特点,但互信息存在一定的局部极值,加上面对噪声图像时曲线往往不平滑,给优化过程带来了很大的困难。针对此问题,提出一种改进的差分搜索算法(modified differential search algorithm,MDSA),对交叉累计剩余熵(cross cumulative residual entropy,CCRE)进行寻优。该MDSA对原始差分搜索算法模型的搜索范围和迭代条件进行了改进,使得寻优过程更加稳定、高效。改进后的MDSA具有控制参数简单,不依赖于初始点选择,合理的搜索方向和边界控制策略等优势,有着优秀的全局和局部寻优能力。将该方法应用于医学图像刚体配准,结果证明MDSA相比差分搜索算法,能够有效地克服互信息函数存在的局部极值,提高了配准的成功率,具有较高的配准精度和较快的配准速度。\n",
      "\n"
     ]
    },
    {
     "name": "stderr",
     "output_type": "stream",
     "text": [
      "\r",
      " 60%|██████    | 604/1000 [04:17<02:40,  2.46it/s]"
     ]
    },
    {
     "name": "stdout",
     "output_type": "stream",
     "text": [
      "方 差 正 则 化 的 分 类 模 型 选 择 准 则\n",
      "方 差 正 则 化 的 分 类 模 型 选 择 准 则\n",
      "在传统的机器学习中,模型选择常常是直接基于某个性能度量指标的估计本身进行,没有考虑估计的方差,但是这样的忽略极有可能导致错误模型的选择。于是考虑在分类模型选择研究中添加方差的信息的方法,以提高所选模型的泛化能力,即将泛化误差性能度量指标的组块3×2交叉验证估计的方差估计作为正则化项添加到传统模型选择准则中,提出了一种新的方差正则化的分类模型选择准则。模拟和真实数据实验验证了在分类模型选择问题中,提出的模型选择准则相比传统方法选到正确分类模型的概率更大,验证了方差在模型选择中的重要性以及提出的模型选择准则的有效性。进一步,理论上证明了在二分类问题的模型选择中,该模型选择准则具有选择的一致性。\n",
      "\n"
     ]
    },
    {
     "name": "stderr",
     "output_type": "stream",
     "text": [
      "\r",
      " 60%|██████    | 605/1000 [04:18<03:00,  2.19it/s]"
     ]
    },
    {
     "name": "stdout",
     "output_type": "stream",
     "text": [
      "显 隐 信 息 协 同 的 多 视 角 极 限 学 习 模 糊 系 统\n",
      "基 于 隐 空 间 信 息 的 显 隐 视 角 协 同 的 模 糊 系 统 建 模\n",
      "多视角数据正在越来越多地应用于各种建模任务,但当前的多视角模糊系统建模方法,主要集中于实现各个显性视角的合作,还未能充分探讨和利用各视角间共享的隐信息。针对此,对如何引入各个显性视角共享的隐空间信息来实现显隐视角协同的模糊系统建模进行了研究。具体地,基于岭回归极限学习模糊系统(ridge regression extreme learning fuzzy system,RR-EL-FS)模型,引入隐空间信息实现显隐视角协同学习来对RR-EL-FS进行学习,最终开发出具有显隐视角协同功能的岭回归极限学习模糊系统预测模型(ridgeregression extreme learning fuzzy system with cooperation between visible and hidden views,RR-EL-FS-CVH)。该方法较之以往相关的多视角建模方法能更好地利用隐空间的有效信息,从而能够进一步提高受训模型的泛化性能。大量的实验结果亦验证了所提方法的有效性。\n",
      "\n"
     ]
    },
    {
     "name": "stderr",
     "output_type": "stream",
     "text": [
      "\r",
      " 61%|██████    | 606/1000 [04:18<03:22,  1.95it/s]"
     ]
    },
    {
     "name": "stdout",
     "output_type": "stream",
     "text": [
      "进 化 信 息 引 导 的 烟 花 差 分 混 合 多 目 标 算 法\n",
      "基 于 粒 子 进 化 信 息 引 导 的 自 适 应 多 目 标 烟 花 差 分 混 合 进 化 算 法\n",
      "烟花算法是一种有效启发式群智能算法,但基本的烟花算法只能解决单目标问题,个体间缺乏信息交流,进化过程中有用信息没有得到充分利用。为提高烟花算法的综合性能,并使其能够应用在多目标优化问题(multi-objective optimization problems,MOPs)上,提出一种基于粒子进化信息引导的自适应多目标烟花差分混合进化算法(multi-objective hybrid optimization algorithm of fireworks and differential guided by evolutioninformation,MOHFWDE)。利用Pareto前沿个体的进化信息引导种群进化,加快算法收敛速度;在烟花算法中引入差分算法的变异算子、交叉算子替换原有高斯变异算子,增强个体间的信息交流。与其他算法进行对比仿真实验,结果表明MOHFWDE具有良好的收敛性、分布性和逼近性。\n",
      "\n"
     ]
    },
    {
     "name": "stderr",
     "output_type": "stream",
     "text": [
      "\r",
      " 61%|██████    | 607/1000 [04:19<03:36,  1.82it/s]"
     ]
    },
    {
     "name": "stdout",
     "output_type": "stream",
     "text": [
      "s c h u r 分 解 的 快 速 零 水 印 算 法\n",
      "基 于 矩 阵 s u r e 分 解 的 双 重 加 密 快 速 鲁 棒 零 水 印 算 法\n",
      "为解决奇异值分解水印算法中所产生高虚警、鲁棒性不强以及安全性不高的问题,提出一种基于矩阵Schur分解的双重加密快速鲁棒零水印算法。该算法先将原始图像低频块进行矩阵Schur分解得到稳定值;提取Schur分解的块上三角矩阵对角线元素中含有最大能量元素的绝对值,并将其构造过渡矩阵;将该矩阵的平均值与每一个元素值进行比较生成感知哈希二值序列,构造特征矩阵;再将经过混沌映射加密的特征矩阵与斐波那契(Fibonacci)变换加密后的水印信息进行逻辑运算得到零水印;最后在第三方版权认证中心(intellectual property rights,IPR)完成注册。实验表明,在随机载体图像中所提取的水印NC值均在0.5以下,有效地解决高虚警问题;与基于整数小波变换的鲁棒零水印相比,抵抗噪声攻击的性能提高了2.43%;与时域水印算法相比,抵抗JPEG压缩攻击的性能提高了4.88%。\n",
      "\n"
     ]
    },
    {
     "name": "stderr",
     "output_type": "stream",
     "text": [
      "\r",
      " 61%|██████    | 608/1000 [04:20<03:32,  1.84it/s]"
     ]
    },
    {
     "name": "stdout",
     "output_type": "stream",
     "text": [
      "修 剪 中 值 检 测 的 自 适 应 加 权 中 值 滤 波 算 法\n",
      "基 于 加 权 中 值 的 自 适 应 加 权 中 值 滤 波 算 法\n",
      "针对现有算法在噪声检测与噪声滤除性能上的缺陷,提出修剪中值检测的自适应加权中值滤波算法。算法利用噪声的灰度特征,根据灰度最值0和255检测噪声,再根据邻域像素的相关性以及在灰度上的近似性,做进一步的噪声检测。根据邻域像素之间的相关性随距离的增大而减小的特性,对邻域中的信号像素分别赋予不同的加权系数,取加权中值以滤除噪声。算法去噪的邻域大小,随噪声密度和分布自适应地变化。通过去噪图像的主观视觉效果以及客观的去噪性能指标PSNR(peak signal to noise ratio)和IEF(imageenhancement factor),仿真实验证明,所提出的算法相对于现有的算法具有更好的去噪性能,特别对于滤除高密度噪声,具有显著的优越性。\n",
      "\n"
     ]
    },
    {
     "name": "stderr",
     "output_type": "stream",
     "text": [
      "\r",
      " 61%|██████    | 609/1000 [04:20<03:10,  2.06it/s]"
     ]
    },
    {
     "name": "stdout",
     "output_type": "stream",
     "text": [
      "直 觉 模 糊 序 决 策 系 统 的 部 分 一 致 约 简\n",
      "直 觉 模 糊 决 策 系 统 的 部 分 一 致 约 简\n",
      "直觉模糊决策系统是模糊决策系统的扩展,其中条件属性值均为直觉模糊元。讨论属性值之间带有序关系的直觉模糊决策系统,即直觉模糊序决策系统。首先,引入直觉模糊序决策系统的部分一致约简,并证明了在一致直觉模糊序决策系统中,部分一致约简恰为相对约简,因此部分一致约简是相对约简在不一致直觉模糊序决策系统中的扩展。其次,给出求解直觉模糊序决策系统全部部分一致约简的部分一致辨识矩阵和辨识函数。然后,介绍了部分一致约简的两种等价形式:下约简和下近似约简。最后,用实例验证了约简计算方法的可行性。\n",
      "\n"
     ]
    },
    {
     "name": "stderr",
     "output_type": "stream",
     "text": [
      "\r",
      " 61%|██████    | 610/1000 [04:20<03:12,  2.03it/s]"
     ]
    },
    {
     "name": "stdout",
     "output_type": "stream",
     "text": [
      "粗 糙 集 的 m a l l o w s   c _ p 选 择 算 法\n",
      "基 于 l o g i s t i c 模 型 的 粗 糙 集 的 粗 糙 集 择 优 方 法\n",
      "粗糙集选择是粗糙集实证研究中的关键步骤。目前常用的粗糙集择优标准是误判率。考虑到误判率准则未考察粗糙集的复杂度,存在过拟合风险,在测试集中误判率小的粗糙集不一定具有最强的泛化能力,引入Mallow’s C_p准则作为一种新粗糙集选择标准。粗糙集的Mallow’s C_p选择算法通过Logistic模型将非线性的粗糙集分类规则表达为线性形式,Logistic模型的C_p值作为粗糙集的C_p值,根据C_p值进行粗糙集择优。实际应用显示,粗糙集的Mallow’s C_p选择算法能够筛选出泛化能力强的粗糙集,相较误判率准则选出泛化能力强的粗糙集的频率更高。特别当多个粗糙集的误判率差异小时,新算法更可能选出泛化能力强的粗糙集。粗糙集的Mallow’s C_p选择算法兼顾了粗糙规则的分类准确性与复杂度,能够更好地选择泛化能力强的粗糙集。\n",
      "\n"
     ]
    },
    {
     "name": "stderr",
     "output_type": "stream",
     "text": [
      "\r",
      " 61%|██████    | 611/1000 [04:21<02:51,  2.27it/s]"
     ]
    },
    {
     "name": "stdout",
     "output_type": "stream",
     "text": [
      "软 决 策 分 析 方 法 及 其 在 智 能 推 荐 中 的 应 用\n",
      "基 于 软 集 的 软 决 策 规 则 分 析 方 法\n",
      "引入基于软集的软命题逻辑公式,给出软命题逻辑公式的语义解释,软集中的参数是原子公式,参数的函数值是原子公式的赋值集。将决策信息系统转化为决策软集,而软决策规则表示为由原子公式组成的蕴含逻辑公式。引进基本软真度、条件软真度、绝对软真度等概念,从充分性、必要性、合理性等不同方面来评价软决策规则,提出基于决策软集的典型软决策规则提取算法。将基于软集的软决策规则分析方法应用于智能推荐,给出基于软决策规则分析的推荐算法,实际例子和数值实验表明提出的算法是有效的。\n",
      "\n"
     ]
    },
    {
     "name": "stderr",
     "output_type": "stream",
     "text": [
      "\r",
      " 61%|██████    | 612/1000 [04:21<02:44,  2.36it/s]"
     ]
    },
    {
     "name": "stdout",
     "output_type": "stream",
     "text": [
      "基 于 奇 异 谱 分 析 的 音 频 信 息 隐 藏 算 法\n",
      "基 于 奇 异 谱 分 析 的 音 频 信 息 隐 藏 算 法\n",
      "针对现有的语音隐藏算法隐藏容量不高、鲁棒性较差、不能盲提取的问题,提出一种基于奇异谱分析的音频信息隐藏算法。运用奇异谱分析把原始音频载体分解成一系列的振动分量,通过修改特定振动分量的比例因子,实现秘密信息的嵌入。实验结果表明,所提算法具有良好的透明性、较大的隐藏容量,以及较强的鲁棒性,在提取水印信息时不需要原始音频载体,属于一种盲提取的信息隐藏算法。\n",
      "\n"
     ]
    },
    {
     "name": "stderr",
     "output_type": "stream",
     "text": [
      "\r",
      " 61%|██████▏   | 613/1000 [04:22<02:34,  2.50it/s]"
     ]
    },
    {
     "name": "stdout",
     "output_type": "stream",
     "text": [
      "面 向 云 辅 助 w b a n 的 无 证 书 公 共 审 计 方 案\n",
      "基 于 云 存 储 的 无 线 体 域 网 外 包 方 案\n",
      "针对无线体域网(wireless body area networks,WBAN)存储资源有限的特点,在WBAN中引入云存储,将WBAN收集到的数据外包到云端,提出无证书公共审计方案保护外包数据安全。无证书公钥密码体制消除了证书管理负荷,避免了密钥托管问题。公共审计无需下载云端数据到本地,通过第三方审计员远程检查数据的完整性,保护数据隐私。在计算Diffie-Hellman问题困难性假设下,该方案被证明在随机预言模型中是安全的。模拟分析结果表明,该方案运算消耗低,更适用于云辅助WBAN中。\n",
      "\n"
     ]
    },
    {
     "name": "stderr",
     "output_type": "stream",
     "text": [
      "\r",
      " 61%|██████▏   | 614/1000 [04:22<02:32,  2.52it/s]"
     ]
    },
    {
     "name": "stdout",
     "output_type": "stream",
     "text": [
      "基 于 l k h 树 的 组 播 密 钥 管 理 方 案 设 计\n",
      "大 规 模 组 播 系 统 密 钥 管 理 方 案 设 计 及 性 能 分 析\n",
      "组播系统较传统的单播系统更为复杂,更难获得安全保障,在组规模较大的情况下实际应用有一定困难。研究组播通信的安全隐患及组播安全机制优劣的评价标准,对照分析几种典型组播源认证协议的特性、问题及适用场合;以基于LKH树的密钥管理方案和Iolus密钥管理方案为基础,提出一种针对大规模组播的密钥管理方案;指出该方案折中了分布式与层次式密钥管理的优劣,分析该方案的性能优势并验证其性能。\n",
      "\n"
     ]
    },
    {
     "name": "stderr",
     "output_type": "stream",
     "text": [
      "\r",
      " 62%|██████▏   | 615/1000 [04:22<02:32,  2.52it/s]"
     ]
    },
    {
     "name": "stdout",
     "output_type": "stream",
     "text": [
      "基 于 组 签 名 的 r f i d 群 组 标 签 所 有 权 转 移 方 案\n",
      "基 于 组 签 名 的 r f i d 群 组 标 签 所 有 权 转 移 方 案\n",
      "物联网环境下无线射频(RFID)标签具有明显的群组特性,对单标签所有权转移方案扩展设计出高安全、低成本的群组标签所有权转移方案是一个新的挑战。为此,设计一种基于组签名的RFID群组标签所有权转移方案,以轻量级低运算量为原则,利用自组合交叉位运算,生成完整组签名标识,授权认证通过后实现新旧所有权的安全转移。在提出通用可组合安全模型下,定义群组标签转移理想函数,证明得到所需安全目标,并对比相关方案,其结果表明,该方案满足标签低成本标准,具有更高的认证、转移效率。\n",
      "\n"
     ]
    },
    {
     "name": "stderr",
     "output_type": "stream",
     "text": [
      "\r",
      " 62%|██████▏   | 616/1000 [04:23<02:34,  2.49it/s]"
     ]
    },
    {
     "name": "stdout",
     "output_type": "stream",
     "text": [
      "载 波 聚 合 下 基 于 q o e 的 资 源 调 度 算 法\n",
      "载 波 聚 合 下 基 于 q o e 的 资 源 调 度 算 法\n",
      "针对未来网络中的载波聚合技术,进行资源调度算法的研究。以用户体验质量(QoE)为优化目标,提出以用户平均意见得分(MOS)的增量效用为依据,确定用户时频资源分配的优先级。通过搭建效用函数等式,设计一种基于MOS增量效用的资源调度算法,在满足用户QoS速率需求的情况下,最大化系统整体QoE。在OpenairInterface (OAI)平台下实现载波聚合功能后进行的仿真结果表明,该系统整体QoE及吞吐量有明显提升。\n",
      "\n"
     ]
    },
    {
     "name": "stderr",
     "output_type": "stream",
     "text": [
      "\r",
      " 62%|██████▏   | 617/1000 [04:23<02:26,  2.62it/s]"
     ]
    },
    {
     "name": "stdout",
     "output_type": "stream",
     "text": [
      "基 于 网 络 效 率 最 优 的 关 键 节 点 识 别 方 法\n",
      "基 于 萤 火 虫 算 法 的 网 络 关 键 节 点 识 别\n",
      "准确合理地找出网络中的关键节点并加以保护,对提高网络的鲁棒性、稳定性有着重要的意义。因此,从优化的角度提出一种基于网络效率最优的关键节点识别方法。通过网络结构赋权构造一种网络鲁棒性测度函数,以此为目标函数利用萤火虫算法进行优化搜索,其中在离散化的基础上,用佳点集的思想构造初始序列,采用分区寻优的方法快速搜索满足测度函数的最优序列,在搜索过程中通过增加可变全局吸引力和自适应随机项,使得优化搜索能够准确收敛,实现对网络关键节点的识别。实验分析结果表明,所提方法识别效果更佳,对不同的网络结构具有一定通用性,所用改进萤火虫算法收敛速度更快,准确性更高。\n",
      "\n"
     ]
    },
    {
     "name": "stderr",
     "output_type": "stream",
     "text": [
      "\r",
      " 62%|██████▏   | 618/1000 [04:24<02:44,  2.32it/s]"
     ]
    },
    {
     "name": "stdout",
     "output_type": "stream",
     "text": [
      "高 密 度 场 景 下 d 2 d 通 信 干 扰 协 调 的 方 法\n",
      "高 密 度 d 2 d 用 户 复 用 蜂 窝 用 户 资 源 的 干 扰 协 调 方 法\n",
      "为满足未来网络高接入量、高速率的特征,将D2D通信引入蜂窝网络,但这将使网络中用户间干扰情况变得复杂。针对上述问题,提出一种高密度D2D用户复用蜂窝用户资源时的干扰协调方法,主要研究联合资源分配和功率控制来提高系统整体性能的问题。在资源分配方面,保证D2D接入量的前提下最大化每条复用链路的信干噪比。在功率控制方面,提出一种自适应粒子群算法,在蜂窝用户的服务质量得到保证的前提下使得系统的整体吞吐量最优。仿真结果表明,所提算法能够有效提高D2D的接入量并保证系统整体性能。\n",
      "\n"
     ]
    },
    {
     "name": "stderr",
     "output_type": "stream",
     "text": [
      "\r",
      " 62%|██████▏   | 619/1000 [04:24<02:36,  2.43it/s]"
     ]
    },
    {
     "name": "stdout",
     "output_type": "stream",
     "text": [
      "分 层 异 构 网 中 基 于 一 对 多 匹 配 的 资 源 分 配 算 法\n",
      "分 层 异 构 网 多 匹 配 资 源 分 配 算 法\n",
      "由于分层异构网中小蜂窝用户和D2D (device-to-device)用户共享宏蜂窝用户的频谱资源,因此会产生严重的同层和跨层干扰。为减少系统间干扰,提升频谱利用率,提出一种具有动态配额和冲突域的一对多匹配算法进行资源分配,在小蜂窝和D2D高密度部署场景下,允许多个用户复用相同的宏蜂窝用户资源。仿真结果表明,所提算法能够有效提升频谱利用率和系统吞吐量,降低计算复杂度。\n",
      "\n"
     ]
    },
    {
     "name": "stderr",
     "output_type": "stream",
     "text": [
      "\r",
      " 62%|██████▏   | 620/1000 [04:24<02:35,  2.45it/s]"
     ]
    },
    {
     "name": "stdout",
     "output_type": "stream",
     "text": [
      "基 于 o p e n c l 机 器 视 觉 算 法 g p u 实 现\n",
      "基 于 o p e n c l 的 机 器 视 觉 算 法 并 行 优 化 及 实 现\n",
      "针对不断增长的对机器视觉算法处理效率和实时性的要求,研究基于异构编程框架OpenCL对机器视觉算法在通用计算机图形处理单元(GPU)上的并行处理和加速方法,提出结合存储分配、指令流优化、数据重用等方法的并行优化策略。在Sobel边缘检测、Canny边缘检测、Harris角点检测、高斯图像金字塔4个不同并行度视觉算法上进行验证,验证结果表明,在不考虑数据传输的情况下,对比CPU串行实现取得了平均6.16的加速比,对比OpenCV的GPU库(即CUDA实现)取得了1.12-5.47的加速比,验证了所提优化策略的有效性。\n",
      "\n"
     ]
    },
    {
     "name": "stderr",
     "output_type": "stream",
     "text": [
      "\r",
      " 62%|██████▏   | 621/1000 [04:25<02:28,  2.55it/s]"
     ]
    },
    {
     "name": "stdout",
     "output_type": "stream",
     "text": [
      "嵌 入 式 实 时 以 太 网 运 动 控 制 器 设 计 与 性 能 测 评\n",
      "基 于 非 确 定 网 络 延 时 补 偿 算 法 的 改 进\n",
      "针对标准以太网应用到运动控制领域存在的非确定网络延时问题,提出确定性调度配合延时补偿的方法提高系统性能。利用卡尔曼滤波算法提高时间同步精度,采用时隙划分调度策略保证数据交换的确定性,通过RBF (radial basis function)模糊神经网络PID算法对系统延时预测值进行补偿,使系统能跟随延时自适应调整,具有高精度多轴同步运动的能力。实验结果表明,卡尔曼滤波将时钟偏移标准差由11.6μs降至7.9μs,有效提高了同步精度,基于延时预测并补偿的控制算法比传统PID算法具有更短的响应时间,更高的稳态性能和同步跟随性能。\n",
      "\n"
     ]
    },
    {
     "name": "stderr",
     "output_type": "stream",
     "text": [
      "\r",
      " 62%|██████▏   | 622/1000 [04:25<02:24,  2.62it/s]"
     ]
    },
    {
     "name": "stdout",
     "output_type": "stream",
     "text": [
      "基 于 异 构 信 息 网 络 的 分 类 算 法\n",
      "异 构 信 息 网 络 中 所 有 结 构 节 点 的 分 类\n",
      "为实现异构信息网络中所有结构节点的分类,以GNetMine和HetPathMine为基础,提出基于异构信息网络的分类算法HNetMine。识别同构对象(如作者与作者)和异构对象(如作者与论文)之间的关系,为分类某种结构的节点,构建以该结构对象为起点和终点的多条同构关系元路径,通过逻辑回归整合这些元路径为同构关系方阵,根据这种结构节点的分类标准,实现该结构节点的分类。其它结构的节点依此方法,即可一次性地完成所有信息网络节点的分类。实验结果表明,HNetMine算法能够自动识别同构关系元路径,根据不同分类标准一次性地分类所有节点,在分类效果上优于已有算法。\n",
      "\n"
     ]
    },
    {
     "name": "stderr",
     "output_type": "stream",
     "text": [
      "\r",
      " 62%|██████▏   | 623/1000 [04:26<02:40,  2.36it/s]"
     ]
    },
    {
     "name": "stdout",
     "output_type": "stream",
     "text": [
      "基 于 反 距 离 权 重 和 密 度 的 点 云 边 界 点 检 测 算 法\n",
      "基 于 最 小 二 乘 与 k 邻 域 点 云 模 型 的 边 界 点 检 测\n",
      "针对散乱点云模型的边界点检测问题,提出一种通用型的算法。建立目标点的K邻域作为局部参考数据,采用最小二乘法拟合K邻域的微切平面,求得目标点与其邻域点在该平面上的投影;计算目标点投影点与各个邻域点投影点组成的向量,将其等效为合力的各个分力,赋予其反距离权重,加权相加后得到合力,根据距离计算点云密度;利用加权等效合力和密度组成的综合检测参数与阈值比较,判定其是否为边界特征点。实验结果表明,所提算法适用于多种类型的点云模型,具有比传统方法更好的检测效果。\n",
      "\n"
     ]
    },
    {
     "name": "stderr",
     "output_type": "stream",
     "text": [
      "\r",
      " 62%|██████▏   | 624/1000 [04:26<02:21,  2.66it/s]"
     ]
    },
    {
     "name": "stdout",
     "output_type": "stream",
     "text": [
      "新 型 随 机 分 形 搜 索 算 法\n",
      "新 型 随 机 分 形 搜 索 算 法\n",
      "针对随机分形搜索算法在更新阶段中存在收敛速度慢、求解精度不高和易陷入局部最优等缺陷,提出一种新型随机分形搜索算法。通过将差分进化算法的变异操作引入到随机分形搜索算法的更新阶段,进一步增加生成群体的多样性并提高算法的求解精度,有效提高算法的搜索性能。采用12个标准测试函数进行数值实验,将新型随机分形算法与随机分形搜索算法和引力搜索算法进行比较。实验结果表明,新型随机分形搜索算法具有良好的优化性能。\n",
      "\n"
     ]
    },
    {
     "name": "stderr",
     "output_type": "stream",
     "text": [
      "\r",
      " 62%|██████▎   | 625/1000 [04:26<02:42,  2.30it/s]"
     ]
    },
    {
     "name": "stdout",
     "output_type": "stream",
     "text": [
      "改 进 竞 争 粒 子 群 算 法 及 其 应 用\n",
      "改 进 的 竞 争 粒 子 群 算 法 及 其 在 汽 油 调 和 配 方 在 线 优 化 中 的 应 用\n",
      "为平衡种群的探索与开发,提出一种改进的竞争粒子群算法(CGCSO)。通过柯西高斯变异更新胜利者的位置,提高种群的开发能力;利用环形拓扑结构信息传递速度慢的特点,将其用于胜利者的学习过程,增强种群的多样性;采用可行解优先的约束处理技术,使该算法能够处理约束优化问题。进行8个标准测试函数的仿真实验,并研究比较其它算法,该算法在优化精度和收敛性上表现较好。将该算法应用于处理汽油调和配方在线优化问题,仿真取得了较好的结果,进一步验证了该算法的有效性。\n",
      "\n"
     ]
    },
    {
     "name": "stderr",
     "output_type": "stream",
     "text": [
      "\r",
      " 63%|██████▎   | 626/1000 [04:27<02:38,  2.35it/s]"
     ]
    },
    {
     "name": "stdout",
     "output_type": "stream",
     "text": [
      "融 合 词 向 量 及 b t m 模 型 的 问 题 分 类 方 法\n",
      "融 合 词 向 量 及 b t m 模 型 问 题 的 短 文 本 分 类 方 法\n",
      "针对传统短文本分类算法对问题分类效果不佳的问题,提出一种融合词向量及BTM模型的问题分类方法。使用Word2vec对问题语料库进行训练得到词向量;对语料进行基于吉布斯采样的BTM主题模型构建,得到文本主题扩展向量;将文本主题扩展向量与词向量拼接得到新的问句扩展文本,利用SVM进行文本分类。实验结果表明,该方法在准确率、召回率及F值上的表现均有提高。\n",
      "\n"
     ]
    },
    {
     "name": "stderr",
     "output_type": "stream",
     "text": [
      "\r",
      " 63%|██████▎   | 627/1000 [04:27<02:35,  2.39it/s]"
     ]
    },
    {
     "name": "stdout",
     "output_type": "stream",
     "text": [
      "子 群 分 层 的 粗 粒 度 粒 子 群 优 化 算 法\n",
      "子 群 分 层 的 粗 粒 度 粒 子 群 优 化 算 法\n",
      "针对传统的粒子群优化算法搜索孤立区域效果差、搜索精度低等缺点,提出一种子群分层的粗粒度粒子群优化算法。在粗粒度模型的基础上,将子群分为若干普通子群、自适应子群和精英子群,不同的子群在进化过程中采取不同的进化策略。普通子群根据种群的早熟收敛程度和粒子的适应度值自适应调整惯性权重,自适应子群的速度和位置更新受到普通子群中的全局最优个体影响,精英子群保存普通子群和自适应子群的全局最优个体,并采用免疫克隆机制保证其多样性。仿真结果表明了所提算法的优异性。\n",
      "\n"
     ]
    },
    {
     "name": "stderr",
     "output_type": "stream",
     "text": [
      "\r",
      " 63%|██████▎   | 628/1000 [04:28<02:22,  2.60it/s]"
     ]
    },
    {
     "name": "stdout",
     "output_type": "stream",
     "text": [
      "基 于 三 元 组 文 档 表 示 的 文 本 分 类\n",
      "基 于 三 元 组 的 文 档 表 示 方 法\n",
      "为解决现有文档表示方法中不包含结构特征以及难以融入外部知识的问题,提出基于三元组的文档表示方法,并结合分布式向量语义表示。基于三元组的文档表示方法的另一个优势是可以非常方便地融入词向量特征,扩展三元组的语义表示。该方法在完全相同且不使用外部知识的实验设置下,能显著提升文本分类的性能;当词向量特征被利用后,文本分类性能增强了约0.8%;当融入自动抽取的外部背景三元组知识后,进一步带来了1.2%的性能提升。\n",
      "\n"
     ]
    },
    {
     "name": "stderr",
     "output_type": "stream",
     "text": [
      "\r",
      " 63%|██████▎   | 629/1000 [04:28<02:18,  2.68it/s]"
     ]
    },
    {
     "name": "stdout",
     "output_type": "stream",
     "text": [
      "基 于 用 户 隐 式 行 为 特 征 的 最 大 熵 推 荐 算 法\n",
      "基 于 用 户 隐 式 行 为 的 最 大 熵 推 荐 算 法\n",
      "在电商领域的推荐中,由于用户购买频率较低且很少留下评价信息,使推荐系统面临用户数据稀疏、准确率低等问题。针对该问题,提出一种基于用户隐式行为的最大熵推荐算法。收集用户的历史操作信息,分别从用户、商品、用户-商品3个角度提取用户隐式行为特征;考虑到特征的有效性,利用Tree Ensemble Models对特征进行筛选和组合,构建行为模型挖掘用户潜在兴趣,完善用户缺失信息;针对特征之间的相关性问题,以最大熵原理构建特征函数,对用户进行商品推荐。在阿里移动推荐算法数据集上的仿真结果表明,所提算法可以有效解决数据稀疏性问题,提高推荐准确率。\n",
      "\n"
     ]
    },
    {
     "name": "stderr",
     "output_type": "stream",
     "text": [
      "\r",
      " 63%|██████▎   | 630/1000 [04:28<02:20,  2.64it/s]"
     ]
    },
    {
     "name": "stdout",
     "output_type": "stream",
     "text": [
      "基 于 差 分 隐 私 的 频 繁 项 集 挖 掘 的 启 发 式 算 法\n",
      "满 足 差 分 隐 私 的 频 繁 项 目 集 挖 掘 算 法\n",
      "针对频繁项目集挖掘结果直接发布可能会造成严重的个人隐私泄露,提出一种满足差分隐私的频繁项目集挖掘算法。为降低差分隐私的全局敏感度,根据候选项的覆盖分数和项集与事务距离两个指标,采用启发式截断算法进行事务截断,尽可能多地使截断后的事务保留原事务的频繁项信息。采用最大支持度估计策略生成候选项集,降低因事务截断和剪枝操作带来的误差。实验结果对比分析表明,提出算法满足差分隐私保护,挖掘的频繁项集具有较好的效用。\n",
      "\n"
     ]
    },
    {
     "name": "stderr",
     "output_type": "stream",
     "text": [
      "\r",
      " 63%|██████▎   | 631/1000 [04:29<02:39,  2.31it/s]"
     ]
    },
    {
     "name": "stdout",
     "output_type": "stream",
     "text": [
      "基 于 引 力 柯 西 多 目 标 猫 群 算 法 的 慢 波 结 构 优 化\n",
      "空 间 行 波 管 慢 波 结 构 的 引 力 柯 西 多 目 标 猫 群 算 法\n",
      "为解决空间行波管慢波结构的电子效率和相移量多目标优化问题,提出引力柯西多目标猫群算法(GS-MOCMCSO),以电子效率提升和相移量降低为目标函数,结合非线性频谱模型1-D CHRISTINE,持续进行迭代优化。实验结果表明,GS-MOCMCSO算法收敛速度快、精度高,电子效率相比额定值提升10.2%,相移量相比初始值降低23.5°。与经典多目标猫群算法(MOCSO)相比,GS-MOCMCSO算法的最佳电子效率更高(40.2%对38.5%),相移量相近,带宽得到扩展(2GHz对1.5GHz),更适合于面向电子效率和相位失真的多目标优化。\n",
      "\n"
     ]
    },
    {
     "name": "stderr",
     "output_type": "stream",
     "text": [
      "\r",
      " 63%|██████▎   | 632/1000 [04:29<02:36,  2.35it/s]"
     ]
    },
    {
     "name": "stdout",
     "output_type": "stream",
     "text": [
      "云 环 境 中 满 足 期 限 约 束 的 工 作 流 任 务 调 度\n",
      "云 环 境 中 期 限 约 束 工 作 流 调 度 算 法 研 究\n",
      "为优化云环境中期限约束的工作流调度代价,提出一种工作流调度算法。结合云资源的异质与弹性使用特征,满足工作流调度的期限约束同时最小化执行代价为目标,将最优化调度方案的求解过程划分为4个阶段:工作流任务分层、期限在任务分层上的重分配、确定就绪任务的调度优先级以及基于代价优化的执行实例选择。引入5种常规科学工作流结构进行仿真实验,与同类型的IC-PCP算法和JIT算法进行性能对比,实验结果表明,WSCO-DC算法可以满足期限约束,以更高的调度成功率进一步降低工作流调度代价,获得更高的系统吞吐量。\n",
      "\n"
     ]
    },
    {
     "name": "stderr",
     "output_type": "stream",
     "text": [
      "\r",
      " 63%|██████▎   | 633/1000 [04:30<02:33,  2.39it/s]"
     ]
    },
    {
     "name": "stdout",
     "output_type": "stream",
     "text": [
      "两 两 组 合 测 试 用 例 生 成 的 遍 历 搜 索 算 法\n",
      "遍 历 搜 索 算 法 及 其 在 组 合 测 试 用 例 生 成 中 的 应 用\n",
      "给出两两组合测试用例生成的遍历搜索算法ES(a,b)。通过对组合空间的遍历搜索,考虑当前测试用例和后续测试用例能尽可能多地覆盖未覆盖的组合,通过综合当前因素的权重a和后续因素的权重b生成两两组合的测试用例。对比实验结果表明,ES(a,b)算法具有较强的测试用例优化能力,其算法生成的测试用例个数优于AETG算法及其改进算法。\n",
      "\n"
     ]
    },
    {
     "name": "stderr",
     "output_type": "stream",
     "text": [
      "\r",
      " 63%|██████▎   | 634/1000 [04:30<03:04,  1.98it/s]"
     ]
    },
    {
     "name": "stdout",
     "output_type": "stream",
     "text": [
      "应 用 于 功 率 倒 置 阵 的 改 进 最 小 均 方 算 法\n",
      "基 于 指 数 函 数 的 归 一 化 变 步 长 l m s 算 法 在 功 率 倒 置 阵 列 收 敛 速 度 应 用\n",
      "针对功率倒置阵列采用最小均方(LMS)算法迭代求取权值时,收敛速度慢、迭代步长不能随输入信号功率的变化,自动进行调整的弊端,提出采用一种基于指数函数的归一化变步长LMS算法实现功率倒置阵列的方法。分析步长调整原理,通过建立步长和误差之间的非线性函数关系,结合归一化思想,使算法在保证精度的同时具有较快的收敛速度。基于四阵元Y形平面阵,对该算法、LMS算法和归一化LMS算法进行仿真对比,其结果表明,改进算法可以提高功率倒置阵的收敛速度,增大算法的动态输入范围。\n",
      "\n"
     ]
    },
    {
     "name": "stderr",
     "output_type": "stream",
     "text": [
      "\r",
      " 64%|██████▎   | 635/1000 [04:31<02:56,  2.06it/s]"
     ]
    },
    {
     "name": "stdout",
     "output_type": "stream",
     "text": [
      "基 于 分 群 策 略 的 混 沌 粒 子 群 优 化 算 法\n",
      "混 沌 与 混 沌 分 群 迭 代 算 法 迭 代 研 究\n",
      "将整个种群分为PSO机制迭代分群和混沌机制迭代分群,依据早熟判定策略,对种群实行两阶段寻优。第一阶段PSO分群和混沌分群同时各自迭代,比较适应值大小择优共同更新全局极值,避免粒子陷入局部最优;第二阶段PSO分群和混沌分群进行交叉迭代,排序适应值,选取PSO分群较优粒子替代混沌分群较差粒子,迭代搜索后取混沌分群较优粒子替代PSO分群较差粒子,按适应值大小共同更新全局极值,完成对PSO分群局部搅动,帮助惰性粒子跳出局部最优区。该方法考虑了算法的迭代速度,保证了迭代精度。\n",
      "\n"
     ]
    },
    {
     "name": "stderr",
     "output_type": "stream",
     "text": [
      "\r",
      " 64%|██████▎   | 636/1000 [04:31<02:50,  2.14it/s]"
     ]
    },
    {
     "name": "stdout",
     "output_type": "stream",
     "text": [
      "中 文 专 利 复 合 功 效 短 语 获 取\n",
      "基 于 规 则 和 条 件 随 机 场 的 复 合 功 效 短 语 提 取\n",
      "在中文专利功效短语获取研究中,针对单功效短语研究较多,复合功效短语提取困难的情况,提出一种基于规则和条件随机场的复合功效短语提取流程。对分词过程中被切分的复合功效短语,进行词性标注和句法规则分析,基于规则合并被切分的复合功效短语得到候选复合功效短语数据集;将不同的特征组合引入条件随机场模型,实验确定最优特征组合,成功构建模型;利用该模型过滤候选复合功效短语数据集,提取专利中的复合功效短语。实验结果表明,该方法显著提高了复合功效短语提取的准确率和F值。\n",
      "\n"
     ]
    },
    {
     "name": "stderr",
     "output_type": "stream",
     "text": [
      "\r",
      " 64%|██████▎   | 637/1000 [04:32<02:44,  2.21it/s]"
     ]
    },
    {
     "name": "stdout",
     "output_type": "stream",
     "text": [
      "像 素 特 征 与 粘 连 人 体 分 割 结 合 的 人 数 统 计 方 法\n",
      "基 于 归 一 化 距 离 度 量 的 粘 连 人 体 分 割 算 法\n",
      "针对类似电影院、教室之类的人体间遮挡较少的场景,提出一种像素特征与粘连人体分割相结合的人数统计方法,为更好地处理粘连人体的分割问题,提出归一化距离度量的聚类算法与基于动态掩膜的投影法。当区域内人员较少时,通过建立区域内归一化后像素数与区域人数间的对应关系实现间接人数统计;当区域内人数增多且高于一定程度时,借助简单场景中人员特定的位置信息,进行粘连人体分割并对分割结果进行计数统计。在处理粘连人体分割问题上,针对人体连通区域的不同特点,分别使用归一化距离度量的聚类算法和改进的投影法进行人体粘连区域的行列分割。通过在影院影厅进行实验验证了该算法的有效性。\n",
      "\n"
     ]
    },
    {
     "name": "stderr",
     "output_type": "stream",
     "text": [
      "\r",
      " 64%|██████▍   | 638/1000 [04:32<02:50,  2.12it/s]"
     ]
    },
    {
     "name": "stdout",
     "output_type": "stream",
     "text": [
      "r g b 三 通 道 缺 陷 检 测 投 票 分 类 器 方 法\n",
      "基 于 投 票 分 类 的 低 温 多 晶 硅 / 金 属 氧 化 物 缺 陷 检 测 研 究\n",
      "针对低温多晶硅/金属氧化物(LTPS/IGZO)玻璃基板缺陷检测图像具有周期性和固定性的特性,为提高缺陷的识别性能,提出一种投票分类器。将待检测的LTPS/IGZO玻璃基板的RGB (红绿蓝三通道色彩模式)缺陷图像分成R、G、B这3种颜色的合成图像,设计一个投票分类器,对缺陷图片和正常图片的R、G、B颜色所占比例进行对比,使用投票的方式,多数服从少数原则,检测待检测图像是否含有缺陷,判断缺陷类型。实验结果表明,所提方法在加快缺陷检测速度的基础上,保证了产品的识别准确率。\n",
      "\n"
     ]
    },
    {
     "name": "stderr",
     "output_type": "stream",
     "text": [
      "\r",
      " 64%|██████▍   | 639/1000 [04:33<02:58,  2.03it/s]"
     ]
    },
    {
     "name": "stdout",
     "output_type": "stream",
     "text": [
      "肺 结 节 图 像 的 自 动 分 割 与 识 别\n",
      "基 于 模 糊 建 模 和 分 层 模 糊 连 接 度 的 肺 结 节 自 动 识 别\n",
      "为实现肺结节自动分析与识别,研究基于模糊建模思想和迭代相对模糊连接度(IRFC)算法的自动解剖识别(AAR)方法。该方法包括5个步骤:收集图像数据,用于模型构建和测试AAR;叙述胸腔中每个器官的精确定义,根据定义提取肺部轮廓;建立分层模糊解剖模型;利用分层模型识别和定位肺部;根据层级结构提取肺部轮廓。将分割好的肺部图片作为输入送入卷积神经网络进行肺部结节检测,通过使用VGG-16网络模型,在天池医疗AI大赛的数据集上实现了92.72%的目标检测准确率。\n",
      "\n"
     ]
    },
    {
     "name": "stderr",
     "output_type": "stream",
     "text": [
      "\r",
      " 64%|██████▍   | 640/1000 [04:33<02:45,  2.17it/s]"
     ]
    },
    {
     "name": "stdout",
     "output_type": "stream",
     "text": [
      "基 于 光 度 立 体 技 术 的 三 维 形 状 重 构\n",
      "基 于 光 度 立 体 技 术 的 物 体 三 维 重 构 技 术 研 究\n",
      "为实现复杂光环境下目标物体的准确三维重构,增加光度立体技术应用的灵活性,提出一种基于光度立体技术的改进算法来估算物体表面的反照率和三维形状。需要通过标定球校准出光源系统的方向参数,利用球谐模型代替朗伯表面模型,计算目标物体表面的反射率和法向量,基于全局积分算法,由法向量恢复物体表面的三维形状信息。比较传统光度立体技术的实现策略,该方法具有误差小、鲁棒性好的优点。\n",
      "\n"
     ]
    },
    {
     "name": "stderr",
     "output_type": "stream",
     "text": [
      "\r",
      " 64%|██████▍   | 641/1000 [04:33<02:34,  2.32it/s]"
     ]
    },
    {
     "name": "stdout",
     "output_type": "stream",
     "text": [
      "基 于 两 种 不 同 高 频 融 合 规 则 的 医 学 图 像 融 合\n",
      "基 于 两 种 不 同 高 频 融 合 规 则 的 医 学 图 像 融 合\n",
      "针对多尺度分解医学图像融合时信息损失、分解复杂的问题,提出一种医学图像融合方法。源图像经过图像分解框架分解为高频部分和用于局部拉普拉斯滤波分解的低频部分:第一次高频部分采用感兴趣信息,第二次高频部分采用最大值融合规则,低频部分采用局部能量融合规则,逆局部拉普拉斯滤波重构得到的重构图像和高频融合部分采用加法运算融合得到最终融合结果。实验结果表明,对比几种经典算法,所提方法在客观和主观评价方面显示出其优越性。\n",
      "\n"
     ]
    },
    {
     "name": "stderr",
     "output_type": "stream",
     "text": [
      "\r",
      " 64%|██████▍   | 642/1000 [04:34<02:31,  2.36it/s]"
     ]
    },
    {
     "name": "stdout",
     "output_type": "stream",
     "text": [
      "c i s 中 基 于 残 差 补 偿 的 组 稀 疏 表 示 重 构 算 法\n",
      "基 于 残 差 补 偿 的 图 像 压 缩 感 知 重 构 算 法\n",
      "针对图像压缩感知(CIS)组稀疏表示重构算法在低采样率下尤其是对纹理特征相对复杂的图像重构质量不佳的问题,提出基于残差补偿的组稀疏表示(RCGSR)重构方法。对稀疏处理前后两幅图像对应位置图像组稀疏系数的残差进行稀疏化处理并补偿至后者的图像组稀疏系数中。归纳一种自适应软阈值收缩方案,对不同稀疏系数残差采取不同的阈值进行收缩处理,增强算法的鲁棒性。仿真结果表明,与目前性能最好的图像压缩感知重构算法GSR相比,所提算法在低采样率时显著提高了图像的重构性能。\n",
      "\n"
     ]
    },
    {
     "name": "stderr",
     "output_type": "stream",
     "text": [
      "\r",
      " 64%|██████▍   | 643/1000 [04:34<02:32,  2.33it/s]"
     ]
    },
    {
     "name": "stdout",
     "output_type": "stream",
     "text": [
      "基 于 层 次 化 字 典 学 习 的 图 像 超 分 辨 率 方 法\n",
      "基 于 层 次 化 字 典 学 习 的 图 像 超 分 辨 率 方 法\n",
      "由于基于图像块的超分辨方法容易在图像块堆叠为图像的过程中引入模糊,提出基于层次化字典学习的图像超分辨率方法。把经过传统单次字典学习超分辨后的图像作为新的低分辨率图像,并和原始的高分辨图像组成新的高低分辨率训练集进行联合字典训练,得到第二级高低分辨率字典,对低分辨图像实现逐层超分辨的过程。与同类方法不同,特征提取阶段,采用lanczos3插值代替常用的双三次插值方法,利用改进的四方向Sobel算子提取每一小块的特征。与传统的超分辨率方法相比,该方法对低分辨率图像有着较好的细节恢复能力。\n",
      "\n"
     ]
    },
    {
     "name": "stderr",
     "output_type": "stream",
     "text": [
      "\r",
      " 64%|██████▍   | 644/1000 [04:35<02:24,  2.47it/s]"
     ]
    },
    {
     "name": "stdout",
     "output_type": "stream",
     "text": [
      "基 于 生 成 对 抗 网 络 的 图 像 识 别 改 进 方 法\n",
      "基 于 改 进 的 g a 模 型 不 清 晰 图 像 识 别 改 进 方 法\n",
      "针对低分辨率、不清晰图像识别精度较低问题,提出基于生成对抗网络(GAN)的图像识别改进方法。通过GAN中的生成模型与判别模型之间的极大极小博弈,使生成模型获得修复不清晰图像的能力,由此生成模型与一般分类网络相结合生成新网络,可从不清晰图片中提取准确的特征,提高对不清晰图像的识别精度。实验结果表明,改进方法对不清晰图像的识别精度有显著提升,对提高图像识别质量具有重要的价值。\n",
      "\n"
     ]
    },
    {
     "name": "stderr",
     "output_type": "stream",
     "text": [
      "\r",
      " 64%|██████▍   | 645/1000 [04:35<02:19,  2.54it/s]"
     ]
    },
    {
     "name": "stdout",
     "output_type": "stream",
     "text": [
      "3 d 打 印 深 度 图 像 的 获 取 及 时 空 融 合 处 理 方 法\n",
      "基 于 f f c t 的 3 d 打 印 机 深 度 测 量 系 统 研 究\n",
      "为在提高3D打印机精度的同时降低成本,引入基于全场光学相干层析技术高精度的视觉测量系统测量3D打印的工件,通过将工件的表面图像转换为深度图像,获得工件的深度信息。在此基础上,提出基于时间/空间融和的图像处理方法,在时间序列上,以深度图像灰度值的标准差为特征变量,经高斯曲线拟合,获取工件表面的实际深度值。在空间域中使用高斯滤波器降低噪声影响。实验结果表明,基于FFOCT的3D打印机深度测量系统精度远高于10μm。\n",
      "\n"
     ]
    },
    {
     "name": "stderr",
     "output_type": "stream",
     "text": [
      "\r",
      " 65%|██████▍   | 646/1000 [04:35<02:18,  2.56it/s]"
     ]
    },
    {
     "name": "stdout",
     "output_type": "stream",
     "text": [
      "基 于 时 空 相 关 性 的 短 时 交 通 流 预 测 模 型\n",
      "基 于 s a r i m a - r f 的 短 时 交 通 流 预 测 模 型\n",
      "在智能交通系统的诱导、控制和管理中,实时准确的短时交通流量预测具有重要意义。为提高预测精度,充分分析交通流特性和外部空间关联对预测结果的影响,提出一种短时交通流预测模型——SARIMA-RF模型。利用SARIMA模型良好的线性拟合能力,提取交通流数据中的周期性特征;利用随机森林模型较强的泛化能力,分析交通流的时空相关性,得出预测结果。实验结果表明,该组合模型与单一模型相比具有更高的预测精度,是一种有效的预测方法。\n",
      "\n"
     ]
    },
    {
     "name": "stderr",
     "output_type": "stream",
     "text": [
      "\r",
      " 65%|██████▍   | 647/1000 [04:36<02:19,  2.53it/s]"
     ]
    },
    {
     "name": "stdout",
     "output_type": "stream",
     "text": [
      "g m d s s 模 拟 器 实 操 精 确 度 自 动 评 价\n",
      "g m d s s 模 拟 器 实 操 精 确 度 评 价 模 型 研 究\n",
      "实操精确度是评价GMDSS模拟器实操过程非常重要的指标,为更好地对其实施自动评价,将实际操作轨迹曲线和最优操作轨迹曲线进行对比,设计评价模型。由有向图和最短路径算法得出最优及实际操作轨迹曲线,利用改进的曲线相似性测量方法对比两种曲线,给出相似度评分数学模型,基于在线辨识和广度优先搜索辨识模型参数,使模型实现自适应。仿真结果表明,该模型能充分考量波动、步数和响应3个测度,自动评分过程直观形象,结果科学合理,算法速度满足要求,工程上可实现。方法具有普适性,可应用于不同的模拟训练系统。\n",
      "\n"
     ]
    },
    {
     "name": "stderr",
     "output_type": "stream",
     "text": [
      "\r",
      " 65%|██████▍   | 648/1000 [04:36<02:12,  2.66it/s]"
     ]
    },
    {
     "name": "stdout",
     "output_type": "stream",
     "text": [
      "气 象 灾 害 形 式 概 念 分 析 模 型\n",
      "气 象 灾 害 形 式 概 念 分 析 模 型 及 应 用 研 究\n",
      "为解决气象灾害领域概念及隐含关系难以发现、语义描述准确度不够的问题,将形式概念分析与本体理论相结合,提出气象灾害形式概念分析模型,开展气象灾害领域知识的发现、表示和应用研究。利用逻辑定标定义谓词逻辑属性,实现多值背景转换,结合形式化语言表达对象间关系,实现气象灾害领域概念内涵和外延在本体知识库下的逻辑表达和智能推理应用。利用该模型给出寒潮气象灾害形式概念分析及应用过程实例。\n",
      "\n"
     ]
    },
    {
     "name": "stderr",
     "output_type": "stream",
     "text": [
      "\r",
      " 65%|██████▍   | 649/1000 [04:36<02:03,  2.85it/s]"
     ]
    },
    {
     "name": "stdout",
     "output_type": "stream",
     "text": [
      "扩 展 的 多 特 征 遥 感 影 像 水 体 识 别\n",
      "基 于 扩 展 的 多 特 征 融 合 分 类 方 法\n",
      "针对传统遥感影像中水体识别精度不高且泛化能力较弱的问题,提出扩展的多特征融合分类方法。将NDWI、MNDWI等多个水体指数的光谱特征,通过最佳波段组合获取基于灰度共生矩阵的纹理特征,使用主成分分析变换后的特征图提取扩展的形态学属性剖面(EMAPs)空间特征,归一化融合组成光谱-纹理-形态学特征集,使用特征扩充算法进行重构,得到扩展的多特征数据集,利用深度置信网络(DBN)识别水体。实验结果表明,扩展的多特征数据集可有效提高水体识别模型的精度和泛化能力。\n",
      "\n"
     ]
    },
    {
     "name": "stderr",
     "output_type": "stream",
     "text": [
      "\r",
      " 65%|██████▌   | 650/1000 [04:37<01:51,  3.13it/s]"
     ]
    },
    {
     "name": "stdout",
     "output_type": "stream",
     "text": [
      "基 于 p n n 的 音 乐 情 感 分 类\n",
      "基 于 p n n 的 音 乐 情 感 分 类\n",
      "为提高音乐情感分类的精度,提出一种采用概率神经网络的音乐情感分析模型。以提高识别率为目标,建立音乐特征和情感之间的联系模型,通过概率神经网络对情感进行主观分类训练,在音乐的播放过程中提取特征参数,同时判断应具有的主观感受。实验结果表明,该模型对音乐的主观情绪判断具有较好的准确率,在识别率上该算法比HMM算法、主成分析法和多元回归分析法具有更好的识别精度。\n",
      "\n"
     ]
    },
    {
     "name": "stderr",
     "output_type": "stream",
     "text": [
      "\r",
      " 65%|██████▌   | 651/1000 [04:37<02:01,  2.88it/s]"
     ]
    },
    {
     "name": "stdout",
     "output_type": "stream",
     "text": [
      "基 于 邻 域 粗 糙 隶 属 函 数 的 离 群 点 检 测\n",
      "邻 域 粗 糙 隶 属 函 数 的 离 群 点 检 测 方 法\n",
      "针对传统粗糙集的离群点检测方法难以处理数值型属性数据的问题,提出基于邻域粗糙隶属函数的离群点检测方法,其适用于数据包括数值型、符号型与混合型。基于混合型距离与自适应半径,定义邻域粗糙隶属函数刻画对象离群程度,构建邻域粗糙离群因子实施离群点检测,设计相应的离群点检测算法NRMFOD。UCI数据对比实验结果表明,NRMFOD算法具有有效性,优于3种常用检测算法(RMF、RBD、DIS算法)。\n",
      "\n"
     ]
    },
    {
     "name": "stderr",
     "output_type": "stream",
     "text": [
      "\r",
      " 65%|██████▌   | 652/1000 [04:38<02:08,  2.71it/s]"
     ]
    },
    {
     "name": "stdout",
     "output_type": "stream",
     "text": [
      "基 于 改 进 人 工 鱼 群 算 法 的 无 人 机 三 维 航 迹 规 划\n",
      "基 于 改 进 人 工 鱼 群 算 法 的 无 人 机 三 维 航 迹 规 划\n",
      "为解决三维环境下的无人机航迹规划问题,提出一种基于改进人工鱼群算法的无人机航迹规划方法。构建规划空间与威胁模型,依据威胁模型提出导航点自适应选择算法,确定其位置与个数,对航迹进行编码;综合考虑无人机航程、威胁代价、爬升代价以及转弯约束,设计航迹代价函数;采用视野自适应策略改进人工鱼群算法进行航迹寻优,得到航迹。仿真结果表明,与粒子群算法相比,采用改进的人工鱼群算法进行无人机三维航迹规划更有效,代价更小。\n",
      "\n"
     ]
    },
    {
     "name": "stderr",
     "output_type": "stream",
     "text": [
      "\r",
      " 65%|██████▌   | 653/1000 [04:38<02:19,  2.49it/s]"
     ]
    },
    {
     "name": "stdout",
     "output_type": "stream",
     "text": [
      "基 于 栈 式 自 编 码 融 合 极 限 学 习 机 的 药 品 鉴 别\n",
      "基 于 栈 式 自 编 码 融 合 极 限 学 习 机 的 药 品 鉴 别 方 法\n",
      "近红外光谱数据维度较高,传统的特征提取方法不足以提取更高层次的抽象特征,为此提出一种栈式自编码融合极限学习机的药品鉴别方法,利用ELM代替SAE的反向微调和Softmax分类阶段,减少了SAE的训练时间,提高了SAE的应用能力。以不同厂商生产的非铝塑包装的头孢克肟片药品的近红外光谱为实例,在不同规模的数据集下,验证该算法,并与其它机器学习方法进行对比。实验结果表明,SAE-ELM减少了SAE的训练时间,具有较高分类准确率和稳定性。\n",
      "\n"
     ]
    },
    {
     "name": "stderr",
     "output_type": "stream",
     "text": [
      "\r",
      " 65%|██████▌   | 654/1000 [04:39<02:31,  2.29it/s]"
     ]
    },
    {
     "name": "stdout",
     "output_type": "stream",
     "text": [
      "基 于 颜 色 特 征 和 尺 度 自 适 应 的 时 空 上 下 文 算 法\n",
      "基 于 颜 色 特 征 和 尺 度 自 适 应 的 时 空 上 下 文 目 标 跟 踪 算 法\n",
      "常规的时空上下文算法在描述目标外观时使用简单的灰度特征,而灰度特征不能很好地描述目标外观,为此提出一种基于颜色特征和尺度自适应的时空上下文算法。通过融合灰度特征和颜色特征描述目标,构建目标的时空上下文模型并计算置信图,以置信图中的最大值处作为估计的目标位置并通过尺度滤波器进行尺度更新。实验选取CVPR2013中20段视频进行测试分析,与近年提出的7个优秀的跟踪器进行对比与分析,实验结果表明,目标在遮挡、旋转、快速运动及光照变化等复杂场景中,该算法能够成功跟踪目标,跟踪性能优于其它算法。\n",
      "\n"
     ]
    },
    {
     "name": "stderr",
     "output_type": "stream",
     "text": [
      "\r",
      " 66%|██████▌   | 655/1000 [04:39<02:24,  2.38it/s]"
     ]
    },
    {
     "name": "stdout",
     "output_type": "stream",
     "text": [
      "加 权 颜 色 粒 子 滤 波 与 s i f t 特 征 双 融 合 的 行 人 跟 踪\n",
      "粒 子 滤 波 算 法 在 遮 挡 目 标 跟 踪 中 的 应 用\n",
      "为改善粒子退化现象,提高粒子滤波算法对于遮挡目标的跟踪精度,提出加权颜色特征与SIFT特征双层融合的粒子滤波算法。用粒子的位置信息对传统粒子权重进行改进,作为内层融合,对SIFT点匹配跟踪框与粒子滤波跟踪框进行外融合,改善遮挡情况下粒子退化的情况,提高跟踪精度。在VOT2014视频数据库上的实验结果表明,提出算法平均跟踪精度为95.03%,较传统粒子滤波算法提高了6个百分点。\n",
      "\n"
     ]
    },
    {
     "name": "stderr",
     "output_type": "stream",
     "text": [
      "\r",
      " 66%|██████▌   | 656/1000 [04:39<02:20,  2.45it/s]"
     ]
    },
    {
     "name": "stdout",
     "output_type": "stream",
     "text": [
      "基 于 改 进 卷 积 神 经 网 络 的 指 静 脉 识 别\n",
      "基 于 改 进 卷 积 神 经 网 络 的 指 静 脉 识 别 算 法\n",
      "针对深度学习的指静脉识别算法在训练样本较少以及训练次数较低时算法识别率降低问题,提出基于改进卷积神经网络的指静脉识别算法。通过增加卷积层数并使用LeaKy ReLU作为激活函数,提高网络泛化能力;使用改进的池化模型降低网络特征维度;反向传播调整权值时,引入判别信息作为约束条件。实验结果表明,该算法准确率在训练样本较少以及训练次数较低时明显优于其它指静脉识别算法。\n",
      "\n"
     ]
    },
    {
     "name": "stderr",
     "output_type": "stream",
     "text": [
      "\r",
      " 66%|██████▌   | 657/1000 [04:40<02:21,  2.43it/s]"
     ]
    },
    {
     "name": "stdout",
     "output_type": "stream",
     "text": [
      "基 于 遮 掩 感 知 重 检 测 的 视 觉 跟 踪 算 法\n",
      "基 于 遮 掩 感 知 和 目 标 重 检 测 的 目 标 跟 踪\n",
      "为解决相关滤波一类跟踪器因目标被遮掩等原因引起的跟踪目标丢失问题,提出一种包含遮掩感知和目标重检测机制的相关滤波器改进跟踪方法。采用遮掩感知模块对目标跟踪模块跟踪的结果做遮掩事件评估,在发生遮掩等严重影响跟踪结果的情形时,采用目标重检测模块重新检测原跟踪目标,该目标重检测采用基于颜色特征的逐像素目标置信积分图来确定备选目标。对跟踪质量不可靠且未重检测到可靠目标的视频帧,不进行跟踪模型的在线更新。实验结果表明,该算法可以有效避免因遮掩等引起的跟踪目标丢失和模型漂移问题,跟踪性能和几个主流的相关滤波类跟踪器相比有明显改善。\n",
      "\n"
     ]
    },
    {
     "name": "stderr",
     "output_type": "stream",
     "text": [
      "\r",
      " 66%|██████▌   | 658/1000 [04:40<02:09,  2.64it/s]"
     ]
    },
    {
     "name": "stdout",
     "output_type": "stream",
     "text": [
      "随 机 旅 行 时 间 旅 游 路 线 优 化 模 型 及 其 算 法\n",
      "基 于 蚁 群 求 解 旅 游 路 线 优 化 模 型\n",
      "在旅游城市内部空间尺度,针对城市交通网络中旅行时间不确定的旅游路线优化问题,以旅游出行效用和旅游活动效用组成的旅游体验效用最大化为目标,考虑旅游景点服务时间、旅游时间和费用约束,建立旅游路线优化模型,设计内嵌随机模拟方法的蚁群求解算法。由对给定的旅游交通网络的优化求解结果可知,该模型及其求解算法是可行的,所得的优化路线符合旅游者出游的实际情况,对于旅游路线优化具有一定的参考价值。\n",
      "\n"
     ]
    },
    {
     "name": "stderr",
     "output_type": "stream",
     "text": [
      "\r",
      " 66%|██████▌   | 659/1000 [04:40<02:07,  2.67it/s]"
     ]
    },
    {
     "name": "stdout",
     "output_type": "stream",
     "text": [
      "基 于 k m l 的 通 航 飞 行 路 径 评 估 优 化 平 台 设 计\n",
      "通 航 飞 行 计 划 路 径 评 估 与 优 化 平 台 设 计\n",
      "为提高通用航空飞行的安全性、经济性,设计并实现一套通航飞行计划路径评估与优化平台。通过解析飞行计划获得用于优化飞行路径的基本数据,利用复杂多约束A*算法优化飞行路径,评估优化前后飞行路径并实现评估数据可视化,使用读写KML文件的方式传递和保存数据,将Google Earth嵌入软件平台作为地理信息系统,通过载入KML文件实现飞行路径和评估参数的可视化显示。测试结果表明,采用该方法设计和实现的通航飞行计划路径评估与优化平台可优化出更满足通航飞行需求的飞行路径。\n",
      "\n"
     ]
    },
    {
     "name": "stderr",
     "output_type": "stream",
     "text": [
      "\r",
      " 66%|██████▌   | 660/1000 [04:41<02:03,  2.76it/s]"
     ]
    },
    {
     "name": "stdout",
     "output_type": "stream",
     "text": [
      "基 于 虚 拟 化 的 移 动 应 用 架 构 研 究 和 设 计\n",
      "移 动 应 用 两 层 架 构 的 虚 拟 化 技 术\n",
      "为解决目前大多数移动应用的两层架构即客户端/服务器架构存在的客户端发布、管理以及数据安全等方面问题,分析并探讨虚拟化技术,重点研究桌面与应用虚拟化技术的原理和实现。在移动应用两层架构的基础上,融入虚拟化的技术手段,通过搭建虚拟化平台设计基于虚拟化技术的三层架构,对具体的客户端与服务端交互方式、图像处理方法、终端资源调用机制、信息推送机制等进行设计与实现。通过搭建环境与编程,验证了该架构的可行性。\n",
      "\n"
     ]
    },
    {
     "name": "stderr",
     "output_type": "stream",
     "text": [
      "\r",
      " 66%|██████▌   | 661/1000 [04:41<02:05,  2.69it/s]"
     ]
    },
    {
     "name": "stdout",
     "output_type": "stream",
     "text": [
      "基 于 查 询 聚 类 的 物 化 视 图 动 态 选 取 策 略\n",
      "基 于 查 询 聚 类 的 物 化 视 图 动 态 选 取 策 略\n",
      "针对物化视图集动态调整存在的“抖动性”问题,提出一种基于查询聚类的物化视图动态选取策略QCDMVS。以关联规则算法为依据计算属性字段相似性,计算查询语句相似性并对一个查询周期内的查询语句集进行聚类,产生候选视图,根据效益模型计算候选视图的效益,运用物化视图动态调整算法DSMVQC生成最终物化视图。以航空公司机票结算数据作为实验数据集,实验结果表明,相比基准算法,该改策略的运用使得数据仓库的查询性能有较大改善。\n",
      "\n"
     ]
    },
    {
     "name": "stderr",
     "output_type": "stream",
     "text": [
      "\r",
      " 66%|██████▌   | 662/1000 [04:42<02:14,  2.51it/s]"
     ]
    },
    {
     "name": "stdout",
     "output_type": "stream",
     "text": [
      "土 地 覆 被 样 本 管 理 系 统 设 计 与 实 现\n",
      "基 于 m a p   w i n d o w 开 源 g i s 的 用 地 堆 被 采 样 管 理 系 统\n",
      "针对土地覆被采样数据时空分散、选用分类标准不同、数据结构和编码格式不规范、不同期采样数据空间位置重叠、多源数据集成管理复杂的问题,选用Map Window开源GIS (geographic information system)软件作为地理信息平台,开源空间数据库PostgreSQL存储数据,在分析解决数据存储组织、多源异构数据集成转换等关键技术的基础上,开发数据集成管理、属性/矢量数据编辑、可视化显示、图属互查、统计分析、数据转换等功能,形成低成本、高开放、扩展性强、灵活度高的土地覆被采样管理系统,有效解决了土地覆被样本数据管理问题。\n",
      "\n"
     ]
    },
    {
     "name": "stderr",
     "output_type": "stream",
     "text": [
      "\r",
      " 66%|██████▋   | 663/1000 [04:42<02:07,  2.65it/s]"
     ]
    },
    {
     "name": "stdout",
     "output_type": "stream",
     "text": [
      "密 集 小 蜂 窝 网 络 中 基 于 能 效 的 资 源 分 配 方 案\n",
      "基 于 最 大 化 网 络 能 效 的 资 源 分 配 方 案\n",
      "针对小蜂窝网络密集部署带来的能耗和干扰严重的问题,提出一种以最大化网络能效为目标的资源分配方案,通过联合优化信道分配和功率分配,最大化网络能效。把有邻居关系的小区分成小区簇,在小区簇里把相关干扰小的用户分成用户簇,减轻网络干扰,以最大化用户簇的能效为目标进行子信道分配,采用分式规划进行功率分配。仿真结果表明,所提算法在网络能效方面有大幅提高。\n",
      "\n"
     ]
    },
    {
     "name": "stderr",
     "output_type": "stream",
     "text": [
      "\r",
      " 66%|██████▋   | 664/1000 [04:42<02:07,  2.64it/s]"
     ]
    },
    {
     "name": "stdout",
     "output_type": "stream",
     "text": [
      "基 于 阅 读 器 状 态 的 功 率 控 制 防 碰 撞 算 法\n",
      "基 于 阅 读 器 状 态 的 功 率 控 制 防 碰 撞 算 法\n",
      "为解决射频识别系统中多阅读器场景存在的干扰问题,提出一种基于阅读器状态的功率控制防碰撞算法,根据状态调整功率,使更多的阅读器能工作在同一时隙。分析阅读器与标签之间的通信过程,说明功率控制的可行性;分析阅读器工作中的不同状态,对阅读器功率调整行为划分不同的情况,功率的调整分为小幅度、大幅度和回调3种方式,以此接近理想的功率;结合图论在时隙分组的情况下,对处于非当前时隙的阅读进行功率调整,使其能工作在当前时隙。实验结果表明,该算法的吞吐量优于Colorwave和基于图论的分时隙算法,有效提高了系统最大吞吐量。\n",
      "\n"
     ]
    },
    {
     "name": "stderr",
     "output_type": "stream",
     "text": [
      "\r",
      " 66%|██████▋   | 665/1000 [04:43<02:12,  2.53it/s]"
     ]
    },
    {
     "name": "stdout",
     "output_type": "stream",
     "text": [
      "能 量 获 取 无 线 传 感 器 网 络 多 跳 分 簇 路 由 协 议\n",
      "一 种 增 强 型 传 感 器 网 络 多 跳 w s n s 分 簇 算 法\n",
      "针对能量获取无线传感器网络节点能量利用效率过低和网络无法保证持久运行的问题,提出一种多跳WSNs分簇算法(MHC)。对节点进行能量中性约束,即一段时间内节点消耗的能量小于或等于从外界获取的能量,保证整个网络的持久运行;计算最优的数据传输周期,提高节点能量利用的效率,最大化网络数据传输。通过模糊逻辑选择簇头,综合节点剩余能量、节点到基站的距离和节点获取能量的速率等多种因素,提高簇头选举的合理性。仿真结果表明,MHC算法能够保持网络持久运行,在吞吐量和能量消耗方面的性能优于ENC、EP-LEACH算法。\n",
      "\n"
     ]
    },
    {
     "name": "stderr",
     "output_type": "stream",
     "text": [
      "\r",
      " 67%|██████▋   | 666/1000 [04:43<02:05,  2.66it/s]"
     ]
    },
    {
     "name": "stdout",
     "output_type": "stream",
     "text": [
      "l o r a 物 联 网 技 术 的 调 制 解 调\n",
      "近 距 离 高 速 通 信 方 案 g f s k 调 制 模 式\n",
      "为填补物联网领域在远距离传输指标上的空白,研究LoRa物联网系统支持的近距离高速通信方案GFSK调制模式,通过对该过程进行Matlab仿真来分析接收端误码率性能曲线、同步方案、时偏和频偏对系统的影响。实验结果表明,当BT=0.5,h=1且高斯白噪声信道下信噪比达到10dB时,GFSK解调误码率性能达到0.1%,与文献[16]相比在误码率性能方面有3dB的增益。\n",
      "\n"
     ]
    },
    {
     "name": "stderr",
     "output_type": "stream",
     "text": [
      "\r",
      " 67%|██████▋   | 667/1000 [04:44<02:28,  2.24it/s]"
     ]
    },
    {
     "name": "stdout",
     "output_type": "stream",
     "text": [
      "自 适 应 负 载 指 标 权 值 的 负 载 均 衡 算 法\n",
      "一 种 自 适 应 负 载 均 衡 算 法 及 其 在 w e b 集 群 负 载 均 衡 中 的 应 用\n",
      "为解决在Web集群负载均衡算法中预先指定权值来评估服务器节点综合负载不能体现各负载指标动态变化情况的问题,提出一种自适应负载指标权值的负载均衡算法。根据服务器节点各负载指标的实际观测值动态调整各负载指标的权值,更加准确地评估服务器节点的综合负载情况;采用朴素贝叶斯算法对服务器节点进行分类,根据分类结果,综合考虑服务器节点性能以及当前综合负载来指导任务的分配。实验结果表明,自适应负载指标权值的负载均衡算法能有效减少平均响应时间,提高系统吞吐量,有较好的负载均衡效果。\n",
      "\n"
     ]
    },
    {
     "name": "stderr",
     "output_type": "stream",
     "text": [
      "\r",
      " 67%|██████▋   | 668/1000 [04:44<02:18,  2.40it/s]"
     ]
    },
    {
     "name": "stdout",
     "output_type": "stream",
     "text": [
      "基 于 改 进 蚁 群 算 法 的 无 线 传 感 器 网 络 路 由\n",
      "无 线 传 感 器 网 络 中 数 据 传 输 的 蚁 群 算 法\n",
      "为在无线传感器网络中寻找数据传输的最优路径,提出一种优化的蚁群算法。利用改进的伪随机比例规则优化状态转移函数,避免算法出现过早停滞的现象;利用角度因子和距离因子对启发信息函数进行优化,避免无关路径的选取,浪费节点能量;引入最优路径度量公式改进信息素更新策略,使蚂蚁能在网络能耗最少的情况下选择最优路径;通过限制蚂蚁的搜索方向,降低算法的复杂度,提高搜索速率。仿真结果表明,优化后的蚁群算法能够有效地均衡节点能耗,延长网络的生命周期。\n",
      "\n"
     ]
    },
    {
     "name": "stderr",
     "output_type": "stream",
     "text": [
      "\r",
      " 67%|██████▋   | 669/1000 [04:45<02:42,  2.03it/s]"
     ]
    },
    {
     "name": "stdout",
     "output_type": "stream",
     "text": [
      "基 于 卡 方 检 验 的 莱 斯 信 道 统 计 特 性 可 信 性 评 估\n",
      "基 于 卡 方 拟 合 优 度 检 验 的 鲁 斯 衰 落 信 道 统 计 特 性 可 信 性 评 估\n",
      "为有效地对莱斯衰落信道模型统计特性进行验证,提出一种基于卡方拟合优度检验的莱斯衰落信道统计特性可信性评估方法。建立莱斯衰落信道统计特性可信性评估的假设检验模型,根据莱斯信道衰落模型构造信道复输出序列,计算提取其幅度包络序列概率密度分布函数序列,引入卡方拟合优度检验,比较幅度包络序列概率密度分布与零假设下特定概率分布是否一致。计算机仿真结果表明,该方法有效可行,其性能受信道关键仿真参数影响较小。\n",
      "\n"
     ]
    },
    {
     "name": "stderr",
     "output_type": "stream",
     "text": [
      "\r",
      " 67%|██████▋   | 670/1000 [04:45<02:24,  2.28it/s]"
     ]
    },
    {
     "name": "stdout",
     "output_type": "stream",
     "text": [
      "低 能 耗 的 无 线 传 感 网 络 分 层 聚 类 与 节 点 管 理 机 制\n",
      "一 种 分 层 聚 类 与 节 点 管 理 机 制\n",
      "为降低无线传感器网络的能耗,提出一种分层聚类与节点管理机制。依据距离汇聚节点的远近以及节点数量的多少对网络进行分层,使各分层中传感器节点数量基本一致;改进LEACH协议的门限函数,在各网络分层独立建立节点簇;依据分层网络中簇头节点的位置和节点的剩余能量,选择每个分层的中心节点;在此基础上,由分层中心节点管理各分层节点,强制能量较低的节点休眠,管理簇头节点的更新;采用LEACH协议进行数据传输。实验结果表明,该机制有效降低了网络能耗,延长了网络生存时间。\n",
      "\n"
     ]
    },
    {
     "name": "stderr",
     "output_type": "stream",
     "text": [
      "\r",
      " 67%|██████▋   | 671/1000 [04:45<02:25,  2.27it/s]"
     ]
    },
    {
     "name": "stdout",
     "output_type": "stream",
     "text": [
      "移 动 云 中 实 现 效 用 最 大 化 的 实 时 分 布 式 算 法\n",
      "移 动 云 中 资 源 提 供 与 需 求 平 衡 的 实 时 分 布 式 算 法 研 究\n",
      "根据移动云中资源提供和需求平衡的原则设计实时分布式算法,实现移动云在价格激励下效用最大化。分析该系统中资源提供者(resource providers,RPs)和资源需求者(resource buyer,RB)的特性,提出RPs的代价函数和RB的效用函数;分析系统效用为凹函数,设计梯度投影法对其拉格朗日对偶进行求解,根据移动云特点提出实时分布式算法优化系统效用。将提出的实时分布式算法和固定价格方法进行对比,对比结果表明,该方法能够明显提高系统效用。\n",
      "\n"
     ]
    },
    {
     "name": "stderr",
     "output_type": "stream",
     "text": [
      "\r",
      " 67%|██████▋   | 672/1000 [04:46<02:19,  2.35it/s]"
     ]
    },
    {
     "name": "stdout",
     "output_type": "stream",
     "text": [
      "基 于 f p g a 的 多 加 解 密 算 法 可 重 构 的 设 计\n",
      "基 于 f p g a 的 动 态 可 重 构 控 制 平 台 的 设 计\n",
      "基于FPGA实现加解密系统时,采用多种算法处理数据可以适应不同的应用环境与功能需求,但在同一片上实现多种算法会导致逻辑资源消耗增加、资源利用率低、系统灵活性差。针对以上问题,以动态可重构技术为核心,基于ZYNQ-7000系列FPGA设计动态可重构控制平台,通过片上Cortex-A9ARM处理器控制重配置处理模块,将存储于SD卡中的多种算法逻辑按功能需求配置到片上划定的逻辑分区中,更新逻辑电路并完成算法重构。实验结果表明,该设计能在片上其它功能正常工作的同时,以15 759.51Bytes/ms的配置速度完成算法切换,在保证系统稳定的前提下,降低了片上的逻辑资源消耗,提高了资源利用率与系统灵活性。\n",
      "\n"
     ]
    },
    {
     "name": "stderr",
     "output_type": "stream",
     "text": [
      "\r",
      " 67%|██████▋   | 673/1000 [04:46<02:12,  2.46it/s]"
     ]
    },
    {
     "name": "stdout",
     "output_type": "stream",
     "text": [
      "基 于 并 行 特 征 选 择 和 分 类 的 网 络 入 侵 检 测 方 法\n",
      "基 于 m a p r e d u c e 的 并 行 网 络 入 侵 检 测 方 法\n",
      "针对存在大量访问时的网络入侵检测问题,提出一种在MapReduce框架下实现的并行网络入侵检测方法。构建一种并行化的量子粒子群优化(QPSO)算法,对原始数据集中的大量特征进行选择,降低特征维度;实现一种并行化的朴素贝叶斯(NB)分类器,以网络访问特征作为输入来检测入侵。在KDDCup99数据集上的实验结果表明,该特征选择方法能够选择出最优特征子集,有效提高了入侵检测的准确性,特征选择和分类器的并行化缩短了检测时间。\n",
      "\n"
     ]
    },
    {
     "name": "stderr",
     "output_type": "stream",
     "text": [
      "\r",
      " 67%|██████▋   | 674/1000 [04:47<02:09,  2.51it/s]"
     ]
    },
    {
     "name": "stdout",
     "output_type": "stream",
     "text": [
      "路 网 环 境 连 续 同 向 匿 名 的 隐 私 保 护 方 法\n",
      "连 续 行 驶 环 境 下 一 种 有 效 寻 找 隐 私 保 护 的 方 法\n",
      "针对路网环境相较于欧氏空间存在更多诸如行驶方向、限速等限制导致的隐私保护失效问题,提出一种在连续行驶环境下能够有效寻找具有相似匿名用户的隐私保护方法。通过跨路径多道路环境下的最短距离计算,实现对相同移动方向的匿名用户的寻找,解决随机匿名用户因行驶方向差异造成的连续匿名失效问题。与同类算法进行实验比较,实验结果进一步表明该算法在执行效率和隐私保护能力方面的优越性。\n",
      "\n"
     ]
    },
    {
     "name": "stderr",
     "output_type": "stream",
     "text": [
      "\r",
      " 68%|██████▊   | 675/1000 [04:47<02:08,  2.53it/s]"
     ]
    },
    {
     "name": "stdout",
     "output_type": "stream",
     "text": [
      "基 于 嵌 入 式 平 台 双 目 测 量 的 c u d a 优 化\n",
      "基 于 快 速 双 边 滤 波 的 双 目 测 量 算 法 研 究\n",
      "为提高双目测量算法运算的速度,提出一种包括减少搬移、增大并行度和异步工作的方法来进行优化。基于快速双边滤波算法(fast bilateral stereo matching),它的匹配精度接近于全局匹配算法。对于标准测试样本,实现的方法在NVDIA TX1开发板上计算得到视差图所需要的时间更短,相比原来的CPU计算方法,代价聚合的效率有80倍的提升。实时双目测量方法为在嵌入式平台获取高质量双目视觉深度信息提供了有效、可靠的途径。\n",
      "\n"
     ]
    },
    {
     "name": "stderr",
     "output_type": "stream",
     "text": [
      "\r",
      " 68%|██████▊   | 676/1000 [04:47<02:05,  2.57it/s]"
     ]
    },
    {
     "name": "stdout",
     "output_type": "stream",
     "text": [
      "短 波 收 信 天 馈 系 统 智 能 监 测 模 块 的 设 计\n",
      "短 波 收 信 天 馈 系 统 智 能 监 测 模 块 设 计\n",
      "针对短波收信天馈系统日常检测维护中缺少智能化监测手段的难题,研究设计一种能够对该系统关键特性指标进行实时监测的智能监测模块。采用定向耦合方式对天馈线中的驻波反射信号进行采集,通过混频至中频信号再进行A/D采集的方式提高射频信号测量的精确度,以嵌入式控制与RS485总线、以太网接口相结合的方式实现模块内部运行以及与监测服务器的远程数据传输与控制。构建基于果蝇优化算法的最小二乘支持向量机(LSSVM)智能诊断模型,通过监测数据仿真验证了该模型的有效性与准确性。\n",
      "\n"
     ]
    },
    {
     "name": "stderr",
     "output_type": "stream",
     "text": [
      "\r",
      " 68%|██████▊   | 677/1000 [04:48<02:01,  2.65it/s]"
     ]
    },
    {
     "name": "stdout",
     "output_type": "stream",
     "text": [
      "基 于 l o r a 技 术 的 智 能 灯 控 系 统 设 计\n",
      "基 于 l o r a 技 术 的 无 线 智 能 灯 控 系 统 设 计\n",
      "针对一些仓库、图书馆、地下停车场等场合照明设备存在控制距离受限、电路搭建冗杂、利用率低、能耗大的问题,设计一种基于LoRa技术的无线智能灯控系统。以SX1278的LoRa调制技术为核心,采用树型网络结构进行通信,结合通信协议的设计,实现广域控制、红外感应、智能调光等功能。介绍系统网络拓扑结构、通信节点软硬件的具体实现和应用层自定义通信协议,详细阐述系统的工作流程,通过实验分析验证了系统工作的有效性和稳定性。实验结果表明,该设计具有组网便捷、工作稳定、控制范围广、实时性响应良好等特点,具有广泛的适用范围和发展前景。\n",
      "\n"
     ]
    },
    {
     "name": "stderr",
     "output_type": "stream",
     "text": [
      "\r",
      " 68%|██████▊   | 678/1000 [04:48<02:04,  2.60it/s]"
     ]
    },
    {
     "name": "stdout",
     "output_type": "stream",
     "text": [
      "h a d o o p 环 境 下 基 于 并 行 熵 的 f i u t 算 法 挖 掘\n",
      "基 于 h a d o o p 平 台 的 并 行 b m r - f i u t 算 法\n",
      "针对传统频繁项集挖掘算法效率低下的问题,提出基于Hadoop平台的并行BMR-FIUT算法。通过引入FIU-Tree(frequent items ultrametric tree)结构挖掘频繁项集,避免传统算法的缺陷;改进FIUT算法的分解过程,使之适应于Map-Reduce框架下的并行计算,达到并行化的目的;利用并行熵作为集群系统的负载均衡度量,使系统尽可能在各节点间合理分发数据以平衡负载。实验结果表明,BMR-FIUT算法能够有效减少并行化过程中节点负载倾斜的问题,较现有的PFP-Growth算法具有更好的性能,适用于海量数据挖掘。\n",
      "\n"
     ]
    },
    {
     "name": "stderr",
     "output_type": "stream",
     "text": [
      "\r",
      " 68%|██████▊   | 679/1000 [04:48<02:05,  2.57it/s]"
     ]
    },
    {
     "name": "stdout",
     "output_type": "stream",
     "text": [
      "c u d a 下 地 质 图 像 边 缘 检 测 算 法 并 行 优 化\n",
      "基 于 c u d a 流 优 化 的 数 据 传 输 开 销 及 优 化 实 现\n",
      "为提高地质图像边缘检测Prewitt算法计算速度,结合算法计算密集和数据密集的特点,从核函数计算层面,提出基于调整线程块坐标优化线程发散方法和采用本地变量访存优化指令延迟设计思想;从CPU-GPU数据传输开销层面,提出基于CUDA流优化数据传输开销方法。经测试,当设置线程块规模为32*32、采用独立的局部变量替代索引访存和使用CUDA工作流分块计算时,对大于6168*6168尺寸的地质图像加速比可提高120倍以上。该并行优化方案易于实现,可应用于大规模地质图像边缘检测领域。\n",
      "\n"
     ]
    },
    {
     "name": "stderr",
     "output_type": "stream",
     "text": [
      "\r",
      " 68%|██████▊   | 680/1000 [04:49<02:05,  2.55it/s]"
     ]
    },
    {
     "name": "stdout",
     "output_type": "stream",
     "text": [
      "基 于 最 大 局 部 密 度 间 隔 的 特 征 选 择 方 法\n",
      "基 于 局 部 局 部 密 度 间 隔 的 虚 拟 机 特 征 选 择 算 法\n",
      "针对虚拟机数据特点及特征筛选问题,借鉴局部异常因子算法中的“局部”思想,提出基于最大局部密度间隔的特征评估准则,通过最大化正常数据和异常数据的局部密度差异选出有效的特征子集;结合顺序后退搜索策略与提出的特征评估准则设计相应的特征选择算法,筛选出有利于分类的虚拟机特征。实验结果表明,所设计的特征选择算法能够有效处理虚拟机的类不平衡数据,筛选出重要的虚拟机数据特征,使数据的检测率和可理解性得到有效提升,相比现有算法具有更好分类效果与更强适用性,在相同条件下具有更小的计算开销。\n",
      "\n"
     ]
    },
    {
     "name": "stderr",
     "output_type": "stream",
     "text": [
      "\r",
      " 68%|██████▊   | 681/1000 [04:49<01:57,  2.71it/s]"
     ]
    },
    {
     "name": "stdout",
     "output_type": "stream",
     "text": [
      "基 于 s a o 结 构 的 中 文 专 利 实 体 关 系 抽 取\n",
      "中 文 专 利 文 本 实 体 关 系 抽 取 方 法 研 究\n",
      "针对当前中文专利文本实体关系抽取中采用词法特征、上下文特征、距离特征等传统特征导致抽取效率低的问题,提出一种将传统特征和句法语义特征相结合的方法。将中文专利文本的关系抽取问题转换为SAO结构的识别问题,进行分词和实体标注,抽取专利文本中的候选SAO三元组;提取候选SAO三元组的传统特征和句法语义特征;利用xg-boost算法在这些特征上做训练和预测,对特征的有效性进行实验分析。实验结果表明,该方法较使用传统特征的方法有明显提高,验证了句法语义特征的有效性。\n",
      "\n"
     ]
    },
    {
     "name": "stderr",
     "output_type": "stream",
     "text": [
      "\r",
      " 68%|██████▊   | 682/1000 [04:50<02:07,  2.49it/s]"
     ]
    },
    {
     "name": "stdout",
     "output_type": "stream",
     "text": [
      "基 于 c e n s u s 变 换 的 双 目 立 体 匹 配 算 法\n",
      "基 于 c e n s u s 变 换 改 进 的 双 目 视 觉 特 征 匹 配\n",
      "针对双目视觉系统特征匹配过程中出现的重叠遮挡、重复纹理、低纹理、投影缩放等问题,提出基于Census变换改进的特征匹配方法。利用Harris角点检测算法提取特征点,使用Census变换生成特征点的描述子;用汉明距离对描述子进行相似度判断,利用左右一致性进行双向匹配完成粗匹配,消除其重叠遮挡点及低纹理现象,为再匹配提供更加准确的位置信息;利用粗匹配集合中匹配点的位置信息进行筛选,完成再匹配,得到匹配的特征点对。实验结果表明,该方法对于双目摄像机标定中常用的高重复纹理的棋盘图具有很好的匹配效果,算法运算时间短,可用于实时性系统中。\n",
      "\n"
     ]
    },
    {
     "name": "stderr",
     "output_type": "stream",
     "text": [
      "\r",
      " 68%|██████▊   | 683/1000 [04:50<02:08,  2.47it/s]"
     ]
    },
    {
     "name": "stdout",
     "output_type": "stream",
     "text": [
      "基 于 混 合 并 行 布 谷 鸟 搜 索 的 作 业 调 度 算 法\n",
      "基 于 混 合 并 行 布 谷 鸟 搜 索 的 作 业 调 度 算 法\n",
      "针对布谷鸟搜索算法在解决作业调度问题时存在收敛速度慢等问题,提出一种基于混合并行布谷鸟搜索的作业调度算法。在传统布谷鸟搜索基础上,结合多核集群的拓扑结构特点,将消息传递编程模型MPI与共享存储编程模型OpenMP结合,采用基于作业优先级的编码方式将布谷鸟搜索算法中的鸟巢位置转换为作业调度序列进行求解。仿真结果表明,与传统的串行布谷鸟搜索算法相比,使用该方法求解作业调度问题的收敛速度有明显加快。\n",
      "\n"
     ]
    },
    {
     "name": "stderr",
     "output_type": "stream",
     "text": [
      "\r",
      " 68%|██████▊   | 684/1000 [04:51<02:27,  2.14it/s]"
     ]
    },
    {
     "name": "stdout",
     "output_type": "stream",
     "text": [
      "基 于 s w t 和 双 变 量 阈 值 函 数 的 e c g 信 号 去 噪\n",
      "基 于 平 稳 小 波 变 换 和 双 变 量 阈 值 函 数 的 心 电 信 号 去 噪\n",
      "针对心电信号易受到肌电噪声、工频噪声、基线漂移、电极接触噪声以及环境噪声等的干扰,提出一种基于平稳小波变换和双变量阈值函数的ECG信号去噪方法。通过对ECG信号进行多层平稳小波变换,依据噪声在不同分解层的特点,对变换后的细节系数采用不同的阈值去噪方案。这种方法可避免信号重构后的丢失,能较好地保留原始信号的完整性,在提高信号信噪比的同时降低均方误差。通过对MIT-BIH数据库的实测数据进行仿真实验分析,验证了所提算法的有效性。\n",
      "\n"
     ]
    },
    {
     "name": "stderr",
     "output_type": "stream",
     "text": [
      "\r",
      " 68%|██████▊   | 685/1000 [04:51<02:31,  2.07it/s]"
     ]
    },
    {
     "name": "stdout",
     "output_type": "stream",
     "text": [
      "基 于 多 传 感 融 合 的 室 内 行 径 角 度 纠 偏 系 统\n",
      "基 于 序 贯 分 布 式 二 阶 卡 尔 曼 滤 波 的 室 内 定 位 研 究\n",
      "针对室内定位系统易受手机姿态变化影响导致位置估计精度偏低的问题,提出一套行径角度纠偏的系列算法。将手机内通过四元数姿态解算后的数据,进行多传感器序贯式二阶卡尔曼滤波融合,对用户行径路线进行动态实时纠偏,使用户在行径过程中可随意摆动手机,不影响定位效果。实验结果表明,相比标准卡尔曼滤波,序贯分布式二阶卡尔曼滤波在手机转角纠偏方面更具有纠偏优势,利用优化后的转角进行多源融合定位能使用户行走方式更加随意,与地磁信息融合后更加明显地提高了室内定位的精度和稳定性。\n",
      "\n"
     ]
    },
    {
     "name": "stderr",
     "output_type": "stream",
     "text": [
      "\r",
      " 69%|██████▊   | 686/1000 [04:52<02:22,  2.20it/s]"
     ]
    },
    {
     "name": "stdout",
     "output_type": "stream",
     "text": [
      "基 于 随 机 森 林 的 长 短 期 记 忆 网 络 气 温 预 测\n",
      "基 于 随 机 森 林 的 长 短 期 记 忆 网 络 气 象 预 测 模 型\n",
      "针对气象数据多为时间序列,而传统预测方法没有将时间相关性考虑在内,导致预测准确率低的问题,提出一种基于随机森林的长短期记忆网络气温预测模型。利用随机森林选择出与气温高度相关的气象要素作为输入变量,消除原始气象数据中的噪音、降低网络的复杂度,在此基础上利用长短期记忆网络建立总体预测模型,在采集的多要素气象数据上进行实验。实验结果表明,该模型在处理大规模多变量的时间序列数据时具有较高的预测精度和较强的泛化能力。\n",
      "\n"
     ]
    },
    {
     "name": "stderr",
     "output_type": "stream",
     "text": [
      "\r",
      " 69%|██████▊   | 687/1000 [04:52<02:45,  1.90it/s]"
     ]
    },
    {
     "name": "stdout",
     "output_type": "stream",
     "text": [
      "利 用 聚 类 分 析 和 离 群 点 检 测 的 数 据 填 补 方 法\n",
      "核 k - m e a n s 聚 类 与 离 群 点 检 测 在 填 补 缺 失 数 据 填 补 中 的 应 用\n",
      "为提高数据填补方法的正确率,提出利用核K-Means聚类和离群点检测来填补缺失数据的算法(KKMOD)。用核方法将数据集映射到高维空间,聚类后形成不同簇,在同簇内选择与缺失数据最相似的数据进行填补,使用核K-Means进行离群点检测,将检测到的离群点去除填补值,重新放入数据集填补,算法不断迭代,直到填补的数据不再检测出离群点。实验结果表明,KKMOD方法能够充分考虑簇内关系,避免不同簇相互干扰,提高数据填补算法的正确率。\n",
      "\n"
     ]
    },
    {
     "name": "stderr",
     "output_type": "stream",
     "text": [
      "\r",
      " 69%|██████▉   | 688/1000 [04:53<02:32,  2.05it/s]"
     ]
    },
    {
     "name": "stdout",
     "output_type": "stream",
     "text": [
      "基 于 单 类 图 分 类 的 化 合 物 分 类 方 法\n",
      "基 于 特 征 子 图 与 支 持 向 量 机 的 化 合 物 分 类 方 法\n",
      "为减少新药设计过程中化合物筛选与结构优化的成本,提高筛选与优化的精确性,提出一种用于化合物分类的单类图分类方法。对化合物的严格拓扑结构提出优化频繁子图的方法选取特征子图,自适应地挖掘每阶段支持度下信息量表示更全的闭频繁子图,将提取的频繁子图作为特征样本输入,通过Adaboost集成一类支持向量机分类算法训练分类模型。实验结果表明,该方法可以明确提取相关性较高的频繁子结构,显著降低频繁子图挖掘后的特征空间,有效提高分类的准确性和泛化性。\n",
      "\n"
     ]
    },
    {
     "name": "stderr",
     "output_type": "stream",
     "text": [
      "\r",
      " 69%|██████▉   | 689/1000 [04:53<02:11,  2.37it/s]"
     ]
    },
    {
     "name": "stdout",
     "output_type": "stream",
     "text": [
      "基 于 大 数 据 分 析 的 增 强 型 网 络 文 档 分 类 模 型\n",
      "一 种 增 强 型 网 络 文 档 分 类 模 型\n",
      "针对海量网络文档涵盖着广泛的主题和类别,需要使用大数据技术提取有用信息的问题,使用文本挖掘技术和进化模糊算法,基于模糊规则的分类器,提出一种增强型网络文档分类模型,将网络文档归到不同类别(领域)中,进化模糊算法可依据文档内容的变化实现文档分类的动态实时更新。通过和其它经典分类算法对比,验证了该分类算法能够取得较好的效果。\n",
      "\n"
     ]
    },
    {
     "name": "stderr",
     "output_type": "stream",
     "text": [
      "\r",
      " 69%|██████▉   | 690/1000 [04:53<02:06,  2.45it/s]"
     ]
    },
    {
     "name": "stdout",
     "output_type": "stream",
     "text": [
      "基 于 改 进 最 小 值 搜 索 的 i m c r a 噪 声 估 计 算 法\n",
      "改 进 的 i m s c r a 算 法 在 噪 声 估 计 中 的 应 用\n",
      "当噪声水平升高时,现有的噪声估计算法存在跟踪时延和估计不准确的问题,为提高噪声估计的准确性,对改进的最小值控制的递归平均噪声估计算法(improved minima controlled recursive averaging,IMCRA)中的最小值搜索方法进行改进,利用连续最小值跟踪算法取代最小值统计算法,打破求解最小值受窗长影响的现状,减少跟踪时延;提出一种基于语音存在概率的偏差补偿函数模型,偏差补偿的大小由各个频带决定。实验结果表明,不管是平稳还是非平稳噪声环境,改进后的算法都能有效提高增强后语音的质量。\n",
      "\n"
     ]
    },
    {
     "name": "stderr",
     "output_type": "stream",
     "text": [
      "\r",
      " 69%|██████▉   | 691/1000 [04:54<02:20,  2.20it/s]"
     ]
    },
    {
     "name": "stdout",
     "output_type": "stream",
     "text": [
      "基 于 g a n 和 t v 正 则 化 的 m r i 超 分 辨 率 重 建 算 法\n",
      "基 于 改 进 g a r 框 架 的 磁 共 振 成 像 超 分 辨 率 重 建 算 法\n",
      "为解决磁共振成像(MRI)超分辨率重建图像失真、组织细节模糊及速度较慢等问题,提出基于生成对抗网络(GAN)框架和TV正则化的MRI超分辨率重建算法。根据MRI重建图像特点,改进GAN框架中的生成器损失函数,在GAN对抗损失的基础上,为保证低分辨率MRI图像到高分辨率图像的映射一致性,引入生成图像与原始图像残差的L2范数损失,为提高重建图像的细节信息,引入生成图像的全变分正则化损失,基于改进的损失函数,采用随机梯度下降法进行训练。实验结果表明,该算法在保证重建质量的同时能较好地恢复组织细节、加快重建速度,超分辨率重建效果明显。\n",
      "\n"
     ]
    },
    {
     "name": "stderr",
     "output_type": "stream",
     "text": [
      "\r",
      " 69%|██████▉   | 692/1000 [04:54<02:11,  2.34it/s]"
     ]
    },
    {
     "name": "stdout",
     "output_type": "stream",
     "text": [
      "融 合 时 域 信 息 的 自 适 应 v i b e 算 法\n",
      "自 适 应 时 域 信 息 的 自 适 应 v i b e 算 法\n",
      "针对ViBe算法采用第一帧初始化背景模型没有考虑像素值在时域上变化的情况,提出一种融合时域信息的自适应ViBe算法。提出一个历史像素值队列反映像素值在时域上的变化情况;提出一种结合自适应思想的阈值分割方法对前景像素和背景像素进行分割,使ViBe算法适应场景中不同动态区域;提出一种自适应的更新因子,通过自适应更新机制使背景模型能够在不同背景下更加可靠。实验结果表明,改进后的ViBe算法能够快速适应动态背景,使检测结果更为准确。\n",
      "\n"
     ]
    },
    {
     "name": "stderr",
     "output_type": "stream",
     "text": [
      "\r",
      " 69%|██████▉   | 693/1000 [04:55<02:12,  2.31it/s]"
     ]
    },
    {
     "name": "stdout",
     "output_type": "stream",
     "text": [
      "基 于 σ - δ 背 景 估 计 的 运 动 目 标 检 测 算 法\n",
      "基 于 σ - δ 背 景 估 计 的 视 频 序 列 检 测\n",
      "为解决视频序列在复杂环境下,针对运动目标检测中存在噪声、光线变化及非目标物局部运动等影响目标检测精度的问题,利用Σ-Δ背景估计建立背景模型,用Kalman滤波背景估计对当前背景模型进行补偿校正,将两者进行结合建立稳定的背景模型,产生与实际背景模型相似的背景图像,使用背景减除法提取出运动目标。提出一种基于Σ-Δ背景估计的视频序列运动目标检测方法。实验结果表明,所提算法能抑制非目标物的影响,对缓慢变化的光线具有一定的适应能力,与其它算法相比,本文算法能较完整提取运动目标,具有较高的Precision、F1和Similarity指标,且具有较强的鲁棒性和自适应性。\n",
      "\n"
     ]
    },
    {
     "name": "stderr",
     "output_type": "stream",
     "text": [
      "\r",
      " 69%|██████▉   | 694/1000 [04:55<02:18,  2.21it/s]"
     ]
    },
    {
     "name": "stdout",
     "output_type": "stream",
     "text": [
      "基 于 协 方 差 矩 阵 的 多 尺 度 特 征 描 述 子\n",
      "结 合 三 维 几 何 信 息 和 视 觉 信 息 的 多 尺 度 特 征 描 述\n",
      "针对目前的描述子只注重特征点几何形状信息的描述,使特征点的局部信息描述不够充分,导致匹配精度不足、抗噪性较弱等缺点,提出一种结合三维几何信息和视觉信息的基于协方差矩阵的多尺度特征描述子,通过计算特征点及其邻域的颜色和稳健的几何特征对特征点进行描述。该特征描述子具有旋转不变性,对噪声和分辨率的变化具有鲁棒性,可以应用于特征点的检测,减少三维模型间匹配时涉及的点的数量。实验结果表明,在匹配复杂的三维模型时,该描述子和其它特征描述子相比,具有更好的抗噪性,对分辨率的变化具有更强的鲁棒性。\n",
      "\n"
     ]
    },
    {
     "name": "stderr",
     "output_type": "stream",
     "text": [
      "\r",
      " 70%|██████▉   | 695/1000 [04:56<02:08,  2.38it/s]"
     ]
    },
    {
     "name": "stdout",
     "output_type": "stream",
     "text": [
      "基 于 能 量 约 束 及 高 斯 曲 率 的 薄 壳 弹 性 膨 胀 变 形\n",
      "三 维 薄 壳 弹 性 蠕 变 形 算 法\n",
      "三维薄壳膨胀变形是VR/AR/MR关键技术之一,自碰撞和自相交是膨胀变形的主要问题。基于离散高斯曲率和弹性形变能量函数,提出无碰撞、无自交的薄壳弹性膨胀变形算法。在三维薄壳的离散网格上定义弹性形变能量函数的膜能和弯曲能,构造离散高斯曲率约束以避免膨胀过程产生自碰撞和自相交问题,通过Newmark-beta运动控制方程求解变形运动下一时刻薄壳顶点的位置和速度。实验结果表明,该算法能够有效避免自碰撞和自相交问题产生。\n",
      "\n"
     ]
    },
    {
     "name": "stderr",
     "output_type": "stream",
     "text": [
      "\r",
      " 70%|██████▉   | 696/1000 [04:56<02:10,  2.32it/s]"
     ]
    },
    {
     "name": "stdout",
     "output_type": "stream",
     "text": [
      "l o r e n z 系 统 的 非 线 性 动 力 学 行 为 及 仿 真\n",
      "超 混 沌 类 l o r z 系 统 计 算 机 仿 真 与 应 用 研 究\n",
      "针对非线性动力学行为的特点,利用计算机仿真技术,应用数学微分方程理论以及Matlab软件对超混沌类Lorenz系统的非线性动力学行为及其计算机仿真情况展开具体分析与探索,包括Lorenz系统数学模型及其吸引子、Lyapunov指数和维数、时序波形、功率谱、Poincare映射,以及Lorenz平衡点等。结合3种情况对超混沌类Lorenz系统的计算机仿真进行分析,整体研究成果为同步加密通信工程应用、混沌控制等提供了一定理论依据和实践支持,具有积极的理论与实践意义。\n",
      "\n"
     ]
    },
    {
     "name": "stderr",
     "output_type": "stream",
     "text": [
      "\r",
      " 70%|██████▉   | 697/1000 [04:56<02:14,  2.26it/s]"
     ]
    },
    {
     "name": "stdout",
     "output_type": "stream",
     "text": [
      "面 向 机 器 学 习 的 训 练 数 据 集 均 衡 化 方 法\n",
      "基 于 分 布 特 征 评 估 值 的 机 器 学 习 均 衡 化 预 处 理 方 法\n",
      "为提高机器学习算法对于不均衡数据的建模效果,提出一种均衡化预处理方法。采用iForest形成每个样本在样本空间中的分布特征评估值,基于负类(多数类)样本的分布特征评估值定义概率分布;根据样本的概率分布,通过轮盘转算法选取负类样本;通过K-means方法形成若干负类样本聚类中心,以聚类中心为最终负类选取样本,实现正负类样本的均衡化。整个过程构成均衡化方法iForest-RM。iForest-RM与其它采样方法在Adaboost模型上的实验对比结果表明,iForest-RM具有更好的均衡化能力,更好获取样本空间分布特性,可有效应用于地震相识别。\n",
      "\n"
     ]
    },
    {
     "name": "stderr",
     "output_type": "stream",
     "text": [
      "\r",
      " 70%|██████▉   | 698/1000 [04:57<02:05,  2.41it/s]"
     ]
    },
    {
     "name": "stdout",
     "output_type": "stream",
     "text": [
      "改 进 的 卷 积 神 经 网 络 架 构\n",
      "卷 积 神 经 网 络 在 遥 感 图 像 处 理 中 的 应 用\n",
      "对卷积神经网络架构进行改进,提高其对遥感图像处理的识别能力。以端到端的形式处理图像数据,为提取更加完善的图像特征数据,对图像数据进行打补丁操作并利用小训练集训练模型参数,达到优化网络的目的,降低过拟合的概率。为验证该方法的有效性,采用遥感数据集进行实验验证,实验结果表明,该卷积神经网络架构对遥感图像的处理有更好的效果和更高的精确度。\n",
      "\n"
     ]
    },
    {
     "name": "stderr",
     "output_type": "stream",
     "text": [
      "\r",
      " 70%|██████▉   | 699/1000 [04:57<02:13,  2.25it/s]"
     ]
    },
    {
     "name": "stdout",
     "output_type": "stream",
     "text": [
      "基 于 改 进 简 化 粒 子 群 算 法 的 活 性 污 泥 过 程 建 模\n",
      "改 进 简 化 粒 子 群 算 法 在 活 性 污 泥 1 号 模 型 中 的 应 用\n",
      "提出一种改进简化粒子群算法,并应用于某氧化沟工艺的活性污泥1号模型(activated sludge model No.1,ASM1)与活性污泥3号模型(activated sludge model No.3,ASM3),对模型进行参数优化,提高模型准确性,并比较模型校正后的准确度。改进简化粒子群算法在简化粒子群算法基础上,对决策变量进行单维度搜索,提高算法的全局搜索能力。利用典型测试函数与基本粒子群算法、简化粒子群算法以及帝国竞争算法进行对比,其结果表明,该算法在函数优化上具有较明显优势。将改进简化粒子群算法应用到ASM1和ASM3模型中,其结果表明,该算法在模型参数优化上具有良好效果,模型对比上得到较清晰结果。\n",
      "\n"
     ]
    },
    {
     "name": "stderr",
     "output_type": "stream",
     "text": [
      "\r",
      " 70%|███████   | 700/1000 [04:58<02:08,  2.34it/s]"
     ]
    },
    {
     "name": "stdout",
     "output_type": "stream",
     "text": [
      "基 于 模 糊 本 体 和 遗 传 算 法 的 推 荐 系 统\n",
      "基 于 模 糊 本 体 和 遗 传 算 法 的 图 书 推 荐 系 统\n",
      "针对在数字图书馆中刻画教育者和学习者图书偏好的文本和网络数据不精确、不一致和不通用问题,提出一种基于模糊本体和遗传算法的推荐系统框架。将模糊逻辑引入领域本体,处理在图书领域中的模糊信息,采用遗传算法对图书的特征进行权重优化,通过聚类算法缩小推荐搜索空间,达到精细化的推荐结果。实验结果表明,该方法有效解决了冷启动、数据稀疏性问题,解决了本体推荐图书的不确定性和主观判断问题,与传统方法相比精度和泛化能力有所提高。\n",
      "\n"
     ]
    },
    {
     "name": "stderr",
     "output_type": "stream",
     "text": [
      "\r",
      " 70%|███████   | 701/1000 [04:58<01:54,  2.60it/s]"
     ]
    },
    {
     "name": "stdout",
     "output_type": "stream",
     "text": [
      "基 于 r e a l s e n s e 的 手 势 识 别 与 应 用\n",
      "深 度 图 像 手 势 识 别 关 键 技 术 研 究\n",
      "为解决现有手势识别方法易受外部环境干扰和特征提取繁琐的问题,提出一种基于Intel Realsense技术的深度图像手势识别的方法。根据SR300捕获的深度图像中获取的手部关节点和手指的信息,对这22个关节点进行几何建模;采用关节等效距离和手指伸直程度的特征,实现手势识别;将该方法应用到机械臂机器人的人机交互中去,成功实现抓取杯子到嘴边喝水等动作。实验结果表明,该方法特征简单,识别率高,通用性强,具有较强的鲁棒性。\n",
      "\n"
     ]
    },
    {
     "name": "stderr",
     "output_type": "stream",
     "text": [
      "\r",
      " 70%|███████   | 702/1000 [04:58<01:53,  2.63it/s]"
     ]
    },
    {
     "name": "stdout",
     "output_type": "stream",
     "text": [
      "基 于 自 编 码 器 的 深 度 神 经 网 络 管 控 算 法\n",
      "基 于 自 编 码 器 的 深 度 神 经 网 络 管 控 算 法\n",
      "针对智能养老设备集中管控与决策问题,提出一种基于自编码器和深度神经网络的智能管控算法。采用基于自编码器对各个设备进行无监督逐层贪婪预训练,挖掘设备之间的相似特征;结合具体的养老场景构建深度BP神经网络模型,使用养老环境下的实例监测数据对模型进行整体训练。实验结果表明,该管控算法对智能养老设备工作状态预测准确率达到99.7%,比传统神经网络模型提高了5.1%,比人工管控模型提高了39%。在智能养老设备不断增长、集中管控情况复杂多变时,管控算法依然可以保持97.3%的预测准确率,验证了算法的可行性和有效性。\n",
      "\n"
     ]
    },
    {
     "name": "stderr",
     "output_type": "stream",
     "text": [
      "\r",
      " 70%|███████   | 703/1000 [04:59<01:48,  2.73it/s]"
     ]
    },
    {
     "name": "stdout",
     "output_type": "stream",
     "text": [
      "改 进 深 度 学 习 块 卷 积 神 经 网 络 的 人 脸 表 情 识 别\n",
      "基 于 改 进 卷 积 神 经 网 络 的 人 脸 表 情 识 别\n",
      "设计一种改进的块卷积神经网络架构,并结合主动形状模型和局部二元模式映射实现人脸表情识别。采用主动形状模型定位人脸关键点,实现人脸姿态校正和感兴趣区域抽取;对校正后的图像进行局部二元模式映射,降低光照干扰;设计改进的卷积神经网络架构,对局部二元模式图像和感兴趣区域两个输入项进行学习和训练,建立分类器并实现人脸表情分类。人脸表情识别实验结果表明,该方法识别率高,运算效率较高。\n",
      "\n"
     ]
    },
    {
     "name": "stderr",
     "output_type": "stream",
     "text": [
      "\r",
      " 70%|███████   | 704/1000 [04:59<01:51,  2.66it/s]"
     ]
    },
    {
     "name": "stdout",
     "output_type": "stream",
     "text": [
      "基 于 遗 传 密 度 峰 值 聚 类 的 医 学 图 像 分 割\n",
      "基 于 遗 传 算 法 的 密 度 峰 值 自 适 应 分 割 算 法\n",
      "针对密度峰值算法(density peaks cluster,DPC)依靠先验知识给定截断距离dc且人工选择聚类中心点具有主观随意性等缺陷,提出一种基于遗传算法求取分割图像最大熵值,获得最优分割阈值的方法。得到满意的分割效果,实现了DPC算法的自适应分割并应用到医学图像上。仿真实验采用多张哈佛全脑图中的经典疾病图像,与K-means、AP (仿射传播)聚类算法及DPC算法作比较,比较结果表明,DPC的改进算法能自动获取截断距离,确定聚类中心,获得更好的分割效果。\n",
      "\n"
     ]
    },
    {
     "name": "stderr",
     "output_type": "stream",
     "text": [
      "\r",
      " 70%|███████   | 705/1000 [05:00<01:57,  2.50it/s]"
     ]
    },
    {
     "name": "stdout",
     "output_type": "stream",
     "text": [
      "基 于 深 度 学 习 的 核 小 体 位 点 预 测 方 法\n",
      "基 于 c n n 和 卷 积 神 经 网 络 的 核 小 体 网 络 预 测 模 型\n",
      "为实现在海量的被测序DNA序列中快速、准确的定位核小体,解决传统人工实验法和被提出的一些计算方法耗时长和准确率低等问题,迫切需要设计一种快速有效的核小体自动化定位方法。在基于伪核苷酸K-联体特征提取的基础上构造样本集的特征向量,提出在TensorFlow框架下利用卷积神经网络(CNN)构建核小体定位的网络预测模型。在预测模型上分别对智人、线虫和果蝇3个基准数据集进行交叉验证测试,预测准确率分别为88.21%、89.19%、85.07%,实验结果表明,该预测模型性能高于目前已有预测模型。\n",
      "\n"
     ]
    },
    {
     "name": "stderr",
     "output_type": "stream",
     "text": [
      "\r",
      " 71%|███████   | 706/1000 [05:00<01:54,  2.57it/s]"
     ]
    },
    {
     "name": "stdout",
     "output_type": "stream",
     "text": [
      "融 合 均 匀 局 部 二 元 模 式 和 稀 疏 表 示 的 人 脸 识 别\n",
      "基 于 稀 疏 和 稀 疏 结 合 的 人 脸 识 别 算 法\n",
      "针对当前人脸识别受噪声等干扰导致识别效果不佳的问题,提出一种人脸识别方法,利用具有抗光照不变性的近红外人脸图像进行人脸识别算法分析。为增强算法在图像抗噪声方面的性能,通过均匀局部二元模式提取人脸图像的特征;为避免细节纹理的缺失,采用对人脸图像分块处理的方法建立特征;通过引入稀疏分类算法,进行人脸识别。实验结果表明,该人脸识别算法相比传统方法具有良好的稳健性与识别率,达到了提高人脸识别算法性能的目的。\n",
      "\n"
     ]
    },
    {
     "name": "stderr",
     "output_type": "stream",
     "text": [
      "\r",
      " 71%|███████   | 707/1000 [05:00<01:52,  2.59it/s]"
     ]
    },
    {
     "name": "stdout",
     "output_type": "stream",
     "text": [
      "基 于 谱 聚 类 的 自 适 应 新 生 目 标 强 度 状 态 提 取\n",
      "谱 聚 类 自 适 应 新 生 目 标 强 度 状 态 提 取 算 法\n",
      "由于K均值算法易受噪声干扰且对初始粒子的选取较为敏感,在进行PHD状态提取时,难以获得稳定可靠的状态估计结果。对此,提出基于谱聚类的自适应新生目标强度状态提取方法,运用核密度估计理论和mean-shift算法二次估计PHD,提取滤波分布的峰值位置作为各个目标状态的估计值进行目标状态的提取。实验结果表明,改进后的算法相比原始算法在精度上有了明显提高。\n",
      "\n"
     ]
    },
    {
     "name": "stderr",
     "output_type": "stream",
     "text": [
      "\r",
      " 71%|███████   | 708/1000 [05:01<01:57,  2.49it/s]"
     ]
    },
    {
     "name": "stdout",
     "output_type": "stream",
     "text": [
      "风 电 场 对 气 象 雷 达 的 影 响 评 估 系 统 设 计 与 实 现\n",
      "风 电 场 对 气 象 雷 达 影 响 评 估 系 统 的 研 究 与 实 现\n",
      "针对风电场可能会对周围气象雷达产生严重影响的问题,提出一种风电场对气象雷达影响评估系统的设计与实现方法。利用风电场限制区评估、风轮机可见性评估、雷达波束阴影区评估、详细工程评估4个方面全面评估风电场可能对气象雷达产生的影响。详细工程评估通过计算风电场对气象雷达反射率因子等气象目标参数,估计可能造成的误差,评估风电场造成的影响。影响评估系统包含评估参数输入界面和评估结果显示界面,通过图与表结合的形式给出风电场对气象雷达潜在影响的定性与定量评估结果,对风电场和气象雷达的选址选型提出指导性意见。\n",
      "\n"
     ]
    },
    {
     "name": "stderr",
     "output_type": "stream",
     "text": [
      "\r",
      " 71%|███████   | 709/1000 [05:01<01:52,  2.58it/s]"
     ]
    },
    {
     "name": "stdout",
     "output_type": "stream",
     "text": [
      "基 于 异 构 多 核 环 境 下 的 核 间 通 信 机 制 设 计 与 实 现\n",
      "异 构 多 核 环 境 下 的 核 间 通 信 机 制 研 究\n",
      "为改善异构多核环境下核间通信效率,实现处理器性能的最优化,提出一种适用于异构多核环境下的分层结构的核间通信机制。对核间通信机制的体系结构进行概述,阐明会话层、传输层的具体含义及其层间交互关系;在此基础上提出应用于会话层与传输层的协议,依据协议完成通信机制的具体实现。在ARM+DSP异构多核平台上进行实验测试,测试结果表明了该机制的可行性与有效性。\n",
      "\n"
     ]
    },
    {
     "name": "stderr",
     "output_type": "stream",
     "text": [
      "\r",
      " 71%|███████   | 710/1000 [05:01<01:49,  2.65it/s]"
     ]
    },
    {
     "name": "stdout",
     "output_type": "stream",
     "text": [
      "面 向 复 杂 装 备 的 检 修 b o m 构 建\n",
      "面 向 复 杂 装 备 的 检 修 b o m 构 建 过 程 研 究\n",
      "通过分析复杂装备检修业务及数据管理特点,构建面向不同检修主体、层次和任务的3种检修BOM:涵盖所有检修范围的通用产品检修BOM、基于产品实例的检修BOM和面向单次检修任务的检修BOM。根据数据来源不同,对检修BOM构建过程进行阐述,通过BOM转换和映射技术实现构建过程。应用实例验证了该过程的可行性,其为检修服务企业的服务数据管理及数字化维修的实现提供参考。\n",
      "\n"
     ]
    },
    {
     "name": "stderr",
     "output_type": "stream",
     "text": [
      "\r",
      " 71%|███████   | 711/1000 [05:02<01:38,  2.93it/s]"
     ]
    },
    {
     "name": "stdout",
     "output_type": "stream",
     "text": [
      "第 十 六 届 中 国 信 息 系 统 及 应 用 大 会 征 文 ( w i s a   2 0 1 9 )\n",
      "中 国 信 息 系 统 及 应 用 大 会 顺 利 召 开\n",
      "由中国计算机学会(CCF)主办、CCF信息系统专业委员会承办的旗舰会议——第十六届中国信息系统及应用大会(WISA 2019)将于2019年9月21-22日在青岛大学召开。大会将围绕智能信息系统主题,关注信息系统新兴应用领域,聚焦关键技术难题,搭建学术、企业、政府三方参与的交流与合作平台。\n",
      "\n"
     ]
    },
    {
     "name": "stderr",
     "output_type": "stream",
     "text": [
      "\r",
      " 71%|███████   | 712/1000 [05:02<01:32,  3.11it/s]"
     ]
    },
    {
     "name": "stdout",
     "output_type": "stream",
     "text": [
      "深 度 学 习 在 s d n 中 的 应 用 研 究\n",
      "深 度 学 习 在 s d n 中 的 应 用 研 究\n",
      "软件定义网络作为一种最新网络架构,可通过软件编程的方式定义和控制网络,其控制平面和转发平面分离及开放性可编程的特点,为新型互联网体系结构研究提供了新的实验途径,也极大地推动了下一代互联网的发展。深度学习相对于传统的机器学习有很多优点,深度学习能够发现多层特征,并能够将高层特征表示成更抽象的数据特征。深度学习网络模型因为具有多个隐藏层而具有很强的特征学习能力,相对于机器学习模型来说具有很大的进步。随着深度学习的快速发展,有必要在软件定义网络中引入深度学习,推进软件定义网络的进一步发展。从架构、数据源、快速特征提取、深度学习算法选择和分析深度学习在SDN中的现有应用五个方面来说明深度学习在SDN中的应用。\n",
      "\n"
     ]
    },
    {
     "name": "stderr",
     "output_type": "stream",
     "text": [
      "\r",
      " 71%|███████▏  | 713/1000 [05:02<01:39,  2.89it/s]"
     ]
    },
    {
     "name": "stdout",
     "output_type": "stream",
     "text": [
      "基 于 排 队 论 的 工 业 无 线 传 感 网 超 帧 结 构 研 究\n",
      "面 向 工 业 应 用 的 无 线 传 感 器 网 络 超 帧 结 构 优 化\n",
      "随着无线传感器在工业场景中的大量应用,对于工业无线传感器网络的研究变得更加重要。针对目前工业无线传感器网络中数据传输采用的IEEE 802. 15. 4标准超帧结构在数据包排队方式的不足,为了满足工业应用场景中的实时性要求,更加精确地评估数据延迟与占空比等网络指标,提出一种优化排队方式的超帧结构。首先,利用排队论为IEEE802. 15. 4标准超帧结构中的竞争访问控制阶段(CAP)与非竞争访问控制阶段(CFP)建立数学模型,更加合理地分析超帧数据延迟;然后,根据排队论的性能分析,提出一种单队列排队超帧结构,相对于原始超帧结构,单队列排队结构能有效降低数据包的传输延迟,提高网络利用率。仿真结果验证了延迟模型的合理性和优化超帧结构的正确性,能满足工业物联网应用中的实时性要求。\n",
      "\n"
     ]
    },
    {
     "name": "stderr",
     "output_type": "stream",
     "text": [
      "\r",
      " 71%|███████▏  | 714/1000 [05:03<01:45,  2.72it/s]"
     ]
    },
    {
     "name": "stdout",
     "output_type": "stream",
     "text": [
      "h a d o o p 备 份 数 据 存 放 策 略 的 改 进\n",
      "一 种 基 于 h a d o o p 平 台 的 备 份 数 据 存 放 策 略\n",
      "对于默认的Hadoop备份数据存放策略来说,一旦本地的数据副本发生失效,那么就需通过远端机架上存放的备份数据来实现恢复,而对于默认的备份数据存放策略,备份数据存放节点的选择具有随机性,那么可能带来的问题是不同节点间备份数据存放不均衡,数据恢复时由于距离的因素造成内部带宽的巨大消耗。针对上述问题,提出一种改进的备份数据存放策略。该策略将节点之间的距离,节点的负载以及备份数据恢复次数纳入节点选择的考虑范围,由此计算出每个节点的匹配度,随之选出匹配度最高的节点作为远端机架间的备份数据存放的最优节点。该策略不但实现了节点间备份数据放置的负载均衡,而且兼顾了数据恢复时消耗的内部带宽,将数据副本失效次数纳入考虑,实现了经常失效数据副本的快速恢复。通过在Hadoop平台上实现所提出的改进策略,结果达到了预期的要求。\n",
      "\n"
     ]
    },
    {
     "name": "stderr",
     "output_type": "stream",
     "text": [
      "\r",
      " 72%|███████▏  | 715/1000 [05:03<02:01,  2.35it/s]"
     ]
    },
    {
     "name": "stdout",
     "output_type": "stream",
     "text": [
      "m a t l a b 上 的 有 限 元 网 格 自 动 生 成\n",
      "基 于 m a t l a b 的 非 均 匀 有 理 b 样 条 模 型 构 造 方 法\n",
      "Dist Mesh是基于MATLAB的有限元网格自动生成程序,具有程序代码简短明晰、网格质量高、移植性好等突出特点。但是因为Dist Mesh用以筛选和优化节点的距离函数是解析表达式,用户无法实现对复杂模型的构造,限制了Dist Mesh的工程应用和推广。由于非均匀有理B样条(NURBS)是计算机辅助技术(CAD)中三维建模的通用和标准技术,故基于MATLAB中的NURBS工具箱,提出一种利用NUBRS曲线和曲面的方向来判断节点与曲线、曲面位置关系的方法,以完成对节点的筛选和移动。基于力的平衡原理的迭代循环,通过对比理想的与实际的网格长度,以不断调整网格边长,完成对网格的优化。将通用的NUBRS建模与Dist Mesh相结合,突破了Dist Mesh原来建模复杂的限制,既能生成高质量的网格,又提高了Dist Mesh的适用性。\n",
      "\n"
     ]
    },
    {
     "name": "stderr",
     "output_type": "stream",
     "text": [
      "\r",
      " 72%|███████▏  | 716/1000 [05:04<01:58,  2.40it/s]"
     ]
    },
    {
     "name": "stdout",
     "output_type": "stream",
     "text": [
      "一 种 多 机 器 人 分 布 式 编 队 策 略 与 实 现\n",
      "基 于 微 粒 群 模 型 的 多 机 器 人 编 队 算 法\n",
      "多机器人编队问题已经成为当前研究的热点,在执行一些如地震救援、军事搜索等复杂任务时,多个机器人通过保持一定的队形可以提高复杂任务的执行效率。为了让机器人依据要完成的目标快速形成目标队形,选择合适的编队控制策略十分重要。对此,提出了一种新的基于微粒群模型的多机器人编队算法。该算法利用分布式计算的方式控制多机器人编队,通过构造包含所有机器人位置信息的队形适应值函数,将函数取最优解时的变量作为目标队形的位置,采用微粒群算法优化适应值函数,将优化过程中的最优解作为机器人的最优位置,使机器人朝着最优解运动,成功实现了四种目标队形(线形、三角形、圆形和六边形)的编队控制和队形变换,仿真结果证明了该算法的有效性。\n",
      "\n"
     ]
    },
    {
     "name": "stderr",
     "output_type": "stream",
     "text": [
      "\r",
      " 72%|███████▏  | 717/1000 [05:04<02:01,  2.33it/s]"
     ]
    },
    {
     "name": "stdout",
     "output_type": "stream",
     "text": [
      "无 线 传 感 器 网 络 自 私 节 点 的 合 作 路 由 研 究\n",
      "基 于 v c g 机 制 的 无 线 传 感 器 网 络 拍 卖 模 型 路 由 协 议\n",
      "在无线传感器网络中由于节点的资源有限性,不是每个节点都愿意提供转发服务,自私节点会因为能量、存储空间有限等原因不积极主动参与数据转发,严重影响网络中的数据转发。文中提出结合VCG(Vickrey-Clark-Groves)思想的拍卖模型路由协议。使用支付机制,源节点作为代理买方购买邻居节点转发服务,邻居节点计算自己报价参与竞拍,考虑到自私节点在报价时会为了最大化自身效益而撒谎,结合VCG机制和竞拍博弈的思想,由每层代理买方来确定具体标价,最后结合信誉机制,从而激励节点良好协作,以期实现节点能耗均衡、最优支付路径选择,提高数据发送量。实验结果证明,使用该算法使得路径支付降低,整体提高了网络生存周期,总数据转发量有所提升。\n",
      "\n"
     ]
    },
    {
     "name": "stderr",
     "output_type": "stream",
     "text": [
      "\r",
      " 72%|███████▏  | 718/1000 [05:05<01:57,  2.39it/s]"
     ]
    },
    {
     "name": "stdout",
     "output_type": "stream",
     "text": [
      "利 用 网 络 图 像 增 强 行 为 识 别\n",
      "基 于 跨 域 字 典 学 习 的 人 体 行 为 识 别 方 法\n",
      "鉴于商业视觉搜索引擎的日益成熟,网络数据可能是下一个扩大视觉识别的重要数据源。通过观察发现,动作名称查询到的网络图像具有歧视性的动作场景。网络图像的歧视性信息和视频的时间信息之间有相互补充的优势。在此基础上提出一种利用大量的网络图像来增强行为识别的方法。具体框架是:提取行为视频的密集轨迹特征,并与网络图像特征相结合后放入支持向量机中训练分类。该方法是一个跨域学习问题,为了有效地利用网络图像特征,引入了跨域字典学习算法来处理网络图像,以解决网络图像域和视频域之间存在的域差异问题。由于网络图像可以轻松地在网络上获取,所以该方法几乎零成本地增强行为识别。在KTH和YouTube数据集上的实验结果表明,该方法有效提高了人体行为识别的准确率。\n",
      "\n"
     ]
    },
    {
     "name": "stderr",
     "output_type": "stream",
     "text": [
      "\r",
      " 72%|███████▏  | 719/1000 [05:05<02:06,  2.23it/s]"
     ]
    },
    {
     "name": "stdout",
     "output_type": "stream",
     "text": [
      "基 于 互 信 息 量 和 自 回 归 模 型 的 镜 头 分 割 方 法\n",
      "基 于 互 信 息 量 和 自 回 归 模 型 的 自 适 应 阈 值 镜 头 分 割\n",
      "随着互联网的急速发展,盗版,不健康,暴力等视频在网络上肆意流窜,如何快速、有效、准确地对视频数据进行管理,已然成为迫切需要解决的问题。在视频处理过程中,首先是对镜头进行分割,然后再进行视频帧的分析处理。然而许多视频内容的复杂性比较高,不一定能得到比较好的分割结果。鉴于此,提出一种基于互信息量和自回归模型的自适应阈值镜头分割算法。该算法首先以非均匀分块加权HSV直方图为基础,通过计算两帧的互信息量求出两帧的相似度值,然后建立自回归模型产生自适应阈值进行镜头分割,最终实现突变镜头的突变检测和渐变镜头的渐变检测,并采用时间窗口进一步降低检测误差。以优酷网上随机抽取下载的真实视频为测试对象,实验结果表明,该算法可适用于不同类型的视频镜头分割,具有很好的检测效果。\n",
      "\n"
     ]
    },
    {
     "name": "stderr",
     "output_type": "stream",
     "text": [
      "\r",
      " 72%|███████▏  | 720/1000 [05:06<02:04,  2.25it/s]"
     ]
    },
    {
     "name": "stdout",
     "output_type": "stream",
     "text": [
      "基 于 s h e a r l e t 变 换 的 r e t i n e x 去 雾 算 法\n",
      "基 于 s h e a r l e t 变 换 的 图 像 去 雾 算 法 研 究\n",
      "通常,雾天情况下拍摄的图像会因大气粒子散射而出现对比度低、图像模糊等问题,对交通监控系统等造成了一定的影响。针对这一问题,提出一种基于Shearlet变换的Retinex去雾算法。首先对有雾图像进行Shearlet变换分解,得到低频信息和一系列高频信息;由于雾气大部分存在于低频分量上,优先对低频系数使用多尺度Retinex算法进行处理以降低雾气对图像的影响;再对高频系数采用阈值法进行处理以去除噪声;最后再进行Shearlet逆变换,从而实现去雾,得到最终的增强图像。实验结果表明,该算法能增强图像的视觉效果,使图像的细节更丰富,达到去雾的目的。与其他算法相比,在亮度、对比度和信息熵方面均有一定程度的提高,处理后图像的视觉效果更好,是一种有效的雾天图像清晰化算法。\n",
      "\n"
     ]
    },
    {
     "name": "stderr",
     "output_type": "stream",
     "text": [
      "\r",
      " 72%|███████▏  | 721/1000 [05:06<02:11,  2.12it/s]"
     ]
    },
    {
     "name": "stdout",
     "output_type": "stream",
     "text": [
      "基 于 d n a 链 置 换 构 建 逻 辑 计 算 模 型\n",
      "基 于 d n a 链 置 换 与 荧 光 标 记 的 分 子 逻 辑 计 算 模 型\n",
      "近年来,随着电子元器件的微型化趋势,其传统制作工艺所面临的挑战也日益显著,寻找新型手段辅助甚至替代传统硅基计算机已逐渐成为科学家们的研究重点。所以,随着生物化学技术的不断发展,以DNA分子作为存储数据和运算媒介的新型计算模型引起了研究者的广泛关注。为此,提出了基于DNA链置换与荧光标记的分子逻辑计算模型。该方法利用重金属离子Hg2+能够引发组成DNA分子中胸腺嘧啶（thymine,T）形成T-Hg2+-T错配的形式,通过检测荧光信号强度的相对变化,构建了与非逻辑门（NAND）。之后,在前者的基础上利用DNA富含鸟嘌呤（guanine,G）的片段可以形成G-四链体结构的情况下,通过结合氯化血红素（Hemin）形成具有过氧化物酶的活性进而促进过氧化氢（H2O2）氧化四甲基联苯胺（TMB）得到蓝色的TMB+,以此构建半加器。\n",
      "\n"
     ]
    },
    {
     "name": "stderr",
     "output_type": "stream",
     "text": [
      "\r",
      " 72%|███████▏  | 722/1000 [05:06<02:00,  2.30it/s]"
     ]
    },
    {
     "name": "stdout",
     "output_type": "stream",
     "text": [
      "基 于 元 数 据 的 流 程 模 型 相 似 性 度 量 方 法\n",
      "基 于 流 程 模 型 相 似 性 度 量 方 法\n",
      "随着业务流程模型管理技术的广泛使用,业界存在大量业务流程模型,企业及组织通常会维护庞大的流程模型集。为了准确度量模型集中流程模型的相似性,提出一种基于元数据的流程模型相似性度量方法。基于流程注册元模型框架(MFI-5)构建流程模型描述框架(PMDF),依据PMDF定义流程模型相似性特征集(SFS);利用相似性特征集对BPM N模型进行标识与量化,得到模型在多个特征中的向量,并采用基于距离的算法对任意两个模型在某一特征中的向量进行相似性计算,得到两个模型在该特征中的相似性,均等考虑每个特征中的相似性以获取两个流程模型的相似性,从而依据模型集中任意两个流程模型的相似性值构建模型相似性度量矩阵。最后,利用该方法对多个在线售货服务流程模型进行相似性度量,分析讨论度量结果,一定程度上为业务流程推荐提供决策支持。\n",
      "\n"
     ]
    },
    {
     "name": "stderr",
     "output_type": "stream",
     "text": [
      "\r",
      " 72%|███████▏  | 723/1000 [05:07<02:07,  2.16it/s]"
     ]
    },
    {
     "name": "stdout",
     "output_type": "stream",
     "text": [
      "移 动 g p u 中 模 型 视 图 变 换 单 元 的 可 重 构 设 计\n",
      "可 重 构 3 d 视 图 变 换 单 元 的 并 行 化 设 计\n",
      "针对移动图形处理器,正确显示并渲染图像是一个重要的指标,尤其是在保证图像质量的基础上,如何在多个PE(processing element)阵列的结构上将图像变换时的矩阵计算并行化,并在低功耗和有限带宽的情况下实现高效的图形渲染和高质量的图形效果是一项十分重要的工作。结合图形学中的3D仿射变换的基本概念和过程,并根据PE阵列结构的算法映射特点,提出一种可重构模型视图变换单元的并行化设计方案。该方案使用32个PE对平移、缩放、旋转操作的矩阵运算进行并行处理,并在FPGA(field programmable gate array)开发板上完成了原型验证。FPGA平台的输出结果和Linux平台的输出结果对比表明,可重构电路可以正确实现预期的图形变换效果。这种设计方案更具有灵活性且可以实时适应计算任务要求的变化,其电路工作频率可达183. 23 MHz。\n",
      "\n"
     ]
    },
    {
     "name": "stderr",
     "output_type": "stream",
     "text": [
      "\r",
      " 72%|███████▏  | 724/1000 [05:07<02:04,  2.22it/s]"
     ]
    },
    {
     "name": "stdout",
     "output_type": "stream",
     "text": [
      "基 于 卷 积 神 经 网 络 和 池 化 算 法 的 表 情 识 别 研 究\n",
      "改 进 的 自 适 应 池 化 算 法 在 表 情 识 别 中 的 应 用\n",
      "卷积神经网络(CNN)能够通过神经网络自主学习提取图像中的特征,并且具有局部响应、权值共享等优点,在人脸表情识别中获得了广泛的应用。池化算法是CNN的核心技术之一,通过对卷积层的特征进行聚合统计,池化算法可以减少CNN的特征维度,提高特征表征能力,但是目前常用的池化算法还存在提取特征单一,缺乏灵活性的情况。为了克服现有池化算法的不足,根据深度学习可采用BP算法自主调节参数的特性,提出一种改进的自适应池化算法。该算法在训练过程中能够根据损失函数,不断更新池化域的参数,最终使表情预测值和真实结果值之间的差值达到最小。基于CK+人脸表情数据库的实验结果表明,与现有池化算法相比,提出的自适应池化算法能有效提高表情识别准确率。\n",
      "\n"
     ]
    },
    {
     "name": "stderr",
     "output_type": "stream",
     "text": [
      "\r",
      " 72%|███████▎  | 725/1000 [05:08<01:58,  2.31it/s]"
     ]
    },
    {
     "name": "stdout",
     "output_type": "stream",
     "text": [
      "基 于 混 沌 特 性 的 语 音 信 号 分 类\n",
      "基 于 混 沌 特 征 的 语 音 信 号 混 沌 特 征 分 类\n",
      "语音识别广泛应用于人机交互、安全识别等相关领域,语音信号分类是语音识别的重要基础。语音信号分类主要借助混沌特性的相关特征对语音信号进行研究。目前,语音信号分类相关研究主要有模型训练分类和特征提取两种方法。模型训练分类法需要大量数据的支撑,而且训练过程复杂、训练时间长。特征提取法需要提取大量不同特征进行分析,过程复杂。文中在特征提取法的基础上提出一种基于李雅普诺夫指数的语音信号混沌特性分类方法。该方法以混沌理论中相空间重构为基础,分别采用互信息法求取延迟时间、Cao方法求取嵌入维数、小数据量法求最大李雅普诺夫指数,然后探究各类语音信号的分布特点,并对其进行分类。\n",
      "\n"
     ]
    },
    {
     "name": "stderr",
     "output_type": "stream",
     "text": [
      "\r",
      " 73%|███████▎  | 726/1000 [05:08<02:02,  2.24it/s]"
     ]
    },
    {
     "name": "stdout",
     "output_type": "stream",
     "text": [
      "基 于 改 进 样 本 熵 的 金 融 时 间 序 列 复 杂 性 研 究\n",
      "基 于 改 进 样 本 熵 的 金 融 时 间 序 列 复 杂 性 研 究\n",
      "金融时间序列的复杂度分析对研究金融市场的内在规律性具有重要意义。但是,复杂度衡量方法样本熵在以往的实验中,被证实熵值的大小并不总是和序列的复杂度相关。样本熵在计算时间序列复杂度时,没有考虑到序列中相似向量的分布以及构成序列向量的复杂性对时间序列复杂度的影响。针对这个问题,在样本熵的基础上提出了二维熵。该方法的创新性主要体现在:二维熵在计算序列中向量的自相似性概率时,向量之间的相似性不仅取决于向量之间的模式距离,还和两个向量之间的时间距离有关;二维熵熵值的大小不仅和两种模式下向量的自相似概率的条件概率值有关,还和模式自相似概率的值相关。通过模拟时间序列证实了二维熵的有效性及优越性,最后将二维熵以及互二维熵应用在四只金融股指序列中,衡量它们之间的复杂度关系。发现中国市场的两只股指的复杂度在不同时间段的趋势是一致的,并且其异步性相对其他股指也是最小的。美股和港股的复杂度在不同时间段趋势大致也是一样的,且两者的异步性相对中国市场的两个股指也是相对较小的。\n",
      "\n"
     ]
    },
    {
     "name": "stderr",
     "output_type": "stream",
     "text": [
      "\r",
      " 73%|███████▎  | 727/1000 [05:09<01:57,  2.33it/s]"
     ]
    },
    {
     "name": "stdout",
     "output_type": "stream",
     "text": [
      "基 于 s l i c 的 图 像 分 割 方 法 研 究\n",
      "基 于 超 像 素 的 g r a b c u t 图 像 分 割\n",
      "图像分割是将图像分割成若干个特定的、独特的区域,并提取出目标的技术和过程。它是计算机视觉和图像处理中重要的研究内容之一。近年来,以GrabCut为代表的基于图论的图像分割方法成为了研究热点。基于图论的图像分割是一种将图像边缘信息和纹理信息相结合的能量最小化方法。GrabCut算法是一种优秀的基于图论的交互式图像分割算法。该算法具有简单的交互性和良好的分割效果,但也存在分割速度较慢、算法时间复杂度过高以及对背景和前景相似的图片分割不理想等缺陷。超像素块提取是指将图像分割成一组集合,集合的每个超像素块里的像素点都有相似的特征,各个超像素块之间有着明显的区别。超像素有许多便捷的属性,并被广泛地用作基础预处理阶段,以减少各种计算机视觉任务的计算。针对GrabCut图像分割方法时间复杂度过高以及对背景和前景相似的图片处理质量不好的问题,提出了基于超像素的GrabCut图像分割方法。\n",
      "\n"
     ]
    },
    {
     "name": "stderr",
     "output_type": "stream",
     "text": [
      "\r",
      " 73%|███████▎  | 728/1000 [05:09<01:54,  2.37it/s]"
     ]
    },
    {
     "name": "stdout",
     "output_type": "stream",
     "text": [
      "数 据 到 文 本 生 成 研 究 综 述\n",
      "机 器 新 闻 写 作 中 数 据 到 文 本 生 成 技 术 研 究 综 述\n",
      "机器新闻写作,作为人工智能在传媒业的一种应用,越来越受到学界和业界的关注,目前主要用于体育、财经、气象地质和健康等领域。机器新闻写作的核心是自然语言生成技术,而数据到文本生成是自然语言生成领域的典型技术,是实现机器新闻写作的关键技术之一。为了更好地研究数据到文本生成技术并将其应用于机器新闻写作领域,以内容选择和表层实现为重点,梳理了近年来数据到文本生成的发展脉络,并比较了基于规则和数据驱动两种研究方法,归纳了不同领域的可用数据集,总结了内在和外在两类评价方法,分析了数据到文本生成技术当前存在的问题,以及探讨了其未来可能的研究方向。\n",
      "\n"
     ]
    },
    {
     "name": "stderr",
     "output_type": "stream",
     "text": [
      "\r",
      " 73%|███████▎  | 729/1000 [05:09<01:54,  2.37it/s]"
     ]
    },
    {
     "name": "stdout",
     "output_type": "stream",
     "text": [
      "基 于 s p a r k 的 协 同 过 滤 算 法 并 行 化 研 究\n",
      "基 于 项 目 协 同 过 滤 算 法 在 s p a r k 上 的 并 行 化 应 用\n",
      "协同过滤算法在推荐系统中应用广泛。但是随着数据量的爆炸式增长,协同过滤算法所需的计算量也随之增长。针对传统的单机集中式计算已无法满足推荐系统的实时性和扩展性要求的问题,基于主流的大数据平台Spark在迭代计算以及内存计算方面的优势,设计了一种基于项目的协同过滤算法在Spark上的并行化方案。该方案利用RDD并行化计算的特点,通过合理设计RDD算子来实现对物品间相似度计算过程和评分计算过程的并行化,同时采用了RDD的缓存机制以及Spark中的广播变量来对一些重要的计算资源进行缓存与分发,从而提高计算速度。用MovieLens公开数据集对基于Spark平台的并行化Item-Based协同过滤算法的性能进行测试,结果表明该并行化协同过滤算法在准确性以及时效性方面均有较好的表现。\n",
      "\n"
     ]
    },
    {
     "name": "stderr",
     "output_type": "stream",
     "text": [
      "\r",
      " 73%|███████▎  | 730/1000 [05:10<01:54,  2.36it/s]"
     ]
    },
    {
     "name": "stdout",
     "output_type": "stream",
     "text": [
      "基 于 猫 群 思 想 的 混 合 人 工 蜂 群 算 法\n",
      "基 于 随 机 新 解 引 导 的 混 合 人 工 蜂 群 算 法\n",
      "为了缓解基本人工蜂群算法后期种群多样性下降,易陷入局部最优,开采能力较差等问题,提出一种基于猫群思想的混合人工蜂群算法。提出基于随机新解引导的自适应搜索策略,结合多次高斯搜索机制,对雇佣蜂阶段进行优化;引入基于猫群思想的搜索过程,结合顺序模式分配方式,对较优解执行搜寻模式,对较差解执行优化后的跟踪模式;优化后的跟踪模式采用“位移”模型对解进行更新。对标准测试函数寻优,结果表明混合人工蜂群算法收敛精度更高,所需的迭代次数更少。得出结论:基于随机新解引导的自适应搜索策略能有效缓解算法易陷入局部最优的问题,基于猫群思想的搜索过程能有效提高算法的局部开采能力和全局搜索能力,混合人工蜂群算法具有更优秀的收敛性能。\n",
      "\n"
     ]
    },
    {
     "name": "stderr",
     "output_type": "stream",
     "text": [
      "\r",
      " 73%|███████▎  | 731/1000 [05:10<01:59,  2.25it/s]"
     ]
    },
    {
     "name": "stdout",
     "output_type": "stream",
     "text": [
      "基 于 块 模 型 的 混 合 高 斯 运 动 目 标 检 测 方 法\n",
      "一 种 基 于 信 息 度 对 运 动 目 标 分 离 的 混 合 高 斯 模 型 算 法\n",
      "对场景中运动目标进行实时检测,在公共安全、军事和航空航天等领域中具有非常重要的应用价值。在图像处理运动检测中,传统的混合高斯模型方法为每一个像素构建高斯模型,利用背景像素在较长时间内具有稳定的概率分布密度等统计信息分离背景区域,实现背景和运动目标的分离。该方法在实际使用中容易受到噪声干扰,且计算成本高。针对其不可避免的缺点,提出了一种基于信息度对图像进行分块的混合高斯模型算法。通过图像块中含有运动点的比例不同采用不同的混合高斯模型,对位于运动目标边缘的图像块采用单独的算法进行预处理,不仅能够降低背景区域、运动区域中噪声对背景模型的影响,同时能够以更高的计算效率实现运动目标的检测。实验结果表明,该算法在实际场景中具有良好的可行性和鲁棒性。\n",
      "\n"
     ]
    },
    {
     "name": "stderr",
     "output_type": "stream",
     "text": [
      "\r",
      " 73%|███████▎  | 732/1000 [05:11<01:52,  2.38it/s]"
     ]
    },
    {
     "name": "stdout",
     "output_type": "stream",
     "text": [
      "基 于 改 进 蚁 群 算 法 的 多 时 间 窗 车 辆 路 径 问 题\n",
      "多 时 间 窗 车 辆 路 径 问 题 的 蚁 群 算 法\n",
      "物流运输成本在物流总成本中占有很大比重,合理安排车辆路线,满足用户需求对企业有重要意义。车辆路径问题是运筹优化领域的热点研究问题,多时间窗车辆路径问题是对车辆路径问题的扩展。文中以总成本最小为目标,建立了多时间窗车辆路径问题的一般数学模型,针对蚁群算法在求解时容易陷入局部最优解和收敛速度慢的问题,改进转移概率公式,采用邻域搜索策略提高解的质量,借鉴模拟退火算法的思想对信息素进行更新,提高算法的寻优能力,加快收敛速度。实验结果表明,改进后的蚁群算法可以有效求得最优解,降低物流运输成本。相比其他算法,改进后的蚁群算法求解精确度高,收敛速度快,在求解多时间窗车辆路径问题上有着较好的性能。\n",
      "\n"
     ]
    },
    {
     "name": "stderr",
     "output_type": "stream",
     "text": [
      "\r",
      " 73%|███████▎  | 733/1000 [05:11<01:47,  2.48it/s]"
     ]
    },
    {
     "name": "stdout",
     "output_type": "stream",
     "text": [
      "基 于 支 持 向 量 机 的 英 文 字 符 识 别 研 究\n",
      "基 于 统 计 机 器 学 习 的 英 文 字 符 识 别\n",
      "图像识别是“大数据”时代的热门研究领域之一,而英文字符识别是图像识别领域重要的研究方向。对于手写数据的辨认在移动智能、刑侦、医学、考古学等诸多领域有广泛的应用,同时,国内在该领域的建模探索相对匮乏。文中使用机器学习领域的经典手写字符数据集,基于统计机器学习理论,建立英文字符识别的支持向量机(SVM)模型。鉴于国内外对于参数选择至今没有公认的方法,依据支持向量的个数、训练误差、测试误差作为评价指标,对惩罚参数C的选取进行探索并给出了在字符识别领域的推荐值。实证结果表明,对“变体”英文字母的识别准确率很高,且非常稳健,没有“过拟合”现象,说明支持向量机适用于处理字符识别问题。本质上,相比经典的二分类问题,文中是多分类支持向量机(multiclass classification support vector machine,M CSVM)应用的研究与探索。\n",
      "\n"
     ]
    },
    {
     "name": "stderr",
     "output_type": "stream",
     "text": [
      "\r",
      " 73%|███████▎  | 734/1000 [05:11<01:37,  2.71it/s]"
     ]
    },
    {
     "name": "stdout",
     "output_type": "stream",
     "text": [
      "一 种 融 合 贝 叶 斯 概 率 的 社 区 结 构 发 现 方 法 研 究\n",
      "融 合 信 息 熵 的 社 区 发 现 方 法\n",
      "社区结构通常具有动态、不对称、模糊的特性。为了更好地发现社区结构以及描述社区成员之间的关系,针对当前方法的一些不足,对利用贝叶斯概率来改进社区结构发现的方法进行研究。贝叶斯概率在描述成员之间动态、因果、模糊关系时具有优势,通过引入信息熵,提出了一种融合贝叶斯概率的社区发现方法。该方法首先计算成员之间的贝叶斯概率,研究贝叶斯关系网络构建方法,得出成员之间不对称贝叶斯概率矩阵;然后根据系统内信息的熵相对稳定的性质,把成员间贝叶斯概率作为信息熵的概率输入,计算出新成员加入后信息熵的变化值,根据熵值变化情况来确定成员是否属于社区,从而在发现社区结构的同时,也能描述社区成员之间的不对称、动态和模糊关系。实验结果证明了该方法的有效性。\n",
      "\n"
     ]
    },
    {
     "name": "stderr",
     "output_type": "stream",
     "text": [
      "\r",
      " 74%|███████▎  | 735/1000 [05:12<01:52,  2.36it/s]"
     ]
    },
    {
     "name": "stdout",
     "output_type": "stream",
     "text": [
      "基 于 分 块 双 向 二 维 主 成 分 分 析 的 人 脸 目 标 识 别\n",
      "分 块 双 向 二 维 主 成 分 分 析 融 合 局 部 特 征 的 人 脸 识 别 算 法\n",
      "人脸目标识别是目前模式识别、计算机视觉等领域的研究热点问题之一,现有的大多数人脸目标识别算法的条件假设都较为严格,将其应用于现实环境中时,人脸识别的精度较低。针对现实人脸识别中由于光照、表情、姿态或其他物体引起的面部遮挡而严重影响识别率的问题,提出了一种分块双向二维主成分分析融合局部特征方法。首先,将图像分解为互不重叠的子块,每个子块包含重要的局部信息,利用(2D)2PCA对子块进行特征提取并投影到特征子空间;然后,对每个子块分别设计一个分类器并在一定置信度范围内判别测试样本所属类别;最后,根据所有子块所属类别的置信度之和完成人脸分类。在两个人脸识别数据库上的实验结果表明,相比其他几种人脸识别算法,该方法取得了更高的识别精度。\n",
      "\n"
     ]
    },
    {
     "name": "stderr",
     "output_type": "stream",
     "text": [
      "\r",
      " 74%|███████▎  | 736/1000 [05:12<01:52,  2.34it/s]"
     ]
    },
    {
     "name": "stdout",
     "output_type": "stream",
     "text": [
      "基 于 强 化 学 习 的 分 布 式 智 能 入 侵 防 御 方 案 设 计\n",
      "基 于 强 化 学 习 的 分 布 式 智 能 入 侵 防 御 方 案 设 计\n",
      "协作频谱感知技术能够有效地提高频谱利用率,然而恶意用户的存在将极大地影响整个认知网络的性能,因此恶意用户的检测与防御变得尤为重要。为有效抵御协作频谱感知中的恶意用户及其恶意行为,提出一种强化学习与信誉模型相结合的分布式智能入侵防御方案。在该方案中,认知用户通过不断地观测和学习周围的环境,对于实时变化的网络环境做出最优的选择,选取最优的邻居用户进行合作,以获得最大的回报。当融合中心的判决结果与认知用户的判决结果一致/不一致时,给予相应信誉值的奖励/惩罚,当信誉值低于一定判决门限视为潜在的恶意用户。最终使得智能的恶意用户主动放弃恶意攻击,开始发送正确的感知值,达到一致性融合。仿真结果表明,所提方案能够有效地抵御恶意攻击,极大地提高了网络的健壮性与稳定性。\n",
      "\n"
     ]
    },
    {
     "name": "stderr",
     "output_type": "stream",
     "text": [
      "\r",
      " 74%|███████▎  | 737/1000 [05:13<01:47,  2.44it/s]"
     ]
    },
    {
     "name": "stdout",
     "output_type": "stream",
     "text": [
      "基 于 统 一 身 份 认 证 平 台 的 局 域 网 安 全 设 计\n",
      "局 域 网 安 全 设 计 中 的 统 一 认 证 平 台 设 计\n",
      "对于局域网进行安全设计时首先要以提高网络系统安全性为目标,其次还要保证局域网上的应用系统的安全性满足相应标准。对服务器、个人终端、网络接入设备、防火墙在内的所有参与到局域网服务过程中的节点进行分析研究,判断出网络系统安全存在的薄弱点。在这其中,“准入准出”平台的设计和建立是首先要考虑的技术手段。基于“统一身份认证”这一普遍使用的“准入准出”技术,以宝鸡文理学院局域网网络安全设计和建设为实例,讨论统一身份认证技术在网络安全中的应用。首先研究了统一认证平台的设计思想和具体功能,在这一基础上,画出了该平台的体系架构图;然后分别从目录服务、用户(角色)管理、同步管理、认证过程和授权管理等五个方面详细阐述了统一认证平台的设计,为局域网在安全规划和设计方面提供了有益的参考。\n",
      "\n"
     ]
    },
    {
     "name": "stderr",
     "output_type": "stream",
     "text": [
      "\r",
      " 74%|███████▍  | 738/1000 [05:13<01:45,  2.49it/s]"
     ]
    },
    {
     "name": "stdout",
     "output_type": "stream",
     "text": [
      "基 于 s p a r k 的 模 糊 聚 类 算 法 实 现 及 其 应 用\n",
      "基 于 s p a r k 的 并 行 化 算 法 的 设 计 与 实 现\n",
      "作为软聚类的代表性算法,模糊聚类算法FCM能客观地处理带有模糊性的聚类问题。为了适应对大数据进行实时和准确地聚类的需求,提高FCM算法对大数据的聚类效率,设计了FCM基于大数据计算平台Spark的并行化实现方法。该方案用HDFS对底层数据进行分布式存储,用RDD机制进行计算过程中的数据转换,用持久化技术实现中间结果的重用。为了检验所设计的并行化FCM算法的有效性,将其应用于入侵检测系统中,首先对KDD CUP 99数据集进行预处理,然后分别在单机和Spark集群上,针对预处理前后的KDD CUP 99数据集,用该算法实施聚类来检测入侵,并比较检测的准确性和时效性。应用结果表明,基于Spark的并行化FCM算法有良好的聚类鲁棒性、收敛速度和准确率,尤其在处理大规模样本数据时,优势更加明显。\n",
      "\n"
     ]
    },
    {
     "name": "stderr",
     "output_type": "stream",
     "text": [
      "\r",
      " 74%|███████▍  | 739/1000 [05:14<01:41,  2.56it/s]"
     ]
    },
    {
     "name": "stdout",
     "output_type": "stream",
     "text": [
      "一 种 基 于 协 同 训 练 的 a n d r o i d 恶 意 代 码 检 测 方 法\n",
      "基 于 机 器 学 习 的 恶 意 程 序 检 测 方 法\n",
      "对于传统的恶意程序检测方法,将机器学习算法应用在未知恶意程序的检测方法进行研究。使用单一特征的机器学习算法无法充分发挥其数据处理能力,检测效果一般。使用两视图协同训练,对于一个未知样本两个分类器预测结果相反时处理不佳。因此,在机器学习的基础上,采用一种三视图协同训练算法,三个分类器对未知样本预测有分歧时,基于“少数服从多数”的思想进行“投票”决定,具有比较理想的效果。该方法对APK软件进行逆向分析和特征提取,选取权限申请特征、API调用序列特征和Op Code特征三个非重叠子视图,针对每个子视图甄选最优算法分别生成分类器。在此基础上,采用Co-training算法思想,对三个分类器协同训练,实现了在已知样本较少的情况下,三个单独分类器检测性能的同步提升。从安卓市场下载各类良性样本4 600个,从恶意软件样本分享网站Virus Share下载最新恶意样本4 360个,按照已标记样本数量从30到120个分为10组实验,对约1 800个样本进行分类测试,实验结果表明该检测方法具有更优的效果。\n",
      "\n"
     ]
    },
    {
     "name": "stderr",
     "output_type": "stream",
     "text": [
      "\r",
      " 74%|███████▍  | 740/1000 [05:14<01:37,  2.66it/s]"
     ]
    },
    {
     "name": "stdout",
     "output_type": "stream",
     "text": [
      "一 种 基 于 s p a r k 模 型 的 电 力 异 常 数 据 检 测 方 法\n",
      "基 于 s p a r k 的 电 力 异 常 数 据 检 测 与 修 正\n",
      "电网的信息化与智能化程度不断的提升使得电力数据量越来越大,给数据的处理和分析带来很大的困难。在智能电网大数据应用处理的过程中,数据的实时性存储、高效处理、多源异构数据的融合以及数据的可视化方面面临着严峻的挑战,需要深入对这些方面开展研究,切实发挥大数据在保障电网安全稳定运行的作用。这些异常数据的存在对现代电力系统状态的估计结果的影响是不容忽视的。现有的电力数据异常检测方法未能充分挖掘数据特征,存在计算复杂、灵活性差、精度较低等缺点。目前已有的预测算法无法满足预测速度和精度的要求,因此基于大数据计算平台,提出一种基于Spark的改进ISODATA聚类算法对异常数据进行检测与修正。实验结果表明,该方法对异常数据的检测和修正有很好的效果,降低了检测时间,有效提高了状态估计结果的准确性。\n",
      "\n"
     ]
    },
    {
     "name": "stderr",
     "output_type": "stream",
     "text": [
      "\r",
      " 74%|███████▍  | 741/1000 [05:14<01:46,  2.43it/s]"
     ]
    },
    {
     "name": "stdout",
     "output_type": "stream",
     "text": [
      "基 于 改 进 的 s l i c 和 o t s u 的 遥 感 影 像 水 体 提 取\n",
      "基 于 超 像 素 和 o t s u 算 法 的 水 体 信 息 提 取 研 究\n",
      "水体信息提取是水资源管理的重要组成部分,近二十年来关于从遥感图像中提取水体信息的研究有许多。基于卫星遥感的陆地水体提取方法多种多样,利用水体指数的OTSU算法就是一种较为常见的水体提取方法,但是其存在阈值选取困难和提取精度不足的问题。为了进一步解决该问题,将改进的SLIC和OTSU算法引入到水体信息的提取中。考虑到水体指数对于水体信息提取的重要性,首先利用超像素生成算法SLIC结合归一化水体指数(NDWI)生成一个个超像素,以超像素内水体指数值的均值代表这个超像素的水体指数。然后以超像素为基础,使用OTSU算法对超像素水体指数做阈值分割。实验结果表明,提出的算法不仅有很高的提取精度,提取的速度也很快,能够有效地提取出水体信息。\n",
      "\n"
     ]
    },
    {
     "name": "stderr",
     "output_type": "stream",
     "text": [
      "\r",
      " 74%|███████▍  | 742/1000 [05:15<01:47,  2.40it/s]"
     ]
    },
    {
     "name": "stdout",
     "output_type": "stream",
     "text": [
      "改 进 区 域 生 长 法 的 肝 部 c t 图 像 r o i 提 取\n",
      "基 于 改 进 区 域 生 长 的 肝 部 c t 图 像 r o i 精 准 分 割\n",
      "为了能够将肝部CT图像ROI进行准确的分割,并解决阈值分割法区域不精准、时间复杂度高以及传统区域生长法的噪声干扰和灰度不均而出现的图像过分割和空洞问题,提出了一种结合形态学的改进区域生长算法。改进区域生长算法充分利用了传统区域生长算法良好的分割效果和边界信息保持等优点,并用数学形态学的腐蚀与膨胀等相关技术弥补了传统区域生长算法造成的图像过分割和边缘不平滑问题。有效地解决了阈值分割法在分割图像时出现的分割不准确、用时较长的问题。根据仿真实验中三组图片的结果表明,改进区域生长法不仅能实现对肝部CT图像的ROI精准分割,很好地保留了边缘信息,而且降低了算法的时间复杂度,图像中的空洞问题得到了很好地解决,有助于肝部CT图像的识别和分类。\n",
      "\n"
     ]
    },
    {
     "name": "stderr",
     "output_type": "stream",
     "text": [
      "\r",
      " 74%|███████▍  | 743/1000 [05:15<01:45,  2.44it/s]"
     ]
    },
    {
     "name": "stdout",
     "output_type": "stream",
     "text": [
      "一 种 适 用 于 城 市 环 境 的 v a n e t 成 簇 算 法\n",
      "一 种 稳 定 且 可 靠 的 v a n e t 成 簇 算 法 设 计\n",
      "因为车辆节点的移动方向与速度大小均存在差异,节点间通信链路的持续时间短暂,通信质量难以满足车载自组织网络(VANET)中传递消息的要求。利用成簇算法来提高通信链路的稳定性是解决上述问题的有效途径,但目前成簇算法的设计主要针对高速公路环境,没有考虑车辆节点方向、速度变化频繁的城市环境。在经典成簇算法的基础上提出了一种更加稳定且可靠的VANET成簇算法。该算法针对城市环境对成簇算法的多个稳定性条件进行改进,同时考虑信道质量对通信服务质量的影响。最后利用SUMO仿真平台模拟真实的城市交通环境,并通过NS-2仿真平台验证该算法的各项指标。仿真结果表明,对比LID算法和MOBIC算法,提出的算法具有更高的稳定性和可靠性,且端到端的数据传输时延更低。\n",
      "\n"
     ]
    },
    {
     "name": "stderr",
     "output_type": "stream",
     "text": [
      "\r",
      " 74%|███████▍  | 744/1000 [05:16<01:41,  2.51it/s]"
     ]
    },
    {
     "name": "stdout",
     "output_type": "stream",
     "text": [
      "基 于 被 动 分 簇 的 时 间 同 步 容 错 技 术 研 究\n",
      "基 于 被 动 分 簇 的 时 间 同 步 容 错 技 术\n",
      "在传统的时间同步容错算法中,簇内节点间的容错无法准确到整个传感器网络,簇间时间同步误差大,且分簇方式没有考虑能耗问题。针对以上问题,提出了一种基于被动分簇的时间同步容错技术。该技术采用被动分簇方式,节省了大量能耗。在被动分簇形成的水声传感器网络中,将布置区域划分为多个圆形的簇区域。在簇内节点间,正常节点与正常节点之间的时钟差异有一个上限,一个节点自身时钟的调整也存在一个上限。在簇头节点之间,根据簇内节点得到簇头节点间时钟差异存在上限。实验结果表明,相比于传统的时间同步容错技术,该方案减少了恶意节点的数量,提高了节点的利用率。由于节点之间同步时采用轮流广播的形式,该方案正常节点之间不会产生同步信息的碰撞问题。\n",
      "\n"
     ]
    },
    {
     "name": "stderr",
     "output_type": "stream",
     "text": [
      "\r",
      " 74%|███████▍  | 745/1000 [05:16<01:45,  2.41it/s]"
     ]
    },
    {
     "name": "stdout",
     "output_type": "stream",
     "text": [
      "基 站 全 生 命 周 期 管 理 平 台 的 关 键 技 术 研 究\n",
      "基 于 工 作 流 驱 动 的 基 站 全 生 命 周 期 管 理 平 台 设 计\n",
      "针对基站管理过程中过程复杂、数据繁多和责任界定困难等问题,设计开发能对基站管理进行环节管控和流程监控,扩展性好、安全性高的管理平台具有重要的现实意义和应用价值。基于基站全生命周期管理思想,确定基站全生命周期管理平台能实现我的待办、项目管理、统计分析、合同管理、材料管理和系统后台等主要功能。平台采用基础服务与个性化定制服务分离的开发模式,在技术架构中采用轻量级工作流引擎来管理和监控任务的执行。通过对基于B/S模式的基站全生命周期管理平台的关键技术研究,采用Java EE平台设计业务管理工作流,利用Ajax技术、Spring框架和Hibernate框架设计并开发管理平台,并以项目管理模块为例说明具体实现过程。通过对平台的测试和试运行表明,该平台达到了预期的设计目标。\n",
      "\n"
     ]
    },
    {
     "name": "stderr",
     "output_type": "stream",
     "text": [
      "\r",
      " 75%|███████▍  | 746/1000 [05:16<01:42,  2.47it/s]"
     ]
    },
    {
     "name": "stdout",
     "output_type": "stream",
     "text": [
      "通 用 性 的 专 业 气 象 产 品 服 务 系 统 的 设 计 与 应 用\n",
      "海 南 省 旅 游 交 通 气 象 服 务 系 统 模 型 设 计 与 实 现\n",
      "专业气象服务随着社会经济的发展,业务量和覆盖面也在不断增加。为了提升专业气象服务的工作效率,将越来越多的专业气象业务系统整合到统一的平台,实现业务的一体化和集约化发展是气象现代化的必然选择。根据产品服务系统的理论,文中设计了一个多行业通用的专业气象产品服务系统模型,并按照该模型开发了海南省旅游交通气象服务系统。该系统通过一段时间的业务运行,涵盖了海南省的旅游和交通的气象服务业务的全生命周期,实现了制作自动化,发送一键化,产品精细化和系统集约化的目标,提升了交通和旅游专业气象服务的效率。同时该系统具备可扩展的能力,通过配置可以覆盖其他行业的专业气象服务业务,能够为不断发展的专业气象服务提供技术支撑。\n",
      "\n"
     ]
    },
    {
     "name": "stderr",
     "output_type": "stream",
     "text": [
      "\r",
      " 75%|███████▍  | 747/1000 [05:17<01:35,  2.66it/s]"
     ]
    },
    {
     "name": "stdout",
     "output_type": "stream",
     "text": [
      "基 于 北 斗 导 航 的 定 位 服 务 平 台 设 计 与 实 现\n",
      "北 斗 卫 星 导 航 系 统 的 设 计 与 实 现\n",
      "针对目前市场上定位服务的需求以及当前市场上的定位系统部署维护成本高的现状,给出了定位服务平台方案的设计与实现,提供Web平台化定位服务。该平台以北斗卫星导航系统为基础,辅助以GPS和GNSS导航系统,综合卫星定位、GPRS通讯等技术设计硬件。采用B/S架构,通过数据库、无线通讯和AJAX等手段实现数据的存储和传输,最后在Web端展示处理数据的效果。目标为用户提供位置查询、轨迹查询、地理围栏、路线规划、天气查询以及数据可视化等服务。后期还可以结合深度学习等前沿技术提供时间序列预测,驾驶行为分析等大数据功能。个人及企业用户只需要使用相应的硬件即可直接接入平台,方便快捷且降低了部署成本,有利于北斗卫星导航系统的推广和中小企业的业务发展。\n",
      "\n"
     ]
    },
    {
     "name": "stderr",
     "output_type": "stream",
     "text": [
      "\r",
      " 75%|███████▍  | 748/1000 [05:17<01:36,  2.62it/s]"
     ]
    },
    {
     "name": "stdout",
     "output_type": "stream",
     "text": [
      "基 于 智 能 手 机 的 多 传 感 器 结 合 室 内 定 位\n",
      "基 于 磁 场 与 粒 子 滤 波 的 室 内 定 位 研 究\n",
      "定位对于当下智能生活的理念有着至关重要的作用。对于室外定位,GPS是一项可靠易得的技术。而当今,随着智能家居等的推广,以及定位技术的日渐发展,室内定位技术越来越受到关注。GPS在室内环境搜索到的信号很弱,无法在室内环境使用,另外其在精度方面也无法满足需求。而目前流行的室内定位技术中大多依赖于智能手机的传感器实现,而单一传感器的定位,精度与稳定性不高,降低了定位的体验。其中,基于磁场的室内定位技术与基于Wi-Fi的室内定位技术是当前流行的技术手段,但是,单独的磁场定位与Wi-Fi定位两种技术都有各自的缺陷,定位效果并不理想。因此,文中利用智能手机采集室内的Wi-Fi信号与磁场信号,再利用改进的粒子滤波算法进行定位,有效地提高了定位效果。\n",
      "\n"
     ]
    },
    {
     "name": "stderr",
     "output_type": "stream",
     "text": [
      "\r",
      " 75%|███████▍  | 749/1000 [05:17<01:27,  2.86it/s]"
     ]
    },
    {
     "name": "stdout",
     "output_type": "stream",
     "text": [
      "基 于 公 有 云 的 气 象 移 动 办 公 系 统 的 设 计 与 实 现\n",
      "气 象 移 动 办 公 系 统 设 计 与 实 现\n",
      "随着气象业务的发展,原有的固定办公模式已无法满足各级人员的移动办公需求,且影响处理时效。移动网络、云平台的兴起和智能移动设备的广泛应用为移动办公提供了可靠的基础条件。移动办公技术可以使用户把现有的PC端办公应用借助移动互联网或无线网络扩展到智能终端,实现移动化办公。针对江苏省气象部门工作需求,提出了由当前固定办公转换为移动办公模式的思路,通过对系统架构、工作原理、信息安全等多方面的设计,结合公有云平台开发搭建了气象移动办公系统,实现了公文流转、邮件收发、通讯录管理等模块在移动客户端上的应用,为工作人员提供了移动化办公服务。通过对比系统投入前后人员的办公时长及文件流转时效发现,移动办公系统投入使用后有效提高了办公效率。\n",
      "\n"
     ]
    },
    {
     "name": "stderr",
     "output_type": "stream",
     "text": [
      "\r",
      " 75%|███████▌  | 750/1000 [05:18<01:49,  2.28it/s]"
     ]
    },
    {
     "name": "stdout",
     "output_type": "stream",
     "text": [
      "细 菌 觅 食 优 化 算 法 求 解 物 流 配 送 问 题\n",
      "一 种 改 进 的 带 软 时 间 窗 选 址 - 路 径 问 题 细 菌 觅 食 优 化 算 法\n",
      "针对物流配送问题,在综合考虑时间、成本两个影响因素的前提下,提出一种针对离散多目标选址-路径问题(LRP)的改进细菌觅食优化算法。该算法通过构建相应的带软时间窗选址-路径问题模型,并根据Pareto支配关系对标准细菌觅食优化算法(BFOA)进行了改进,此外,在个体互不支配的时候,采用归一化方法进行择优处理,通过引入惩罚函数来约束车辆所负责的客户需求不超过其载重限制。设计的相应多目标细菌觅食优化算法(MOBFO)对物流配送问题进行了求解,并通过使用CVRP库中的算例,对算法的有效性和优劣性也进行了验证,对于LRP模型问题提供了一定的参考。实验结果表明,设计的多目标细菌觅食优化算法在求解物流配送问题上具有一定的优越性,同时对于多个目标的优化问题也具有一定的优势。\n",
      "\n"
     ]
    },
    {
     "name": "stderr",
     "output_type": "stream",
     "text": [
      "\r",
      " 75%|███████▌  | 751/1000 [05:18<01:50,  2.25it/s]"
     ]
    },
    {
     "name": "stdout",
     "output_type": "stream",
     "text": [
      "面 向 规 则 的 三 维 建 模 技 术 的 研 究\n",
      "面 向 规 则 的 三 维 数 字 城 市 三 维 建 模 方 法 研 究\n",
      "随着三维数字城市的发展,三维模型的需求也越来越大。目前多数三维建模的方法是采用传统的以单栋建筑为单位的三维建模方法,此方法效率低,数据量大,重复工作量大,无法满足当今三维数字城市海量建模的需要,限制了三维数字城市三维建模技术的发展。对此,文中基于CityEngine平台,研究了面向规则的三维建模方法,通过分析各类建筑物的特点、组成、设计结构等信息,设计相关规则和建筑模型算法,使用CGA语言编程实现三维建筑模型。通过具体的实验证明,该方法体现了自动化程度高、效率高、灵活性好、代码复用性强、模型精度高、模型数据量小以及批量化建模等优点,在极大程度上满足了三维数字城市建模的需求,为三维数字城市建模提供了新的技术方法和技术参考。\n",
      "\n"
     ]
    },
    {
     "name": "stderr",
     "output_type": "stream",
     "text": [
      "\r",
      " 75%|███████▌  | 752/1000 [05:19<01:50,  2.24it/s]"
     ]
    },
    {
     "name": "stdout",
     "output_type": "stream",
     "text": [
      "基 于 角 色 的 访 问 控 制 模 型 ( r b a c ) 研 究\n",
      "基 于 角 色 的 权 限 配 置 及 其 在 w e b 应 用 中 的 应 用\n",
      "权限配置问题是Web开发技术重点探讨的问题,访问控制是为了保护Web系统中存储和处理信息安全的重要手段,访问控制提出了权限配置的关键解决方案。ASP. NET开发技术由三层架构实现,具有较大的灵活性和可扩展性。由ASP. NET开发技术实现基于角色的访问控制模型的解决方案,减化管理员对权限管理的开销,提高Web管理员在权限配置的工作效率。在SQL Server数据库中设计角色表bs＿user＿type、权限名称表sys＿menu和角色-权限多对多关系表bs＿dept＿menu,使用TreeView控件将权限名称遍历,通过ASP. NET三层架构实现基于角色的权限分配。在实践中,检验了角色与权限多对多关系的可行性、灵活性和可扩展性。角色-权限之间的变化比用户-权限配置简单得多,减少了管理员管理的复杂性,提高了工作效率;能够灵活地支持Web应用系统的安全访问策略;在操作上,管理员分配权限采用树目录操作直观,简单易用。\n",
      "\n"
     ]
    },
    {
     "name": "stderr",
     "output_type": "stream",
     "text": [
      "\r",
      " 75%|███████▌  | 753/1000 [05:19<01:41,  2.43it/s]"
     ]
    },
    {
     "name": "stdout",
     "output_type": "stream",
     "text": [
      "基 于 大 数 据 的 智 慧 工 厂 制 造 优 化 技 术 研 究\n",
      "基 于 大 数 据 的 智 慧 工 厂 诊 断 技 术 研 究\n",
      "在分析智慧工厂国内外研究现状的基础上,对制造业如何利用物联网、云计算、大数据等新兴技术实现智慧工厂展开研究。探讨了集成制造物联、智能制造执行与制造协同的智慧工厂内涵,以及智慧工厂具备的大数据特征。基于工业大数据平台的应用,提出不依赖精确的数学模型、复杂的算法实现工厂运行分析与决策的新模式。在研究大数据环境下生产制造动态优化技术的基础上,探讨了其中涉及的大数据集成、大数据存储、相关性分析和相关性描述等大数据分析方法。改进频繁序列模式挖掘技术,提出一种能够支持结构化数据、非结构化数据,又无需建立复杂数学模型的设备故障知识推送方法,实现设备故障智能诊断功能。并以提高设备运转率为例,阐述该模式在生产工厂应用的可行性。\n",
      "\n"
     ]
    },
    {
     "name": "stderr",
     "output_type": "stream",
     "text": [
      "\r",
      " 75%|███████▌  | 754/1000 [05:20<01:36,  2.54it/s]"
     ]
    },
    {
     "name": "stdout",
     "output_type": "stream",
     "text": [
      "智 慧 物 流 分 布 式 计 算 模 型 与 创 新 服 务 研 究\n",
      "基 于 海 量 物 流 数 据 高 效 管 理 平 台 构 建 研 究\n",
      "物流行业是衔接社会各行各业生产生活的纽带,在互联网高度发展的今天,传统物流行业在数据处理和服务模式方面存在诸多不足。随着数据感知和获取技术的快速发展,物流行业的数据规模急剧增长,如何实现对海量物流数据的高效处理和分析是构建智慧物流的一个关键技术问题。为解决该问题,对由海量数据分布式存储模块和实时计算模块组成的海量物流数据高效管理平台的构建进行了研究。在该平台之上设计海量货物运输路线共享算法、包裹位置实时查询算法以及包裹派送优先级计算方法,并提出面向智慧物流的多种创新性服务模式,从而解决海量物流数据管理领域的多个计算和分析难点问题。\n",
      "\n"
     ]
    },
    {
     "name": "stderr",
     "output_type": "stream",
     "text": [
      "\r",
      " 76%|███████▌  | 755/1000 [05:20<01:39,  2.47it/s]"
     ]
    },
    {
     "name": "stdout",
     "output_type": "stream",
     "text": [
      "一 种 基 于 r e a c t   n a t i v e 框 架 的 换 宿 系 统 实 现 方 法\n",
      "基 于 r e a c t   n a t i v e 的 拼 工 换 宿 系 统 研 究\n",
      "打工换宿游是国内外学术界关注的新兴问题。根据国内外打工换宿市场缺少系统化管理的现状,针对用户无法快速、准确获取打工换宿信息的痛点,提出了一种基于React Native框架的换宿系统实现方法。系统采用React Native高效、快速开发框架,面向iOS8. 0及以上平台,以Flexbox弹性布局与Koajs架构下的MongoDB数据库结合,使用ES5语法,组合TabBarIOS导航栏组件等多种第三方组件。同时,在前人的基础上对Geohash算法和Latent Factor算法进行了改进以提高用户体验。最终,测试表明系统不仅解决了用户的痛点,而且研究成果对基于iOS及React Native框架的相关研究有很重要的借鉴参考价值,能够帮助换宿游运营者或从业者高效、准确地完成换宿游系统的搭建,同时也可拓展和丰富换宿游系统的研究视角和理论内涵。\n",
      "\n"
     ]
    },
    {
     "name": "stderr",
     "output_type": "stream",
     "text": [
      "\r",
      " 76%|███████▌  | 756/1000 [05:21<01:46,  2.28it/s]"
     ]
    },
    {
     "name": "stdout",
     "output_type": "stream",
     "text": [
      "基 于 迭 代 决 策 树 的 帕 金 森 u p d r s 预 测 模 型 研 究\n",
      "基 于 性 别 和 年 龄 的 迭 代 决 策 树 预 测 模 型 重 构\n",
      "迭代决策树(GBDT)属于机器学习算法的一种,该算法具有较好的真实分布拟合能力,可用于解决大部分回归问题。根据帕金森病对不同年龄的男性和女性患者语音的影响不同这一现实依据,提出将性别和年龄这一先验知识融入到GBDT,实现对统一帕金森评定量表(UPDRS)的预测。将性别和年龄作为先验知识,对UPDRS预测模型进行模型分解;根据迭代决策树的原理,对分解后的各模型运用决策树进行模型重构,并在各自残差减少的梯度方向上迭代训练新的决策树;将得到的以叶子节点作为增益的决策树作为最终的UPDRS预测模型。在远程帕金森数据集的仿真实验中,得到的total-updrs和motor-updrs平均绝对误差值分别为4. 498 0和3. 531 8,与最小二乘法相比,分别提高了52. 19%和53. 36%,与决策树相比,分别提高了52. 66%和52. 89%。实验结果表明,根据先验知识,使用性别和年龄的组合进行预测模型分解,并对分解各模型分别进行模型重构,能够有效提高UPDRS预测的准确率。\n",
      "\n"
     ]
    },
    {
     "name": "stderr",
     "output_type": "stream",
     "text": [
      "\r",
      " 76%|███████▌  | 757/1000 [05:21<01:42,  2.36it/s]"
     ]
    },
    {
     "name": "stdout",
     "output_type": "stream",
     "text": [
      "智 能 电 网 通 信 协 议 安 全 威 胁 与 防 御 技 术\n",
      "智 能 变 电 站 网 络 安 全 威 胁 与 防 御 技 术 研 究\n",
      "工业控制网络已经进入了快速发展期,针对智能电网等工业控制网络的安全威胁不断升级。智能变电站作为智能电网的核心设施,正在成为恶意攻击行为的重要目标。因此以智能电网中的智能变电站网络为例,面向工业控制网络,结合信息域与物理域对变电站复杂网络中的攻击行为进行分析,对检测防御技术进行总结是必要的。文中对智能变电站通信标准IEC 61850及其三种主要通信协议的安全威胁与防御技术进行了研究,介绍了GOOSE、SMV和MMS三种协议的基本功能,从信息域和物理域交叉渗透的角度对协议的脆弱性进行分析。系统刻画了针对各个协议的典型攻击方法,给出了针对这些攻击行为的检测方法和防御技术,讨论了现有工作面临的挑战并对未来智能电网安全的技术发展趋势做了展望。\n",
      "\n"
     ]
    },
    {
     "name": "stderr",
     "output_type": "stream",
     "text": [
      "\r",
      " 76%|███████▌  | 758/1000 [05:21<01:41,  2.38it/s]"
     ]
    },
    {
     "name": "stdout",
     "output_type": "stream",
     "text": [
      "基 于 能 量 模 型 的 多 权 值 分 簇 算 法\n",
      "一 种 基 于 能 量 模 型 的 多 权 值 分 簇 算 法\n",
      "分簇被广泛用于移动自组织网络以提高其稳定性和效率,并减小控制信息的开销。现有的分簇策略均有其局限性。对此,提出了一种基于能量模型的多权值分簇算法,称为Energy-AOW(EAOW)。该算法根据节点的能量模型,分析节点能量消耗的组成部分,在选举簇头时,综合考虑节点度数、节点传输功率、节点移动性、节点能量和节点处理能力等关键参数,形成节点的组合权值,分别选取组合权值最大和次大的节点担任簇头节点和候选簇头节点。在完成簇头选举后,依次进行簇结构的初始化、建立和维护。当节点移动或变化导致簇结构失效时,再根据上述策略重新选举。仿真试验表明,使用EAOW算法选举的综合性能最优的节点担任簇头明显地降低了节点整体的能量消耗,提高了网络的生存时间。同时候选簇头节点的设置也缩短了节点成簇时间并提高了网络的稳定性。\n",
      "\n"
     ]
    },
    {
     "name": "stderr",
     "output_type": "stream",
     "text": [
      "\r",
      " 76%|███████▌  | 759/1000 [05:22<01:44,  2.32it/s]"
     ]
    },
    {
     "name": "stdout",
     "output_type": "stream",
     "text": [
      "微 博 情 感 分 析 的 情 感 词 典 构 造 及 分 析 方 法 研 究\n",
      "基 于 情 感 词 典 的 微 博 情 感 词 典 构 造 方 法 研 究\n",
      "为了提高微博情感分析的准确性,对微博情感分析中的语义规则和情感词典进行了研究。在传统基于情感词典的微博情感分析的基础上对情感词典中的微博情感词典的构造方法做了改进。首先构造情感词典,主要包括开源情感词典、具有时代特征的网络情感词典、根据情感词的位置特点构造的微博情感词典、具有明显情感倾向的语气情感词典。在词典构造完成的基础上结合中文语法规则,主要包括句间关系规则和句型关系规则,根据句间和句型关系算法计算微博句子的情感倾向性,将微博文本分为正向、负向和中性三个方面。为了提高微博分类的准确率,提出构建语气词词典,并且在语气词权重计算的方法上做出创新,同时对微博情感词典的构造方法做出了改进。实验结果表明,该方法能够提高微博情感分析的正确率。\n",
      "\n"
     ]
    },
    {
     "name": "stderr",
     "output_type": "stream",
     "text": [
      "\r",
      " 76%|███████▌  | 760/1000 [05:22<01:45,  2.28it/s]"
     ]
    },
    {
     "name": "stdout",
     "output_type": "stream",
     "text": [
      "m a 建 模 的 概 率 混 成 自 动 机 转 换 方 法 研 究\n",
      "m a 建 模 的 概 率 混 成 自 动 机 转 换 方 法 研 究\n",
      "信息物理融合系统(CPS)是物联网进一步发展的产物,CPS将物理过程与信息计算过程紧密联系,是一种复杂的混合系统,Modelica与AADL是适用于信息物理融合系统(CPS)的嵌入式系统体系结构建模语言。利用Modelica对物理系统部分建模,AADL对信息系统部分建模,将信息物理系统的建模分割开来,设计了Modelica-AADL接口将二者结合起来,使得物理世界与计算过程相融合。概率混成自动机是对信息物理融合系统验证分析的有效形式化建模方式,Modelia-AADL模型无法进行直接的形式化模型检测工作,根据Modelica与AADL行为附件各自的特点,抽象出状态,定义了一系列规则,给出转换算法,完成了MA模型向概率混成自动机的转换,使得系统模型能够形式化描述,有助于信息物理融合系统的可靠性与安全性验证。\n",
      "\n"
     ]
    },
    {
     "name": "stderr",
     "output_type": "stream",
     "text": [
      "\r",
      " 76%|███████▌  | 761/1000 [05:23<01:35,  2.49it/s]"
     ]
    },
    {
     "name": "stdout",
     "output_type": "stream",
     "text": [
      "基 于 故 障 注 入 的 应 用 软 件 可 靠 性 测 试\n",
      "云 环 境 中 可 靠 性 测 试 技 术 研 究\n",
      "随着计算机技术的发展,云计算技术在各行各业的应用普及,基于云计算的应用软件的种类也越来越多。基于云环境的软件可靠性测试有许多问题和技术需要研究和探讨。在可靠性测试技术中,故障注入技术应用十分广泛。结合一个云化通讯软件实例叙述了采用故障注入技术在云环境开展可靠性测试工作的全过程。叙述了可靠性测试过程以及各个角色在测试过程中的职责和任务;叙述了云环境的层级结构、私有云环境的部署和软件产品的安装;叙述了云环境中故障注入方法和可靠性测试环境的构建;详细叙述了该软件实例的测试用例设计、可靠性测试流程和编写自动化测试脚本;最后给出了测试结果分析。工作实践表明,做好软件可靠性测试工作可以提高软件产品的质量,提高上线后软件产品的可靠性,从而更好地满足客户对软件产品的需求。\n",
      "\n"
     ]
    },
    {
     "name": "stderr",
     "output_type": "stream",
     "text": [
      "\r",
      " 76%|███████▌  | 762/1000 [05:23<01:34,  2.52it/s]"
     ]
    },
    {
     "name": "stdout",
     "output_type": "stream",
     "text": [
      "基 于 多 线 程 监 控 器 的 运 行 时 验 证\n",
      "基 于 多 核 并 行 技 术 的 运 行 时 验 证\n",
      "运行时验证是一种轻量级的新型自动化验证技术。运用了该技术的验证软件由两部分组成:一部分是被监控的目标程序;另一部分是监控器。对于基于形式化语言的运行时验证方法主要思想就是输入表示描述事件和性质的形式化规约语法,目标程序。输出插桩好的新程序。插桩好的新程序在遇到需要监控的切点时,就会执行相应的函数去判断是否满足形式化规约语法。然而传统的单线程运行时验证监控器在目标程序需要监控的规约性质比较多的时候,重新生成的程序可能会因为要验证比较多的规约性质,造成程序的性能变慢。文中利用多核并行技术,对原型工具Movec进行优化。通过使用串行程序中多个监控器分配到多线程的方法,Clang编译器的插桩技术和多核任务分配方法,实现了Movec原型工具的优化。并将优化之后的Movec与没有改进之前的进行实验数据对比,实验结果表明采用多线程的运行方法具有很好的效果。\n",
      "\n"
     ]
    },
    {
     "name": "stderr",
     "output_type": "stream",
     "text": [
      "\r",
      " 76%|███████▋  | 763/1000 [05:23<01:32,  2.56it/s]"
     ]
    },
    {
     "name": "stdout",
     "output_type": "stream",
     "text": [
      "o p e n s t a c k 高 可 用 分 布 式 存 储 方 案 设 计 与 实 现\n",
      "基 于 o p e n s t a c k 高 可 用 平 台 的 分 布 式 存 储 方 案\n",
      "自OpenStack开源项目诞生以来,云计算技术与企业解决方案得到了飞速发展,云平台更是在企业内部大面积部署,随着规模化与集成化的高度发展,也带来一系列问题。其中单节点的稳定性与高可用性尤为重要,是保障企业持续性、高容错、高并发服务业务的关键。针对OpenStack各相关服务组件在长时间运行期间容易导致的单点故障(SPoF)问题,结合多种负载均衡、IP漂移、网络路由冗余(VRRP)、数据库集群(galera)、分布式集群(Ceph)等技术,提出一种基于OpenStack高可用平台的分布式存储方案。该方案能在单节点发生故障、网络拥堵、数据高爆发等情况下通过业务的负载均衡、服务实例故障转移、热备份和热迁移、软硬件冗余等方式实现整个分布式平台的高可用,具有测试环境和生产环境下的可行性。\n",
      "\n"
     ]
    },
    {
     "name": "stderr",
     "output_type": "stream",
     "text": [
      "\r",
      " 76%|███████▋  | 764/1000 [05:24<01:28,  2.65it/s]"
     ]
    },
    {
     "name": "stdout",
     "output_type": "stream",
     "text": [
      "一 种 基 于 m i n h a s h 的 改 进 新 闻 文 本 聚 类 算 法\n",
      "基 于 m i n h a s h 的 d b s c a n 聚 类 算 法\n",
      "信息技术的不断发展,带来的是网络上新闻文本的快速增长,面对大量的新闻文本,对其进行有效聚类就显得十分重要。基于上述需求,提出一种基于MinHash的DBSCAN聚类算法。针对传统向量空间模型文本聚类存在的数据维度高、计算复杂度大、资源消耗多的问题,该算法使用Min Hash对所有文本的文本特征词集合进行降维,从而有效减少了资源的浪费。对新得到的特征矩阵中的数据任意两两计算Jaccard系数,将每一个结果与DBSCAN聚类中给定的邻域半径Eps进行比较并计算所有距离大于邻域半径Eps的点的周围节点数目是否大于等于形成一个簇所需要的最小点数MinPts,由此可以判断该文本是否为核心点,是否可以形成簇。实验结果表明,该方法对于新闻文本聚类有着很好的效果,可以对网络上错综复杂的新闻文本进行有效的聚类。\n",
      "\n"
     ]
    },
    {
     "name": "stderr",
     "output_type": "stream",
     "text": [
      "\r",
      " 76%|███████▋  | 765/1000 [05:24<01:29,  2.64it/s]"
     ]
    },
    {
     "name": "stdout",
     "output_type": "stream",
     "text": [
      "基 于 支 持 向 量 机 的 颅 骨 性 别 识 别\n",
      "基 于 支 持 向 量 机 的 颅 骨 性 别 识 别\n",
      "颅骨性别识别在法医学和颅骨面貌复原等领域具有重要研究意义和应用价值。文中以新疆吐鲁番地区117例维吾尔族成人三维颅骨数字模型为研究对象,首先,对颅骨模型利用自主开发的系统标定78个特征点,其中12个位于颅骨正中矢状面、66个对称分布于颅骨两侧;然后,提取可测量特征和非可测量特征,对可测量特征直接测量,对非可测量特征进行量化表示;最后,利用支持向量机方法对提取的特征向量进行降维并设计分类器,实现对颅骨的性别分类。实验结果表明,将测量特征和非可测量特征结合包含更多的性别识别信息,支持向量机的方法可以很好地实现性别分类,并能提高性别识别精度,利用留一交叉验证进行测试,其中男性识别正确率达90.0%,女性识别正确率达94.7%,平均识别正确率达92.4%。\n",
      "\n"
     ]
    },
    {
     "name": "stderr",
     "output_type": "stream",
     "text": [
      "\r",
      " 77%|███████▋  | 766/1000 [05:25<01:41,  2.30it/s]"
     ]
    },
    {
     "name": "stdout",
     "output_type": "stream",
     "text": [
      "基 于 稀 疏 度 区 间 的 变 步 长 最 优 子 空 间 追 踪 算 法\n",
      "基 于 稀 疏 度 区 间 变 步 长 最 优 子 空 间 追 踪 算 法\n",
      "针对压缩感知逐步最优子空间算法(stepwise optimal subspace pursuit,SOSP)在迭代过程中使用固定步长和稀疏度未知的问题,提出一种基于稀疏度区间的变步长最优子空间追踪算法。该算法首先是在SOSP最优扩增缩减方法的基础之上根据匹配测试公式获取初始固定步长,再使用增删迭代公式,在假定支撑集的增加过程中根据信号残差能量的变化判断稀疏度的区间。最后在稀疏度区间中使用黄金分割法(golden ratio)逐渐减小区间得出信号稀疏度,并在区间分割的过程中逐渐删减假定支撑集中多余的元素,最终重构原始稀疏信号。实验结果表明,对于一维信号重建实验,在不同的稀疏度和测量值下,与同类算法相比,该算法都能够很好地重建原始信号且重构误差小。对于二维图像重建实验,图像重建精度较高且有很好的视觉效果。\n",
      "\n"
     ]
    },
    {
     "name": "stderr",
     "output_type": "stream",
     "text": [
      "\r",
      " 77%|███████▋  | 767/1000 [05:25<01:37,  2.40it/s]"
     ]
    },
    {
     "name": "stdout",
     "output_type": "stream",
     "text": [
      "多 目 标 优 化 的 静 态 手 语 识 别 算 法 研 究\n",
      "基 于 深 度 信 息 的 静 态 手 势 识 别 方 法\n",
      "手势是人类与计算机交互的直观方式,随着人工智能技术的发展,以机器为核心的计算模式正朝着以人为中心的计算模式转变,自然且符合人类习惯的人机交互(HCI)方式逐渐成为目前研究的热点。一个高效的人机交互系统应该以良好的识别精度和识别速度为目标。文中提出了一种基于深度信息的静态手势识别方法,包含了手势大小、光照和旋转变化等因素的影响。从识别精度和速度两个方面,综合比较了如Hu矩、Zernike矩、伪Zernike矩、傅里叶描述符和Gabor特征等几种常见的图像特征描述符。手势识别采用多层感知器,它具有结构灵活、识别速度快等特点。为了提高识别精度、减少计算量,特征向量和神经网络均通过基于NSGA-II的多目标进化算法调整。在对手语识别的进一步探究中,对所提出的方法的有效性进行验证。\n",
      "\n"
     ]
    },
    {
     "name": "stderr",
     "output_type": "stream",
     "text": [
      "\r",
      " 77%|███████▋  | 768/1000 [05:25<01:34,  2.46it/s]"
     ]
    },
    {
     "name": "stdout",
     "output_type": "stream",
     "text": [
      "一 种 用 于 城 市 交 通 的 优 化 声 音 识 别 仿 真\n",
      "基 于 深 度 信 念 网 络 的 汽 车 鸣 笛 声 识 别\n",
      "随着机动车违法鸣笛现象日益严重,汽车鸣笛声识别可以识别违法鸣笛车辆,并对该行为给出科学有力的证据,因此对城市交通治理有着重要意义。传统方法主要包含基于GMM-HMM的概率模型算法、支持向量机等。但其准确率较低,且过程麻烦,给交管部门进行人工复核造成了很大困难。针对此问题,以城市交通汽车鸣笛声识别为背景,结合深度信念网络(DBNs)强大的非线性建模和特征提取能力,提出了一种优化的声音识别方法。该方法采用汽车鸣笛声信号的梅尔频率倒谱系数(MFCC)以及其一二阶差分作为特征参数,用于DBN网络的输入,对样本数据进行建模并提取更深层的特征,最后加入softmax分类器来实现汽车鸣笛声信号的匹配和识别。该方法获得比GMM-HMM更好的识别效果。并通过仿真实验证明了该方法的有效性。\n",
      "\n"
     ]
    },
    {
     "name": "stderr",
     "output_type": "stream",
     "text": [
      "\r",
      " 77%|███████▋  | 769/1000 [05:26<01:32,  2.50it/s]"
     ]
    },
    {
     "name": "stdout",
     "output_type": "stream",
     "text": [
      "基 于 词 频 统 计 的 蛋 白 质 交 互 关 系 识 别\n",
      "基 于 词 频 统 计 的 蛋 白 质 交 互 关 系 识 别\n",
      "目前,基于远监督的蛋白质交互关系抽取方法通过将知识库中的实体对与文本中的实体进行匹配来产生大规模的训练数据,有效地解决了标注数据不足的问题。在基于最大期望算法的蛋白质交互识别的基础上,提出了一种基于词频统计的蛋白质交互关系识别。该方法对每一个蛋白质对签名档进行处理,取出两个目标蛋白质中间的单词;然后对其进行词性标注,只保留名词和动词,同时进行词干提取;最终得到每个蛋白质对签名档下的词频统计。利用得到的词频信息设定阈值来获取签名档的高频词,改进最大期望算法的初始化过程。实验结果表明,通过加入高频词信息的干预来进一步获取句子的类别作为初始值较原始的基于最大期望算法的模型,取得了更高且均衡的精确度和召回率,对目前基于远监督的蛋白质交互关系识别方法进行了明显的改进。\n",
      "\n"
     ]
    },
    {
     "name": "stderr",
     "output_type": "stream",
     "text": [
      "\r",
      " 77%|███████▋  | 770/1000 [05:26<01:34,  2.43it/s]"
     ]
    },
    {
     "name": "stdout",
     "output_type": "stream",
     "text": [
      "基 于 视 觉 的 静 态 手 势 识 别 系 统\n",
      "基 于 手 势 轮 廓 像 素 变 化 的 手 势 识 别 方 法\n",
      "为了丰富手势识别方法的多样性,提高手势识别的正确率,提出了一种基于手势轮廓像素变化的手势识别方法。在Matlab环境下,设计并开发了一个基于视觉的静态手势识别系统。系统主要由两部分组成:手势分割与手势识别。该系统通过摄像头实时采集手势图像,根据HSV颜色空间上的聚簇特性,通过结合RGB和HSV双颜色空间的手势分割方法得到二值化图像,再对图像进行平滑滤波、形态学处理等处理后得到矩形手势区域图像。手势轮廓可以很好地表征手势图像的局部特征,文中在获取手势轮廓的基础上根据手势区域的像素变化进行手势识别。实验结果表明,该系统能够对规定的四种常用静态手势进行识别,系统鲁棒性很好,平均识别率达到了90%,总体识别有效率达到了85.9%,有较好的识别效果。\n",
      "\n"
     ]
    },
    {
     "name": "stderr",
     "output_type": "stream",
     "text": [
      "\r",
      " 77%|███████▋  | 771/1000 [05:27<01:38,  2.31it/s]"
     ]
    },
    {
     "name": "stdout",
     "output_type": "stream",
     "text": [
      "基 于 符 号 计 算 的 变 系 数 k p 方 程 的 孤 子 解\n",
      "基 于 m a p l e t 方 法 的 符 号 计 算 系 统 m a p l e t 方 程\n",
      "计算机代数是数学和计算机科学以及人工智能的交叉学科,致力于研究在计算机上进行符号计算。Maple是世界上应用最广泛的符号计算系统,可以将复杂繁琐的计算过程算法化,交由计算机处理,将人类的双手解放出来,极大地提高了计算效率。文中以符号计算系统Maple为工作平台,采用修正的CK直接约化方法,将变系数KP方程约化为等价常系数方程,获得到了变系数与常系数方程的关系及解。通过推广的Painlevé非标准截断方法求得相应的常微分方程的解,进而得到变系数微分方程的解,分析了常系数KP方程的孤子解。研究表明,借助符号计算Maple系统,修正的CK直接约化方法和Painlevé非标准截断方法的结合不仅能对变系数偏微分方程轻松求解,还可节省计算时间,并广泛应用于若干数学物理模型中。\n",
      "\n"
     ]
    },
    {
     "name": "stderr",
     "output_type": "stream",
     "text": [
      "\r",
      " 77%|███████▋  | 772/1000 [05:27<01:40,  2.27it/s]"
     ]
    },
    {
     "name": "stdout",
     "output_type": "stream",
     "text": [
      "基 于 改 进 的 卷 积 神 经 网 络 的 人 群 密 度 估 计\n",
      "基 于 自 适 应 小 波 变 换 的 人 群 密 度 估 计 算 法 研 究\n",
      "人群密度估计是视频监控的一个研究热点,为了得到更为准确的估计率,将卷积神经网络应用到人群密度估计中。卷积神经网络在特征提取时能够高效自适应学习深层次的特征,体现了其在深度学习领域的优越性,但在预处理时会出现振荡现象,且卷积层与子采样层间特征图的大小匹配会影响计算速度和时间。对此,提出离散小波变换替换卷积神经网络中的子采样层,并对网络中的权重矩阵进行重新计算,通过权重自适应改善预处理时的振荡现象,提高卷积网络中特征图大小的匹配度,并将之应用到人群密度估计,以有效地提高数据间的相关性,增强网络的学习能力,提高人群密度等级分类的准确率。实验结果表明,改进后的网络具有较好的学习及分类效果和鲁棒性,对人群密度能够进行较为准确和快速的估计。\n",
      "\n"
     ]
    },
    {
     "name": "stderr",
     "output_type": "stream",
     "text": [
      "\r",
      " 77%|███████▋  | 773/1000 [05:28<01:39,  2.28it/s]"
     ]
    },
    {
     "name": "stdout",
     "output_type": "stream",
     "text": [
      "基 于 多 分 类 模 型 加 权 投 票 法 的 人 脸 微 笑 检 测\n",
      "一 种 基 于 加 权 投 票 法 的 面 部 图 像 表 情 检 测 方 法\n",
      "为了进一步提高人脸微笑检测率并解决微笑检测系统用于训练标签数据不足的问题,结合人脸图像的纹理和几何特点,应用了一种基于多分类模型加权投票法的微笑检测方法。在经预处理和直方图均衡化的面部图像上,利用局部二进制模式(LBP)和Gabor小波变换提取局部的、抽象的特征,同时以人脸特征点检测作为补充,构建了四种不同的分类模型(UPN、GPS、AdaBoost和LDA),分别对人脸图像进行分类检测,同时结合各模型之间互补和各自对微笑检测的优势,通过计算权值对各结果进行加权投票,得到面部图像的最终检测结果。实验结果显示出该方法的有效性,在公开的GEN-KI-4K人脸数据集上获得了95.8%的微笑检测率,比单个分类模型的平均检测率提高了10.3%,与该数据集的最新的微笑检测率相等。\n",
      "\n"
     ]
    },
    {
     "name": "stderr",
     "output_type": "stream",
     "text": [
      "\r",
      " 77%|███████▋  | 774/1000 [05:28<01:42,  2.21it/s]"
     ]
    },
    {
     "name": "stdout",
     "output_type": "stream",
     "text": [
      "基 于 几 何 建 模 的 旗 帜 飘 动 模 拟 研 究 与 实 现\n",
      "基 于 几 何 建 模 的 旗 帜 飘 动 模 拟 研 究 与 实 现\n",
      "为了增强虚拟现实系统的沉浸感,常常需要在虚拟场景中模拟各种自然现象或者一些特定的物理模型,旗帜模拟属于虚拟现实技术模拟中的一个分支。因此,研究虚拟现实系统中旗帜模拟对于虚拟现实技术的发展具有一定的意义。为了真实地模拟旗帜在风力作用下飘动的动态效果,提出了一种基于几何建模方式快速构建旗帜表面的方法。该方法利用正弦/指数函数模型快速构造旗帜表面网格,将旗面网格进行分区,然后采用不同的刷新频率控制旗面运动速度,呈现出风力作用下旗帜表面运动模拟效果,最后通过纹理映射、色彩融合以及光照技术渲染出最终效果。实验结果表明,基于几何建模方式实现旗帜模拟具有实现简单,内存消耗小等优点,可以实现富有动感且视觉逼真的旗帜连续抖动效果。\n",
      "\n"
     ]
    },
    {
     "name": "stderr",
     "output_type": "stream",
     "text": [
      "\r",
      " 78%|███████▊  | 775/1000 [05:29<01:40,  2.23it/s]"
     ]
    },
    {
     "name": "stdout",
     "output_type": "stream",
     "text": [
      "基 于 a c o - p s o 自 适 应 的 划 分 聚 类 算 法\n",
      "基 于 a c o - p s o 自 适 应 的 划 分 聚 类 算 法\n",
      "针对经典划分算法聚类数K先验未知及初始聚类中心随机选取,导致陷入局部最优的问题,提出一种基于ACO-PSO自适应的划分聚类算法。首先根据聚类算法类内相似度最大差异度最小和类间相似度最小差异度最大的基本原则,将个体轮廓系数作为最佳聚类数的检验函数,得到聚类算法的自适应K值;其次利用群智能搜索方法思想,有效结合了粒子群算法和蚁群算法的优点,先利用具有全局性和快速性的粒子群算法获得初始信息素分布,再利用具有正反馈性和并行性的蚁群算法得到精确解。最后在多个UCI数据集上的仿真结果表明,该算法不仅求解能力优于传统聚类算法及基于个体轮廓系数优化的初始聚类中心算法,而且聚类时间效率大大提高,应用于大数据收敛速度更加明显。\n",
      "\n"
     ]
    },
    {
     "name": "stderr",
     "output_type": "stream",
     "text": [
      "\r",
      " 78%|███████▊  | 776/1000 [05:29<01:33,  2.40it/s]"
     ]
    },
    {
     "name": "stdout",
     "output_type": "stream",
     "text": [
      "重 建 g p t 分 区 的 研 究 与 实 现\n",
      "重 建 g p t 分 区 的 研 究 与 实 现\n",
      "GPT分区是目前硬盘普遍使用的一种分区形式,克服了MBR对分区管理不能超过2 TB的缺点。但是由于用户误操作、计算机病毒破坏、突然掉电等因素的影响,使得GPT分区被破坏的情况时有发生,从而导致存储在硬盘中的数据丢失。针对这一情况,以Windows 7为平台,Win Hex 15.08为分析工具,虚拟硬盘为实验对象,对虚拟硬盘GPT分区结构进行分析,通过DBR的特征值查找并获得DBR及DBR备份所在扇区,将DBR中存储的总扇区数转换为逻辑盘的总容量,以此为依据重建硬盘GPT分区,最后通过DBR备份所在扇区恢复DBR。实验结果表明,当GPT分区被破坏后,只要获得逻辑盘总扇区数,便可成功恢复GPT分区,从而完整恢复各逻辑盘中的全部数据。\n",
      "\n"
     ]
    },
    {
     "name": "stderr",
     "output_type": "stream",
     "text": [
      "\r",
      " 78%|███████▊  | 777/1000 [05:29<01:36,  2.31it/s]"
     ]
    },
    {
     "name": "stdout",
     "output_type": "stream",
     "text": [
      "非 线 性 偏 微 分 方 程 的 精 确 行 波 解\n",
      "基 于 m a p l e t 模 型 的 非 线 性 方 程 行 波 解\n",
      "计算机科学是研究信息与计算的理论基础以及它们在计算机系统中如何实现和应用的学科。非线性科学是研究自然界中非线性问题的共性。计算机代数系统出现后,人们开始用计算机进行符号计算和自动推理,科学家们对非线性问题的研究也一直与计算机科学的发展息息相关。在数学和物理学领域,人们习惯用方程来描述客观事物的运动规律。非线性偏微分方程是可以描述客观事物非线性演化过程的数学物理方程,但是数学上几乎不存在通用的方法求解此类方程。文中采用辅助函数法求解非线性Benjamin-Bona-Mahonye方程的精确行波解。借助符号计算系统Maple,通过修正辅助函数法中参数m的取值范围,获得并比较了方程行波解在数量和形式上的变化。研究结果表明,修正后的辅助函数法能够获得形式更为丰富的行波解。\n",
      "\n"
     ]
    },
    {
     "name": "stderr",
     "output_type": "stream",
     "text": [
      "\r",
      " 78%|███████▊  | 778/1000 [05:30<01:38,  2.26it/s]"
     ]
    },
    {
     "name": "stdout",
     "output_type": "stream",
     "text": [
      "基 于 l s t m - c r f 命 名 实 体 识 别 技 术 的 研 究 与 应 用\n",
      "基 于 l s t m - c r f 命 名 实 体 识 别 技 术 的 研 究 与 应 用\n",
      "随着深度神经网络的发展,深度学习不仅占据了模式识别等领域的统治地位,而且已应用到自然语言处理的各个方面,如中文命名实体识别。对电子病历中的命名实体进行识别时,构建了内嵌条件随机场的长短时神经网络模型,使用长短时神经网络隐含层的上下文向量作为输出层标注的特征,使用内嵌的条件随机场模型表示标注之间的约束关系。该模型识别出了电子病历中的身体部位、疾病名称、检查、症状和治疗五类实体,准确率达到96.29%,精确率达到了91. 61%,召回率96.22%,F值93.85,其中症状这一实体类别,精确率达到96.08%,召回率98.98%,F值97.51。实验结果表明,内嵌条件随机场的长短时记忆神经网络模型在识别中文命名实体方面是有效的,有助于自动抽取中文电子病历中实体之间的关系、构建医疗知识图谱。\n",
      "\n"
     ]
    },
    {
     "name": "stderr",
     "output_type": "stream",
     "text": [
      "\r",
      " 78%|███████▊  | 779/1000 [05:30<01:39,  2.22it/s]"
     ]
    },
    {
     "name": "stdout",
     "output_type": "stream",
     "text": [
      "开 源 云 上 的 k u b e r n e t e s 弹 性 调 度\n",
      "基 于 容 器 的 私 有 云 资 源 弹 性 调 度 策 略 研 究\n",
      "针对私有云资源弹性调度问题,将Kubernetes结合已有Openstack云平台,提出一种基于容器的弹性调度策略。一方面,因为Openstack虚拟机启动时间较长,给调度带来额外时间开销,所以利用容器拉起时耗远小于虚拟机的特性,用Docker容器取代了Openstack默认的虚拟机;一方面优化了Kubernetes调度算法,建立了一个提高集群资源利用率的优化模型,通过对云平台各个服务器节点四种类型资源的监控和应用队列预设模板匹配,选择调度资源利用率最高的服务器。整个调度过程包括容器应用的初次调度和在线迁移算法。实验结果表明,相比原有Kubernetes调度算法和一些其他的调度策略,该调度策略对数据中心资源进行了更细粒度的划分,在保证服务器性能的同时,实现了云平台资源弹性调度,集群资源利用率也得到了提高,同时降低了数据中心能耗。\n",
      "\n"
     ]
    },
    {
     "name": "stderr",
     "output_type": "stream",
     "text": [
      "\r",
      " 78%|███████▊  | 780/1000 [05:31<01:26,  2.53it/s]"
     ]
    },
    {
     "name": "stdout",
     "output_type": "stream",
     "text": [
      "基 于 s i m h a s h 的 大 规 模 文 档 去 重 改 进 算 法 研 究\n",
      "一 种 改 进 的 s i m h a s h 算 法\n",
      "针对大规模文档去重算法Simhash存在的缺点和不足,提出一种改进的Simhash算法。首先从多个维度综合计算文档的相似度,包括文档内容、文档关键字、文档的标签、文档的引用文献等方面,定义一个新的公式用于计算文档相似度。其次改进Simhash算法计算文档特征的方法,通过TF-IDF技术和单词的主题相关性综合计算单词的权重,TF-IDF技术用于计算一个关键词在一个文档集中的一篇文档的重要性,将专业术语词汇的长度统计函数作为判断单词主题相关性的依据。最后在检索步骤中采用哈希到桶的思想,此时出现分布不均匀的情况,为此设定一个阈值,当超过阈值时,对桶内的元素进行二次哈希,可以减少候选对的数量并且使分布更加均匀。实验结果表明,改进后的算法可以明显提高原Simhash算法的效率和准确率。\n",
      "\n"
     ]
    },
    {
     "name": "stderr",
     "output_type": "stream",
     "text": [
      "\r",
      " 78%|███████▊  | 781/1000 [05:31<01:24,  2.58it/s]"
     ]
    },
    {
     "name": "stdout",
     "output_type": "stream",
     "text": [
      "具 有 二 次 预 警 行 为 的 复 杂 网 络 病 毒 传 播 分 析\n",
      "新 型 病 毒 传 播 的 s a i s 模 型 与 仿 真\n",
      "社会网络中,健康节点获得病毒正在蔓延的消息,会转化为预警节点,这种行为称为预警行为,感染节点存在一定的概率转化为预警节点,将此行为称为二次预警行为。据此提出了一种具有二次预警行为的SAIS(susceptible-alert-infec-ted-susceptible)模型。从微分动力学系统角度分析病毒传播的临界值特性,并与具有一次预警行为的SAIS传播模型进行比较,通过模拟仿真对结论进行验证。研究结果表明,具有二次预警行为的SAIS模型的稳态感染节点密度小于具有一次预警行为的SAIS模型的稳态感染节点密度,具有二次预警行为的SAIS模型的病毒传播阈值大于具有一次预警行为的SAIS模型的病毒传播阈值。研究还发现,随着二次预警率的增加,稳态感染节点密度不断减小,从而可以减少病毒爆发规模,减缓病毒在网络中的爆发。\n",
      "\n"
     ]
    },
    {
     "name": "stderr",
     "output_type": "stream",
     "text": [
      "\r",
      " 78%|███████▊  | 782/1000 [05:31<01:23,  2.60it/s]"
     ]
    },
    {
     "name": "stdout",
     "output_type": "stream",
     "text": [
      "基 于 逻 辑 斯 蒂 回 归 的 恶 意 请 求 分 类 识 别 模 型\n",
      "基 于 多 n - g r a m 的 o f d m 攻 击 方 法\n",
      "为了解决针对Web应用层的攻击,有效分类识别恶意请求,深入研究有监督的学习方法,针对请求文本内容不足、特征稀疏的缺陷,提出了一种基于非重复多N-Gram的TF-IDF分词策略和逻辑斯蒂回归方法构建的恶意请求分类模型。通过从Secrepo安全数据样本库等来源采集到的大量样本数据进行特征提取后对模型进行训练,以最大似然估计作为模型的优化目标,利用梯度下降的方法得到最优分类模型,并在测试集上验证模型的可靠性。实验结果表明,短文本、低语义的请求内容通过字母形式在多N-Gram的分词下构造的分类模型,相对于单词和单倍N-Gram分词的分类模型具有较高的分类准确率和得分,并且训练模型所耗时间相差不大。该方法训练出的最终模型在测试集上的准确率、召回率和F1值都达到了99%以上。\n",
      "\n"
     ]
    },
    {
     "name": "stderr",
     "output_type": "stream",
     "text": [
      "\r",
      " 78%|███████▊  | 783/1000 [05:32<01:26,  2.52it/s]"
     ]
    },
    {
     "name": "stdout",
     "output_type": "stream",
     "text": [
      "文 件 上 传 漏 洞 的 攻 击 方 法 与 防 御 措 施 研 究\n",
      "面 向 渗 透 测 试 技 术 文 件 上 传 漏 洞 的 攻 击 与 分 析\n",
      "简述了当今社会信息安全的重要性,说明了渗透测试技术中文件上传漏洞的基本原理,列举了文件上传漏洞能够造成的危害,对文件上传漏洞进行详细分析。由于文件上传漏洞一般伴随着服务器解析漏洞出现,结合三种不同的Web应用容器(IIS、Apache、PHP)的解析漏洞,解释文件上传漏洞与服务器解析漏洞之间的关系,详细说明文件上传漏洞出现的原因;从Web站点的两种上传文件验证方式—客户端验证和服务器端验证阐述了相应的攻击技巧,通过对五种攻击方法(绕过客户端验证、绕过黑名单与白名单验证、绕过MIME验证、绕过目录验证和截断上传攻击)的具体实验描述了对文件上传漏洞的攻击过程,并给出了实验代码;最后针对实验中的攻击方法,提出了四类文件上传漏洞的有效防御措施,并对全文进行总结,对未来提出展望。\n",
      "\n"
     ]
    },
    {
     "name": "stderr",
     "output_type": "stream",
     "text": [
      "\r",
      " 78%|███████▊  | 784/1000 [05:32<01:27,  2.47it/s]"
     ]
    },
    {
     "name": "stdout",
     "output_type": "stream",
     "text": [
      "具 有 非 均 匀 接 触 模 式 的 网 络 传 播 建 模 与 分 析\n",
      "非 均 匀 接 触 s i s 模 型 及 其 在 病 毒 传 播 中 的 应 用\n",
      "大部分病毒传播模型具有均匀混合假设,即在一个群体中,每个个体有相同的几率被一个与之相邻的被感染节点感染。然而由于个体免疫系统,生活习惯以及对病毒信息预警所持的态度各有不同,个体之间感染病毒的概率也将不尽相同。因此,网络中存在异质接触模式的病毒传播动力过程成为一个新的研究方向。为了研究非均匀接触模式对病毒传播的影响,以SIS模型为基础,在BA无标度网络上结合非均匀平均场理论,提出了一种具有非均匀接触模式(即具有不同特性的人群具有不同的病毒感染率)的改进型SIS模型,分析求解了传播阈值,并通过蒙特卡罗仿真验证了阈值表达式的有效性。仿真结果表明,非均匀接触SIS模型的阈值由两种人口比例按权重构成,且与网络结构参数有关。\n",
      "\n"
     ]
    },
    {
     "name": "stderr",
     "output_type": "stream",
     "text": [
      "\r",
      " 78%|███████▊  | 785/1000 [05:32<01:23,  2.58it/s]"
     ]
    },
    {
     "name": "stdout",
     "output_type": "stream",
     "text": [
      "基 于 s c r a p y 框 架 的 爬 虫 和 反 爬 虫 研 究\n",
      "基 于 s c r a p y 开 发 的 网 络 爬 虫 的 研 究\n",
      "伴随着互联网的快速发展,获取信息已经成为人们日常生活中必不可少的一部分。在众多信息来源中,通过浏览器进入网站获取信息是绝大多数人的选择,但如果按照这种方式正常地进行信息获取,获取信息速度较慢,量较小,由此便产生了网络爬虫。网络爬虫又称为网络蜘蛛或网络机器人,可以按照使用人定制的规则,短时间内在万维网上搜集大量特定信息。网络爬虫在爬取信息的同时,也带了一些问题,如大量信息被非正常获取,是一种损失,同时,大量爬虫对网站维护也是一个巨大的负担。如何在维护网民正常访问的前提下,有效阻止这些爬虫就显得十分重要。因此,文中主要研究Python语言开发的开源爬虫框架Scrapy所开发的爬虫,对目前网站常用的一些反爬虫手段进行分析,基于Scrapy框架以及具体网站,举例说明爬虫如何应对网站这些反爬措施。\n",
      "\n"
     ]
    },
    {
     "name": "stderr",
     "output_type": "stream",
     "text": [
      "\r",
      " 79%|███████▊  | 786/1000 [05:33<01:16,  2.79it/s]"
     ]
    },
    {
     "name": "stdout",
     "output_type": "stream",
     "text": [
      "未 来 网 络 架 构 的 成 本 分 析\n",
      "未 来 网 络 架 构 的 成 本 分 析\n",
      "面对通信新时代大数据处理的问题,软件定义网络(SDN)和网络功能虚拟化(NFV)两个互补的架构正在渐渐发展起来,以更全面地解决一些网络问题。但是这种新架构还是未知因素,不确定是否真的能带来成本的节省。目前如果对未来网络进行测试需要大量成本。与现有的4G网络硬件技术相比,文中基于虚拟化的网络功能建立了一种数学模型,以路由器支持的会话数和服务提供商的数量为多种考虑情形,采用具有可靠性的参数来模拟实际问题中的一些多变因子,将复杂的现实问题数学抽象化,验证了存在某个路由器所支持的会话数的临界值,当高于这个临界值时,所需要的网络成本急剧下降,远远低于传统网络的所需成本。同时也验证了当服务提供商数量越多时,成本节省得越多,证明了采用SDN/NFV技术在成本上的可行性。\n",
      "\n"
     ]
    },
    {
     "name": "stderr",
     "output_type": "stream",
     "text": [
      "\r",
      " 79%|███████▊  | 787/1000 [05:33<01:22,  2.58it/s]"
     ]
    },
    {
     "name": "stdout",
     "output_type": "stream",
     "text": [
      "基 于 视 觉 检 测 的 胸 环 靶 自 动 报 靶 系 统 研 究\n",
      "基 于 滞 后 阈 值 检 测 的 运 动 图 像 弹 孔 识 别 方 法\n",
      "户外射击训练中采用视觉检测技术进行自动报靶,既可防止发生训练安全事故,还可以获得训练者在射击训练中的弹着点分布情况,以采取针对性训练手段提高训练者的射击水平。首先介绍了自动报靶的发展历程,之后对现有的弹孔识别方法进行了分析研究,随后提出了使用滞后阈值边缘检测算法能够更好地识别弹孔。首先对前后两张图像进行仿射变换,实现图像校正,对校正之后的两张图像进行滞后阈值边缘检测使得弹孔信息更加明显,通过分析弹孔图像,发现相邻两张图像唯一的不同点就是弹孔区域,采用简单快速的减影运算完成对弹孔区域的获取,最后通过开运算消除弹孔以外干扰区域。实验结果表明,所提出的算法识别弹孔准确度高,运行时长符合实弹训练要求。\n",
      "\n"
     ]
    },
    {
     "name": "stderr",
     "output_type": "stream",
     "text": [
      "\r",
      " 79%|███████▉  | 788/1000 [05:34<01:20,  2.63it/s]"
     ]
    },
    {
     "name": "stdout",
     "output_type": "stream",
     "text": [
      "生 成 式 对 抗 网 络 在 语 音 增 强 方 面 的 研 究\n",
      "改 进 的 g a n 语 音 增 强 方 法 及 其 应 用 研 究\n",
      "伴随着人工智能的兴起,各种深度学习模型应运而生,生成式对抗网络(generative adversarial networks,GAN)作为其中的一种深度学习模型成为了研究热点。GAN已成功应用在图像处理中,但将其应用在语音增强方面是需要研究的问题。GAN应用在语音增强的研究方法与GAN的实质是一样的,是通过构造两个模型,即生成模型(generative model)和判别模型(discriminative model),也叫做生成器(generator)和判别器(discriminator)。两者通过互相竞争、对抗的形式来学习训练,GAN最终要实现的目标是生成新的数据,即实现去噪。对GAN在语音增强方面的应用进行了研究,提出了使用传统的GAN数学模型用于语音增强进行建模,同时改进了GAN的数学模型并加入了稀疏因式,将GAN增强后的语音与其他传统的语音增强方法进行对比。实验结果表明,使用GAN增强后的语音的segSNR和PESQ的得分要比传统的语音增强方法的得分高,从而证明GAN比其他传统的语音增强方法更具优越性。\n",
      "\n"
     ]
    },
    {
     "name": "stderr",
     "output_type": "stream",
     "text": [
      "\r",
      " 79%|███████▉  | 789/1000 [05:34<01:22,  2.55it/s]"
     ]
    },
    {
     "name": "stdout",
     "output_type": "stream",
     "text": [
      "云 数 据 中 心 下 重 复 数 据 删 除 技 术 研 究\n",
      "云 数 据 中 心 环 境 下 重 复 删 除 系 统 操 作 效 率 研 究\n",
      "云数据中心下企业数据量快速增长,使得数据中心面临严峻挑战。研究发现,存储系统中高达60%的数据是冗余的,因此云数据中心下的重复数据缩减受到越来越多的关注。以往单一存储结构模式下的存储性能评价指标(平均响应时间、磁盘I/O效率和数据冗余度),不但不能完全适应云数据这种以廉价设备为分布式存储结构的新变化,而且也难以较好地满足云服务提供商向用户做出的数据高可用性、高可靠性的SLA承诺。为此,在分析和总结云数据中心环境下数据存储的新特征之后,通过对单一存储结构下重复数据删除技术不足的剖析,提出了查询算法优化、基于SSD改进置换效率、改进的纠删码数据容错机制三条路径,以提高云数据中心下重删系统的工作效率和工作表现。最后,通过分析云服务下不同用户对IT资源需求的区别,有针对性地自动选择合适的去重时机,为从整体上改进云数据中心环境下重复删除系统操作效率指出了进一步研究的方向。\n",
      "\n"
     ]
    },
    {
     "name": "stderr",
     "output_type": "stream",
     "text": [
      "\r",
      " 79%|███████▉  | 790/1000 [05:34<01:24,  2.50it/s]"
     ]
    },
    {
     "name": "stdout",
     "output_type": "stream",
     "text": [
      "基 于 k - m e a n s 算 法 的 研 究 生 入 学 成 绩 分 析\n",
      "基 于 k - m e a n s 聚 类 算 法 的 研 究 生 入 学 成 绩 分 析\n",
      "研究生入学成绩是导师初步了解学生学习能力、学习风格、制定研究生培养方案的重要参考指标。随着学校招生规模的扩大,学生人数的增加,研究生入学成绩的日趋复杂,传统的分析方法已经不能满足当前对于研究生入学成绩分析的需要。通过应用K-means聚类算法对研究生入学成绩进行分析,将研究生入学成绩进行分类,发现学生成绩分布的特点,找出成绩之间的关系,了解学生各科的学习状况,找到适合学生发展的方向,以实现个性化的研究生教育和培养,所得结果为研究生培养方案的制定与研究生进行研究方向的选择提供了借鉴意义。首先,分析了几种主要聚类算法应用于研究生入学成绩的适用性;其次,介绍了K-means聚类算法;最后,对研究生入学成绩进行数据分析、预处理。通过实验证明了K-means聚类算法在研究生入学成绩分析中的实用性。\n",
      "\n"
     ]
    },
    {
     "name": "stderr",
     "output_type": "stream",
     "text": [
      "\r",
      " 79%|███████▉  | 791/1000 [05:35<01:25,  2.44it/s]"
     ]
    },
    {
     "name": "stdout",
     "output_type": "stream",
     "text": [
      "基 于 s m 2 智 能 安 全 芯 片 的 高 档 酒 防 伪 系 统 设 计\n",
      "一 种 内 嵌 s m 2 智 能 安 全 芯 片 的 防 伪 解 决 方 案\n",
      "高档酒的假冒伪劣行为严重影响了生产厂商的利益和消费者的合法权益,而高档酒的防伪技术研究也一直是一个热点课题。提出了一种由内嵌SM2智能安全芯片的防伪瓶盖、配套验证器、防伪认证服务系统组成的防伪解决方案。在防伪认证时,使用配套验证器读取瓶盖上内嵌SM2智能安全芯片中的产品身份标识码和签名信息后间接发送到防伪认证服务系统进行签名验证,签名验证通过后,防伪认证服务系统产生新的产品身份标识码和对应的签名信息并通过配套验证器间接发送到瓶盖上的SM2智能安全芯片上进行签名验证。通过SM2智能安全芯片与防伪认证服务系统之间的双向数字签名认证,保证了产品的身份可信和认证服务器的身份可信并最终实现产品防伪的安全性、可靠性和易用性。\n",
      "\n"
     ]
    },
    {
     "name": "stderr",
     "output_type": "stream",
     "text": [
      "\r",
      " 79%|███████▉  | 792/1000 [05:35<01:38,  2.11it/s]"
     ]
    },
    {
     "name": "stdout",
     "output_type": "stream",
     "text": [
      "火 花 塞 端 面 缺 陷 自 动 检 测 算 法 设 计\n",
      "基 于 形 态 学 特 征 和 连 通 域 标 记 的 火 花 塞 端 面 检 测 算 法\n",
      "对火花塞端面缺陷进行检测时,传统的检测方法是采用人工目测,检测精度低,受人为的影响因素多。根据火花塞端面检测的实际需求,设计了一种基于机器视觉的全自动检测算法。该算法首先利用图像形态特征采用改进的霍夫变换方法提取待检测圆环区域,并根据实际检测需求对圆环区域做极坐标变换,使圆环区域展开为矩形。然后采用局部阈值分割方法对其进行二值化,并利用形态学滤波的方法分离缺陷及类缺陷杂质区域,结合连通域标记算法提取缺陷及类缺陷杂质区域。最后,计算统计缺陷及类缺陷杂质的梯度直方图特征并对其进行逻辑回归分类识别。实验结果表明,该算法检测精度达到99%,漏检率仅1/500。不仅可完全满足工业生产的检测质量需求,而且检测周期为0.6 s,满足了工业在线生产的速度需求。\n",
      "\n"
     ]
    },
    {
     "name": "stderr",
     "output_type": "stream",
     "text": [
      "\r",
      " 79%|███████▉  | 793/1000 [05:36<01:26,  2.39it/s]"
     ]
    },
    {
     "name": "stdout",
     "output_type": "stream",
     "text": [
      "基 于 模 糊 规 则 预 测 模 型 的 急 性 高 血 糖 诊 断\n",
      "基 于 模 糊 规 则 的 预 测 模 型\n",
      "构建了一种基于模糊规则的算法来建立预测模型。该模型采用Takagi-Sugeno(T-S)结构,通过IF-THEN的表述方式来描述规则,并通过高斯隶属函数确定模型系数,生成预测模型规则库。实验数据来源于心脏传导系统的电生理信息,将实验数据分成训练集和验证集,通过训练集生成规则库,并使用验证集来预测急性高血糖的持续时间,对比验证集的实验测量输出与预测模型输出,使用预测均方根误差(RMSEP)评价预测精度。将预测结果与偏最小二乘法(PLS)、最小二乘支持向量机(LSSVM)和反向传播神经网络(BPNN)三种经典预测模型的结果进行比较,实验结果表明,基于模糊规则的预测模型预测精度最高,适合用来预测急性高血糖的持续时间。该模型可以为医学基础研究和临床诊断提供指导与建议。\n",
      "\n"
     ]
    },
    {
     "name": "stderr",
     "output_type": "stream",
     "text": [
      "\r",
      " 79%|███████▉  | 794/1000 [05:36<01:40,  2.05it/s]"
     ]
    },
    {
     "name": "stdout",
     "output_type": "stream",
     "text": [
      "海 表 面 温 时 间 序 列 的 相 关 性 及 复 杂 性 研 究\n",
      "基 于 样 本 熵 的 高 纬 度 地 区 海 表 面 温 时 间 序 列 长 记 忆 性 分 析\n",
      "海洋表面温度是海洋热力、动力过程以及海气相互作用的综合结果,是海洋环境一个重要的参数。为了获得海洋表面温度时空变化的复杂性行为并揭示其内在动力性机制,根据一个改进的样本熵的方法来分析海表面温时间序列的复杂性;同时使用去趋势波动分析方法研究海表面温时间序列的长记忆性。实验结果表明,高纬度地区的海表面温变化的复杂度低于低纬度地区。因为高纬度地区海表面温度的季节性更加明显,序列的规则性更强。相对来说季节性因素对低纬度地区海表面温度的影响不大。不管是长时间序列还是短时间序列高纬度地区的海表面温都具有长记忆性,且序列的不平稳性很强。但是短时间序列的低纬度地区的海表面温的相关性呈现出多种情况,序列足够长时,序列也表现出长记忆性。\n",
      "\n"
     ]
    },
    {
     "name": "stderr",
     "output_type": "stream",
     "text": [
      "\r",
      " 80%|███████▉  | 795/1000 [05:37<01:34,  2.18it/s]"
     ]
    },
    {
     "name": "stdout",
     "output_type": "stream",
     "text": [
      "一 次 基 于 系 统 性 能 分 析 的 存 储 设 备 升 级\n",
      "综 合 气 象 信 息 共 享 系 统 存 储 设 备 的 设 计 与 实 现\n",
      "\"综合气象信息共享系统(CIMISS)收集、处理、存储、共享海量的气象数据,随着设备运行多年,接入数据越来越多,系统在性能上存在瓶颈。通过分析系统业务需求和存储磁盘的IO,得出run文件系统IOPS值较大,数据吞吐量大,这部分对存储设备的性能要求较高,而ORACLE数据库和data文件系统是大数据容量存储部分,同时也对随机IO有较高的要求。基于业务分析同时兼顾性价比,配置新的存储设备,采用2个Active-Active工作模式的32 GB高速缓存控制器,配置SSD固态硬盘和高速SAS磁盘满足高性能IO需求,也有容量需求较大的4 TB SATA盘,并且能灵活扩容。实施中利用FAST VP功能实现分层数据管理,通过一段时间的稳定运行,run文件系统数据最\"\"热\"\",在SSD和SAS上分别占比为50. 63%和34.22%,而ORACLE数据库和data文件系统中大部分数据访问率较低,因此,这些\"\"冷数据\"\"会自动迁移到SA-TA盘上,分别占比64.7%和74.31%。\"\n",
      "\n"
     ]
    },
    {
     "name": "stderr",
     "output_type": "stream",
     "text": [
      "\r",
      " 80%|███████▉  | 796/1000 [05:37<01:23,  2.43it/s]"
     ]
    },
    {
     "name": "stdout",
     "output_type": "stream",
     "text": [
      "统 一 医 疗 系 统 的 设 计 与 实 现\n",
      "基 于 云 计 算 的 统 一 医 疗 系 统 设 计\n",
      "充分利用各个医疗系统的相关医疗数据资源优势,创建可视化,可操作化,可挖掘化的统一医疗系统。通过云计算技术对各个医疗系统的数据实现共享,数据仓库的创建,数据挖掘算法的选择与嵌入和用户端的设计,进而完成整个系统架构的设计。创建了多系统集合,多数据类型,可数据处理的适用性更强的统一医疗系统。统一医疗系统的研究与设计,充分利用了云计算,数据仓库及数据挖掘等技术,将医院的各个系统的数据资源整合到一起,避免了医疗数据资源的浪费,为挖掘阶段提供了强有力的数据支持,并为从大规模医疗临床数据中发现和提炼进而形成临床有用知识提供了技术支持,能大大推动医学知识创新的开展以及推动医学领域的进步。\n",
      "\n"
     ]
    },
    {
     "name": "stderr",
     "output_type": "stream",
     "text": [
      "\r",
      " 80%|███████▉  | 797/1000 [05:38<01:31,  2.22it/s]"
     ]
    },
    {
     "name": "stdout",
     "output_type": "stream",
     "text": [
      "基 于 总 体 经 验 模 态 分 解 和 c o d e - b p 短 期 风 速 预 测\n",
      "基 于 组 合 差 分 进 化 算 法 和 前 馈 神 经 网 络 的 风 速 预 测\n",
      "预测问题是应用机器学习的研究热点之一,是计算机技术领域在实际工程的重要应用,然而由于风速具有随机性、波动性等特性,导致风速预测存在准确率低的问题。为了提高风速预测的准确性,将总体经验模态分解(EEMD)方法引入到组合差分进化算法(CoDE)和前馈(BP)神经网络中,提出了一种新颖的混合风速预测模型(EEMD-CoDE-BP)。利用EEMD将原始风速信号分解成一系列不同频率的子序列IMFs和残差序列r,通过每个子序列训练CoDE-BP模型,最终的风速预测结果由每个子序列预测结果等权求和得到。以国内某风电场每10 min、1 h采样间隔的风速数据进行MATLAB仿真,对比包括传统的Elman神经网络(ENN)、小波神经网络(WNN)、BP、CoDE-BP和EMD-CoDE-BP等算法,仿真结果表明所提方法能对风速进行准确有效的预测,极大地提高了预测精度,减小了预测误差。\n",
      "\n"
     ]
    },
    {
     "name": "stderr",
     "output_type": "stream",
     "text": [
      "\r",
      " 80%|███████▉  | 798/1000 [05:38<01:29,  2.26it/s]"
     ]
    },
    {
     "name": "stdout",
     "output_type": "stream",
     "text": [
      "新 型 卷 缩 仪 控 制 系 统 设 计 与 p e t r i 网 建 模\n",
      "基 于 p e t r i 网 的 新 型 卷 缩 仪 设 计 与 实 现\n",
      "针对现有的卷缩仪产品存在着结构复杂、成本较高的问题,在深入分析变形丝卷缩性能测试流程的基础上,设计了基于树莓派平台的新型卷缩仪控制系统硬件结构。给出了一种扩展的Petri网模型—广义同步自控网系统的形式化定义,探讨了使用广义同步自控网系统对控制流程进行建模与分析的方法。该方法充分利用了广义同步自控网系统的变迁与外部事件关联以及弧权值受库所控制的特性,弥补了传统Petri网模型存在的不易与外部事件同步、描述算法简单等不足。采用广义同步自控网系统建模工具得到控制器模型的可达标识图并进行仿真分析,确认了控制过程的正确性。经实际应用表明,所设计的卷缩仪满足纺织和化纤企业的需求,具有性能稳定、成本低等优点。\n",
      "\n"
     ]
    },
    {
     "name": "stderr",
     "output_type": "stream",
     "text": [
      "\r",
      " 80%|███████▉  | 799/1000 [05:38<01:24,  2.38it/s]"
     ]
    },
    {
     "name": "stdout",
     "output_type": "stream",
     "text": [
      "基 于 n u t c h 的 就 业 垂 直 搜 索 引 擎 研 究\n",
      "基 于 n u t c h 的 就 业 垂 直 搜 索 引 擎 的 设 计 与 实 现\n",
      "针对通用搜索引擎专业性不够、查准率较低的问题,基于Nutch开源搜索引擎,采用基于本地词库和动态加载词库的正向迭代最细粒度切分算法实现中文分词。基于特征词和元数据标签的空间向量模型实现就业领域主题相关性判定,基于MapReduce引入网页链入链接权重因子和时间衰减因子改进LinkRank排序算法等对Nutch进行二次开发,并在网页信息抓取和过滤、就业信息搜索和特征词推荐等环节引入就业领域本体信息,采用Java框架技术对用户查询接口进行了二次开发,提供了如关键字智能提醒、定制爬虫、二次查找、设定查询结果日期、订阅查询等扩展查询接口,设计并实现了基于Nutch的就业垂直搜索引擎。实验结果表明,基于Nutch的就业垂直搜索引擎具有较高的查准率,可以满足用户专业检索的需求。\n",
      "\n"
     ]
    },
    {
     "name": "stderr",
     "output_type": "stream",
     "text": [
      "\r",
      " 80%|████████  | 800/1000 [05:39<01:20,  2.50it/s]"
     ]
    },
    {
     "name": "stdout",
     "output_type": "stream",
     "text": [
      "一 种 封 闭 区 域 人 数 智 能 监 控 统 计 系 统\n",
      "基 于 视 频 智 能 监 控 系 统 的 人 物 分 割 及 特 征 研 究\n",
      "传统安防视频监控系统数据存储空间非常巨大,人工查找异常事件或行为等有效的视频信息困难,产生了应用视频智能监控技术来实现更高效的自动监控并配以报警功能,对视频序列中的运动目标进行检测,实现检测区域的人数统计,使事后取证的被动防守变为主动防御报警的需求。在综合运用数字图像处理理论、目标跟踪算法等的基础上,构建了一个人物分割与人群跟踪相结合的人物计数系统。以基于背景差分算法与帧间差分算法相结合的方式,建立视频目标分割算法,包括对目标进行检测并粗略分割,分单人和多人计数。实现对视频图像的保存读取,前景单人与群体的提取和分割。该方法确能为智能监控的实现提供一种可行的路径。\n",
      "\n"
     ]
    },
    {
     "name": "stderr",
     "output_type": "stream",
     "text": [
      "\r",
      " 80%|████████  | 801/1000 [05:39<01:19,  2.51it/s]"
     ]
    },
    {
     "name": "stdout",
     "output_type": "stream",
     "text": [
      "基 于 a n d r o i d 平 台 的 在 线 教 育 直 播 系 统 设 计\n",
      "基 于 r t m p 协 议 的 在 线 视 频 直 播 系 统 设 计 与 实 现\n",
      "随着网络技术的发展,网络远程教育不断涌现,人们通过网络可以进行学习交流等,不必拘泥于时间及场所等自然因素的限制,极大地方便了人们的学习与生活。而无线网络及移动计算技术的发展为面向新型网络环境的在线视频直播提供了机遇,目前市场上的直播平台大多都是以娱乐为主,几乎没有专门以教育为主的直播平台。针对上述问题,设计并实现了一款以RTMP协议为核心的在线直播教育系统。该系统可以将教师的授课通过摄像机录制下来或形成可播放的数字媒介,并通过Wifi或4G等上传视频至服务器,或者是可直接放在网络上供使用者下载学习。分别从学生以及教师两个方面着手,增加申请直播,排行榜,教师查询,视频观看等功能,对在线直播系统的搭建有一定的借鉴意义。\n",
      "\n"
     ]
    },
    {
     "name": "stderr",
     "output_type": "stream",
     "text": [
      "\r",
      " 80%|████████  | 802/1000 [05:40<01:15,  2.63it/s]"
     ]
    },
    {
     "name": "stdout",
     "output_type": "stream",
     "text": [
      "s p a c e w i r e 网 络 层 分 析 的 时 间 自 动 机 模 型\n",
      "s p a c e w i r e 网 络 层 验 证 的 形 式 化 分 析 模 板 框 架\n",
      "\"SpaceWire总线作为航天器数据/控制的\"\"神经中枢\"\",其网络层的结构和应用设计是系统可靠性的重要影响因素.为了在SpaceWire总线网络层设计部署过程中,对其进行形式化分析,发现设计缺陷,提高可靠性.提出了一个用于SpaceWire网络层验证的形式化分析模板框架,将网络层的核心要素:实时数据包、终端节点、路由器和路由机制都使用时间自动机建模.然后根据具体案例将之实例化,并在UPPAAL模型检验工具中根据规范提出性质进行检验.典型案例的分析验证了所提出的方法的有效性.\"\n",
      "\n"
     ]
    },
    {
     "name": "stderr",
     "output_type": "stream",
     "text": [
      "\r",
      " 80%|████████  | 803/1000 [05:40<01:15,  2.63it/s]"
     ]
    },
    {
     "name": "stdout",
     "output_type": "stream",
     "text": [
      "一 种 基 于 数 字 信 号 控 制 的 c m o s 神 经 元 电 路\n",
      "一 种 基 于 s d s p 学 习 的 激 励 型 突 触 电 路\n",
      "采用0.18μm CMOS工艺设计了一种由数字信号控制的神经元电路.相比于传统神经元电路,本电路不需要偏置电压,控制简单,便于大规模集成.在数字信号的控制下,本电路可以方便地实现Regular Spiking (RS),Fast Spiking(FS),Chattering(CH),Intrinsic Bursting(IB)四种神经元脉冲响应模式.此外本文介绍了一种激励型突触电路,该电路的突触权值可以通过基于脉冲的Spike Driven Synaptic Plasticity(SDSP)学习机制进行调节.在此基础上本文利用3个神经元与2个突触实现了Pavlov实验,证明了所设计的神经元电路支持SDSP学习规则,可以用于构建神经形态硬件.\n",
      "\n"
     ]
    },
    {
     "name": "stderr",
     "output_type": "stream",
     "text": [
      "\r",
      " 80%|████████  | 804/1000 [05:40<01:23,  2.36it/s]"
     ]
    },
    {
     "name": "stdout",
     "output_type": "stream",
     "text": [
      "非 线 性 权 重 和 收 敛 因 子 的 鲸 鱼 算 法\n",
      "基 于 非 线 性 收 敛 因 子 和 惯 性 权 重 的 鲸 鱼 优 化 算 法\n",
      "针对鲸鱼优化算法收敛速度慢,收敛精度低等问题,提出一种基于非线性收敛因子和惯性权重的鲸鱼优化算法.首先使用改进后的Logistic混沌映射来初始化种群,增加种群多样性.然后将线性变化的收敛因子改进为一种分段式非线性收敛因子,同时增加了非线性惯性权重来增强算法的勘探和开发能力.最后选取7个基准函数进行测试,实验表明改进后算法收敛速度快、精度高.\n",
      "\n"
     ]
    },
    {
     "name": "stderr",
     "output_type": "stream",
     "text": [
      "\r",
      " 80%|████████  | 805/1000 [05:41<01:26,  2.25it/s]"
     ]
    },
    {
     "name": "stdout",
     "output_type": "stream",
     "text": [
      "基 于 i g w o 算 法 优 化 的 s v m 模 拟 电 路 故 障 诊 断\n",
      "基 于 改 进 灰 狼 优 化 算 法 优 化 s v m 模 拟 电 路 故 障 诊 断\n",
      "为提高基于支持向量机(SVM)模拟电路故障诊断的准确率和优化效率,在灰狼优化(GWO)算法的基础上,通过引入非线性收敛因子、动态权重和边界变异策略,提出了一种改进灰狼优化(IGWO)算法优化SVM参数(IGWO-SVM)的改进型分类器.首先,在Sallen-Key带通滤波器和四运放双二次高通滤波器电路中采集故障样本,并对故障样本进行小波包特征提取;然后,将特征提取后的样本划分为训练样本和测试样本,利用IGWO算法来优化SVM中的惩罚参数C和核参数γ,得到最优的SVM分类器模型;最后,与其他算法优化的SVM分类器进行对比,结果表明IGWO-SVM分类器可以防止种群陷入局部最优,同时收敛速度有了较大提升.\n",
      "\n"
     ]
    },
    {
     "name": "stderr",
     "output_type": "stream",
     "text": [
      "\r",
      " 81%|████████  | 806/1000 [05:41<01:25,  2.28it/s]"
     ]
    },
    {
     "name": "stdout",
     "output_type": "stream",
     "text": [
      "基 于 猴 群 算 法 的 3 d   n o c   i p 核 测 试 优 化 方 法\n",
      "基 于 t s v 位 置 与 i p 核 测 试 方 案 的 协 同 优 化\n",
      "如何对三维片上网络(three Dimensional Network-on-Chip,3DNoC)资源内核的测试进行优化以缩短测试时间,提高资源利用率是当前3DNoC测试面临的主要问题之一.本文针对3DNoC IP核测试优化问题,开展TSV位置与IP核测试数据分配方案协同优化研究.在带宽、功耗和TSV数量约束下,将TSV位置方案和IP核测试数据分配方案作为寻优变量,采用猴群算法进行寻优.算法通过爬和望跳过程进行局部搜索并结合翻过程在不同领域进行搜索从而找到最优解,加入精英保留策略以确保算法收敛性,使算法搜索结果更为准确.以ITC’02电路为实验对象,实验结果表明,该算法能够有效地优化3DNoC资源分配,缩短测试时间,提高资源利用率.\n",
      "\n"
     ]
    },
    {
     "name": "stderr",
     "output_type": "stream",
     "text": [
      "\r",
      " 81%|████████  | 807/1000 [05:42<01:20,  2.41it/s]"
     ]
    },
    {
     "name": "stdout",
     "output_type": "stream",
     "text": [
      "基 于 机 器 学 习 的 版 图 热 点 检 测 并 行 算 法\n",
      "基 于 m p i 的 p c a 并 行 降 维 算 法 及 应 用\n",
      "针对基于机器学习的版图热点训练过程中降维算法耗时长和大多数训练算法没有利用多核资源的问题,分别提出了基于MPI的PCA并行降维算法和基于OpenMP的AdaBoost并行训练算法.首先采用QR分解优化奇异值求解特征矩阵,再结合MPI实现PCA的并行降维计算,最后将降维后的数据利用多核CPU进行训练,达到减小训练时间的目的.实验结果表明,PCA并行降维算法加速比达4.7倍,AdaBoost并行训练算法加速比达4.9倍,验证了并行化的可行性.\n",
      "\n"
     ]
    },
    {
     "name": "stderr",
     "output_type": "stream",
     "text": [
      "\r",
      " 81%|████████  | 808/1000 [05:42<01:19,  2.41it/s]"
     ]
    },
    {
     "name": "stdout",
     "output_type": "stream",
     "text": [
      "一 种 控 制 软 件 体 系 结 构 复 杂 性 的 方 法\n",
      "利 用 c n 实 现 s a 复 杂 性 度 量 及 控 制 方 法 研 究\n",
      "SA作为软件系统的高层抽象及后续开发、测试、维护等阶段工作的依据,其复杂性对系统影响深远.依据CN及SA理论特点,提出了利用CN进行SA复杂性的度量及控制方法.论文首先介绍了复杂网络及无向无权网络方法,在此基础上,提出了通过构件的度、构件的度分布、SA簇系数、SA平均路径长度、SA模块度等度量属性进行SA复杂性的度量,并给出了SA复杂性控制方法及具体度量属性值的参考范围.最后,对给出的SA复杂性的度量方法及控制方法进行了实例验证.结果表明,该方法在严格的形式化基础上,可以较好地对所开发系统的SA复杂性的属性进行度量并进行控制,为系统后续开发及维护等阶段的工作提供支持和参考.\n",
      "\n"
     ]
    },
    {
     "name": "stderr",
     "output_type": "stream",
     "text": [
      "\r",
      " 81%|████████  | 809/1000 [05:43<01:27,  2.18it/s]"
     ]
    },
    {
     "name": "stdout",
     "output_type": "stream",
     "text": [
      "智 能 机 房 监 控 系 统 中 损 失 函 数 与 图 像 合 成 的 优 化\n",
      "基 于 多 尺 度 化 随 机 边 缘 信 息 融 合 算 法 的 智 能 机 房 监 控 方 案\n",
      "为了实时监控机房服务器的工作状态,提出了一种智能机房监控方案,其通过基于卷积网络的图像识别完成服务器以及指示灯状态的识别与监控.针对目标识别中样本类别失衡会导致训练模型不收敛的问题,设计了一种自动调控样本类别失衡的损失函数及参数更新算法,用于平衡难易样本的训练,在VOC2007数据集上的测试精度为78.3%,好于YOLOv2等先进算法.为了减少训练数据采集所需要的成本,提出了一种基于多尺度化随机边缘信息融合算法的图像合成方法,使合成图片更加注重边缘信息,在Cityscapes数据集测试的像素精度为71%,较大程度超过pix2pix等方法,证明其可以大大降低图像采集成本.\n",
      "\n"
     ]
    },
    {
     "name": "stderr",
     "output_type": "stream",
     "text": [
      "\r",
      " 81%|████████  | 810/1000 [05:43<01:26,  2.19it/s]"
     ]
    },
    {
     "name": "stdout",
     "output_type": "stream",
     "text": [
      "基 于 a l d   a l 2 o 3 新 型 反 熔 丝 器 件 的 可 靠 性 研 究\n",
      "基 于 f p g a 的 精 确 反 熔 丝 器 件 设 计\n",
      "金属-绝缘体-金属（Metal-Insulator-Metal,MIM）反熔丝器件常被用于现场可编程逻辑阵列（Field Programmable Gate Array,FPGA）的互联结构单元.本文使用高介电常数材料Al2O3作为介质层,使用原子层沉积（Atomic Layer Deposition,ALD）技术,制备了高可靠性,高性能的MIM反熔丝单元.该反熔丝单元关态电阻超过1TΩ,同时开态电阻非常低,满足正态分布,集中在22Ω左右,波动幅度很小,标准差仅为3.7Ω,因此Al2O3反熔丝器件具有很高的开关比.本文研究了该器件编程前后两种状态的特性及时变击穿特性（Time Dependent Dielectric Breakdown,TDDB）.研究结果表明,在2V工作电压下,未编程的反熔丝单元的预测寿命为1591年,同时,当读电流在0～20mA时,编程后的反熔丝保持稳定.这说明该反熔丝单元在低阻态和高阻态都具有非常高的可靠性.\n",
      "\n"
     ]
    },
    {
     "name": "stderr",
     "output_type": "stream",
     "text": [
      "\r",
      " 81%|████████  | 811/1000 [05:43<01:20,  2.35it/s]"
     ]
    },
    {
     "name": "stdout",
     "output_type": "stream",
     "text": [
      "基 于 强 化 学 习 的 参 数 化 电 路 优 化 算 法\n",
      "基 于 强 化 学 习 的 参 数 化 形 式 优 化 问 题 研 究\n",
      "本文主要致力于解决参数化形式的优化问题,即minθf(θ,w),其中θ是需要优化的变量,w则是对应不同优化问题的参数,在现实中经常会遇到需要解决一系列不同参数下的优化问题.在对某种特定结构的问题下,通过对不同的参数训练一个模型来解决所有参数下的优化问题.和传统的方法不一样,并不是通过对不同的参数多次独立抽样来训练我们的模型,而是利用强化学习的方法加速训练过程.强化学习算法中分别用策略网络来得到优化结果和利用价值网络来评价策略好坏,通过迭代地训练两个网络来优化策略.在后面一些数学例子和电路优化的例子中显示强化学习的方法取得了比较好的效果.\n",
      "\n"
     ]
    },
    {
     "name": "stderr",
     "output_type": "stream",
     "text": [
      "\r",
      " 81%|████████  | 812/1000 [05:44<01:20,  2.34it/s]"
     ]
    },
    {
     "name": "stdout",
     "output_type": "stream",
     "text": [
      "一 种 面 向 多 核 d s p 并 行 编 译 的 设 计 与 实 现\n",
      "面 向 多 核 d s p 的 并 行 编 译 器 设 计 与 实 现\n",
      "OpenMP支持并行递增开发,已成为目前用于共享内存系统上的一套事实主流并行编程标准.为了在多核DSP上实现对OpenMP的支持,设计了一个对OpenMP程序面向多核DSP的并行编译器,主要工作成果包括翻译器和运行时两部分,翻译器将源文件中的OpenMP指令转换为运行时中的函数调用,运行时提供具体实现.如何设计并行策略将计算任务分配在各个核上是并行编译的核心问题,对应在OpenMP标准中为并行域的概念.编译器通过对并行指令的变换及运行时的支持,实现了主从核的并行执行,对并行编译器的设计具有指导意义.\n",
      "\n"
     ]
    },
    {
     "name": "stderr",
     "output_type": "stream",
     "text": [
      "\r",
      " 81%|████████▏ | 813/1000 [05:44<01:24,  2.20it/s]"
     ]
    },
    {
     "name": "stdout",
     "output_type": "stream",
     "text": [
      "神 经 网 络 和 自 适 应 差 分 进 化 在 云 计 算 的 应 用 研 究\n",
      "基 于 神 经 网 络 和 自 适 应 差 分 进 化 算 法 的 负 荷 预 测 模 型\n",
      "近年来,云计算的出现极大地改变了现有的计算方法.尽管云计算有诸多优点,但同样面临着一些挑战.云计算面临的主要挑战包括动态资源缩放和功耗,这些因素导致云系统变得低效且昂贵.工作载荷预测是云效率和运行成本得以改善的变量之一.准确性是工作载荷预测的关键组成部分.在前人研究的基础上,本文提出了一种基于神经网络和自适应差分进化算法的负荷预测模型,该模型能够学习最优的变异策略以及最优交叉率.最终,和反向传播学习算法模型的预测结果进行比较,证明了所提模型的有效性.\n",
      "\n"
     ]
    },
    {
     "name": "stderr",
     "output_type": "stream",
     "text": [
      "\r",
      " 81%|████████▏ | 814/1000 [05:45<01:20,  2.31it/s]"
     ]
    },
    {
     "name": "stdout",
     "output_type": "stream",
     "text": [
      "一 种 基 于 颜 色 结 构 光 的 投 影 仪 摄 像 头 触 摸 板 人 机 交 互 系 统\n",
      "一 种 投 影 触 摸 板 人 机 交 互 系 统 设 计\n",
      "本文提出了一种只用投影仪和单摄像头搭建的投影触摸板人机交互系统.本人机交互系统是利用投影仪摄像头系统对手指的运动进行捕捉,可以使任何平面变成触摸板.本文分析了系统测量三维坐标的误差,通过优化标定提高了测量精度.为了解决手指触碰的高度和位置的精准度问题,基于建立的手指模型利用颜色结构光来实时获取手指三维信息和寻找触碰点,并且利用卡尔曼滤波优化手指触碰后手指的运动轨迹,提高了手指触碰的精度在2mm以下99%准确率,触碰后的位置精度达到1个像素点,利用投影仪-摄像头系统实现了触摸板的功能和应用.\n",
      "\n"
     ]
    },
    {
     "name": "stderr",
     "output_type": "stream",
     "text": [
      "\r",
      " 82%|████████▏ | 815/1000 [05:45<01:10,  2.62it/s]"
     ]
    },
    {
     "name": "stdout",
     "output_type": "stream",
     "text": [
      "基 于 预 测 的 l b s n 兴 趣 点 推 荐 算 法\n",
      "基 于 预 测 的 兴 趣 点 推 荐 算 法\n",
      "兴趣点(Point-Of-Interest,POI)推荐是基于位置的社交网络中(Location-Based Social Networks,LBSN)一种重要的个性化推荐功能.本文提出基于预测的兴趣点推荐算法.该算法根据LBSN中用户历史POI数据分布学习用户出行行为,利用变阶的马尔科夫算法根据当前位置预测用户未来到达POI的语义信息,最终推荐时考虑用户签到次数的差异为用户推荐N个具有高兴趣度的POI.实验结果表明:本文提出的算法在准确率和召回率上均高于两个对比算法,说明该算法提高了兴趣点推荐效果,并可以有效的推荐给用户下一个访问的兴趣点.\n",
      "\n"
     ]
    },
    {
     "name": "stderr",
     "output_type": "stream",
     "text": [
      "\r",
      " 82%|████████▏ | 816/1000 [05:46<01:13,  2.52it/s]"
     ]
    },
    {
     "name": "stdout",
     "output_type": "stream",
     "text": [
      "基 于 随 机 森 林 分 类 优 化 的 多 特 征 语 音 情 感 识 别\n",
      "基 于 差 分 进 化 加 权 优 化 的 随 机 森 林 分 类\n",
      "语音情感识别是人机交互的研究热点之一.针对传统随机森林模型(RF)中决策树不分优劣具有同样决策权的不合理性,提出一种差分进化加权优化的随机森林分类模型(DERF).RF中样本的选择及每个节点变量的产生都是随机的,因此每次分类结果会有微小波动.为提高系统分类稳定性及识别准确率,集成构建三个相同的DERF分类器,按照多数投票原则确定最终决策结果.实验中融合语音的时域特征、频域特征、听觉语谱图特征及非线性hurst参数特征,分别选取柏林数据库和CASIA中文库中的五种情感进行识别,结果表明,本文所提方法有效提高了系统识别性能.\n",
      "\n"
     ]
    },
    {
     "name": "stderr",
     "output_type": "stream",
     "text": [
      "\r",
      " 82%|████████▏ | 817/1000 [05:46<01:08,  2.68it/s]"
     ]
    },
    {
     "name": "stdout",
     "output_type": "stream",
     "text": [
      "基 于 量 子 密 钥 分 发 系 统 的 t c p / i p 模 块 实 现\n",
      "一 种 硬 件 的 t c p / i p 协 议 处 理 结 构\n",
      "量子保密通信设备集成化是目前的趋势,而量子密钥分发系统是其中的关键.本文针对该系统中对安全性和系统性能的需求,提出了一种基于硬件的TCP/IP协议处理结构.该结构采用数字电路设计方法,实现了TCP/IP协议中网络层和传输层的相关功能,并通过AHB接口集成到系统芯片中.该结构作为独立的网络数据处理模块能够减轻CPU的计算负担,同时设置该模块以自定义端口方式工作,将量子域与经典网络隔离,降低密钥泄露风险.测试结果显示该结构可达到450Mbps的数据吞吐率,能够满足量子密钥分发中网络带宽的需求.\n",
      "\n"
     ]
    },
    {
     "name": "stderr",
     "output_type": "stream",
     "text": [
      "\r",
      " 82%|████████▏ | 818/1000 [05:46<01:07,  2.69it/s]"
     ]
    },
    {
     "name": "stdout",
     "output_type": "stream",
     "text": [
      "基 于 反 向 传 播 的 电 路 优 化 与 模 型 参 数 提 取 方 法\n",
      "基 于 梯 度 下 降 算 法 的 电 路 仿 真 工 具\n",
      "传统的电路优化和模型参数提取方法假定仿真器为黑盒子,通过修改参数或者优化变量得到仿真结果,并用迭代的方式进行优化或模型参数提取.由于仿真器并未提供梯度信息,因此只能采用不依赖于梯度的优化方法,限制了优化和参数提取的性能.本文介绍了一种开源的电路仿真工具,通过在给出仿真结果的同时计算出指定函数对指定参数的梯度,为基于梯度的优化算法在电路参数提取、电路优化等领域的应用提供了便利.使用该工具实现的梯度下降算法在电感模型和变压器模型参数提取问题上的实验表现显著优于模拟退火等非梯度方法和同一算法不使用其梯度的实现的版本.实验结果证明,本文提出的方法在电路优化和模型参数提取问题上的性能有很好的改进作用.\n",
      "\n"
     ]
    },
    {
     "name": "stderr",
     "output_type": "stream",
     "text": [
      "\r",
      " 82%|████████▏ | 819/1000 [05:47<01:13,  2.47it/s]"
     ]
    },
    {
     "name": "stdout",
     "output_type": "stream",
     "text": [
      "4 g s / s - 1 2 b i t   a d c 内 置 数 字 下 变 频 器 ( d d c ) 的 a s i c 实 现\n",
      "一 种 新 的 数 字 下 变 频 器 ( d d c ) 的 设 计 方 法\n",
      "本文提出了一种适合ASIC实现的可编程的数字下变频器(DDC)设计方法,该DDC嵌入于4GS/s-12bit ADC中,能够处理频率为4GHz的输入信号,并提供抽取因子分别为4、8、16、32的降采样功能.设计的DDC由一个基于CORDIC算法实现的数控振荡器(NCO)和一个全半带滤波器(HB-FIR)级联结构的抽取滤波器组组成.优化半带滤波器系数和各级数据精度,提出多种改进结构优化设计,有效减少硬件开销.基于40nm CMOS工艺,完成数字下变频器的前端设计和后端实现,并进行了流片.仿真结果显示,该设计可以在500 MHz的工作时钟频率下达到设计目标,抽取因子为4模式下,最大无衰减通带带宽可达420MHz,版图面积1550*650μm2,0.9V工作电压,功耗为180.69mW.验证了该设计方法适合于高速高精度数字信号的2n下变频.\n",
      "\n"
     ]
    },
    {
     "name": "stderr",
     "output_type": "stream",
     "text": [
      "\r",
      " 82%|████████▏ | 820/1000 [05:47<01:13,  2.45it/s]"
     ]
    },
    {
     "name": "stdout",
     "output_type": "stream",
     "text": [
      "基 于 级 联 结 构 的 低 抖 动 小 数 分 频 频 率 综 合 器 研 究\n",
      "基 于 双 锁 相 环 级 联 的 抖 动 消 除 技 术\n",
      "为了更好的抑制由差分积分调制器(DSM,Delta-sigma modulator)引起的量化噪声、降低小数分频时钟源的时钟抖动,本文提出了一种基于双锁相环级联的抖动消除技术.通过前级整数分频锁相环的倍频提升后级小数分频锁相环DSM的工作频率,抑制系统的量化噪声;针对后级参考频率过高,引发相差转化困难的问题,本文提出一种新型的高速电荷泵,在不增加功耗的前提下更好地实现电流的动态匹配.基于180nm CMOS工艺完成级联系统设计,仿真结果显示系统输出频率范围为3～4G,抖动为137fs,功耗为47.7mW.\n",
      "\n"
     ]
    },
    {
     "name": "stderr",
     "output_type": "stream",
     "text": [
      "\r",
      " 82%|████████▏ | 821/1000 [05:48<01:13,  2.43it/s]"
     ]
    },
    {
     "name": "stdout",
     "output_type": "stream",
     "text": [
      "一 种 多 d s p 核 s o c 系 统 的 f l a s h 引 导 控 制\n",
      "多 核 s o c 系 统 f l a s h 引 导 过 程 的 验 证 及 验 证\n",
      "介绍了一种内含多个DSP的SoC系统,并对SoC中的FLASH引导过程进行分析;由于大规模SoC系统中内部嵌入多个DSP以及SoC系统本身内部存储程序的空间有限,且每次上电后用户加载的程序会丢失,需要每次重新加载烧写.而借助于SoC系统中的多个DSP核的引导功能,通过EMIF接口每次自动加载外接于SoC系统的FLASH存储器里的程序,实现上电后SoC系统自动运行用户程序.介绍了该多核SoC系统的相关boot功能的软硬件配置设计及引导控制程序,并对引导过程进行分析以及对多DSP核SoC系统的boot功能进行了仿真验证及测试.结果表明该多核SoC系统能够快速、准确地对FLASH程序进行引导和搬移;是一种有效的和可行的多核SoC系统引导方法.\n",
      "\n"
     ]
    },
    {
     "name": "stderr",
     "output_type": "stream",
     "text": [
      "\r",
      " 82%|████████▏ | 822/1000 [05:48<01:08,  2.61it/s]"
     ]
    },
    {
     "name": "stdout",
     "output_type": "stream",
     "text": [
      "一 种 分 数 阶 压 控 忆 容 器 模 型 及 其 电 气 特 性 分 析\n",
      "分 数 阶 压 控 忆 容 器 的 特 性 研 究\n",
      "忆容器是具有记忆功能的非线性电容.近年来,研究人员已经提出了一些整数阶忆容器模型,并分析了整数阶忆容器模型在不同类型信号激励下的响应特性,而分数阶忆容器的研究还比较少.在分析了现有整数阶忆容器模型的基础上提出了一种分数阶压控忆容器模型,并对该分数阶忆容器模型在正弦信号激励下的响应进行了实验分析,结果表明该模型能够正确地模拟忆容器的特性.分数阶阶次和非线性窗函数中的控制参数对分数阶忆容器电气特性的影响规律也得到了分析和总结,这些结果对忆容器的应用具有一定的参考价值.\n",
      "\n"
     ]
    },
    {
     "name": "stderr",
     "output_type": "stream",
     "text": [
      "\r",
      " 82%|████████▏ | 823/1000 [05:48<01:13,  2.42it/s]"
     ]
    },
    {
     "name": "stdout",
     "output_type": "stream",
     "text": [
      "一 种 具 有 野 值 预 剔 除 的 t t e 时 钟 补 偿 算 法\n",
      "时 间 触 发 以 太 网 中 同 步 时 钟 补 偿 算 法 研 究\n",
      "时间触发以太网(Time-triggered Ethernet,TTE)通过精确的时间调度,保证了通信数据的实时性传输,在很多实时性要求高的数据传输领域中脱颖而出.分析TTE同步特性,工程中可通过最小二乘时钟补偿算法对同步主节点的本地时钟进行补偿,提高确定性和实时性.然而同步主节点本地时钟易受外界环境影响产生野值,影响到最小二乘时钟补偿算法的适用性.因此,本文提出一种具有野值预剔除的时钟补偿算法来提高系统的实时性.即首先利用拉依达准则(Pauta criterion)对最小二乘敏感的本地时钟野值进行预先剔除,然后利用最小二乘法对本地时钟补偿值进行估计,最后根据估计的时钟补偿值对本地的时钟进行补偿.仿真结果表明本文提出的方法解决了TTE时钟补偿中同步主节点出现本地野值的问题,结果证实在野值比例不大于10%的情况下,所提出的算法时钟同步精度可达到10-6秒级,远远高于没有野值预剔除的最小二乘时钟补偿算法的10-3秒级的精度.\n",
      "\n"
     ]
    },
    {
     "name": "stderr",
     "output_type": "stream",
     "text": [
      "\r",
      " 82%|████████▏ | 824/1000 [05:49<01:16,  2.29it/s]"
     ]
    },
    {
     "name": "stdout",
     "output_type": "stream",
     "text": [
      "l o d 效 应 和 w p e 效 应 在 纳 米 工 艺 p d k 中 的 应 用\n",
      "纳 米 工 艺 p d k 中 l o d 效 应 和 w p e 效 应 的 研 究\n",
      "本文研究了自主开发的40nm工艺PDK中的LOD效应和WPE效应.LOD参数SA和WPE参数left影响CMOS器件特性,尤其饱和电流Idsat和阈值电压VTH.随着SA减小,NMOS的Idsat减小4.25%而VTH增大2.79%;PMOS的电参数与SA关系曲线与NMOS的一致,但比NMOS趋势要强,Idsat减小8.32%而VTH增大6.78%;并解释了LOD效应的物理机制.随着left的减小,NMOS的Idsat减小9.03%而VTH增大12.5%;PMOS的电参数与left关系曲线比NMOS的要弱,Idsat减小8.50%而VTH增大4.61%,并提出了WPE效应下器件电参数变化原因.在纳米工艺PDK中,LOD效应和WPE效应的准确应用可以更好地模拟器件性能并改善电路设计精度.\n",
      "\n"
     ]
    },
    {
     "name": "stderr",
     "output_type": "stream",
     "text": [
      "\r",
      " 82%|████████▎ | 825/1000 [05:49<01:13,  2.39it/s]"
     ]
    },
    {
     "name": "stdout",
     "output_type": "stream",
     "text": [
      "基 于 自 适 应 动 态 改 变 的 粒 子 群 优 化 算 法\n",
      "基 于 自 适 应 动 态 自 适 应 的 粒 子 群 优 化 算 法\n",
      "粒子群算法在处理优化问题时缺乏有效的参数控制,易陷入局部最优,导致收敛精度低.提出一种新的改进粒子群优化算法,算法根据粒子的适应度值动态自适应地调整算法中惯性权重和学习因子的取值,其中惯性权重采用非线性指数递减,有利于平衡算法的全局搜索与局部搜索能力,避免算法陷入局部极值;学习因子采用异步变化的策略,以增强算法的学习能力,进而提高算法的性能.数值实验结果表明,与SPSO、PSO-DAC算法相比较,改进后的算法无论在收敛速度、稳定性以及收敛精度上都有显著提高.\n",
      "\n"
     ]
    },
    {
     "name": "stderr",
     "output_type": "stream",
     "text": [
      "\r",
      " 83%|████████▎ | 826/1000 [05:49<01:07,  2.58it/s]"
     ]
    },
    {
     "name": "stdout",
     "output_type": "stream",
     "text": [
      "自 适 应 果 蝇 优 化 算 法 在 w s n 节 点 覆 盖 优 化 中 的 应 用\n",
      "基 于 改 进 的 w s n 果 蝇 优 化 算 法\n",
      "为了解决无线传感器网络(WSN)的覆盖优化问题,提出了一种自适应果蝇优化算法.该算法在原迭代步长算子的基础上增加了自适应能力,并针对后期最优解连续几代没有变化的情况,提出了利用降维、增大步长的方法来提高收敛精度,使算法在具有很强的全局优化性能的同时又不易陷入局部最优,可以快速并高效的实现WSN网络节点布局优化,得到更高的网络覆盖率.通过仿真实验对比,可以看出本文提出的自适应果蝇优化算法,在寻优性能方面不仅优于原始的果蝇算法,与其他的改进算法相比也有一定的优势.\n",
      "\n"
     ]
    },
    {
     "name": "stderr",
     "output_type": "stream",
     "text": [
      "\r",
      " 83%|████████▎ | 827/1000 [05:50<01:08,  2.52it/s]"
     ]
    },
    {
     "name": "stdout",
     "output_type": "stream",
     "text": [
      "基 于 以 太 网 1 0 g b a s e - r 协 议 的 p c s 层 设 计\n",
      "基 于 1 0 g b a s e - r 协 议 的 p c s 层 设 计 与 实 现\n",
      "随着网络技术的飞速发展,以太网技术凭借其优良特性已经成为当今使用最广泛的局域网技术,以太网标准包含多种协议构成完整体系,10Gbase-R协议作为其中重要的基础协议得到重视.本文基于10Gbase-R协议的PCS层,深入探究PCS层内部关键模块:弹性缓冲器、64B/66B编解码器、加解扰码器、位宽转换器等,提出完整设计架构,使用verilog语言完成其RTL级模块设计,搭建仿真验证平台,使用Modelsim软件进行功能验证,完成了相关设计.\n",
      "\n"
     ]
    },
    {
     "name": "stderr",
     "output_type": "stream",
     "text": [
      "\r",
      " 83%|████████▎ | 828/1000 [05:50<01:07,  2.55it/s]"
     ]
    },
    {
     "name": "stdout",
     "output_type": "stream",
     "text": [
      "核 空 间 局 部 自 适 应 模 糊 c - 均 值 聚 类 图 像 分 割 算 法\n",
      "改 进 的 核 空 间 与 自 适 应 中 值 聚 类 算 法\n",
      "针对传统模糊C-均值聚类算法对在噪声干扰下图像的分割效果不理想问题,提出一种核空间与自适应中值滤波相结合的改进算法.算法利用自适应中值滤波获得像素的局部空间信息,并由此生成一种新的模糊因子加入到目标函数中,然后在核空间中对目标函数进行优化求解,得到最优聚类中心和隶属度.实验结果表明,该算法对被高椒盐噪声污染的图像具有较高的精度和鲁棒性.\n",
      "\n"
     ]
    },
    {
     "name": "stderr",
     "output_type": "stream",
     "text": [
      "\r",
      " 83%|████████▎ | 829/1000 [05:51<01:02,  2.73it/s]"
     ]
    },
    {
     "name": "stdout",
     "output_type": "stream",
     "text": [
      "s o c 嵌 入 式 数 字 i p 核 通 用 测 试 方 法\n",
      "一 种 通 用 的 数 字 i p 核 测 试 方 法\n",
      "本文基于IEEE标准设计了一种通用的、低成本的嵌入式IP核测试方法.该方法通过仅重新定义待测IP的端口数量和名称,即可完成各种数字IP核测试电路设计以及集成,该方法支持IEEE1500标准中的所定义的全部11条通用指令所对应的工作模式,以此来提供丰富的IP核测试控制以及观测模式;测试软件兼容符合IEEE1687的测试数据,可做到无需修改测试图形文件即可自动完成测试、提取诊断信息.为了验证本方法的有效性,我们在FPGA上实现并测试了多种异构IP核和大量的同构IP核,在整个测试过程中,该测试方法在保证支持国际主流测试标准、具有较高的测试自动化程度的同时,利用其通用性简化了数字IP核的测试集成和复用过程.\n",
      "\n"
     ]
    },
    {
     "name": "stderr",
     "output_type": "stream",
     "text": [
      "\r",
      " 83%|████████▎ | 830/1000 [05:51<01:08,  2.50it/s]"
     ]
    },
    {
     "name": "stdout",
     "output_type": "stream",
     "text": [
      "面 向 f c - 以 太 网 融 合 网 络 的 嵌 入 式 网 关 设 计\n",
      "面 向 f c - 以 太 网 融 合 网 络 的 嵌 入 式 网 关 设 计\n",
      "为了降低网络维护成本和统一网络架构,实现面向FC的多协议融合型网络.本文给出IP over FC网关的设计方案和实现方法,详细介绍基于FPGA的嵌入式网关其系统架构和数据处理流程.同时对千兆以太网与FC之间帧格式的转换与地址映射进行仿真分析,并结合某型号航天器具体应用场景完成前期工程验证.结果表明,嵌入式IP over FC网关能够高效实现数据帧的解析与路由,协议转换最小时延为25μs,完好地实现FC与千兆以太网的无缝衔接与协议转换.\n",
      "\n"
     ]
    },
    {
     "name": "stderr",
     "output_type": "stream",
     "text": [
      "\r",
      " 83%|████████▎ | 831/1000 [05:52<01:10,  2.41it/s]"
     ]
    },
    {
     "name": "stdout",
     "output_type": "stream",
     "text": [
      "一 种 基 于 能 耗 均 衡 的 非 均 匀 分 簇 路 由 算 法\n",
      "能 耗 均 衡 的 非 均 匀 分 簇 路 由 算 法\n",
      "针对在一些链状结构拓扑应用中,传统WSNs路由存在严重的能耗不均衡问题.提出了一种能耗均衡的非均匀分簇路由算法.在簇首选举阶段,提出了一种基于定时器的选举方法,在全局网络中每个节点根据相对剩余能量和与汇聚节点的距离设置竞争簇首的时间,时间越小成功竞选概率越大;在成簇阶段,节点根据保存的簇首信息,选择加入距离最近且通信半径更大的簇;在数据传输阶段,簇首以相对剩余能量和能量开销指标为参数构建基于最小生成树的最优多跳路径.仿真结果表明,与已有的分簇路由协议LEACH、DEEC和EEUC相比,所提算法更能有效均地衡能量消耗,延长网络生命周期.\n",
      "\n"
     ]
    },
    {
     "name": "stderr",
     "output_type": "stream",
     "text": [
      "\r",
      " 83%|████████▎ | 832/1000 [05:52<01:14,  2.26it/s]"
     ]
    },
    {
     "name": "stdout",
     "output_type": "stream",
     "text": [
      "一 种 具 有 路 径 多 样 性 的 自 适 应 3 d n o c 路 由 算 法\n",
      "一 种 基 于 多 特 征 的 三 维 片 上 网 络 自 适 应 路 由 算 法\n",
      "针对当前三维片上网络(3DNoC)路由算法中路径单一且不能适应性调节负载而引起的网络性能受限的问题,本文提出一种具有路径多样性特征的自适应路由算法.首先,对现有的路由算法进行分析,总结出最优路由路径范围并对路由策略进行建模,使得数据包能够以最短路径路由到目的IP.随后,对三维片上网络路由器的负载进行分析,得到不同位置路由器负载的规律.最后根据路由器负载态势对路由策略模型进行优化,使网络在路径多样化条件下降低网络拥塞.实验结果表明,在各种网络负载情况下时,该算法大幅提高吐量,并能降低数据包延时.随着网络负载的提高,该算法依然具有优势.\n",
      "\n"
     ]
    },
    {
     "name": "stderr",
     "output_type": "stream",
     "text": [
      "\r",
      " 83%|████████▎ | 833/1000 [05:52<01:08,  2.45it/s]"
     ]
    },
    {
     "name": "stdout",
     "output_type": "stream",
     "text": [
      "基 于 区 域 密 度 划 分 的 车 辆 轨 迹 数 据 分 析 方 法 研 究\n",
      "基 于 s p a r k 的 车 辆 轨 迹 数 据 挖 掘 方 法 研 究\n",
      "车联网是目前世界交通领域的一个热点.车联网可以通过实时处理和挖掘这些数据中的新信息而变得更加智能化.随着车联网的发展,从设备监控中采集到的海量数据需要更高的数据存储和查询性能.本文将Apache Spark作为基于HDFS高可用集群的统一集群计算平台,提出并设计了一种基于Spark的车辆轨迹数据分析方法,通过区域划分对海量数据进行了挖掘,解决道路堵塞问题,对辅助城市路径规划有一定的研究意义.\n",
      "\n"
     ]
    },
    {
     "name": "stderr",
     "output_type": "stream",
     "text": [
      "\r",
      " 83%|████████▎ | 834/1000 [05:53<00:59,  2.77it/s]"
     ]
    },
    {
     "name": "stdout",
     "output_type": "stream",
     "text": [
      "一 种 高 效 的 视 频 背 景 提 取 方 法\n",
      "一 种 高 效 的 视 频 背 景 提 取 方 法\n",
      "针对现有背景提取算法中存在鬼影等使得背景提取不清晰等问题,提出了一种高效的背景提取算法,根据每相邻两视频帧之间的同一像素点位置的灰度值变化情况,判断出每一像素点在不同视频帧中属于前景或背景,最后剔除掉每一位置像素点属于前景的序列,得到完全属于背景的部分帧,最后得到完整的背景图像.实验结果表明,该算法原理简单,提取的背景清晰,效果优于其他现有的背景提取算法.\n",
      "\n"
     ]
    },
    {
     "name": "stderr",
     "output_type": "stream",
     "text": [
      "\r",
      " 84%|████████▎ | 835/1000 [05:53<01:01,  2.70it/s]"
     ]
    },
    {
     "name": "stdout",
     "output_type": "stream",
     "text": [
      "一 种 新 型 自 调 节 步 长 果 蝇 优 化 算 法\n",
      "一 种 基 于 迭 代 果 蝇 算 法 的 改 进 与 仿 真\n",
      "为了解决传统果蝇算法在全局优化过程中存在的问题,将传统果蝇算法的步长进行改进,该算法在寻优过程中用当前迭代果蝇群中最佳浓度值与最差浓度值之差与前一次迭代果蝇群中最佳浓度值与最差浓度值之差作对比,得到浓度差值变化率.根据浓度差值变化率的大小相对应动态改变果蝇寻优步长,能够有效的权衡全局寻优能力和局部探索能力.本文改良的果蝇算法在收敛速率和寻优精度上明显优异于其他三种果蝇算法.\n",
      "\n"
     ]
    },
    {
     "name": "stderr",
     "output_type": "stream",
     "text": [
      "\r",
      " 84%|████████▎ | 836/1000 [05:53<01:00,  2.72it/s]"
     ]
    },
    {
     "name": "stdout",
     "output_type": "stream",
     "text": [
      "基 于 分 组 模 块 的 卷 积 神 经 网 络 设 计\n",
      "基 于 分 组 模 块 卷 积 结 构 的 c n n 与 c n n\n",
      "本文提出了一种基于分组模块的卷积结构,先将输出特征图分成数量相等的两组,每一组采用不同的卷积核进行操作以提取更充分的信息,而后将分组得到的多样性特征图像进行级联,最后通过1*1的卷积核将所有特征图整合.与传统的CNN比较,使用本文模块的网络在数据集Caltech256上将识别率由50.1%提升至52.2%.在数据集101＿food上将识别精度由66.3%提升至68.9%.实验结果表明网络在识别精度性能上有所提升.\n",
      "\n"
     ]
    },
    {
     "name": "stderr",
     "output_type": "stream",
     "text": [
      "\r",
      " 84%|████████▎ | 837/1000 [05:54<01:03,  2.56it/s]"
     ]
    },
    {
     "name": "stdout",
     "output_type": "stream",
     "text": [
      "基 于 a m b a 的 a h b 总 线 矩 阵 设 计\n",
      "一 种 具 有 主 从 设 备 的 a l b 总 线 矩 阵 设 计\n",
      "本文设计了一种能够兼容AMBA主从设备的AHB总线矩阵,旨在实现多个主设备并行访问多个从设备,并且提高带宽,减少多路主机访问从机时产生的延迟.对主体架构和微架构进行描述,详述了各模块的设计思路,并通过Verilog HDL对所设计的总线系统进行了RTL行为级描述,并通过参数化设计,实现从机地址和总线支持主从机数量可配.最后搭建测试环境,对所设计的总线系统基本功能进行测试,证明8组主设备输入的情况下,在多主设备交叉访问多从设备的测试条件下,相比于传统AHB总线,AHB总线矩阵最多可减少3倍总线访问延迟、增加8.5倍总线吞吐量.\n",
      "\n"
     ]
    },
    {
     "name": "stderr",
     "output_type": "stream",
     "text": [
      "\r",
      " 84%|████████▍ | 838/1000 [05:54<01:00,  2.67it/s]"
     ]
    },
    {
     "name": "stdout",
     "output_type": "stream",
     "text": [
      "车 载 边 缘 计 算 环 境 中 的 任 务 卸 载 决 策 和 优 化\n",
      "一 种 用 于 车 载 云 计 算 的 计 算 切 换 策 略\n",
      "车载云计算卸载存在高网络延迟、核心网负载严重等问题,本文提出了一种计算切换策略来降低车载边缘计算环境下的任务完成时间.基于Matlab R2016a平台对最小执行时间算法和最小完成时间算法进行了2组仿真实验,结果表明:通过本文提出的计算切换策略能改良任务卸载效率,缩短任务的完成时间.\n",
      "\n"
     ]
    },
    {
     "name": "stderr",
     "output_type": "stream",
     "text": [
      "\r",
      " 84%|████████▍ | 839/1000 [05:54<00:59,  2.73it/s]"
     ]
    },
    {
     "name": "stdout",
     "output_type": "stream",
     "text": [
      "基 于 随 机 森 林 的 硬 件 木 马 检 测 方 法\n",
      "基 于 随 机 森 林 的 硬 件 木 马 分 类 方 法\n",
      "针对BP神经网络和SVM这两种机器学习算法中存在参数选择困难和时间开销较大的问题,本文提出了一种基于随机森林的硬件木马分类方法.首先,将硬件木马检测转化为二元分类问题,对芯片的能量消耗进行多次采样,再通过PCA对功耗曲线进行特征提取,最后利用随机森林分类模型对特征向量进行分类,达到检测硬件木马芯片的目的.实验结果表明,经PCA处理的相同硬件木马数据,随机森林的判别准确率与BP神经网络相比提高了9.13%,与SVM方法相比判别准确率提高了15.96%.而相比其他两种方法,时间开销也降低了8倍左右.\n",
      "\n"
     ]
    },
    {
     "name": "stderr",
     "output_type": "stream",
     "text": [
      "\r",
      " 84%|████████▍ | 840/1000 [05:55<00:57,  2.78it/s]"
     ]
    },
    {
     "name": "stdout",
     "output_type": "stream",
     "text": [
      "基 于 时 空 信 息 的 时 序 动 作 检 测 方 法 研 究\n",
      "一 种 基 于 深 度 时 空 信 息 的 动 作 状 态 检 测 方 法\n",
      "本文提出了一个深度时空信息网络.加入了反映动作时空信息的光流来获取时序信息,通过3D卷积网络检测结果,得到视频中动作发生的候选区域及其动作分类.在此基础上,本文通过构建动作状态检测网络,对得到的候选区域进行修补,从而可以得到更为精确的动作发生的时间区域.实验结果表明,相对于现有的方法,本文的方法有效地提高了时序动作区域的定位精度.\n",
      "\n"
     ]
    },
    {
     "name": "stderr",
     "output_type": "stream",
     "text": [
      "\r",
      " 84%|████████▍ | 841/1000 [05:55<00:54,  2.91it/s]"
     ]
    },
    {
     "name": "stdout",
     "output_type": "stream",
     "text": [
      "一 种 新 型 存 储 器 测 试 辅 助 分 析 方 法\n",
      "一 种 面 向 存 储 器 测 试 的 辅 助 分 析 方 法\n",
      "为了解决存储器测试数据映射到失效存储单元效率较低且精确度不够的问题,本文提出一种存储器测试辅助分析的方法:首先通过修改存储器编译器(memory compiler),使其自动生成存储阵列版图的物理坐标文件(bitmap).然后将测试得到的存储单元的失效信息在已生成的坐标文件中进行寻址,找出被测试失效单元位于版图中的具体物理坐标.最后通过得到的坐标信息自动输出该失效存储单元的译码信息及该存储单元位于整个存储阵列中的物理坐标二维图像.\n",
      "\n"
     ]
    },
    {
     "name": "stderr",
     "output_type": "stream",
     "text": [
      "\r",
      " 84%|████████▍ | 842/1000 [05:55<00:51,  3.08it/s]"
     ]
    },
    {
     "name": "stdout",
     "output_type": "stream",
     "text": [
      "基 于 数 据 融 合 分 析 的 网 络 监 控 系 统 框 架 构 建 与 关 键 技 术 研 究\n",
      "基 于 数 据 融 合 分 析 的 网 络 监 控 系 统 框 架 设 计\n",
      "针对增强复杂网络环境下监控预警能力的需要,研究构建了一种基于数据融合分析的网络监控系统框架,探讨了IP分组缓存管理、通联特征提取、目标关联识别、关系结构分析等关键技术,对网络流量实现整体监控、综合挖掘和融合利用,为网络监控技术手段的完善拓展提供方案借鉴.\n",
      "\n"
     ]
    },
    {
     "name": "stderr",
     "output_type": "stream",
     "text": [
      "\r",
      " 84%|████████▍ | 843/1000 [05:56<00:56,  2.76it/s]"
     ]
    },
    {
     "name": "stdout",
     "output_type": "stream",
     "text": [
      "云 服 务 环 境 下 的 大 数 据 多 标 签 属 性 分 类 技 术\n",
      "基 于 极 限 学 习 机 优 化 神 经 网 络 的 云 服 务 大 数 据 分 类\n",
      "云服务环境下的大数据具有多标签属性,导致数据访问过程中的分类性不好,为了降低大数据分类的误分率,提出一种基于极限学习机优化神经网络的云服务大数据分类方法。采用高维相空间重构模型对随机采样的云服务大数据先验特征进行信息重排,采用关联规则挖掘方法提取数据的标签属性特征量,采用多维标签属性的主成分分析方法进行大数据的主特征分析,将主特征量输入到神经网络分类器中,结合极限学习机进行神经网络分类的加权控制,提高数据分类的自适应性,实现云服务大数据优化分类。仿真结果表明,采用该算法进行云服务大数据分类的准确性较高,误分率较低,在云组合服务中提高了数据的召回能力.\n",
      "\n"
     ]
    },
    {
     "name": "stderr",
     "output_type": "stream",
     "text": [
      "\r",
      " 84%|████████▍ | 844/1000 [05:56<00:54,  2.84it/s]"
     ]
    },
    {
     "name": "stdout",
     "output_type": "stream",
     "text": [
      "基 于 改 进 损 失 函 数 的 y o l o v 3 网 络\n",
      "基 于 改 进 损 失 函 数 的 y o l o v 3 网 络\n",
      "为了提高卷积神经网络在目标检测的精度,本文提出了一种基于改进损失函数的YOLOv3网络.该网络模型应用一种新的损失函数Tan-Squared Error (TSE),将原有的平方和损失(Sum Squared Error, SSE)函数进行转化,能更好地计算连续变量的损失; TSE能有效减低Sigmoid函数梯度消失的影响,使模型收敛更加快速.在VOC数据集上的实验结果表明,与原网络模型的表现相比,利用TSE有效提高了检测精度,且收敛更加快速.\n",
      "\n"
     ]
    },
    {
     "name": "stderr",
     "output_type": "stream",
     "text": [
      "\r",
      " 84%|████████▍ | 845/1000 [05:56<00:51,  3.02it/s]"
     ]
    },
    {
     "name": "stdout",
     "output_type": "stream",
     "text": [
      "在 线 医 疗 问 答 文 本 的 命 名 实 体 识 别\n",
      "在 线 医 疗 文 本 命 名 实 体 识 别 的 研 究\n",
      "本文主要是对在线问诊中产生的医疗文本进行命名实体识别的研究.使用在线医疗问答网站的数据,采用{B, I, O}标注体系构建数据集,抽取疾病、治疗、检查和症状四个医疗实体.以BiLSTM-CRF为基准模型,提出两种深度学习模型IndRNN-CRF和IDCNN-BiLSTM-CRF,并在自构建数据集上验证模型的有效性.将新提出的两种模型与基准模型通过实验对比得出:模型IDCNN-BiLSTM-CRF的F1值0.8116,超过了BiLSTM-CRF的F1值0.8009, IDCNN-BiLSTM-CRF整体性能好于BiLSTM-CRF模型;模型IndRNN-CRF的精确率0.8427,但该模型在召回率上低于基准模型BiLSTM-CRF.\n",
      "\n"
     ]
    },
    {
     "name": "stderr",
     "output_type": "stream",
     "text": [
      "\r",
      " 85%|████████▍ | 846/1000 [05:57<01:03,  2.42it/s]"
     ]
    },
    {
     "name": "stdout",
     "output_type": "stream",
     "text": [
      "基 于 加 权 k - m e a n s 和 局 部 b p n n 的 票 房 预 测 模 型\n",
      "基 于 加 权 k - 均 值 和 局 部 b p 神 经 网 络 的 票 房 预 测 模 型\n",
      "电影作为典型的短周期、体验型产品,其票房收益受众多因素的共同影响,因此对其票房进行预测较为困难.本文主要构建了一种基于加权K-均值以及局部BP神经网络(BPNN)的票房预测模型对目前的票房预测模型存在的不足进行改进,从而提高票房预测的精度:(1)构建基于随机森林的影响因素影响力测量模型,并以此为依据对票房影响因素进行筛选,以此来简化后续预测模型的输入;(2)考虑到不同影响因素对票房的影响力不同的现实情况,为了解决以往研究中对影响因素权重平均分配的问题,本文构建了基于加权K-均值和局部BP神经网络的票房预测模型,以因素影响力为依据对样本数据进行加权的K-均值聚类,并基于子样本构建局部BP神经网络模型进行票房预测.实验证明,本文所构建的模型平均绝对百分比误差(MAPE)为8.49%,低于对比实验的10.39%,可以看出本文构建的基于加权K-均值以及局部BP神经网络的票房预测模型的预测结果要优于对比模型的预测结果.\n",
      "\n"
     ]
    },
    {
     "name": "stderr",
     "output_type": "stream",
     "text": [
      "\r",
      " 85%|████████▍ | 847/1000 [05:58<01:05,  2.35it/s]"
     ]
    },
    {
     "name": "stdout",
     "output_type": "stream",
     "text": [
      "基 于 d e 蝙 蝠 算 法 优 化 粒 子 滤 波 的 目 标 跟 踪\n",
      "基 于 差 分 进 化 蝙 蝠 算 法 的 粒 子 滤 波 改 进\n",
      "在目标跟踪领域,粒子滤波技术有处理非线性非高斯问题的优势,但是标准粒子滤波在利用重采样方法解决退化现象时,会产生粒子贫化问题,导致滤波精度不稳定.针对这种问题,本文算法采用了差分进化蝙蝠算法对粒子滤波进行改进.本文算法将粒子表征为蝙蝠个体,蝙蝠种群通过调节频率、响度、脉冲发射率,伴随当前最优蝙蝠个体在目标图像区域进行搜索,并且可以动态决策是采用全局搜索还是进行局部搜索,从而提高粒子整体的质量和合理的分布;引进的差分进化策略可以增强蝙蝠个体跳出局部最优的能力.为了验证本文算法的优化性能,将本文算法和标准粒子滤波算法进行性能分析对比.实验结果表明本文算法滤波性能优于标准粒子滤波算法.\n",
      "\n"
     ]
    },
    {
     "name": "stderr",
     "output_type": "stream",
     "text": [
      "\r",
      " 85%|████████▍ | 848/1000 [05:58<01:10,  2.14it/s]"
     ]
    },
    {
     "name": "stdout",
     "output_type": "stream",
     "text": [
      "g e o 卫 星 频 轨 选 取 风 险 柔 性 评 估 方 法 及 应 用\n",
      "基 于 模 糊 综 合 评 估 的 g e o 卫 星 频 轨 选 取 风 险 柔 性 评 估 方 法\n",
      "针对GEO卫星频轨选取风险评估面临的参评指标因基础数据条件不同而参差不齐、指标赋权因用户经验不同而存在差异的问题,提出了一种GEO卫星频轨选取风险的柔性评估方法.在模糊综合评估法的基础上,从指标计算映射、指标权重配置两个方面支持用户的柔性化配置.针对用户在指标计算映射和指标权重配置方面的差异化,分别提出了基于聚类分析和正态分布模型自主学习的柔性构建方法,融合用户的经验知识,形成大多数用户认可的指标计算映射关系和指标权重配置,使风险评估更加科学化、合理化.基于该柔性的风险评估方法,开发了B/S架构的柔性评估系统,并通过实例验证了算法和系统的有效性.\n",
      "\n"
     ]
    },
    {
     "name": "stderr",
     "output_type": "stream",
     "text": [
      "\r",
      " 85%|████████▍ | 849/1000 [05:59<01:07,  2.23it/s]"
     ]
    },
    {
     "name": "stdout",
     "output_type": "stream",
     "text": [
      "基 于 改 进 f a s t e r   r - c n n 的 l o g o 目 标 检 测 方 法\n",
      "基 于 改 进 f a s t e r   r - c n n 的 w e b 图 像 检 测 方 法\n",
      "社交网络的发展和经济全球化赋予了Logo巨大的商业价值,让Logo检测有很大的应用前景.而现实情况中Logo目标在图片中往往占据很小的一部分, Logo的低分辨率导致检测性能难以进一步提升.因此本文提出了一种基于改进Faster R-CNN的Logo检测方法.该方法在Faster R-CNN框架中结合了生成对抗模型,利用网络先将分辨率较低的Logo特征映射成高分辨率的表达能力更强的特征,再送入完全连接层进行分类和回归,从而提高检测的性能.本文在公开的Logo数据集上进行了实验结果评估,结果表明了本文提出的方法能有效地提高Logo物体检测的准确率的同时也没有因为结构的变化影响检测速度.\n",
      "\n"
     ]
    },
    {
     "name": "stderr",
     "output_type": "stream",
     "text": [
      "\r",
      " 85%|████████▌ | 850/1000 [05:59<01:11,  2.11it/s]"
     ]
    },
    {
     "name": "stdout",
     "output_type": "stream",
     "text": [
      "服 务 核 聚 变 研 究 领 域 的 集 群 系 统\n",
      "大 型 反 场 箍 缩 磁 约 束 聚 变 实 验 装 置 的 高 性 能 集 群 设 计\n",
      "在核聚变研究领域中,高性能集群的应用十分广泛.一方面需要借助集群进行高性能计算模拟托克马克中粒子的运动状态,另一方面需要存储大量十分珍贵的放电数据以作后续的数据分析.随着位于中国科学技术大学的大型反场箍缩磁约束聚变实验装置“Keda Torus eXperiment”(KTX)的建设取得重要进展, KTX实验室对于高性能计算以及实验数据存储具有高度的需求.因此,部署了一个高性能集群并对存储做出了安全设计.根据IOzone的测试, GPFS文件系统的冗余性机制发挥了作用,数据的读写性能很稳定.\n",
      "\n"
     ]
    },
    {
     "name": "stderr",
     "output_type": "stream",
     "text": [
      "\r",
      " 85%|████████▌ | 851/1000 [06:00<01:11,  2.08it/s]"
     ]
    },
    {
     "name": "stdout",
     "output_type": "stream",
     "text": [
      "基 于 服 务 网 格 的 微 服 务 架 构 服 务 治 理 研 究\n",
      "一 种 基 于 服 务 网 格 服 务 决 策 的 微 服 务 架 构 设 计 与 实 现\n",
      "由于微服务细粒度的服务拆分方式和去中心化的架构设计相比于传统SOA架构更适合当前互联网敏捷开发、快速迭代的需求,但是传统微服务的服务治理技术难以实现不同技术框架和通讯协议建设的服务之间互联互通,并且存在服务治理与服务高耦合的问题.本文基于服务网格思想实现一个具有服务注册发现、负载均衡、协议转换的网络代理作为微服务架构的服务治理独立组件,并通过Netty框架、protobuf序列化方式、Etcd注册中心和加权轮询的负载均衡算法最大化网络代理性能,实验结果表明本文的设计克服了传统微服务存在的问题,并且网络代理具备高可用、高并发、高吞吐量的性能.\n",
      "\n"
     ]
    },
    {
     "name": "stderr",
     "output_type": "stream",
     "text": [
      "\r",
      " 85%|████████▌ | 852/1000 [06:00<01:04,  2.31it/s]"
     ]
    },
    {
     "name": "stdout",
     "output_type": "stream",
     "text": [
      "基 于 浅 层 特 征 的 印 刷 品 分 拣 识 别 系 统\n",
      "基 于 浅 层 特 征 的 印 刷 品 视 觉 识 别 系 统\n",
      "针对印刷领域印刷品的识别问题,设计了一种基于浅层特征的视觉识别系统.浅层特征适用于对精准特定目标的识别, SIFT是一种被广泛使用且效果良好的浅层特征.该系统首先建立一个小型样本图像数据库,然后采用SIFT算法进行特征提取并与样本图像进行匹配识别.另外,该系统实现了在线学习的功能.经过实验验证,该系统可以实时、准确的实现对印刷品内容的识别.\n",
      "\n"
     ]
    },
    {
     "name": "stderr",
     "output_type": "stream",
     "text": [
      "\r",
      " 85%|████████▌ | 853/1000 [06:00<01:04,  2.29it/s]"
     ]
    },
    {
     "name": "stdout",
     "output_type": "stream",
     "text": [
      "l i n u x 平 台 下 代 码 覆 盖 率 报 告 自 动 化 输 出 设 计\n",
      "基 于 s h e l l - s m a l i   c o d e 的 覆 盖 率 测 试 工 具 设 计\n",
      "白盒测试中经常用到覆盖率测试.轻量级覆盖率测试工具GCOV在使用上具有操作复杂繁琐的弊端.本文所述的设计基于GCOV覆盖率测试的原理,依据shell脚本批处理的特点将各部分操作封装为脚本工具;通过Expect脚本工具对上一操作是否成功进行断言,实现各脚本工具调用的联动.通过该设计进行覆盖率报告输出比传统的操作节省了大量时间.同时,本设计具有操作简易、便于移植的特点.极大的减少了工作人员重复的操作,提高了软件开发测试的效率.\n",
      "\n"
     ]
    },
    {
     "name": "stderr",
     "output_type": "stream",
     "text": [
      "\r",
      " 85%|████████▌ | 854/1000 [06:01<01:01,  2.36it/s]"
     ]
    },
    {
     "name": "stdout",
     "output_type": "stream",
     "text": [
      "基 于 r o s 与 c o n t i k i 的 物 联 网 环 境 下 数 据 采 集 机 器 人 设 计\n",
      "基 于 r o s 与 o p e n w r t 的 新 型 物 联 网 系 统 方 案\n",
      "提出了一种基于ROS与OpenWrt、Contiki的新型物联网系统方案ROS-IOT.分为两个部分:物联网系统的搭建与此系统下数据采集机器人的设计.感知层传感节点采用Contiki协议栈实现传感节点的组网与数据传递;接入网关采用运行Openwrt操作系统的无线路由器,网关接入模块实现协议动态转换,设置转换地址池、数据汇聚、处理,并基于rosserial＿embeddedLinux上递至ROS网络等功能,实现各层数据流通;应用层基于websocket技术设计了与ROS网络数据交互的web服务,可实现与感知层、机器人的双向交互.机器人采用运行ROS环境的树莓派作为主控设备,电机驱动板采用stm32单片机.机器人的软件设计采用基于ROS Topic与ROS＿bridge的通讯机制,使得机器人更加容易地融入物联网系统,并且在此基础上拓展更多服务.\n",
      "\n"
     ]
    },
    {
     "name": "stderr",
     "output_type": "stream",
     "text": [
      "\r",
      " 86%|████████▌ | 855/1000 [06:01<01:01,  2.35it/s]"
     ]
    },
    {
     "name": "stdout",
     "output_type": "stream",
     "text": [
      "基 于 遗 传 - 蚁 群 混 合 算 法 的 排 课 系 统\n",
      "基 于 遗 传 - 蚁 群 混 合 算 法 的 排 课 问 题 研 究\n",
      "在高校的教务管理中,排课问题是复杂又关键的环节,科目数量众多,教学资源有限等等因素都制约着排课的复杂程度和结果.排课本质就是将课程、班级在合适的时间段安排到合适的教学位置,是一个NP问题的求解.随着规模的不断扩大,问题求解难度呈指数形式增加,当规模达到一定程度的时候就很难在短的时间内求出最优解.鉴于此,本文提出了遗传-蚁群混合算法,将两种算法混合使用,依靠遗传算法生成信息素分布,利用蚁群算法求最优解.实验结果表明,混合算法提高了排课的效率和课表的合理度.\n",
      "\n"
     ]
    },
    {
     "name": "stderr",
     "output_type": "stream",
     "text": [
      "\r",
      " 86%|████████▌ | 856/1000 [06:02<01:02,  2.31it/s]"
     ]
    },
    {
     "name": "stdout",
     "output_type": "stream",
     "text": [
      "双 网 隔 离 环 境 两 级 应 用 移 动 平 台 的 设 计 与 优 化\n",
      "双 网 隔 离 环 境 下 支 持 两 级 应 用 的 集 团 级 移 动 平 台\n",
      "移动应用技术已逐步在电力行业推广应用.近年,某发电集团在双网隔离环境下按照移动门户模式建成了模块化的统一移动平台,标准功能以集团总部应用为主,部分通用功能基层单位也可以使用.本文在此基础上,基于4G和Wi-Fi无线网络、Hybrid移动开发技术、Nginx反向代理技术、SSL VPN、安全隔离网闸等,设计了统一标准并能柔性适应各单位本地业务需求的支持两级应用的集团级移动平台,实现了不同网络环境下的无缝切换,为双网隔离环境下支持两级应用的集团级移动平台建设提供了参考.\n",
      "\n"
     ]
    },
    {
     "name": "stderr",
     "output_type": "stream",
     "text": [
      "\r",
      " 86%|████████▌ | 857/1000 [06:02<00:59,  2.39it/s]"
     ]
    },
    {
     "name": "stdout",
     "output_type": "stream",
     "text": [
      "基 于 改 进 a p r i o r i 算 法 的 糖 尿 病 预 诊 系 统\n",
      "基 于 a p r i o r i 算 法 的 糖 尿 病 预 诊 分 析 系 统 设 计\n",
      "本研究改进了Apriori算法,并应用于糖尿病高危因素关联分析.改进算法通过单次扫库,将事务数据库转化为布尔矩阵,依照特定性质对矩阵进行压缩,极大减少运算量和冗余.基于此,本研究设计了一款糖尿病预诊分析系统,系统采用时下最新技术栈,微服务框架Spring Boot、RPC框架Dubbo、消息队列中间件RabbitMQ、缓存Redis以及数据库MySQL.该系统辅助医护人员进行糖尿病诊断,为用户自诊提供有效依据.\n",
      "\n"
     ]
    },
    {
     "name": "stderr",
     "output_type": "stream",
     "text": [
      "\r",
      " 86%|████████▌ | 858/1000 [06:02<00:58,  2.43it/s]"
     ]
    },
    {
     "name": "stdout",
     "output_type": "stream",
     "text": [
      "实 现 复 杂 机 载 语 音 通 信 的 混 音 方 法\n",
      "基 于 实 时 通 航 飞 机 的 单 输 出 通 道 混 音 算 法 研 究\n",
      "随着通航飞机任务的越来越多元化、复杂化,要求机载语音通信系统能够支持更多成员在任务中参与实时通话.本文通过加入实时权重、动态箝位机制设计了改进的单输出通道混音算法,并在此基础上进一步设计了可定制的多输出通道混音组织逻辑,形成了一套适用于大型通用任务型飞机的“有优先级、用户可定制的机载会议系统”设计的实用混音方法.\n",
      "\n"
     ]
    },
    {
     "name": "stderr",
     "output_type": "stream",
     "text": [
      "\r",
      " 86%|████████▌ | 859/1000 [06:03<00:58,  2.40it/s]"
     ]
    },
    {
     "name": "stdout",
     "output_type": "stream",
     "text": [
      "具 有 协 同 交 流 功 能 的 虚 拟 物 理 实 验 室\n",
      "基 于 v r m l - j s - j a v a 的 虚 拟 物 理 实 验 室 设 计 与 实 现\n",
      "为解决虚拟实验中师生不能有效交流的问题,采用VRML-JS-Java通信机制实现了一种具有交流功能的虚拟物理实验室.介绍了实验室总体设计和场景层次结构,阐述了三维场景的建模过程和流程,重点对交互功能的服务器端、客户端、用户间的交互与感知,以及VRML虚拟场景与Java接口等关键技术进行实现.经过发布与测试,表明虚拟物理实验室具有良好的层次性、可重用性和互操作性,在大学实验教学改革中具有较高的实用价值.\n",
      "\n"
     ]
    },
    {
     "name": "stderr",
     "output_type": "stream",
     "text": [
      "\r",
      " 86%|████████▌ | 860/1000 [06:03<01:00,  2.31it/s]"
     ]
    },
    {
     "name": "stdout",
     "output_type": "stream",
     "text": [
      "基 于 4 g 网 络 的 配 电 自 动 化 系 统 通 信 子 系 统\n",
      "基 于 4 g 宽 带 技 术 的 配 电 自 动 化 系 统 通 信 服 务 子 系 统 设 计\n",
      "为了实现基于4G宽带技术的配电自动化系统DAS的通信服务子系统,采用4G LTE技术实现配电馈线终端FTU的网络接入.针对用户需求,在其与移动运营商之间物理专线的基础之上,利用运营商提供的集团客户VPDN业务,采用L2TP over IPSec技术实现了DAS与FTU之间的VPN网络通道,达到配电自动化信息安全传输的目的.基于所构建的通信网络,进行DAS通信服务器软件的设计,实现了DAS系统数据采集和输出控制的通信功能.实验结果表明,所构思实现的通信子系统达到了通信功能和网络安全的指标要求.\n",
      "\n"
     ]
    },
    {
     "name": "stderr",
     "output_type": "stream",
     "text": [
      "\r",
      " 86%|████████▌ | 861/1000 [06:04<01:02,  2.21it/s]"
     ]
    },
    {
     "name": "stdout",
     "output_type": "stream",
     "text": [
      "一 种 适 用 于 踏 步 机 的 游 戏 设 计\n",
      "基 于 霍 尔 传 感 器 和 单 片 机 的 踏 步 器 游 戏 系 统 设 计\n",
      "为了使大众能方便地在室内进行健身,根据市场上已有的踏步器为蓝本,设计一款适用于踏步器的游戏系统,它溶健身娱乐为一体,适合现代人的生活方式.该系统由三部分组成:踏步器、传感装置和计算机.传感装置由两个霍尔传感器、MAX232串口芯片和STC89C52单片机组成,霍尔传感器用来感应玩家踏板动作,单片机用于计算左、右步频并发送步频,串口芯片将左、右步频数据传给计算机;计算机负责游戏软件的运行和显示.游戏软件的设计原理是:左、右步频的平均值可用来决定游戏主角的移动速度,步频差决定它的移动方向.改编了“贪吃蛇”游戏作为测试软件,在游戏中添加了运动控制和健身功能,经过测试能达到预期的设计效果.该游戏系统具有制作成本低、操控方便、通用性强等特点,具备一定的市场开发潜力.\n",
      "\n"
     ]
    },
    {
     "name": "stderr",
     "output_type": "stream",
     "text": [
      "\r",
      " 86%|████████▌ | 862/1000 [06:04<00:58,  2.37it/s]"
     ]
    },
    {
     "name": "stdout",
     "output_type": "stream",
     "text": [
      "基 于 垂 直 采 样 的 水 下 三 维 传 感 网 覆 盖 算 法\n",
      "基 于 垂 直 采 样 的 水 下 传 感 器 网 络 覆 盖 算 法\n",
      "针对水下环境的三维传感器网络节点随机部署时存在覆盖率低的问题,设计一种基于垂直采样的水下三维传感网络覆盖算法,用于提高水下三维传感器网络覆盖率和连通性.垂直采样算法首先对三维监测区域进行垂直平面采样,然后再对该平面进行直线采样,把三维空间的覆盖问题转化为多平面内的直线覆盖优化问题,达到对整个三维网络覆盖优化的目的.仿真结果表明,在100 m×100 m×100 m的三维监测水域,垂直采样算法比三维随机部署策略可提高约4%～28%的覆盖率,在节点数为40时对覆盖率的提升程度最大.\n",
      "\n"
     ]
    },
    {
     "name": "stderr",
     "output_type": "stream",
     "text": [
      "\r",
      " 86%|████████▋ | 863/1000 [06:05<00:57,  2.39it/s]"
     ]
    },
    {
     "name": "stdout",
     "output_type": "stream",
     "text": [
      "噪 声 水 平 不 一 致 性 的 图 像 拼 接 区 域 检 测 方 法\n",
      "噪 声 水 平 不 一 致 性 的 图 像 拼 接 区 域 检 测 方 法\n",
      "针对图像拼接篡改检测与篡改定位技术进行研究,提出了一种噪声水平不一致性的图像拼接篡改定位方法.该方法利用改进的拉普拉斯算子对噪声具有双倍加强作用的特点,结合奇异值分解,提取非重叠图像块的局部图像梯度矩阵和噪声特征,然后利用基于聚类的阈值算法,对得到的特征进行分类并定位出篡改区域.与现有的基于噪声的图像拼接区域检测方法相比,所提出的方法不仅能够检测拼篡改区域,而且当拼接区域与原始区域之间的噪声差异较小时依然有效,并且对于内容保持的图像处理操作如JPEG压缩、高斯模糊、伽玛校正、下采样等是鲁棒的.\n",
      "\n"
     ]
    },
    {
     "name": "stderr",
     "output_type": "stream",
     "text": [
      "\r",
      " 86%|████████▋ | 864/1000 [06:05<00:54,  2.49it/s]"
     ]
    },
    {
     "name": "stdout",
     "output_type": "stream",
     "text": [
      "采 用 随 机 规 划 模 型 的 云 资 源 分 配 算 法\n",
      "采 用 随 机 规 划 模 型 的 云 资 源 分 配 算 法\n",
      "针对云资源提供问题,为了降低云消费者的资源使用成本,提出了一种采用随机规划模型的云资源分配算法.同时考虑按需实例和预留实例,采用两阶段随机整数规划对云资源提供问题进行建模,在资源预留阶段,根据长期的工作负载情况,确定预留实例的类型和数量,在按需分配阶段,根据当前的工作负载,确定动态分配的按需实例的类型和数量.采用抽样平均近似方法减少资源提供问题的场景数量,降低求解复杂度,并提出了一种基于阶段分解的混合进化算法求解资源提供问题.仿真实验结果表明,采用随机规划模型的云资源分配算法能够在较短时间内获得近似最优的云资源预留方案,有效降低了云消费者的资源使用成本.\n",
      "\n"
     ]
    },
    {
     "name": "stderr",
     "output_type": "stream",
     "text": [
      "\r",
      " 86%|████████▋ | 865/1000 [06:05<00:50,  2.67it/s]"
     ]
    },
    {
     "name": "stdout",
     "output_type": "stream",
     "text": [
      "基 于 同 态 加 密 的 多 候 选 人 电 子 投 票 方 案\n",
      "一 种 多 候 选 人 电 子 投 票 方 案\n",
      "电子投票因其便捷的特性,日益受到人们的青睐.然而电子投票中所暴露出来的安全问题成为人们所关注的重点,如何保证电子投票中的匿名性,公开可验证性等成为一个值得关注的问题.针对现有电子投票中存在的各种问题,基于数字签名算法和全同态加密提出了一种多候选人电子投票方案.该方案采用椭圆曲线数字签名算法解决电子投票中的身份认证问题;利用全同态加密技术实现对选票加密以及对加密选票的同态计算;为了能够对选票进行批量处理,采用SIMD技术打包选票;针对加密选票计票中存在的编解码问题设计了一种同态计票器.最后基于电子投票的八个安全特性对方案的安全性进行了分析,表明该方案是安全可行的.\n",
      "\n"
     ]
    },
    {
     "name": "stderr",
     "output_type": "stream",
     "text": [
      "\r",
      " 87%|████████▋ | 866/1000 [06:06<00:48,  2.75it/s]"
     ]
    },
    {
     "name": "stdout",
     "output_type": "stream",
     "text": [
      "改 进 a h p - g a 算 法 的 多 目 标 配 送 路 径 优 化\n",
      "基 于 时 间 窗 的 快 递 配 送 路 径 优 化\n",
      "为准确优化快递配送路径,建立了基于时间窗的快递配送路径优化的数学模型.提出改进AHP-GA算法对多目标配送车辆路径进行优化,利用中位数层次分析算法对多个子目标进行权重系数配比,避免了极端值的影响,从而将多目标优化问题转化为单目标优化问题.通过简单的自然数对车辆路径进行编码,避免了路径重复.考虑了客户对车辆到达时间窗要求,包括车辆在约定时间之前到达获得的机会成本、在约定时间之后到达的罚金成本.最后,本文以1个配送中心, 20个服务客户为例,对构建的数学模型通过分别使用传统的GA算法和使用改进AHP-GA算法进行优化,仿真结果表明,利用改进AHP-GA算法进行多目标配送路径优化,可以更加高效地求得问题的最优解.\n",
      "\n"
     ]
    },
    {
     "name": "stderr",
     "output_type": "stream",
     "text": [
      "\r",
      " 87%|████████▋ | 867/1000 [06:06<00:47,  2.80it/s]"
     ]
    },
    {
     "name": "stdout",
     "output_type": "stream",
     "text": [
      "s f m e a 安 全 性 分 析 技 术 在 软 件 安 全 性 测 试 中 的 应 用\n",
      "基 于 s f m e a 安 全 性 分 析 技 术 的 软 件 安 全 性 测 试 研 究\n",
      "随着软件在现代高可靠性装备中的比重和关键程度越来越高,传统的软件安全性测试方法已经不能满足当前测试要求,本文主要介绍一种新的安全性测试分析思路和方法——SFMEA技术在软件安全性测试中的应用,以弥补安全性测试需求分析和测试用例设计不足问题.文章首先分析介绍了常规安全性测试内容和方法及其不足,同时分析说明了引入新的安全性测试方法的必要性,然后介绍了SFMEA安全性分析技术相关定义、方法以及流程等,最后结合实例详细描述了基于SFMEA安全性分析技术的软件安全性测试方法与工作流程,并对基于SFMEA安全性分析技术进行安全性测试工作优缺点以及重点关注内容进行了总结.\n",
      "\n"
     ]
    },
    {
     "name": "stderr",
     "output_type": "stream",
     "text": [
      "\r",
      " 87%|████████▋ | 868/1000 [06:06<00:47,  2.80it/s]"
     ]
    },
    {
     "name": "stdout",
     "output_type": "stream",
     "text": [
      "求 解 0 - 1 背 包 问 题 的 烟 花 算 法\n",
      "一 种 改 进 的 0 - 1 背 包 问 题 的 改 进 烟 花 算 法\n",
      "为了克服现有方法在求解0-1背包问题时存在的缺陷,提出了一种改进的烟花算法.在给出0-1背包问题的数学模型后,利用Kent混沌映射对基本烟花算法的解初始化以使初始位置分布更加均匀,同时引入Sigmoid函数得到渐变的爆炸半径使得算法的求解精度与搜索速度达到某种平衡,用改进的烟花算法来对其进行求解.通过对典型测试函数和0-1背包问题的求解结果说明了所提出的改进烟花算法求解精度更高,性能更加稳定.\n",
      "\n"
     ]
    },
    {
     "name": "stderr",
     "output_type": "stream",
     "text": [
      "\r",
      " 87%|████████▋ | 869/1000 [06:07<00:46,  2.83it/s]"
     ]
    },
    {
     "name": "stdout",
     "output_type": "stream",
     "text": [
      "基 于 天 牛 须 搜 索 的 粒 子 群 优 化 算 法 求 解 投 资 组 合 问 题\n",
      "基 于 天 牛 须 搜 索 的 粒 子 群 优 化 算 法\n",
      "粒子群算法(PSO)作为一种群智能算法,有效提高了投资组合模型的实用性,但存在搜索精度较低和易陷入局部最优的缺陷.为克服其缺点,本文提出基于天牛须搜索(BAS)的粒子群优化算法(简称BSO),并将其应用到包含完整费用的投资组合模型中.在基于天牛须搜索的优化算法中(BSO),每个粒子的更新规则源自BAS,在每次迭代中都有自己对环境空间的判断,而不仅依赖于PSO中历史最佳解决方案和粒子个体的当前全局最优解,从而减少迭代次数、提高搜索速度和精度.实证结果表明算法更具稳定性和有效性.\n",
      "\n"
     ]
    },
    {
     "name": "stderr",
     "output_type": "stream",
     "text": [
      "\r",
      " 87%|████████▋ | 870/1000 [06:07<00:50,  2.60it/s]"
     ]
    },
    {
     "name": "stdout",
     "output_type": "stream",
     "text": [
      "基 于 图 像 内 容 的 沥 青 路 面 病 害 区 域 分 割 算 法\n",
      "基 于 图 像 内 容 的 滑 青 路 面 病 害 图 像 区 域 分 割 算 法\n",
      "针对CCD采集的沥青路面病害图像分辨率过高且含信息的有效区域占比少的问题,提出一种基于图像内容的沥青路面病害图像区域分割算法,以剔除路面图像中的无效区域.首先通过预处理和病害提取过程将原图像处理成包含病害特征的二值图像;然后通过计算整幅图像中含信息像素的上下比和左右比,得到初始化遍历方向,并统计各行(或列)的含信息像素总数;最后从初始化遍历方向开始遍历并丢弃含信息量最少的行(或列),最终得到分割后的图像.为验证算法的有效性与合理性,采用图像信息熵作为算法评价标准与传统算法进行对比分析.实验结果表明:本文算法在有效降低图像分辨率的前提下能很好的保留病害目标信息,提升图像信息熵.\n",
      "\n"
     ]
    },
    {
     "name": "stderr",
     "output_type": "stream",
     "text": [
      "\r",
      " 87%|████████▋ | 871/1000 [06:07<00:50,  2.57it/s]"
     ]
    },
    {
     "name": "stdout",
     "output_type": "stream",
     "text": [
      "结 合 单 高 斯 与 光 流 法 的 无 人 机 运 动 目 标 检 测\n",
      "结 合 单 高 斯 与 光 流 法 的 无 人 机 运 动 目 标 检 测\n",
      "针对无人机场景下运动目标检测对实时性要求高,运动背景、环境光照易变化等问题,提出一种结合单高斯与光流法的运动目标检测算法.首先,对运动相机捕捉的图像采用改进的单高斯模型进行背景建模,并融合前一帧图像的多个高斯模型来进行运动补偿,然后,将得到的前景图像作为掩模来提取特征点和进行光流跟踪,并对稀疏特征点的运动轨迹进行层次聚类.实验结果表明,该算法能有效地处理运动相机造成的前景对背景模型的干扰,背景建模速度快,对光照变化不敏感,检测出的目标接近真实目标.\n",
      "\n"
     ]
    },
    {
     "name": "stderr",
     "output_type": "stream",
     "text": [
      "\r",
      " 87%|████████▋ | 872/1000 [06:08<00:51,  2.47it/s]"
     ]
    },
    {
     "name": "stdout",
     "output_type": "stream",
     "text": [
      "面 向 流 媒 体 基 于 蚁 群 的 副 本 选 择 算 法\n",
      "一 种 基 于 蚁 群 算 法 的 流 媒 体 云 副 本 选 择 算 法\n",
      "本文针对流媒体Cloud-P2P存储模式中的副本选择,提出一种基于蚁群算法的改进算法(replica selectionalgorithm in Cloud-P2P based on ant colony algorithm, C2P2RSA2),建立副本选择度量标准(副本节点的网络带宽、网络延时等)与蚁群信息素的映射,定义了副本信息素概率,最后得到一组副本资源的最优解.实验表明,与PARSA算法(Pheromone-base Ant colony Replica adaptive Selection Algorithm in cloud storage)和最佳副本选择算法比较,在平均访问时间增加2%–5%的情况下,本文的算法对云副本节点的负载率减少15%–25%.\n",
      "\n"
     ]
    },
    {
     "name": "stderr",
     "output_type": "stream",
     "text": [
      "\r",
      " 87%|████████▋ | 873/1000 [06:08<00:51,  2.49it/s]"
     ]
    },
    {
     "name": "stdout",
     "output_type": "stream",
     "text": [
      "基 于 分 块 c b p 特 征 和 稀 疏 表 示 的 三 维 人 脸 表 情 识 别\n",
      "基 于 图 像 提 取 的 三 维 人 脸 表 情 识 别 算 法\n",
      "在三维人脸表情识别中,基于局部二值模式(LBP)算子算法与传统的特征提取算法相比具有特征提取准确、精细、光照不变性等优点,但也有直方图维数高、判别能力差、冗余信息大的缺点.本文提出一种通过对整幅图像进行多尺度分块提取CBP特征的CBP算法,能够更有效的提取分类特征.再结合使用稀疏表达分类器实现对特征进行分类和识别.经实验结果表明,与传统LBP算法和SVM分类识别算法对比,文中算法用于人脸表情的识别的识别率得到大幅度提高.\n",
      "\n"
     ]
    },
    {
     "name": "stderr",
     "output_type": "stream",
     "text": [
      "\r",
      " 87%|████████▋ | 874/1000 [06:09<00:52,  2.40it/s]"
     ]
    },
    {
     "name": "stdout",
     "output_type": "stream",
     "text": [
      "基 于 节 点 相 似 性 的 加 权 复 杂 网 络 b g l l 社 团 检 测 方 法\n",
      "面 向 加 权 网 络 的 b a c b g l l 重 叠 检 测 算 法\n",
      "针对加权复杂网络中的重叠社团检测问题,提出了一种面向加权网络的基于Jaccard系数的BGLL模块密度优化算法(Modularity Density and Jaccard Based BGLL, DBGLLJ).利用节点重要度重构网络,根据模块度增益作为阶段函数和模块密度增益作为目标函数进行网络硬划分,并提出了结合改进的Jaccard系数的重叠检测方法.为验证算法,选择了3种算法在LFR网络和真实网络中进行测试,结果表明:在标准LFR网络和真实网络中,DBGLLJ算法检测效果较优,具有较高的重叠模块度以及重叠检测准确性,且运算效率较好.将所提算法应用于现实复杂机电系统因效性网络,重叠检测结果较好,具有较高的参考价值.\n",
      "\n"
     ]
    },
    {
     "name": "stderr",
     "output_type": "stream",
     "text": [
      "\r",
      " 88%|████████▊ | 875/1000 [06:09<00:47,  2.65it/s]"
     ]
    },
    {
     "name": "stdout",
     "output_type": "stream",
     "text": [
      "基 于 模 糊 神 经 网 络 的 电 力 调 度 自 动 化 设 备 健 康 评 估\n",
      "电 力 自 动 化 设 备 健 康 评 估 模 型 及 仿 真\n",
      "针对电力调度自动化设备健康评估过程中存在的评估方式简单、评估方式可解释性弱以及评估效果不精确的问题,本文提出了一种基于模糊神经网络的电力自动化设备健康评估模型.用模糊理论进行分析,用模糊集合描述评价指标,用数据指标的隶属度描述设备运行情况,结合神经网络的自适应功能,针对个体设备提供更加准确的、更具个性化的健康评估.\n",
      "\n"
     ]
    },
    {
     "name": "stderr",
     "output_type": "stream",
     "text": [
      "\r",
      " 88%|████████▊ | 876/1000 [06:09<00:42,  2.88it/s]"
     ]
    },
    {
     "name": "stdout",
     "output_type": "stream",
     "text": [
      "基 于 a n d r o i d 的 海 洋 生 态 环 境 数 据 展 示 a p p\n",
      "基 于 a n d r o i d 平 台 的 海 洋 生 态 环 境 数 据 展 示 a p p\n",
      "针对海水养殖企业和管理部门对养殖区海洋生态环境数据的需求,介绍了一种基于Android操作系统的移动终端软件——海洋生态环境数据展示APP.从用户需求出发,以简单实用、操作方便为原则设计APP.在APP开发设计中,运用多媒体框架实现水下视频的直播和点播,以图表形式展示水文数据,借助百度地图展示设备投放地点,并采用极光推送平台接收推送消息提醒用户.运行结果表明该APP具有很强的实用性和高稳定性.\n",
      "\n"
     ]
    },
    {
     "name": "stderr",
     "output_type": "stream",
     "text": [
      "\r",
      " 88%|████████▊ | 877/1000 [06:10<00:44,  2.77it/s]"
     ]
    },
    {
     "name": "stdout",
     "output_type": "stream",
     "text": [
      "基 于 o d m r p 的 分 布 式 核 心 稳 定 路 由 算 法\n",
      "基 于 o d m r p 的 分 布 式 核 心 稳 定 路 由 算 法\n",
      "在无人机网络中,由于节点具有较强的移动性,对于组播路由的建立以及组播组的划分提出更高要求,一般的组播路由协议往往无法满足网络需求.为此,提出了一种基于ODMRP的分布式核心稳定路由算法.该算法结合了改进贪婪机制,根据路由状况对路径进行优化,为了降低源节点的数据处理负担,提出了分布式核心节点选择机制,将组播组的信息储存在多个核心节点中,同时释放了转发节点的储存空间.文章通过路由抢修机制,监控路由状态变化,对即将断裂的路由提前修复,保证了路径的有效性.仿真表明,该算法与标准的ODMRP算法及改进算法VCMP算法相比,能够优化传输路径,降低端到端时延,提高分组交付率,提升网络性能.\n",
      "\n"
     ]
    },
    {
     "name": "stderr",
     "output_type": "stream",
     "text": [
      "\r",
      " 88%|████████▊ | 878/1000 [06:10<00:45,  2.69it/s]"
     ]
    },
    {
     "name": "stdout",
     "output_type": "stream",
     "text": [
      "k - s i m i l a r i t y 降 噪 的 l s t m 神 经 网 络 水 质 多 因 子 预 测 模 型\n",
      "基 于 长 短 期 记 忆 神 经 网 络 的 水 质 多 因 子 预 测 模 型\n",
      "针对水质预测问题,以地表水水质监测因子作为研究对象,提出了一种基于长短期记忆(LSTM)神经网络的水质多因子预测模型,同时利用提出的K-Similarity降噪法对模型的输入数据进行降噪,提高模型预测性能.通过与BP神经网络、RNN和传统的LSTM神经网络预测模型进行对比实验,证明了所提出的方法均方误差最小,预测结果更准确.\n",
      "\n"
     ]
    },
    {
     "name": "stderr",
     "output_type": "stream",
     "text": [
      "\r",
      " 88%|████████▊ | 879/1000 [06:10<00:43,  2.80it/s]"
     ]
    },
    {
     "name": "stdout",
     "output_type": "stream",
     "text": [
      "基 于 无 人 机 图 像 的 输 电 线 检 测 方 法\n",
      "基 于 无 人 机 图 像 的 输 电 线 检 测 方 法\n",
      "在无人机应用于输电线巡检背景下,为了方便后续的输电线故障检测与分析,提出一种新的基于无人机图像的输电线检测方法.首先,通过Otsu获取高低阈值的方法改进Canny边缘检测算法,用于提取输电线图像边缘;然后,通过数学形态学方法处理边缘检测得到的二值图像,并用分式查表法改进的Hough变换对数学形态学处理后的图像进行直线段检测;最后,提出线-线空间信息分析的方法,对检测出来的直线段进行筛选和拟合.通过在无人机图像上的实验结果表明,本文提出的输电线检测方法是一种性能良好的基于无人机图像的输电线检测方法.\n",
      "\n"
     ]
    },
    {
     "name": "stderr",
     "output_type": "stream",
     "text": [
      "\r",
      " 88%|████████▊ | 880/1000 [06:11<00:42,  2.83it/s]"
     ]
    },
    {
     "name": "stdout",
     "output_type": "stream",
     "text": [
      "基 于 随 机 森 林 的 w e b s h e l l 检 测 方 法\n",
      "基 于 随 机 森 林 的 w e b s h e l l 检 测 方 法\n",
      "WebShell根据其功能和大小可以分为多种类型,各种类型的WebShell在基本特征上又有其独有的特征,而现有的WebShell检测大多从单一层面提取特征,无法较全面的覆盖各种类型WebShell全部特征,具有种类偏向性,无差别的检测效果差,泛化能力弱等问题.针对这一问题,提出了一种基于随机森林的WebShell检测方法.该方法在数据预处理阶段分别提取文本层的统计特征和文本层源码与编译结果层字节码(opcode)的序列特征,构成较全面的组合特征,然后通过Fisher特征选择选取适当比例的重要特征,降低特征维度,构成样本的特征集,最后采用随机森林分类器训练样本得到检测模型.通过实验表明,本检测方法能有效地检测WebShell,并在准确率、召回率和误报率上都优于单一层面的WebShell检测模型.\n",
      "\n"
     ]
    },
    {
     "name": "stderr",
     "output_type": "stream",
     "text": [
      "\r",
      " 88%|████████▊ | 881/1000 [06:11<00:40,  2.94it/s]"
     ]
    },
    {
     "name": "stdout",
     "output_type": "stream",
     "text": [
      "协 同 过 滤 算 法 中 冷 启 动 问 题 研 究\n",
      "基 于 层 次 聚 类 的 多 项 目 协 同 过 滤 算 法\n",
      "为了解决传统协同过滤算法的冷启动问题,提高算法的推荐质量,本文针对协同过滤算法中的冷启动问题进行研究,提出了两种改进的算法.新用户冷启动:融合用户信息模型的基于用户的协同过滤算法;新项目冷启动:采用层次聚类的基于项目的协同过滤算法.将新算法在网络开源数据集MovieLens上进行实验验证,比较改进算法和传统算法在查全率和查准率上的差异,结果表明改进算法能够有效地提高算法的推荐质量,缓解新用户和新项目的冷启动问题.\n",
      "\n"
     ]
    },
    {
     "name": "stderr",
     "output_type": "stream",
     "text": [
      "\r",
      " 88%|████████▊ | 882/1000 [06:11<00:41,  2.87it/s]"
     ]
    },
    {
     "name": "stdout",
     "output_type": "stream",
     "text": [
      "动 态 物 流 中 多 源 多 点 最 佳 路 径 算 法 研 究\n",
      "动 态 物 流 中 货 物 装 载 配 送 的 路 径 优 化\n",
      "多源多点环境下,动态物流中涉及货物装载和产品配送的路径优化是一个非常复杂的问题.针对现实配送过程中存在的货物需求多样化以及多车配送空载率过高的路径寻优问题,本文提出了一种新的调度配送方式.通过建立车辆装载配送路径模型,以多源多点,重量修正,路径最佳等为约束条件,使用模拟细胞分裂的新方式产生下一代,改进现有的遗传算法进行求解,优化了初始种群的产生,可以快速得到全局最优解,跳出遗传早熟收敛,取得最佳路径,从而降低配送成本,提高配送效率.\n",
      "\n"
     ]
    },
    {
     "name": "stderr",
     "output_type": "stream",
     "text": [
      "\r",
      " 88%|████████▊ | 883/1000 [06:12<00:38,  3.07it/s]"
     ]
    },
    {
     "name": "stdout",
     "output_type": "stream",
     "text": [
      "数 字 图 像 处 理 中 f p g a 图 形 化 编 程 设 计\n",
      "基 于 f p g a 的 数 字 图 像 处 理 系 统\n",
      "本文首先比较了现有的两种FPGA设计方法,重点介绍了图形化编程的优点,然后基于System Generator设计工具.以Sobel边缘检测算法为例,在Matlab/Simulink平台上构建了数字图像处理系统.将该算法进行图形化建模及在线仿真,并将设计结果编译为硬件描述语言(HDL).最后对系统进行了功能验证和测试结果分析,讨论了图形化建模的直观处理结果、RTL级视图、实际消耗资源情况以及运行速度等情况.\n",
      "\n"
     ]
    },
    {
     "name": "stderr",
     "output_type": "stream",
     "text": [
      "\r",
      " 88%|████████▊ | 884/1000 [06:12<00:41,  2.79it/s]"
     ]
    },
    {
     "name": "stdout",
     "output_type": "stream",
     "text": [
      "k r i g i n g 方 法 在 输 电 线 路 气 象 环 境 建 模 中 的 应 用\n",
      "电 网 输 电 线 路 温 度 数 据 网 格 化 插 值 方 法 研 究\n",
      "由于气象测点个数有限、分布不均匀且与线路走廊不一致,无法为研究灾害引发的线路故障及其防御技术提供精确的输电线路气象环境数据模型.为此,本文分析了Kriging空间插值方法的实现原理,应用Kriging插值方法实现对输电线路气象环境数据的网格化建模,并制定插值结果校验方法及评价标准,选取江苏省级电网可获取的996个气象测点2017年某日的温度数据,通过Kriging法进行网格化插值并对结果进行分析比较,验证了适用于该区域输电线路的温度数据网格化插值的Kriging半变异函数模型的选取过程.\n",
      "\n"
     ]
    },
    {
     "name": "stderr",
     "output_type": "stream",
     "text": [
      "\r",
      " 88%|████████▊ | 885/1000 [06:12<00:39,  2.89it/s]"
     ]
    },
    {
     "name": "stdout",
     "output_type": "stream",
     "text": [
      "测 控 系 统 指 显 数 据 处 理 方 法\n",
      "航 天 测 控 系 统 数 据 处 理 解 算 方 法 研 究\n",
      "航天测控系统数据传送采用独特的协议格式,对数据处理解算的方法有着较高的要求.为了高效、通用、全适应的完成对航天系统测控数据的处理解算显示,针对其数据格式特点建立模块化字节流处理模型和遥测数据处理模型,可根据不同类型数据格式灵活选取合适的数据处理模型完成处理,保证数据处理的正确性和可靠性前提下,提高了测控系统指显数据处理的适应性和通用性.\n",
      "\n"
     ]
    },
    {
     "name": "stderr",
     "output_type": "stream",
     "text": [
      "\r",
      " 89%|████████▊ | 886/1000 [06:13<00:39,  2.92it/s]"
     ]
    },
    {
     "name": "stdout",
     "output_type": "stream",
     "text": [
      "基 于 p o s t g r e s q l 的 海 量 准 实 时 数 据 服 务 平 台 访 问 方 案\n",
      "基 于 p o s t g r e s s q l 的 金 融 数 据 平 台\n",
      "大数据服务平台在电网系统中具有重要的应用价值.海量准实时数据平台作为电网重要数据中心,存储了大量有价值的数据,其存储的数据多为非结构化数据,无法直接通过SQL语句获取.为了最大限度挖掘数据价值,需要在平台中集成SQL访问实时数据的功能.为此,本文基于PostgresSQL Foreign Data Wrapper (Postgres＿fdw)开发了SQL引擎.通过分析PostgresSQL的功能特点以及已有UAPI接口的不足,针对原有大数据平台框架,采用分层策略,基于Postgres＿fdw开发了SQL引擎,并提出了针对海量平台中实时数据库的外部表空间估算方案和SQL解析方案,以此实现数据平台运用SQL的方式获取底层海量平台数据的功能.现场功能和性能测试,验证了该引擎的有效性.\n",
      "\n"
     ]
    },
    {
     "name": "stderr",
     "output_type": "stream",
     "text": [
      "\r",
      " 89%|████████▊ | 887/1000 [06:13<00:39,  2.87it/s]"
     ]
    },
    {
     "name": "stdout",
     "output_type": "stream",
     "text": [
      "虚 假 评 论 检 测 技 术 综 述\n",
      "基 于 自 然 语 言 处 理 的 虚 假 评 论 检 测 方 法\n",
      "随着互联网的发展,用户倾向于在购物、旅游、用餐之前参考线上评论.之后,他们也会发表评论来表达自身意见.线上评论越来越具有价值.评论对用户决策的重要导向作用催生了虚假评论.虚假评论,指用户由于利益、个人偏见等因素发布的不符合产品真实特性的评论.这些虚假评论语言上模仿真实评论,消费者很难识别出来.国内外学者综合运用自然语言处理技术来研究虚假评论检测问题.从特征工程的角度分析,虚假评论检测方法可以分为三类:基于语言特征和行为特征的方法、基于图结构的方法、基于表示学习的方法.主要描述了检测的一般流程,归纳了三类研究方法常用的特征,比较了方法的优缺点,并且介绍了研究常用的数据集.最后探讨了未来研究方向.\n",
      "\n"
     ]
    },
    {
     "name": "stderr",
     "output_type": "stream",
     "text": [
      "\r",
      " 89%|████████▉ | 888/1000 [06:14<00:40,  2.76it/s]"
     ]
    },
    {
     "name": "stdout",
     "output_type": "stream",
     "text": [
      "基 于 i v o c t 图 像 的 血 管 支 架 和 硬 化 斑 块 综 述\n",
      "基 于 i v o c t 图 像 的 心 血 管 内 部 组 织 研 究 进 展\n",
      "冠状动脉粥样硬化是心血管疾病中最为常见的病症,每年其导致的全球死亡率也在逐步上升.当前,全球医疗机构缓解病人症状所采取的主要治疗手段是血管支架植入手术.目前,基于OCT的体内血管成像技术(Intra-Vascular OCT technology,IVOCT)因其高分辨率等优势,正在逐渐地被应用在心血管疾病患者的检查和治疗环节之中.患者在每次的检查和治疗时,会产生成百上千张IVOCT图像.如果使用传统的人工识别和标记IVOCT图像的方法则会效率低、耗时长.针对上述问题,国内外相关研究人员结合近几年最新的计算机技术提出许多半自动或自动的血管内部组织结构的识别方法.本文旨在全面、系统地介绍基于IVOCT图像的血管内部组织的研究进展情况,阐述其原理.\n",
      "\n"
     ]
    },
    {
     "name": "stderr",
     "output_type": "stream",
     "text": [
      "\r",
      " 89%|████████▉ | 889/1000 [06:14<00:36,  3.03it/s]"
     ]
    },
    {
     "name": "stdout",
     "output_type": "stream",
     "text": [
      "沉 浸 式 虚 拟 现 实 的 发 展 概 况 及 发 展 趋 势\n",
      "沉 浸 式 虚 拟 现 实 的 发 展 概 述\n",
      "本文简述了沉浸式虚拟现实四个阶段的发展概况,分析了沉浸式虚拟现实的优缺点,探讨了沉浸式虚拟现实的发展趋势.未来,头显设备将会更加轻巧,人机交互将会更加自然,沉浸式虚拟现实将会在各行各业得到普遍的应用.\n",
      "\n"
     ]
    },
    {
     "name": "stderr",
     "output_type": "stream",
     "text": [
      "\r",
      " 89%|████████▉ | 890/1000 [06:14<00:41,  2.65it/s]"
     ]
    },
    {
     "name": "stdout",
     "output_type": "stream",
     "text": [
      "基 于 e s n 和 改 进 r b f n n 的 城 市 燃 气 负 荷 预 测\n",
      "基 于 e s n 和 改 进 r b f 神 经 网 络 的 城 市 燃 气 负 荷 预 测\n",
      "城市燃气负荷预测是城市燃气管网系统运行调度中的重要内容.针对燃气负荷数据的周期性和非线性特点,以及单一模型存在的局限性,本文提出一种ESN和改进RBF神经网络的组合预测模型.首先用核Fisher线性判别对原始数据进行降维,其次用ESN模型进行初步预测,然后将ESN的预测结果作为RBF神经网络的输入来构建组合模型,并将差分进化算法和梯度下降算法结合,对RBF神经网络的结构和参数同时进行训练和优化,以增强算法的局部搜索能力,加快收敛速度.实验结果表明,本文模型比原组合模型的预测精度更高.\n",
      "\n"
     ]
    },
    {
     "name": "stderr",
     "output_type": "stream",
     "text": [
      "\r",
      " 89%|████████▉ | 891/1000 [06:15<00:41,  2.62it/s]"
     ]
    },
    {
     "name": "stdout",
     "output_type": "stream",
     "text": [
      "基 于 前 景 理 论 的 不 确 定 t o p s i s 多 属 性 决 策 方 法\n",
      "基 于 前 景 理 论 和 粗 糙 集 的 多 属 性 决 策 方 法\n",
      "针对属性权重未知、属性值为犹豫模糊集的多属性决策问题,本文提出一种基于前景理论和粗糙集的多属性决策方法,充分考虑了决策者心理风险因素对决策结果的影响.首先,以正、负理想点作为参考点计算各属性下的前景价值函数,定义新的综合前景值,并根据给定的阈值得到判断矩阵;然后,根据判断矩阵进行属性约简,确定属性权重;最后,计算各备选方案的加权综合前景值,利用TOPSIS方法对备选方案进行排序,并通过算例证实该方法的可行性和有效性.\n",
      "\n"
     ]
    },
    {
     "name": "stderr",
     "output_type": "stream",
     "text": [
      "\r",
      " 89%|████████▉ | 892/1000 [06:15<00:37,  2.88it/s]"
     ]
    },
    {
     "name": "stdout",
     "output_type": "stream",
     "text": [
      "基 于 r o s 的 溯 源 机 器 人 系 统\n",
      "基 于 r o s 的 溯 源 机 器 人 系 统\n",
      "针对国内外对物联网和机器人相互结合,让机器人更好的服务于物联网展开的相关研究.本文提出了一种基于ROS与物联网的智能机器人系统.硬件上采用stm32传感器节点、树莓派、OpenWRT路由器、Rplidar雷达和C270罗技摄像头等;软件上使用ROS次级操作系统、Contiki、Tensorflow框架、Camshift算法和SLAM算法等;设计实现感知层的数据采集,基于SLAM的自动溯源,语音控制,机器人的物体追踪,物体自动识别以及web端的视频监控、反向控制和感知层数据实时显示等功能;而后搭建相关的试验环境,对系统与设备的相关功能进行测试,验证系统的可行性.\n",
      "\n"
     ]
    },
    {
     "name": "stderr",
     "output_type": "stream",
     "text": [
      "\r",
      " 89%|████████▉ | 893/1000 [06:15<00:40,  2.66it/s]"
     ]
    },
    {
     "name": "stdout",
     "output_type": "stream",
     "text": [
      "基 于 s s d 卷 积 神 经 网 络 的 公 交 车 下 车 人 数 统 计\n",
      "基 于 s s d 卷 积 神 经 网 络 的 公 交 车 下 车 人 数 统 计\n",
      "传统典型的公交车人数统计方法在准确率和速度方面存在一些不足,且提取目标特征的效果较差.本文提出了基于深度卷积神经网络的公交车人数统计系统解决人群计数问题.首先制作数据集,难点在于所有用于训练的数据集均是手工标注.并且公交车摄像头角度比以往文献覆盖更广区域.本文首先比较了多种不同的深度卷积神经网络模型对乘客进行全身检测的效果.综合考虑检测速率、准确率等方面,最终采用单次检测器深度卷积神经网络模型对乘客进行人头目标检测,在线实时目标追踪算法实现人头的多目标追踪,跨区域人群计数方法统计公交车下车人数.系统准确率达到78.38%,运行速率约为每秒识别19.79帧.实现了人群计数.\n",
      "\n"
     ]
    },
    {
     "name": "stderr",
     "output_type": "stream",
     "text": [
      "\r",
      " 89%|████████▉ | 894/1000 [06:16<00:38,  2.78it/s]"
     ]
    },
    {
     "name": "stdout",
     "output_type": "stream",
     "text": [
      "基 于 射 线 跟 踪 的 大 规 模 m i m o 信 道 建 模\n",
      "大 规 模 m i m o 信 道 模 型 及 求 解\n",
      "大规模MIMO具有巨型阵列尺寸和多维阵列结构,能够有效提升无线频谱效率,是未来无线通信领域重要的物理层技术之一.但大规模阵列具有的近场效应、高计算复杂度等问题,对其无线信道建模带来很大的挑战.本论文主要针对这些挑战,对大规模MIMO的信道模型进行了深入分析.首先在球面波假设前提下,建立大规模MIMO信道模型的基本框架;进一步利用基于马德里格地图的射线跟踪算法,对信道模型参数进行求解;最后给出大规模MIMO信道时延扩展及空间距离的统计分布.上述研究结果表明,所提信道模型能够反映大规模MIMO的主要信道特征.\n",
      "\n"
     ]
    },
    {
     "name": "stderr",
     "output_type": "stream",
     "text": [
      "\r",
      " 90%|████████▉ | 895/1000 [06:16<00:39,  2.63it/s]"
     ]
    },
    {
     "name": "stdout",
     "output_type": "stream",
     "text": [
      "基 于 集 群 的 w e b 并 行 超 高 分 辨 率 显 示 技 术\n",
      "基 于 集 群 的 w e b 并 行 超 高 分 辨 率 显 示 技 术\n",
      "如何有效地快速显示超高分辨的互联网资源一直是卫星遥感、城市环境监控预警、智慧城市管理中心等领域的研究热点和难点.本文提出了一种基于集群的Web并行超高分辨显示技术,完美结合Web技术和集群并行处理技术,克服了传统集中信息处理显示和采用DLP投影拼接技术存在显示分辨率有限、系统拼接困难、信息显示处理速度慢、无法异地共享显示等问题,实现Web资源的实时超高分辨显示.通过对比实验,本文研究的基于集群的Web并行超高分辨率显示技术能够高效地、高清晰度的显示网页资源,为海量的Web信息内容的实时、超高分辨显示提供了有效的解决方案.\n",
      "\n"
     ]
    },
    {
     "name": "stderr",
     "output_type": "stream",
     "text": [
      "\r",
      " 90%|████████▉ | 896/1000 [06:17<00:45,  2.29it/s]"
     ]
    },
    {
     "name": "stdout",
     "output_type": "stream",
     "text": [
      "系 统 虚 拟 化 环 境 下 客 户 机 系 统 调 用 信 息 捕 获 与 分 析\n",
      "实 时 监 视 客 户 机 内 系 统 调 用 系 统 信 息 的 捕 获 与 捕 获\n",
      "针对当前方法无法对系统调用参数和返回值等信息进行捕获和分析的问题,在Nitro的基础上建立了一个实时监视客户机内系统调用的系统.该系统通过修改硬件规范和指令重写,实现对快速系统调用进入和退出指令的捕捉和分析.之后,结合VCPU的上下文信息和系统调用的语义模板解析各参数;捕获到系统调用退出指令后,则根据VCPU寄存器信息解析返回值.实验证明,与同类捕获系统调用的方法相比,该系统可以实时捕获客户机内的系统调用序列,解析得到完整的系统调用信息,包括系统调用名、系统调用号、参数和返回值.该系统还能区分不同进程产生的系统调用,并在宿主机中引入了不超过15%的性能开销.\n",
      "\n"
     ]
    },
    {
     "name": "stderr",
     "output_type": "stream",
     "text": [
      "\r",
      " 90%|████████▉ | 897/1000 [06:17<00:43,  2.35it/s]"
     ]
    },
    {
     "name": "stdout",
     "output_type": "stream",
     "text": [
      "基 于 最 优 定 权 组 合 法 的 大 气 污 染 物 s o 2 预 测\n",
      "基 于 多 空 气 质 量 组 合 模 型 的 s o 2 预 测 模 型\n",
      "为了提高对大气污染物SO2的预测准确率,基于多个空气质量预测模式（WRF-CHEM、CMAQ、CAMx）,以过去一段时间内各单项空气质量预测模式的组合预测误差平方和最小为原则,构建出针对大气污染物SO2的最优定权组合预测模型.选取2018年云南省楚雄、昭通、蒙自三个站点1至5月份的实际观测数据和前述三个空气质量模式的预测数据作为实验样本,然后分别采用多元线性回归法和动态权重更新法在相同的实验条件下与所提的最优定权组合预测法进行预测对比实验.实验结果表明,所提方法的预测值相较其他两种方法更加贴近实际观测值,其两项误差评估指标值均最小.总体而言,最优定权组合预测模型很好地综合了各单项空气质量预测模式的优势,提高了SO2的预测精度.\n",
      "\n"
     ]
    },
    {
     "name": "stderr",
     "output_type": "stream",
     "text": [
      "\r",
      " 90%|████████▉ | 898/1000 [06:17<00:42,  2.41it/s]"
     ]
    },
    {
     "name": "stdout",
     "output_type": "stream",
     "text": [
      "基 于 n b - i o t 的 机 车 油 量 监 测 系 统\n",
      "基 于 n b - i o t 的 机 车 油 量 监 测 系 统 设 计\n",
      "针对目前铁路行业对内燃机车油耗成本控制、提高油耗管理水平的需求,设计并实现了基于NB-IoT的机车油量监测系统.该系统使用高精度超声波液位传感器获取油量液位高度,使用GPS实时获取经纬度,通过NB-IoT通信模块上传至服务器,经过滤波算法处理后存储到数据库,利用浏览器访问管理系统可监测实时油量数据、查看历史油量、加油记录,实现设备远程管理.测试结果表明,该设计能够监测油量,精度较高,提高对油耗的控制,对NB-IoT应用以及监测系统的研究有一定的借鉴意义.\n",
      "\n"
     ]
    },
    {
     "name": "stderr",
     "output_type": "stream",
     "text": [
      "\r",
      " 90%|████████▉ | 899/1000 [06:18<00:38,  2.63it/s]"
     ]
    },
    {
     "name": "stdout",
     "output_type": "stream",
     "text": [
      "基 于 s t o r m 的 大 容 量 实 时 人 脸 检 索 系 统\n",
      "大 容 量 实 时 人 脸 图 像 检 索 系 统 研 究\n",
      "针对公共安全领域能够获取的人脸图像数据急速增长,传统的人工方式辨别人物身份工作量大、实时性差、准确度低,本文设计了一种大容量实时人脸检索系统.该系统通过Storm分布式平台实现人脸抓拍图像的实时存储与检索,通过HBase分布式存储系统实现大容量非结构化人脸数据的存储与维护.多组实验结果表明,该系统具有良好的加速比,在大容量人脸图像数据检索场景下具有良好的可扩展性和实时性.\n",
      "\n"
     ]
    },
    {
     "name": "stderr",
     "output_type": "stream",
     "text": [
      "\r",
      " 90%|█████████ | 900/1000 [06:18<00:38,  2.57it/s]"
     ]
    },
    {
     "name": "stdout",
     "output_type": "stream",
     "text": [
      "基 于 改 进 随 机 森 林 算 法 的 停 电 敏 感 用 户 分 类\n",
      "基 于 随 机 森 林 算 法 的 停 电 敏 感 用 户 识 别 方 法\n",
      "目前,我国电网企业对于识别停电投诉风险,开展用户停电敏感程度分析的研究工作还处在起步阶段.为了有效地分析停电用户的敏感程度,提出了一种基于改进随机森林算法的停电敏感用户分类算法.首先,对原始数据进行清洗、特征选择等预处理;接着,采用SMOTE算法增加少数敏感用户样本数据量,解决数据分布不均匀问题;然后,以Fisher比作为特征的重要性度量,按比例随机采样选取具有代表性的特征构成子特征空间;最后,利用随机森林算法识别停电敏感用户.通过在真实停电数据上的实验,验证了提出的方法不仅具有较好的准确性和时间性能,而且可以有效处理高维、冗余特征的数据.\n",
      "\n"
     ]
    },
    {
     "name": "stderr",
     "output_type": "stream",
     "text": [
      "\r",
      " 90%|█████████ | 901/1000 [06:18<00:34,  2.88it/s]"
     ]
    },
    {
     "name": "stdout",
     "output_type": "stream",
     "text": [
      "多 分 支 结 构 强 化 表 征 能 力 的 c a p s n e t 方 法\n",
      "基 于 c a p s n e t 的 目 标 识 别\n",
      "CapsNet是一种新的目标识别模型,通过动态路由和capsule识别已知目标的新形态.针对CapsNet的解码器输入层规模随类别数增加而增加,可延展性较弱的问题,本文提出多分支自编码器模型.该模型将各个类别的编码分别传递给解码器,使解码器规模独立于类别数,增强了模型的可延展性.针对单类别图像训练多类别图像识别任务,本文增加新的优化目标降低非标签类别的编码向量对解码器的激励,强化了模型的表征能力.MNIST数据集的实验结果表明,多分支自编码器具有良好的识别能力且重构能力明显优于CapsNet,因而具有更全面的表征能力.\n",
      "\n"
     ]
    },
    {
     "name": "stderr",
     "output_type": "stream",
     "text": [
      "\r",
      " 90%|█████████ | 902/1000 [06:19<00:37,  2.64it/s]"
     ]
    },
    {
     "name": "stdout",
     "output_type": "stream",
     "text": [
      "基 于 h e f t 和 c p o p 的 相 关 任 务 表 调 度 算 法\n",
      "基 于 h e f t 算 法 的 多 核 处 理 器 任 务 调 度 研 究\n",
      "DAG任务调度是当前研究的热点,DAG任务模型中任务的调度顺序一方面会影响用户服务满意质量,另一方面也会影响云服务资源的利用率,高效的任务调度算法能够使多核处理器的资源分配和并行计算能力更强.表调度算法HEFT算法以及CPOP算法在相关任务调度中存在效率较低等问题.本文基于HEFT算法和CPOP算法,提出了一种相关任务调度模型和相关任务调度算法IHEFT算法,对任务排序和任务调度两个方面进行改进.任务排序阶段,以任务的方差以及平均通信代价作为排序的依据;任务调度阶段,对满足任务复制条件的结点进行任务复制.实验证明,IHEFT算法在任务调度跨度、任务调度平均等待时间以及平均Slack值方面均优于HEFT算法和CPOP算法.\n",
      "\n"
     ]
    },
    {
     "name": "stderr",
     "output_type": "stream",
     "text": [
      "\r",
      " 90%|█████████ | 903/1000 [06:19<00:39,  2.45it/s]"
     ]
    },
    {
     "name": "stdout",
     "output_type": "stream",
     "text": [
      "基 于 t f - i d f 和 改 进 b p 神 经 网 络 的 社 交 平 台 垃 圾 文 本 过 滤\n",
      "社 交 平 台 上 基 于 t f c 和 b p 神 经 网 络 的 垃 圾 文 本 检 测\n",
      "近年来,随着生活节奏的提高和互联网的迅速发展,人们更倾向于在众多社交平台上用短文本进行交流,进而可能有人通过发布垃圾文本妨碍人们的正常社交,扰乱网络的绿色环境.为了解决这个问题,我们提出了基于TF-IDF和改进BP神经网络的社交平台垃圾文本检测的方法.通过该方法,实现对社交平台上的垃圾文本过滤.首先,通过结巴分词和去停分词构造关键词数据集;其次,对文本表示的关键词向量运用计算各关键词的权重从而对文本向量进行降维,得到特征向量;最后,在此基础上,运用BP神经网络分类器对短文本进行分类,检测出垃圾文本并进行过滤.实验结果表明用该方法在1000维文本特征向量的情况下分类平均准确率达到了97.720%.\n",
      "\n"
     ]
    },
    {
     "name": "stderr",
     "output_type": "stream",
     "text": [
      "\r",
      " 90%|█████████ | 904/1000 [06:20<00:38,  2.53it/s]"
     ]
    },
    {
     "name": "stdout",
     "output_type": "stream",
     "text": [
      "适 用 于 分 布 式 静 态 检 测 的 j a v a 代 码 依 赖 性 分 析 技 术\n",
      "面 向 j a v a 源 代 码 文 件 间 依 赖 性 分 析\n",
      "为满足Java静态分布式检测系统对Java程序源代码解耦分包的需求,解决代码检测单节点单进程运行耗时过长问题,实现分布式检测系统单任务多节点并行运行的目的,本文提出了Java源代码文件间依赖性分析方法.该方法以生成源代码文件抽象语法树的方式抽取文件文本信息,遍历分析抽象语法树,获取文件与其他源代码文件类依赖关系,再通过定位类所在的文件方式得到文件与文件之间依赖关系.同时,以无入边顶点的带环有向图表示文件间依赖关系图,本文提出的方法基于该图进行了文件间解耦的分析.最后,通过对示例程序逐步剖析的实验以及对数个开源工具源代码解耦拆分的实验,验证了本文提出的文件间依赖性分析方法的可行性.\n",
      "\n"
     ]
    },
    {
     "name": "stderr",
     "output_type": "stream",
     "text": [
      "\r",
      " 90%|█████████ | 905/1000 [06:20<00:41,  2.27it/s]"
     ]
    },
    {
     "name": "stdout",
     "output_type": "stream",
     "text": [
      "基 于 f i s h e r 准 则 的 深 层 卷 积 神 经 网 络 织 物 疵 点 检 测\n",
      "基 于 f i s h e r 准 则 的 深 层 卷 积 神 经 网 络 织 物 疵 点 检 测\n",
      "针对当前的算法无法满足具有周期性图案织物疵点分类检测,鉴于此,提出基于Fisher准则的深层卷积神经网络织物疵点检测算法.首先,利用深度可分离卷积设计小型的深层卷积神经网络(DCNN);其次,对DCNN网络的Softmax增加Fisher准则约束,通过梯度算法更新整个网络参数,得到深层卷积神经网络(FDCNN);最后,在TILDA和彩色格子数据集上分类率分别为98.14%和98.55%.实验结果表明:FDCNN模型既可以减小网络参数和降低运行时间,又可以提高织物疵点分类率.\n",
      "\n"
     ]
    },
    {
     "name": "stderr",
     "output_type": "stream",
     "text": [
      "\r",
      " 91%|█████████ | 906/1000 [06:21<00:40,  2.30it/s]"
     ]
    },
    {
     "name": "stdout",
     "output_type": "stream",
     "text": [
      "基 于 轨 迹 的 时 空 光 谱 特 征 语 音 情 感 识 别 算 法\n",
      "一 种 基 于 轨 迹 的 空 间 - 时 间 谱 特 语 音 情 感 识 别 方 法\n",
      "语音识别领域的发展日新月异.同时,现有的研究结果表明声学特性集中存在较多的互补信息.本文提出了一种基于轨迹的空间-时间谱特语音情感识别方法.其核心思想是从语音频谱图中获得空间和时间上的描述符,进行分类和维度情感识别.本方法采用了穷举特征提取的实验表明:与MFCCs和基频等特征提取方法相比,提出的方法在噪声条件下,更具鲁棒性.通过在4类情感识别实验中获得了可比较的非加权平均回馈,得到了较为准确的结果,语音激活检测方面也具有显著的改进.\n",
      "\n"
     ]
    },
    {
     "name": "stderr",
     "output_type": "stream",
     "text": [
      "\r",
      " 91%|█████████ | 907/1000 [06:21<00:40,  2.29it/s]"
     ]
    },
    {
     "name": "stdout",
     "output_type": "stream",
     "text": [
      "改 进 指 数 平 滑 预 测 的 虚 拟 机 自 适 应 迁 移 策 略\n",
      "基 于 改 进 指 数 平 滑 预 测 的 虚 拟 机 自 适 应 迁 移 策 略\n",
      "针对云数据中心虚拟机频繁迁移问题对虚拟机迁移时机进行研究,提出一种基于改进指数平滑预测的虚拟机自适应迁移策略.该策略采用双阈值和预测相结合的方法,连续判断负载状态触发负载预测,然后,根据历史负载值自适应地预测下一时刻主机负载状态并触发虚拟机迁移,实现主机负载平衡,提高迁移效率,降低能耗.经实验表明,该方法在能耗和虚拟机迁移次数方面分别可降低约7.34%和58.55%,具有良好的优化效果.\n",
      "\n"
     ]
    },
    {
     "name": "stderr",
     "output_type": "stream",
     "text": [
      "\r",
      " 91%|█████████ | 908/1000 [06:22<00:37,  2.42it/s]"
     ]
    },
    {
     "name": "stdout",
     "output_type": "stream",
     "text": [
      "基 于 两 段 直 线 模 型 的 低 功 耗 高 画 质 显 示 驱 动 算 法 研 究 及 其 f p g a 实 现\n",
      "一 种 低 功 耗 高 画 质 显 示 驱 动 算 法\n",
      "由于手机电池电量有限,显示面板功耗过大引起的频繁充电问题严重地影响了智能手机的用户体验.本文提出了一种基于两段直线模型的低功耗高画质显示驱动算法.首先,将输入图像从RGB空间转换到YUV空间.随后,计算亮度平均值和最大值.在此基础上构建两段直线模型,并根据该模型产生新亮度分量.最后,将YUV空间转换到RGB空间,得到处理后的图像.实验结果表明,相比于NPC和ACSC算法,提出算法处理所得图像的MSE分别降低了30.9%和29.9%.此外,本算法产生的显示功耗最低.该算法研究已通过FPGA验证,结果表明,处理后的图像显示效果优越.\n",
      "\n"
     ]
    },
    {
     "name": "stderr",
     "output_type": "stream",
     "text": [
      "\r",
      " 91%|█████████ | 909/1000 [06:22<00:39,  2.31it/s]"
     ]
    },
    {
     "name": "stdout",
     "output_type": "stream",
     "text": [
      "基 于 划 分 的 海 量 数 据 相 似 重 复 记 录 检 测\n",
      "一 种 有 效 的 基 于 划 分 的 社 工 库 数 据 近 邻 排 序 算 法\n",
      "针对目前社工库存储的海量数据,数据冗余、查询效率低下的质量问题,本文提出了一种有效的基于划分的近邻排序算法.对不同渠道采集、以不同存储方式存储的社工数据进行整合形成能以二维表形式存储的海量数据集,采用划分思想,对大数据集进行分割,形成簇;采用改进的近邻排序算法对各个簇中的小数据集进行检测得到最终的相似重复记录检测结果.实验和对比分析结果表明,划分和近邻排序算法的结合使用不仅提高了海量数据相似重复记录检测的时间效率,检测准确率也有所提升.\n",
      "\n"
     ]
    },
    {
     "name": "stderr",
     "output_type": "stream",
     "text": [
      "\r",
      " 91%|█████████ | 910/1000 [06:22<00:39,  2.26it/s]"
     ]
    },
    {
     "name": "stdout",
     "output_type": "stream",
     "text": [
      "基 于 f t r l 和 x g b o o s t 算 法 的 产 品 故 障 预 测 模 型\n",
      "基 于 f t l s 和 f t l s 算 法 的 二 分 类 产 品 故 障 预 测 模 型\n",
      "随着智能化设备的日益更新和计算机储存数据能力的提升,制造业企业在其产品制造过程中产生了大量的流水线数据,如何充分利用这些数据一直是工业界的一个难题.本文根据制造业企业的真实大规模生产数据,通过对其进行细致的探索性数据分析,建立了一种基于FTRL和XGBoost算法的二分类产品故障预测模型,并根据适用于非平衡数据集的MCC (Matthews Correlation Coefficient)评价指标采用交叉验证方法对其进行优化.实验结果表明,该模型对于大规模(不仅样本量大,特征量也很大)正负样本非平衡的生产流水线数据集具有运行效率高,故障预测精度高的效果.基于此模型我们可以构建更智能的产品故障检测系统,有效降低企业运营成本的同时也带来了可观的利润增长.\n",
      "\n"
     ]
    },
    {
     "name": "stderr",
     "output_type": "stream",
     "text": [
      "\r",
      " 91%|█████████ | 911/1000 [06:23<00:40,  2.18it/s]"
     ]
    },
    {
     "name": "stdout",
     "output_type": "stream",
     "text": [
      "面 向 w e b 服 务 的 动 态 可 信 性 评 估 模 型\n",
      "基 于 信 息 熵 权 重 和 带 修 正 指 标 的 动 态 信 任 评 估 模 型\n",
      "网络化软件是由分布在互联网上多源异构的Web服务构成,但受其所处动态开放网络环境的影响,服务可信性处在不断变化之中.针对传统Web服务可信性难以适应动态评估的问题,提出了一种基于信息熵权重和带修正指标的动态信任评估模型(Dynamic Trustworthy Evaluation based on Information Entropy and Correction Metrics,DTEIECM).首先,该模型充分挖掘模糊矩阵中的客观信息,利用信息熵对易受人为因素影响的主观权重进行修正.同时,考虑到所处运行环境对当前服务可信性的影响,增加了修正指标和受反馈影响的外部指标,以提高评估模型的自适应性.最后,通过对一个商务订单管理系统中的地图服务进行实例分析,结果表明DTMIECM模型在可信性度量中具有可行性,而且能够适应多变的环境并重新配置服务组合,有利于提高整个系统的可信度.\n",
      "\n"
     ]
    },
    {
     "name": "stderr",
     "output_type": "stream",
     "text": [
      "\r",
      " 91%|█████████ | 912/1000 [06:23<00:42,  2.09it/s]"
     ]
    },
    {
     "name": "stdout",
     "output_type": "stream",
     "text": [
      "基 于 注 意 力 机 制 的 b i g r u 判 决 结 果 倾 向 性 分 析\n",
      "基 于 注 意 力 机 制 和 b i g r u 的 判 决 结 果 倾 向 性 分 析\n",
      "对裁判文书中判决结果的倾向性分析是完成律师推荐系统的前提,如何高效的实现判决结果倾向性分析是本文的重点.本文提出了基于注意力机制和BiGRU的判决结果倾向性分析模型.首先,训练词向量,得到词向量表;然后,通过查找词向量表,将文书数据转化为词向量序列,将词向量序列作为输入来训练判决结果倾向性分析模型.实验结果表明:注意力机制和BiGRU算法在判决结果倾向性分析中具有一定的有效性.该模型能够对裁判文书中判决结果的倾向性做一个合理的判断,为后期律师推荐系统的实现提供一个合理的评分依据.\n",
      "\n"
     ]
    },
    {
     "name": "stderr",
     "output_type": "stream",
     "text": [
      "\r",
      " 91%|█████████▏| 913/1000 [06:24<00:37,  2.35it/s]"
     ]
    },
    {
     "name": "stdout",
     "output_type": "stream",
     "text": [
      "有 向 监 控 设 备 三 维 区 域 覆 盖 算 法\n",
      "复 杂 环 境 下 有 向 监 控 设 备 部 署 方 案\n",
      "现有设备区域覆盖方面的研究大多针对二维空间无向感知区域,设备位置往往随机设定,对复杂空间环境的感知覆盖率较低,难以满足安全监控等实际应用的需求,本文针对复杂环境下的有向监控设备网络,首先建立设备感知模型,然后提出在三维空间区域中结合虚拟力及区域权重的设备监控方向调整算法,增加区域有效覆盖率,最后基于贪心策略给出额外设备的部署方案以进一步增强区域覆盖.实验结果表明本文提出的方案能以较小代价大幅提高区域覆盖率.\n",
      "\n"
     ]
    },
    {
     "name": "stderr",
     "output_type": "stream",
     "text": [
      "\r",
      " 91%|█████████▏| 914/1000 [06:24<00:36,  2.36it/s]"
     ]
    },
    {
     "name": "stdout",
     "output_type": "stream",
     "text": [
      "基 于 p o f - i c n 架 构 的 新 移 动 性 体 系\n",
      "一 种 基 于 p o f - i c n 的 移 动 性 支 持 体 系\n",
      "信息中心网络是一种全新的网络体系,其通过内容名来进行寻址和路由.然而,目前并没有一种高效而简洁的方案可以实现生产者和消费者之间的移动.本文旨在构建一种基于POF-ICN架构下的移动性支持体系,本体系主要通过设备在全局解析系统上的注册位置信息、移动管理、会话管理和控制器协作工作来维护相关业务信息和规划路径以支持移动性.通过实验模拟和仿真,发现在网络状况良好的情况下,消费者成功发送请求后,几乎所有的请求都成功完成响应,并且在网络比较拥塞的情况下通过预规划路径的方式可以有效提高请求响应率.研究表明,本研究提出的构建体系方案可以在生产者和消费者之间实现简洁而高效的移动性支持,并且可以通过预规划路径有效地降低移动丢包率.\n",
      "\n"
     ]
    },
    {
     "name": "stderr",
     "output_type": "stream",
     "text": [
      "\r",
      " 92%|█████████▏| 915/1000 [06:25<00:36,  2.35it/s]"
     ]
    },
    {
     "name": "stdout",
     "output_type": "stream",
     "text": [
      "基 于 二 维 码 匹 配 的 指 针 式 仪 表 读 数 识 别 方 法\n",
      "基 于 二 维 码 匹 配 的 指 针 式 仪 表 读 数 识 别 方 法\n",
      "提出了一种基于二维码匹配的指针式仪表读数识别方法.该方法先实时采集高质量的仪表状态图像,同时获取二维码定位点信息以及与二维码相连接的数据库中存储的仪表类型信息,再根据二维码定位点信息对仪表图像进行快速倾斜校正,并利用二维码与仪表之间先验的几何位置关系快速提取图像中表盘所在的区域,最后根据获取的仪表类型信息,选择对应的仪表读数识别算法,以实现快速准确地识别仪表读数.实验结果表明:该方法能有效提高指针式仪表读数识别的准确率,尤其是对于复杂背景的仪表图像,该方法可用于电力系统中刻度均匀的指针仪表识别.\n",
      "\n"
     ]
    },
    {
     "name": "stderr",
     "output_type": "stream",
     "text": [
      "\r",
      " 92%|█████████▏| 916/1000 [06:25<00:33,  2.54it/s]"
     ]
    },
    {
     "name": "stdout",
     "output_type": "stream",
     "text": [
      "利 用 学 习 向 量 化 样 本 分 类 的 在 线 学 习 成 绩 预 测\n",
      "基 于 遗 传 算 法 的 在 线 学 习 成 绩 预 测\n",
      "对网络在线学习者产生的数据进行记录和分析,并为其提供精准化的个性化服务是在线教育发展的重要方面.本文以学习者在平台上产生的日常学习数据为样本,综合其最具代表性的五种影响因子,通过学习向量化神经网络对样本进行分类,得到基于BP神经网络的在线学习成绩预测数据.在模型中采用遗传算法有效优化BP神经网络的权重和阈值,在提高预测精度的同时加快模型的收敛速度.最后与其他两种模型进行对比分析,结果表明:该模型进行预测的结果与真实的成绩分布基本一致,具有很高的可信度,能够为有效的预测学习状态提供决策依据,具有一定的工程应用价值.\n",
      "\n"
     ]
    },
    {
     "name": "stderr",
     "output_type": "stream",
     "text": [
      "\r",
      " 92%|█████████▏| 917/1000 [06:25<00:30,  2.74it/s]"
     ]
    },
    {
     "name": "stdout",
     "output_type": "stream",
     "text": [
      "基 于 轻 量 化 卷 积 神 经 网 络 的 服 装 分 类 方 法\n",
      "基 于 p c 端 的 服 装 图 像 分 类 算 法 研 究\n",
      "考虑到电商平台的日益发展,使用人工分类的方式对服装进行分类无法满足目前的需求.本文从实际的应用场景出发,针对于服装图像进行分类时会受到背景因素干扰、服装图像关键部位信息以及算法模型运行的的硬件要求三个方面,分别进行改进设计.提出:1)消除背景的干扰;2)图像局部信息的利用;3)模型的轻量化处理.最终得到了在满足准确性的前提下,可以在普通低配置PC端进行运行的算法模型,提升了工作效率,同时节省了成本.\n",
      "\n"
     ]
    },
    {
     "name": "stderr",
     "output_type": "stream",
     "text": [
      "\r",
      " 92%|█████████▏| 918/1000 [06:26<00:27,  2.94it/s]"
     ]
    },
    {
     "name": "stdout",
     "output_type": "stream",
     "text": [
      "基 于 深 度 学 习 的 服 装 图 像 检 索 方 法\n",
      "面 向 大 规 模 服 装 图 像 的 深 度 学 习 模 型\n",
      "为实现面向大规模服装图像集的图像快速精准检索,突破当前常规检索方法的局限性,本文提出了一个新的深度学习模型:Fashion-16服装图像检索模型.采用先分类再类内检索的思想,基于VGG-16模型强大的图像特征提取能力,以卷积神经网络softmax分类器进行分类,对同一类别下采用局部敏感哈希的思想进行近似最近邻的查找,实现了针对服装类别属性的图像检索模型修正.实验结果表明,模型具有良好的稳定性、精确率及检索速度,有其实用价值与研究意义.\n",
      "\n"
     ]
    },
    {
     "name": "stderr",
     "output_type": "stream",
     "text": [
      "\r",
      " 92%|█████████▏| 919/1000 [06:26<00:33,  2.40it/s]"
     ]
    },
    {
     "name": "stdout",
     "output_type": "stream",
     "text": [
      "基 于 s t c 8 9 c 5 2 r c 与 s t m 8 s 0 0 5 技 术 的 智 能 书 桌\n",
      "基 于 s t c 8 9 c 5 2 r b 与 a r m 9 s 0 5 5 的 可 升 降 智 能 书 桌 设 计\n",
      "本设计采用STC89C52RC与STM8S005为核心控制的可升降智能书桌,由数码管显示模块,超声波模块,按键模块,红外测距模块,接近式感应,手机充电,蓝牙连接播放音乐,推杆和语音录放装置以及app控制台灯组成.本设计采用人性化的方式,可以上升的高度范围为50 cm到110 cm,实现人体的站立和坐下,书桌实时对人体的姿态作出反应,实时测量高度,同时设计APP实现外加音乐播放,led照明和七彩灯变化等功能.\n",
      "\n"
     ]
    },
    {
     "name": "stderr",
     "output_type": "stream",
     "text": [
      "\r",
      " 92%|█████████▏| 920/1000 [06:27<00:41,  1.91it/s]"
     ]
    },
    {
     "name": "stdout",
     "output_type": "stream",
     "text": [
      "离 散 多 智 能 体 系 统 中 分 布 式 事 件 触 发 的 h _ ∞ 滤 波\n",
      "事 件 触 发 具 有 切 换 拓 扑 的 离 散 时 间 多 智 能 体 系 统 的 h _ ∞ 滤 波\n",
      "研究了具有切换拓扑的离散时间多智能体系统的事件触发H∞滤波问题.构造了一种新的分布式事件触发控制方案,以确定是否每个智能体应该传输当前采样数据到滤波器,从而有效的节约网络资源.考虑到网络诱导时延的存在,同时利用马尔可夫过程对网络拓扑的切换进行建模,采用事件触发控制方案并结合所提的H∞滤波器,将分布式滤波误差系统建模成一个具有多时变时延的闭环系统.利用包含多区间上下界信息的Lyapunov-Krasovskii泛函和线性矩阵不等式方法,得到了保证闭环系统实现具有H∞性能指标渐近稳定性的一些充分条件和H∞滤波器参数的设计方法.最后,通过两个数值算例说明了该方法的有效性.\n",
      "\n"
     ]
    },
    {
     "name": "stderr",
     "output_type": "stream",
     "text": [
      "\r",
      " 92%|█████████▏| 921/1000 [06:27<00:37,  2.12it/s]"
     ]
    },
    {
     "name": "stdout",
     "output_type": "stream",
     "text": [
      "基 于 自 适 应 学 习 率 b p 神 经 网 络 的 火 点 定 位 模 型\n",
      "基 于 改 进 b p 神 经 网 络 的 火 点 预 测 模 型 研 究\n",
      "为了解决传统BP (Back Propagation)神经网络收敛较慢的问题,通过BP神经网络搭建火点预测模型,采用一种自适应学习率的方法改进BP神经网络,经比较该算法收敛较快,模型输出可达到预期效果.同时利用现场可编程逻辑门阵列(FPGA)的动态可重构技术实现了改进后的神经网络,通过仿真和结果测试,该设计在预测结果的基础上又大大减少了预测时间,为环保预测、检测轨迹规划提供了一定的理论基础.\n",
      "\n"
     ]
    },
    {
     "name": "stderr",
     "output_type": "stream",
     "text": [
      "\r",
      " 92%|█████████▏| 922/1000 [06:28<00:33,  2.30it/s]"
     ]
    },
    {
     "name": "stdout",
     "output_type": "stream",
     "text": [
      "改 进 主 题 模 型 的 短 文 本 评 论 情 感 分 析\n",
      "基 于 词 嵌 入 的 医 疗 服 务 平 台 主 题 模 型 的 研 究\n",
      "使用传统的主题模型方法对医疗服务平台中的评论等短文本语料进行主题模型的情感分析时,会出现上下文依赖性差的问题。提出基于词嵌入的WLDA算法,使用Skip-Gram模型训练出的词w*替换传统的LDA模型中吉布斯采样算法里的词w`,同时引入参数λ,控制吉布斯采样时词的重采样的概率.实验结果证明,与同类的主题模型相比,该主题模型的主题一致性高.\n",
      "\n"
     ]
    },
    {
     "name": "stderr",
     "output_type": "stream",
     "text": [
      "\r",
      " 92%|█████████▏| 923/1000 [06:28<00:31,  2.47it/s]"
     ]
    },
    {
     "name": "stdout",
     "output_type": "stream",
     "text": [
      "一 种 面 向 主 动 服 务 的 情 境 感 知 引 擎\n",
      "面 向 主 动 服 务 的 情 境 感 知 引 擎 设 计\n",
      "随着物联网的发展,很多应用场景下的被动服务提升为主动服务.主动服务无需人来驱动,由系统自动采集数据,根据逻辑进行判断,然后进行服务触发.情景感知(context aware)是实现主动服务的一种主流方式.本文提出了一种面向主动服务的情境感知引擎,相比与开源的规则引擎如Drools,该引擎支持了更丰富的模型描述语言,如场景与属性的定义、数据有效期设定、接入用户函数等.在处理密集传感器数据时,引擎引入了场景赋值以及数据快照的概念,帮助引擎快速定位数据匹配的场景,有针对性的去匹配规则并触发服务,提升了数据处理的效率和准确率.本文通过两个实验,以模拟传感器数据的方式测试了为模型中场景赋值的操作对整体执行效率带来的提升.\n",
      "\n"
     ]
    },
    {
     "name": "stderr",
     "output_type": "stream",
     "text": [
      "\r",
      " 92%|█████████▏| 924/1000 [06:28<00:29,  2.55it/s]"
     ]
    },
    {
     "name": "stdout",
     "output_type": "stream",
     "text": [
      "面 向 回 填 优 化 的 作 业 时 长 预 测\n",
      "面 向 高 性 能 计 算 集 群 的 混 合 预 测 方 法\n",
      "高性能计算集群通常使用先来先服务等传统的作业调度方法,它具有良好的公平性,并且实现简单,但容易产生闲置的资源碎片.针对上述问题,一种的策略是使用回填,利用一些短时间小作业来填补系统等待期间的空闲资源碎片.但好的回填方法通常需要知道作业预期的运行时间,而用户或者不愿意提供作业预期运行时间,或者倾向于提供比实际运行时间更长的预期时间以避免作业被系统终止,因此我们有必要自行预测作业的运行时间. VASP是国内应用最普及的高性能计算应用软件之一,本文通过分析VASP作业特性,解析并抽取相应的作业特征集,提出一种基于贝叶斯的二次预测模型IRPA,对VASP作业进行运行时长的预测,最后进一步提出基于径向基网络分支及贝叶斯分类的混合预测模型BRBF,并且利用我校TC4600平台上的VASP作业数据集进行验证.实验结果和其他几个基本方法进行对比,表明IRPA以及BRBF的有效性以及在粗粒度下具有的较高预测准确率.\n",
      "\n"
     ]
    },
    {
     "name": "stderr",
     "output_type": "stream",
     "text": [
      "\r",
      " 92%|█████████▎| 925/1000 [06:29<00:36,  2.07it/s]"
     ]
    },
    {
     "name": "stdout",
     "output_type": "stream",
     "text": [
      "信 息 物 理 融 合 系 统 建 模 的 区 间 g m d h 算 法\n",
      "基 于 改 进 的 c _ v 算 法 的 c p s 建 模 中 误 差 及 误 差 累 积 算 法\n",
      "针对信息物理融合系统(CPS)建模中存在的误差及误差累积问题,本文在数据处理分组方法(GMDH)的基础上,结合区间分析思想,提出了区间GMDH算法.算法首先对基于区间分析的集合反演算法(SIVIA)进行了改进,提出了c SIVIA算法.通过引入收缩算子,在保持解集不变的情况下,对参数估计的区间进行压缩,解决SIVIA算法进行二分搜索时出现的计算量大、耗时长以及死锁问题.其次,将GMDH的输入及计算转变成区间数和区间运算,用改进的c SIVIA算法对模型参数进行估计.最后,取区间参数的中点作为待估参数的点估计,再利用外准则对产生的中间模型进行筛选,以建立最终系统模型.实验表明本文提出的区间GMDH算法与原算法相比在精确度、抗噪性等方面得到明显改善,有效地解决了CPS建模中存在的误差和误差累积问题.\n",
      "\n"
     ]
    },
    {
     "name": "stderr",
     "output_type": "stream",
     "text": [
      "\r",
      " 93%|█████████▎| 926/1000 [06:29<00:33,  2.19it/s]"
     ]
    },
    {
     "name": "stdout",
     "output_type": "stream",
     "text": [
      "融 入 h 指 数 的 局 部 拓 展 类 重 叠 社 区 发 现 算 法\n",
      "基 于 节 点 重 要 性 和 改 进 适 应 度 的 重 叠 社 区 发 现 算 法\n",
      "本文针对传统的局部拓展算法具有较强的随机性和社区发现质量不高的缺陷,在种子拓展和H指数的基础上,提出了一种基于节点重要性和改进适应度的重叠社区发现算法(HDOC).算法采用H指数和局部影响力计算节点重要性,按此对节点排序和选种,使算法具有稳定性;且本文采用了一种新的适应度计算方法,兼顾考虑了节点自身和邻接点重要性,来对社区进行扩展,提高了社区的发现质量.通过在真实网络和LFR生成的人工网络中进行测试,并与其他社区发现算法对比实验表明,HDOC的社区识别能力较强,并且具有不错的时间效率.\n",
      "\n"
     ]
    },
    {
     "name": "stderr",
     "output_type": "stream",
     "text": [
      "\r",
      " 93%|█████████▎| 927/1000 [06:30<00:33,  2.16it/s]"
     ]
    },
    {
     "name": "stdout",
     "output_type": "stream",
     "text": [
      "一 种 面 向 o p e n c l 架 构 的 矩 阵 - 向 量 乘 并 行 算 法 与 实 现\n",
      "基 于 o p e n c l 的 矩 阵 - 向 量 乘 并 行 算 法\n",
      "矩阵-向量乘法算法的时间复杂度大,传统计算方法的实时性和跨平台性难以保证.本文提出一种基于开放式计算语言(Open Computing Language,OpenCL)的矩阵-向量乘并行算法,矩阵-向量乘法过程被分解成若干具有不同粒度的子任务.根据相应的并行度,每个工作组进行矩阵中的行块与列向量的乘积,每个工作项进行行块中行向量与列向量的乘积,并把计算任务分别分配到计算单元和处理单元进行处理.实验结果表明,与基于CPU的串行算法、基于OpenMP并行算法和基于统一计算设备架构(Compute Unified Device Architecture,CUDA)并行算法性能相比,矩阵-向量乘并行算法在OpenCL架构下NVIDIA图形处理器(Graphic Processing Unit,GPU)计算平台上分别获得了20. 86倍、6. 39倍和1. 49倍的加速比.验证了提出的并行优化方法的有效性和性能可移植性.\n",
      "\n"
     ]
    },
    {
     "name": "stderr",
     "output_type": "stream",
     "text": [
      "\r",
      " 93%|█████████▎| 928/1000 [06:30<00:32,  2.18it/s]"
     ]
    },
    {
     "name": "stdout",
     "output_type": "stream",
     "text": [
      "一 种 基 于 信 任 机 制 的 概 率 矩 阵 分 解 协 同 过 滤 推 荐 算 法\n",
      "基 于 信 任 机 制 的 概 率 矩 阵 分 解 协 同 过 滤 推 荐 算 法\n",
      "传统的概率矩阵分解算法虽然较好地解决了推荐过程中的稀疏性和用户冷启动问题,但由于没有考虑到用户之间的信任信息,造成推荐精度不高.本文利用用户评分过程中潜在存在的信任关系,提出一种基于信任机制的概率矩阵分解协同过滤推荐算法TM-PMF(Probabilistic Matrix Factorization Algorithm of Collaborative Filtering Based on Trust Mechanism).首先根据用户间的信任关系来构建信任网络以获得信任评分矩阵.然后将信任评分矩阵与用户评分矩阵进行融合构建用户-信任评分矩阵,接着通过概率矩阵分解技术获得最优推荐列表.最终实验结果表明在不同稀疏数据集上,本文提出的TM-PMF算法较传统算法在精度方面有较大幅度地提高.\n",
      "\n"
     ]
    },
    {
     "name": "stderr",
     "output_type": "stream",
     "text": [
      "\r",
      " 93%|█████████▎| 929/1000 [06:31<00:30,  2.32it/s]"
     ]
    },
    {
     "name": "stdout",
     "output_type": "stream",
     "text": [
      "q o s 感 知 物 流 w e b 服 务 组 合 的 改 进 遗 传 算 法\n",
      "基 于 q o s 感 知 的 物 流 w e b 服 务 组 合 算 法 研 究\n",
      "随着Web服务技术的广泛应用,如何从海量功能性相同、非功能性不同的Web服务中,高效地组合出客户满意度高、服务质量最优的组合服务是第四方物流的核心.针对这一问题,建立了基于QoS感知的物流Web服务组合模型,在保证Web服务QoS全局约束和偏好的前提下,提出了一种新型的遗传优化算法.为了提高算法的种群适应度,该算法优化了基因编码方式、选择、交叉以及变异遗传算子.实验数据显示,改进后的遗传算法具备更高的收敛能力与寻优效率,能够用来处理物流Web服务组合问题.\n",
      "\n"
     ]
    },
    {
     "name": "stderr",
     "output_type": "stream",
     "text": [
      "\r",
      " 93%|█████████▎| 930/1000 [06:31<00:32,  2.14it/s]"
     ]
    },
    {
     "name": "stdout",
     "output_type": "stream",
     "text": [
      "联 合 贝 叶 斯 估 计 与 深 度 神 经 网 络 的 语 音 增 强 方 法\n",
      "基 于 听 觉 感 知 广 义 加 权 的 深 度 神 经 网 络 语 音 增 强 算 法 研 究\n",
      "目前,深度学习的研究方法已经成为了语音增强算法的新趋势,而输入的特征是影响增强效果的关键因素.实验表明,输入增强过的语音特征相对原始特征能更好地提升神经网络的语音增强效果.因此,本文首先提出一种改进的Chi分布下基于听觉感知广义加权的贝叶斯估计器,接着将改进的贝叶斯估计器作为深度神经网络的输入特征提取器,进而得到一种联合深度神经网络与Chi分布下基于听觉感知广义加权的贝叶斯估计器预处理的新型网络结构.实验仿真证明,提出的联合算法较传统语音增强算法与基于深度神经网络的语音增强算法在各个噪声环境下,各种性能指标均有了明显的提升.\n",
      "\n"
     ]
    },
    {
     "name": "stderr",
     "output_type": "stream",
     "text": [
      "\r",
      " 93%|█████████▎| 931/1000 [06:32<00:32,  2.10it/s]"
     ]
    },
    {
     "name": "stdout",
     "output_type": "stream",
     "text": [
      "滑 动 窗 口 中 f p - t r e e 的 频 繁 项 集 挖 掘 算 法 的 研 究\n",
      "滑 动 窗 口 中 f p - t r e e 的 频 繁 项 集 挖 掘 算 法\n",
      "当有大量的事务插入或者删除时,针对p Win算法在窗口滑动阶段反复访问前缀树进行事务的更新; DSFPM算法中DSFPM-Tree中大量的父子之间存在不频繁的关系,因此建立的DSFPM-Tree比较高,特别是在窗口滑动的时候,需要频繁更新DSFPM-Tree带来很大的时间开销等缺点,提出滑动窗口中FP-Tree的频繁项集挖掘算法.算法将数据流分成大小相等的模块来进行挖掘,每个模块均采用上三角矩阵存储,并且设计了一种概要结构NCFP-Tree来存储每个基本窗口中的临界频繁项集,窗口每次滑动一个基本窗口,利用优化的频繁项集挖掘算法,分别把各个基本窗口中的临界频繁项集挖掘出来.用C实现了该算法,实验结果证明了该算法比其他两个算法的时间效率更高,查全率和查准率都优于其它两个算法,具有良好的性能.\n",
      "\n"
     ]
    },
    {
     "name": "stderr",
     "output_type": "stream",
     "text": [
      "\r",
      " 93%|█████████▎| 932/1000 [06:32<00:29,  2.29it/s]"
     ]
    },
    {
     "name": "stdout",
     "output_type": "stream",
     "text": [
      "面 向 文 本 命 名 实 体 识 别 的 深 层 网 络 模 型\n",
      "基 于 深 层 网 络 模 型 的 文 本 命 名 实 体 识 别\n",
      "文本命名实体识别是信息抽取和预测的基本与关键任务,提出基于深层网络模型的命名实体识别方法,构建多种学习模型.首先对文本进行清洗并规范化,生成基本结构和表示方法,结合边界特征构建深层条件随机场模型,选择最优特征集训练.将文本表示为词向量形式,以向量作为深层神经网络的输入进行模型的训练,提出了基于块表示的BR-BiRNN、BR-BiLSTM-CRF命名实体识别深层网络模型,在I2B2 2006年和2014年评测数据集及妇产科真实医疗文本上实验,结果均比传统的SVM、HM M、CRF的F值高.\n",
      "\n"
     ]
    },
    {
     "name": "stderr",
     "output_type": "stream",
     "text": [
      "\r",
      " 93%|█████████▎| 933/1000 [06:32<00:27,  2.44it/s]"
     ]
    },
    {
     "name": "stdout",
     "output_type": "stream",
     "text": [
      "关 于 改 进 的 激 活 函 数 t r e l u 的 研 究\n",
      "t r e l u 在 噪 声 鲁 棒 性 研 究\n",
      "\"近年来深度学习在各个研究领域取得越来越多的成果,这些都离不开激活函数的发展.但现有的激活函数Tanh、Re LU和PRe LU在随着研究的深入暴露出越来越多的问题,比如存在\"\"神经元死亡\"\"和偏移现象,对噪声不具有鲁棒性.针对这些问题,结合Tanh和PRe LU的优点,提出了TReLU激活函数,通过参数α控制负半轴非饱和区间获得激活值,输出近似0均值,软饱和性对噪声鲁棒.实验结果表明,TReLU在四种不同的数据集上都取得了最好的效果,对不同优化方法具有鲁棒性,具有一定的实用价值.\"\n",
      "\n"
     ]
    },
    {
     "name": "stderr",
     "output_type": "stream",
     "text": [
      "\r",
      " 93%|█████████▎| 934/1000 [06:33<00:25,  2.58it/s]"
     ]
    },
    {
     "name": "stdout",
     "output_type": "stream",
     "text": [
      "大 数 据 下 的 销 售 异 常 发 现 与 定 位 模 型 研 究\n",
      "大 数 据 下 的 销 售 数 据 异 常 发 现 与 定 位 模 型\n",
      "当今时代传统零售业竞争异常激烈且数据量庞大,因此在大数据平台下挖掘异常并让其辅助决策成为企业提高竞争力的有效手段.目前大多数离群点检测方法仅能对具有可比性的数据进行异常挖掘,但销售数据却受到季节性、节假日等因素影响而失去可比性,且管理层的需求并不仅仅是挖掘异常,其最终目的是定位异常、实现责任到人等实用意义,从而针对销售数据的异常发现与定位方法成为一大难题.为此提出了大数据下的销售数据的异常发现与定位模型.该模型利用权重的思想使数据具有可比性,从不同角度的数据进行离群点检测后通过建立概率模型实现异常定位.由于权重思想及独有的异常定位两个特征,该模型在实际应用于步步高商业连锁股份有限公司时获得了相关专业人员的高度认可.\n",
      "\n"
     ]
    },
    {
     "name": "stderr",
     "output_type": "stream",
     "text": [
      "\r",
      " 94%|█████████▎| 935/1000 [06:33<00:23,  2.74it/s]"
     ]
    },
    {
     "name": "stdout",
     "output_type": "stream",
     "text": [
      "拟 态 防 御 理 论 在 企 业 内 网 安 全 防 护 中 的 应 用\n",
      "企 业 内 网 拟 态 安 全 防 御 技 术 研 究\n",
      "随着企业网络规模的不断扩大,企业内网的重要性日益凸显,但企业内网面临的威胁却层出不穷.目前业内采用的传统安全策略和常规安全防护技术不能够完全识别和防御这些威胁.在企业内网严峻的安全形势下,本文采用了引起业内广泛关注的拟态安全防御思想,提出了适用于企业内网的拟态网络模型,并基于模型实现了企业内网安全防护原型系统.实验结果表明,企业内网安全防护系统能够防御假冒用户、DDOS、网络蠕虫等多种攻击,并可以有效的阻断未知攻击,从而对于企业内网信息安全防护提供有力保障.\n",
      "\n"
     ]
    },
    {
     "name": "stderr",
     "output_type": "stream",
     "text": [
      "\r",
      " 94%|█████████▎| 936/1000 [06:34<00:25,  2.47it/s]"
     ]
    },
    {
     "name": "stdout",
     "output_type": "stream",
     "text": [
      "基 于 i p 坐 标 系 统 的 q o s 优 化 方 法\n",
      "一 种 基 于 分 布 式 服 务 节 点 i p 坐 标 系 统 的 q o s 评 估 与 推 荐 策 略\n",
      "分布式服务的网络环境是影响QoS的重要因素,由于实际网络中路由策略的影响,服务节点间延迟经常出现随机延迟污染和三角不等式违例等问题,从而导致节点坐标的计算产生误差.上述问题影响了服务响应时间和延时预测准确性,本文提出了一种基于分布式服务节点IP坐标系统的QoS评估与推荐策略,通过TO-Filter算法和Vivaldi算法,抑制污染和三角不等式违例从而提高服务质量,实验结果表明本文提出的方法在降低坐标抖动方面性能提升了8. 7%.\n",
      "\n"
     ]
    },
    {
     "name": "stderr",
     "output_type": "stream",
     "text": [
      "\r",
      " 94%|█████████▎| 937/1000 [06:34<00:24,  2.61it/s]"
     ]
    },
    {
     "name": "stdout",
     "output_type": "stream",
     "text": [
      "一 种 面 向 领 域 的 w e b 服 务 语 义 聚 类 方 法\n",
      "面 向 领 域 w e b 服 务 聚 类 模 型 研 究\n",
      "目前,互联网中发布的Web服务大都通过自然语言进行描述,这种非结构化的描述方式为机器进行自动分析与处理带来了极大的困难.如何提高服务发现的效率和精确率,已成为服务计算领域的研究热点之一.服务聚类是服务发现的重要支撑技术,通过将语义相似的服务加以聚类和组织,有助于改进服务发现的效果.当前的服务聚类技术主要采用LDA(潜式狄里克雷分布)和K-means等模型在同一领域下进行工作,利用这些方法进行服务聚类时还存在一定的局限性,例如,未充分利用词汇间的语义关系进行降维,从而导致服务发现的效果不够理想.针对该问题,本文使用神经网络模型(word2vec模型)获得服务描述中的同义词表并生成领域特征词集,来最大限度的降低服务特征向量维度;在此基础上,提出S-LDA(Semantic Latent Dirichlet Allocation)模型对同一领域的服务进行聚类,由此构建了一个面向领域的Web服务聚类框架(Domain Semantic aided Web Service Clustering,DSWSC).在ProgrammableWeb网站上发布的服务数据集开展的实验表明,与LDA和K-means等方法相比,本文方法在熵、聚类纯度和F指标上均取得了明显效果,有助于提高服务搜索的准确率.\n",
      "\n"
     ]
    },
    {
     "name": "stderr",
     "output_type": "stream",
     "text": [
      "\r",
      " 94%|█████████▍| 938/1000 [06:34<00:25,  2.47it/s]"
     ]
    },
    {
     "name": "stdout",
     "output_type": "stream",
     "text": [
      "流 式 应 用 层 协 议 载 荷 封 装 交 付 算 法 优 化\n",
      "一 种 优 化 的 流 式 协 议 载 荷 字 段 封 装 交 付 算 法\n",
      "在网络安全、网络管理环节,提取流量应用层数据载荷生成数字证据或管理策略有着重要的意义.不同于传统的网络转发处理设备,随着协议处理由低层到高层,所需要的计算资源、内存资源都逐步提升,因此面向应用的网络设备对性能有着更高的要求.本文针对在网络流量的协议解析后,载荷的封装交付任务,提出一种优化的流式协议载荷字段封装交付算法.该算法以实时任务处理为目标,减少应用层载荷在封装过程中的缓存占用,同时优化了字段日志交付的传输效率.在多核网络处理器上的实验表明,该算法能够有效提升系统的性能.\n",
      "\n"
     ]
    },
    {
     "name": "stderr",
     "output_type": "stream",
     "text": [
      "\r",
      " 94%|█████████▍| 939/1000 [06:35<00:26,  2.30it/s]"
     ]
    },
    {
     "name": "stdout",
     "output_type": "stream",
     "text": [
      "一 种 运 用 模 糊 综 合 评 判 的 实 时 服 务 器 负 载 均 衡 算 法\n",
      "基 于 模 糊 综 合 评 判 的 实 时 服 务 器 集 群 负 载 平 衡 算 法\n",
      "针对大数据时代,实时服务器集群负载平衡问题,本文提出了基于模糊综合评判的服务器负载均衡算法.依据模糊数学的理论,将影响服务器性能的因素作为多参量进行总体评价,即对集群中各服务器先建立因素集和评判集,通过实验评议的方法计算资源权重向量,根据模糊综合评判的基本原理,求出资源权重向量到服务能力向量的映射矩阵,然后利用主因素型公式进行多参量综合评判,从网络集群中选取隶属度最大的服务器作为本次任务重定向的目标.实验结果表明,本算法对服务器的性能评判准确,实时性强,避免了基于单因素评判算法的不足,能够解决实时服务器集群的负载平衡问题.\n",
      "\n"
     ]
    },
    {
     "name": "stderr",
     "output_type": "stream",
     "text": [
      "\r",
      " 94%|█████████▍| 940/1000 [06:35<00:27,  2.22it/s]"
     ]
    },
    {
     "name": "stdout",
     "output_type": "stream",
     "text": [
      "一 种 面 向 廊 桥 a p 的 e c c 身 份 认 证 方 案\n",
      "基 于 组 合 式 伪 随 机 数 的 无 线 网 络 无 统 一 身 份 认 证 方 案\n",
      "针对飞机通过廊桥接入点与航空公司进行飞机健康管理数据、电子飞行包等数据传输的无线网络无统一身份认证机制的问题,结合椭圆曲线密码体制与组合式伪随机数提出一种数字签名技术与身份认证方案,同时使用SVO逻辑对该方案进行形式化分析.结果表明,组合式伪随机数生成方案解决了身份认证中随机数的重复值问题,数字签名技术实现了基于身份的认证机制,身份认证方案实现了双向认证,椭圆曲线密码体制保证了密码强度.综合分析表明,该方案满足飞机与航空公司通过廊桥接入点进行数据传输的安全需求,能更好地应用于民航领域.\n",
      "\n"
     ]
    },
    {
     "name": "stderr",
     "output_type": "stream",
     "text": [
      "\r",
      " 94%|█████████▍| 941/1000 [06:36<00:26,  2.21it/s]"
     ]
    },
    {
     "name": "stdout",
     "output_type": "stream",
     "text": [
      "机 会 网 络 中 计 算 节 点 间 数 据 分 组 余 弦 相 似 度 的 高 效 转 发 策 略\n",
      "机 会 网 络 中 基 于 分 组 相 似 度 的 高 效 转 发 策 略\n",
      "在机会网络中,因为节点的移动特性导致网络拓扑结构呈现出动态变化的趋势,使得信息在网络中传输成功率较低,传输延迟相对较高.针对机会网络中存在拓扑结构不稳定的问题,从节点间存在的关系去考虑,提出基于节点间数据分组余弦相似度的高效转发策略(Efficient Forwarding Strategy based on Cosine Similarity of Data Packets between Nodes,CSDP).利用计算文本数据之间相似程度的算法——余弦距离,计算节点间数据分组的相似程度,以此来描述节点之间关系的强弱,然后再对节点间相似度的进行筛选,可以得到多条比较高效的传输路径.经过仿真实验分析,CSDP算法要比传统的机会网络路由算法有着更好的转发效果,可以在降低传输延迟的同时,有效地提高传输成功率.\n",
      "\n"
     ]
    },
    {
     "name": "stderr",
     "output_type": "stream",
     "text": [
      "\r",
      " 94%|█████████▍| 942/1000 [06:36<00:27,  2.09it/s]"
     ]
    },
    {
     "name": "stdout",
     "output_type": "stream",
     "text": [
      "虚 拟 化 i a a s 环 境 安 全 域 与 访 问 控 制 模 型 研 究\n",
      "虚 拟 化 i a a s 环 境 下 的 安 全 隔 离 与 访 问 控 制 模 型 研 究\n",
      "针对虚拟化IaaS(Infrastructure as a Service)环境下的安全隔离及访问控制问题进行了研究,通过系统地研究IaaS环境下的安全隔离与访问控制需求,以安全域划分原则为指导,从网络基础设施、域边界管控、安全支撑性基础设施方面综合考虑,系统地构建了IaaS平台网络安全域模型;并重点针对IaaS平台特有的共享多租户环境,抽象了租户域要素并构建了租户域模型.进一步地,在所构建的安全域模型的基础上,结合云计算环境下资源动态性、云资源具有时效性等因素,从用户业务会话访问控制的角度出发,基于RBAC(Role-Based Access Control)模型及UCON(Usage CONtrol)模型构建了包括用户、角色、权限、资源、授权规则等元素的云资源访问控制模型CloudAC,从而保障虚拟化IaaS环境下用户对云资源访问的安全性.实践表明,依据提出的安全域模型构建的云计算IaaS环境,可以有效地保障不同业务功能网络的安全隔离;利用基于租户域或租户子域构建的隔离网络环境,可以在较小的管理与资源开销下为租户提供灵活的域划分能力,让租户可以依据业务安全需求自主构建隔离与边界可控的网络环境,消除了传统方式下进行网络分段时对物理网络或物理防火墙的配置需求;并使业务环境具有纵深防御能力.同时,依据所构建的云资源访问控制模型,可以灵活构建具有权限分离、用户属性与云资源属性约束、云资源租赁时间约束、虚拟机资源隔离性增强特性的云资源访问控制系统,且相关属性与约束元素可结合业务需求按需扩充,从而能够更好地满足云环境下具有多租户共享、动态特性的云资源访问控制需求.\n",
      "\n"
     ]
    },
    {
     "name": "stderr",
     "output_type": "stream",
     "text": [
      "\r",
      " 94%|█████████▍| 943/1000 [06:37<00:25,  2.22it/s]"
     ]
    },
    {
     "name": "stdout",
     "output_type": "stream",
     "text": [
      "基 于 硬 件 虚 拟 化 t c m 的 信 任 链 扩 展 方 法\n",
      "硬 件 虚 拟 化 技 术 在 虚 拟 环 境 信 任 链 扩 展 中 的 应 用\n",
      "本文团队曾提出基于硬件虚拟化技术构建虚拟化TCM的方法,并设计了硬件虚拟化TCM支撑的可信虚拟环境,但是并未对信任链的扩展提出详细的方案.基于此研究成果,提出了硬件虚拟化TCM支撑下的虚拟环境信任链扩展的方法,对信任链扩展的详细过程进行描述,构建了从p TCM到虚拟机的完整信任关系,并提出虚拟机与可信计算基绑定的方案.实验分析表明,本文方案能够在新型可信虚拟环境中实现信任链的扩展,有效增强计算环境安全,系统开销可接受.\n",
      "\n"
     ]
    },
    {
     "name": "stderr",
     "output_type": "stream",
     "text": [
      "\r",
      " 94%|█████████▍| 944/1000 [06:37<00:24,  2.29it/s]"
     ]
    },
    {
     "name": "stdout",
     "output_type": "stream",
     "text": [
      "三 维 空 间 瞬 时 声 源 的 纯 方 位 角 估 计 性 能 分 析\n",
      "短 基 线 传 感 器 的 纯 方 位 角 估 计 性 能 分 析\n",
      "为提高短基线传感器阵列测向性能,在传统的方位角/俯仰角联合估计基础上提出一种纯方位角估计方案,将三维空间阵列映射为平面阵列,利用平面关系只对三维空间瞬时声源的方位角进行估计.基于克拉姆-拉奥下界理论的分析表明纯方位角估计性能优于联合估计的方位角结果,并讨论了纯方位角估计的使用时机.另外本文分析认为,阵列传感器之间高差只影响俯仰角的测向精度,对方位角估计精度不产生影响.仿真结果验证了纯方位角估计的有效性和优越性,为进一步工程应用奠定了理论基础.\n",
      "\n"
     ]
    },
    {
     "name": "stderr",
     "output_type": "stream",
     "text": [
      "\r",
      " 94%|█████████▍| 945/1000 [06:37<00:22,  2.47it/s]"
     ]
    },
    {
     "name": "stdout",
     "output_type": "stream",
     "text": [
      "d e e p t r i a g e : 一 种 基 于 深 度 学 习 的 软 件 缺 陷 自 动 分 配 方 法\n",
      "基 于 深 度 学 习 的 缺 陷 自 动 分 配 方 法\n",
      "在软件开发和维护过程中,缺陷修复工作有一项必不可少的任务,那就是缺陷分配.在大规模的软件项目中,基于文本分类的自动分配技术已被用于提高缺陷分配的效率,从而减少人工分配的等待时间和成本.考虑到缺陷报告文本内容的复杂性,本文提出了一种基于深度学习的缺陷自动分配方法,在词向量化后通过卷积神经网络对缺陷报告文本进行特征提取,然后完成分类任务.在Eclipse和Mozilla两个数据集上的结果表明,与传统的支持向量机和基于递归神经网络的方法相比,文本所提方法在准确率指标上均优于上述基准方法,而且多层平行的卷积神经网络结构比单层的卷积神经网络结构在预测效果上更好.\n",
      "\n"
     ]
    },
    {
     "name": "stderr",
     "output_type": "stream",
     "text": [
      "\r",
      " 95%|█████████▍| 946/1000 [06:38<00:22,  2.42it/s]"
     ]
    },
    {
     "name": "stdout",
     "output_type": "stream",
     "text": [
      "安 全 c 语 言 验 证 器 中 形 状 系 统 的 形 状 检 查 方 法\n",
      "基 于 霍 尔 逻 辑 的 c 语 言 自 动 验 证 器 形 状 检 查 方 法\n",
      "在一个基于霍尔逻辑和形状图逻辑的C语言自动验证器中,设计并实现了对形状图中所含易变数据结构的形状检查方法.本工作在验证器的形状系统中实现了显式形状检查与隐式形状检查,并通过引入不同的形状级别,使验证器能够根据不同的严格程度及时发现程序中不符合形状定义的易变数据结构,避免对形状图逻辑的相关演算造成影响.此外,为分解易变数据结构中不同指针域带来的复杂性,形状检查方法引入了三阶段处理框架:形状分割、形状分析及形状推断,分别实现形状图的预处理,针对指针指向与节点类型等方面进行分析,以及根据相关规则推断易变数据结构的形状级别.\n",
      "\n"
     ]
    },
    {
     "name": "stderr",
     "output_type": "stream",
     "text": [
      "\r",
      " 95%|█████████▍| 947/1000 [06:38<00:21,  2.42it/s]"
     ]
    },
    {
     "name": "stdout",
     "output_type": "stream",
     "text": [
      "s p a c e o s 中 若 干 全 局 性 质 的 形 式 化 描 述 和 验 证\n",
      "s p a c e o s 内 核 的 全 局 性 质 识 别 与 验 证\n",
      "SpaceOS是北京控制工程研究所自主研发的嵌入式实时操作系统,已被应用于探月工程、空间站等重大航天项目.SpaceOS作为底层系统软件,是影响航天任务成败的关键因素. SpaceOS在设计中提出了一些多个内核模块(如任务管理、调度、通信和时间管理等)相互协同过程中所需要满足的全局性质.本文扩展已有的操作系统验证框架支持全局性质的推理,为SpaceOS内核建立抽象模型,给出主要系统调用的抽象规范,并基于设计需求给出形式化定义描述若干全局性质,通过严格的数学证明保证SpaceOS在抽象设计层面上满足这些全局性质.所有工作都在证明助手Coq中完成.\n",
      "\n"
     ]
    },
    {
     "name": "stderr",
     "output_type": "stream",
     "text": [
      "\r",
      " 95%|█████████▍| 948/1000 [06:39<00:21,  2.46it/s]"
     ]
    },
    {
     "name": "stdout",
     "output_type": "stream",
     "text": [
      "测 试 用 例 执 行 轨 迹 分 析 的 故 障 定 位 方 法\n",
      "基 于 测 试 用 例 执 行 轨 迹 分 析 的 故 障 定 位 方 法\n",
      "大型软件的调试往往需要花费大量人力和时间,因此自动化的软件故障定位方法成为更好的选择.现有故障定位方法大都基于用例的覆盖信息进行分析,没有完全考虑测试用例执行时的顺序信息.针对上述问题,提出测试用例执行轨迹分析的故障定位方法,该方法首先通过控制流分析获得测试用例的执行轨迹,然后将执行轨迹编码成序列信息用于训练循环神经网络,最后将一组虚拟测试用例输入网络中预测代码块的可疑度.通过在Siemens套件上的实验和分析,验证了所提方法的有效性.\n",
      "\n"
     ]
    },
    {
     "name": "stderr",
     "output_type": "stream",
     "text": [
      "\r",
      " 95%|█████████▍| 949/1000 [06:39<00:19,  2.59it/s]"
     ]
    },
    {
     "name": "stdout",
     "output_type": "stream",
     "text": [
      "含 代 码 的 i t 社 区 答 案 质 量 评 价 模 型\n",
      "含 代 码 的 i t 社 区 答 案 质 量 评 价 模 型\n",
      "Stack Overflow问答社区已经成为软件开发者解决开发问题的重要渠道.但社区答案多样,信息繁杂,大量问答使开发者难以找到自己问题的匹配项,导致大量时间花费在寻找最佳答案上.为了解决上述问题,提出了含代码的IT社区答案质量评价模型.该模型首先收集所有符合要求的带有源码的问题答案对,分析问题中源码和答案中源码的相似程度,同时度量代码质量,然后结合用户评论对该答案的评价,统计得分,使得答案质量得以量化.最后按分数从高到低对答案进行重新排序,使代码片段质量高、相关程度高的信息出现在前列,方便用户寻找高质量的答案.实验证明,该模型能快速有效地完成IT社区答案质量评价,对答案进行重排序,给开发者迅速定位最佳答案带来非常实用的价值.结果表明,该模型切实可行.\n",
      "\n"
     ]
    },
    {
     "name": "stderr",
     "output_type": "stream",
     "text": [
      "\r",
      " 95%|█████████▌| 950/1000 [06:39<00:20,  2.47it/s]"
     ]
    },
    {
     "name": "stdout",
     "output_type": "stream",
     "text": [
      "g i t h u b 开 源 软 件 开 发 过 程 中 关 键 用 户 行 为 分 析\n",
      "基 于 g i t e r f l o w 的 g i t e r f l o w 开 源 软 件 用 户 行 为 分 析\n",
      "为了更好地管理GitHub开源软件开发的整个过程,本文构建了一个完整的开源软件开发过程中用户行为分析的模型(简称OUBA-Model).在该模型中,本文首先提出LRF用户行为重要度度量方法对开源软件开发中相关的用户行为重要性进行度量,得到用户行为中的关键用户行为;然后对关键用户行为进行分析.实验结果表明在开源软件开发中与PR和Issue相关的用户行为显得尤为重要,且在开源软件开发过程中这些行为与开源项目的流行度之间存在相关性.同时,分析的结果可以更好地指导GitHub开源软件的管理与开发.\n",
      "\n"
     ]
    },
    {
     "name": "stderr",
     "output_type": "stream",
     "text": [
      "\r",
      " 95%|█████████▌| 951/1000 [06:40<00:20,  2.38it/s]"
     ]
    },
    {
     "name": "stdout",
     "output_type": "stream",
     "text": [
      "长 度 分 布 悬 殊 的 序 列 比 对 法\n",
      "基 于 动 态 规 划 原 理 的 均 值 d t w 匹 配 算 法\n",
      "经典的动态时间规整算法(Dynamic Time Warping,DTW)对长度相差剧烈的两个序列之间的相异(似)性度量会引入长度的影响,这种影响在多对序列之间匹配时造成度量数值上的失衡从而导致DTW度量相似性的失效.该文分析了这种失效性的来源,提出祛除长度差异影响的均值DTW法.和传统DTW法相比,均值DTW是其非平凡的推广,因而无法直接使用基于动态规划原理的算法.基于该文给出的动态规划的匹配路径数目计算,强调了枚举法施加于均值DTW的不可行性.在引入均值的累计计算技巧后,将均值DTW纳入传统的基于动态规划原理的算法框架,实现了等价于DTW计算复杂性、双倍于DTW存储占用的均值DTW算法.该算法相比于DTW在电离辐射时间序列的聚类实验中将算法结果的精度指标至少提升了50%以上.该文的创新性在于:1)首次发现了DTW可能失效的长度差异因素; 2)提出了均值DTW的概念; 3)首次提出了动态路径数目的定量计算方法; 4)给出均值DTW的加窗限制版本.\n",
      "\n"
     ]
    },
    {
     "name": "stderr",
     "output_type": "stream",
     "text": [
      "\r",
      " 95%|█████████▌| 952/1000 [06:40<00:18,  2.55it/s]"
     ]
    },
    {
     "name": "stdout",
     "output_type": "stream",
     "text": [
      "支 持 探 索 式 研 判 分 析 的 动 态 e t l 流 程 服 务\n",
      "探 索 式 研 究 分 析 的 动 态 e t l 流 程 服 务\n",
      "\"ETL(Extract-Transformation-Loading)作为一种将不同来源的原始数据转换为有效信息的数据集成手段,可为基于综合信息的研判分析提供支持.然而,在当前信息共享和大数据等发展趋势下,各行业研判分析活动表现出多样化、动态性的特征,往往需要面对大量动态、突发的数据抽取、转换及加载需求,传统预定义式的ETL方式难以快速实现.为此,提出一种支持探索式研判分析的动态ETL流程服务,包括探索式研判分析的基本思路、动态ETL流程服务的实现及ETL处理并发性能优化方法,并结合某公安联合作战指挥应用案例对动态ETL流程服务进行了验证,实际应用表明该服务能够支持以\"\"边构造边执行\"\"的方式实现用于研判分析的ETL流程.\"\n",
      "\n"
     ]
    },
    {
     "name": "stderr",
     "output_type": "stream",
     "text": [
      "\r",
      " 95%|█████████▌| 953/1000 [06:41<00:20,  2.35it/s]"
     ]
    },
    {
     "name": "stdout",
     "output_type": "stream",
     "text": [
      "非 确 定 、 不 保 真 、 复 杂 资 源 环 境 的 正 反 双 向 动 态 平 衡 搜 索 服 务\n",
      "面 向 医 疗 数 据 的 正 反 双 向 动 态 平 衡 搜 索 服 务 提 供 方 法\n",
      "互联网资源存在非确定、不保证、超复杂特性,同时还有高度时效性.本文主要对用户提出的具有正反判定性问题进行有限次数的递进搜索,通过递进搜索逐步提高搜索出的资源的可信度,同时引入数据图谱、信息图谱和知识图谱三层架构,将网络上资源进行组织.本文提出的面向非确定、不保真、复杂资源环境的正反双向动态平衡搜索服务提供方法通过语义分析理解用户检索信息的倾向性,按正反倾向对用户提出的需求进行搜索,根据每次搜索的条目数以及每项条目对应资源的熵值计算该倾向资源的可靠性,虚假信息以及失效信息会随着递进搜索的次数被排除,提高了搜索资源的质量,同时避免面对无穷尽超复杂性问题时搜索陷入死循环的情况.本文应对当前医疗数据的高时效性以及复杂的医疗资源环境,将此搜索策略应用于医疗资源处理系统中,为医疗工作者提供高准确度的医疗资源检索服务.\n",
      "\n"
     ]
    },
    {
     "name": "stderr",
     "output_type": "stream",
     "text": [
      "\r",
      " 95%|█████████▌| 954/1000 [06:41<00:20,  2.28it/s]"
     ]
    },
    {
     "name": "stdout",
     "output_type": "stream",
     "text": [
      "基 于 方 形 邻 域 和 裁 剪 因 子 的 离 群 点 检 测 方 法\n",
      "基 于 三 角 邻 域 和 裁 剪 因 子 的 离 群 点 检 测 算 法\n",
      "\"针对改进的局部稀疏系数(Enhanced Local Sparsity Coefficient,简称ELSC)算法在邻域查询过程中存在的不足,以及为了提高算法查准率,提出了一种基于方形邻域和裁剪因子的离群点检测算法.首先采用方形邻域,吸取网格算法的思想,以扩张的方形邻域代替网格分割,快速地排除聚类点,避免了网格算法的\"\"维灾\"\"问题.其次为了提高算法的精确度,引入裁剪因子的概念对候选离群点集进行精选.最后通过新定义的局部稀疏指数确定离群点.试验测试表明,该算法的执行效率与检测精度均优于ELSC算法.\"\n",
      "\n"
     ]
    },
    {
     "name": "stderr",
     "output_type": "stream",
     "text": [
      "\r",
      " 96%|█████████▌| 955/1000 [06:42<00:17,  2.53it/s]"
     ]
    },
    {
     "name": "stdout",
     "output_type": "stream",
     "text": [
      "云 存 储 中 属 性 撤 销 机 制 研 究 综 述\n",
      "云 存 储 中 属 性 撤 销 机 制 综 述\n",
      "在云存储数据共享应用场景下,用户的属性不是一成不变的,因此用户或者属性级的撤销方案就显得尤为重要.本文从云存储中属性撤销的两种分类出发,介绍了属性的直接撤销和间接撤销,回顾了相关的研究历史,并列举了三个不同的属性撤销方案,对云存储中属性撤销机制进行了综述.最后,对本文进行了总结.这些工作将对云存储中属性撤销机制的进一步研究提供理论参考.\n",
      "\n"
     ]
    },
    {
     "name": "stderr",
     "output_type": "stream",
     "text": [
      "\r",
      " 96%|█████████▌| 956/1000 [06:42<00:15,  2.82it/s]"
     ]
    },
    {
     "name": "stdout",
     "output_type": "stream",
     "text": [
      "一 种 红 通 道 反 转 的 水 下 图 像 复 原 算 法\n",
      "改 进 的 水 下 图 像 复 原 算 法\n",
      "由于水体对光的选择性吸收以及杂质对光的散射效应,导致水下图像色彩失真以及对比度下降,针对这一问题,提出了一种改进的水下图像复原算法.该方法通过将图像红通道反转来避免红通道快速衰减的影响,将暗通道先验用于红通道反转图像的复原,并利用背景光强度修正各通道透射率,在复原过程中采用了一种简单的自动白平衡算法去除严重的色彩失真.实验结果表明,算法能有效复原出清晰图像,去除颜色失真,且对人工光源照射区域同样适用.\n",
      "\n"
     ]
    },
    {
     "name": "stderr",
     "output_type": "stream",
     "text": [
      "\r",
      " 96%|█████████▌| 957/1000 [06:42<00:15,  2.79it/s]"
     ]
    },
    {
     "name": "stdout",
     "output_type": "stream",
     "text": [
      "一 种 h e v c 帧 内 编 码 快 速 决 策 组 合 算 法\n",
      "应 用 于 帧 内 模 式 快 速 编 码 组 合 算 法\n",
      "为了降低高效视频编码(HEVC)的帧内编码计算复杂度,本文提出一种应用于预测模式决策和编码单元大小决策的帧内模式快速编码组合算法.在预测模式选择上,本文根据预测单元(PU)的纹理信息对粗模式决策(RMD)和率失真最优化(RDO)候选列表进行筛选以减少计算复杂度.在编码单元(CU)大小决策方面,根据CU的纹理复杂度,对平滑简单的CU自适应地终止划分,对纹理复杂的CU跳过编码提前进行划分,减少CU深度遍历的时间.实验结果表明,本文算法与HM参考模型相比,能够平均降低38. 0%的编码时间,而BDBR仅增加0. 33%.与现有的优秀算法相比,本文算法进一步降低了编码时间,且具有更好的编码质量.\n",
      "\n"
     ]
    },
    {
     "name": "stderr",
     "output_type": "stream",
     "text": [
      "\r",
      " 96%|█████████▌| 958/1000 [06:43<00:16,  2.59it/s]"
     ]
    },
    {
     "name": "stdout",
     "output_type": "stream",
     "text": [
      "用 于 医 学 图 像 认 证 的 c o n t o u r l e t - s v d 双 水 印 算 法\n",
      "结 合 特 征 值 进 行 医 学 图 像 认 证 的 双 水 印 算 法\n",
      "针对现有的数字图像水印算法在应用于医学图像时过于复杂,接收端定位感兴趣区域处理时间长的问题,提出一种依据特征值自动还原感兴趣区域的双水印嵌入算法.使用Harris角点法提取医学图像特征值,根据特征值分布划分感兴趣区域,使用奇异值分解将认证水印嵌入感兴趣区域经过轮廓波分解后的低通子带的最大奇异值中,病人信息嵌入至经过轮廓波分解后的非感兴趣区域中频子带系数中,并选择一定数量的感兴趣区域稳定特征点值嵌入至高频子带中.实验结果显示嵌入水印前后特征提取匹配程度高,篡改探测实验成功率均大于90%,PSNR值大于42db.算法通过提取特征值实现了感兴趣区域自动选择,提高实际应用效率,充分利用轮廓波分解得到多个子带提高图像水印负载能力,与奇异值分解法结合保证水印具有良好的不可见性和抗攻击能力,增强医学图像传输的安全性和完整性.\n",
      "\n"
     ]
    },
    {
     "name": "stderr",
     "output_type": "stream",
     "text": [
      "\r",
      " 96%|█████████▌| 959/1000 [06:43<00:16,  2.48it/s]"
     ]
    },
    {
     "name": "stdout",
     "output_type": "stream",
     "text": [
      "天 空 识 别 的 改 进 暗 通 道 先 验 单 幅 图 像 去 雾 算 法 研 究\n",
      "基 于 改 进 暗 通 道 先 验 的 单 幅 图 像 去 雾 算 法\n",
      "针对目前存在的单幅图像去雾算法无法有效处理天空区域的缺点,提出天空识别的改进暗通道先验去雾算法.首先利用差分函数与暗通道信息结合的方式来去除天空区域中高亮像素带来的干扰,准确估计的大气光;随后改进暗通道先验中透射率的估计方式,使其能对天空区域和景物区域分别估计,得到初略的透射率图,再联合自适应中值滤波和双边滤波快速地修正细化;最后利用物理散射模型估计无雾的清晰图像.算法与多种存在的图像去雾算法相对比,结果表明算法不但能对图像中景物和天空进行准确的去雾处理,且运行时间还提高了至少29%,能有效用于监控系统中的图像去雾.\n",
      "\n"
     ]
    },
    {
     "name": "stderr",
     "output_type": "stream",
     "text": [
      "\r",
      " 96%|█████████▌| 960/1000 [06:43<00:16,  2.43it/s]"
     ]
    },
    {
     "name": "stdout",
     "output_type": "stream",
     "text": [
      "基 于 自 学 习 s o m 和 a r m a 算 法 的 数 控 机 床 滚 动 轴 承 健 康 预 警 研 究\n",
      "基 于 特 征 映 射 的 滚 动 轴 承 健 康 维 护 系 统 研 究\n",
      "随着我国智能制造技术的发展,预测性设备维护在工业环境中扮演着日益重要的角色.目前大多的健康预警算法针对性较强,自学习能力不足,导致算法的适用性、灵活性存在较大的局限性.为此,本文以滚动轴承为研究对象,基于状态检测的设计策略,完成了滚动轴承健康维护的实施方案;根据以上实施方案,提出并实现了自组织特征映射网络的故障诊断算法及自适应ARMA故障预警算法,提高了滚动轴承故障诊断与预警的智能化水平及对健康预警的处理效率.实验结果表明,所研究的算法对于实现可靠的滚动轴承故障诊断及预警具有良好的应用效果.\n",
      "\n"
     ]
    },
    {
     "name": "stderr",
     "output_type": "stream",
     "text": [
      "\r",
      " 96%|█████████▌| 961/1000 [06:44<00:20,  1.88it/s]"
     ]
    },
    {
     "name": "stdout",
     "output_type": "stream",
     "text": [
      "不 确 定 数 据 背 景 下 基 于 d s - m m 的 设 备 健 康 预 测 研 究\n",
      "不 确 定 样 本 数 据 下 设 备 健 康 预 测 问 题 的 集 成 d e m p s t e r - s h a f e r 证 据 理 论 与 马 尔 可 夫 模 型\n",
      "目前,设备健康预测问题的研究大都在样本数据准确下进行,而在样本数据不确定下的研究却很少.因此,针对不确定样本数据下设备健康预测问题,提出了集成Dempster-Shafe(DS)证据理论与马尔可夫模型(MM)的联合优化模型.首先,基于马尔可夫模型,利用DS证据理论建立状态识别框架.其次,用区间数表示不确定的数据,并利用区间数之间的距离和相似度作为产生基本概率赋值(BPA)的证据,为了使预测结果更加可靠,采用Pignistic概率转换将BPA转化为基础状态的概率分布.最后,通过案例分析对模型进行评价和验证.结果表明,提出的方法能够有效解决数据不确定下的设备健康预测问题.\n",
      "\n"
     ]
    },
    {
     "name": "stderr",
     "output_type": "stream",
     "text": [
      "\r",
      " 96%|█████████▌| 962/1000 [06:45<00:19,  1.91it/s]"
     ]
    },
    {
     "name": "stdout",
     "output_type": "stream",
     "text": [
      "基 于 神 经 网 络 的 地 铁 短 时 客 流 预 测 服 务\n",
      "基 于 卡 尔 曼 滤 波 的 地 铁 客 流 短 时 预 测 算 法\n",
      "短时客流预测在为人类构建智慧城市,提供风险预警,保证出行安全中扮演着重要的角色.本文在神经网络算法的基础上,结合卡尔曼滤波,提出了一种新型有效的地铁客流短时预测算法.对于要预测的时刻t,算法利用它之前24小时的客流量作为输入特征.由于实验数据存在噪声,本文利用卡尔曼滤波对实验数据进行去躁平滑处理.最后算法利用BP神经网络和LSTM递归神经网络进行建模与预测.我们利用杭州地铁提供的真实购票数据进行大量实验,证明了BP神经网络(基于adam算法和relu激活函数)以及LSTM递归神经网络(基于adam算法和tanh激活函数的)准确度最高,预测的平均绝对误差最小(5%左右).另外,实验还证明了卡尔曼滤波能够有效减少预测的平均绝对误差.相比于不使用卡尔曼滤波的神经网络,使用卡尔曼滤波后的神经网络算法可以降低相对25%的MAE.\n",
      "\n"
     ]
    },
    {
     "name": "stderr",
     "output_type": "stream",
     "text": [
      "\r",
      " 96%|█████████▋| 963/1000 [06:45<00:17,  2.11it/s]"
     ]
    },
    {
     "name": "stdout",
     "output_type": "stream",
     "text": [
      "面 向 心 血 管 疾 病 的 自 适 应 模 块 化 神 经 网 络 预 测 模 型\n",
      "自 适 应 模 块 化 神 经 网 络 结 构 模 型 及 其 应 用\n",
      "随着计算机科学技术的发展,将计算机技术应用在医疗方面进行疾病预测已经成为当前研究的热点.针对单一全互连前馈神经网络难以应对心血管疾病预测时的多维数据,并且参数和结构设计需要人工实验确定,泛化收敛的能力差等问题,本文提出一种自适应模块化神经网络结构模型(AMNN).首先,对训练数据集采用概率密度峰值聚类算法确定训练数据集的聚类中心,以此确定每个模块的训练样本集,然后每个模块采用训练BP神经网络算法,该算法可以利用分配来的训练样本数据自适应构建模块结构.实验结果表明,该模型相对标准的随机森林算法和传统单一全互连前馈神经预测心血管疾病准确率高,收敛速率快.\n",
      "\n"
     ]
    },
    {
     "name": "stderr",
     "output_type": "stream",
     "text": [
      "\r",
      " 96%|█████████▋| 964/1000 [06:46<00:16,  2.19it/s]"
     ]
    },
    {
     "name": "stdout",
     "output_type": "stream",
     "text": [
      "聚 类 集 成 技 术 在 地 铁 站 点 类 型 研 究 中 的 应 用\n",
      "聚 类 集 成 技 术 在 地 铁 站 点 类 型 研 究 中 的 应 用\n",
      "合理的地铁站点分类对站点管理和交通规划有重要的意义.针对现有的站点聚类分析研究中均采用单一的聚类方法取得的效果不够理想,鲁棒性不高等问题,提出了基于聚类集成方法的地铁站点类型研究方法,并提出了相应的稳定性判别指标.该方法结合福州地铁1号线工作日客流数据,首先运用层次聚类、k均值聚类和模糊C均值聚类三种方法产生基聚类;其次通过基于共协关系矩阵的集成方法实现对基聚类的集成.实验结果表明,聚类集成相较于其他三种方法在数据集划分上更加稳定.最终将福州地铁1号线站点分为超高流量站点、高流量站点、中流量站点以及低流量站点4类.\n",
      "\n"
     ]
    },
    {
     "name": "stderr",
     "output_type": "stream",
     "text": [
      "\r",
      " 96%|█████████▋| 965/1000 [06:46<00:16,  2.18it/s]"
     ]
    },
    {
     "name": "stdout",
     "output_type": "stream",
     "text": [
      "移 动 云 中 可 模 块 并 行 应 用 的 计 算 迁 移 算 法 研 究\n",
      "移 动 云 中 可 模 块 并 行 应 用 的 计 算 迁 移 算 法 研 究\n",
      "将移动应用中计算密集型的模块迁移至云中运行,已成为移动云中提升应用性能的惯用方法.目前,在不同环境下为移动应用设计相应的迁移方案已经成为了研究热点.然而,现有工作对于应用进行计算迁移后,对其分布式执行时模块并行的特性仍未给予足够的重视.本文针对可模块并行的移动应用,探讨了其特性并提出在决策应用各模块执行地点的同时优化数据传输顺序的解决方案,同时设计高效的贪心算法,在满足决策实时性需求的前提下显著提升应用的性能.通过实验验证,本文设计的算法相较公平竞争及先来先服务的数据传输方案,能缩短约5%的响应时间.\n",
      "\n"
     ]
    },
    {
     "name": "stderr",
     "output_type": "stream",
     "text": [
      "\r",
      " 97%|█████████▋| 966/1000 [06:46<00:14,  2.28it/s]"
     ]
    },
    {
     "name": "stdout",
     "output_type": "stream",
     "text": [
      "面 向 云 制 造 资 源 调 度 预 测 的 学 习 模 型\n",
      "基 于 o n b a 的 多 目 标 优 化 云 制 造 模 型 调 度\n",
      "云制造资源调度面临着多目标优化基于群组智能优化调度算法对云制造任务求解耗时较长,本文首先提出一种基于ONBA并结合二阶振荡和差分进化算法的改进算法,利用改进算法获取云制造模型的调度数据,并通过该调度数据对IDBN深度学习模型进行训练.通过对深度学习学习率的改进,达到通过深度学习模型快速预测云制造模型调度结果.实验结果表明,通过这种方式,我们可以对调度结果进行准确的预测并大大缩短所消耗的时间.这给传统的多目标群组优化开辟了一条新的道路.\n",
      "\n"
     ]
    },
    {
     "name": "stderr",
     "output_type": "stream",
     "text": [
      "\r",
      " 97%|█████████▋| 967/1000 [06:47<00:14,  2.28it/s]"
     ]
    },
    {
     "name": "stdout",
     "output_type": "stream",
     "text": [
      "s p a r k 环 境 下 基 于 综 合 权 重 的 不 平 衡 数 据 集 成 分 类 方 法\n",
      "s p a r k 环 境 下 基 于 综 合 权 重 的 不 平 衡 数 据 集 成 分 类 方 法\n",
      "不平衡数据分类经常面临样本严重不平衡、少数类样本分类精度低的问题,随着数据规模增大,分类效率也成为了瓶颈问题.针对以上问题,本文结合spark高效的数据处理能力,提出了一种Spark环境下基于综合权重的不平衡数据集成分类方法.该方法首先依照多数类样本中每类样本的权重以及少数类样本量获得的综合权重进行采样,并与少数类样本组成平衡规模的训练数据集;其次,采用基于相关性的特征选择方法选择最优的特征子集,并对随机森林算法进行改进优化以及利用其获得子分类器.最后在Spark环境下,以UCI数据集进行实验验证.实验结果表明本文方法不仅提高了整体分类精度,而且提升了分类效率.\n",
      "\n"
     ]
    },
    {
     "name": "stderr",
     "output_type": "stream",
     "text": [
      "\r",
      " 97%|█████████▋| 968/1000 [06:47<00:13,  2.44it/s]"
     ]
    },
    {
     "name": "stdout",
     "output_type": "stream",
     "text": [
      "延 迟 代 价 双 量 化 三 支 决 策\n",
      "延 迟 代 价 双 量 化 三 支 决 策\n",
      "决策粗糙集理论中,三种单调性的代价目标函数被用来评价三支决策的风险.然而,在实际应用中,其中的延迟代价目标函数经常存在着非单调现象.针对这种现象,本研究首先提出了一种基于三支决策代价目标函数间逻辑关系的阈值计算方法.然后,提出了双量化延迟代价目标函数的策略,并且分别讨论了相应的三支决策阈值推导,重点阐述了延迟代价双量化的乐观视角和悲观视角.最后,通过一组典型的实例证明了上述代价双量化三支决策的设计和推理的可行性.\n",
      "\n"
     ]
    },
    {
     "name": "stderr",
     "output_type": "stream",
     "text": [
      "\r",
      " 97%|█████████▋| 969/1000 [06:48<00:12,  2.45it/s]"
     ]
    },
    {
     "name": "stdout",
     "output_type": "stream",
     "text": [
      "基 于 s h o t 特 征 融 合 的 散 乱 工 件 点 云 配 准 算 法\n",
      "基 于 s h o t 特 征 融 合 的 点 云 配 准 方 法\n",
      "针对随机箱体抓取过程中目标识别和定位问题,提出一种基于SHOT特征融合的点云配准方法.对结构光三维测量获取的点云进行预处理和分割,得到去除噪声点后的多个工件点云数据集;提出基于方向包围盒裁剪的方法,得到去除稀疏边缘点后的工件点云,结合均匀采样算法获取关键点集;通过改进SHOT特征描述子对关键点进行唯一性描述;采用最小方差法查找工件点云的关键点在模板点云中的对应点,根据对应关系求解初始变换矩阵;最后,使用ICP算法进行精确配准,得到工件的精确位姿信息.实验结果表明,将本文算法与基于FPFH特征配准、SHOT特征配准算法进行对比,配准精度分别提高了30. 07%和37. 10%,配准速度分别提高了35. 64%和21. 21%.\n",
      "\n"
     ]
    },
    {
     "name": "stderr",
     "output_type": "stream",
     "text": [
      "\r",
      " 97%|█████████▋| 970/1000 [06:48<00:11,  2.66it/s]"
     ]
    },
    {
     "name": "stdout",
     "output_type": "stream",
     "text": [
      "面 向 业 务 过 程 的 时 间 预 测 方 法\n",
      "业 务 过 程 剩 余 时 间 预 测 技 术 综 述\n",
      "为了在充满竞争的社会环境中生存,企业必须实现高效的工作流程.为此,时间作为业务流程中的重要因素,在近几年得到了越来越多的关注.准确的时间预测对提高企业服务效率、降低运行成本,预防违规活动发生等具有重要意义.时间预测根据应用的场景分为业务过程的剩余时间预测,业务过程中某一个活动执行时间预测以及业务过程的违规预测三种类型.本文综述了近年来有关时间预测的研究成果,总结了时间预测技术面临的挑战,并在此基础上给出了未来的研究方向.\n",
      "\n"
     ]
    },
    {
     "name": "stderr",
     "output_type": "stream",
     "text": [
      "\r",
      " 97%|█████████▋| 971/1000 [06:48<00:12,  2.42it/s]"
     ]
    },
    {
     "name": "stdout",
     "output_type": "stream",
     "text": [
      "移 动 群 智 感 知 中 基 于 深 度 强 化 学 习 的 位 置 隐 私 保 护 策 略\n",
      "移 动 群 智 感 知 中 基 于 深 度 强 化 学 习 的 隐 私 保 护 策 略\n",
      "群智感知服务的广泛应用带来了个人隐私的泄漏,然而现存的隐私保护策略不能适应群智感知环境.针对相关缺陷,提出了一种移动群智感知中基于深度强化学习的隐私保护策略.该策略通过泛化任务,使得攻击者无法分辨用户具体完成了哪一个任务,切断了用户和任务之间的关联,保护了用户的位置隐私.当混淆任务数量不足以达到用户的隐私保护需求时,使用抑制法放弃该任务.该策略使用深度强化学习的方法不断尝试不同的混淆任务组合,训练一个可以输出最低抑制率的混淆任务选择方案的深度Q网络.实验结果表明,上述策略在不破坏感知任务有效性的前提下,以较低的抑制率保护了用户的位置隐私.\n",
      "\n"
     ]
    },
    {
     "name": "stderr",
     "output_type": "stream",
     "text": [
      "\r",
      " 97%|█████████▋| 972/1000 [06:49<00:11,  2.36it/s]"
     ]
    },
    {
     "name": "stdout",
     "output_type": "stream",
     "text": [
      "结 合 空 间 划 分 和 支 持 向 量 机 的 两 级 定 位 算 法\n",
      "基 于 空 间 划 分 和 支 持 向 量 机 的 两 级 定 位 算 法\n",
      "目前室内定位的主流方法是根据WiFi指纹模式匹配来确定目标位置,但由于室内环境的复杂性和WiFi信号的不稳定性,其性能尚不能满足高精度室内定位的需求.为提高定位精度,提出一种基于空间划分和支持向量机(Support Vector Ma-chines,SVM)的两级室内定位算法.该算法首先采用优化K-means聚类算法,对定位区域的WiFi指纹进行聚类,并据此进行空间划分产生子区域;然后采用SVM实现两级WiFi指纹定位:第一级采用SVM分类确定目标所在子区域,第二级在子区域内采用SVM回归确定目标精确位置坐标.实验表明,提出的基于空间划分的两级定位精度明显优于单级定位,提出的空间划分算法优于当前其它空间划分算法.\n",
      "\n"
     ]
    },
    {
     "name": "stderr",
     "output_type": "stream",
     "text": [
      "\r",
      " 97%|█████████▋| 973/1000 [06:49<00:11,  2.42it/s]"
     ]
    },
    {
     "name": "stdout",
     "output_type": "stream",
     "text": [
      "词 间 关 系 的 不 确 定 图 模 型 与 关 键 词 自 动 抽 取 方 法\n",
      "基 于 不 确 定 图 的 无 监 督 关 键 词 抽 取 算 法\n",
      "传统的无监督关键词抽取算法往往无法反应词汇语义信息,而通过词频等方式来衡量一个词的重要性使其在面对短文本时准确率较低.为能兼顾词间语义关系、词位置关系及词频,结合word2vec提出了一种词间的文本局部相似度公式,并通过词间关系建立了不确定图模型,在提出顶点密度概念及候选关键词评价指标DEN的基础上,提出了基于不确定图的候选关键词抽取算法,并结合IDF提出了关键词评价的优化标准DEN-IDF.这种关键词抽取的新方法不依赖于外部人工标注数据,能够实现全程无监督.通过大量文本实验仿真发现,DEN-IDF的准确率比TF-IDF提高了8%左右,比TextRank提高了12%左右.\n",
      "\n"
     ]
    },
    {
     "name": "stderr",
     "output_type": "stream",
     "text": [
      "\r",
      " 97%|█████████▋| 974/1000 [06:50<00:10,  2.39it/s]"
     ]
    },
    {
     "name": "stdout",
     "output_type": "stream",
     "text": [
      "一 种 预 填 补 社 团 聚 类 的 兴 趣 点 推 荐 算 法\n",
      "基 于 预 填 补 社 团 聚 类 的 兴 趣 点 推 荐 算 法\n",
      "基于位置的社交网络(LBSN)中的数据信息往往会存在数据稀疏,甚至部分信息缺失的情况,导致推荐的准确性不高.兴趣点推荐系统中蕴含着丰富的多源异构数据,如好友关系数据、地理位置数据以及用户对兴趣点的评分等,使用这些数据可以有效提升兴趣点推荐算法的准确率.本文提出一种预填补社团聚类的兴趣点推荐算法.通过社团聚类算法来分别对签到评分数据以及好友关系数据建模得到用户对兴趣点的个人兴趣和社交兴趣,并添加距离影响因素.从而建立了SoGS模型来进行兴趣点推荐.并且提出一种基于相容类的预填补算法来缓解原始用户-兴趣点评分矩阵的稀疏性问题,融合SoGS模型进行对比实验.实验采用Yelp数据集,结果表明,SoGS模型能有效提高兴趣点推荐系统的准确率和召回率.\n",
      "\n"
     ]
    },
    {
     "name": "stderr",
     "output_type": "stream",
     "text": [
      "\r",
      " 98%|█████████▊| 975/1000 [06:50<00:10,  2.43it/s]"
     ]
    },
    {
     "name": "stdout",
     "output_type": "stream",
     "text": [
      "关 联 关 系 粒 化 结 构 的 矩 阵 计 算 与 应 用\n",
      "基 于 关 联 组 合 结 构 的 关 联 矩 阵 的 划 分\n",
      "为解决实际问题中存在的关系合并问题,提出基于对关联关系进行划分的方法.首先,基于关联关系、数据集以及关联关系的划分给出了关联组合结构与粒化结构的定义;其次,为了能够利用简便快捷的计算机程序对上述问题进行处理,给出了关联组合结构与粒化结构的关联矩阵表示;由于关联组合结构与粒化结构的相关性,给出了通过对关联组合结构的关联矩阵进行运算以得到粒化结构的关联矩阵的方法.最后,将上述理论应用于解决公路路线合并后,调度站点的调整与调度中心选择的问题中,通过对得到的粒化结构的关联矩阵的分析,并依据调度站点与调度中心点的特点,在粒化结构的关联矩阵中得到调度站点的调整情况以及调度中心的选择.\n",
      "\n"
     ]
    },
    {
     "name": "stderr",
     "output_type": "stream",
     "text": [
      "\r",
      " 98%|█████████▊| 976/1000 [06:50<00:09,  2.63it/s]"
     ]
    },
    {
     "name": "stdout",
     "output_type": "stream",
     "text": [
      "基 于 边 权 的 稳 定 标 签 传 播 社 区 发 现 算 法\n",
      "基 于 边 权 的 稳 定 标 签 传 播 算 法\n",
      "针对传统标签传播算法(LPA)中存在的输出结果不稳定和易形成巨型社区的缺陷,提出一种基于边权的稳定标签传播算法(SLPA＿EW)用于社区发现.算法首先基于三角结构度量节点邻居的不同地位并将度量结果作为边权.接着,利用邻居中同一标签的边权累加值指导节点标签的更新过程,将随机的标签选择变为确定的选择,以保证算法输出结果的稳定性.标签初始化过程中,将边权互为最大值的相邻节点形成节点对并赋予相同标签,避免初始传播时出现标签振荡的问题.标签传播过程中,将标签权重加入到标签更新规则中以限制形成社区的规模,避免出现巨型社区的问题.真实网络数据集上的实验结果表明,所提算法能够保障输出的稳定性和质量,并且拥有较低的运行时间和迭代次数.\n",
      "\n"
     ]
    },
    {
     "name": "stderr",
     "output_type": "stream",
     "text": [
      "\r",
      " 98%|█████████▊| 977/1000 [06:51<00:09,  2.34it/s]"
     ]
    },
    {
     "name": "stdout",
     "output_type": "stream",
     "text": [
      "结 合 滑 动 窗 口 与 模 糊 互 信 息 的 多 标 记 流 特 征 选 择\n",
      "结 合 滑 动 窗 口 与 模 糊 互 信 息 的 多 标 记 流 特 征 选 择 算 法\n",
      "特征选择是处理高维度问题的一种有效方法,而传统的大部分算法都基于静态的特征空间.但是有些问题其特征空间和标记空间均呈现增量或动态的特点,传统的特征选择算法不再适用.针对这一问题,结合滑动窗口机制,本文提出了结合滑动窗口与模糊互信息的多标记流特征选择;同时,为了减弱互信息对特征重要程度的判断,对模糊互信息进行正则化处理,并通过正则化重新优化特征重要度目标函数.提出的算法在多标记数据集上进行了大量测试,实验结果和统计假设检验说明本文算法是有效的.\n",
      "\n"
     ]
    },
    {
     "name": "stderr",
     "output_type": "stream",
     "text": [
      "\r",
      " 98%|█████████▊| 978/1000 [06:51<00:08,  2.45it/s]"
     ]
    },
    {
     "name": "stdout",
     "output_type": "stream",
     "text": [
      "一 种 s p a r k   g r a p h x 框 架 下 的 关 键 词 抽 取 方 法\n",
      "一 种 s p a r k   g r a p h x 框 架 下 的 关 键 词 抽 取 方 法\n",
      "TextRank算法根据文本词语的位置关系构造图,应用图排序的算法计算出词语的权重,在计算过程中需要进行大量的迭代运算,在数据规模较大的时候,计算时间尤为可观.针对此问题,提出了一种基于Spark GraphX的关键词抽取方法,利用Spark GarpX所提供的分布式计算的图框架,将文本图数据分布式存储在不同的节点上,高效地实现了文本关键词的抽取.实验表明,本文中提出的基于Spark GraphX的关键词抽取方法,不仅计算时间短,抽取的关键词与人工标注的结果非常接近,具有一定的合理性.\n",
      "\n"
     ]
    },
    {
     "name": "stderr",
     "output_type": "stream",
     "text": [
      "\r",
      " 98%|█████████▊| 979/1000 [06:52<00:08,  2.46it/s]"
     ]
    },
    {
     "name": "stdout",
     "output_type": "stream",
     "text": [
      "l i b s e e k e r : 参 数 自 整 定 的 安 卓 应 用 第 三 方 库 检 测 方 法\n",
      "一 种 能 进 行 参 数 自 整 定 的 第 三 方 库 检 测 工 具\n",
      "第三方库被安卓应用广泛地用来增加程序功能、方便应用开发,但第三方库的使用也给应用带来新的安全隐患.而现有第三方库检测技术的可靠性与精确性存在不足,工具的参数阈值依赖于人工经验确定,且容易受到混淆技术的影响.因此,本文提出一种能进行参数自整定的第三方库检测工具LibSeeker,它基于函数特征向量和与代码无关的函数签名哈希,结合包的层级信息,实现第三方库的匹配与相似度计算,同时,它使用正交表和UCB算法简化参数自整定中的大量遍历,通过相对较少的测试次数,达到挑选出最优参数向量的效果.我们采用了5万多样本进行参数整定与第三方库检测实验,在整定出的参数阈值设定下,LibSeeker的准确率和召回率能够达到99. 82%和95. 77%.\n",
      "\n"
     ]
    },
    {
     "name": "stderr",
     "output_type": "stream",
     "text": [
      "\r",
      " 98%|█████████▊| 980/1000 [06:52<00:08,  2.39it/s]"
     ]
    },
    {
     "name": "stdout",
     "output_type": "stream",
     "text": [
      "基 于 差 分 隐 私 的 匿 名 组 l b s 轨 迹 隐 私 保 护 模 型\n",
      "基 于 噪 声 匿 名 思 想 的 l b s 轨 迹 隐 私 保 护\n",
      "随着LBS应用的广泛使用,用户对LBS轨迹隐私保护的需求日益增加.针对现有的LBS轨迹隐私保护技术,以K-匿名模型为基础的传统方法难以对攻击者的背景知识做出有效估计.差分隐私算法弥补了K-匿名在该方面的缺陷,但其对隐私预算过度依赖,隐私保护的有效时长无法得到保障.提出的LBS轨迹隐私保护模型K-Differential-Privacy采用噪声匿名组的思想,克服了现有算法对隐私预算过度依赖的弊端,同时,通过用户轨迹划分定位思想保证了用户的服务质量.相关实验证实,与以往的轨迹隐私保护模型相比,所提出的模型在保证LBS用户服务质量的同时,也提高了用户的隐私保护程度.\n",
      "\n"
     ]
    },
    {
     "name": "stderr",
     "output_type": "stream",
     "text": [
      "\r",
      " 98%|█████████▊| 981/1000 [06:52<00:07,  2.53it/s]"
     ]
    },
    {
     "name": "stdout",
     "output_type": "stream",
     "text": [
      "利 用 o p e n c l 设 计 并 优 化 f p g a 上 的 全 连 接 神 经 网 络\n",
      "基 于 i n t e l   f p g a 的 全 连 接 神 经 网 络 加 速\n",
      "随着深度学习神经网络的发展,FPGA上的神经网络开发获得了广泛关注.本文利用Intel FPGA提供的OpenCL SDK,在FPGA板卡上设计并实现了完整的全连接神经网络的前向模型,并针对基准系统中的存储瓶颈,通过分组划分、数据复用、优化激活函数、单指令多数据流、浮点数半精化等策略进行优化,平衡了系统中的资源占用情况,扩大了电路规模,提升了系统性能;优化后的版本与基准版本相比,得到了2. 19x的加速.优化后,系统的主频达到380MHz,RAM占用率达到94%,DSP占用率达到42%.\n",
      "\n"
     ]
    },
    {
     "name": "stderr",
     "output_type": "stream",
     "text": [
      "\r",
      " 98%|█████████▊| 982/1000 [06:53<00:07,  2.51it/s]"
     ]
    },
    {
     "name": "stdout",
     "output_type": "stream",
     "text": [
      "一 种 基 于 栈 区 内 存 模 型 的 c 程 序 别 名 判 断 算 法\n",
      "基 于 h o a r 逻 辑 的 栈 区 内 存 建 模 与 实 现\n",
      "C语言中的指针导致C程序中会出现表达式别名的情况.在基于演绎推理的程序验证中,使用Hoare逻辑的赋值规则前必须消除断言中的别名.别名增加了程序验证的难度.本文根据C语言的语义提出了一种栈区内存模型,可以精确地跟踪栈区的多种类型的表达式,包括取地址、多级解引用、指针关系运算、结构体和数组等.基于上述内存模型,本文提出了一种判断别名的算法,使得验证工具在使用Hoare逻辑的赋值公理之前可以准确的消除断言中的别名.目前该模型已经在一个名为Safe-C验证器的程序验证工具中实现,并且成功验证了多例经典程序.\n",
      "\n"
     ]
    },
    {
     "name": "stderr",
     "output_type": "stream",
     "text": [
      "\r",
      " 98%|█████████▊| 983/1000 [06:53<00:06,  2.49it/s]"
     ]
    },
    {
     "name": "stdout",
     "output_type": "stream",
     "text": [
      "复 杂 内 核 数 据 结 构 的 形 式 化 描 述 和 验 证\n",
      "基 于 结 构 拆 分 和 内 存 分 离 的 内 核 形 式 化 定 义\n",
      "对数据结构进行形式化描述是内核验证的重要组成部分,但是在实际的验证工作中,内核经常会使用一些不规则的数据结构,而对不规则数据结构的形式化定义仍存在诸多困难.针对内核中的复杂数据结构,本文提出使用结构拆分以及形状和内存分离的方法来形式化定义内核中的不规则数据结构,并运用该方法成功刻画了某航天操作系统内核的进程管理数据结构,最终成功验证了该内核中相关API的代码.相关的代码验证工作在定理证明工具Coq中完成.\n",
      "\n"
     ]
    },
    {
     "name": "stderr",
     "output_type": "stream",
     "text": [
      "\r",
      " 98%|█████████▊| 984/1000 [06:54<00:06,  2.52it/s]"
     ]
    },
    {
     "name": "stdout",
     "output_type": "stream",
     "text": [
      "j a v a 密 码 学 a p i 注 解 及 模 板 生 成 框 架\n",
      "基 于 注 解 的 j a v a 密 码 学 a p i 安 全 性 增 强 方 法\n",
      "随着Java软件功能日益复杂,开发者越来越多地依赖于密码学函数来保护应用数据.虽然密码学算法功能非常强大,但是设计复杂的Java密码学API经常被开发者误用,引入本可避免的安全漏洞.为了强制规范开发者的行为,本文提出基于注解的Java密码学API安全性增强方法,实现SecureCrypto框架,框架能够根据用户参数以及应用场景的模板自动生成加解密代码,同时对开发者代码进行校验,在编译阶段发现并报出错误.此外为了简化注解开发,本文还实现了一个基于Java代码的模板生成器,安全专家能够快速准确定义新场景以完善SecureCrypto.实验调查发现,注解确实能帮助开发者高效编写安全可靠代码,模板生成器是安全专家拓展注解使用场景的必要工具.\n",
      "\n"
     ]
    },
    {
     "name": "stderr",
     "output_type": "stream",
     "text": [
      "\r",
      " 98%|█████████▊| 985/1000 [06:54<00:05,  2.58it/s]"
     ]
    },
    {
     "name": "stdout",
     "output_type": "stream",
     "text": [
      "一 种 基 于 多 核 d s p 的 t u r b o 译 码 实 现 方 法\n",
      "一 种 基 于 多 核 d s p 的 t u r b o 译 码 实 现 方 法\n",
      "随着无线通信系统传输速率的不断提高,采用单核DSP进行数字基带处理的系统已经不能满足日益增加的复杂度及实时性要求.基于LTE-A系统的Turbo译码原理,设计了一种Turbo译码在TMS320C6670多核DSP中的实现方法,并对处理结果进行验证,比较分析了同平台下的多核协处理器与单核处理器的运行效率.测试结果表明,所提出的TCP3d译码实现方法的处理性能远高于传统的单核DSP.此方法具有较高的工程应用价值,并对其他多核DSP的此类应用开发具有一定的参考意义.\n",
      "\n"
     ]
    },
    {
     "name": "stderr",
     "output_type": "stream",
     "text": [
      "\r",
      " 99%|█████████▊| 986/1000 [06:55<00:05,  2.38it/s]"
     ]
    },
    {
     "name": "stdout",
     "output_type": "stream",
     "text": [
      "一 种 列 控 系 统 安 全 关 键 软 件 测 试 用 例 的 实 例 化 方 法\n",
      "列 控 系 统 安 全 关 键 软 件 测 试 用 例 的 实 例 化 方 法\n",
      "针对基于模型的抽象测试用例在列控安全关键软件测试中的可执行问题,从软件DFSM模型抽象测试用例实例化为可执行测试用例的过程入手,提出了输入空间划分和逻辑覆盖相结合的抽象测试用例自动实例化方法.首先,根据模型测试路径中各迁移条件的逻辑表达式,生成满足逻辑覆盖准则的子句逻辑值组合;其次,对表达式中的输入变量进行输入空间划分,得到各变量的取值集合;然后,以子句的逻辑值组合为约束条件,计算取值集合中满足条件的取值子集将其作为测试输入,并将各变量的测试输入子集进行组合,以此生成可执行的测试用例.最后,以CTCS-0/CTCS-2车载设备手动等级转换功能为研究对象,验证该方法的可行性.\n",
      "\n"
     ]
    },
    {
     "name": "stderr",
     "output_type": "stream",
     "text": [
      "\r",
      " 99%|█████████▊| 987/1000 [06:55<00:06,  2.14it/s]"
     ]
    },
    {
     "name": "stdout",
     "output_type": "stream",
     "text": [
      "结 合 词 性 、 位 置 和 单 词 情 感 的 内 存 网 络 的 方 面 情 感 分 析\n",
      "结 合 词 性 和 位 置 信 息 的 内 存 网 路 的 上 下 文 情 感 分 析\n",
      "在基于方面的情感分析中,上下文中不同单词对于推测方面情感的重要性是不同的,关注机制是非常适合计算每个单词的重要性的,但现有的关注机制没有利用单词词性,单词和方面间的位置信息,这些信息能够帮助计算每个单词的重要性,另外单词情感信息在推测方面情感时也非常重要.所以本文在端对端内存网路(ETEMN)的基础上提出了一种结合词性,位置和单词情感的内存网络来进行基于方面的情感分析,该网路首先在词向量的基础上融入单词情感信息,然后利用该网络中提出的结合词性、位置信息的CNN关注机制(POSP-CNNAM)分析上下文中每个单词在推测方面情感的重要性并生成上下文向量,最后利用上下文向量进行情感分析.通过在2个来自于SemEval 2014任务4的数据集上进行对比实验,结果表明POSP-CNNAM能够有效的分析上下文中每个单词在推测方面情感的重要性,并且在基于方面的情感分析中和LSTM、TD-LSTM、SVM、ETEM N相比,本文提出的内存网路能够获得更好的结果.\n",
      "\n"
     ]
    },
    {
     "name": "stderr",
     "output_type": "stream",
     "text": [
      "\r",
      " 99%|█████████▉| 988/1000 [06:56<00:05,  2.09it/s]"
     ]
    },
    {
     "name": "stdout",
     "output_type": "stream",
     "text": [
      "高 维 空 间 近 邻 检 索 的 双 层 组 合 量 化 g p u 加 速 算 法\n",
      "基 于 g p u 优 化 的 高 维 数 据 近 似 近 邻 检 索 算 法 研 究\n",
      "在大规模视频、图像、文本检索等许多实际应用中,高维空间内海量数据的索引及近邻检索一直是难点和关键问题之一.传统的K-D树等树形索引方法在高维空间中容易陷入“维度灾难”,而主流的哈希散列方法(如局部敏感哈希)空间复杂度较高,在大规模数据下难以应用.本文总结了近年来基于向量量化的检索算法的相关研究,提出了一种基于GPU优化的高维数据近似近邻检索算法,在组合量化算法的基础上融合双层索引树结构与局部子空间最优化思想,在提高算法准确率的同时针对GPU模型优化算法,极大改善了检索性能,在单张GPU上实现了十亿量级高维数据的高效近似近邻检索.\n",
      "\n"
     ]
    },
    {
     "name": "stderr",
     "output_type": "stream",
     "text": [
      "\r",
      " 99%|█████████▉| 989/1000 [06:56<00:05,  1.85it/s]"
     ]
    },
    {
     "name": "stdout",
     "output_type": "stream",
     "text": [
      "一 种 基 于 模 运 算 的 小 波 系 数 调 整 水 印 算 法\n",
      "基 于 奇 异 值 分 解 和 模 运 算 的 s v d 小 波 域 图 像 水 印 算 法\n",
      "基于小波域的图像数字水印技术是一种相对较新的数据保护认证技术,有着不可见性和鲁棒性均较好的特点,因此在图像数据认证应用领域内引起了广泛的关注.然而基于小波域的数字水印算法具有对缩放和旋转等攻击手段较敏感的缺点,导致其无法正确提取出水印图像.为了有效的增强水印算法对于缩放和旋转攻击的鲁棒性,并提高图像的质量,本文结合奇异值分解(SVD)及模运算等方法,提出一种改进的SVD小波域图像水印算法.首先根据载体图像携带信息的不同特征,选择像素点动态范围变化较小的平滑区进行二级小波变换.由于奇异值的稳定性、伸缩不变性,旋转不变性等特点,可以弥补小波域水印算法的不足,取二级小波变换的中频子带的小波系数进行奇异值分解,并利用模运算的方法来对奇异值进行修改,实现水印的嵌入,并减小了水印对原图像的扰动.由实验数据可知,本文所提出的算法不仅图像的质量更好,且对JPEG压缩、剪切、旋转等常见的图像攻击手段的鲁棒性均较强.\n",
      "\n"
     ]
    },
    {
     "name": "stderr",
     "output_type": "stream",
     "text": [
      "\r",
      " 99%|█████████▉| 990/1000 [06:57<00:04,  2.12it/s]"
     ]
    },
    {
     "name": "stdout",
     "output_type": "stream",
     "text": [
      "基 于 增 强 学 习 的 自 适 应 动 态 防 御 机 制\n",
      "基 于 增 强 学 习 的 自 适 应 防 御 技 术 研 究\n",
      "动态防御技术通过持续地改变系统配置以构建动态多样性特征,增加攻击者的攻击难度,而其中的安全性与性能冲突问题尚未解决.针对SDN控制器主动防御过程中的防御代价与收益平衡问题,提出一种基于增强学习的自适应防御机制,利用异构冗余控制器架构判决反馈信息,通过量化的安全收益与防御代价提高防御策略的灵活性,实现无监督地适应性防御策略确定.仿真基于网络攻击数据集,从安全性以及防御效率等方面对比分析了不同偏向下的防御性能,验证了自适应防御机制对动态攻击者的防御能力.\n",
      "\n"
     ]
    },
    {
     "name": "stderr",
     "output_type": "stream",
     "text": [
      "\r",
      " 99%|█████████▉| 991/1000 [06:57<00:04,  2.20it/s]"
     ]
    },
    {
     "name": "stdout",
     "output_type": "stream",
     "text": [
      "移 动 端 人 脸 图 像 无 参 考 质 量 快 速 评 估 方 法\n",
      "移 动 端 人 脸 图 像 无 参 考 质 量 快 速 评 估 方 法\n",
      "人工智能系统能够准确进行人脸识别的重要前提是,采集到的人脸图像数据足够清晰.正确的对人脸图像质量进行评估,能够为后期的人脸识别提供指导性的意见.本文针对移动端进行人脸识别时,由于人脸采集过程中常常会出现人脸图像模糊、姿态不正、昏暗等情况,从而导致人脸识别错误的问题,提出了一种基于深度学习的移动端人脸图像无参考质量评估方法.由于目前没有公开的用于评估人脸图像质量的数据集,本文采用自建数据集的形式进行实验.首先对数据集中的人脸图像进行局部归一化预处理,然后利用该数据集通过迁移学习的方式对轻量级网络MobileNet重新训练,并将训练得到的最终模型移植到手机上.为了证明本文提出算法的优异性,对算法准确率、运行时间和CPU占用率进行测量并和现有的优异算法DIIVINE和BRISQUE进行比较,实验结果证明本文提出的方法能够快速准确的对人脸图像进行评估同时CPU占用率较低,本文提出的方法有重要的应用价值.\n",
      "\n"
     ]
    },
    {
     "name": "stderr",
     "output_type": "stream",
     "text": [
      "\r",
      " 99%|█████████▉| 992/1000 [06:57<00:03,  2.27it/s]"
     ]
    },
    {
     "name": "stdout",
     "output_type": "stream",
     "text": [
      "基 于 最 优 k 均 值 聚 类 的 时 空 动 态 背 景 模 型\n",
      "基 于 最 优 k 均 值 聚 类 的 时 空 背 景 模 型\n",
      "为了还原动态背景像素值的真实分布,本文提出了基于最优k均值聚类的时空背景模型.首先采集每个像素点不同时刻的相邻像素信息,然后对采集到的所有样本像素值进行多次k均值聚类,并计算对应的轮廓系数找到最优k值,建立初始背景概率模型.由于最优k值反映了数据真实分布的个数,其值越大说明动态背景变化越快,因此最后根据最优k值计算更新速率对背景模型进行实时更新.本文在CDnet2014提供的动态背景数据集上进行了相应的实验,实验结果表明本文提出的模型对运动目标检测的效果要优于ViBe、EFIC、AAPSA等目前已有的算法.\n",
      "\n"
     ]
    },
    {
     "name": "stderr",
     "output_type": "stream",
     "text": [
      "\r",
      " 99%|█████████▉| 993/1000 [06:58<00:03,  2.23it/s]"
     ]
    },
    {
     "name": "stdout",
     "output_type": "stream",
     "text": [
      "基 于 特 征 脸 - 灰 度 变 换 融 合 的 人 脸 识 别 方 法\n",
      "结 合 特 征 脸 - 灰 度 变 化 与 灰 度 变 化 预 处 理 方 法\n",
      "为了解决神经网络在人脸识别过程中复杂度高、运算量大、难以向嵌入式设备应用迁移问题,提出一种通过特征脸进行特征消除、通过灰度变换进行特征增强的人脸图像处理方法.该方法对采集的图片进行裁剪、校正处理,通过Dlib模型使人脸关键点处于相同坐标,进而将对正的图像通过特征脸-灰度变化预处理方法获得新的特征表达,将该表达矩阵送入浅层网络测试识别性能并探究特征脸数目对准确率的影响.实验表明,该方法在FERET与ORL数据集的识别准确率均明显提高,并且在浅层网络上依然保持较高的准确率,分别达到95. 1%,96. 14%.\n",
      "\n"
     ]
    },
    {
     "name": "stderr",
     "output_type": "stream",
     "text": [
      "\r",
      " 99%|█████████▉| 994/1000 [06:58<00:02,  2.22it/s]"
     ]
    },
    {
     "name": "stdout",
     "output_type": "stream",
     "text": [
      "一 种 结 合 显 著 性 检 测 的 肖 像 照 片 自 动 背 景 虚 化 算 法\n",
      "基 于 显 著 性 检 测 的 肖 像 照 片 自 动 背 景 虚 化 算 法\n",
      "针对普通单一摄像头的智能手机无法直接简单地处理得到背景虚化效果图像的问题,本文提出基于显著性检测的肖像照片自动背景虚化算法.根据肖像照片中人像的空间位置特点,本文引入背景超像素块优化策略到显著性检测算法中,提高了显著性检测算法对人像中前景区域的检测效果.基于显著性检测结果,本文应用超像素尺度的GrabCut算法快速地从背景区域中分离出人像区域.基于显著性检测以及分割结果,一种快速的引导滤波被应用于分别对背景区域和前景人像区域进行模糊和细节增强,从而得到背景虚化后的肖像照片.实验结果表明,该方法能够完整地检测并快速地分割出人像区域,这使背景虚化效果更接近具有大光圈的数码单反相机拍摄得到的背景虚化效果.\n",
      "\n"
     ]
    },
    {
     "name": "stderr",
     "output_type": "stream",
     "text": [
      "\r",
      "100%|█████████▉| 995/1000 [06:59<00:02,  2.33it/s]"
     ]
    },
    {
     "name": "stdout",
     "output_type": "stream",
     "text": [
      "结 合 目 标 估 计 的 自 适 应 压 缩 跟 踪\n",
      "结 合 目 标 估 计 的 自 适 应 压 缩 跟 踪 算 法\n",
      "传统的压缩跟踪算法使用不考虑目标位移的搜素机制和固定大小的跟踪窗口跟踪目标,且每帧更新分类器,容易造成目标的漂移和丢失.该文提出了结合目标估计的自适应压缩跟踪算法,该算法采用ORB算法将先前帧和当前帧的目标区域进行特征点匹配,通过建立关系模型实现候选目标的估计定位,从而解决了搜索区域受目标运动速度影响的问题;其次,提出了基于匹配点间方差的尺度自适应方法,实现了跟踪窗口的自适应变化;最后,引入遮挡判断因子,并结合匹配点的数量调整分类器的更新策略,实现抗遮挡的处理.实验结果表明:该算法具有较高的重叠率和成功率,对目标跟踪中的相机晃动、快速运动、尺度变化、遮挡等因素具有较强的抗干扰能力,且在多个测试视频上平均帧率为32帧/s,能满足实时性的要求,较好的解决了传统压缩跟踪算法的缺陷.\n",
      "\n"
     ]
    },
    {
     "name": "stderr",
     "output_type": "stream",
     "text": [
      "\r",
      "100%|█████████▉| 996/1000 [06:59<00:01,  2.35it/s]"
     ]
    },
    {
     "name": "stdout",
     "output_type": "stream",
     "text": [
      "莱 斯 校 正 的 n l m 算 法 在 扩 散 加 权 图 像 中 的 应 用\n",
      "扩 散 张 量 图 像 的 鲁 斯 校 正 算 法\n",
      "扩散张量成像技术是一种非侵入活体获取脑白质结构的技术,其广泛应用于人体大脑的神经纤维跟踪.扩散张量图像是由扩散加权图像计算得到的,而扩散加权图像对噪声较为敏感,从而影响后续处理.扩散加权图像具有两个特点,一是图像的自相似性程度高,纹理和结构具有重复出现的特性且细节纹理较多,二是图像中所含噪声为莱斯噪声.基于这两个特点,我们提出了莱斯校正的非局部均值滤波算法.并将此算法应用于扩散加权图像的降噪中.算法首先针对图像中的莱斯噪声进行莱斯校正,然后再对校正后的图像使用非局部均值滤波器对其进行降噪.为了验证本文算法,通过实验将本文算法与传统的降噪算法进行比较.实验结果表明,本文算法能够更有效的减少扩散加权图像中的噪声,更好的保存了图像的纹理细节,提高了数据准确度.\n",
      "\n"
     ]
    },
    {
     "name": "stderr",
     "output_type": "stream",
     "text": [
      "\r",
      "100%|█████████▉| 997/1000 [07:00<00:01,  2.40it/s]"
     ]
    },
    {
     "name": "stdout",
     "output_type": "stream",
     "text": [
      "神 经 网 络 声 码 器 的 话 者 无 关 与 自 适 应 训 练 方 法 研 究\n",
      "基 于 神 经 网 络 的 神 经 网 络 声 码 器 训 练 方 法\n",
      "近年来出现的基于WaveNet的神经网络声码器可以取得较高的重构语音质量,但其采用的话者相关模型训练方法对于目标发音人语音数据量依赖较大.因此,本文研究目标发音人语音数据量受限情况下的神经网络声码器训练方法.首先利用多发音人数据训练话者无关声码器模型,进一步利用少量目标发音人数据对话者无关模型进行自适应更新,以得到目标发音人的神经网络声码器模型.本文实验对比了自适应训练中局部更新与全局更新两种策略,以及自适应与话者相关两种训练方法.实验表明,本文方法构建的神经网络声码器可以取得优于STRAIGHT声码器的重构语音质量,在目标发音人数据量受限的情况下,该方法相对话者相关训练也可以取得更好的客观和主观性能表现.\n",
      "\n"
     ]
    },
    {
     "name": "stderr",
     "output_type": "stream",
     "text": [
      "\r",
      "100%|█████████▉| 998/1000 [07:00<00:00,  2.47it/s]"
     ]
    },
    {
     "name": "stdout",
     "output_type": "stream",
     "text": [
      "小 型 有 缆 无 人 水 下 机 器 人 控 制 系 统 设 计\n",
      "有 缆 型 无 人 水 下 机 器 人 的 控 制 系 统 设 计\n",
      "针对有缆型无人水下机器人(ROV,Remote Operated Vehicle),本文从控制算法、传感器数据采集、任务调度方面设计了一种控制系统.首先,设计了模糊自适应串级PID控制器用于ROV的运动与姿态控制,弥补了传统控制算法的不足,控制性能得到提高.其次,采用分布式子系统采集处理传感器数据,提高了传感数据更新速率.最后,在主微控制器(MCU,Micro Con-trol Unit)中采用嵌入式实时操作系统FreeRTOS进行任务调度,系统的实时性得到增强.为了验证该控制系统方案的可行性,搭建实验环境并进行了实验,实验结果表明该系统可以对ROV进行良好的控制.\n",
      "\n"
     ]
    },
    {
     "name": "stderr",
     "output_type": "stream",
     "text": [
      "\r",
      "100%|█████████▉| 999/1000 [07:00<00:00,  2.51it/s]"
     ]
    },
    {
     "name": "stdout",
     "output_type": "stream",
     "text": [
      "飞 行 器 软 轴 滚 珠 检 测 技 术 研 究\n",
      "基 于 图 像 形 态 学 的 飞 行 器 滚 珠 自 动 识 别 算 法\n",
      "为解决飞行器滚珠式软轴的滚珠检测中使用传统人工或者半自动方法带来的大误差,长耗时等缺点,对飞行器软轴滚珠检测技术进行了研究,设计了一种基于图像形态学的滚珠自动识别算法.首先在实时成像中引入窗技术以提高图像的动态范围,再针对软轴图像过长的特点设计了一次成图技术,最后通过实验比较了多种主流图像分割方法,并据此开发了适用于滚珠式软轴的基于图像形态学的滚珠自动识别算法.实验结果表明,与传统检测方法相比,使用新方法后缺漏滚珠识别率提高了8.4%,计数分析时间也缩短为原先的3. 5%,更好的满足了工业检测要求.\n",
      "\n"
     ]
    },
    {
     "name": "stderr",
     "output_type": "stream",
     "text": [
      "100%|██████████| 1000/1000 [07:01<00:00,  2.37it/s]"
     ]
    },
    {
     "name": "stdout",
     "output_type": "stream",
     "text": [
      "i - v e c t o r 聚 类 字 典 及 注 意 力 机 制 框 架 的 说 话 人 自 适 应\n",
      "一 种 基 于 i - v e c t o r 聚 类 字 典 及 注 意 力 机 制 的 自 适 应 框 架\n",
      "近些年来,语音识别任务中的说话人自适应技术在实际工程中得到广泛应用.基于i-vector的说话人自适应是其中最为重要的一种,但是提取i-vector需要用到整句话的信息,并不能用于线上的自适应.因此,本文设计了一种基于i-vector聚类字典及注意力机制的自适应框架,测试时能够在不提取i-vector和不进行二遍解码的前提下快速实现线上自适应,并且该框架具有灵活性优和可扩展性好的优点,能够方便的用于其他类型的自适应,如地域自适应和性别自适应.在Switchboard任务上,实验结果表明我们提出的框架在不同的声学模型上相对于基线均有性能提升,并且通过说话人识别任务进一步证明了该方法的合理性.\n",
      "\n",
      "{'rouge-1': 0.6745963715335307, 'rouge-2': 0.5690859850235804, 'rouge-l': 0.6541478671387893, 'bleu': 0.478420268425949}\n"
     ]
    },
    {
     "name": "stderr",
     "output_type": "stream",
     "text": [
      "\n"
     ]
    }
   ],
   "source": [
    "# 加载模型，评测验证集\n",
    "\n",
    "model.load_weights('./best_model.weights')\n",
    "\n",
    "evaluator = Evaluator()\n",
    "metrics = evaluator.evaluate(valid_data)  # 评测模型\n",
    "print(metrics)"
   ]
  },
  {
   "cell_type": "code",
   "execution_count": null,
   "metadata": {},
   "outputs": [],
   "source": []
  }
 ],
 "metadata": {
  "kernelspec": {
   "display_name": "Python 3",
   "language": "python",
   "name": "python3"
  },
  "language_info": {
   "codemirror_mode": {
    "name": "ipython",
    "version": 3
   },
   "file_extension": ".py",
   "mimetype": "text/x-python",
   "name": "python",
   "nbconvert_exporter": "python",
   "pygments_lexer": "ipython3",
   "version": "3.6.12"
  }
 },
 "nbformat": 4,
 "nbformat_minor": 4
}
